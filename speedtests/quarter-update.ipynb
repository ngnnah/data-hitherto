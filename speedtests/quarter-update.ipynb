{
 "cells": [
  {
   "cell_type": "code",
   "execution_count": null,
   "id": "182244df-0847-420e-8b7b-483ab890fed1",
   "metadata": {},
   "outputs": [],
   "source": [
    "import geopandas as gp\n",
    "import pandas as pd\n",
    "import numpy as np\n",
    "from datetime import datetime\n",
    "\n",
    "from tobler.area_weighted import area_interpolate\n",
    "\n",
    "from sklearn import metrics\n",
    "from sklearn.preprocessing import StandardScaler\n",
    "from sklearn.model_selection import train_test_split \n",
    "from sklearn.ensemble import RandomForestRegressor\n",
    "\n",
    "from elasticsearch import Elasticsearch, helpers\n",
    "ES_DEV = Elasticsearch(['YOUR ES HOST'], http_auth=('ES LOGIN', 'ES PASS'), timeout=30)\n",
    "%load_ext autotime\n",
    "\n",
    "SF52 = { '01': 'AL', '02': 'AK', '04': 'AZ', '05': 'AR', \n",
    "                      '06': 'CA', '08': 'CO', '09': 'CT', '10': 'DE', \n",
    "                      '11': 'DC', '12': 'FL', '13': 'GA', '15': 'HI', \n",
    "                      '16': 'ID', '17': 'IL', '18': 'IN', '19': 'IA', \n",
    "                      '20': 'KS', '21': 'KY', '22': 'LA', '23': 'ME', \n",
    "                      '24': 'MD', '25': 'MA', '26': 'MI', '27': 'MN', \n",
    "                      '28': 'MS', '29': 'MO', '30': 'MT', '31': 'NE', \n",
    "                      '32': 'NV', '33': 'NH', '34': 'NJ', '35': 'NM', \n",
    "                      '36': 'NY', '37': 'NC', '38': 'ND', '39': 'OH', \n",
    "                      '40': 'OK', '41': 'OR', '42': 'PA', '44': 'RI', \n",
    "                      '45': 'SC', '46': 'SD', '47': 'TN', '48': 'TX', \n",
    "                      '49': 'UT', '50': 'VT', '51': 'VA', '53': 'WA', \n",
    "                      '54': 'WV', '55': 'WI', '56': 'WY', '72': 'PR'}\n",
    "\n",
    "SF52R = {v: k for (k,v) in SF52.items()}\n",
    "\n",
    "STATE_LENGTH, COUNTY_LENGTH, CT_LENGTH, CBG_LENGTH, CB_LENGTH = 2, 5, 11, 12, 15\n",
    "# EPSG:4269 Geodetic coordinate system for North America - onshore and offshore\n",
    "# EPSG:4326 - World Geodetic System 1984, used in GPS\n",
    "CRS_TIGER, CRS_OOKLA = 4269, 4326"
   ]
  },
  {
   "cell_type": "markdown",
   "id": "c6737112-c7e0-4a21-a1ed-7462de69f10d",
   "metadata": {},
   "source": [
    "#### CREATE/update speed_test INDEX"
   ]
  },
  {
   "cell_type": "code",
   "execution_count": 9,
   "id": "b0a15778-6758-4c8f-a7fd-94668ad4a735",
   "metadata": {},
   "outputs": [
    {
     "name": "stdout",
     "output_type": "stream",
     "text": [
      "time: 654 µs (started: 2022-03-23 19:14:34 -04:00)\n"
     ]
    }
   ],
   "source": [
    "def upload_ES_df(input_df, index_name, idCol = 'GEOID', es_instance = ES_DEV):\n",
    "    # actiondf: details all actions, contains 5 cols: _id, doc, _index, _op_type, doc_as_upsert\n",
    "    # use idCol as document _id\n",
    "    actiondf = input_df[[idCol]].copy().rename(columns={idCol:'_id'})\n",
    "    # a dict of all the data to be updated; does contain idCol which will be uploaded like a regular column\n",
    "    actiondf['doc'] = input_df.to_dict('records')  \n",
    "    del input_df\n",
    "    # Some constants\n",
    "    actiondf['_index'] = index_name\n",
    "    actiondf['_op_type'] = 'update'\n",
    "    actiondf['doc_as_upsert'] = True\n",
    "    \n",
    "    print(f\"Start uploading {len(actiondf)} records to {index_name}\")\n",
    "    helpers.bulk(es_instance, actiondf.to_dict('records'))\n",
    "    print(f\"Completed uploading {len(actiondf)} records to {index_name}\")"
   ]
  },
  {
   "cell_type": "markdown",
   "id": "86211ee2-6844-4e13-a0e5-c278238b69a2",
   "metadata": {
    "tags": []
   },
   "source": [
    "# NEW time-series speed_test index"
   ]
  },
  {
   "cell_type": "markdown",
   "id": "6fe8d08a-d9e3-44f9-bf2f-013b916cc37a",
   "metadata": {},
   "source": [
    "### NOTE: docs count for speed_test index = total number of census block in SF52: 11,155,486"
   ]
  },
  {
   "cell_type": "code",
   "execution_count": 24,
   "id": "dfa7ebee-e8ca-4086-8122-909b35a4ebf1",
   "metadata": {},
   "outputs": [
    {
     "name": "stdout",
     "output_type": "stream",
     "text": [
      "time: 2.11 ms (started: 2022-03-23 19:27:21 -04:00)\n"
     ]
    }
   ],
   "source": [
    "# CREATE A NEW INDEX: TIMESERIES\n",
    "def create_speed_index(es_instance, index_name):\n",
    "    create_request_body = {\n",
    "       \"settings\": {\n",
    "        \"refresh_interval\": \"1s\",\n",
    "        \"number_of_shards\": 1,\n",
    "        \"number_of_replicas\": 0\n",
    "      },\n",
    "        \"mappings\":{ \n",
    "            \"properties\":{\n",
    "                \"GEOID\"                 : { \"type\":\"text\"},\n",
    "                \"statefips\"             : { \"type\": \"keyword\" },\n",
    "            }\n",
    "        }\n",
    "    } \n",
    "\n",
    "    es_instance.indices.create(index = index_name, body = create_request_body)\n",
    "    print('created index ', index_name)\n",
    "\n",
    "# https://www.elastic.co/guide/en/elasticsearch/reference/current/tune-for-search-speed.html#map-ids-as-keyword\n",
    "# LATER: map speedCat* as keyword, would result in x2 faster in query performance\n",
    "def update_speed_index(es_instance, index_name, QUARTER='2021Q3'):\n",
    "    # null_value i.e. set 0 as default value for the field -> allow indexing and searching https://www.elastic.co/guide/en/elasticsearch/reference/current/null-value.html\n",
    "    update_request_body = {\n",
    "        \"properties\": {\n",
    "                f'{QUARTER}speedRankReadyRaw'             : { \"type\": \"keyword\" },\n",
    "                  # 13 cols\n",
    "                f'{QUARTER}numTestOokla'                  : { \"type\": \"integer\"},\n",
    "                f'{QUARTER}numDeviceOokla'                : { \"type\": \"integer\"},\n",
    "                f'{QUARTER}meanUploadMbpsOokla'           : { \"type\": \"float\" },\n",
    "                f'{QUARTER}meanDownloadMbpsOokla'         : { \"type\": \"float\" },\n",
    "                f'{QUARTER}medUploadMbpsOokla'            : { \"type\": \"float\" },\n",
    "                f'{QUARTER}medDownloadMbpsOokla'          : { \"type\": \"float\" },\n",
    "                f'{QUARTER}minUploadMbpsOokla'            : { \"type\": \"float\" },\n",
    "                f'{QUARTER}minDownloadMbpsOokla'          : { \"type\": \"float\" },\n",
    "                f'{QUARTER}maxUploadMbpsOokla'            : { \"type\": \"float\" },\n",
    "                f'{QUARTER}maxDownloadMbpsOokla'          : { \"type\": \"float\" },\n",
    "                f'{QUARTER}speedCatOokla'                 : { \"type\": \"keyword\" },\n",
    "                f'{QUARTER}speedSourceOokla'              : { \"type\": \"keyword\" },\n",
    "                f'{QUARTER}latencyOokla'                  : { \"type\": \"integer\"},\n",
    "                  # 16 cols\n",
    "                f'{QUARTER}numTestDownloadMlab'           : { \"type\": \"integer\"},\n",
    "                f'{QUARTER}numDeviceDownloadMlab'         : { \"type\": \"integer\"},\n",
    "                f'{QUARTER}numTestUploadMlab'             : { \"type\": \"integer\"},\n",
    "                f'{QUARTER}numDeviceUploadMlab'           : { \"type\": \"integer\"},\n",
    "                f'{QUARTER}meanUploadMbpsMlab'            : { \"type\": \"float\" },\n",
    "                f'{QUARTER}meanDownloadMbpsMlab'          : { \"type\": \"float\" },\n",
    "                f'{QUARTER}medUploadMbpsMlab'             : { \"type\": \"float\" },\n",
    "                f'{QUARTER}medDownloadMbpsMlab'           : { \"type\": \"float\" },\n",
    "                f'{QUARTER}minUploadMbpsMlab'             : { \"type\": \"float\" },\n",
    "                f'{QUARTER}minDownloadMbpsMlab'           : { \"type\": \"float\" },\n",
    "                f'{QUARTER}maxUploadMbpsMlab'             : { \"type\": \"float\" },\n",
    "                f'{QUARTER}maxDownloadMbpsMlab'           : { \"type\": \"float\" },\n",
    "                f'{QUARTER}speedCatMlab'                  : { \"type\": \"keyword\" },\n",
    "                f'{QUARTER}speedSourceMlab'               : { \"type\": \"keyword\" },\n",
    "                f'{QUARTER}latencyMlab'                   : { \"type\": \"integer\"},\n",
    "                f'{QUARTER}lossrateMlab'                  : { \"type\": \"float\"},\n",
    "                  # 7 cols\n",
    "                f'{QUARTER}numISPwireless'                : { \"type\": \"integer\" },\n",
    "                f'{QUARTER}numISPother'                   : { \"type\": \"integer\" },\n",
    "                f'{QUARTER}numISPfiber'                   : { \"type\": \"integer\" },\n",
    "                f'{QUARTER}MaxConsumerUp98'               : { \"type\": \"float\" },\n",
    "                f'{QUARTER}MaxConsumerDown98'             : { \"type\": \"float\" },\n",
    "                f'{QUARTER}speedCatNtia'                  : { \"type\": \"keyword\" },\n",
    "                f'{QUARTER}speedSourceNtia'                : { \"type\": \"keyword\" },\n",
    "        }\n",
    "    }\n",
    "    es_instance.indices.put_mapping(index = index_name, body = update_request_body)\n",
    "    print('updated index ', index_name)\n"
   ]
  },
  {
   "cell_type": "code",
   "execution_count": 25,
   "id": "94d4335d-a7f3-4cc5-b5ec-b78698add4ac",
   "metadata": {
    "tags": []
   },
   "outputs": [
    {
     "name": "stderr",
     "output_type": "stream",
     "text": [
      "/tmp/ipykernel_17904/3986455619.py:17: DeprecationWarning: The 'body' parameter is deprecated for the 'create' API and will be removed in a future version. Instead use API parameters directly. See https://github.com/elastic/elasticsearch-py/issues/1698 for more information\n",
      "  es_instance.indices.create(index = index_name, body = create_request_body)\n"
     ]
    },
    {
     "name": "stdout",
     "output_type": "stream",
     "text": [
      "created index  speed_test\n",
      "updated index  speed_test\n",
      "updated index  speed_test\n",
      "updated index  speed_test\n",
      "updated index  speed_test\n",
      "time: 619 ms (started: 2022-03-23 19:27:33 -04:00)\n"
     ]
    }
   ],
   "source": [
    "index_name = 'speed_test'\n",
    "# # RUN ONCE\n",
    "create_speed_index(ES_DEV, index_name)\n",
    "\n",
    "# # RUN ONCE: add new cols for current (2021Q3) quarter\n",
    "update_speed_index(ES_DEV, index_name, '2021Q1')\n",
    "update_speed_index(ES_DEV, index_name, '2021Q2')\n",
    "update_speed_index(ES_DEV, index_name, '2021Q3')\n",
    "update_speed_index(ES_DEV, index_name, '2021Q4')"
   ]
  },
  {
   "cell_type": "markdown",
   "id": "25177f14-9649-41d0-9c2b-bb92bcaafd1d",
   "metadata": {
    "tags": []
   },
   "source": [
    "### ESdown.py\n",
    "- using $ bash cmds.bash; comment out other commands as needed \n",
    "- download demographic and NTIA values from bossdata* (used for speedCatNtia and Mlab prediction)\n",
    "- NOTE: at a later time, [historical] speed values will be downloaded from speed_test index\n",
    "- save bossdata* dfs to Elasticsearch folder\n",
    "- check the log file cmds.log"
   ]
  },
  {
   "cell_type": "markdown",
   "id": "45508bbd-d886-4602-acb9-e1691f8dc0d6",
   "metadata": {},
   "source": [
    "### ookla.ipynb"
   ]
  },
  {
   "cell_type": "markdown",
   "id": "d8d9937c-eea2-4d65-9c3c-7f1976bf2ff5",
   "metadata": {},
   "source": [
    "- generate ookla tiles at state level\n",
    "- parallel run: ookla_gen_tiles.py: generate ookla speeds at CBG and CB levels\n",
    "    - read ookla_state_tiles, and remove invalid latency\n",
    "    - flooring and capping ookla values\n",
    "    - joined valid ookla tests to CBG/CB boundaries\n",
    "    - aggregate ookla tests (calculate weighted speeds, and sum up numtests and devices)   \n",
    "    - ['speedSourceOokla']\n"
   ]
  },
  {
   "cell_type": "markdown",
   "id": "446a21ec-06c2-404a-8641-390c0904b282",
   "metadata": {},
   "source": [
    "### ookla_ntia.py\n",
    "- NTIA cols: 100% imputed; compute speedCatNtia\n",
    "- Ookla cols: 100% imputed; compute speedCatOokla\n",
    "- ['speedSourceOokla'] = 'medianImputedAtCB'\n",
    "- ['speedSourceNtia'] = 'notAvailableMaxConsumer98' or 'maxConsumer98'\n",
    "- CB level data (ready for Mlab training) are saved to: f\"ookla_ntia/{QUARTER}_CB_{sf}.csv\""
   ]
  },
  {
   "cell_type": "code",
   "execution_count": 2,
   "id": "5b77bb34-baa9-4179-8115-57be17c402fe",
   "metadata": {},
   "outputs": [
    {
     "name": "stdout",
     "output_type": "stream",
     "text": [
      "208\n"
     ]
    }
   ],
   "source": [
    "# ookla_ntia folder: CB level: 4 QUARTERS * SF52 = 208 files\n",
    "! ls ookla_ntia/ | wc -l"
   ]
  },
  {
   "cell_type": "markdown",
   "id": "64379b8f-6903-420e-8cd7-983e569c95c6",
   "metadata": {},
   "source": [
    "# Last piece: MLAB\n",
    "- mlab_rolling.ipynb : handle initial datapoint: 2021Q1, as well as subsequent quarters: 2021Q2, 2021Q3, 2021Q4, etc.\n"
   ]
  },
  {
   "cell_type": "markdown",
   "id": "ea0215a2-5d8e-4213-a5f4-b0d30fdee2a0",
   "metadata": {},
   "source": [
    "#### COMPARE: new speedCatO/M (with latency factor) with the old\n",
    "- per Yuan request: compare new 2021Q4 speedCat with old bossdata* speedCats \n",
    "    - download old bossdata* speedCats to f'Elasticsearch/old_speedCat_{index_name}.csv'\n"
   ]
  },
  {
   "cell_type": "code",
   "execution_count": 102,
   "id": "153be2f9-2540-449b-b035-862e8b76ab93",
   "metadata": {
    "collapsed": true,
    "jupyter": {
     "outputs_hidden": true
    },
    "tags": []
   },
   "outputs": [
    {
     "name": "stdout",
     "output_type": "stream",
     "text": [
      "ALERT:  01 AL (252266, 10) speedCatOokla # changed= 19 %= 0\n",
      "ALERT:  01 AL (252266, 10) speedCatMlab # changed= 11677 %= 4\n",
      "ALERT:  02 AK (45292, 10) speedCatOokla # changed= 4 %= 0\n",
      "ALERT:  02 AK (45292, 10) speedCatMlab # changed= 595 %= 1\n",
      "ALERT:  04 AZ (241666, 10) speedCatOokla # changed= 12 %= 0\n",
      "ALERT:  04 AZ (241666, 10) speedCatMlab # changed= 3093 %= 1\n",
      "ALERT:  05 AR (186211, 10) speedCatOokla # changed= 223 %= 0\n",
      "ALERT:  05 AR (186211, 10) speedCatMlab # changed= 10035 %= 5\n",
      "ALERT:  06 CA (710145, 10) speedCatOokla # changed= 72 %= 0\n",
      "ALERT:  06 CA (710145, 10) speedCatMlab # changed= 14499 %= 2\n",
      "ALERT:  08 CO (201062, 10) speedCatOokla # changed= 36 %= 0\n",
      "ALERT:  08 CO (201062, 10) speedCatMlab # changed= 4745 %= 2\n",
      "ALERT:  09 CT (67578, 10) speedCatMlab # changed= 4454 %= 6\n",
      "ALERT:  10 DE (24115, 10) speedCatMlab # changed= 985 %= 4\n",
      "ALERT:  11 DC (6507, 10) speedCatMlab # changed= 439 %= 6\n",
      "ALERT:  12 FL (484481, 10) speedCatOokla # changed= 49 %= 0\n",
      "ALERT:  12 FL (484481, 10) speedCatMlab # changed= 17999 %= 3\n",
      "ALERT:  13 GA (291086, 10) speedCatOokla # changed= 60 %= 0\n",
      "ALERT:  13 GA (291086, 10) speedCatMlab # changed= 14639 %= 5\n",
      "ALERT:  15 HI (25016, 10) speedCatMlab # changed= 208 %= 0\n",
      "ALERT:  16 ID (149842, 10) speedCatMlab # changed= 1890 %= 1\n",
      "ALERT:  17 IL (451554, 10) speedCatOokla # changed= 17 %= 0\n",
      "ALERT:  17 IL (451554, 10) speedCatMlab # changed= 13363 %= 2\n",
      "ALERT:  18 IN (267071, 10) speedCatOokla # changed= 4 %= 0\n",
      "ALERT:  18 IN (267071, 10) speedCatMlab # changed= 13776 %= 5\n",
      "ALERT:  19 IA (216007, 10) speedCatOokla # changed= 6 %= 0\n",
      "ALERT:  19 IA (216007, 10) speedCatMlab # changed= 6075 %= 2\n",
      "ALERT:  20 KS (238600, 10) speedCatMlab # changed= 6614 %= 2\n",
      "ALERT:  21 KY (161672, 10) speedCatOokla # changed= 10 %= 0\n",
      "ALERT:  21 KY (161672, 10) speedCatMlab # changed= 8953 %= 5\n",
      "ALERT:  22 LA (204447, 10) speedCatOokla # changed= 2 %= 0\n",
      "ALERT:  22 LA (204447, 10) speedCatMlab # changed= 9792 %= 4\n",
      "ALERT:  23 ME (69518, 10) speedCatOokla # changed= 3 %= 0\n",
      "ALERT:  23 ME (69518, 10) speedCatMlab # changed= 2674 %= 3\n",
      "ALERT:  24 MD (145247, 10) speedCatOokla # changed= 8 %= 0\n",
      "ALERT:  24 MD (145247, 10) speedCatMlab # changed= 8116 %= 5\n",
      "ALERT:  25 MA (157508, 10) speedCatOokla # changed= 13 %= 0\n",
      "ALERT:  25 MA (157508, 10) speedCatMlab # changed= 9694 %= 6\n",
      "ALERT:  26 MI (329885, 10) speedCatOokla # changed= 5 %= 0\n",
      "ALERT:  26 MI (329885, 10) speedCatMlab # changed= 8600 %= 2\n",
      "ALERT:  27 MN (259777, 10) speedCatOokla # changed= 10 %= 0\n",
      "ALERT:  27 MN (259777, 10) speedCatMlab # changed= 5998 %= 2\n",
      "ALERT:  28 MS (171778, 10) speedCatOokla # changed= 25 %= 0\n",
      "ALERT:  28 MS (171778, 10) speedCatMlab # changed= 7674 %= 4\n",
      "ALERT:  29 MO (343565, 10) speedCatOokla # changed= 32 %= 0\n",
      "ALERT:  29 MO (343565, 10) speedCatMlab # changed= 15792 %= 4\n",
      "ALERT:  30 MT (132288, 10) speedCatOokla # changed= 1 %= 0\n",
      "ALERT:  30 MT (132288, 10) speedCatMlab # changed= 2840 %= 2\n",
      "ALERT:  31 NE (193352, 10) speedCatOokla # changed= 330 %= 0\n",
      "ALERT:  31 NE (193352, 10) speedCatMlab # changed= 5135 %= 2\n",
      "ALERT:  32 NV (84538, 10) speedCatOokla # changed= 2 %= 0\n",
      "ALERT:  32 NV (84538, 10) speedCatMlab # changed= 231 %= 0\n",
      "ALERT:  33 NH (48837, 10) speedCatOokla # changed= 18 %= 0\n",
      "ALERT:  33 NH (48837, 10) speedCatMlab # changed= 2714 %= 5\n",
      "ALERT:  34 NJ (169588, 10) speedCatOokla # changed= 1 %= 0\n",
      "ALERT:  34 NJ (169588, 10) speedCatMlab # changed= 9197 %= 5\n",
      "ALERT:  35 NM (168609, 10) speedCatOokla # changed= 3 %= 0\n",
      "ALERT:  35 NM (168609, 10) speedCatMlab # changed= 2636 %= 1\n",
      "ALERT:  36 NY (350169, 10) speedCatOokla # changed= 11 %= 0\n",
      "ALERT:  36 NY (350169, 10) speedCatMlab # changed= 14284 %= 4\n",
      "ALERT:  37 NC (288987, 10) speedCatOokla # changed= 24 %= 0\n",
      "ALERT:  37 NC (288987, 10) speedCatMlab # changed= 25854 %= 8\n",
      "ALERT:  38 ND (133769, 10) speedCatOokla # changed= 955 %= 0\n",
      "ALERT:  38 ND (133769, 10) speedCatMlab # changed= 2978 %= 2\n",
      "ALERT:  39 OH (365344, 10) speedCatOokla # changed= 10 %= 0\n",
      "ALERT:  39 OH (365344, 10) speedCatMlab # changed= 21176 %= 5\n",
      "ALERT:  40 OK (269118, 10) speedCatOokla # changed= 9 %= 0\n",
      "ALERT:  40 OK (269118, 10) speedCatMlab # changed= 5350 %= 1\n",
      "ALERT:  41 OR (196621, 10) speedCatOokla # changed= 3 %= 0\n",
      "ALERT:  41 OR (196621, 10) speedCatMlab # changed= 3110 %= 1\n",
      "ALERT:  42 PA (421545, 10) speedCatOokla # changed= 14 %= 0\n",
      "ALERT:  42 PA (421545, 10) speedCatMlab # changed= 19288 %= 4\n",
      "ALERT:  44 RI (25181, 10) speedCatMlab # changed= 777 %= 3\n",
      "ALERT:  45 SC (181908, 10) speedCatMlab # changed= 15588 %= 8\n",
      "ALERT:  46 SD (88360, 10) speedCatOokla # changed= 1 %= 0\n",
      "ALERT:  46 SD (88360, 10) speedCatMlab # changed= 1899 %= 2\n",
      "ALERT:  47 TN (240116, 10) speedCatOokla # changed= 16 %= 0\n",
      "ALERT:  47 TN (240116, 10) speedCatMlab # changed= 14627 %= 6\n",
      "ALERT:  48 TX (914231, 10) speedCatOokla # changed= 62 %= 0\n",
      "ALERT:  48 TX (914231, 10) speedCatMlab # changed= 23734 %= 2\n",
      "ALERT:  49 UT (115406, 10) speedCatOokla # changed= 5 %= 0\n",
      "ALERT:  49 UT (115406, 10) speedCatMlab # changed= 3102 %= 2\n",
      "ALERT:  50 VT (32580, 10) speedCatMlab # changed= 1488 %= 4\n",
      "ALERT:  51 VA (285762, 10) speedCatOokla # changed= 7 %= 0\n",
      "ALERT:  51 VA (285762, 10) speedCatMlab # changed= 25190 %= 8\n",
      "ALERT:  53 WA (195574, 10) speedCatOokla # changed= 9 %= 0\n",
      "ALERT:  53 WA (195574, 10) speedCatMlab # changed= 7900 %= 4\n",
      "ALERT:  54 WV (135218, 10) speedCatOokla # changed= 6 %= 0\n",
      "ALERT:  54 WV (135218, 10) speedCatMlab # changed= 7243 %= 5\n",
      "ALERT:  55 WI (253096, 10) speedCatMlab # changed= 8798 %= 3\n",
      "ALERT:  56 WY (86204, 10) speedCatMlab # changed= 1385 %= 1\n",
      "ALERT:  72 PR (77189, 10) speedCatOokla # changed= 5 %= 0\n",
      "ALERT:  72 PR (77189, 10) speedCatMlab # changed= 13608 %= 17\n",
      "time: 47.5 s (started: 2022-04-01 13:23:08 -04:00)\n"
     ]
    }
   ],
   "source": [
    "for sf in SF52:\n",
    "# for sf in ['02', '10']:\n",
    "    index_name = f\"bossdata{sf}\"\n",
    "    df_old = pd.read_csv(f'Elasticsearch/old_speedCat_{index_name}.csv')\n",
    "    df_new = pd.read_csv(f'speed_ready_upload/2021Q4_{sf}.csv')[set(df_old)]\n",
    "    \n",
    "    for col_to_join in { \n",
    "         'speedCatMlab', # most sf: changed about 5%\n",
    "         'speedCatNtia', # remain unchanged: confirmed!\n",
    "         'speedCatOokla', # most sf: changed about 5%\n",
    "         'speedRankReadyRaw',\n",
    "         'speedSourceMlab',\n",
    "         'speedSourceNtia', # remain unchanged: confirmed!\n",
    "         'speedSourceOokla', \n",
    "                       }:\n",
    "        \n",
    "        # # should remain unchanged: confirmed!\n",
    "        # if col_to_join in {'speedCatNtia', 'speedSourceNtia'}:\n",
    "        #     joined = df_new.merge(df_old[['GEOID', col_to_join]] , on='GEOID', how='inner', suffixes=('_new', '_old'))\n",
    "        #     print(sf, SF52[sf], col_to_join, df_old.shape, df_new.shape, joined.shape)\n",
    "        #     joined[f\"{col_to_join}_equal\"] = np.where(joined[f\"{col_to_join}_old\"] == joined[f\"{col_to_join}_new\"], 1, 0)\n",
    "        #     joined[['GEOID', f\"{col_to_join}_old\", f\"{col_to_join}_new\", f\"{col_to_join}_equal\"]]\n",
    "        #     uniques = set(joined[f\"{col_to_join}_equal\"])\n",
    "        #     if uniques != {1}:\n",
    "        #         print(\"ALERT: \", sf, SF52[sf], col_to_join, \"changed\")            \n",
    "        \n",
    "        if col_to_join in {'speedCatMlab', 'speedCatOokla'}:\n",
    "            joined = df_new.merge(df_old[['GEOID', col_to_join]] , on='GEOID', how='inner', suffixes=('_new', '_old'))\n",
    "            # print(sf, SF52[sf], col_to_join, df_old.shape, df_new.shape, joined.shape)\n",
    "            # find number of rows that go from Served to Un[der]served (1,0)\n",
    "            joined[f\"{col_to_join}_served_to_unserved\"] = np.where(\n",
    "                (joined[f\"{col_to_join}_old\"] == 2) & (joined[f\"{col_to_join}_new\"] != 2), 1, 0)\n",
    "            \n",
    "            joined[['GEOID', f\"{col_to_join}_old\", f\"{col_to_join}_new\", f\"{col_to_join}_served_to_unserved\"]]\n",
    "            \n",
    "            num_changed = joined[f\"{col_to_join}_served_to_unserved\"].sum()\n",
    "            \n",
    "            if num_changed != 0:\n",
    "                change_per = int(num_changed/len(joined) *100)\n",
    "                print(\"ALERT: \", sf, SF52[sf], joined.shape, col_to_join, \"# changed=\", num_changed, \"%=\", change_per)                          \n"
   ]
  },
  {
   "cell_type": "markdown",
   "id": "01f36e1a-955d-47e1-8058-fcd5731eacd2",
   "metadata": {},
   "source": [
    "### Lastly, upload latest speeds to bossdata* (2021Q4)\n",
    "- run upload_bossdata.py inside cmds.bash"
   ]
  },
  {
   "cell_type": "code",
   "execution_count": null,
   "id": "e0480245-6e39-46c2-bdc9-ed38ba5ae79a",
   "metadata": {},
   "outputs": [],
   "source": []
  }
 ],
 "metadata": {
  "kernelspec": {
   "display_name": "Python 3 (ipykernel)",
   "language": "python",
   "name": "python3"
  },
  "language_info": {
   "codemirror_mode": {
    "name": "ipython",
    "version": 3
   },
   "file_extension": ".py",
   "mimetype": "text/x-python",
   "name": "python",
   "nbconvert_exporter": "python",
   "pygments_lexer": "ipython3",
   "version": "3.9.7"
  }
 },
 "nbformat": 4,
 "nbformat_minor": 5
}
