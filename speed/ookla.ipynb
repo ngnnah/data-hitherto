{
 "cells": [
  {
   "cell_type": "code",
   "execution_count": 3,
   "id": "9956842e-8328-4473-b167-621d958a1798",
   "metadata": {},
   "outputs": [
    {
     "name": "stderr",
     "output_type": "stream",
     "text": [
      "/home/nhat/anaconda3/envs/py39/lib/python3.9/site-packages/geopandas/_compat.py:111: UserWarning: The Shapely GEOS version (3.10.0-CAPI-1.16.0) is incompatible with the GEOS version PyGEOS was compiled with (3.10.1-CAPI-1.16.0). Conversions between both will be slow.\n",
      "  warnings.warn(\n"
     ]
    },
    {
     "name": "stdout",
     "output_type": "stream",
     "text": [
      "time: 236 µs (started: 2022-03-30 02:58:35 -04:00)\n"
     ]
    }
   ],
   "source": [
    "import geopandas as gp\n",
    "import pandas as pd\n",
    "import numpy as np\n",
    "from datetime import datetime\n",
    "\n",
    "from shapely.geometry import box\n",
    "from shapely.ops import cascaded_union, unary_union\n",
    "\n",
    "from elasticsearch import Elasticsearch, helpers\n",
    "ES_DEV = Elasticsearch(['YOUR ES HOST'], http_auth=('ES LOGIN', 'ES PASS'), timeout=30)\n",
    "%load_ext autotime"
   ]
  },
  {
   "cell_type": "code",
   "execution_count": 16,
   "id": "4c728ad2-5269-4166-b025-34c0afdbcf3d",
   "metadata": {},
   "outputs": [
    {
     "name": "stdout",
     "output_type": "stream",
     "text": [
      "time: 2.19 ms (started: 2022-03-30 03:12:16 -04:00)\n"
     ]
    }
   ],
   "source": [
    "SF52 = { '01': 'AL', '02': 'AK', '04': 'AZ', '05': 'AR', \n",
    "                      '06': 'CA', '08': 'CO', '09': 'CT', '10': 'DE', \n",
    "                      '11': 'DC', '12': 'FL', '13': 'GA', '15': 'HI', \n",
    "                      '16': 'ID', '17': 'IL', '18': 'IN', '19': 'IA', \n",
    "                      '20': 'KS', '21': 'KY', '22': 'LA', '23': 'ME', \n",
    "                      '24': 'MD', '25': 'MA', '26': 'MI', '27': 'MN', \n",
    "                      '28': 'MS', '29': 'MO', '30': 'MT', '31': 'NE', \n",
    "                      '32': 'NV', '33': 'NH', '34': 'NJ', '35': 'NM', \n",
    "                      '36': 'NY', '37': 'NC', '38': 'ND', '39': 'OH', \n",
    "                      '40': 'OK', '41': 'OR', '42': 'PA', '44': 'RI', \n",
    "                      '45': 'SC', '46': 'SD', '47': 'TN', '48': 'TX', \n",
    "                      '49': 'UT', '50': 'VT', '51': 'VA', '53': 'WA', \n",
    "                      '54': 'WV', '55': 'WI', '56': 'WY', '72': 'PR'}\n",
    "\n",
    "SF52R = {v: k for (k,v) in SF52.items()}\n",
    "CRS_OOKLA = 4326\n",
    "ookla_zips_dir = 'ookla_zips/'\n",
    "ookla_tiles_dir = 'ookla_state_tiles/'\n",
    "\n",
    "def get_tile_url(service_type: str, year: int, q: int) -> str:\n",
    "    if not 1 <= q <= 4:\n",
    "        raise ValueError(\"Quarter must be within [1, 2, 3, 4]\")\n",
    "    month = [1, 4, 7, 10]\n",
    "    dt = datetime(year, month[q - 1], 1)\n",
    "    base_url = \"https://ookla-open-data.s3-us-west-2.amazonaws.com/shapefiles/performance\"\n",
    "    url = f\"{base_url}/type%3D{service_type}/year%3D{dt:%Y}/quarter%3D{q}/{dt:%Y-%m-%d}_performance_fixed_tiles.zip\"\n",
    "    zip_name = f\"{dt:%Y-%m-%d}_performance_fixed_tiles.zip\"\n",
    "    return url, zip_name\n"
   ]
  },
  {
   "cell_type": "markdown",
   "id": "4784f921-17e8-436a-8a0b-2154134468bb",
   "metadata": {},
   "source": [
    "# From ookla_global_tiles, to OOKLA_TILES_BY_STATE"
   ]
  },
  {
   "cell_type": "markdown",
   "id": "16dcbea9-6b82-4ae4-86fa-b8e38c1f04f8",
   "metadata": {},
   "source": [
    "## Ookla state tiles"
   ]
  },
  {
   "cell_type": "code",
   "execution_count": null,
   "id": "bd8b7044-13b2-4bd5-9fed-ec26ee716346",
   "metadata": {},
   "outputs": [],
   "source": [
    "# RUN ONCE: slow: download ookla zip files\n",
    "for QUARTER in ['2021Q1', '2021Q2', '2021Q3', '2021Q4']:\n",
    "    tile_url, zip_name = get_tile_url(\"fixed\", int(QUARTER[:4]), int(QUARTER[-1:])) \n",
    "    print(tile_url, zip_name)\n",
    "    ! wget {tile_url} -P {ookla_zips_dir}"
   ]
  },
  {
   "cell_type": "code",
   "execution_count": 85,
   "id": "4a46cc0c-465b-433b-9d62-569ebd6a3ffc",
   "metadata": {},
   "outputs": [
    {
     "name": "stdout",
     "output_type": "stream",
     "text": [
      "-179.231086 17.831518837698233 179.85968107125612 71.439786\n",
      "time: 2.84 s (started: 2022-03-30 00:11:51 -04:00)\n"
     ]
    }
   ],
   "source": [
    "# TIGER 2019: US boundary, and state boundaries\n",
    "census_year = 2019\n",
    "states_url = f\"https://www2.census.gov/geo/tiger/TIGER{census_year}/STATE/tl_{census_year}_us_state.zip\"\n",
    "STATE_BOUNDARIES = gp.read_file(states_url)\n",
    "\n",
    "state_bboxes = {}\n",
    "for sf in SF52:\n",
    "    # tiger state shapes has CRS = 4269 >>  Reproject to match the ookla tiles' crs\n",
    "    xmin, ymin, xmax, ymax = STATE_BOUNDARIES.loc[STATE_BOUNDARIES['STATEFP'] == sf].to_crs(CRS_OOKLA).total_bounds\n",
    "    # state_bboxes: dictionary mapping sf to polygons (state boundaries)\n",
    "    state_bboxes[sf] = box(xmin, ymin, xmax, ymax)\n",
    "    \n",
    "us_xmin, us_ymin, us_xmax, us_ymax = unary_union(list(state_bboxes.values())).bounds\n",
    "print(us_xmin, us_ymin, us_xmax, us_ymax)"
   ]
  },
  {
   "cell_type": "code",
   "execution_count": null,
   "id": "7c4f5c0f-468d-4394-82ee-b56d20329685",
   "metadata": {
    "tags": []
   },
   "outputs": [],
   "source": [
    "# Choose needed quarter\n",
    "for QUARTER in [\n",
    "    '2021Q1', \n",
    "    '2021Q2', \n",
    "    '2021Q3', \n",
    "    '2021Q4',\n",
    "]:\n",
    "    tile_url, zip_name = get_tile_url(\"fixed\", int(QUARTER[:4]), int(QUARTER[-1:])) \n",
    "    print(\"READING ZIP FILE \", tile_url, zip_name)\n",
    "    # Read the downloaded zip: slow read\n",
    "    ookla_global_tiles = gp.read_file(f'{ookla_zips_dir}{zip_name}')\n",
    "    # Filter to US ookla tiles\n",
    "    ookla_us_tiles = ookla_global_tiles.cx[us_xmin:us_xmax, us_ymin:us_ymax]\n",
    "    # MOST OOKLA speeds were tested within the U.S.\n",
    "    print(QUARTER, ookla_global_tiles.shape, ookla_us_tiles.shape) \n",
    "    \n",
    "    for sf in SF52:\n",
    "        # Get state-wise ookla tiles \n",
    "        state_xmin, state_ymin, state_xmax, state_ymax = state_bboxes[sf].bounds\n",
    "        ookla_state_tiles = ookla_us_tiles.cx[state_xmin:state_xmax, state_ymin:state_ymax]\n",
    "        print(QUARTER, sf, SF52[sf], state_xmin, state_ymin, state_xmax, state_ymax, ookla_state_tiles.shape)\n",
    "\n",
    "        # Save to individual state tiles: slow write\n",
    "        file_path = f\"{ookla_tiles_dir}{QUARTER}_state_{sf}\"\n",
    "        if len(ookla_state_tiles):\n",
    "            ookla_state_tiles.to_file(f\"{file_path}.geojson\", driver=\"GeoJSON\")\n",
    "        else:    \n",
    "            print(\"ALERT: UNLIKELY EVENT: entire states contain no ookla records; creating empty files\")\n",
    "            with open(f\"{file_path}.txt\", 'a') as f: pass   \n"
   ]
  },
  {
   "cell_type": "markdown",
   "id": "b3c7d7c6-7da0-438a-a8c8-42d90c5d66a4",
   "metadata": {
    "tags": []
   },
   "source": [
    "## parallel ookla_gen_tiles.py inside cmds.bash: \n",
    "* Using command: bash ~/speed/cmds.bash &\n",
    "* NOTE: Select QUARTER[s] as needed!\n",
    "* ookla_gen_tiles.py does:\n",
    "    - cleaning tests in ookla_state_tiles \n",
    "    - join state_ookla_tiles with CBG and CB boundaries\n",
    "    - weight ookla tiles to files: {ookla_tiles_dir}{QUARTER}_{census_level}_{sf}.csv"
   ]
  },
  {
   "cell_type": "code",
   "execution_count": 26,
   "id": "bcfce34e-7d85-463c-b2b5-de13142e4e7a",
   "metadata": {},
   "outputs": [
    {
     "name": "stdout",
     "output_type": "stream",
     "text": [
      "['624']\n",
      "time: 395 ms (started: 2022-03-30 03:50:55 -04:00)\n"
     ]
    }
   ],
   "source": [
    "# COMPLETION CHECK\n",
    "# Each state now should have 12 files in ookla_state_tiles\n",
    "# (CBG.csv + CB.csv + state.geojson) x 4 quarter = 12\n",
    "# 12 * sf52 = 624 files in total in ookla_state_tiles\n",
    "total = ! ls ookla_state_tiles | wc -l\n",
    "print(total)\n",
    "\n",
    "# Find sf with missing ookla files\n",
    "for sf in SF52:\n",
    "    count = ! ls ookla_state_tiles/*_{sf}.* | wc -l\n",
    "    if count[0] != '12':\n",
    "        print(sf, SF52[sf], count)\n",
    "        files = ! ls ookla_state_tiles/*_{sf}.*\n",
    "        print(files)"
   ]
  },
  {
   "cell_type": "code",
   "execution_count": 28,
   "id": "9c70163d-cb2f-4c54-8351-b17b6d8935a6",
   "metadata": {},
   "outputs": [
    {
     "name": "stdout",
     "output_type": "stream",
     "text": [
      "104\n",
      "time: 117 ms (started: 2022-03-30 03:51:48 -04:00)\n"
     ]
    }
   ],
   "source": [
    "# similarly, ESdown.py should generate (ntia + mlab_prediction) * SF52 = 104 files\n",
    "! ls Elasticsearch/ | wc -l"
   ]
  },
  {
   "cell_type": "code",
   "execution_count": null,
   "id": "f87ecb11-6590-45ff-b15f-ec502d45bb3d",
   "metadata": {},
   "outputs": [],
   "source": []
  }
 ],
 "metadata": {
  "kernelspec": {
   "display_name": "Python 3 (ipykernel)",
   "language": "python",
   "name": "python3"
  },
  "language_info": {
   "codemirror_mode": {
    "name": "ipython",
    "version": 3
   },
   "file_extension": ".py",
   "mimetype": "text/x-python",
   "name": "python",
   "nbconvert_exporter": "python",
   "pygments_lexer": "ipython3",
   "version": "3.9.7"
  }
 },
 "nbformat": 4,
 "nbformat_minor": 5
}
