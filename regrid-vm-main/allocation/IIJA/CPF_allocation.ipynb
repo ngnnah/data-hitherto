{
 "cells": [
  {
   "cell_type": "markdown",
   "id": "647cb273-4eda-474a-b6b6-9f9520f5e380",
   "metadata": {
    "tags": []
   },
   "source": [
    "# CORONAVIRUS CAPITAL PROJECTS FUND 9.8 billion\n",
    "\n",
    "https://home.treasury.gov/policy-issues/coronavirus/assistance-for-state-local-and-tribal-governments/capital-projects-fund\n",
    "\n",
    "https://home.treasury.gov/system/files/136/Allocations-Methodology-States-Territories-Freely-Associated-States.pdf\n"
   ]
  },
  {
   "cell_type": "markdown",
   "id": "72f8f7e8-df6a-4f41-87b9-2bd42366b889",
   "metadata": {
    "tags": []
   },
   "source": [
    "## 52 States (including DC and Puerto Rico)\n",
    "\n",
    "\n",
    "\n"
   ]
  },
  {
   "cell_type": "code",
   "execution_count": 15,
   "id": "8c1c4781-f233-4e07-8106-ccda2655472d",
   "metadata": {},
   "outputs": [],
   "source": [
    "%reload_ext autoreload\n",
    "%autoreload 2\n",
    "%matplotlib inline\n",
    "\n",
    "from datetime import datetime\n",
    "\n",
    "import geopandas as gp\n",
    "import matplotlib\n",
    "import matplotlib.pyplot as plt\n",
    "import pandas as pd\n",
    "import numpy as np\n",
    "\n",
    "from shapely.geometry import Point\n",
    "from adjustText import adjust_text\n",
    "\n",
    "from elasticsearch import Elasticsearch, helpers\n",
    "import json"
   ]
  },
  {
   "cell_type": "markdown",
   "id": "11bd169d-4ac0-485f-81d2-bcee19d9339d",
   "metadata": {},
   "source": [
    "# PARAMS"
   ]
  },
  {
   "cell_type": "code",
   "execution_count": 16,
   "id": "2a4442a5-cccd-42d8-91ef-d3cc4e07508c",
   "metadata": {
    "tags": []
   },
   "outputs": [],
   "source": [
    "STATE_FIPS_DICT_52 = {\n",
    "'01': 'AL', \n",
    "'02': 'AK',\n",
    "'04': 'AZ',\n",
    "'05': 'AR',\n",
    "'06': 'CA',\n",
    "'08': 'CO',\n",
    "'09': 'CT',\n",
    "'10': 'DE',\n",
    "'11': 'DC',\n",
    "'12': 'FL',\n",
    "'13': 'GA',\n",
    "'15': 'HI',\n",
    "'16': 'ID',\n",
    "'17': 'IL',\n",
    "'18': 'IN',\n",
    "'19': 'IA',\n",
    "'20': 'KS',\n",
    "'21': 'KY',\n",
    "'22': 'LA',\n",
    "'23': 'ME',\n",
    "'24': 'MD',\n",
    "'25': 'MA',\n",
    "'26': 'MI',\n",
    "'27': 'MN',\n",
    "'28': 'MS',\n",
    "'29': 'MO',\n",
    "'30': 'MT',\n",
    "'31': 'NE',\n",
    "'32': 'NV',\n",
    "'33': 'NH',\n",
    "'34': 'NJ',\n",
    "'35': 'NM',\n",
    "'36': 'NY',\n",
    "'37': 'NC',\n",
    "'38': 'ND',\n",
    "'39': 'OH',\n",
    "'40': 'OK',\n",
    "'41': 'OR',\n",
    "'42': 'PA',\n",
    "'72': 'PR',\n",
    "'44': 'RI',\n",
    "'45': 'SC',\n",
    "'46': 'SD',\n",
    "'47': 'TN',\n",
    "'48': 'TX',\n",
    "'49': 'UT',\n",
    "'50': 'VT',\n",
    "'51': 'VA',\n",
    "'53': 'WA',\n",
    "'54': 'WV',\n",
    "'55': 'WI',\n",
    "'56': 'WY'}\n",
    "\n",
    "\n",
    "STATE_TO_ABBREV_52 = {\n",
    "    \"Alabama\": \"AL\",\n",
    "    \"Alaska\": \"AK\",\n",
    "    \"Arizona\": \"AZ\",\n",
    "    \"Arkansas\": \"AR\",\n",
    "    \"California\": \"CA\",\n",
    "    \"Colorado\": \"CO\",\n",
    "    \"Connecticut\": \"CT\",\n",
    "    \"Delaware\": \"DE\",\n",
    "    \"Florida\": \"FL\",\n",
    "    \"Georgia\": \"GA\",\n",
    "    \"Hawaii\": \"HI\",\n",
    "    \"Idaho\": \"ID\",\n",
    "    \"Illinois\": \"IL\",\n",
    "    \"Indiana\": \"IN\",\n",
    "    \"Iowa\": \"IA\",\n",
    "    \"Kansas\": \"KS\",\n",
    "    \"Kentucky\": \"KY\",\n",
    "    \"Louisiana\": \"LA\",\n",
    "    \"Maine\": \"ME\",\n",
    "    \"Maryland\": \"MD\",\n",
    "    \"Massachusetts\": \"MA\",\n",
    "    \"Michigan\": \"MI\",\n",
    "    \"Minnesota\": \"MN\",\n",
    "    \"Mississippi\": \"MS\",\n",
    "    \"Missouri\": \"MO\",\n",
    "    \"Montana\": \"MT\",\n",
    "    \"Nebraska\": \"NE\",\n",
    "    \"Nevada\": \"NV\",\n",
    "    \"New Hampshire\": \"NH\",\n",
    "    \"New Jersey\": \"NJ\",\n",
    "    \"New Mexico\": \"NM\",\n",
    "    \"New York\": \"NY\",\n",
    "    \"North Carolina\": \"NC\",\n",
    "    \"North Dakota\": \"ND\",\n",
    "    \"Ohio\": \"OH\",\n",
    "    \"Oklahoma\": \"OK\",\n",
    "    \"Oregon\": \"OR\",\n",
    "    \"Pennsylvania\": \"PA\",\n",
    "    \"Rhode Island\": \"RI\",\n",
    "    \"South Carolina\": \"SC\",\n",
    "    \"South Dakota\": \"SD\",\n",
    "    \"Tennessee\": \"TN\",\n",
    "    \"Texas\": \"TX\",\n",
    "    \"Utah\": \"UT\",\n",
    "    \"Vermont\": \"VT\",\n",
    "    \"Virginia\": \"VA\",\n",
    "    \"Washington\": \"WA\",\n",
    "    \"West Virginia\": \"WV\",\n",
    "    \"Wisconsin\": \"WI\",\n",
    "    \"Wyoming\": \"WY\",\n",
    "    \"District of Columbia\": \"DC\",\n",
    "    \"Puerto Rico\": \"PR\",\n",
    "}   \n",
    "\n",
    "STATE_FIPS_DICT_5 = {'60': \"AS\", '66': \"GU\", '69': \"MP\", '78': \"VI\", 'NoFIPS': \"UM\"}\n",
    "STATE_TO_ABBREV_5 =     { \n",
    "    \"American Samoa\": \"AS\",\n",
    "    \"Guam\": \"GU\",\n",
    "    \"Northern Mariana Islands\": \"MP\",\n",
    "    \"U.S. Virgin Islands\": \"VI\", \n",
    "    \"United States Minor Outlying Islands\": \"UM\",}\n",
    "\n",
    "STATE_ABBRV_LIST_52 = list(sorted(STATE_FIPS_DICT_52.values()))"
   ]
  },
  {
   "cell_type": "code",
   "execution_count": 17,
   "id": "c7c62bcd-ea6c-481e-b028-b32961ff6411",
   "metadata": {
    "tags": []
   },
   "outputs": [],
   "source": [
    "# NOTE\n",
    "# FORMAT of DICTIONARY\n",
    "# e.g. { 'AL': { 'population' : X, 'rural': Y, 'rural_margin_error': Z, 'poverty150': K, 'poverty150_margin_error': M}, ... } \n",
    "ALL_STATES_DICT = {} \n",
    "\n",
    "for state_abbrev in STATE_ABBRV_LIST_52:\n",
    "    ALL_STATES_DICT[state_abbrev] = {}\n"
   ]
  },
  {
   "cell_type": "markdown",
   "id": "caed1c10-bcbb-4499-8762-76fc32cbf244",
   "metadata": {},
   "source": [
    "# 1. Population"
   ]
  },
  {
   "cell_type": "code",
   "execution_count": 19,
   "id": "698243b9-a1e4-471c-b828-cfce0556f102",
   "metadata": {
    "tags": []
   },
   "outputs": [],
   "source": [
    "# 2020 decennial census: https://www.census.gov/data/tables/2020/dec/2020-apportionment-data.html\n",
    "\n",
    "# Table 1. Apportionment Population and Number of Representatives by State: 2020 Census\n",
    "# ONLY HAS 50 STATES: The populations of the District of Columbia and Puerto Rico are not included in the apportionment population \n",
    "# because they do not have voting seats in the U.S. House of Representatives.\n",
    "STATE_POPULATION_2020 = pd.read_excel('apportionment-2020-table01.xlsx', header=3, index_col=0)  \n",
    "for i, row in STATE_POPULATION_2020.iterrows():\n",
    "    # print(i, 'row', row[0])\n",
    "    if i in STATE_TO_ABBREV_52:\n",
    "        ALL_STATES_DICT[STATE_TO_ABBREV_52[i]][\"population\"] = row[0]\n",
    "        \n",
    "# Table 2. Resident Population for the 50 States, the District of Columbia, and Puerto Rico: 2020 Census\n",
    "# POPULATION DC \"District of Columbia\" and PR \"Puerto Rico\"\n",
    "DC_PR_POPULATION_2020 = pd.read_excel('apportionment-2020-table02.xlsx', header=3, index_col=0)\n",
    "for i, row in DC_PR_POPULATION_2020.iterrows():\n",
    "    if i == \"District of Columbia\" or i == \"Puerto Rico\":\n",
    "        ALL_STATES_DICT[STATE_TO_ABBREV_52[i]][\"population\"] = row[0]\n",
    "        "
   ]
  },
  {
   "cell_type": "markdown",
   "id": "c764e84d-9e92-46fe-a539-4b604587f15d",
   "metadata": {
    "tags": []
   },
   "source": [
    "# 2. Rural"
   ]
  },
  {
   "cell_type": "markdown",
   "id": "06e16fc9-8d82-466f-af72-4cbcb6f8575a",
   "metadata": {},
   "source": [
    "https://www.census.gov/content/dam/Census/library/publications/2020/acs/acs_general_handbook_2020_ch02.pdf\n",
    "\n",
    "Census tracts are small geographic areas—with an\n",
    "average of about 4,000 people each—that are commonly used to present information for small towns,\n",
    "rural areas, and neighborhoods.\n"
   ]
  },
  {
   "cell_type": "code",
   "execution_count": 20,
   "id": "6a237c0c-f8a1-4fe4-a702-a37500d53978",
   "metadata": {
    "tags": []
   },
   "outputs": [],
   "source": [
    "RURAL_POPULATION = pd.read_csv('rural/ACSDT1Y2019.B01003_data_with_overlays_2021-10-11T163857.csv', header=0, index_col=0)\n",
    "\n",
    "# NOTE: No rural population for DC \n",
    "ALL_STATES_DICT['DC']['rural'] = 0\n",
    "ALL_STATES_DICT['DC']['rural_margin_error'] = 0\n",
    "\n",
    "for i, row in RURAL_POPULATION.iterrows():\n",
    "    statefips = i[-2:]\n",
    "    if statefips in STATE_FIPS_DICT_52:\n",
    "        state_abbrv = STATE_FIPS_DICT_52[statefips]\n",
    "        ALL_STATES_DICT[state_abbrv][\"rural\"] = float(row[1])\n",
    "        ALL_STATES_DICT[state_abbrv][\"rural_margin_error\"] = float(row[2])\n"
   ]
  },
  {
   "cell_type": "markdown",
   "id": "a3db3179-d0f7-4572-b5be-cb0e7dc35b60",
   "metadata": {},
   "source": [
    "# 3. Poverty line"
   ]
  },
  {
   "cell_type": "code",
   "execution_count": 21,
   "id": "9f317398-54cd-42f9-b355-d27988378883",
   "metadata": {
    "tags": []
   },
   "outputs": [
    {
     "data": {
      "text/html": [
       "<div>\n",
       "<style scoped>\n",
       "    .dataframe tbody tr th:only-of-type {\n",
       "        vertical-align: middle;\n",
       "    }\n",
       "\n",
       "    .dataframe tbody tr th {\n",
       "        vertical-align: top;\n",
       "    }\n",
       "\n",
       "    .dataframe thead th {\n",
       "        text-align: right;\n",
       "    }\n",
       "</style>\n",
       "<table border=\"1\" class=\"dataframe\">\n",
       "  <thead>\n",
       "    <tr style=\"text-align: right;\">\n",
       "      <th></th>\n",
       "      <th>total</th>\n",
       "      <th>margin_error</th>\n",
       "    </tr>\n",
       "    <tr>\n",
       "      <th>GEO_ID</th>\n",
       "      <th></th>\n",
       "      <th></th>\n",
       "    </tr>\n",
       "  </thead>\n",
       "  <tbody>\n",
       "    <tr>\n",
       "      <th>id</th>\n",
       "      <td>Estimate!!Total!!Population for whom poverty s...</td>\n",
       "      <td>Margin of Error!!Total!!Population for whom po...</td>\n",
       "    </tr>\n",
       "    <tr>\n",
       "      <th>0400000US01</th>\n",
       "      <td>1214017</td>\n",
       "      <td>29293</td>\n",
       "    </tr>\n",
       "    <tr>\n",
       "      <th>0400000US02</th>\n",
       "      <td>125335</td>\n",
       "      <td>8411</td>\n",
       "    </tr>\n",
       "  </tbody>\n",
       "</table>\n",
       "</div>"
      ],
      "text/plain": [
       "                                                         total  \\\n",
       "GEO_ID                                                           \n",
       "id           Estimate!!Total!!Population for whom poverty s...   \n",
       "0400000US01                                            1214017   \n",
       "0400000US02                                             125335   \n",
       "\n",
       "                                                  margin_error  \n",
       "GEO_ID                                                          \n",
       "id           Margin of Error!!Total!!Population for whom po...  \n",
       "0400000US01                                              29293  \n",
       "0400000US02                                               8411  "
      ]
     },
     "execution_count": 21,
     "metadata": {},
     "output_type": "execute_result"
    }
   ],
   "source": [
    "filename = 'poverty/ACSST1Y2019.S1701_2021-10-12T115526/ACSST1Y2019.S1701_data_with_overlays_2021-10-12T113421.csv'\n",
    "POVERTY_POPULATION = pd.read_csv(filename, header=0, index_col=0)\n",
    "# NOTE: No rural population for DC \n",
    "\n",
    "col_estimate = 'S1701_C01_040E'\n",
    "col_margin_error = 'S1701_C01_040M'\n",
    "POVERTY_POPULATION = POVERTY_POPULATION[[col_estimate, col_margin_error]]\n",
    "POVERTY_POPULATION = POVERTY_POPULATION.rename(columns = {'S1701_C01_040E':'total', 'S1701_C01_040M':'margin_error'})\n",
    "POVERTY_POPULATION.head(3)"
   ]
  },
  {
   "cell_type": "code",
   "execution_count": 22,
   "id": "26156bce-99a2-4465-8d18-3aa0abb8805a",
   "metadata": {
    "tags": []
   },
   "outputs": [],
   "source": [
    "# NOTE:\n",
    "for i, row in POVERTY_POPULATION.iterrows():\n",
    "    statefips = i[-2:]\n",
    "    if statefips in STATE_FIPS_DICT_52:\n",
    "        state_abbrv = STATE_FIPS_DICT_52[statefips]\n",
    "        ALL_STATES_DICT[state_abbrv][\"poverty150\"] = float(row[0])\n",
    "        ALL_STATES_DICT[state_abbrv][\"poverty150_margin_error\"] = float(row[1])\n"
   ]
  },
  {
   "cell_type": "markdown",
   "id": "a29878e3-d1ed-4df9-bc12-b83b14c0903c",
   "metadata": {},
   "source": [
    "# Calculate fund allocation for each state"
   ]
  },
  {
   "cell_type": "markdown",
   "id": "a0eb8194-2f0b-4174-89a8-2da21e8a7e4c",
   "metadata": {},
   "source": [
    "ALL_STATES_DICT FORMAT: \n",
    "\n",
    "{ 'AL': { 'population' : X, 'rural': Y, 'rural_margin_error': Z, 'poverty150': K, 'poverty150_margin_error': M}, ... } "
   ]
  },
  {
   "cell_type": "code",
   "execution_count": 23,
   "id": "2765de52-f7f9-4ff2-b478-a36bcb44b15a",
   "metadata": {
    "tags": []
   },
   "outputs": [
    {
     "name": "stdout",
     "output_type": "stream",
     "text": [
      "total population  335083853.0 rural 63931752.0 +/- 990233.0 poverty150 67044983.0 +/- 1387076.0\n",
      "TOTAL ALLOCATION should be 9800 million  9800.0\n"
     ]
    }
   ],
   "source": [
    "# ALLOCATION AMOUNTS, CURRENCY UNIT = million USD\n",
    "FIXED_BASE_PER_STATE = 100.0 # 100 million\n",
    "POPULATION_ALLOCATION_TOTAL = 2300 # 2300 million = 2.3 billion\n",
    "RURAL_ALLOCATION_TOTAL = 1150 \n",
    "POVERTY_ALLOCATION_TOTAL = 1150\n",
    "\n",
    "\n",
    "US_POPULATION = sum(ALL_STATES_DICT[state]['population'] for state in STATE_ABBRV_LIST_52)\n",
    "\n",
    "US_RURAL = sum(ALL_STATES_DICT[state]['rural'] for state in STATE_ABBRV_LIST_52)\n",
    "US_RURAL_MARGIN_ERROR = sum(ALL_STATES_DICT[state]['rural_margin_error'] for state in STATE_ABBRV_LIST_52)\n",
    "\n",
    "US_POVERTY150 = sum(ALL_STATES_DICT[state]['poverty150'] for state in STATE_ABBRV_LIST_52)\n",
    "US_POVERTY150_MARGIN_ERROR = sum(ALL_STATES_DICT[state]['poverty150_margin_error'] for state in STATE_ABBRV_LIST_52)\n",
    "\n",
    "print(\"total population \", US_POPULATION, \"rural\", US_RURAL, \"+/-\", US_RURAL_MARGIN_ERROR, \"poverty150\", US_POVERTY150, \"+/-\", US_POVERTY150_MARGIN_ERROR)\n",
    "\n",
    "\n",
    "for state in STATE_ABBRV_LIST_52:\n",
    "    # Start with a fixed base\n",
    "    ALL_STATES_DICT[state]['allocation'] = FIXED_BASE_PER_STATE\n",
    "    # population\n",
    "    ALL_STATES_DICT[state]['allocation'] += ALL_STATES_DICT[state]['population']/US_POPULATION * POPULATION_ALLOCATION_TOTAL\n",
    "    # rural\n",
    "    ALL_STATES_DICT[state]['allocation'] += ALL_STATES_DICT[state]['rural']/US_RURAL * RURAL_ALLOCATION_TOTAL\n",
    "    # poverty150\n",
    "    ALL_STATES_DICT[state]['allocation'] += ALL_STATES_DICT[state]['poverty150']/US_POVERTY150 * POVERTY_ALLOCATION_TOTAL\n",
    "    \n",
    "    \n",
    "print(\"TOTAL ALLOCATION should be 9800 million \", sum(ALL_STATES_DICT[state]['allocation'] for state in STATE_ABBRV_LIST_52))\n",
    "\n",
    "for full_state_name in STATE_TO_ABBREV_52:\n",
    "    state = state = STATE_TO_ABBREV_52[full_state_name]\n",
    "    amount = '${:,.2f}'.format(ALL_STATES_DICT[state]['allocation'] * 1000000)\n",
    "    ALL_STATES_DICT[state]['allocation_currency'] = amount\n",
    "    \n",
    "\n",
    "    "
   ]
  },
  {
   "cell_type": "markdown",
   "id": "96364859-b117-43c0-b452-3dffb246f566",
   "metadata": {},
   "source": [
    "## Compare with the actual allocated amounts"
   ]
  },
  {
   "cell_type": "code",
   "execution_count": 24,
   "id": "f47796bc-fbdf-476a-8421-c6215960f82b",
   "metadata": {},
   "outputs": [],
   "source": [
    "from re import sub\n",
    "from decimal import Decimal"
   ]
  },
  {
   "cell_type": "code",
   "execution_count": 25,
   "id": "0b2380a7-b219-40e0-952f-651f4dc2824b",
   "metadata": {
    "tags": []
   },
   "outputs": [],
   "source": [
    "ACTUAL_ALLOCATIONS = pd.read_csv('Allocations-States.csv', header=4, index_col=0)\n",
    "# NOTE the indexing by integer iloc [row_indexer, column_indexer]\n",
    "ACTUAL_ALLOCATIONS = ACTUAL_ALLOCATIONS.iloc[:,:2]\n",
    "\n",
    "\n",
    "for full_state_name, row in ACTUAL_ALLOCATIONS.iterrows():\n",
    "    if full_state_name in STATE_TO_ABBREV_52:\n",
    "        state = STATE_TO_ABBREV_52[full_state_name]\n",
    "        ACTUAL_ALLOCATIONS.loc[full_state_name, \"Ready’s Projected Allocation\"] = ALL_STATES_DICT[state]['allocation_currency']\n",
    "        \n",
    "        projected = ALL_STATES_DICT[state]['allocation'] * 1000000\n",
    "        # https://stackoverflow.com/a/8422055\n",
    "        actual = float(sub(r'[^\\d.]', '', row['ACTUAL Allocation']))\n",
    "        ACTUAL_ALLOCATIONS.loc[full_state_name, \"Error Percentage (%)\"] = (abs(projected-actual)/actual) * 100\n",
    "\n",
    "        \n",
    "ACTUAL_ALLOCATIONS.to_csv('completed-calculation.csv')"
   ]
  },
  {
   "cell_type": "markdown",
   "id": "c25b4b98-1dc0-414f-bb8d-29c7a0f58a38",
   "metadata": {
    "tags": []
   },
   "source": [
    "### Experiment w/ censusdata : find relevant ACS table"
   ]
  },
  {
   "cell_type": "code",
   "execution_count": 212,
   "id": "a276efca-ba19-46ab-850d-082a67a17f20",
   "metadata": {},
   "outputs": [],
   "source": [
    "import censusdata\n",
    "import re"
   ]
  },
  {
   "cell_type": "code",
   "execution_count": 262,
   "id": "ad2b9190-4e89-4c52-b1e6-631e160d1cc6",
   "metadata": {
    "collapsed": true,
    "jupyter": {
     "outputs_hidden": true
    },
    "tags": []
   },
   "outputs": [
    {
     "ename": "ValueError",
     "evalue": "Unexpected response (URL: https://api.census.gov/data/2019/acs/acs5?get=NAME,B07412_2&for=state:*): error: error: unknown variable 'B07412_2' ",
     "output_type": "error",
     "traceback": [
      "\u001b[0;31m---------------------------------------------------------------------------\u001b[0m",
      "\u001b[0;31mJSONDecodeError\u001b[0m                           Traceback (most recent call last)",
      "\u001b[0;32m/usr/local/lib/python3.9/site-packages/censusdata/download.py\u001b[0m in \u001b[0;36m_download\u001b[0;34m(src, year, params, baseurl, endpt)\u001b[0m\n\u001b[1;32m     35\u001b[0m         \u001b[0;32mtry\u001b[0m\u001b[0;34m:\u001b[0m\u001b[0;34m\u001b[0m\u001b[0;34m\u001b[0m\u001b[0m\n\u001b[0;32m---> 36\u001b[0;31m                 \u001b[0mdata\u001b[0m \u001b[0;34m=\u001b[0m \u001b[0mr\u001b[0m\u001b[0;34m.\u001b[0m\u001b[0mjson\u001b[0m\u001b[0;34m(\u001b[0m\u001b[0;34m)\u001b[0m\u001b[0;34m\u001b[0m\u001b[0;34m\u001b[0m\u001b[0m\n\u001b[0m\u001b[1;32m     37\u001b[0m         \u001b[0;32mexcept\u001b[0m\u001b[0;34m:\u001b[0m\u001b[0;34m\u001b[0m\u001b[0;34m\u001b[0m\u001b[0m\n",
      "\u001b[0;32m/usr/local/lib/python3.9/site-packages/requests/models.py\u001b[0m in \u001b[0;36mjson\u001b[0;34m(self, **kwargs)\u001b[0m\n\u001b[1;32m    909\u001b[0m                     \u001b[0;32mpass\u001b[0m\u001b[0;34m\u001b[0m\u001b[0;34m\u001b[0m\u001b[0m\n\u001b[0;32m--> 910\u001b[0;31m         \u001b[0;32mreturn\u001b[0m \u001b[0mcomplexjson\u001b[0m\u001b[0;34m.\u001b[0m\u001b[0mloads\u001b[0m\u001b[0;34m(\u001b[0m\u001b[0mself\u001b[0m\u001b[0;34m.\u001b[0m\u001b[0mtext\u001b[0m\u001b[0;34m,\u001b[0m \u001b[0;34m**\u001b[0m\u001b[0mkwargs\u001b[0m\u001b[0;34m)\u001b[0m\u001b[0;34m\u001b[0m\u001b[0;34m\u001b[0m\u001b[0m\n\u001b[0m\u001b[1;32m    911\u001b[0m \u001b[0;34m\u001b[0m\u001b[0m\n",
      "\u001b[0;32m/usr/local/Cellar/python@3.9/3.9.7/Frameworks/Python.framework/Versions/3.9/lib/python3.9/json/__init__.py\u001b[0m in \u001b[0;36mloads\u001b[0;34m(s, cls, object_hook, parse_float, parse_int, parse_constant, object_pairs_hook, **kw)\u001b[0m\n\u001b[1;32m    345\u001b[0m             parse_constant is None and object_pairs_hook is None and not kw):\n\u001b[0;32m--> 346\u001b[0;31m         \u001b[0;32mreturn\u001b[0m \u001b[0m_default_decoder\u001b[0m\u001b[0;34m.\u001b[0m\u001b[0mdecode\u001b[0m\u001b[0;34m(\u001b[0m\u001b[0ms\u001b[0m\u001b[0;34m)\u001b[0m\u001b[0;34m\u001b[0m\u001b[0;34m\u001b[0m\u001b[0m\n\u001b[0m\u001b[1;32m    347\u001b[0m     \u001b[0;32mif\u001b[0m \u001b[0mcls\u001b[0m \u001b[0;32mis\u001b[0m \u001b[0;32mNone\u001b[0m\u001b[0;34m:\u001b[0m\u001b[0;34m\u001b[0m\u001b[0;34m\u001b[0m\u001b[0m\n",
      "\u001b[0;32m/usr/local/Cellar/python@3.9/3.9.7/Frameworks/Python.framework/Versions/3.9/lib/python3.9/json/decoder.py\u001b[0m in \u001b[0;36mdecode\u001b[0;34m(self, s, _w)\u001b[0m\n\u001b[1;32m    336\u001b[0m         \"\"\"\n\u001b[0;32m--> 337\u001b[0;31m         \u001b[0mobj\u001b[0m\u001b[0;34m,\u001b[0m \u001b[0mend\u001b[0m \u001b[0;34m=\u001b[0m \u001b[0mself\u001b[0m\u001b[0;34m.\u001b[0m\u001b[0mraw_decode\u001b[0m\u001b[0;34m(\u001b[0m\u001b[0ms\u001b[0m\u001b[0;34m,\u001b[0m \u001b[0midx\u001b[0m\u001b[0;34m=\u001b[0m\u001b[0m_w\u001b[0m\u001b[0;34m(\u001b[0m\u001b[0ms\u001b[0m\u001b[0;34m,\u001b[0m \u001b[0;36m0\u001b[0m\u001b[0;34m)\u001b[0m\u001b[0;34m.\u001b[0m\u001b[0mend\u001b[0m\u001b[0;34m(\u001b[0m\u001b[0;34m)\u001b[0m\u001b[0;34m)\u001b[0m\u001b[0;34m\u001b[0m\u001b[0;34m\u001b[0m\u001b[0m\n\u001b[0m\u001b[1;32m    338\u001b[0m         \u001b[0mend\u001b[0m \u001b[0;34m=\u001b[0m \u001b[0m_w\u001b[0m\u001b[0;34m(\u001b[0m\u001b[0ms\u001b[0m\u001b[0;34m,\u001b[0m \u001b[0mend\u001b[0m\u001b[0;34m)\u001b[0m\u001b[0;34m.\u001b[0m\u001b[0mend\u001b[0m\u001b[0;34m(\u001b[0m\u001b[0;34m)\u001b[0m\u001b[0;34m\u001b[0m\u001b[0;34m\u001b[0m\u001b[0m\n",
      "\u001b[0;32m/usr/local/Cellar/python@3.9/3.9.7/Frameworks/Python.framework/Versions/3.9/lib/python3.9/json/decoder.py\u001b[0m in \u001b[0;36mraw_decode\u001b[0;34m(self, s, idx)\u001b[0m\n\u001b[1;32m    354\u001b[0m         \u001b[0;32mexcept\u001b[0m \u001b[0mStopIteration\u001b[0m \u001b[0;32mas\u001b[0m \u001b[0merr\u001b[0m\u001b[0;34m:\u001b[0m\u001b[0;34m\u001b[0m\u001b[0;34m\u001b[0m\u001b[0m\n\u001b[0;32m--> 355\u001b[0;31m             \u001b[0;32mraise\u001b[0m \u001b[0mJSONDecodeError\u001b[0m\u001b[0;34m(\u001b[0m\u001b[0;34m\"Expecting value\"\u001b[0m\u001b[0;34m,\u001b[0m \u001b[0ms\u001b[0m\u001b[0;34m,\u001b[0m \u001b[0merr\u001b[0m\u001b[0;34m.\u001b[0m\u001b[0mvalue\u001b[0m\u001b[0;34m)\u001b[0m \u001b[0;32mfrom\u001b[0m \u001b[0;32mNone\u001b[0m\u001b[0;34m\u001b[0m\u001b[0;34m\u001b[0m\u001b[0m\n\u001b[0m\u001b[1;32m    356\u001b[0m         \u001b[0;32mreturn\u001b[0m \u001b[0mobj\u001b[0m\u001b[0;34m,\u001b[0m \u001b[0mend\u001b[0m\u001b[0;34m\u001b[0m\u001b[0;34m\u001b[0m\u001b[0m\n",
      "\u001b[0;31mJSONDecodeError\u001b[0m: Expecting value: line 1 column 1 (char 0)",
      "\nDuring handling of the above exception, another exception occurred:\n",
      "\u001b[0;31mValueError\u001b[0m                                Traceback (most recent call last)",
      "\u001b[0;32m/var/folders/yx/pzv9tjkd5zxcjxl2s067tzkh0000gn/T/ipykernel_24314/2650322020.py\u001b[0m in \u001b[0;36m<module>\u001b[0;34m\u001b[0m\n\u001b[0;32m----> 1\u001b[0;31m \u001b[0mcensusdata\u001b[0m\u001b[0;34m.\u001b[0m\u001b[0mdownload\u001b[0m\u001b[0;34m(\u001b[0m\u001b[0;34m'acs5'\u001b[0m\u001b[0;34m,\u001b[0m \u001b[0;36m2019\u001b[0m\u001b[0;34m,\u001b[0m  \u001b[0mcensusdata\u001b[0m\u001b[0;34m.\u001b[0m\u001b[0mcensusgeo\u001b[0m\u001b[0;34m(\u001b[0m\u001b[0;34m[\u001b[0m\u001b[0;34m(\u001b[0m\u001b[0;34m'state'\u001b[0m\u001b[0;34m,\u001b[0m \u001b[0;34m'*'\u001b[0m\u001b[0;34m)\u001b[0m\u001b[0;34m]\u001b[0m\u001b[0;34m)\u001b[0m\u001b[0;34m,\u001b[0m \u001b[0;34m[\u001b[0m\u001b[0;34m'B07412_2'\u001b[0m\u001b[0;34m]\u001b[0m\u001b[0;34m)\u001b[0m\u001b[0;34m\u001b[0m\u001b[0;34m\u001b[0m\u001b[0m\n\u001b[0m",
      "\u001b[0;32m/usr/local/lib/python3.9/site-packages/censusdata/download.py\u001b[0m in \u001b[0;36mdownload\u001b[0;34m(src, year, geo, var, key, tabletype, endpt)\u001b[0m\n\u001b[1;32m    114\u001b[0m                 \u001b[0mparams\u001b[0m\u001b[0;34m.\u001b[0m\u001b[0mupdate\u001b[0m\u001b[0;34m(\u001b[0m\u001b[0mgeorequest\u001b[0m\u001b[0;34m)\u001b[0m\u001b[0;34m\u001b[0m\u001b[0;34m\u001b[0m\u001b[0m\n\u001b[1;32m    115\u001b[0m                 \u001b[0;32mif\u001b[0m \u001b[0mkey\u001b[0m \u001b[0;32mis\u001b[0m \u001b[0;32mnot\u001b[0m \u001b[0;32mNone\u001b[0m\u001b[0;34m:\u001b[0m \u001b[0mparams\u001b[0m\u001b[0;34m.\u001b[0m\u001b[0mupdate\u001b[0m\u001b[0;34m(\u001b[0m\u001b[0;34m{\u001b[0m\u001b[0;34m'key'\u001b[0m\u001b[0;34m:\u001b[0m \u001b[0mkey\u001b[0m\u001b[0;34m}\u001b[0m\u001b[0;34m)\u001b[0m\u001b[0;34m\u001b[0m\u001b[0;34m\u001b[0m\u001b[0m\n\u001b[0;32m--> 116\u001b[0;31m                 \u001b[0mdata\u001b[0m\u001b[0;34m.\u001b[0m\u001b[0mupdate\u001b[0m\u001b[0;34m(\u001b[0m\u001b[0m_download\u001b[0m\u001b[0;34m(\u001b[0m\u001b[0msrc\u001b[0m \u001b[0;34m+\u001b[0m \u001b[0mtabletype\u001b[0m\u001b[0;34m,\u001b[0m \u001b[0myear\u001b[0m\u001b[0;34m,\u001b[0m \u001b[0mparams\u001b[0m\u001b[0;34m,\u001b[0m \u001b[0mendpt\u001b[0m\u001b[0;34m=\u001b[0m\u001b[0mendpt\u001b[0m\u001b[0;34m)\u001b[0m\u001b[0;34m)\u001b[0m\u001b[0;34m\u001b[0m\u001b[0;34m\u001b[0m\u001b[0m\n\u001b[0m\u001b[1;32m    117\u001b[0m         \u001b[0mgeodata\u001b[0m \u001b[0;34m=\u001b[0m \u001b[0mdata\u001b[0m\u001b[0;34m.\u001b[0m\u001b[0mcopy\u001b[0m\u001b[0;34m(\u001b[0m\u001b[0;34m)\u001b[0m\u001b[0;34m\u001b[0m\u001b[0;34m\u001b[0m\u001b[0m\n\u001b[1;32m    118\u001b[0m         \u001b[0;32mfor\u001b[0m \u001b[0mkey\u001b[0m \u001b[0;32min\u001b[0m \u001b[0mlist\u001b[0m\u001b[0;34m(\u001b[0m\u001b[0mgeodata\u001b[0m\u001b[0;34m.\u001b[0m\u001b[0mkeys\u001b[0m\u001b[0;34m(\u001b[0m\u001b[0;34m)\u001b[0m\u001b[0;34m)\u001b[0m\u001b[0;34m:\u001b[0m\u001b[0;34m\u001b[0m\u001b[0;34m\u001b[0m\u001b[0m\n",
      "\u001b[0;32m/usr/local/lib/python3.9/site-packages/censusdata/download.py\u001b[0m in \u001b[0;36m_download\u001b[0;34m(src, year, params, baseurl, endpt)\u001b[0m\n\u001b[1;32m     36\u001b[0m                 \u001b[0mdata\u001b[0m \u001b[0;34m=\u001b[0m \u001b[0mr\u001b[0m\u001b[0;34m.\u001b[0m\u001b[0mjson\u001b[0m\u001b[0;34m(\u001b[0m\u001b[0;34m)\u001b[0m\u001b[0;34m\u001b[0m\u001b[0;34m\u001b[0m\u001b[0m\n\u001b[1;32m     37\u001b[0m         \u001b[0;32mexcept\u001b[0m\u001b[0;34m:\u001b[0m\u001b[0;34m\u001b[0m\u001b[0;34m\u001b[0m\u001b[0m\n\u001b[0;32m---> 38\u001b[0;31m                 \u001b[0;32mraise\u001b[0m \u001b[0mValueError\u001b[0m\u001b[0;34m(\u001b[0m\u001b[0;34m'Unexpected response (URL: {0.url}): {0.text} '\u001b[0m\u001b[0;34m.\u001b[0m\u001b[0mformat\u001b[0m\u001b[0;34m(\u001b[0m\u001b[0mr\u001b[0m\u001b[0;34m)\u001b[0m\u001b[0;34m)\u001b[0m\u001b[0;34m\u001b[0m\u001b[0;34m\u001b[0m\u001b[0m\n\u001b[0m\u001b[1;32m     39\u001b[0m         \u001b[0mrdata\u001b[0m \u001b[0;34m=\u001b[0m \u001b[0mOrderedDict\u001b[0m\u001b[0;34m(\u001b[0m\u001b[0;34m)\u001b[0m\u001b[0;34m\u001b[0m\u001b[0;34m\u001b[0m\u001b[0m\n\u001b[1;32m     40\u001b[0m         \u001b[0;32mfor\u001b[0m \u001b[0mj\u001b[0m \u001b[0;32min\u001b[0m \u001b[0mrange\u001b[0m\u001b[0;34m(\u001b[0m\u001b[0mlen\u001b[0m\u001b[0;34m(\u001b[0m\u001b[0mdata\u001b[0m\u001b[0;34m[\u001b[0m\u001b[0;36m0\u001b[0m\u001b[0;34m]\u001b[0m\u001b[0;34m)\u001b[0m\u001b[0;34m)\u001b[0m\u001b[0;34m:\u001b[0m\u001b[0;34m\u001b[0m\u001b[0;34m\u001b[0m\u001b[0m\n",
      "\u001b[0;31mValueError\u001b[0m: Unexpected response (URL: https://api.census.gov/data/2019/acs/acs5?get=NAME,B07412_2&for=state:*): error: error: unknown variable 'B07412_2' "
     ]
    }
   ],
   "source": [
    "censusdata.download('acs5', 2019,  censusdata.censusgeo([('state', '*')]), ['B07412_2'])"
   ]
  },
  {
   "cell_type": "code",
   "execution_count": 249,
   "id": "39827732-b321-47fa-acb5-dc3fc21f6d5c",
   "metadata": {},
   "outputs": [
    {
     "data": {
      "text/plain": [
       "[]"
      ]
     },
     "execution_count": 249,
     "metadata": {},
     "output_type": "execute_result"
    }
   ],
   "source": [
    "censusdata.search('acs5', 2019, 'concept', 'Population Poverty Status')"
   ]
  },
  {
   "cell_type": "markdown",
   "id": "94219c90-0f12-4cbf-9029-d358110c5fc5",
   "metadata": {
    "tags": []
   },
   "source": [
    "# IIJA 42.5 billion (for states) /$65 billion \n",
    "\n",
    "https://www.brookings.edu/blog/the-avenue/2021/08/13/the-senate-infrastructure-bills-four-interconnected-broadband-components/"
   ]
  },
  {
   "cell_type": "code",
   "execution_count": 26,
   "id": "bb9b65bc-8d31-4bc8-9989-43cffc3cbd3e",
   "metadata": {},
   "outputs": [],
   "source": [
    "# 42.5 billion in total; CURRENCY UNIT = million USD\n",
    "IIJA_STATE_TOTAL = 42500 \n",
    "\n",
    "HIGH_COST_ALLOCATION_TOTAL = 4250 # 10% i.e. 4.25 billion\n",
    "FIXED_BASE_PER_STATE = 100.0 \n",
    "OTHER_TERRITORIES_ALLOCATION = 100.0\n",
    "\n",
    "REMAIN_TOTAL = IIJA_STATE_TOTAL - HIGH_COST_ALLOCATION_TOTAL - OTHER_TERRITORIES_ALLOCATION - FIXED_BASE_PER_STATE * 52\n",
    "\n",
    "POPULATION_ALLOCATION_TOTAL = REMAIN_TOTAL / 2\n",
    "RURAL_ALLOCATION_TOTAL = REMAIN_TOTAL / 4\n",
    "POVERTY_ALLOCATION_TOTAL = REMAIN_TOTAL / 4\n"
   ]
  },
  {
   "cell_type": "code",
   "execution_count": 30,
   "id": "535b203c-2a51-43ba-97a2-1d9528101882",
   "metadata": {},
   "outputs": [
    {
     "name": "stdout",
     "output_type": "stream",
     "text": [
      "TOTAL ALLOCATION for 52 states should be: 38150.0, v.s. projected calculation: 38149.99999999999\n"
     ]
    }
   ],
   "source": [
    "for state in STATE_ABBRV_LIST_52:\n",
    "    # Start with a fixed base\n",
    "    ALL_STATES_DICT[state]['allocation'] = FIXED_BASE_PER_STATE\n",
    "    # population\n",
    "    ALL_STATES_DICT[state]['allocation'] += ALL_STATES_DICT[state]['population']/US_POPULATION * POPULATION_ALLOCATION_TOTAL\n",
    "    # rural\n",
    "    ALL_STATES_DICT[state]['allocation'] += ALL_STATES_DICT[state]['rural']/US_RURAL * RURAL_ALLOCATION_TOTAL\n",
    "    # poverty150\n",
    "    ALL_STATES_DICT[state]['allocation'] += ALL_STATES_DICT[state]['poverty150']/US_POVERTY150 * POVERTY_ALLOCATION_TOTAL\n",
    "\n",
    "\n",
    "for_52_states_allocation = IIJA_STATE_TOTAL - HIGH_COST_ALLOCATION_TOTAL - OTHER_TERRITORIES_ALLOCATION\n",
    "print(f\"TOTAL ALLOCATION for 52 states should be: {for_52_states_allocation}, v.s. projected calculation: {sum(ALL_STATES_DICT[state]['allocation'] for state in STATE_ABBRV_LIST_52)}\")\n",
    "\n",
    "for full_state_name in STATE_TO_ABBREV_52:\n",
    "    state = state = STATE_TO_ABBREV_52[full_state_name]\n",
    "    amount = '${:,.2f}'.format(ALL_STATES_DICT[state]['allocation'] * 1000000)\n",
    "    ALL_STATES_DICT[state]['allocation_currency'] = amount\n",
    "    \n"
   ]
  },
  {
   "cell_type": "code",
   "execution_count": 31,
   "id": "bd8a4acc-86d3-4d27-b9c1-a3f3da998aa2",
   "metadata": {},
   "outputs": [],
   "source": [
    "REVERSED_STATE_FIPS_DICT_52 = {v: k for k, v in STATE_FIPS_DICT_52.items()}\n",
    "\n",
    "IIJA_ALLOCATION = []\n",
    "\n",
    "for full_state_name in sorted(STATE_TO_ABBREV_52.keys()):\n",
    "    state = STATE_TO_ABBREV_52[full_state_name]\n",
    "    amount = ALL_STATES_DICT[state]['allocation'] * 1000000\n",
    "    amount_currency = ALL_STATES_DICT[state]['allocation_currency']\n",
    "    IIJA_ALLOCATION.append([full_state_name, state, \n",
    "                            REVERSED_STATE_FIPS_DICT_52[state], \n",
    "                             amount, amount_currency])\n",
    "\n",
    "IIJA_ALLOCATION = pd.DataFrame(IIJA_ALLOCATION, columns=['STATE', 'ABBRV', 'STATEFIPS', 'AMOUNT', 'AMOUNT (human-readable)'])\n",
    "\n",
    "IIJA_ALLOCATION.to_csv('iija-completed-projection.csv')"
   ]
  },
  {
   "cell_type": "code",
   "execution_count": null,
   "id": "6caf655e-3fb5-4333-817b-b14771eb0fb7",
   "metadata": {},
   "outputs": [],
   "source": []
  }
 ],
 "metadata": {
  "kernelspec": {
   "display_name": "Python 3 (ipykernel)",
   "language": "python",
   "name": "python3"
  },
  "language_info": {
   "codemirror_mode": {
    "name": "ipython",
    "version": 3
   },
   "file_extension": ".py",
   "mimetype": "text/x-python",
   "name": "python",
   "nbconvert_exporter": "python",
   "pygments_lexer": "ipython3",
   "version": "3.9.7"
  }
 },
 "nbformat": 4,
 "nbformat_minor": 5
}
