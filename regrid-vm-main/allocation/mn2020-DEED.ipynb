{
 "cells": [
  {
   "cell_type": "code",
   "execution_count": null,
   "id": "9a1b29ff-49bb-42d1-afef-268967075360",
   "metadata": {},
   "outputs": [],
   "source": [
    "https://mn.gov/deed/programs-services/broadband/grant-program/\n",
    "DEED will award grants to projects that provide the highest return in public benefits for the public costs incurred"
   ]
  },
  {
   "cell_type": "code",
   "execution_count": null,
   "id": "24122f4a-5151-4225-8a6c-a302b2d7afd3",
   "metadata": {},
   "outputs": [],
   "source": [
    "/120 points possible\n",
    "\n",
    "Improvements /20 points:\n",
    "    - # passings (potentially would-be-served households, biz, farms, and CommAnchorInsti)\n",
    "    - speed now vs speed after\n",
    "    \n",
    "Matching funds i.e. %req over Eligible Project Costs /10 points:\n",
    "    - req < 30% Eligible Project Costs = 10 points\n",
    "    \n",
    "Comm Participation /15 points:\n",
    "    - supported documentation from community partners (biz, township, tribal entity, comm coalition)\n",
    "\n",
    "Readiness /25 points:\n",
    "    - budget, infrastructure, funding sources, ...\n",
    "\n",
    "Sustainability /25 points: -- ironically, using year-prior track record/HISTORIC ACHIEVEMENTS\n",
    "    - technical expertise i.e. prior broadband experience\n",
    "    - extent and strength of org in sustaining delivery and maintenance\n",
    "    - financial statements/viability\n",
    "\n",
    "Econ & Comm impact /15 points:\n",
    "    - identifications of targeted biz & farms (how improved speed help them compete), \n",
    "        CommAnchorInsti (improved speed & existing comm programs), EduInsti (improved speed & e-learning)\n",
    "        Health&public safety locations (telemedicine), \n",
    "        econ distressed area (unemployment, poverty, population loss sigfinicantly > state average -- using medIncome & per Free/Reduced school lunches)\n",
    "\n",
    "Adoption /10 points: EASY POINTS\n",
    "    - plan for adoption activities\n",
    "    - offer of technical support/training\n",
    "    - offer of low-income assistance program\n",
    "    "
   ]
  },
  {
   "cell_type": "markdown",
   "id": "30777640-2e6f-4cb8-a6e3-35e68b879632",
   "metadata": {},
   "source": [
    "## 2020 Grantees\n",
    "https://mn.gov/deed/programs-services/broadband/grant-program/#2\n"
   ]
  },
  {
   "cell_type": "code",
   "execution_count": null,
   "id": "bfd4ce6a-0c20-4c7d-a1ce-4b796d07dbfd",
   "metadata": {},
   "outputs": [],
   "source": [
    "MOSTLY ARE 1/1 (up/down) Gbps (FIBER INTERNET)\n",
    "AcenTek grant $1.5m + match $3.5m = eligible project cost $5m, 374 passings -- 1 Gbps download and 100 Mbps upload\n",
    "Arvig grant $.5m + match $.9m = eligible cost $1.4m , 270 passing\n",
    "BEVCOMM $1.1m + match $1.8m = cost $2.9m, 330 passing\n",
    "CTC grant .35m + match .35m = cost .7m, 180 unserved passings\n",
    "Crosslake .6m grant + match .9m = cost 1.5m 232 unserved households\n",
    "Garden Valley grant 1.6m + match 1.6m = cost 3.2m 104 unS + 22 unDS\n",
    "Gardonville County Road 1.5m + 1.9m = 3.4m , 71 unS + 544 unDS\n",
    "Gardonville Hazel Hill Road .8m + match 1m = 1.7m, 212 unS + 80 unDS\n",
    "Halstad .7m + .7m = 1.4m , 57unS + 7 unDS\n",
    "Mediacom .6 + .6 = 1.2 , 26 unDS\n",
    "MiBroadband 1.1 + 2.2 = 3.3, 231 unS + 26 unDS\n",
    "Nuvera Goodhue .5 + 1 = 1.5, 150 unS\n",
    "* Nuvera Ulm .4 + .8 = 1.2, 80 unS + 68 unDS\n",
    "* Nuvera Webster .4 + .8 = 1.2, 103 unS + 180 unDS\n",
    "Runestone 1.4 + 2.7 = 4.1, 500 unS + 35 unDS\n",
    "Sytek 1 + 1.3 = 2.3, 130 passings\n",
    "West Central .4 + .6 = 1, 56 unS\n",
    "Wikstrom .5 + .6 = 1.1, 153 unS\n",
    "Winnebago 1m + 2.2 = 3.2, 319 unS (290 homes, 15 biz, 10 farms, 3 CommAnchorInsti)\n",
    "Winthrop .7 + 1 = 1.7, 150 unS\n",
    "Woodstock .3 + .8 = 1.1, 210 unDS (203 homes, 3 biz, 3 CommAnchorInsti)\n",
    "Charter Communications (Spectrum) ($30k 41unS + $11k 8unS + $24k for 42unS) -- 940/35 Mbps\n"
   ]
  },
  {
   "cell_type": "markdown",
   "id": "99bdafb2-c72d-4ba6-a3f2-af20679f70a4",
   "metadata": {},
   "source": [
    "## 2019 Grantees"
   ]
  },
  {
   "cell_type": "code",
   "execution_count": null,
   "id": "f0cdc900-3bc6-42e7-a62d-78a4555dd2c3",
   "metadata": {},
   "outputs": [],
   "source": [
    "AcenTek 2.9 + 6.7 = 9.6, 480 unS, 420 unDS\n",
    "Arvig .4 + .8 = 1.2 , 480 unS \n",
    "Arvig .4 + .7 = 1.1, 84unS + 336 unDS\n",
    "Benton .9 + 1.7 = 2.6, 250unS homes + 9 biz + 2 townhalss + 97 farms\n",
    "BEVCOMM 1.8 + 1.8 = 3.6, 417 unS homes + 88 farms + 59 bizs + 4 CommAnchorInsti\n",
    "BEVCOMM .2 + .4 = .6, 54 unS homes + 8 farms, 14 bizs\n",
    "BEVCOMM .6 + .8 = 1.4, 115 unS homes, 50 farms, 8 bizs\n",
    "Bois Forte 1.2 + 1.2 = 2.4, 10unS + 468 unDS\n",
    "CenturyLink 1.6 + 3.8 = 5.5, 950 unS + 64 unDS \n",
    "Charter .5 + .5 = 1, 40 unS + 225 unDS\n",
    "etc.\n",
    "\n",
    "\n"
   ]
  },
  {
   "cell_type": "code",
   "execution_count": null,
   "id": "c8b2ba90-7151-468e-8d0a-27f82f6302be",
   "metadata": {},
   "outputs": [],
   "source": []
  },
  {
   "cell_type": "code",
   "execution_count": null,
   "id": "367cc723-0c5a-414e-8dd7-49f19e957bf5",
   "metadata": {},
   "outputs": [],
   "source": []
  }
 ],
 "metadata": {
  "kernelspec": {
   "display_name": "Python 3 (ipykernel)",
   "language": "python",
   "name": "python3"
  },
  "language_info": {
   "codemirror_mode": {
    "name": "ipython",
    "version": 3
   },
   "file_extension": ".py",
   "mimetype": "text/x-python",
   "name": "python",
   "nbconvert_exporter": "python",
   "pygments_lexer": "ipython3",
   "version": "3.9.7"
  }
 },
 "nbformat": 4,
 "nbformat_minor": 5
}
