{
 "cells": [
  {
   "cell_type": "code",
   "execution_count": 17,
   "id": "b804aa82-4c81-462e-9413-5c47abc426c0",
   "metadata": {},
   "outputs": [
    {
     "name": "stdout",
     "output_type": "stream",
     "text": [
      "The autotime extension is already loaded. To reload it, use:\n",
      "  %reload_ext autotime\n",
      "time: 682 µs (started: 2022-02-14 20:17:46 -05:00)\n"
     ]
    }
   ],
   "source": [
    "import sqlalchemy\n",
    "import geopandas as gp\n",
    "import pandas as pd\n",
    "from shapely.geometry import Point\n",
    "%load_ext autotime\n",
    "import h3\n",
    "import numpy as np"
   ]
  },
  {
   "cell_type": "markdown",
   "id": "042a71da-c780-4e6f-a392-5ed497584882",
   "metadata": {
    "tags": []
   },
   "source": [
    "# TRY: ogr2ogr download postgis -> geojson (should be faster[?] than geopandas.from_postgis)\n",
    "- ALSO: foreign table queries (alarms)"
   ]
  },
  {
   "cell_type": "code",
   "execution_count": null,
   "id": "add996ab-a3af-4463-a2c4-c6e46ec05918",
   "metadata": {},
   "outputs": [],
   "source": [
    "# TODO HERE NOW"
   ]
  },
  {
   "cell_type": "code",
   "execution_count": null,
   "id": "5f83dd50-8772-47b5-b2dc-ad0f2dc2214d",
   "metadata": {},
   "outputs": [],
   "source": [
    "# TODO HERE NOW"
   ]
  },
  {
   "cell_type": "markdown",
   "id": "e766a725-0c44-433d-86ac-87feed412e30",
   "metadata": {},
   "source": [
    "# Putting together"
   ]
  },
  {
   "cell_type": "code",
   "execution_count": 2,
   "id": "959936f3-6cfe-4fa5-b3b3-17805ea7754b",
   "metadata": {},
   "outputs": [
    {
     "name": "stdout",
     "output_type": "stream",
     "text": [
      "time: 21.1 ms (started: 2022-02-14 20:01:42 -05:00)\n"
     ]
    }
   ],
   "source": [
    "pg_driver = 'postgresql+psycopg2'\n",
    "pg_user = 'boss_user'\n",
    "pg_pass = 'passDEV9g47uibjn2ijovZNEW' # boss dev\n",
    "pg_host = 'dev-boss.db.ready.net' # boss dev\n",
    "pg_port = '5432'\n",
    "pg_db = 'boss_db_dev'\n",
    "\n",
    "# # SRID = 4326 used by GPS system\n",
    "CRS = 4326\n",
    "\n",
    "engine = sqlalchemy.create_engine(f\"{pg_driver}://{pg_user}:{pg_pass}@{pg_host}:{pg_port}/{pg_db}\") \n",
    "\n",
    "cols = [\n",
    "    'u.id',\n",
    "    # 'u.map_point',\n",
    "    'u.first_name',\n",
    "    'u.last_name',\n",
    "    'u.account_status',\n",
    "    'u.account_type', \n",
    "    'u.service_status',\n",
    "    'op.organization_id',\n",
    "    'op.role',\n",
    "    'a.lat',\n",
    "    'a.lon']\n",
    "select_cols = ','.join(cols)\n",
    "\n",
    "# left outer join = include users not found in ogr_permission table\n",
    "# inner join = only include users found in ogr_permission table\n",
    "sql1 = f\"\"\"\n",
    "    select {select_cols}\n",
    "    from users u\n",
    "    inner join organization_permissions op on (u.id = op.user_id)\n",
    "    left outer join subscriptions s on u.id = s.user_id\n",
    "    inner join addresses a on s.service_address_id = a.id \n",
    "    where u.account_status = 'subscriber'\n",
    "    \"\"\"\n",
    "\n",
    "sql2 = f\"\"\"\n",
    "    select {select_cols}\n",
    "    from users u \n",
    "    inner join organization_permissions op on (u.id = op.user_id)\n",
    "    inner join addresses a on u.mailing_address_id = a.id\n",
    "    where u.account_status != 'subscriber'\n",
    "    \"\"\"\n"
   ]
  },
  {
   "cell_type": "code",
   "execution_count": 3,
   "id": "4d9f7e5e-a47a-4ca3-99de-436bbe656c1c",
   "metadata": {
    "tags": []
   },
   "outputs": [
    {
     "data": {
      "text/plain": [
       "((63793, 10), (473573, 10), 0)"
      ]
     },
     "execution_count": 3,
     "metadata": {},
     "output_type": "execute_result"
    },
    {
     "name": "stdout",
     "output_type": "stream",
     "text": [
      "time: 9.49 s (started: 2022-02-14 20:01:49 -05:00)\n"
     ]
    }
   ],
   "source": [
    "# 10sec now!\n",
    "udf1 = pd.read_sql_query(sql1, engine)\n",
    "udf2 = pd.read_sql_query(sql2, engine)\n",
    "udf1.shape, udf2.shape, len(set(udf1.id).intersection(set(udf2.id)))"
   ]
  },
  {
   "cell_type": "code",
   "execution_count": null,
   "id": "b2e0d390-eeb6-4b5f-b184-7c9d9e820db7",
   "metadata": {},
   "outputs": [],
   "source": [
    "# # 30sec: geopandas SLOW\n",
    "# udf1 = gp.GeoDataFrame.from_postgis(sql1, engine, geom_col='map_point', crs=CRS) \n",
    "# udf2 = gp.GeoDataFrame.from_postgis(sql2, engine, geom_col='map_point', crs=CRS) \n"
   ]
  },
  {
   "cell_type": "code",
   "execution_count": 105,
   "id": "a44299bb-2cd7-439d-ba44-53ea65d018c7",
   "metadata": {
    "tags": []
   },
   "outputs": [
    {
     "name": "stdout",
     "output_type": "stream",
     "text": [
      "time: 27.6 s (started: 2022-02-10 18:35:24 -05:00)\n"
     ]
    }
   ],
   "source": [
    "# # Combined query: generate more rows, but so hard to decipher!\n",
    "\n",
    "# cols = [\n",
    "#     'u.id',\n",
    "#     'u.map_point',\n",
    "#     'u.first_name',\n",
    "#     'u.last_name',\n",
    "#     'u.account_status',\n",
    "#     'u.account_type', \n",
    "#     'u.service_status',\n",
    "#     'op.organization_id',\n",
    "#     'op.role']\n",
    "\n",
    "# select_cols = ','.join(cols)\n",
    "\n",
    "# select_sql = f\"\"\"select {select_cols},\n",
    "# case\n",
    "# when u.account_status = 'subscriber' then a1.lat\n",
    "#                                      else a2.lat\n",
    "# end as lat,\n",
    "# case\n",
    "# when u.account_status = 'subscriber' then a1.lon\n",
    "#                                      else a2.lon\n",
    "# end as lon\n",
    "# from    users u\n",
    "# inner join organization_permissions op on (u.id = op.user_id)\n",
    "# left join subscriptions s  on (u.id = s.user_id)\n",
    "# left join addresses     a1 on (s.service_address_id = a1.id)\n",
    "# left join addresses     a2 on (u.mailing_address_id = a2.id)\"\"\"\n",
    "\n",
    "# udf_test = gp.GeoDataFrame.from_postgis(select_sql, engine, geom_col='map_point', crs=4326) \n",
    "\n",
    "# len(set(udf.id)-set(udf_test.id)), len(set(udf_test.id)-set(udf.id))\n",
    "# # (0, 17675)"
   ]
  },
  {
   "cell_type": "code",
   "execution_count": 4,
   "id": "2f4f2c01-b8df-464f-a129-d502d6440d35",
   "metadata": {},
   "outputs": [
    {
     "data": {
      "text/plain": [
       "(537363, 10)"
      ]
     },
     "execution_count": 4,
     "metadata": {},
     "output_type": "execute_result"
    },
    {
     "name": "stdout",
     "output_type": "stream",
     "text": [
      "time: 548 ms (started: 2022-02-14 20:02:03 -05:00)\n"
     ]
    }
   ],
   "source": [
    "# combine \n",
    "udf = pd.concat([udf1, udf2], ignore_index=True)\n",
    "### NOTE: id i.e. user_id should not be used as feature id (i.e. id for distinct points) because there are rows with same user_id (due to earlier JOIN statements)\n",
    "udf = udf.rename(columns={'id': 'user_id'})\n",
    "\n",
    "# drop rows with empty lat,lon [for now]\n",
    "udf = udf[udf.lat.notnull() | udf.lon.notnull()]\n",
    "\n",
    "# udf.lon = round(udf.lon,5)\n",
    "# udf.lat = round(udf.lat,5)\n",
    "udf.shape"
   ]
  },
  {
   "cell_type": "code",
   "execution_count": 425,
   "id": "f4539993-dc82-45d1-be53-30e3671d1370",
   "metadata": {},
   "outputs": [
    {
     "name": "stdout",
     "output_type": "stream",
     "text": [
      "time: 93 ms (started: 2022-02-11 12:57:17 -05:00)\n"
     ]
    }
   ],
   "source": [
    "# and tippecanoe doesn't need map_point col to mbtile\n",
    "# udf = udf.drop(columns='map_point')\n",
    "# [for now] overwrite all map_point using lat, lon \n",
    "### later: iff map_point are all correct, and populated ; then drop missing map_point if any\n",
    "\n",
    "# mask = (udf['map_point'].isnull())\n",
    "# udf.loc[mask, 'map_point'] = udf.loc[mask, ['lon', 'lat']].apply(lambda row: Point(row.lon, row.lat), axis=1)\n",
    "\n",
    "# # APLLY is always slow 24sec\n",
    "# udf['map_point'] = udf.apply(lambda row: Point(row.lon, row.lat), axis=1)\n",
    "\n",
    "# # 17 sec\n",
    "# udf['map_point'] = [Point(xy) for xy in zip(udf.lon, udf.lat)]\n",
    "\n",
    "\n",
    "# still slow: 13 sec\n",
    "# udf['map_point'] = gp.points_from_xy(udf.lon, udf.lat, crs= CRS)"
   ]
  },
  {
   "cell_type": "markdown",
   "id": "f5b9ffc3-af5b-4109-98b1-d74165582cc6",
   "metadata": {},
   "source": [
    "# [for now] drop role=admin rows,\n",
    "### remaining users are all subscribers, so drop column role as well"
   ]
  },
  {
   "cell_type": "code",
   "execution_count": 5,
   "id": "b34ee4cd-c7cd-4db1-88b5-3d26e1b62fa2",
   "metadata": {},
   "outputs": [
    {
     "data": {
      "text/plain": [
       "subscriber    537344\n",
       "admin              6\n",
       "Name: role, dtype: int64"
      ]
     },
     "execution_count": 5,
     "metadata": {},
     "output_type": "execute_result"
    },
    {
     "name": "stdout",
     "output_type": "stream",
     "text": [
      "time: 49.4 ms (started: 2022-02-14 20:02:24 -05:00)\n"
     ]
    }
   ],
   "source": [
    "udf.role.value_counts()"
   ]
  },
  {
   "cell_type": "code",
   "execution_count": 466,
   "id": "b1ee71fd-2299-4583-b123-6b58d4a5ddea",
   "metadata": {},
   "outputs": [
    {
     "name": "stdout",
     "output_type": "stream",
     "text": [
      "time: 310 ms (started: 2022-02-11 14:40:03 -05:00)\n"
     ]
    }
   ],
   "source": [
    "udf = udf[udf.role != 'admin']\n",
    "udf = udf.drop(columns='role')\n"
   ]
  },
  {
   "cell_type": "code",
   "execution_count": null,
   "id": "e6c0c326-4efc-44ae-934b-bf8e86cf8a97",
   "metadata": {},
   "outputs": [],
   "source": []
  },
  {
   "cell_type": "code",
   "execution_count": null,
   "id": "ada76868-1d02-4faf-aa57-d8876b981b32",
   "metadata": {},
   "outputs": [],
   "source": []
  },
  {
   "cell_type": "code",
   "execution_count": null,
   "id": "ed60320b-5f2c-4864-87f4-04c33975eaee",
   "metadata": {},
   "outputs": [],
   "source": []
  },
  {
   "cell_type": "markdown",
   "id": "827c982e-4762-4783-a9ab-c3f2d75d7f7d",
   "metadata": {},
   "source": [
    "# drop service_status [for now]; and DONT NEED lat, lon anymore"
   ]
  },
  {
   "cell_type": "code",
   "execution_count": 467,
   "id": "e2bbc7d6-6429-4304-bdc1-68b6885eb91b",
   "metadata": {},
   "outputs": [
    {
     "name": "stdout",
     "output_type": "stream",
     "text": [
      "time: 90.7 ms (started: 2022-02-11 14:41:37 -05:00)\n"
     ]
    }
   ],
   "source": [
    "udf = udf.drop(columns=['service_status'])"
   ]
  },
  {
   "cell_type": "markdown",
   "id": "04b11138-29e1-4359-a9e8-3d9ea7e97f9e",
   "metadata": {},
   "source": [
    "# fill na for account_type and account_status"
   ]
  },
  {
   "cell_type": "code",
   "execution_count": 468,
   "id": "0360a980-6ad0-463d-a272-16838585185f",
   "metadata": {},
   "outputs": [
    {
     "name": "stdout",
     "output_type": "stream",
     "text": [
      "time: 143 ms (started: 2022-02-11 14:41:39 -05:00)\n"
     ]
    }
   ],
   "source": [
    "udf.fillna({'account_type': 'null_acc_type', 'account_status': 'null_acc_status'}, inplace=True)"
   ]
  },
  {
   "cell_type": "markdown",
   "id": "ab119e3f-28c8-4844-b970-ec0e6f9154cb",
   "metadata": {},
   "source": [
    "# Create needed *-count columns for cluster views"
   ]
  },
  {
   "cell_type": "code",
   "execution_count": 469,
   "id": "47a2b044-c49a-46ae-ac56-58f2c21edf80",
   "metadata": {},
   "outputs": [
    {
     "name": "stdout",
     "output_type": "stream",
     "text": [
      "time: 381 µs (started: 2022-02-11 14:41:43 -05:00)\n"
     ]
    }
   ],
   "source": [
    "account_statuses = ['occupants',\n",
    "'suspended',\n",
    "'opportunity',\n",
    "'lead',\n",
    "'cancelled',\n",
    "'subscriber',\n",
    "'prospect',\n",
    "'ineligible',\n",
    "'pending',\n",
    "'null_acc_status']\n",
    "\n",
    "account_types = ['MDU',\n",
    "'commercial',\n",
    "'residential',\n",
    "'null_acc_type']"
   ]
  },
  {
   "cell_type": "code",
   "execution_count": 405,
   "id": "070bd00b-5866-4f91-b34d-ac13ac49eee5",
   "metadata": {},
   "outputs": [
    {
     "name": "stdout",
     "output_type": "stream",
     "text": [
      "time: 276 µs (started: 2022-02-10 22:14:31 -05:00)\n"
     ]
    }
   ],
   "source": [
    "# # 3 min :: SUPER SLOW!\n",
    "# def cat_acc_status(r):\n",
    "#     d = {}\n",
    "#     # all new cols have count =0, except the corresponding account status\n",
    "#     for acc_stt_cnt in account_statuses_counts:\n",
    "#         d[acc_stt_cnt] = 0\n",
    "#     d[f\"{r['account_status']}_count\"] = 1\n",
    "#     return pd.Series(d, index = account_statuses_counts)\n",
    "# udf_test = udf.apply(cat_acc_status, axis=1)\n",
    "# set(udf_test.sum(axis=1))"
   ]
  },
  {
   "cell_type": "markdown",
   "id": "945747d1-238d-4161-b871-557d2cb20fb1",
   "metadata": {},
   "source": [
    "### SUPER FAST!"
   ]
  },
  {
   "cell_type": "code",
   "execution_count": 454,
   "id": "67ccd1ee-c7ca-433a-a69b-4293f090495a",
   "metadata": {},
   "outputs": [
    {
     "data": {
      "text/html": [
       "<div>\n",
       "<style scoped>\n",
       "    .dataframe tbody tr th:only-of-type {\n",
       "        vertical-align: middle;\n",
       "    }\n",
       "\n",
       "    .dataframe tbody tr th {\n",
       "        vertical-align: top;\n",
       "    }\n",
       "\n",
       "    .dataframe thead th {\n",
       "        text-align: right;\n",
       "    }\n",
       "</style>\n",
       "<table border=\"1\" class=\"dataframe\">\n",
       "  <thead>\n",
       "    <tr style=\"text-align: right;\">\n",
       "      <th></th>\n",
       "      <th>user_id</th>\n",
       "      <th>first_name</th>\n",
       "      <th>last_name</th>\n",
       "      <th>account_status</th>\n",
       "      <th>account_type</th>\n",
       "      <th>organization_id</th>\n",
       "      <th>lat</th>\n",
       "      <th>lon</th>\n",
       "      <th>occupants_count</th>\n",
       "      <th>suspended_count</th>\n",
       "      <th>...</th>\n",
       "      <th>cancelled_count</th>\n",
       "      <th>subscriber_count</th>\n",
       "      <th>prospect_count</th>\n",
       "      <th>ineligible_count</th>\n",
       "      <th>pending_count</th>\n",
       "      <th>null_acc_status_count</th>\n",
       "      <th>MDU_count</th>\n",
       "      <th>commercial_count</th>\n",
       "      <th>residential_count</th>\n",
       "      <th>null_acc_type_count</th>\n",
       "    </tr>\n",
       "  </thead>\n",
       "  <tbody>\n",
       "    <tr>\n",
       "      <th>0</th>\n",
       "      <td>3449</td>\n",
       "      <td>Lance</td>\n",
       "      <td>Nichols</td>\n",
       "      <td>subscriber</td>\n",
       "      <td>residential</td>\n",
       "      <td>206</td>\n",
       "      <td>37.087292</td>\n",
       "      <td>-94.508629</td>\n",
       "      <td>0</td>\n",
       "      <td>0</td>\n",
       "      <td>...</td>\n",
       "      <td>0</td>\n",
       "      <td>1</td>\n",
       "      <td>0</td>\n",
       "      <td>0</td>\n",
       "      <td>0</td>\n",
       "      <td>0</td>\n",
       "      <td>0</td>\n",
       "      <td>0</td>\n",
       "      <td>1</td>\n",
       "      <td>0</td>\n",
       "    </tr>\n",
       "    <tr>\n",
       "      <th>1</th>\n",
       "      <td>3453</td>\n",
       "      <td>Angela</td>\n",
       "      <td>Williams</td>\n",
       "      <td>subscriber</td>\n",
       "      <td>residential</td>\n",
       "      <td>206</td>\n",
       "      <td>37.018265</td>\n",
       "      <td>-94.737060</td>\n",
       "      <td>0</td>\n",
       "      <td>0</td>\n",
       "      <td>...</td>\n",
       "      <td>0</td>\n",
       "      <td>1</td>\n",
       "      <td>0</td>\n",
       "      <td>0</td>\n",
       "      <td>0</td>\n",
       "      <td>0</td>\n",
       "      <td>0</td>\n",
       "      <td>0</td>\n",
       "      <td>1</td>\n",
       "      <td>0</td>\n",
       "    </tr>\n",
       "    <tr>\n",
       "      <th>2</th>\n",
       "      <td>3454</td>\n",
       "      <td>Terry and Jackie</td>\n",
       "      <td>Osborne</td>\n",
       "      <td>subscriber</td>\n",
       "      <td>residential</td>\n",
       "      <td>206</td>\n",
       "      <td>36.911465</td>\n",
       "      <td>-94.426280</td>\n",
       "      <td>0</td>\n",
       "      <td>0</td>\n",
       "      <td>...</td>\n",
       "      <td>0</td>\n",
       "      <td>1</td>\n",
       "      <td>0</td>\n",
       "      <td>0</td>\n",
       "      <td>0</td>\n",
       "      <td>0</td>\n",
       "      <td>0</td>\n",
       "      <td>0</td>\n",
       "      <td>1</td>\n",
       "      <td>0</td>\n",
       "    </tr>\n",
       "    <tr>\n",
       "      <th>3</th>\n",
       "      <td>448775</td>\n",
       "      <td>Jase</td>\n",
       "      <td>Wilson</td>\n",
       "      <td>subscriber</td>\n",
       "      <td>residential</td>\n",
       "      <td>77</td>\n",
       "      <td>43.603029</td>\n",
       "      <td>-116.405121</td>\n",
       "      <td>0</td>\n",
       "      <td>0</td>\n",
       "      <td>...</td>\n",
       "      <td>0</td>\n",
       "      <td>1</td>\n",
       "      <td>0</td>\n",
       "      <td>0</td>\n",
       "      <td>0</td>\n",
       "      <td>0</td>\n",
       "      <td>0</td>\n",
       "      <td>0</td>\n",
       "      <td>1</td>\n",
       "      <td>0</td>\n",
       "    </tr>\n",
       "    <tr>\n",
       "      <th>4</th>\n",
       "      <td>3455</td>\n",
       "      <td>David</td>\n",
       "      <td>McLean</td>\n",
       "      <td>subscriber</td>\n",
       "      <td>residential</td>\n",
       "      <td>206</td>\n",
       "      <td>37.138456</td>\n",
       "      <td>-94.565377</td>\n",
       "      <td>0</td>\n",
       "      <td>0</td>\n",
       "      <td>...</td>\n",
       "      <td>0</td>\n",
       "      <td>1</td>\n",
       "      <td>0</td>\n",
       "      <td>0</td>\n",
       "      <td>0</td>\n",
       "      <td>0</td>\n",
       "      <td>0</td>\n",
       "      <td>0</td>\n",
       "      <td>1</td>\n",
       "      <td>0</td>\n",
       "    </tr>\n",
       "    <tr>\n",
       "      <th>...</th>\n",
       "      <td>...</td>\n",
       "      <td>...</td>\n",
       "      <td>...</td>\n",
       "      <td>...</td>\n",
       "      <td>...</td>\n",
       "      <td>...</td>\n",
       "      <td>...</td>\n",
       "      <td>...</td>\n",
       "      <td>...</td>\n",
       "      <td>...</td>\n",
       "      <td>...</td>\n",
       "      <td>...</td>\n",
       "      <td>...</td>\n",
       "      <td>...</td>\n",
       "      <td>...</td>\n",
       "      <td>...</td>\n",
       "      <td>...</td>\n",
       "      <td>...</td>\n",
       "      <td>...</td>\n",
       "      <td>...</td>\n",
       "      <td>...</td>\n",
       "    </tr>\n",
       "    <tr>\n",
       "      <th>913037</th>\n",
       "      <td>386571</td>\n",
       "      <td>Minnie</td>\n",
       "      <td>Kovacek</td>\n",
       "      <td>lead</td>\n",
       "      <td>residential</td>\n",
       "      <td>77</td>\n",
       "      <td>39.745690</td>\n",
       "      <td>-94.833118</td>\n",
       "      <td>0</td>\n",
       "      <td>0</td>\n",
       "      <td>...</td>\n",
       "      <td>0</td>\n",
       "      <td>0</td>\n",
       "      <td>0</td>\n",
       "      <td>0</td>\n",
       "      <td>0</td>\n",
       "      <td>0</td>\n",
       "      <td>0</td>\n",
       "      <td>0</td>\n",
       "      <td>1</td>\n",
       "      <td>0</td>\n",
       "    </tr>\n",
       "    <tr>\n",
       "      <th>913038</th>\n",
       "      <td>386551</td>\n",
       "      <td>Zoie</td>\n",
       "      <td>Jenkins</td>\n",
       "      <td>lead</td>\n",
       "      <td>residential</td>\n",
       "      <td>77</td>\n",
       "      <td>39.745616</td>\n",
       "      <td>-94.825848</td>\n",
       "      <td>0</td>\n",
       "      <td>0</td>\n",
       "      <td>...</td>\n",
       "      <td>0</td>\n",
       "      <td>0</td>\n",
       "      <td>0</td>\n",
       "      <td>0</td>\n",
       "      <td>0</td>\n",
       "      <td>0</td>\n",
       "      <td>0</td>\n",
       "      <td>0</td>\n",
       "      <td>1</td>\n",
       "      <td>0</td>\n",
       "    </tr>\n",
       "    <tr>\n",
       "      <th>913039</th>\n",
       "      <td>386098</td>\n",
       "      <td>Luisa</td>\n",
       "      <td>Pacocha</td>\n",
       "      <td>lead</td>\n",
       "      <td>residential</td>\n",
       "      <td>77</td>\n",
       "      <td>39.756180</td>\n",
       "      <td>-94.812600</td>\n",
       "      <td>0</td>\n",
       "      <td>0</td>\n",
       "      <td>...</td>\n",
       "      <td>0</td>\n",
       "      <td>0</td>\n",
       "      <td>0</td>\n",
       "      <td>0</td>\n",
       "      <td>0</td>\n",
       "      <td>0</td>\n",
       "      <td>0</td>\n",
       "      <td>0</td>\n",
       "      <td>1</td>\n",
       "      <td>0</td>\n",
       "    </tr>\n",
       "    <tr>\n",
       "      <th>913040</th>\n",
       "      <td>386035</td>\n",
       "      <td>Taya</td>\n",
       "      <td>Stanton</td>\n",
       "      <td>lead</td>\n",
       "      <td>residential</td>\n",
       "      <td>77</td>\n",
       "      <td>39.758440</td>\n",
       "      <td>-94.801341</td>\n",
       "      <td>0</td>\n",
       "      <td>0</td>\n",
       "      <td>...</td>\n",
       "      <td>0</td>\n",
       "      <td>0</td>\n",
       "      <td>0</td>\n",
       "      <td>0</td>\n",
       "      <td>0</td>\n",
       "      <td>0</td>\n",
       "      <td>0</td>\n",
       "      <td>0</td>\n",
       "      <td>1</td>\n",
       "      <td>0</td>\n",
       "    </tr>\n",
       "    <tr>\n",
       "      <th>913041</th>\n",
       "      <td>385795</td>\n",
       "      <td>Bryana</td>\n",
       "      <td>Towne</td>\n",
       "      <td>lead</td>\n",
       "      <td>residential</td>\n",
       "      <td>77</td>\n",
       "      <td>39.763557</td>\n",
       "      <td>-94.816052</td>\n",
       "      <td>0</td>\n",
       "      <td>0</td>\n",
       "      <td>...</td>\n",
       "      <td>0</td>\n",
       "      <td>0</td>\n",
       "      <td>0</td>\n",
       "      <td>0</td>\n",
       "      <td>0</td>\n",
       "      <td>0</td>\n",
       "      <td>0</td>\n",
       "      <td>0</td>\n",
       "      <td>1</td>\n",
       "      <td>0</td>\n",
       "    </tr>\n",
       "  </tbody>\n",
       "</table>\n",
       "<p>913033 rows × 22 columns</p>\n",
       "</div>"
      ],
      "text/plain": [
       "        user_id        first_name last_name account_status account_type  \\\n",
       "0          3449             Lance   Nichols     subscriber  residential   \n",
       "1          3453            Angela  Williams     subscriber  residential   \n",
       "2          3454  Terry and Jackie   Osborne     subscriber  residential   \n",
       "3        448775              Jase    Wilson     subscriber  residential   \n",
       "4          3455             David    McLean     subscriber  residential   \n",
       "...         ...               ...       ...            ...          ...   \n",
       "913037   386571            Minnie   Kovacek           lead  residential   \n",
       "913038   386551              Zoie   Jenkins           lead  residential   \n",
       "913039   386098             Luisa   Pacocha           lead  residential   \n",
       "913040   386035              Taya   Stanton           lead  residential   \n",
       "913041   385795            Bryana     Towne           lead  residential   \n",
       "\n",
       "        organization_id        lat         lon  occupants_count  \\\n",
       "0                   206  37.087292  -94.508629                0   \n",
       "1                   206  37.018265  -94.737060                0   \n",
       "2                   206  36.911465  -94.426280                0   \n",
       "3                    77  43.603029 -116.405121                0   \n",
       "4                   206  37.138456  -94.565377                0   \n",
       "...                 ...        ...         ...              ...   \n",
       "913037               77  39.745690  -94.833118                0   \n",
       "913038               77  39.745616  -94.825848                0   \n",
       "913039               77  39.756180  -94.812600                0   \n",
       "913040               77  39.758440  -94.801341                0   \n",
       "913041               77  39.763557  -94.816052                0   \n",
       "\n",
       "        suspended_count  ...  cancelled_count  subscriber_count  \\\n",
       "0                     0  ...                0                 1   \n",
       "1                     0  ...                0                 1   \n",
       "2                     0  ...                0                 1   \n",
       "3                     0  ...                0                 1   \n",
       "4                     0  ...                0                 1   \n",
       "...                 ...  ...              ...               ...   \n",
       "913037                0  ...                0                 0   \n",
       "913038                0  ...                0                 0   \n",
       "913039                0  ...                0                 0   \n",
       "913040                0  ...                0                 0   \n",
       "913041                0  ...                0                 0   \n",
       "\n",
       "        prospect_count  ineligible_count  pending_count  \\\n",
       "0                    0                 0              0   \n",
       "1                    0                 0              0   \n",
       "2                    0                 0              0   \n",
       "3                    0                 0              0   \n",
       "4                    0                 0              0   \n",
       "...                ...               ...            ...   \n",
       "913037               0                 0              0   \n",
       "913038               0                 0              0   \n",
       "913039               0                 0              0   \n",
       "913040               0                 0              0   \n",
       "913041               0                 0              0   \n",
       "\n",
       "        null_acc_status_count  MDU_count  commercial_count  residential_count  \\\n",
       "0                           0          0                 0                  1   \n",
       "1                           0          0                 0                  1   \n",
       "2                           0          0                 0                  1   \n",
       "3                           0          0                 0                  1   \n",
       "4                           0          0                 0                  1   \n",
       "...                       ...        ...               ...                ...   \n",
       "913037                      0          0                 0                  1   \n",
       "913038                      0          0                 0                  1   \n",
       "913039                      0          0                 0                  1   \n",
       "913040                      0          0                 0                  1   \n",
       "913041                      0          0                 0                  1   \n",
       "\n",
       "        null_acc_type_count  \n",
       "0                         0  \n",
       "1                         0  \n",
       "2                         0  \n",
       "3                         0  \n",
       "4                         0  \n",
       "...                     ...  \n",
       "913037                    0  \n",
       "913038                    0  \n",
       "913039                    0  \n",
       "913040                    0  \n",
       "913041                    0  \n",
       "\n",
       "[913033 rows x 22 columns]"
      ]
     },
     "execution_count": 454,
     "metadata": {},
     "output_type": "execute_result"
    },
    {
     "name": "stdout",
     "output_type": "stream",
     "text": [
      "time: 576 ms (started: 2022-02-11 13:09:46 -05:00)\n"
     ]
    }
   ],
   "source": [
    "udf"
   ]
  },
  {
   "cell_type": "code",
   "execution_count": 455,
   "id": "c16c6838-9a84-459a-8d3f-a440f62dafb1",
   "metadata": {},
   "outputs": [
    {
     "data": {
      "text/plain": [
       "{2}"
      ]
     },
     "execution_count": 455,
     "metadata": {},
     "output_type": "execute_result"
    },
    {
     "name": "stdout",
     "output_type": "stream",
     "text": [
      "time: 1.12 s (started: 2022-02-11 13:10:01 -05:00)\n"
     ]
    }
   ],
   "source": [
    "for acc_stt in account_statuses:\n",
    "    udf[f\"{acc_stt}_count\"] = np.where(udf.account_status == acc_stt, 1, 0)\n",
    "for acc_tp in account_types:\n",
    "    udf[f\"{acc_tp}_count\"] = np.where(udf.account_type == acc_tp, 1, 0)    \n",
    "\n",
    "# sanity check: sum of newly created *-count cols should be 2 for every row\n",
    "set(udf.iloc[:,8:].sum(axis=1))"
   ]
  },
  {
   "cell_type": "code",
   "execution_count": 456,
   "id": "8e88a4e5-a6e1-44bb-a9b0-adeff592204b",
   "metadata": {},
   "outputs": [
    {
     "data": {
      "text/plain": [
       "user_id                     0\n",
       "first_name               8163\n",
       "last_name                   0\n",
       "account_status              0\n",
       "account_type                0\n",
       "organization_id             0\n",
       "lat                         0\n",
       "lon                         0\n",
       "occupants_count             0\n",
       "suspended_count             0\n",
       "opportunity_count           0\n",
       "lead_count                  0\n",
       "cancelled_count             0\n",
       "subscriber_count            0\n",
       "prospect_count              0\n",
       "ineligible_count            0\n",
       "pending_count               0\n",
       "null_acc_status_count       0\n",
       "MDU_count                   0\n",
       "commercial_count            0\n",
       "residential_count           0\n",
       "null_acc_type_count         0\n",
       "dtype: int64"
      ]
     },
     "execution_count": 456,
     "metadata": {},
     "output_type": "execute_result"
    },
    {
     "name": "stdout",
     "output_type": "stream",
     "text": [
      "time: 260 ms (started: 2022-02-11 13:10:06 -05:00)\n"
     ]
    }
   ],
   "source": [
    "udf.isnull().sum()"
   ]
  },
  {
   "cell_type": "markdown",
   "id": "fc37641c-2579-49ee-89d0-343f762aeb55",
   "metadata": {},
   "source": [
    "# output different geojson for different point/cluster views"
   ]
  },
  {
   "cell_type": "code",
   "execution_count": null,
   "id": "7ca4f8b8-2b92-4848-a9e5-d42549759ef1",
   "metadata": {},
   "outputs": [],
   "source": [
    "# top 5 are: \n",
    "444 UF demo, \n",
    "451 highline, \n",
    "77 FATFiber\n",
    "432 UF\n",
    "214 Wisper ISP"
   ]
  },
  {
   "cell_type": "code",
   "execution_count": 411,
   "id": "da4ab135-0215-45d3-9807-b0687728a83a",
   "metadata": {},
   "outputs": [
    {
     "data": {
      "text/plain": [
       "444    259881\n",
       "451    228814\n",
       "77      77995\n",
       "432     65910\n",
       "214     16192\n",
       "206      4297\n",
       "216      1001\n",
       "Name: organization_id, dtype: int64"
      ]
     },
     "execution_count": 411,
     "metadata": {},
     "output_type": "execute_result"
    },
    {
     "name": "stdout",
     "output_type": "stream",
     "text": [
      "time: 5.49 ms (started: 2022-02-10 22:15:49 -05:00)\n"
     ]
    }
   ],
   "source": [
    "udf.organization_id.value_counts().head(7)"
   ]
  },
  {
   "cell_type": "markdown",
   "id": "05ac4967-071f-440e-a08f-1b2c92d1df73",
   "metadata": {},
   "source": [
    "## save to UF-demo ogr for now"
   ]
  },
  {
   "cell_type": "code",
   "execution_count": 459,
   "id": "197120b7-48b8-417f-93b9-96a30c1fe3f9",
   "metadata": {},
   "outputs": [
    {
     "name": "stdout",
     "output_type": "stream",
     "text": [
      "time: 2.96 s (started: 2022-02-11 13:13:20 -05:00)\n"
     ]
    }
   ],
   "source": [
    "uf_demo = udf.loc[udf.organization_id == 444].drop(columns=['organization_id'])"
   ]
  },
  {
   "cell_type": "code",
   "execution_count": 470,
   "id": "cb4efa3a-7f09-4b9c-a429-6a8b9945a039",
   "metadata": {},
   "outputs": [
    {
     "data": {
      "text/html": [
       "<div>\n",
       "<style scoped>\n",
       "    .dataframe tbody tr th:only-of-type {\n",
       "        vertical-align: middle;\n",
       "    }\n",
       "\n",
       "    .dataframe tbody tr th {\n",
       "        vertical-align: top;\n",
       "    }\n",
       "\n",
       "    .dataframe thead th {\n",
       "        text-align: right;\n",
       "    }\n",
       "</style>\n",
       "<table border=\"1\" class=\"dataframe\">\n",
       "  <thead>\n",
       "    <tr style=\"text-align: right;\">\n",
       "      <th></th>\n",
       "      <th>user_id</th>\n",
       "      <th>first_name</th>\n",
       "      <th>last_name</th>\n",
       "      <th>account_status</th>\n",
       "      <th>account_type</th>\n",
       "      <th>lat</th>\n",
       "      <th>lon</th>\n",
       "      <th>occupants_count</th>\n",
       "      <th>suspended_count</th>\n",
       "      <th>opportunity_count</th>\n",
       "      <th>...</th>\n",
       "      <th>cancelled_count</th>\n",
       "      <th>subscriber_count</th>\n",
       "      <th>prospect_count</th>\n",
       "      <th>ineligible_count</th>\n",
       "      <th>pending_count</th>\n",
       "      <th>null_acc_status_count</th>\n",
       "      <th>MDU_count</th>\n",
       "      <th>commercial_count</th>\n",
       "      <th>residential_count</th>\n",
       "      <th>null_acc_type_count</th>\n",
       "    </tr>\n",
       "  </thead>\n",
       "  <tbody>\n",
       "    <tr>\n",
       "      <th>639361</th>\n",
       "      <td>2411213</td>\n",
       "      <td>Vaughan Richard M &amp; Cheryl J</td>\n",
       "      <td></td>\n",
       "      <td>occupants</td>\n",
       "      <td>residential</td>\n",
       "      <td>39.386724</td>\n",
       "      <td>-94.578468</td>\n",
       "      <td>1</td>\n",
       "      <td>0</td>\n",
       "      <td>0</td>\n",
       "      <td>...</td>\n",
       "      <td>0</td>\n",
       "      <td>0</td>\n",
       "      <td>0</td>\n",
       "      <td>0</td>\n",
       "      <td>0</td>\n",
       "      <td>0</td>\n",
       "      <td>0</td>\n",
       "      <td>0</td>\n",
       "      <td>1</td>\n",
       "      <td>0</td>\n",
       "    </tr>\n",
       "    <tr>\n",
       "      <th>816586</th>\n",
       "      <td>2423622</td>\n",
       "      <td>Kcbs Llc</td>\n",
       "      <td></td>\n",
       "      <td>occupants</td>\n",
       "      <td>MDU</td>\n",
       "      <td>39.209346</td>\n",
       "      <td>-94.689246</td>\n",
       "      <td>1</td>\n",
       "      <td>0</td>\n",
       "      <td>0</td>\n",
       "      <td>...</td>\n",
       "      <td>0</td>\n",
       "      <td>0</td>\n",
       "      <td>0</td>\n",
       "      <td>0</td>\n",
       "      <td>0</td>\n",
       "      <td>0</td>\n",
       "      <td>1</td>\n",
       "      <td>0</td>\n",
       "      <td>0</td>\n",
       "      <td>0</td>\n",
       "    </tr>\n",
       "    <tr>\n",
       "      <th>384367</th>\n",
       "      <td>1754336</td>\n",
       "      <td>Audra</td>\n",
       "      <td>Edwards</td>\n",
       "      <td>lead</td>\n",
       "      <td>commercial</td>\n",
       "      <td>39.336711</td>\n",
       "      <td>-94.265846</td>\n",
       "      <td>0</td>\n",
       "      <td>0</td>\n",
       "      <td>0</td>\n",
       "      <td>...</td>\n",
       "      <td>0</td>\n",
       "      <td>0</td>\n",
       "      <td>0</td>\n",
       "      <td>0</td>\n",
       "      <td>0</td>\n",
       "      <td>0</td>\n",
       "      <td>0</td>\n",
       "      <td>1</td>\n",
       "      <td>0</td>\n",
       "      <td>0</td>\n",
       "    </tr>\n",
       "    <tr>\n",
       "      <th>763841</th>\n",
       "      <td>2428392</td>\n",
       "      <td>Brighton Crossing 2 Llc</td>\n",
       "      <td></td>\n",
       "      <td>occupants</td>\n",
       "      <td>MDU</td>\n",
       "      <td>39.238495</td>\n",
       "      <td>-94.513270</td>\n",
       "      <td>1</td>\n",
       "      <td>0</td>\n",
       "      <td>0</td>\n",
       "      <td>...</td>\n",
       "      <td>0</td>\n",
       "      <td>0</td>\n",
       "      <td>0</td>\n",
       "      <td>0</td>\n",
       "      <td>0</td>\n",
       "      <td>0</td>\n",
       "      <td>1</td>\n",
       "      <td>0</td>\n",
       "      <td>0</td>\n",
       "      <td>0</td>\n",
       "    </tr>\n",
       "    <tr>\n",
       "      <th>448048</th>\n",
       "      <td>2388373</td>\n",
       "      <td>Hines Mary M</td>\n",
       "      <td></td>\n",
       "      <td>occupants</td>\n",
       "      <td>residential</td>\n",
       "      <td>39.242266</td>\n",
       "      <td>-94.587211</td>\n",
       "      <td>1</td>\n",
       "      <td>0</td>\n",
       "      <td>0</td>\n",
       "      <td>...</td>\n",
       "      <td>0</td>\n",
       "      <td>0</td>\n",
       "      <td>0</td>\n",
       "      <td>0</td>\n",
       "      <td>0</td>\n",
       "      <td>0</td>\n",
       "      <td>0</td>\n",
       "      <td>0</td>\n",
       "      <td>1</td>\n",
       "      <td>0</td>\n",
       "    </tr>\n",
       "  </tbody>\n",
       "</table>\n",
       "<p>5 rows × 21 columns</p>\n",
       "</div>"
      ],
      "text/plain": [
       "        user_id                    first_name last_name account_status  \\\n",
       "639361  2411213  Vaughan Richard M & Cheryl J                occupants   \n",
       "816586  2423622                      Kcbs Llc                occupants   \n",
       "384367  1754336                         Audra   Edwards           lead   \n",
       "763841  2428392       Brighton Crossing 2 Llc                occupants   \n",
       "448048  2388373                  Hines Mary M                occupants   \n",
       "\n",
       "       account_type        lat        lon  occupants_count  suspended_count  \\\n",
       "639361  residential  39.386724 -94.578468                1                0   \n",
       "816586          MDU  39.209346 -94.689246                1                0   \n",
       "384367   commercial  39.336711 -94.265846                0                0   \n",
       "763841          MDU  39.238495 -94.513270                1                0   \n",
       "448048  residential  39.242266 -94.587211                1                0   \n",
       "\n",
       "        opportunity_count  ...  cancelled_count  subscriber_count  \\\n",
       "639361                  0  ...                0                 0   \n",
       "816586                  0  ...                0                 0   \n",
       "384367                  0  ...                0                 0   \n",
       "763841                  0  ...                0                 0   \n",
       "448048                  0  ...                0                 0   \n",
       "\n",
       "        prospect_count  ineligible_count  pending_count  \\\n",
       "639361               0                 0              0   \n",
       "816586               0                 0              0   \n",
       "384367               0                 0              0   \n",
       "763841               0                 0              0   \n",
       "448048               0                 0              0   \n",
       "\n",
       "        null_acc_status_count  MDU_count  commercial_count  residential_count  \\\n",
       "639361                      0          0                 0                  1   \n",
       "816586                      0          1                 0                  0   \n",
       "384367                      0          0                 1                  0   \n",
       "763841                      0          1                 0                  0   \n",
       "448048                      0          0                 0                  1   \n",
       "\n",
       "        null_acc_type_count  \n",
       "639361                    0  \n",
       "816586                    0  \n",
       "384367                    0  \n",
       "763841                    0  \n",
       "448048                    0  \n",
       "\n",
       "[5 rows x 21 columns]"
      ]
     },
     "execution_count": 470,
     "metadata": {},
     "output_type": "execute_result"
    },
    {
     "name": "stdout",
     "output_type": "stream",
     "text": [
      "time: 21.4 ms (started: 2022-02-11 16:37:01 -05:00)\n"
     ]
    }
   ],
   "source": [
    "uf_demo.sample(5)"
   ]
  },
  {
   "cell_type": "code",
   "execution_count": 461,
   "id": "9389a7de-bd35-4a26-b055-88084a954345",
   "metadata": {},
   "outputs": [
    {
     "name": "stdout",
     "output_type": "stream",
     "text": [
      "time: 2.01 s (started: 2022-02-11 13:36:28 -05:00)\n"
     ]
    }
   ],
   "source": [
    "# tippecanoe read lat/lon cols from csv file, else have to save as geojson using geopandas (slow)\n",
    "uf_demo.to_csv('data/ufdemo.csv', index=False)"
   ]
  },
  {
   "cell_type": "code",
   "execution_count": 462,
   "id": "2a0cb9d0-1225-4085-a14c-6eb51171be45",
   "metadata": {},
   "outputs": [
    {
     "name": "stdout",
     "output_type": "stream",
     "text": [
      "time: 2.74 s (started: 2022-02-11 13:36:46 -05:00)\n"
     ]
    }
   ],
   "source": [
    "# uf_demo.to_json('data/ufdemo.json', orient='records')"
   ]
  },
  {
   "cell_type": "code",
   "execution_count": null,
   "id": "b31550a6-bc47-41aa-8cef-3b2df5841215",
   "metadata": {},
   "outputs": [],
   "source": [
    "## TODO : mbtiling and visualize different layers"
   ]
  },
  {
   "cell_type": "code",
   "execution_count": null,
   "id": "c03f76f7-8c80-4730-91b6-88410364d24a",
   "metadata": {},
   "outputs": [],
   "source": []
  },
  {
   "cell_type": "code",
   "execution_count": null,
   "id": "58de4cad-ec3e-4872-b3de-67bbeb1d8487",
   "metadata": {},
   "outputs": [],
   "source": []
  },
  {
   "cell_type": "markdown",
   "id": "3e01ea9b-e273-4dc9-9ee9-b2ab66b29c2e",
   "metadata": {
    "tags": []
   },
   "source": [
    "# mbtiling # 1min"
   ]
  },
  {
   "cell_type": "code",
   "execution_count": null,
   "id": "f1ed45c2-a281-482d-9407-d5abd06542bb",
   "metadata": {},
   "outputs": [],
   "source": [
    "# commands\n",
    "# To see layer name: use CLI: \n",
    "# ogrinfo users-table/data/users.json \n",
    "# = 1: users (Point) = (users layer, geom type = Point)\n",
    "\n",
    "ogrinfo -al ~/users-table/data/users.json | head -6\n",
    "# Layer name: users\n",
    "# Geometry: Point\n",
    "# Feature Count: 675577\n",
    "\n",
    "ogrinfo -al users-table/data/users.json >> users-table/ogrinfo.out\n",
    "\n",
    "$ bash mbtiling.bash\n",
    "\n",
    "# NOTE: mbtiles output is saved at ~/update-regrid/data/users.mbtiles\n",
    "# and would be serve by tileserver-gl at port 5000 (same docker service/location where parcel mbtiles are served)\n",
    "\n",
    "# update config.json at ~/update-regrid/data/config.json\n",
    "cat > ~/update-regrid/data/config.json\n"
   ]
  },
  {
   "cell_type": "code",
   "execution_count": null,
   "id": "a9476817-b99a-4553-b832-7b29a131f31c",
   "metadata": {},
   "outputs": [],
   "source": [
    "{\n",
    "  \"options\": {\n",
    "    \"paths\": { \"mbtiles\": \"/data\" }\n",
    "  },\n",
    "  \"styles\": {\n",
    "\n",
    "  },\n",
    "  \"data\": {\n",
    "       \"parcels_ak\" : { \"mbtiles\": \"parcels_ak.mbtiles\" }, \n",
    "       \"parcels_al\" : { \"mbtiles\": \"parcels_al.mbtiles\" }, \n",
    "       \"parcels_ar\" : { \"mbtiles\": \"parcels_ar.mbtiles\" }, \n",
    "       \"parcels_az\" : { \"mbtiles\": \"parcels_az.mbtiles\" }, \n",
    "       \"parcels_ca\" : { \"mbtiles\": \"parcels_ca.mbtiles\" }, \n",
    "       \"parcels_co\" : { \"mbtiles\": \"parcels_co.mbtiles\" }, \n",
    "       \"parcels_ct\" : { \"mbtiles\": \"parcels_ct.mbtiles\" }, \n",
    "       \"parcels_dc\" : { \"mbtiles\": \"parcels_dc.mbtiles\" }, \n",
    "       \"parcels_de\" : { \"mbtiles\": \"parcels_de.mbtiles\" }, \n",
    "       \"parcels_fl\" : { \"mbtiles\": \"parcels_fl.mbtiles\" }, \n",
    "       \"parcels_ga\" : { \"mbtiles\": \"parcels_ga.mbtiles\" }, \n",
    "       \"parcels_hi\" : { \"mbtiles\": \"parcels_hi.mbtiles\" }, \n",
    "       \"parcels_ia\" : { \"mbtiles\": \"parcels_ia.mbtiles\" }, \n",
    "       \"parcels_id\" : { \"mbtiles\": \"parcels_id.mbtiles\" }, \n",
    "       \"parcels_il\" : { \"mbtiles\": \"parcels_il.mbtiles\" }, \n",
    "       \"parcels_in\" : { \"mbtiles\": \"parcels_in.mbtiles\" }, \n",
    "       \"parcels_ks\" : { \"mbtiles\": \"parcels_ks.mbtiles\" }, \n",
    "       \"parcels_ky\" : { \"mbtiles\": \"parcels_ky.mbtiles\" }, \n",
    "       \"parcels_la\" : { \"mbtiles\": \"parcels_la.mbtiles\" }, \n",
    "       \"parcels_ma\" : { \"mbtiles\": \"parcels_ma.mbtiles\" }, \n",
    "       \"parcels_md\" : { \"mbtiles\": \"parcels_md.mbtiles\" }, \n",
    "       \"parcels_me\" : { \"mbtiles\": \"parcels_me.mbtiles\" }, \n",
    "       \"parcels_mi\" : { \"mbtiles\": \"parcels_mi.mbtiles\" }, \n",
    "       \"parcels_mn\" : { \"mbtiles\": \"parcels_mn.mbtiles\" }, \n",
    "       \"parcels_mo\" : { \"mbtiles\": \"parcels_mo.mbtiles\" }, \n",
    "       \"parcels_ms\" : { \"mbtiles\": \"parcels_ms.mbtiles\" }, \n",
    "       \"parcels_mt\" : { \"mbtiles\": \"parcels_mt.mbtiles\" }, \n",
    "       \"parcels_nc\" : { \"mbtiles\": \"parcels_nc.mbtiles\" }, \n",
    "       \"parcels_nd\" : { \"mbtiles\": \"parcels_nd.mbtiles\" }, \n",
    "       \"parcels_ne\" : { \"mbtiles\": \"parcels_ne.mbtiles\" }, \n",
    "       \"parcels_nh\" : { \"mbtiles\": \"parcels_nh.mbtiles\" }, \n",
    "       \"parcels_nj\" : { \"mbtiles\": \"parcels_nj.mbtiles\" }, \n",
    "       \"parcels_nm\" : { \"mbtiles\": \"parcels_nm.mbtiles\" }, \n",
    "       \"parcels_nv\" : { \"mbtiles\": \"parcels_nv.mbtiles\" }, \n",
    "       \"parcels_ny\" : { \"mbtiles\": \"parcels_ny.mbtiles\" }, \n",
    "       \"parcels_oh\" : { \"mbtiles\": \"parcels_oh.mbtiles\" }, \n",
    "       \"parcels_ok\" : { \"mbtiles\": \"parcels_ok.mbtiles\" }, \n",
    "       \"parcels_or\" : { \"mbtiles\": \"parcels_or.mbtiles\" }, \n",
    "       \"parcels_pa\" : { \"mbtiles\": \"parcels_pa.mbtiles\" }, \n",
    "       \"parcels_pr\" : { \"mbtiles\": \"parcels_pr.mbtiles\" }, \n",
    "       \"parcels_ri\" : { \"mbtiles\": \"parcels_ri.mbtiles\" }, \n",
    "       \"parcels_sc\" : { \"mbtiles\": \"parcels_sc.mbtiles\" }, \n",
    "       \"parcels_sd\" : { \"mbtiles\": \"parcels_sd.mbtiles\" }, \n",
    "       \"parcels_tn\" : { \"mbtiles\": \"parcels_tn.mbtiles\" }, \n",
    "       \"parcels_tx\" : { \"mbtiles\": \"parcels_tx.mbtiles\" }, \n",
    "       \"parcels_ut\" : { \"mbtiles\": \"parcels_ut.mbtiles\" }, \n",
    "       \"parcels_va\" : { \"mbtiles\": \"parcels_va.mbtiles\" }, \n",
    "       \"parcels_vt\" : { \"mbtiles\": \"parcels_vt.mbtiles\" }, \n",
    "       \"parcels_wa\" : { \"mbtiles\": \"parcels_wa.mbtiles\" }, \n",
    "       \"parcels_wi\" : { \"mbtiles\": \"parcels_wi.mbtiles\" }, \n",
    "       \"parcels_wv\" : { \"mbtiles\": \"parcels_wv.mbtiles\" }, \n",
    "       \"parcels_wy\" : { \"mbtiles\": \"parcels_wy.mbtiles\" },\n",
    "       \"users\" : { \"mbtiles\": \"users.mbtiles\" }\n",
    "  }\n",
    "}"
   ]
  },
  {
   "cell_type": "markdown",
   "id": "829ec9a8-544b-429a-bab6-084c32706bbe",
   "metadata": {},
   "source": [
    "# restart tileserver "
   ]
  },
  {
   "cell_type": "code",
   "execution_count": null,
   "id": "c28657f4-87b5-4c96-8784-c4df5d67308a",
   "metadata": {},
   "outputs": [],
   "source": [
    "docker restart tileserver\n"
   ]
  },
  {
   "cell_type": "code",
   "execution_count": null,
   "id": "874a4e18-bdc4-4b8b-95d1-4ab4a88d0fbd",
   "metadata": {},
   "outputs": [],
   "source": []
  },
  {
   "cell_type": "code",
   "execution_count": null,
   "id": "56541dcc-874b-417e-9654-0b80fd8d637d",
   "metadata": {},
   "outputs": [],
   "source": []
  },
  {
   "cell_type": "code",
   "execution_count": null,
   "id": "6684d5a0-0bd5-4993-823e-3cf08d80c2bf",
   "metadata": {},
   "outputs": [],
   "source": []
  },
  {
   "cell_type": "code",
   "execution_count": null,
   "id": "06e9b1e9-8186-4b20-bb06-bd9f135eda5a",
   "metadata": {},
   "outputs": [],
   "source": []
  },
  {
   "cell_type": "code",
   "execution_count": null,
   "id": "c20783d3-4619-4677-b86f-fbbec67e41e6",
   "metadata": {},
   "outputs": [],
   "source": []
  },
  {
   "cell_type": "code",
   "execution_count": null,
   "id": "e6674146-f744-44c8-a502-bec1ac4a12c2",
   "metadata": {},
   "outputs": [],
   "source": []
  },
  {
   "cell_type": "code",
   "execution_count": null,
   "id": "cdc6490e-f3dd-4c00-9f7b-d80ed989e995",
   "metadata": {},
   "outputs": [],
   "source": []
  },
  {
   "cell_type": "code",
   "execution_count": null,
   "id": "634d7a8c-050b-467a-a267-0752b505c502",
   "metadata": {},
   "outputs": [],
   "source": []
  }
 ],
 "metadata": {
  "kernelspec": {
   "display_name": "Python 3 (ipykernel)",
   "language": "python",
   "name": "python3"
  },
  "language_info": {
   "codemirror_mode": {
    "name": "ipython",
    "version": 3
   },
   "file_extension": ".py",
   "mimetype": "text/x-python",
   "name": "python",
   "nbconvert_exporter": "python",
   "pygments_lexer": "ipython3",
   "version": "3.9.7"
  }
 },
 "nbformat": 4,
 "nbformat_minor": 5
}
