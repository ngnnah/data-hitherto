{
 "cells": [
  {
   "cell_type": "markdown",
   "id": "765f373d-082a-42ce-a316-5fd172d00dd4",
   "metadata": {
    "tags": []
   },
   "source": [
    "# ES uberh3-hex at res5 for UF-DEMO (ogrID = 444)organization_id == 444"
   ]
  },
  {
   "cell_type": "code",
   "execution_count": 1,
   "id": "417f9d32-e15a-4f40-8138-7e01580c6b14",
   "metadata": {},
   "outputs": [
    {
     "name": "stderr",
     "output_type": "stream",
     "text": [
      "/home/nhat/anaconda3/envs/py39/lib/python3.9/site-packages/geopandas/_compat.py:111: UserWarning: The Shapely GEOS version (3.10.0-CAPI-1.16.0) is incompatible with the GEOS version PyGEOS was compiled with (3.10.1-CAPI-1.16.0). Conversions between both will be slow.\n",
      "  warnings.warn(\n"
     ]
    },
    {
     "data": {
      "text/plain": [
       "(True, True)"
      ]
     },
     "execution_count": 1,
     "metadata": {},
     "output_type": "execute_result"
    },
    {
     "name": "stdout",
     "output_type": "stream",
     "text": [
      "time: 135 ms (started: 2022-03-02 10:22:41 -05:00)\n"
     ]
    }
   ],
   "source": [
    "import sqlalchemy\n",
    "import geopandas as gp\n",
    "import pandas as pd\n",
    "from shapely.geometry import Point\n",
    "%load_ext autotime\n",
    "import h3\n",
    "import numpy as np\n",
    "from elasticsearch import Elasticsearch, helpers\n",
    "import json\n",
    "\n",
    "\n",
    "# DEV\n",
    "es = Elasticsearch(['https://3d6a9dd50c7c49c9ab5d23b6891bc03e.us-central1.gcp.cloud.es.io:9243'], \n",
    "                    http_auth=('elastic', 'WMzYk5RXyzE7MRShwPVwHzPX'))\n",
    "\n",
    "# PROD\n",
    "# browser LOGIN-link: https://003712d383a54253aa3b4feee5c866d6.us-central1.gcp.cloud.es.io:9243/\n",
    "es_prod = Elasticsearch([\"https://e18a827982904fcb8ab47f7bdc8a0792.us-central1.gcp.cloud.es.io:9243\"], \n",
    "                        http_auth=('elastic', 'xQKsNu7BcFUbww2uoZvu6lyc'), timeout=30)\n",
    "\n",
    "es.ping(), es_prod.ping()"
   ]
  },
  {
   "cell_type": "code",
   "execution_count": 2,
   "id": "682adacd-9b60-4310-8c6f-f0c28544564f",
   "metadata": {},
   "outputs": [
    {
     "name": "stdout",
     "output_type": "stream",
     "text": [
      "time: 639 µs (started: 2022-03-02 10:22:57 -05:00)\n"
     ]
    }
   ],
   "source": [
    "def download_ES(index_name, es_instance = es):\n",
    "    print('Start downloading ES index ', index_name)\n",
    "#     match_query = { \"query\": {\"match_all\": {}} }\n",
    "    match_query = {\n",
    "        \"query\": {\"match_all\": {}},\n",
    "        \"_source\": {\n",
    "            \"includes\": [ 'id', 'mailingAddress']\n",
    "        },\n",
    "    }\n",
    "    res_gen = helpers.scan(es_instance, query= match_query, index= index_name) # C x faster than (match_all without `includes`)\n",
    "    data = []\n",
    "    for record in res_gen:\n",
    "        record['_source']['row_id'] = record['_id']\n",
    "        data.append(record['_source'])\n",
    "    print('Completed downloading ES index ', index_name)\n",
    "    return pd.DataFrame(data)\n"
   ]
  },
  {
   "cell_type": "code",
   "execution_count": 2,
   "id": "c0477adc-3946-4b21-a762-732845120c42",
   "metadata": {},
   "outputs": [
    {
     "data": {
      "text/plain": [
       "((527041, 5), 527023)"
      ]
     },
     "execution_count": 2,
     "metadata": {},
     "output_type": "execute_result"
    },
    {
     "name": "stdout",
     "output_type": "stream",
     "text": [
      "time: 1min 9s (started: 2022-02-22 20:18:42 -05:00)\n"
     ]
    }
   ],
   "source": [
    "pg_driver = 'postgresql+psycopg2'\n",
    "pg_user = 'boss_user'\n",
    "pg_pass = 'passDEV9g47uibjn2ijovZNEW' # boss dev\n",
    "pg_host = 'dev-boss.db.ready.net' # boss dev\n",
    "pg_port = '5432'\n",
    "pg_db = 'boss_db_dev'\n",
    "\n",
    "engine = sqlalchemy.create_engine(f\"{pg_driver}://{pg_user}:{pg_pass}@{pg_host}:{pg_port}/{pg_db}\") \n",
    "\n",
    "cols = [\n",
    "    'distinct u.id',\n",
    "    'op.organization_id',\n",
    "    'op.role',\n",
    "    'a.lat',\n",
    "    'a.lon']\n",
    "select_cols = ','.join(cols)\n",
    "\n",
    "# left outer join = include users not found in ogr_permission table\n",
    "# inner join = only include users found in ogr_permission table\n",
    "sql_hex = f\"\"\"\n",
    "    select {select_cols}\n",
    "    from users u\n",
    "    inner join organization_permissions op on (u.id = op.user_id)\n",
    "    inner join addresses a on (u.mailing_address_id = a.id)\n",
    "    \"\"\"\n",
    "\n",
    "users = pd.read_sql_query(sql_hex, engine)\n",
    "users.shape, len(ufdemo.id.unique()) # ((484873, 5), 484855)"
   ]
  },
  {
   "cell_type": "markdown",
   "id": "0c5a61ef-f6d0-499e-be06-c0699fefc933",
   "metadata": {},
   "source": [
    "### UF demo org_id = 444"
   ]
  },
  {
   "cell_type": "code",
   "execution_count": 28,
   "id": "a990e184-f475-4da7-b32a-fe3506c41366",
   "metadata": {},
   "outputs": [
    {
     "data": {
      "text/plain": [
       "(72049, 3)"
      ]
     },
     "execution_count": 28,
     "metadata": {},
     "output_type": "execute_result"
    },
    {
     "name": "stdout",
     "output_type": "stream",
     "text": [
      "time: 114 ms (started: 2022-02-15 11:22:21 -05:00)\n"
     ]
    }
   ],
   "source": [
    "# drop rows with empty lat,lon [for now]\n",
    "ufdemo = users[users.lat.notnull() | users.lon.notnull()] # (72049, 3)\n",
    "ufdemo = ufdemo[ufdemo.role != 'admin']\n",
    "ufdemo = ufdemo.loc[ufdemo.organization_id == 444][['id', 'lat', 'lon']]\n",
    "ufdemo.shape"
   ]
  },
  {
   "cell_type": "code",
   "execution_count": null,
   "id": "0d2f2d80-9ad9-4874-bc35-6db1f53b34e6",
   "metadata": {},
   "outputs": [],
   "source": [
    "ufdemo['hexCode7'] = ufdemo.apply(lambda row: h3.geo_to_h3(row['lat'], row['lon'], 7), axis=1)\n",
    "ufdemo['hexCode8'] = ufdemo.apply(lambda row: h3.geo_to_h3(row['lat'], row['lon'], 8), axis=1)"
   ]
  },
  {
   "cell_type": "markdown",
   "id": "cfb74456-3ba6-4133-9282-08f796393f88",
   "metadata": {},
   "source": [
    "### UF production in PRODUCTION-db -- organization_id = 25"
   ]
  },
  {
   "cell_type": "markdown",
   "id": "d4c9b8ba-a20e-4a84-b208-4e00e759cd77",
   "metadata": {},
   "source": [
    "- on local machine: cd local\n",
    "- start cloud_sql_proxy: $ ./cloud_sql_proxy -instances=boss-api-289815:us-central1:boss-datastore=tcp:5432 -credential_file=boss-api-289815-bc672ce4aaf5.json\n",
    "- Then: can access prod-dv using connection-string below\n"
   ]
  },
  {
   "cell_type": "code",
   "execution_count": 18,
   "id": "02d70a29-dc09-4af8-9f89-0b7023ef6aec",
   "metadata": {},
   "outputs": [
    {
     "name": "stdout",
     "output_type": "stream",
     "text": [
      "(206480, 5)\n",
      "(120, 5)\n",
      "[2, 6, 12, 13, 15, 18, 25, 32, 38, 39, 40, 43, 44, 45, 46, 47, 48, 49, 50, 51, 53, 54, 55, 57, 58, 59, 60, 63, 64, 75, 76, 77, 91, 99, 102, 106, 110, 123, 126, 145, 164, 177, 187, 207, 211, 215, 216, 217, 238, 249, 252, 254, 257, 261, 359, 360, 361, 432, 435, 641, 659, 660, 663, 1510, 1511, 1512, 1513, 1514, 503958, 724009, 725728, 987454, 987455, 987456, 987457, 987458, 987459, 987477, 987478, 987479, 987480, 987482, 987483, 987484, 987485, 987486, 987487, 987492, 987493, 987494, 987495, 987497, 987498, 987499, 987500, 987501, 987504, 987505, 987506, 1170328, 1170329, 1170337, 1170338, 1170339, 1170340, 1170341, 1170342, 1170343, 1170344, 1170345, 1170346, 1170347, 1170350, 1170351, 1170352, 1170354, 1170355, 1170357, 1170358, 1170359]\n"
     ]
    },
    {
     "data": {
      "text/plain": [
       "((206360, 5), 206360)"
      ]
     },
     "execution_count": 18,
     "metadata": {},
     "output_type": "execute_result"
    },
    {
     "name": "stdout",
     "output_type": "stream",
     "text": [
      "time: 1.53 s (started: 2022-03-02 10:38:19 -05:00)\n"
     ]
    }
   ],
   "source": [
    "# CONNECT TO PG-PROD SOURCE\n",
    "pg_driver = 'postgresql+psycopg2'\n",
    "pg_user = 'postgres'\n",
    "pg_pass = 'qweuyf7web392dsa' \n",
    "pg_host = '127.0.0.1'\n",
    "pg_port = '5432'\n",
    "pg_db = 'boss-db'\n",
    "\n",
    "engine = sqlalchemy.create_engine(f\"{pg_driver}://{pg_user}:{pg_pass}@{pg_host}:{pg_port}/{pg_db}\") \n",
    "\n",
    "cols = [\n",
    "    'distinct u.id',\n",
    "    'op.organization_id',\n",
    "    'op.role',\n",
    "    'a.lat',\n",
    "    'a.lon']\n",
    "select_cols = ','.join(cols)\n",
    "\n",
    "# NOTE: usage of inner join = only include users found in ogr_permission table\n",
    "# instead of using left outer join = include users not found in ogr_permission table\n",
    "sql_hex = f\"\"\"\n",
    "    select {select_cols}\n",
    "    from users u\n",
    "    inner join organization_permissions op on (u.id = op.user_id)\n",
    "    inner join addresses a on (u.mailing_address_id = a.id)\n",
    "    \"\"\"\n",
    "\n",
    "pg_prod_users = pd.read_sql_query(sql_hex, engine)\n",
    "print(pg_prod_users.shape)\n",
    "# Remove users without lat, lon\n",
    "pg_prod_null_coords = pg_prod_users[pg_prod_users.lat.isnull() | pg_prod_users.lon.isnull()]\n",
    "print(pg_prod_null_coords.shape) # 120\n",
    "print(sorted(set(pg_prod_null_coords.id)))\n",
    "pg_prod_users = pg_prod_users[pg_prod_users.lat.notnull() | pg_prod_users.lon.notnull()] \n",
    "\n",
    "pg_prod_users.shape, len(pg_prod_users.id.unique()), "
   ]
  },
  {
   "cell_type": "code",
   "execution_count": 19,
   "id": "ca98cac6-bae8-4b7a-aa65-524d8ba36415",
   "metadata": {},
   "outputs": [
    {
     "data": {
      "text/plain": [
       "(0, 5)"
      ]
     },
     "execution_count": 19,
     "metadata": {},
     "output_type": "execute_result"
    },
    {
     "name": "stdout",
     "output_type": "stream",
     "text": [
      "time: 12 ms (started: 2022-03-02 10:38:22 -05:00)\n"
     ]
    }
   ],
   "source": [
    "pg_prod_users[pg_prod_users.role == 'admin'].shape"
   ]
  },
  {
   "cell_type": "code",
   "execution_count": 20,
   "id": "87210d14-a5b4-40fd-b65c-a061f25d1651",
   "metadata": {},
   "outputs": [
    {
     "data": {
      "text/plain": [
       "(203104, 3)"
      ]
     },
     "execution_count": 20,
     "metadata": {},
     "output_type": "execute_result"
    },
    {
     "name": "stdout",
     "output_type": "stream",
     "text": [
      "time: 26.3 ms (started: 2022-03-02 10:38:28 -05:00)\n"
     ]
    }
   ],
   "source": [
    "pg_prod_users = pg_prod_users[pg_prod_users.role != 'admin']\n",
    "# UF PROD organization\n",
    "ufprod = pg_prod_users.loc[pg_prod_users.organization_id == 25][['id', 'lat', 'lon']]\n",
    "ufprod.shape # (203104, 3)"
   ]
  },
  {
   "cell_type": "code",
   "execution_count": null,
   "id": "1dbca545-92d1-4188-97d5-06584b874fa8",
   "metadata": {
    "tags": []
   },
   "outputs": [],
   "source": [
    "ufprod['hexCode7'] = ufprod.apply(lambda row: h3.geo_to_h3(row['lat'], row['lon'], 7), axis=1)\n",
    "ufprod['hexCode8'] = ufprod.apply(lambda row: h3.geo_to_h3(row['lat'], row['lon'], 8), axis=1)\n",
    "ufprod['hexCode'] = ufprod.apply(lambda row: h3.geo_to_h3(row['lat'], row['lon'], 15), axis=1)\n"
   ]
  },
  {
   "cell_type": "code",
   "execution_count": null,
   "id": "2cd009b2-48bf-4dbb-8567-66281a725587",
   "metadata": {},
   "outputs": [],
   "source": []
  },
  {
   "cell_type": "markdown",
   "id": "6f74478f-c514-4adc-9d3a-550d9272fb2d",
   "metadata": {},
   "source": [
    "# ES: 2 new mappings: hexCode7 and hexCode8 inside mailing address, type keyword"
   ]
  },
  {
   "cell_type": "code",
   "execution_count": 35,
   "id": "37cb271a-c1b5-44b7-a5a3-bbd10d08e73e",
   "metadata": {},
   "outputs": [
    {
     "name": "stdout",
     "output_type": "stream",
     "text": [
      "updated index  users1.0.2\n",
      "time: 164 ms (started: 2022-02-15 11:28:38 -05:00)\n"
     ]
    }
   ],
   "source": [
    "# def update_bossdata_index(es, index_name):\n",
    "#     update_request_body = {\n",
    "#         \"properties\":{\n",
    "#             \"mailingAddress\": {\n",
    "#                 \"type\": \"nested\",\n",
    "#                 \"properties\": {\n",
    "#                     \"hexCode7\": {  \"type\": \"keyword\" },\n",
    "#                     \"hexCode8\": {  \"type\": \"keyword\" },\n",
    "#                 }\n",
    "#             },\n",
    "            \n",
    "#         }\n",
    "#     }\n",
    "#     es.indices.put_mapping(index = index_name, body = update_request_body)\n",
    "#     print('updated index ', index_name)\n",
    "\n",
    "# update_bossdata_index(es, 'users1.0.2')"
   ]
  },
  {
   "cell_type": "markdown",
   "id": "15e3b02d-9673-4285-98fb-b6c45bd23ec5",
   "metadata": {},
   "source": [
    "# ES download/upload"
   ]
  },
  {
   "cell_type": "markdown",
   "id": "e9ccec41-b699-4241-b85a-c9114a1338c2",
   "metadata": {},
   "source": [
    "## es_prod (index alias: usersAlias, most likely pointing to usersnew (not the older index: users)"
   ]
  },
  {
   "cell_type": "code",
   "execution_count": 79,
   "id": "e75b86cd-44d1-421b-9584-e71a2ae1e86a",
   "metadata": {},
   "outputs": [
    {
     "name": "stdout",
     "output_type": "stream",
     "text": [
      "Start downloading ES index  usersnew\n",
      "Completed downloading ES index  usersnew\n"
     ]
    },
    {
     "data": {
      "text/plain": [
       "(513217, 3)"
      ]
     },
     "execution_count": 79,
     "metadata": {},
     "output_type": "execute_result"
    },
    {
     "name": "stdout",
     "output_type": "stream",
     "text": [
      "time: 1min 41s (started: 2022-02-23 00:04:24 -05:00)\n"
     ]
    }
   ],
   "source": [
    "# download_ES('usershexcode', es).shape # (80000, 3)\n",
    "# download_ES('users', es).shape # (401799, 3)\n",
    "# # usersAlias is pointing to users1.0.2 in ES-dev\n",
    "# download_ES('usersAlias', es).shape # (503310, 3)\n",
    "# download_ES('users1.0.2', es).shape # (503152, 3)\n",
    "# download_ES('usersnew', es).shape # (513217, 3)"
   ]
  },
  {
   "cell_type": "code",
   "execution_count": 16,
   "id": "84c3a569-9371-43b1-a847-9351afde6de2",
   "metadata": {},
   "outputs": [
    {
     "name": "stdout",
     "output_type": "stream",
     "text": [
      "Start downloading ES index  usersAlias\n",
      "Completed downloading ES index  usersAlias\n",
      "time: 47.5 s (started: 2022-02-23 12:18:34 -05:00)\n"
     ]
    }
   ],
   "source": [
    "users_ES = download_ES('usersAlias', es_prod)\n",
    "# users_ES_usersnew = download_ES('usersnew', es_prod)\n",
    "# users_ES.shape, users_ES_usersnew.shape # ((433684, 3), (433684, 3))\n",
    "users_ES.shape"
   ]
  },
  {
   "cell_type": "code",
   "execution_count": 23,
   "id": "ffe79585-26b3-4040-ac64-4a9e8380e648",
   "metadata": {},
   "outputs": [
    {
     "data": {
      "text/plain": [
       "(272957, 272858)"
      ]
     },
     "execution_count": 23,
     "metadata": {},
     "output_type": "execute_result"
    },
    {
     "name": "stdout",
     "output_type": "stream",
     "text": [
      "time: 1.87 ms (started: 2022-02-23 12:27:25 -05:00)\n"
     ]
    }
   ],
   "source": [
    "len(users), len(ufprod)"
   ]
  },
  {
   "cell_type": "code",
   "execution_count": 85,
   "id": "67c0508c-5fe3-43e0-8e85-f02334f34385",
   "metadata": {},
   "outputs": [
    {
     "data": {
      "text/plain": [
       "(433684, 433684)"
      ]
     },
     "execution_count": 85,
     "metadata": {},
     "output_type": "execute_result"
    },
    {
     "name": "stdout",
     "output_type": "stream",
     "text": [
      "time: 12.1 ms (started: 2022-02-23 00:14:52 -05:00)\n"
     ]
    }
   ],
   "source": [
    "len(users_ES), len(users_ES.id.unique())\n",
    "\n",
    "# e.g. https://32a112996b92429ca3c682984cdf5fc4.us-central1.gcp.cloud.es.io:9243/app/discover?#/?_a=(columns:!(_id,id,email,mailingAddressId,mailingAddress),filters:!(),index:c75748d0-89cd-11ec-a00d-7ff105ba8ac8,interval:auto,query:(language:kuery,query:'id%20:%201768291'),sort:!())&_g=(filters:!(),refreshInterval:(pause:!t,value:0),time:(from:now-15m,to:now))\n",
    "# for user with id = 1768291, there are 3 records: _id = [50032, 275963, 48880]"
   ]
  },
  {
   "cell_type": "code",
   "execution_count": 33,
   "id": "4196e963-b533-40fa-80cf-86d7d3e6f875",
   "metadata": {},
   "outputs": [
    {
     "name": "stdout",
     "output_type": "stream",
     "text": [
      "{518464, 715686, 521513, 505616, 520532, 505781, 521366, 522964, 521402, 518332, 521119}\n",
      "time: 108 ms (started: 2022-02-23 12:32:12 -05:00)\n"
     ]
    }
   ],
   "source": [
    "print(set(ufprod.id) - set(users_ES.id))"
   ]
  },
  {
   "cell_type": "code",
   "execution_count": 89,
   "id": "6a4cfb6d-adf1-4738-b2c8-a9d390399152",
   "metadata": {},
   "outputs": [
    {
     "data": {
      "text/plain": [
       "(269591, 269591, 269591)"
      ]
     },
     "execution_count": 89,
     "metadata": {},
     "output_type": "execute_result"
    },
    {
     "name": "stdout",
     "output_type": "stream",
     "text": [
      "time: 563 ms (started: 2022-02-23 00:17:05 -05:00)\n"
     ]
    }
   ],
   "source": [
    "merged_users = ufprod.set_index('id').join(users_ES.set_index('id'), how='inner')\n",
    "merged_users = merged_users.rename(columns={'_id': 'row_id'})\n",
    "len(merged_users), len(set(merged_users.index)), len(set(merged_users.row_id))"
   ]
  },
  {
   "cell_type": "code",
   "execution_count": 90,
   "id": "de40521b-21d1-4e16-99ae-8244695c72a1",
   "metadata": {},
   "outputs": [
    {
     "data": {
      "text/html": [
       "<div>\n",
       "<style scoped>\n",
       "    .dataframe tbody tr th:only-of-type {\n",
       "        vertical-align: middle;\n",
       "    }\n",
       "\n",
       "    .dataframe tbody tr th {\n",
       "        vertical-align: top;\n",
       "    }\n",
       "\n",
       "    .dataframe thead th {\n",
       "        text-align: right;\n",
       "    }\n",
       "</style>\n",
       "<table border=\"1\" class=\"dataframe\">\n",
       "  <thead>\n",
       "    <tr style=\"text-align: right;\">\n",
       "      <th></th>\n",
       "      <th>lat</th>\n",
       "      <th>lon</th>\n",
       "      <th>hexCode7</th>\n",
       "      <th>hexCode8</th>\n",
       "      <th>hexCode</th>\n",
       "      <th>mailingAddress</th>\n",
       "      <th>row_id</th>\n",
       "    </tr>\n",
       "    <tr>\n",
       "      <th>id</th>\n",
       "      <th></th>\n",
       "      <th></th>\n",
       "      <th></th>\n",
       "      <th></th>\n",
       "      <th></th>\n",
       "      <th></th>\n",
       "      <th></th>\n",
       "    </tr>\n",
       "  </thead>\n",
       "  <tbody>\n",
       "  </tbody>\n",
       "</table>\n",
       "</div>"
      ],
      "text/plain": [
       "Empty DataFrame\n",
       "Columns: [lat, lon, hexCode7, hexCode8, hexCode, mailingAddress, row_id]\n",
       "Index: []"
      ]
     },
     "execution_count": 90,
     "metadata": {},
     "output_type": "execute_result"
    },
    {
     "name": "stdout",
     "output_type": "stream",
     "text": [
      "time: 8.38 ms (started: 2022-02-23 00:17:20 -05:00)\n"
     ]
    }
   ],
   "source": [
    "\n",
    "merged_users.loc[merged_users.index.duplicated(keep=False), :]"
   ]
  },
  {
   "cell_type": "code",
   "execution_count": 95,
   "id": "1b613666-a946-4663-9f1a-5b0be4fdcd96",
   "metadata": {},
   "outputs": [
    {
     "name": "stdout",
     "output_type": "stream",
     "text": [
      "time: 824 µs (started: 2022-02-23 00:20:39 -05:00)\n"
     ]
    }
   ],
   "source": [
    "def upload_ES(idCol, df, index_name, es_instance = es):\n",
    "    # BIG NOTE: idCol name should not be: _id (an ES reserved keyword)\n",
    "    # updating_dict: a dict of all the data to be updated\n",
    "    updating_dict = df.drop(columns=idCol).to_json(orient = \"records\")\n",
    "    updating_dict = json.loads(updating_dict)\n",
    "\n",
    "    # create an actiondf for all actions\n",
    "    actiondf = df[[idCol]].copy()\n",
    "    actiondf['_op_type'] = 'update'\n",
    "    actiondf['_index'] = index_name\n",
    "    actiondf['_id'] = actiondf[idCol] # still need \n",
    "    actiondf['doc_as_upsert'] = True\n",
    "    actiondf['doc'] = updating_dict \n",
    "    actiondf.drop(idCol, axis = 1, inplace = True) # # NOTE: we are not keeping the idCol -- row_id in this case\n",
    "\n",
    "    udf = actiondf.to_json(orient = 'records')\n",
    "    # all actions\n",
    "    action_list = json.loads(udf) \n",
    "    print(f\"Start uploading {len(df)} records to {index_name}\")\n",
    "    helpers.bulk(es_instance, action_list)\n",
    "    print(f\"Completed uploading {len(df)} records to {index_name}\")\n"
   ]
  },
  {
   "cell_type": "code",
   "execution_count": 91,
   "id": "f338ac35-8ad0-4657-b658-bc457a29c281",
   "metadata": {},
   "outputs": [
    {
     "name": "stdout",
     "output_type": "stream",
     "text": [
      "time: 6.46 s (started: 2022-02-23 00:17:58 -05:00)\n"
     ]
    }
   ],
   "source": [
    "merged_users.mailingAddress = merged_users.apply(lambda row:\n",
    "        {'lat': row.lat, 'lon': row.lon, 'hexCode': row.hexCode, 'hexCode7': row.hexCode7, 'hexCode8': row.hexCode8 }, axis = 1)"
   ]
  },
  {
   "cell_type": "markdown",
   "id": "5a7eb813-00e4-4b3e-8a3d-f5d018e5165c",
   "metadata": {},
   "source": [
    "### SELECT ES df, and Upload to ES (dev instance, or prod instance)"
   ]
  },
  {
   "cell_type": "code",
   "execution_count": 93,
   "id": "308e80a6-2c8a-401d-92ab-f336af9f0532",
   "metadata": {},
   "outputs": [
    {
     "name": "stdout",
     "output_type": "stream",
     "text": [
      "(269591, 2)\n"
     ]
    },
    {
     "data": {
      "text/plain": [
       "array([{'lat': 40.76010998, 'lon': -94.10828, 'hexCode': '8f26099a671b4db', 'hexCode7': '8726099a6ffffff', 'hexCode8': '8826099a67fffff'},\n",
       "       {'lat': 40.75716001, 'lon': -94.95295003, 'hexCode': '8f260832a3a9989', 'hexCode7': '87260832affffff', 'hexCode8': '88260832a3fffff'},\n",
       "       {'lat': 39.44182001, 'lon': -94.89959997, 'hexCode': '8f2656c8a671a62', 'hexCode7': '872656c8affffff', 'hexCode8': '882656c8a7fffff'},\n",
       "       {'lat': 39.345422, 'lon': -94.22149604, 'hexCode': '8f26568dd350434', 'hexCode7': '8726568ddffffff', 'hexCode8': '8826568dd3fffff'},\n",
       "       {'lat': 39.342726, 'lon': -94.22298098, 'hexCode': '8f26568dd20b68d', 'hexCode7': '8726568ddffffff', 'hexCode8': '8826568dd3fffff'}],\n",
       "      dtype=object)"
      ]
     },
     "execution_count": 93,
     "metadata": {},
     "output_type": "execute_result"
    },
    {
     "name": "stdout",
     "output_type": "stream",
     "text": [
      "time: 28.7 ms (started: 2022-02-23 00:19:06 -05:00)\n"
     ]
    }
   ],
   "source": [
    "es_df = merged_users[['row_id', 'mailingAddress']].copy()\n",
    "print(es_df.shape)\n",
    "es_df.mailingAddress.head(5).values"
   ]
  },
  {
   "cell_type": "code",
   "execution_count": 112,
   "id": "bb3c8d5f-4a3c-4212-beef-3809d8bc2fe3",
   "metadata": {},
   "outputs": [
    {
     "data": {
      "text/html": [
       "<div>\n",
       "<style scoped>\n",
       "    .dataframe tbody tr th:only-of-type {\n",
       "        vertical-align: middle;\n",
       "    }\n",
       "\n",
       "    .dataframe tbody tr th {\n",
       "        vertical-align: top;\n",
       "    }\n",
       "\n",
       "    .dataframe thead th {\n",
       "        text-align: right;\n",
       "    }\n",
       "</style>\n",
       "<table border=\"1\" class=\"dataframe\">\n",
       "  <thead>\n",
       "    <tr style=\"text-align: right;\">\n",
       "      <th></th>\n",
       "      <th>row_id</th>\n",
       "      <th>mailingAddress</th>\n",
       "    </tr>\n",
       "    <tr>\n",
       "      <th>id</th>\n",
       "      <th></th>\n",
       "      <th></th>\n",
       "    </tr>\n",
       "  </thead>\n",
       "  <tbody>\n",
       "    <tr>\n",
       "      <th>917684</th>\n",
       "      <td>U3E2JX4B9cn-h0Vl-VKZ</td>\n",
       "      <td>{'lat': 39.2803398, 'lon': -93.9828406, 'hexCo...</td>\n",
       "    </tr>\n",
       "    <tr>\n",
       "      <th>977564</th>\n",
       "      <td>omlCJn4B7Ve0ZrKVfbBH</td>\n",
       "      <td>{'lat': 39.2427349, 'lon': -94.4728748, 'hexCo...</td>\n",
       "    </tr>\n",
       "    <tr>\n",
       "      <th>61902</th>\n",
       "      <td>57259</td>\n",
       "      <td>{'lat': 39.7370493, 'lon': -94.2389126, 'hexCo...</td>\n",
       "    </tr>\n",
       "    <tr>\n",
       "      <th>761094</th>\n",
       "      <td>gXCaIn4B9cn-h0VlhQZJ</td>\n",
       "      <td>{'lat': 39.7035062, 'lon': -94.2815917, 'hexCo...</td>\n",
       "    </tr>\n",
       "    <tr>\n",
       "      <th>754887</th>\n",
       "      <td>eGeAIn4B7Ve0ZrKVCvKP</td>\n",
       "      <td>{'lat': 40.0483045, 'lon': -95.3214662, 'hexCo...</td>\n",
       "    </tr>\n",
       "  </tbody>\n",
       "</table>\n",
       "</div>"
      ],
      "text/plain": [
       "                      row_id  \\\n",
       "id                             \n",
       "917684  U3E2JX4B9cn-h0Vl-VKZ   \n",
       "977564  omlCJn4B7Ve0ZrKVfbBH   \n",
       "61902                  57259   \n",
       "761094  gXCaIn4B9cn-h0VlhQZJ   \n",
       "754887  eGeAIn4B7Ve0ZrKVCvKP   \n",
       "\n",
       "                                           mailingAddress  \n",
       "id                                                         \n",
       "917684  {'lat': 39.2803398, 'lon': -93.9828406, 'hexCo...  \n",
       "977564  {'lat': 39.2427349, 'lon': -94.4728748, 'hexCo...  \n",
       "61902   {'lat': 39.7370493, 'lon': -94.2389126, 'hexCo...  \n",
       "761094  {'lat': 39.7035062, 'lon': -94.2815917, 'hexCo...  \n",
       "754887  {'lat': 40.0483045, 'lon': -95.3214662, 'hexCo...  "
      ]
     },
     "execution_count": 112,
     "metadata": {},
     "output_type": "execute_result"
    },
    {
     "name": "stdout",
     "output_type": "stream",
     "text": [
      "time: 11.7 ms (started: 2022-02-23 00:38:24 -05:00)\n"
     ]
    }
   ],
   "source": [
    "es_df.sample(5)"
   ]
  },
  {
   "cell_type": "code",
   "execution_count": 109,
   "id": "336b2810-9b5e-4ae2-ab40-9fd096fd0548",
   "metadata": {},
   "outputs": [
    {
     "data": {
      "text/plain": [
       "(269591, 2)"
      ]
     },
     "execution_count": 109,
     "metadata": {},
     "output_type": "execute_result"
    },
    {
     "name": "stdout",
     "output_type": "stream",
     "text": [
      "time: 1.44 ms (started: 2022-02-23 00:28:09 -05:00)\n"
     ]
    }
   ],
   "source": [
    "es_df.shape"
   ]
  },
  {
   "cell_type": "code",
   "execution_count": null,
   "id": "d173b4cf-12b5-431d-94ba-610cafe1feda",
   "metadata": {},
   "outputs": [],
   "source": [
    "es_df.isnull().sum().sum()"
   ]
  },
  {
   "cell_type": "code",
   "execution_count": 110,
   "id": "27049d81-100a-4484-9421-7015cb9e04f3",
   "metadata": {},
   "outputs": [
    {
     "name": "stdout",
     "output_type": "stream",
     "text": [
      "Start uploading 1 records to usersAlias\n",
      "Completed uploading 1 records to usersAlias\n"
     ]
    },
    {
     "data": {
      "text/plain": [
       "array([{'lat': 39.342726, 'lon': -94.22298098, 'hexCode': '8f26568dd20b68d', 'hexCode7': '8726568ddffffff', 'hexCode8': '8826568dd3fffff'}],\n",
       "      dtype=object)"
      ]
     },
     "execution_count": 110,
     "metadata": {},
     "output_type": "execute_result"
    },
    {
     "name": "stdout",
     "output_type": "stream",
     "text": [
      "time: 42.8 ms (started: 2022-02-23 00:30:46 -05:00)\n"
     ]
    }
   ],
   "source": [
    "### quick sample upload for a random user\n",
    "sample = es_df.loc[es_df.index == 20639]\n",
    "sample\n",
    "upload_ES('row_id', sample, 'usersAlias', es_prod)\n",
    "sample.mailingAddress.values\n"
   ]
  },
  {
   "cell_type": "code",
   "execution_count": 111,
   "id": "7a817558-7d9c-4bc0-b505-75cd2c434623",
   "metadata": {},
   "outputs": [
    {
     "name": "stdout",
     "output_type": "stream",
     "text": [
      "Start uploading 269591 records to usersAlias\n",
      "Completed uploading 269591 records to usersAlias\n",
      "time: 3min 6s (started: 2022-02-23 00:33:00 -05:00)\n"
     ]
    }
   ],
   "source": [
    "# ACTUAL UPLOAD\n",
    "# upload_ES('row_id', es_df, 'usersAlias', es) # ES DEV instance\n",
    "# upload_ES('row_id', es_df, 'usersAlias', es_prod)"
   ]
  },
  {
   "cell_type": "code",
   "execution_count": null,
   "id": "d1104aab-449c-4d02-8a81-621457cfd541",
   "metadata": {},
   "outputs": [],
   "source": []
  },
  {
   "cell_type": "code",
   "execution_count": null,
   "id": "bcde95e2-bba8-4a7e-844f-566891d00a40",
   "metadata": {},
   "outputs": [],
   "source": []
  },
  {
   "cell_type": "code",
   "execution_count": null,
   "id": "6f5cd63e-c5e5-429a-90ae-093fe354e727",
   "metadata": {},
   "outputs": [],
   "source": []
  },
  {
   "cell_type": "code",
   "execution_count": null,
   "id": "77eb1b83-8744-43a8-b288-1a403bbb3b17",
   "metadata": {},
   "outputs": [],
   "source": []
  },
  {
   "cell_type": "markdown",
   "id": "5218e0b2-0af3-4c14-98b2-774d196daac6",
   "metadata": {},
   "source": [
    "### EXTRA: testing upload certain fields of nested object "
   ]
  },
  {
   "cell_type": "code",
   "execution_count": null,
   "id": "47689c2b-d989-45d0-8800-a92ebf001f28",
   "metadata": {},
   "outputs": [],
   "source": [
    "def create_ES_index(es, index_name):\n",
    "    create_request_body = {\n",
    "       \"settings\": {\n",
    "        \"refresh_interval\": \"1s\",\n",
    "        \"number_of_shards\": 1,\n",
    "        \"number_of_replicas\": 0\n",
    "      },\n",
    "        \"mappings\":{ \n",
    "            \"properties\":{\n",
    "                \"id\":    { \"type\": \"text\"  },\n",
    "                \"mailingAddress\": {\n",
    "                    \"type\": \"nested\",\n",
    "                    \"properties\": {\n",
    "                        \"lat\" : { \"type\": \"text\" },\n",
    "                        \"hexCode\": {  \"type\": \"keyword\" },\n",
    "                    }\n",
    "                },\n",
    "                \"size\": { \"type\" : \"integer\" },\n",
    "            }\n",
    "        }\n",
    "    } \n",
    "\n",
    "    es.indices.create(index = index_name, body = create_request_body)\n",
    "    print('created index ', index_name)\n",
    "\n",
    "# create_ES_index(es, 'nhat_test1')"
   ]
  },
  {
   "cell_type": "code",
   "execution_count": 207,
   "id": "74a4c2e5-48cc-43cd-a4b6-107c324a8fae",
   "metadata": {},
   "outputs": [
    {
     "data": {
      "text/html": [
       "<div>\n",
       "<style scoped>\n",
       "    .dataframe tbody tr th:only-of-type {\n",
       "        vertical-align: middle;\n",
       "    }\n",
       "\n",
       "    .dataframe tbody tr th {\n",
       "        vertical-align: top;\n",
       "    }\n",
       "\n",
       "    .dataframe thead th {\n",
       "        text-align: right;\n",
       "    }\n",
       "</style>\n",
       "<table border=\"1\" class=\"dataframe\">\n",
       "  <thead>\n",
       "    <tr style=\"text-align: right;\">\n",
       "      <th></th>\n",
       "      <th>row_id</th>\n",
       "      <th>mailingAddress</th>\n",
       "      <th>hexCode</th>\n",
       "    </tr>\n",
       "    <tr>\n",
       "      <th>id</th>\n",
       "      <th></th>\n",
       "      <th></th>\n",
       "      <th></th>\n",
       "    </tr>\n",
       "  </thead>\n",
       "  <tbody>\n",
       "    <tr>\n",
       "      <th>1686295</th>\n",
       "      <td>281337</td>\n",
       "      <td>{'hexCode': '8526095bfffffff'}</td>\n",
       "      <td>8526095bfffffff</td>\n",
       "    </tr>\n",
       "    <tr>\n",
       "      <th>1719266</th>\n",
       "      <td>217625</td>\n",
       "      <td>{'hexCode': '85260ba7fffffff'}</td>\n",
       "      <td>85260ba7fffffff</td>\n",
       "    </tr>\n",
       "    <tr>\n",
       "      <th>1719267</th>\n",
       "      <td>76430</td>\n",
       "      <td>{'hexCode': '85260ba7fffffff'}</td>\n",
       "      <td>85260ba7fffffff</td>\n",
       "    </tr>\n",
       "    <tr>\n",
       "      <th>1719268</th>\n",
       "      <td>216555</td>\n",
       "      <td>{'hexCode': '85265693fffffff'}</td>\n",
       "      <td>85265693fffffff</td>\n",
       "    </tr>\n",
       "    <tr>\n",
       "      <th>1719269</th>\n",
       "      <td>215404</td>\n",
       "      <td>{'hexCode': '85260967fffffff'}</td>\n",
       "      <td>85260967fffffff</td>\n",
       "    </tr>\n",
       "  </tbody>\n",
       "</table>\n",
       "</div>"
      ],
      "text/plain": [
       "         row_id                  mailingAddress          hexCode\n",
       "id                                                              \n",
       "1686295  281337  {'hexCode': '8526095bfffffff'}  8526095bfffffff\n",
       "1719266  217625  {'hexCode': '85260ba7fffffff'}  85260ba7fffffff\n",
       "1719267   76430  {'hexCode': '85260ba7fffffff'}  85260ba7fffffff\n",
       "1719268  216555  {'hexCode': '85265693fffffff'}  85265693fffffff\n",
       "1719269  215404  {'hexCode': '85260967fffffff'}  85260967fffffff"
      ]
     },
     "execution_count": 207,
     "metadata": {},
     "output_type": "execute_result"
    },
    {
     "name": "stdout",
     "output_type": "stream",
     "text": [
      "time: 473 ms (started: 2022-02-15 00:33:50 -05:00)\n"
     ]
    }
   ],
   "source": [
    "test_upload = merged_users.loc[:, ['row_id', 'mailingAddress', 'hexCode']]\n",
    "test_upload.mailingAddress = test_upload.apply(lambda row: \n",
    "                    {'hexCode': row.hexCode}, axis=1)\n",
    "test_upload.head()"
   ]
  },
  {
   "cell_type": "code",
   "execution_count": 210,
   "id": "6b98a1c8-4aa4-4a93-a686-47407d56ba2c",
   "metadata": {},
   "outputs": [
    {
     "name": "stdout",
     "output_type": "stream",
     "text": [
      "Start uploading 67639 records to nhat_test1\n",
      "Completed uploading 67639 records to nhat_test1\n",
      "time: 7.19 s (started: 2022-02-15 00:34:56 -05:00)\n"
     ]
    }
   ],
   "source": [
    "test_upload['size'] = 10\n",
    "test_upload['newField'] = 11\n",
    "\n",
    "upload_ES('row_id', test_upload, 'nhat_test1')"
   ]
  },
  {
   "cell_type": "code",
   "execution_count": 109,
   "id": "2d8d2ba9-47a6-4ccb-abf7-71e75d9978ab",
   "metadata": {},
   "outputs": [
    {
     "name": "stdout",
     "output_type": "stream",
     "text": [
      "time: 1.02 s (started: 2022-02-14 23:36:15 -05:00)\n"
     ]
    }
   ],
   "source": [
    "# more fields inside nested object\n",
    "test_upload.mailingAddress = test_upload.apply(lambda row:\n",
    "            {'lat': 'Unknow', 'hexCode': row.hexCode}, axis = 1)\n",
    "\n",
    "upload_ES('row_id', test_upload, 'nhat_test')"
   ]
  },
  {
   "cell_type": "code",
   "execution_count": 214,
   "id": "a8cc5807-89ce-404c-aaf5-554d52ad5075",
   "metadata": {},
   "outputs": [
    {
     "name": "stdout",
     "output_type": "stream",
     "text": [
      "Start uploading 67639 records to nhat_test\n",
      "Completed uploading 67639 records to nhat_test\n",
      "time: 13.3 s (started: 2022-02-15 00:40:22 -05:00)\n"
     ]
    }
   ],
   "source": [
    "# fewer field inside nested object\n",
    "test_upload.mailingAddress = test_upload.apply(lambda row:\n",
    "            {'hexCode': 'justkidding'}, axis = 1)\n",
    "\n",
    "upload_ES('row_id', test_upload, 'nhat_test')"
   ]
  }
 ],
 "metadata": {
  "kernelspec": {
   "display_name": "Python 3 (ipykernel)",
   "language": "python",
   "name": "python3"
  },
  "language_info": {
   "codemirror_mode": {
    "name": "ipython",
    "version": 3
   },
   "file_extension": ".py",
   "mimetype": "text/x-python",
   "name": "python",
   "nbconvert_exporter": "python",
   "pygments_lexer": "ipython3",
   "version": "3.9.7"
  }
 },
 "nbformat": 4,
 "nbformat_minor": 5
}
