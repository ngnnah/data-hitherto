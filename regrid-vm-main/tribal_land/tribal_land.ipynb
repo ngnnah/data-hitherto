{
 "cells": [
  {
   "cell_type": "markdown",
   "id": "c65803b6-d385-4848-9925-7b59075272bc",
   "metadata": {},
   "source": [
    "# Tribal Lands"
   ]
  },
  {
   "cell_type": "markdown",
   "id": "94c02aca-3d75-453d-8f0b-89256f85652d",
   "metadata": {},
   "source": [
    "This layer shows areas designated as American Indian, Alaska Native and Native\n",
    "Hawaiian Areas (**AIANNH**) by the U.S. Census in 2020. This dataset is updated on an annual basis as\n",
    "part of the Census TIGER program and is available for download on the program's website. Areas\n",
    "shown include: Alaska Native Regional Corporations, Tribal Subdivisions, Federal American Indian\n",
    "Reservations, Off-Reservation Trust Lands, State American Indian Reservations, Hawaiian Home\n",
    "Lands, Alaska Native Village Statistical Areas, Oklahoma Tribal Statistical Areas, State Designated\n",
    "Tribal Statistical Areas, Tribal Designated Statistical Areas, and American Indian Joint-Use Areas.\n",
    "Disclaimer: The data presented is “as is,” “as available” for informational purposes. NTIA does not\n",
    "warrant the accuracy, adequacy, or completeness of this information and expressly disclaims any\n",
    "liability for any errors or omissions."
   ]
  },
  {
   "cell_type": "code",
   "execution_count": 1,
   "id": "df36a9ee-8e2e-4ea5-a6ec-89b12e3cdfac",
   "metadata": {},
   "outputs": [
    {
     "name": "stderr",
     "output_type": "stream",
     "text": [
      "/home/nhat/anaconda3/envs/py39/lib/python3.9/site-packages/geopandas/_compat.py:111: UserWarning: The Shapely GEOS version (3.10.0-CAPI-1.16.0) is incompatible with the GEOS version PyGEOS was compiled with (3.10.1-CAPI-1.16.0). Conversions between both will be slow.\n",
      "  warnings.warn(\n"
     ]
    }
   ],
   "source": [
    "import geopandas as gp\n",
    "import pandas as pd\n",
    "\n",
    "from elasticsearch import Elasticsearch, helpers\n",
    "import json\n",
    "from keplergl import KeplerGl\n",
    "es = Elasticsearch(['https://3d6a9dd50c7c49c9ab5d23b6891bc03e.us-central1.gcp.cloud.es.io:9243'], \n",
    "                    http_auth=('elastic', 'WMzYk5RXyzE7MRShwPVwHzPX'), timeout=30)\n"
   ]
  },
  {
   "cell_type": "code",
   "execution_count": 2,
   "id": "de7fe5ed-df46-452b-a31e-caf6f8665ed4",
   "metadata": {},
   "outputs": [
    {
     "data": {
      "text/plain": [
       "((859, 16), (492, 11))"
      ]
     },
     "execution_count": 2,
     "metadata": {},
     "output_type": "execute_result"
    }
   ],
   "source": [
    "# ATTRIBUTES DEF @ page 22, 23\n",
    "# https://nces.ed.gov/programs/edge/docs/TGRSHP2017_FILEDOC.pdf\n",
    "# American Indian / Alaska Native / Native Hawaiian Areas (AIANNH) layer: https://www2.census.gov/geo/tiger/TIGER2020/AIANNH/\n",
    "polygon = gp.read_file('tl_2020_us_aiannh.zip')\n",
    "ttract = gp.read_file('https://www2.census.gov/geo/tiger/TIGER2020/TTRACT/tl_2020_us_ttract.zip')\n",
    "polygon.shape, ttract.shape"
   ]
  },
  {
   "cell_type": "markdown",
   "id": "a48b9acc-5795-4c86-a816-69ea2ebeb4d2",
   "metadata": {},
   "source": [
    "## Tribal polygon vs Tribal census tracts"
   ]
  },
  {
   "cell_type": "code",
   "execution_count": 6,
   "id": "b2dfcd98-dac5-411f-952e-b7255f30c7ca",
   "metadata": {},
   "outputs": [
    {
     "data": {
      "text/plain": [
       "((859, 5), (492, 5))"
      ]
     },
     "execution_count": 6,
     "metadata": {},
     "output_type": "execute_result"
    }
   ],
   "source": [
    "kepler_cols =              [  \n",
    "                # 'AIANNHCE'  ,        \n",
    "                # 'AIANNHNS'  ,         \n",
    "                'GEOID'  ,       \n",
    "                'NAME'       ,    \n",
    "                'NAMELSAD'   ,       \n",
    "                # 'LSAD'        ,   \n",
    "                # 'CLASSFP'     ,      \n",
    "                # 'COMPTYP'    ,        \n",
    "                # 'AIANNHR'     ,     \n",
    "                'MTFCC'     ,      \n",
    "                # 'FUNCSTAT'  ,        \n",
    "                # 'ALAND'     ,    \n",
    "                # 'AWATER'    ,    \n",
    "                # 'INTPTLAT'   ,        \n",
    "                # 'INTPTLON'  ,         \n",
    "                'geometry'   , \n",
    "]\n",
    "kepler_polygon = polygon[kepler_cols]\n",
    "kelper_ttract = ttract[kepler_cols]\n",
    "kepler_polygon.shape, kelper_ttract.shape"
   ]
  },
  {
   "cell_type": "code",
   "execution_count": null,
   "id": "3ec5ad22-0376-4562-8697-80d1d6ac6be8",
   "metadata": {},
   "outputs": [],
   "source": [
    "# load a saved Kepler config\n",
    "config_name = 'config_tribalvs'\n",
    "# LOAD the config  using jupyter %run magic ; Note the parameter escape {}\n",
    "# i.e. execute variable assignment: config = ....\n",
    "%run {config_name}.py\n",
    "# variable my_config will contain saved kelper map settings"
   ]
  },
  {
   "cell_type": "code",
   "execution_count": 7,
   "id": "65dc80d6-31f4-4164-b66a-2bc8c8f9a8b8",
   "metadata": {},
   "outputs": [
    {
     "name": "stdout",
     "output_type": "stream",
     "text": [
      "User Guide: https://docs.kepler.gl/docs/keplergl-jupyter\n"
     ]
    },
    {
     "data": {
      "application/vnd.jupyter.widget-view+json": {
       "model_id": "58accda2a91e4fc997e12d6b22e6a2f6",
       "version_major": 2,
       "version_minor": 0
      },
      "text/plain": [
       "KeplerGl(data={'polygon':      GEOID                                               NAME  \\\n",
       "0    2320R         …"
      ]
     },
     "metadata": {},
     "output_type": "display_data"
    }
   ],
   "source": [
    "# Kepler map: 2 different tribal layers\n",
    "map1 = KeplerGl(height=800, data={\n",
    "    'polygon' : kepler_polygon, \n",
    "    'tract' : kelper_ttract,\n",
    "}, config = my_config)\n",
    "\n",
    "map1"
   ]
  },
  {
   "cell_type": "code",
   "execution_count": 9,
   "id": "fe42059b-19fb-47c2-9e89-5ac3ed80457c",
   "metadata": {},
   "outputs": [],
   "source": [
    "import pprint\n",
    "# Save CURRENT Kepler config (all settings that have been done in Kelper Web Map UI) to a file\n",
    "__config = map1.config\n",
    "config_name = 'config_tribalvs'\n",
    "\n",
    "# SAVE: pretty-write kepler map config to file\n",
    "with open(f\"{config_name}.py\", 'w') as file:\n",
    "    file.write(f\"my_config = {pprint.pformat(__config)}\")"
   ]
  },
  {
   "cell_type": "markdown",
   "id": "5d5fb870-d61f-4879-b0d1-a162cd543d52",
   "metadata": {},
   "source": [
    "## To ElasticSearch"
   ]
  },
  {
   "cell_type": "code",
   "execution_count": null,
   "id": "b36ca6ea-c159-413c-84ba-7e259b94bbb9",
   "metadata": {},
   "outputs": [],
   "source": [
    "def create_tribal_index(es, ES_ROW_GEOID, index_name):\n",
    "    create_request_body = {\n",
    "       \"settings\": {\n",
    "        \"refresh_interval\": \"1s\",\n",
    "        \"number_of_shards\": 1,\n",
    "        \"number_of_replicas\": 0\n",
    "      },\n",
    "        \"mappings\":{ \n",
    "            \"properties\":{\n",
    "                'AIANNHCE'            : { \"type\":\"text\"},\n",
    "                'AIANNHNS'            : { \"type\":\"text\"},\n",
    "                ES_ROW_GEOID            : { \"type\":\"text\"},\n",
    "                'NAME'            : { \"type\":\"text\"},\n",
    "                'NAMELSAD'            : { \"type\":\"text\"},\n",
    "                'LSAD'            : { \"type\":\"text\"},\n",
    "                'CLASSFP'            : { \"type\":\"text\"},\n",
    "                'COMPTYP'            : { \"type\":\"text\"},\n",
    "                'AIANNHR'            : { \"type\":\"text\"},\n",
    "                'MTFCC'            : { \"type\":\"text\"},\n",
    "                'FUNCSTAT'            : { \"type\":\"text\"},\n",
    "                'ALAND'           : { \"type\": \"float\"}, # an INT larger than ES integer type\n",
    "                'AWATER'         : { \"type\": \"float\"}, # an INT larger than ES integer type\n",
    "                'INTPTLAT'            : { \"type\":\"text\"},\n",
    "                'INTPTLON'            : { \"type\":\"text\"},\n",
    "                \n",
    "                'location'    : {\"type\" : \"geo_shape\"},\n",
    "            }\n",
    "        }\n",
    "    } \n",
    "\n",
    "    es.indices.create(index = index_name, body = create_request_body)\n",
    "    print('created index ', index_name)\n",
    "\n",
    "def upload_df(es, df, index_name, id_column, op_type):\n",
    "    # \"\"\" This function upload plain json file, not geojson\"\"\"\n",
    "    df = df.to_json(orient = 'records')\n",
    "    json_records = json.loads(df)\n",
    "    action_list = []\n",
    "    for row in json_records:\n",
    "        record = {\n",
    "            '_op_type': op_type,\n",
    "            '_index': index_name,\n",
    "            # The type of the document\n",
    "            \"_type\": '_doc', \n",
    "            '_id':row[id_column],\n",
    "        }\n",
    "        if op_type == 'update':\n",
    "            record['doc_as_upsert'] = True\n",
    "            record['doc'] = row\n",
    "            # \"doc\": {\"newkey\": 'newvalue'},\n",
    "        elif op_type == 'index':\n",
    "            # a comma-separated list of the fields you want to retrieve.'\n",
    "            record['_source'] = row\n",
    "        else:\n",
    "            print('upload_df only accepts `update` or `index`')\n",
    "                   \n",
    "        action_list.append(record)\n",
    "        \n",
    "    # bulk UPLOAD the records\n",
    "    helpers.bulk(es, action_list)\n",
    "    print(f\"finished uploading {len(json_records)} records to {index_name}\")\n",
    "    "
   ]
  },
  {
   "cell_type": "code",
   "execution_count": 3,
   "id": "67a4a658-a555-417c-927e-a7850ec8bbd5",
   "metadata": {},
   "outputs": [],
   "source": [
    "# Create Elasticsearch GEOMETRY column\n",
    "geom = tribal['geometry']\n",
    "geojson =  geom.to_json()\n",
    "geojson_dict = json.loads(geojson)\n",
    "tribal['location'] = [k['geometry'] for k in geojson_dict['features']]\n"
   ]
  },
  {
   "cell_type": "code",
   "execution_count": 5,
   "id": "1c0f8101-cd77-4e8d-9b2e-0abc33914374",
   "metadata": {
    "tags": []
   },
   "outputs": [
    {
     "data": {
      "text/plain": [
       "(859, 16)"
      ]
     },
     "execution_count": 5,
     "metadata": {},
     "output_type": "execute_result"
    }
   ],
   "source": [
    "index_name = \"tribal_land\"\n",
    "ES_ROW_GEOID = 'GEOID'\n",
    "tribal_ES_cols =              [  \n",
    "                'AIANNHCE'  ,        \n",
    "                'AIANNHNS'  ,         \n",
    "                ES_ROW_GEOID  ,       \n",
    "                'NAME'       ,    \n",
    "                'NAMELSAD'   ,       \n",
    "                'LSAD'        ,   \n",
    "                'CLASSFP'     ,      \n",
    "                'COMPTYP'    ,        \n",
    "                'AIANNHR'     ,     \n",
    "                'MTFCC'     ,      \n",
    "                'FUNCSTAT'  ,        \n",
    "                'ALAND'     ,    \n",
    "                'AWATER'    ,    \n",
    "                'INTPTLAT'   ,        \n",
    "                'INTPTLON'  ,         \n",
    "                'location'   , ]\n",
    "\n",
    "# RUN ONCE\n",
    "# create_tribal_index(es, ES_ROW_GEOID, index_name)\n",
    "\n",
    "# RUN ONCE: NOTE: here using index _op_type: index = replace existing records\n",
    "# WEIRD behavior: only successfully upload tribal[['GEOID', 'location']]\n",
    "# REASON: cannot upload GeoDataFrame: type(tribal), type(tribal_ES),  # (geopandas.geodataframe.GeoDataFrame, pandas.core.frame.DataFrame)\n",
    "tribal_ES = tribal[tribal_ES_cols]\n",
    "tribal_ES.shape\n",
    "# UPLOAD ONCE\n",
    "# upload_df(es, tribal_ES, index_name, ES_ROW_GEOID, 'index')\n"
   ]
  },
  {
   "cell_type": "code",
   "execution_count": null,
   "id": "22d18c2e-300f-452a-a433-2b19711280ed",
   "metadata": {},
   "outputs": [],
   "source": []
  }
 ],
 "metadata": {
  "kernelspec": {
   "display_name": "Python 3 (ipykernel)",
   "language": "python",
   "name": "python3"
  },
  "language_info": {
   "codemirror_mode": {
    "name": "ipython",
    "version": 3
   },
   "file_extension": ".py",
   "mimetype": "text/x-python",
   "name": "python",
   "nbconvert_exporter": "python",
   "pygments_lexer": "ipython3",
   "version": "3.9.7"
  }
 },
 "nbformat": 4,
 "nbformat_minor": 5
}
