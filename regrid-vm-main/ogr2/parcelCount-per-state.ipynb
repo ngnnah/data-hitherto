{
 "cells": [
  {
   "cell_type": "code",
   "execution_count": 8,
   "id": "aa2e5e89-0815-498d-bb6c-3e777762424b",
   "metadata": {},
   "outputs": [],
   "source": [
    "from glob import glob\n",
    "import pandas as pd\n",
    "import datetime\n",
    "today = datetime.datetime.now().strftime('%Y-%m-%d')\n",
    "import json\n",
    "\n",
    "STATE_FIPS_DICT_52 = { \n",
    "  '01': 'AL', '02': 'AK', '04': 'AZ', '05': 'AR', '06': 'CA', '08': 'CO', '09': 'CT', '10': 'DE', \n",
    "  '11': 'DC', '12': 'FL', '13': 'GA', '15': 'HI', '16': 'ID', '17': 'IL', '18': 'IN', '19': 'IA', \n",
    "  '20': 'KS', '21': 'KY', '22': 'LA', '23': 'ME', '24': 'MD', '25': 'MA', '26': 'MI', '27': 'MN', \n",
    "  '28': 'MS', '29': 'MO', '30': 'MT', '31': 'NE', '32': 'NV', '33': 'NH', '34': 'NJ', '35': 'NM', \n",
    "  '36': 'NY', '37': 'NC', '38': 'ND', '39': 'OH', '40': 'OK', '41': 'OR', '42': 'PA', '44': 'RI', \n",
    "  '45': 'SC', '46': 'SD', '47': 'TN', '48': 'TX', '49': 'UT', '50': 'VT', '51': 'VA', '53': 'WA', \n",
    "  '54': 'WV', '55': 'WI', '56': 'WY', '72': 'PR'}\n",
    "\n",
    "REGRID_BUCKET_DIR = '/home/nhat/regrid-bucket/'\n",
    "all_counties_file = f'parcelCount-jsons_{today}.txt'"
   ]
  },
  {
   "cell_type": "markdown",
   "id": "ad528ef9-18d6-46ea-b257-c95af9f13d40",
   "metadata": {
    "tags": []
   },
   "source": [
    "## Generate json line for each county /json file in regrid-bucket"
   ]
  },
  {
   "cell_type": "code",
   "execution_count": 3,
   "id": "d0e26ecd-7d88-4937-a37d-a25f80de2a89",
   "metadata": {},
   "outputs": [],
   "source": [
    "def gen_all_json_file(all_counties_file):\n",
    "    lines = []\n",
    "    for sf, abbrv in STATE_FIPS_DICT_52.items():\n",
    "        abbrv = abbrv.lower()\n",
    "        counties = glob(f\"{REGRID_BUCKET_DIR}{abbrv}_*.json\")\n",
    "        lines = lines + counties\n",
    "    with open(all_counties_file, 'w') as f:\n",
    "        f.writelines('\\n'.join(lines))\n",
    "# run\n",
    "gen_all_json_file(all_counties_file)"
   ]
  },
  {
   "cell_type": "markdown",
   "id": "a04fc4b7-6219-454d-b8e6-2fd8cbf0bada",
   "metadata": {},
   "source": [
    "## Run parcelCount.bash (to count number of parcels in parallel -- up to 500 jobs)"
   ]
  },
  {
   "cell_type": "code",
   "execution_count": null,
   "id": "41858418-ea76-4341-88a2-0ac54087badc",
   "metadata": {},
   "outputs": [],
   "source": [
    "# on terminal: bash /home/nhat/ogr2/parcelCount.bash"
   ]
  },
  {
   "cell_type": "markdown",
   "id": "e32d4ab1-0ad5-4ee9-85af-c2e70637f1cd",
   "metadata": {},
   "source": [
    "## Number of parcels in each state"
   ]
  },
  {
   "cell_type": "code",
   "execution_count": null,
   "id": "71bec0d3-68c4-4fcc-a4d7-9b29a3bdb904",
   "metadata": {},
   "outputs": [],
   "source": [
    "# fl_broward = 781569\n",
    "# ('fl', 10096562, 9594666, 501896),\n",
    "# il_cook = 1415728\n",
    "# ('il', 5221930, 3851201, 1370729),"
   ]
  },
  {
   "cell_type": "code",
   "execution_count": 15,
   "id": "11ea79c1-80ad-4fe2-9091-01f9eb629e4e",
   "metadata": {
    "tags": []
   },
   "outputs": [],
   "source": [
    "dic = {}\n",
    "parsed_counties_file = 'parcelCount-county_2021-11-23.txt'\n",
    "# ACTUAL ROW COUNTS\n",
    "with open(parsed_counties_file) as f:\n",
    "    lines = f.read().splitlines()\n",
    "    count_df_county = pd.DataFrame(lines)\n",
    "    count_df_county.columns = ['col']\n",
    "    count_df_county = pd.json_normalize(count_df_county['col'].apply(json.loads))\n",
    "    \n",
    "for sf, abbrv in STATE_FIPS_DICT_52.items():\n",
    "    abbrv = abbrv.lower()\n",
    "    statecount = count_df_county[count_df_county.state == abbrv]['count'].sum()\n",
    "    dic[abbrv] = statecount\n",
    "\n",
    "\n",
    "new_parsed_counties_file = 'parcelCount-county_2021-12-22.txt'\n",
    "new_dic = {}\n",
    "with open(new_parsed_counties_file) as f:\n",
    "    lines = f.read().splitlines()\n",
    "    count_df_county = pd.DataFrame(lines)\n",
    "    count_df_county.columns = ['col']\n",
    "    count_df_county = pd.json_normalize(count_df_county['col'].apply(json.loads))\n",
    "    \n",
    "for sf, abbrv in STATE_FIPS_DICT_52.items():\n",
    "    abbrv = abbrv.lower()\n",
    "    statecount = count_df_county[count_df_county.state == abbrv]['count'].sum()\n",
    "    new_dic[abbrv] = statecount"
   ]
  },
  {
   "cell_type": "code",
   "execution_count": 16,
   "id": "6d2a369e-19b6-4f2f-b502-9945558438e0",
   "metadata": {},
   "outputs": [
    {
     "data": {
      "text/plain": [
       "[('ak', 396766, 396766, 0),\n",
       " ('al', 3293743, 3293743, 0),\n",
       " ('ar', 2018124, 2018124, 0),\n",
       " ('az', 3360560, 3360560, 0),\n",
       " ('ca', 12351172, 12352133, -961),\n",
       " ('co', 2700847, 2701207, -360),\n",
       " ('ct', 1261299, 1261299, 0),\n",
       " ('dc', 137269, 137269, 0),\n",
       " ('de', 429847, 429847, 0),\n",
       " ('fl', 10096562, 10378369, -281807),\n",
       " ('ga', 4558388, 4558388, 0),\n",
       " ('hi', 416176, 416176, 0),\n",
       " ('ia', 2487144, 2488901, -1757),\n",
       " ('id', 1094217, 1094382, -165),\n",
       " ('il', 5221930, 5268538, -46608),\n",
       " ('in', 3584283, 3584283, 0),\n",
       " ('ks', 1664434, 1664434, 0),\n",
       " ('ky', 1103985, 1103985, 0),\n",
       " ('la', 2529634, 2529634, 0),\n",
       " ('ma', 2538804, 2538804, 0),\n",
       " ('md', 2268185, 2268185, 0),\n",
       " ('me', 854332, 854332, 0),\n",
       " ('mi', 4579700, 4577926, 1774),\n",
       " ('mn', 3137689, 3137689, 0),\n",
       " ('mo', 3215105, 3215105, 0),\n",
       " ('ms', 1926495, 1946387, -19892),\n",
       " ('mt', 928884, 928884, 0),\n",
       " ('nc', 5599933, 5599933, 0),\n",
       " ('nd', 711102, 711102, 0),\n",
       " ('ne', 1148092, 1148092, 0),\n",
       " ('nh', 764681, 764681, 0),\n",
       " ('nj', 3449412, 3449412, 0),\n",
       " ('nm', 1454671, 1454671, 0),\n",
       " ('nv', 1337110, 1337110, 0),\n",
       " ('ny', 5449009, 5449009, 0),\n",
       " ('oh', 6422848, 6422848, 0),\n",
       " ('ok', 2259881, 2259881, 0),\n",
       " ('or', 1876542, 1876542, 0),\n",
       " ('pa', 5810277, 5810277, 0),\n",
       " ('pr', 1522738, 1522738, 0),\n",
       " ('ri', 398963, 398963, 0),\n",
       " ('sc', 2799785, 2799785, 0),\n",
       " ('sd', 704642, 704642, 0),\n",
       " ('tn', 3347728, 3347728, 0),\n",
       " ('tx', 13086292, 13086292, 0),\n",
       " ('ut', 1466352, 1466352, 0),\n",
       " ('va', 4070107, 4070107, 0),\n",
       " ('vt', 337022, 337022, 0),\n",
       " ('wa', 3225368, 3225368, 0),\n",
       " ('wi', 3643576, 3643576, 0),\n",
       " ('wv', 1371876, 1371876, 0),\n",
       " ('wy', 365332, 365332, 0)]"
      ]
     },
     "execution_count": 16,
     "metadata": {},
     "output_type": "execute_result"
    }
   ],
   "source": [
    "# TRUE parcels/rows COUNTS\n",
    "[(k, dic[k], new_dic[k], dic[k] - new_dic[k]) for k in sorted(new_dic)]"
   ]
  },
  {
   "cell_type": "code",
   "execution_count": 11,
   "id": "7d12a9ab-4c0d-4b92-a2cc-686946b01ba7",
   "metadata": {},
   "outputs": [],
   "source": [
    "# New Mexico 2022"
   ]
  },
  {
   "cell_type": "code",
   "execution_count": 10,
   "id": "9beee654-7121-4836-9921-eea763841527",
   "metadata": {},
   "outputs": [
    {
     "data": {
      "text/plain": [
       "{'nm': 1454671}"
      ]
     },
     "execution_count": 10,
     "metadata": {},
     "output_type": "execute_result"
    }
   ],
   "source": [
    "new_parsed_counties_file = 'parcelCount-county_2022-01-03.txt'\n",
    "new_dic = {}\n",
    "with open(new_parsed_counties_file) as f:\n",
    "    lines = f.read().splitlines()\n",
    "    count_df_county = pd.DataFrame(lines)\n",
    "    count_df_county.columns = ['col']\n",
    "    count_df_county = pd.json_normalize(count_df_county['col'].apply(json.loads))\n",
    "    \n",
    "for sf, abbrv in [('35', 'nm')]:\n",
    "    abbrv = abbrv.lower()\n",
    "    statecount = count_df_county[count_df_county.state == abbrv]['count'].sum()\n",
    "    new_dic[abbrv] = statecount\n",
    "new_dic"
   ]
  },
  {
   "cell_type": "code",
   "execution_count": null,
   "id": "de2aec03-1e73-4e33-8080-594557b1220d",
   "metadata": {},
   "outputs": [],
   "source": []
  }
 ],
 "metadata": {
  "kernelspec": {
   "display_name": "Python 3 (ipykernel)",
   "language": "python",
   "name": "python3"
  },
  "language_info": {
   "codemirror_mode": {
    "name": "ipython",
    "version": 3
   },
   "file_extension": ".py",
   "mimetype": "text/x-python",
   "name": "python",
   "nbconvert_exporter": "python",
   "pygments_lexer": "ipython3",
   "version": "3.9.7"
  }
 },
 "nbformat": 4,
 "nbformat_minor": 5
}
