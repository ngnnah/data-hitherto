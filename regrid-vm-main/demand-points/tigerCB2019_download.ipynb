{
 "cells": [
  {
   "cell_type": "code",
   "execution_count": 1,
   "id": "78fc663e-00e7-4760-9b22-f7b27822f1ec",
   "metadata": {
    "execution": {
     "iopub.execute_input": "2022-06-14T17:18:32.682582Z",
     "iopub.status.busy": "2022-06-14T17:18:32.682429Z",
     "iopub.status.idle": "2022-06-14T17:18:33.193634Z",
     "shell.execute_reply": "2022-06-14T17:18:33.193239Z",
     "shell.execute_reply.started": "2022-06-14T17:18:32.682536Z"
    },
    "tags": []
   },
   "outputs": [
    {
     "name": "stderr",
     "output_type": "stream",
     "text": [
      "/home/nhat/anaconda3/envs/py39/lib/python3.9/site-packages/geopandas/_compat.py:111: UserWarning: The Shapely GEOS version (3.10.2-CAPI-1.16.0) is incompatible with the GEOS version PyGEOS was compiled with (3.10.1-CAPI-1.16.0). Conversions between both will be slow.\n",
      "  warnings.warn(\n"
     ]
    }
   ],
   "source": [
    "import geopandas as gp\n",
    "from multiprocess import Pool\n",
    "SF57 = {'01': 'AL', '02': 'AK', '04': 'AZ', '05': 'AR', '06': 'CA', '08': 'CO', '09': 'CT', '10': 'DE', '11': 'DC', '12': 'FL', '13': 'GA', '15': 'HI', '16': 'ID', '17': 'IL', '18': 'IN', '19': 'IA', '20': 'KS', '21': 'KY', '22': 'LA', '23': 'ME', '24': 'MD', '25': 'MA', '26': 'MI', '27': 'MN', '28': 'MS', '29': 'MO', '30': 'MT', '31': 'NE', '32': 'NV', '33': 'NH', '34': 'NJ', '35': 'NM', '36': 'NY', '37': 'NC', '38': 'ND', '39': 'OH', '40': 'OK', '41': 'OR', '42': 'PA', '44': 'RI', '45': 'SC', '46': 'SD', '47': 'TN', '48': 'TX', '49': 'UT', '50': 'VT', '51': 'VA', '53': 'WA', '54': 'WV', '55': 'WI', '56': 'WY', '60': 'AS', '66': 'GU', '69': 'MP', '72': 'PR', '74': 'UM', '78': 'VI'}\n",
    "SF57R = {value : key for (key, value) in SF57.items()}\n",
    "CRS_REGRID_PARCELS = \"EPSG:4326\"\n"
   ]
  },
  {
   "cell_type": "markdown",
   "id": "b0e7da06-d92e-49b8-a951-0d66ad11c145",
   "metadata": {},
   "source": [
    "# Read TIGER2019 censusblock, and save GEOID + wkt columns to ftr"
   ]
  },
  {
   "cell_type": "code",
   "execution_count": 13,
   "id": "d3c4f8de-5894-4dfe-97c8-f115c3beef27",
   "metadata": {
    "execution": {
     "iopub.execute_input": "2022-06-14T17:28:50.734628Z",
     "iopub.status.busy": "2022-06-14T17:28:50.734107Z",
     "iopub.status.idle": "2022-06-14T17:33:05.402764Z",
     "shell.execute_reply": "2022-06-14T17:33:05.402139Z",
     "shell.execute_reply.started": "2022-06-14T17:28:50.734599Z"
    },
    "tags": []
   },
   "outputs": [
    {
     "name": "stdout",
     "output_type": "stream",
     "text": [
      "Completed saving (6507, 17) in sf_code='DC' to ftr\n",
      "Completed saving (24115, 17) in sf_code='DE' to ftr\n",
      "Completed saving (25016, 17) in sf_code='HI' to ftr\n",
      "Completed saving (67578, 17) in sf_code='CT' to ftr\n",
      "Completed saving (45292, 17) in sf_code='AK' to ftr\n",
      "Completed saving (69518, 17) in sf_code='ME' to ftr\n",
      "Completed saving (216007, 17) in sf_code='IA' to ftr\n",
      "Completed saving (149842, 17) in sf_code='ID' to ftr\n",
      "Completed saving (238600, 17) in sf_code='KS' to ftr\n",
      "Completed saving (186211, 17) in sf_code='AR' to ftr\n",
      "Completed saving (267071, 17) in sf_code='IN' to ftr\n",
      "Completed saving (201062, 17) in sf_code='CO' to ftr\n",
      "Completed saving (145247, 17) in sf_code='MD' to ftr\n",
      "Completed saving (241666, 17) in sf_code='AZ' to ftr\n",
      "Completed saving (161672, 17) in sf_code='KY' to ftr\n",
      "Completed saving (204447, 17) in sf_code='LA' to ftr\n",
      "Completed saving (252266, 17) in sf_code='AL' to ftr\n",
      "Completed saving (48837, 17) in sf_code='NH' to ftr\n",
      "Completed saving (291086, 17) in sf_code='GA' to ftr\n",
      "Completed saving (157508, 17) in sf_code='MA' to ftr\n",
      "Completed saving (451554, 17) in sf_code='IL' to ftr\n",
      "Completed saving (84538, 17) in sf_code='NV' to ftr\n",
      "Completed saving (169588, 17) in sf_code='NJ' to ftr\n",
      "Completed saving (484481, 17) in sf_code='FL' to ftr\n",
      "Completed saving (193352, 17) in sf_code='NE' to ftr\n",
      "Completed saving (171778, 17) in sf_code='MS' to ftr\n",
      "Completed saving (133769, 17) in sf_code='ND' to ftr\n",
      "Completed saving (25181, 17) in sf_code='RI' to ftr\n",
      "Completed saving (168609, 17) in sf_code='NM' to ftr\n",
      "Completed saving (132288, 17) in sf_code='MT' to ftr\n",
      "Completed saving (329885, 17) in sf_code='MI' to ftr\n",
      "Completed saving (259777, 17) in sf_code='MN' to ftr\n",
      "Completed saving (32580, 17) in sf_code='VT' to ftr\n",
      "Completed saving (88360, 17) in sf_code='SD' to ftr\n",
      "Completed saving (343565, 17) in sf_code='MO' to ftr\n",
      "Completed saving (181908, 17) in sf_code='SC' to ftr\n",
      "Completed saving (269118, 17) in sf_code='OK' to ftr\n",
      "Completed saving (832, 17) in sf_code='AS' to ftr\n",
      "Completed saving (350169, 17) in sf_code='NY' to ftr\n",
      "Completed saving (1444, 17) in sf_code='MP' to ftr\n",
      "Completed saving (3739, 17) in sf_code='GU' to ftr\n",
      "Completed saving (115406, 17) in sf_code='UT' to ftr\n",
      "Completed saving (4835, 17) in sf_code='VI' to ftr\n",
      "Completed saving (365344, 17) in sf_code='OH' to ftr\n",
      "Completed saving (288987, 17) in sf_code='NC' to ftr\n",
      "Completed saving (135218, 17) in sf_code='WV' to ftr\n",
      "Completed saving (196621, 17) in sf_code='OR' to ftr\n",
      "Completed saving (86204, 17) in sf_code='WY' to ftr\n",
      "Completed saving (195574, 17) in sf_code='WA' to ftr\n",
      "Completed saving (710145, 17) in sf_code='CA' to ftr\n",
      "Completed saving (240116, 17) in sf_code='TN' to ftr\n",
      "Completed saving (77189, 17) in sf_code='PR' to ftr\n",
      "Completed saving (285762, 17) in sf_code='VA' to ftr\n",
      "Completed saving (421545, 17) in sf_code='PA' to ftr\n",
      "Completed saving (914231, 17) in sf_code='TX' to ftr\n",
      "Completed saving (253096, 17) in sf_code='WI' to ftr\n"
     ]
    }
   ],
   "source": [
    "import requests\n",
    "def saveCB(sf):    \n",
    "    state_shp_url = f\"https://www2.census.gov/geo/tiger/TIGER2019/TABBLOCK/tl_2019_{sf}_tabblock10.zip\"\n",
    "    if requests.get(state_shp_url).ok: # PING FIRST, check if the file is available\n",
    "        state_census_tiles = gp.read_file(state_shp_url).to_crs(CRS_REGRID_PARCELS)\n",
    "        # print(\"READ TIGER INPUT = \", state_census_tiles.shape)\n",
    "        state_census_tiles['geom'] = state_census_tiles.geometry.to_wkt()\n",
    "        # state_census_tiles[['GEOID10', 'geom']] is a pandas DataFrame\n",
    "        sf_code = SF57[sf]\n",
    "        state_census_tiles[['GEOID10', 'geom']].to_feather(f'tigerCB2019/{sf_code}.ftr')\n",
    "        print(f\"Completed saving {state_census_tiles.shape} in {sf_code=} to ftr\")\n",
    "        del state_census_tiles\n",
    "    return\n",
    "# NOTE: TIGER2019/CENSUSBLOCK has no coverage for UM statefips = 74, neither does Elasticsearch bossdata (no bossdata74 index)    \n",
    "with Pool(16) as pool:\n",
    "    pool.map(saveCB, SF57)\n",
    "    "
   ]
  },
  {
   "cell_type": "code",
   "execution_count": 14,
   "id": "d96f7978-10fe-449f-b83f-e0919a053b7a",
   "metadata": {
    "execution": {
     "iopub.execute_input": "2022-06-14T17:34:15.486271Z",
     "iopub.status.busy": "2022-06-14T17:34:15.485913Z",
     "iopub.status.idle": "2022-06-14T17:34:15.604468Z",
     "shell.execute_reply": "2022-06-14T17:34:15.603914Z",
     "shell.execute_reply.started": "2022-06-14T17:34:15.486246Z"
    },
    "tags": []
   },
   "outputs": [
    {
     "name": "stdout",
     "output_type": "stream",
     "text": [
      "56\n"
     ]
    }
   ],
   "source": [
    "ls tigerCB2019 | wc -l"
   ]
  },
  {
   "cell_type": "code",
   "execution_count": 16,
   "id": "c8322408-c622-4b01-b7c0-f57982b4ced2",
   "metadata": {
    "execution": {
     "iopub.execute_input": "2022-06-14T17:34:25.290899Z",
     "iopub.status.busy": "2022-06-14T17:34:25.290547Z",
     "iopub.status.idle": "2022-06-14T17:34:25.408435Z",
     "shell.execute_reply": "2022-06-14T17:34:25.407870Z",
     "shell.execute_reply.started": "2022-06-14T17:34:25.290874Z"
    },
    "tags": []
   },
   "outputs": [
    {
     "name": "stdout",
     "output_type": "stream",
     "text": [
      "total 6.9G\n",
      "-rw-r--r-- 1 nhat nhat 455M Jun 14 13:32 TX.ftr\n",
      "-rw-r--r-- 1 nhat nhat 417M Jun 14 13:31 CA.ftr\n",
      "-rw-r--r-- 1 nhat nhat 266M Jun 14 13:31 PA.ftr\n",
      "-rw-r--r-- 1 nhat nhat 232M Jun 14 13:31 VA.ftr\n"
     ]
    }
   ],
   "source": [
    "ls -lhS tigerCB2019 | head -5"
   ]
  },
  {
   "cell_type": "code",
   "execution_count": null,
   "id": "e0ffa02a-ab32-4a95-ac08-56f34d98019c",
   "metadata": {},
   "outputs": [],
   "source": []
  }
 ],
 "metadata": {
  "kernelspec": {
   "display_name": "Python 3 (ipykernel)",
   "language": "python",
   "name": "python3"
  },
  "language_info": {
   "codemirror_mode": {
    "name": "ipython",
    "version": 3
   },
   "file_extension": ".py",
   "mimetype": "text/x-python",
   "name": "python",
   "nbconvert_exporter": "python",
   "pygments_lexer": "ipython3",
   "version": "3.9.7"
  }
 },
 "nbformat": 4,
 "nbformat_minor": 5
}
