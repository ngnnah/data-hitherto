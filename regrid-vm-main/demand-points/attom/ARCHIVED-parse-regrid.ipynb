{
 "cells": [
  {
   "cell_type": "code",
   "execution_count": 5,
   "id": "65ee5b23-a2ba-4236-80b1-2f0d67ab4543",
   "metadata": {
    "execution": {
     "iopub.execute_input": "2022-05-31T07:09:36.865347Z",
     "iopub.status.busy": "2022-05-31T07:09:36.865033Z",
     "iopub.status.idle": "2022-05-31T07:09:36.868421Z",
     "shell.execute_reply": "2022-05-31T07:09:36.868009Z",
     "shell.execute_reply.started": "2022-05-31T07:09:36.865324Z"
    },
    "tags": []
   },
   "outputs": [],
   "source": [
    "import ijson.backends.yajl2_c as ijson\n",
    "from shapely.geometry import shape\n",
    "from multiprocess import Pool\n",
    "import csv\n",
    "import geopandas as gp\n",
    "import numpy as np\n",
    "from glob import glob\n",
    "import pandas as pd\n",
    "import gzip\n",
    "import json"
   ]
  },
  {
   "cell_type": "markdown",
   "id": "3a2c1fcb-ef4a-40f8-980e-1aec2e833fa0",
   "metadata": {},
   "source": [
    "# Check verse file"
   ]
  },
  {
   "cell_type": "code",
   "execution_count": 2,
   "id": "806d33e0-8692-40d0-a0f5-376e1d506697",
   "metadata": {
    "execution": {
     "iopub.execute_input": "2022-05-31T06:03:50.598172Z",
     "iopub.status.busy": "2022-05-31T06:03:50.597958Z",
     "iopub.status.idle": "2022-05-31T06:03:50.785881Z",
     "shell.execute_reply": "2022-05-31T06:03:50.785520Z",
     "shell.execute_reply.started": "2022-05-31T06:03:50.598152Z"
    },
    "tags": []
   },
   "outputs": [
    {
     "data": {
      "text/plain": [
       "['/home/nhat/regrid-bucket/verse.csv.gz']"
      ]
     },
     "execution_count": 2,
     "metadata": {},
     "output_type": "execute_result"
    }
   ],
   "source": [
    "glob(\"/home/nhat/regrid-bucket/verse*\")"
   ]
  },
  {
   "cell_type": "code",
   "execution_count": 24,
   "id": "30c662ac-472a-4413-812d-e9206e24262c",
   "metadata": {
    "execution": {
     "iopub.execute_input": "2022-05-31T07:27:39.323600Z",
     "iopub.status.busy": "2022-05-31T07:27:39.323291Z",
     "iopub.status.idle": "2022-05-31T07:27:39.466926Z",
     "shell.execute_reply": "2022-05-31T07:27:39.466402Z",
     "shell.execute_reply.started": "2022-05-31T07:27:39.323577Z"
    },
    "tags": []
   },
   "outputs": [
    {
     "data": {
      "text/plain": [
       "(3229, 25)"
      ]
     },
     "execution_count": 24,
     "metadata": {},
     "output_type": "execute_result"
    }
   ],
   "source": [
    "verse = pd.read_csv('/home/nhat/regrid-bucket/verse.csv.gz')\n",
    "verse.shape # (3229, 25)"
   ]
  },
  {
   "cell_type": "code",
   "execution_count": 25,
   "id": "493301a5-8fa3-4cd9-b039-8271339ce8d1",
   "metadata": {
    "execution": {
     "iopub.execute_input": "2022-05-31T07:27:40.115338Z",
     "iopub.status.busy": "2022-05-31T07:27:40.115000Z",
     "iopub.status.idle": "2022-05-31T07:27:40.131766Z",
     "shell.execute_reply": "2022-05-31T07:27:40.131276Z",
     "shell.execute_reply.started": "2022-05-31T07:27:40.115313Z"
    },
    "tags": []
   },
   "outputs": [
    {
     "data": {
      "text/plain": [
       "((3121, 25), (3121, 25))"
      ]
     },
     "execution_count": 25,
     "metadata": {},
     "output_type": "execute_result"
    }
   ],
   "source": [
    "# ((3121, 25), (3121, 25))\n",
    "# # Generally if there is a null table_name in verse, the county is not in our dataset.\n",
    "verse_cover = verse.query('last_refresh == last_refresh | table_name == table_name')\n",
    "verse.query('last_refresh == last_refresh & table_name == table_name'\n",
    "           ).shape, verse.query('last_refresh == last_refresh | table_name == table_name').shape"
   ]
  },
  {
   "cell_type": "markdown",
   "id": "40888954-4ee0-4fcf-808d-3c5aa7a68c64",
   "metadata": {},
   "source": [
    "# All recent refreshes\n"
   ]
  },
  {
   "cell_type": "code",
   "execution_count": 50,
   "id": "2d933a0e-6153-4345-910c-3d3e060aac9a",
   "metadata": {
    "execution": {
     "iopub.execute_input": "2022-05-31T06:20:23.232527Z",
     "iopub.status.busy": "2022-05-31T06:20:23.232170Z",
     "iopub.status.idle": "2022-05-31T06:20:23.402634Z",
     "shell.execute_reply": "2022-05-31T06:20:23.402221Z",
     "shell.execute_reply.started": "2022-05-31T06:20:23.232503Z"
    },
    "tags": []
   },
   "outputs": [
    {
     "name": "stdout",
     "output_type": "stream",
     "text": [
      "['2016/02/01', '2016/03/31', '2016/04/04', '2016/04/05', '2016/04/27', '2016/04/28', '2016/06/03', '2016/06/12', '2016/07/11', '2018/08/31', '2018/09/20', '2018/10/17', '2018/12/05', '2019/05/07', '2019/06/03', '2019/07/16', '2019/08/01', '2019/08/06', '2019/09/24', '2019/10/01', '2019/10/21', '2019/11/11', '2019/11/13', '2019/11/25', '2019/12/18', '2020/01/20', '2020/02/03', '2020/02/11', '2020/02/17', '2020/03/04', '2020/03/09', '2020/03/11', '2020/04/13', '2020/04/27', '2020/05/11', '2020/05/12', '2020/05/26', '2020/06/08', '2020/06/22', '2020/07/06', '2020/07/20', '2020/08/03', '2020/09/14', '2020/09/28', '2020/10/13', '2020/10/26', '2020/11/09', '2020/11/23', '2020/12/07', '2020/12/17', '2021/01/19', '2021/02/01', '2021/02/15', '2021/03/01', '2021/03/16', '2021/03/31', '2021/04/13', '2021/04/27', '2021/05/11', '2021/05/25', '2021/06/09', '2021/06/21', '2021/06/22', '2021/06/30', '2021/07/07', '2021/07/20', '2021/08/03', '2021/08/18', '2021/08/31', '2021/09/14', '2021/09/28', '2021/10/12', '2021/10/13', '2021/10/26', '2021/11/09', '2021/11/23', '2021/12/14', '2022/01/19', '2022/02/01', '2022/02/14', '2022/02/15', '2022/03/01', '2022/03/15', '2022/03/29', '2022/04/12', '2022/04/26', '2022/05/10', '2022/05/21', '2022/05/24']\n"
     ]
    }
   ],
   "source": [
    "ver = pd.read_csv('/home/nhat/regrid-bucket/verse.csv.gz').sort_values('last_refresh')\n",
    "print(sorted(ver.dropna(subset=['last_refresh']).last_refresh.unique()))\n"
   ]
  },
  {
   "cell_type": "markdown",
   "id": "04707176-f667-42d2-a0f8-12a0aea51e6d",
   "metadata": {},
   "source": [
    "# Create stem txt files (for parallel parsing)"
   ]
  },
  {
   "cell_type": "code",
   "execution_count": 26,
   "id": "b3a721b9-1024-4bb3-b0b3-dccada373891",
   "metadata": {
    "execution": {
     "iopub.execute_input": "2022-05-31T07:27:41.650049Z",
     "iopub.status.busy": "2022-05-31T07:27:41.649741Z",
     "iopub.status.idle": "2022-05-31T07:27:52.638430Z",
     "shell.execute_reply": "2022-05-31T07:27:52.637914Z",
     "shell.execute_reply.started": "2022-05-31T07:27:41.650026Z"
    },
    "tags": []
   },
   "outputs": [
    {
     "data": {
      "text/plain": [
       "(set(), set())"
      ]
     },
     "execution_count": 26,
     "metadata": {},
     "output_type": "execute_result"
    }
   ],
   "source": [
    "SF57 = {'01': 'AL', '02': 'AK', '04': 'AZ', '05': 'AR', '06': 'CA', '08': 'CO', '09': 'CT', '10': 'DE', '11': 'DC', '12': 'FL', '13': 'GA', '15': 'HI', '16': 'ID', '17': 'IL', '18': 'IN', '19': 'IA', '20': 'KS', '21': 'KY', '22': 'LA', '23': 'ME', '24': 'MD', '25': 'MA', '26': 'MI', '27': 'MN', '28': 'MS', '29': 'MO', '30': 'MT', '31': 'NE', '32': 'NV', '33': 'NH', '34': 'NJ', '35': 'NM', '36': 'NY', '37': 'NC', '38': 'ND', '39': 'OH', '40': 'OK', '41': 'OR', '42': 'PA', '44': 'RI', '45': 'SC', '46': 'SD', '47': 'TN', '48': 'TX', '49': 'UT', '50': 'VT', '51': 'VA', '53': 'WA', '54': 'WV', '55': 'WI', '56': 'WY', '60': 'AS', '66': 'GU', '69': 'MP', '72': 'PR', '74': 'UM', '78': 'VI'}\n",
    "SF57R = {value : key for (key, value) in SF57.items()}\n",
    "\n",
    "# 30sec\n",
    "d = {}\n",
    "s_stems = []\n",
    "for sf in SF57R:\n",
    "    sf = sf.lower()\n",
    "    listfiles = glob(f\"/home/nhat/regrid-bucket/{sf}_*.ndgeojson.gz\")\n",
    "    d[sf] = (len(listfiles), listfiles)\n",
    "    s_stems += listfiles\n",
    "# list of present filename_stems in geo bucket    \n",
    "s_stems = [k.split('/')[-1].split('.')[0] for k in s_stems]  \n",
    "\n"
   ]
  },
  {
   "cell_type": "code",
   "execution_count": 27,
   "id": "24b359c8-5ff5-410d-a52f-94de13177ab2",
   "metadata": {
    "execution": {
     "iopub.execute_input": "2022-05-31T07:28:01.435490Z",
     "iopub.status.busy": "2022-05-31T07:28:01.435172Z",
     "iopub.status.idle": "2022-05-31T07:28:01.440506Z",
     "shell.execute_reply": "2022-05-31T07:28:01.439982Z",
     "shell.execute_reply.started": "2022-05-31T07:28:01.435468Z"
    }
   },
   "outputs": [
    {
     "data": {
      "text/plain": [
       "(set(), set())"
      ]
     },
     "execution_count": 27,
     "metadata": {},
     "output_type": "execute_result"
    }
   ],
   "source": [
    "# (set(), set()) = good!  no discrepancy\n",
    "set(verse_cover.filename_stem) - set(s_stems), set(s_stems) - set(verse_cover.filename_stem)"
   ]
  },
  {
   "cell_type": "code",
   "execution_count": 28,
   "id": "64f32f2e-d16d-4cfa-acfb-92c1bfd81047",
   "metadata": {
    "execution": {
     "iopub.execute_input": "2022-05-31T07:28:03.515273Z",
     "iopub.status.busy": "2022-05-31T07:28:03.514952Z",
     "iopub.status.idle": "2022-05-31T07:28:03.519975Z",
     "shell.execute_reply": "2022-05-31T07:28:03.519463Z",
     "shell.execute_reply.started": "2022-05-31T07:28:03.515249Z"
    },
    "tags": []
   },
   "outputs": [
    {
     "data": {
      "text/plain": [
       "(set(), {'AS', 'UM'})"
      ]
     },
     "execution_count": 28,
     "metadata": {},
     "output_type": "execute_result"
    }
   ],
   "source": [
    "# (set(), {'AS', 'UM'})\n",
    "set(verse_cover.state) - set(SF57R),  set(SF57R) - set(verse_cover.state) "
   ]
  },
  {
   "cell_type": "code",
   "execution_count": 29,
   "id": "ed2df38b-2391-4a75-9c83-f523fd8e2961",
   "metadata": {
    "execution": {
     "iopub.execute_input": "2022-05-31T07:28:09.976468Z",
     "iopub.status.busy": "2022-05-31T07:28:09.976159Z",
     "iopub.status.idle": "2022-05-31T07:28:09.980720Z",
     "shell.execute_reply": "2022-05-31T07:28:09.980240Z",
     "shell.execute_reply.started": "2022-05-31T07:28:09.976443Z"
    },
    "tags": []
   },
   "outputs": [],
   "source": [
    "# Write stems to files\n",
    "with open('stems_sf57_1.txt', 'w') as f:\n",
    "    for stem in s_stems[:1600]:\n",
    "        f.write(f\"{stem}\\n\")\n",
    "\n",
    "with open('stems_sf57_2.txt', 'w') as f:\n",
    "    for stem in s_stems[1600:]:\n",
    "        f.write(f\"{stem}\\n\")"
   ]
  },
  {
   "cell_type": "markdown",
   "id": "924da574-370e-4704-aa70-803d97df230d",
   "metadata": {
    "tags": []
   },
   "source": [
    "## Copy ndgeojson.gz into local folder\n",
    "- gsutil -m cp gs://boss-geo-data/*.ndgeojson.gz /home/nhat/demand-points/attom/data/regrid-gz/"
   ]
  },
  {
   "cell_type": "code",
   "execution_count": 55,
   "id": "a4f14f76-53a6-4198-8977-4d4ca22fe683",
   "metadata": {
    "execution": {
     "iopub.execute_input": "2022-05-31T06:32:34.644278Z",
     "iopub.status.busy": "2022-05-31T06:32:34.643964Z",
     "iopub.status.idle": "2022-05-31T06:32:34.793800Z",
     "shell.execute_reply": "2022-05-31T06:32:34.793280Z",
     "shell.execute_reply.started": "2022-05-31T06:32:34.644253Z"
    }
   },
   "outputs": [
    {
     "name": "stdout",
     "output_type": "stream",
     "text": [
      "3121\n"
     ]
    }
   ],
   "source": [
    "# SHOULD BE 3121 gzips\n",
    "! ls data/regrid-gz/* | wc -l"
   ]
  },
  {
   "cell_type": "markdown",
   "id": "42626e2a-f2db-438c-a73f-ff02d756d93a",
   "metadata": {},
   "source": [
    "# RUN parallel parse-regrid.py = 1.5 hr! \n",
    "- read each gzip, then write to props (all columns, including the geom columns)\n"
   ]
  },
  {
   "cell_type": "code",
   "execution_count": null,
   "id": "a2a9063b-10fe-4059-8f68-2208667889cc",
   "metadata": {},
   "outputs": [],
   "source": [
    "bash /home/nhat/demand-points/attom/cmds.bash &\n",
    "\n",
    "In SSH terminal: type exit (or press Ctrl+D), all background process will remain, \n"
   ]
  },
  {
   "cell_type": "code",
   "execution_count": 48,
   "id": "06f9d31d-14d8-46e2-a356-e00945e38bb7",
   "metadata": {
    "execution": {
     "iopub.execute_input": "2022-05-31T12:44:17.672140Z",
     "iopub.status.busy": "2022-05-31T12:44:17.671806Z",
     "iopub.status.idle": "2022-05-31T12:44:18.095914Z",
     "shell.execute_reply": "2022-05-31T12:44:18.095398Z",
     "shell.execute_reply.started": "2022-05-31T12:44:17.672116Z"
    },
    "tags": []
   },
   "outputs": [
    {
     "name": "stdout",
     "output_type": "stream",
     "text": [
      "3121\n",
      "55\n",
      "3121\n"
     ]
    }
   ],
   "source": [
    "! ls data/regrid-gz/* | wc -l\n",
    "! ls data/regrid-feather/* | wc -l\n",
    "! ls data/regrid-csv/* | wc -l"
   ]
  },
  {
   "cell_type": "code",
   "execution_count": 50,
   "id": "3f92a3b2-8bd4-42db-bbd2-9ceec5961f66",
   "metadata": {
    "execution": {
     "iopub.execute_input": "2022-05-31T12:44:24.794391Z",
     "iopub.status.busy": "2022-05-31T12:44:24.794078Z",
     "iopub.status.idle": "2022-05-31T12:44:24.911292Z",
     "shell.execute_reply": "2022-05-31T12:44:24.910771Z",
     "shell.execute_reply.started": "2022-05-31T12:44:24.794363Z"
    },
    "tags": []
   },
   "outputs": [
    {
     "name": "stdout",
     "output_type": "stream",
     "text": [
      "Exit status: 0\n",
      " ========= STARTING @ 2022-05-31@03:35  ========= \n",
      " ========= COMPLETE @ 2022-05-31@04:45  ========= \n",
      "START parsing data/regrid-csv/ca_los_angeles.csv\n",
      "Complete parsing #2416949 features for data/regrid-csv/ca_los_angeles.csv\n"
     ]
    }
   ],
   "source": [
    "! tail -5 cmds.log"
   ]
  },
  {
   "cell_type": "code",
   "execution_count": 35,
   "id": "ab94666f-fffc-4688-b802-e09e84db8890",
   "metadata": {
    "execution": {
     "iopub.execute_input": "2022-05-31T07:35:52.020609Z",
     "iopub.status.busy": "2022-05-31T07:35:52.020303Z",
     "iopub.status.idle": "2022-05-31T07:35:52.249858Z",
     "shell.execute_reply": "2022-05-31T07:35:52.249347Z",
     "shell.execute_reply.started": "2022-05-31T07:35:52.020581Z"
    },
    "tags": []
   },
   "outputs": [
    {
     "name": "stdout",
     "output_type": "stream",
     "text": [
      "rm: cannot remove 'data/regrid-csv/*': No such file or directory\n",
      "rm: cannot remove 'cmds.log': No such file or directory\n"
     ]
    }
   ],
   "source": [
    "# # Remove results from failed attemps\n",
    "# ! rm data/regrid-csv/*\n",
    "# ! rm cmds.log"
   ]
  },
  {
   "cell_type": "code",
   "execution_count": null,
   "id": "7211769c-3eea-4cfd-82f0-0dd2648dab68",
   "metadata": {},
   "outputs": [],
   "source": []
  },
  {
   "cell_type": "code",
   "execution_count": null,
   "id": "90cd00c3-ea52-4968-8bfd-135a86bea5a0",
   "metadata": {},
   "outputs": [],
   "source": []
  },
  {
   "cell_type": "code",
   "execution_count": null,
   "id": "4093b42b-b118-4a1f-b457-4cbd4d69bf4e",
   "metadata": {},
   "outputs": [],
   "source": []
  },
  {
   "cell_type": "markdown",
   "id": "8eba4809-2322-4388-904d-900678d24b09",
   "metadata": {},
   "source": [
    "# Small steps testings"
   ]
  },
  {
   "cell_type": "code",
   "execution_count": 85,
   "id": "ad12cc51-1f86-4a7b-a245-3d45e03e4528",
   "metadata": {
    "execution": {
     "iopub.execute_input": "2022-05-31T06:48:51.204219Z",
     "iopub.status.busy": "2022-05-31T06:48:51.203894Z",
     "iopub.status.idle": "2022-05-31T06:48:52.692396Z",
     "shell.execute_reply": "2022-05-31T06:48:52.691850Z",
     "shell.execute_reply.started": "2022-05-31T06:48:51.204190Z"
    },
    "tags": []
   },
   "outputs": [
    {
     "data": {
      "text/plain": [
       "(3127, 129)"
      ]
     },
     "execution_count": 85,
     "metadata": {},
     "output_type": "execute_result"
    }
   ],
   "source": [
    "# read sample ndgeojson.gz with geopandas\n",
    "f = '/home/nhat/regrid-bucket/ak_denali.ndgeojson.gz'\n",
    "f = '/home/nhat/demand-points/attom/data/regrid-gz/ak_denali.ndgeojson.gz'\n",
    "with gzip.open(f) as fin:\n",
    "    den = gp.read_file(fin)\n",
    "den.shape # (3127, 129)"
   ]
  },
  {
   "cell_type": "code",
   "execution_count": 22,
   "id": "20c41254-85a6-4754-8fe1-1bac390e1a39",
   "metadata": {
    "execution": {
     "iopub.execute_input": "2022-05-31T07:22:39.428139Z",
     "iopub.status.busy": "2022-05-31T07:22:39.427832Z",
     "iopub.status.idle": "2022-05-31T07:22:39.434070Z",
     "shell.execute_reply": "2022-05-31T07:22:39.433657Z",
     "shell.execute_reply.started": "2022-05-31T07:22:39.428116Z"
    },
    "tags": []
   },
   "outputs": [
    {
     "name": "stdout",
     "output_type": "stream",
     "text": [
      "<class 'str'> POLYGON ((-149.1977599 64.3464647, -149.1977491 64.346749, -149.1984113 64.3467491, -149.1984222 64.3464647, -149.1977599 64.3464647))\n",
      "<class 'str'> POLYGON ((-149.1914749 64.3458689, -149.1914743 64.3458853, -149.1921366 64.3458854, -149.1921471 64.3456093, -149.1914849 64.3456092, -149.1914749 64.3458689))\n",
      "<class 'str'> POLYGON ((-149.0451748 64.3600223, -149.0449466 64.3607001, -149.046252 64.3607001, -149.046253 64.3607001, -149.0464811 64.3600223, -149.0451748 64.3600223))\n"
     ]
    }
   ],
   "source": [
    "# read sample ndgeojson.gz with geopandas\n",
    "f = '/home/nhat/demand-points/attom/data/regrid-gz/ak_denali.ndgeojson.gz'\n",
    "filename_stem = 'ak_denali'\n",
    "with gzip.open(f) as fin:\n",
    "    # fin = ijson.items(fin, 'features')\n",
    "    # fin = fin.read() 123, 32, 34 [???]\n",
    "    # chunks = pd.read_json(fin, lines=True, chunksize=10_000) \n",
    "    for i, line in zip(range(3), fin):\n",
    "        line = json.loads(line)\n",
    "        properties = line['properties']\n",
    "        row_props = []\n",
    "        for col in all_cols:\n",
    "            v = str(properties.get(col, \"NONE\")).strip()\n",
    "            if v in {\"\", \"None\", \"NONE\"}:\n",
    "                row_props.append(\"\")\n",
    "            else:\n",
    "                row_props.append(v)\n",
    "        # print(i, row_props)\n",
    "                \n",
    "        geom = line['geometry']\n",
    "        geom = shape(geom).wkt\n",
    "        print(type(geom), geom)"
   ]
  },
  {
   "cell_type": "code",
   "execution_count": null,
   "id": "076ce344-5b06-47d3-a7a4-fcf7615e86d6",
   "metadata": {},
   "outputs": [],
   "source": []
  },
  {
   "cell_type": "code",
   "execution_count": null,
   "id": "b8d5547d-0587-4869-8d63-36d414348760",
   "metadata": {},
   "outputs": [],
   "source": []
  },
  {
   "cell_type": "code",
   "execution_count": null,
   "id": "be946622-04ab-4c05-aab0-b0561303056d",
   "metadata": {},
   "outputs": [],
   "source": []
  },
  {
   "cell_type": "code",
   "execution_count": null,
   "id": "eacf6f48-a4ea-4ec2-89f6-501d7543245c",
   "metadata": {},
   "outputs": [],
   "source": [
    "# from glob import glob\n",
    "# import pandas as pd\n",
    "# from multiprocess import Pool\n",
    "\n",
    "\n",
    "# all_props = ['geoid', 'sourceagent', 'parcelnumb', 'usecode', 'usedesc', 'zoning', 'zoning_description', 'struct', 'multistruct', 'structno', 'yearbuilt', 'numstories', 'numunits', 'structstyle', 'parvaltype', 'improvval', 'landval', 'parval', 'agval', 'saleprice', 'saledate', 'taxamt', 'owntype', 'owner', 'ownfrst', 'ownlast', 'owner2', 'owner3', 'owner4', 'subsurfown', 'subowntype', 'mailadd', 'mail_address2', 'careof', 'mail_addno', 'mail_addpref', 'mail_addstr', 'mail_addsttyp', 'mail_addstsuf', 'mail_unit', 'mail_city', 'mail_state2', 'mail_zip', 'mail_urbanization', 'mail_country', 'address', 'address2', 'original_address', 'saddno', 'saddpref', 'saddstr', 'saddsttyp', 'saddstsuf', 'sunit', 'scity', 'city', 'county', 'state2', 'szip', 'urbanization', 'location_name', 'address_source', 'legaldesc', 'plat', 'book', 'page', 'block', 'lot', 'neighborhood', 'subdivision', 'qoz', 'qoz_tract', 'census_block', 'census_blockgroup', 'census_tract', 'census_school_district', 'sourceref', 'sourcedate', 'sourceurl', 'recrdareatx', 'recrdareano', 'gisacre', 'll_gisacre', 'sqft', 'll_gissqft', 'll_bldg_footprint_sqft', 'll_bldg_count', 'reviseddate', 'path', 'll_stable_id', 'll_uuid', 'll_updated_at', 'dpv_status', 'dpv_codes', 'dpv_notes', 'dpv_type', 'cass_errorno', 'rdi', 'usps_vacancy', 'usps_vacancy_date', 'cdl_raw', 'cdl_date', 'cdl_majority_category', 'cdl_majority_percent', 'padus_public_access', 'lbcs_activity', 'lbcs_activity_desc', 'lbcs_function', 'lbcs_function_desc', 'lbcs_structure', 'lbcs_structure_desc', 'lbcs_site', 'lbcs_site_desc', 'lbcs_ownership', 'lbcs_ownership_desc', 'lat', 'lon', 'taxyear', 'stacked_flag', 'll_last_refresh', 'll_address_count', 'homestead_exemption', 'alt_parcelnumb1', 'alt_parcelnumb2', 'alt_parcelnumb3', 'parcelnumb_no_formatting', 'plss_township', 'plss_section', 'plss_range' ]\n",
    "# regrid_header = all_props + ['geom']\n",
    "\n",
    "# sf_code = \"mo\"\n",
    "\n",
    "# def func(i):\n",
    "#     return pd.read_csv(i, dtype=str, sep='\\t',\n",
    "#                  names = regrid_header, # use all columns\n",
    "#                 )\n",
    "\n",
    "    \n",
    "# list_of_files = glob(f'data/regrid-csv/{sf_code}*.csv')\n",
    "# with Pool(16) as pool:\n",
    "#     def read_regrid_jsonl(file):\n",
    "#         df = pd.read_json(file, orient = 'values', lines= True, dtype = str)\n",
    "#         df.columns = regrid_fromraw_cols \n",
    "#         return df[regrid_toRAD_cols].rename(columns={'ll_uuid': 'rid'})\n",
    "#     regrid = pool.map(func, list_of_files)\n",
    "#     regrid = pd.concat(regrid, ignore_index=True)  \n",
    "# regrid.shape # (3215105, 10)    \n",
    "# print(sf_code, regrid.shape)    # MO SHOULD BE: 90sec, (3330480, 19)\n",
    "# regrid.to_feather(f'data/regrid-feather/{sf_code}.ftr')    "
   ]
  }
 ],
 "metadata": {
  "kernelspec": {
   "display_name": "Python 3 (ipykernel)",
   "language": "python",
   "name": "python3"
  },
  "language_info": {
   "codemirror_mode": {
    "name": "ipython",
    "version": 3
   },
   "file_extension": ".py",
   "mimetype": "text/x-python",
   "name": "python",
   "nbconvert_exporter": "python",
   "pygments_lexer": "ipython3",
   "version": "3.9.7"
  }
 },
 "nbformat": 4,
 "nbformat_minor": 5
}
