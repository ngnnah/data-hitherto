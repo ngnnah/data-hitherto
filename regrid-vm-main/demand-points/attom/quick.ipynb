{
 "cells": [
  {
   "cell_type": "code",
   "execution_count": 4,
   "id": "65503dce-dbda-4d50-ad19-ccb6d5362e96",
   "metadata": {
    "tags": []
   },
   "outputs": [
    {
     "name": "stderr",
     "output_type": "stream",
     "text": [
      "/home/nhat/anaconda3/envs/py39/lib/python3.9/site-packages/geopandas/_compat.py:111: UserWarning: The Shapely GEOS version (3.10.0-CAPI-1.16.0) is incompatible with the GEOS version PyGEOS was compiled with (3.10.1-CAPI-1.16.0). Conversions between both will be slow.\n",
      "  warnings.warn(\n"
     ]
    },
    {
     "name": "stdout",
     "output_type": "stream",
     "text": [
      "time: 950 µs (started: 2022-04-21 18:06:51 -04:00)\n"
     ]
    }
   ],
   "source": [
    "import pandas as pd\n",
    "import numpy as np\n",
    "import json\n",
    "import geopandas as gp\n",
    "import h3\n",
    "from placekey.api import PlacekeyAPI\n",
    "\n",
    "%load_ext autotime\n",
    "\n",
    "placekey_api_key = \"NDd0VsiPKznvm89NLNj9DHrtU3GVzZ1h\" \n",
    "pk_api = PlacekeyAPI(placekey_api_key)\n",
    "\n",
    "attom_cols = ['[ATTOM ID]', 'SitusStateCode', 'AreaBuilding', 'AreaBuildingDefinitionCode', 'AreaLotSF', 'BuildingsCount', 'CompanyFlag', 'ContactOwnerMailAddressFull', 'ContactOwnerMailAddressInfoFormat', 'GeoQuality', 'LegalDescription', 'OwnerTypeDescription1', 'ParcelNumberRaw', 'PartyOwner1NameFull', 'PartyOwner2NameFull', 'PartyOwner3NameFull', 'PropertyAddressCity', 'PropertyAddressFull', 'PropertyAddressHouseNumber', 'PropertyAddressState', 'PropertyAddressStreetDirection', 'PropertyAddressStreetName', 'PropertyAddressStreetPostDirection', 'PropertyAddressStreetSuffix', 'PropertyAddressUnitPrefix', 'PropertyAddressUnitValue', 'PropertyAddressZIP', 'PropertyAddressZIP4', 'PropertyLatitude', 'PropertyLongitude', 'PropertyUseGroup', 'PropertyUseStandardized', 'RoomsCount', 'StatusOwnerOccupiedFlag', 'StoriesCount', 'UnitsCount', 'TaxMarketValueYear', 'TaxMarketValueImprovements', 'YearBuilt']\n",
    "regrid_cols = ['ll_uuid', 'city', 'county', 'address', 'owner', 'owner2', 'legaldesc', 'parcelnumb', 'lbcs_activity', 'lbcs_function', 'lbcs_ownership', 'lbcs_site', 'lbcs_structure', 'll_bldg_count', 'll_bldg_footprint_sqft', 'll_gisacre', \n",
    "               # 'gisacre',  # SOME COUNTIES DON'T PROVIDE THIS\n",
    "               'usps_vacancy', 'rdi', 'saledate', 'saleprice', 'dpv_codes', 'dpv_notes', 'dpv_status', 'dpv_type', 'saddno', 'saddpref', 'saddstr', 'saddstsuf', 'saddsttyp', 'scity', 'sunit', 'szip', 'lat', 'lon', \n",
    "               # 'geometry' # geometry is a different object from the properties object\n",
    "              ]\n",
    "\n",
    "SF52 = {'01': 'AL', '02': 'AK', '04': 'AZ', '05': 'AR', '06': 'CA', '08': 'CO', '09': 'CT', '10': 'DE', '11': 'DC', '12': 'FL', '13': 'GA', '15': 'HI', '16': 'ID', '17': 'IL', '18': 'IN', '19': 'IA', '20': 'KS', '21': 'KY', '22': 'LA', '23': 'ME', '24': 'MD', '25': 'MA', '26': 'MI', '27': 'MN', '28': 'MS', '29': 'MO', '30': 'MT', '31': 'NE', '32': 'NV', '33': 'NH', '34': 'NJ', '35': 'NM', '36': 'NY', '37': 'NC', '38': 'ND', '39': 'OH', '40': 'OK', '41': 'OR', '42': 'PA', '44': 'RI', '45': 'SC', '46': 'SD', '47': 'TN', '48': 'TX', '49': 'UT', '50': 'VT', '51': 'VA', '53': 'WA', '54': 'WV', '55': 'WI', '56': 'WY', '72': 'PR'}\n",
    "SF52R = {value : key for (key, value) in SF52.items()}\n",
    "# NO PUERTO RICO\n",
    "SF51 = {'01': 'AL', '02': 'AK', '04': 'AZ', '05': 'AR', '06': 'CA', '08': 'CO', '09': 'CT', '10': 'DE', '11': 'DC', '12': 'FL', '13': 'GA', '15': 'HI', '16': 'ID', '17': 'IL', '18': 'IN', '19': 'IA', '20': 'KS', '21': 'KY', '22': 'LA', '23': 'ME', '24': 'MD', '25': 'MA', '26': 'MI', '27': 'MN', '28': 'MS', '29': 'MO', '30': 'MT', '31': 'NE', '32': 'NV', '33': 'NH', '34': 'NJ', '35': 'NM', '36': 'NY', '37': 'NC', '38': 'ND', '39': 'OH', '40': 'OK', '41': 'OR', '42': 'PA', '44': 'RI', '45': 'SC', '46': 'SD', '47': 'TN', '48': 'TX', '49': 'UT', '50': 'VT', '51': 'VA', '53': 'WA', '54': 'WV', '55': 'WI', '56': 'WY'}\n",
    "SF51R = {value : key for (key, value) in SF51.items()}\n"
   ]
  },
  {
   "cell_type": "code",
   "execution_count": 4,
   "id": "6645871e-551c-4186-b08d-b81d6e1d7d5c",
   "metadata": {
    "execution": {
     "iopub.execute_input": "2022-06-03T13:07:56.886323Z",
     "iopub.status.busy": "2022-06-03T13:07:56.886039Z",
     "iopub.status.idle": "2022-06-03T13:07:57.061912Z",
     "shell.execute_reply": "2022-06-03T13:07:57.061540Z",
     "shell.execute_reply.started": "2022-06-03T13:07:56.886290Z"
    },
    "tags": []
   },
   "outputs": [
    {
     "data": {
      "text/plain": [
       "111"
      ]
     },
     "execution_count": 4,
     "metadata": {},
     "output_type": "execute_result"
    }
   ],
   "source": [
    "# from glob import glob\n",
    "# lists = glob(\"/home/nhat/regrid-bucket/mo_*.ndgeojson.gz\")\n",
    "# lists = [k.split('/')[-1].split('.')[0] for k in lists]\n",
    "# print(len(lists)) # 111 counties\n",
    "# with open(\"temp_stems_mo.txt\", 'w') as f:\n",
    "#     for k in lists:\n",
    "#         f.write(k + '\\n')"
   ]
  },
  {
   "cell_type": "markdown",
   "id": "58fa82b8-0eee-487d-a3f3-d3df1bc7da4b",
   "metadata": {},
   "source": [
    "# Uber H3 experiments"
   ]
  },
  {
   "cell_type": "code",
   "execution_count": 4,
   "id": "c8f6e765-48d5-40e0-a803-b46ea875e700",
   "metadata": {},
   "outputs": [],
   "source": [
    "regrid = gp.read_file('/home/nhat/regrid-bucket/tx_loving.json')"
   ]
  },
  {
   "cell_type": "code",
   "execution_count": 6,
   "id": "6408b5c0-b529-4d7d-8a5c-b90083bd5f86",
   "metadata": {},
   "outputs": [],
   "source": [
    "def gen_h3_hex_vectors(lat, lon, res):\n",
    "    return h3.geo_to_h3(lat, lon, res)\n",
    "gen_h3_hex = np.vectorize(gen_h3_hex_vectors)\n",
    "\n",
    "regrid[['lat', 'lon']] = regrid[['lat', 'lon']].astype(float)\n"
   ]
  },
  {
   "cell_type": "code",
   "execution_count": 7,
   "id": "cadbf9ac-b696-4fad-b91d-69ed33ff72b1",
   "metadata": {},
   "outputs": [
    {
     "data": {
      "text/plain": [
       "0       8748d409dffffff\n",
       "1       87488924dffffff\n",
       "2       87488924dffffff\n",
       "3       8748d452bffffff\n",
       "4       8748d4529ffffff\n",
       "             ...       \n",
       "2690    8748d4553ffffff\n",
       "2691    8748d4470ffffff\n",
       "2692    8748d4596ffffff\n",
       "2693    8748d44a9ffffff\n",
       "2694    8748d4418ffffff\n",
       "Name: hex7, Length: 2695, dtype: object"
      ]
     },
     "execution_count": 7,
     "metadata": {},
     "output_type": "execute_result"
    }
   ],
   "source": [
    "res = 7\n",
    "regrid[f'hex{res}'] = gen_h3_hex(regrid['lat'], regrid['lon'],  res)\n",
    "regrid[f'hex{res}']"
   ]
  },
  {
   "cell_type": "code",
   "execution_count": 11,
   "id": "3bc6201b-86da-4535-8dc3-43f0170769a0",
   "metadata": {},
   "outputs": [
    {
     "data": {
      "text/plain": [
       "(15, 15, 15)"
      ]
     },
     "execution_count": 11,
     "metadata": {},
     "output_type": "execute_result"
    }
   ],
   "source": [
    "# uber h3 hex code always have length = 15 = GEOID (censusblock)\n",
    "len('8748d4470ffffff'), len('8848d409dbfffff'), len('8f48892cb245013')"
   ]
  },
  {
   "cell_type": "markdown",
   "id": "648e0aed-15a6-484d-b86d-d7c7c33baf46",
   "metadata": {},
   "source": [
    "# Check content of REGRID verse file"
   ]
  },
  {
   "cell_type": "code",
   "execution_count": 18,
   "id": "f684a233-1b29-4767-a066-589fb5de663c",
   "metadata": {},
   "outputs": [
    {
     "data": {
      "text/plain": [
       "(3231, 19)"
      ]
     },
     "execution_count": 18,
     "metadata": {},
     "output_type": "execute_result"
    }
   ],
   "source": [
    "# Verse\n",
    "verse = gp.read_file('/home/nhat/regrid-bucket/verse.csv.zip')\n",
    "verse.shape"
   ]
  },
  {
   "cell_type": "code",
   "execution_count": 19,
   "id": "4bc5a76b-a540-4b70-9647-2d1feca0fd36",
   "metadata": {},
   "outputs": [
    {
     "data": {
      "text/html": [
       "<div>\n",
       "<style scoped>\n",
       "    .dataframe tbody tr th:only-of-type {\n",
       "        vertical-align: middle;\n",
       "    }\n",
       "\n",
       "    .dataframe tbody tr th {\n",
       "        vertical-align: top;\n",
       "    }\n",
       "\n",
       "    .dataframe thead th {\n",
       "        text-align: right;\n",
       "    }\n",
       "</style>\n",
       "<table border=\"1\" class=\"dataframe\">\n",
       "  <thead>\n",
       "    <tr style=\"text-align: right;\">\n",
       "      <th></th>\n",
       "      <th>id</th>\n",
       "      <th>county</th>\n",
       "      <th>state</th>\n",
       "      <th>seat</th>\n",
       "      <th>population</th>\n",
       "      <th>sqmi</th>\n",
       "      <th>geoid</th>\n",
       "      <th>city</th>\n",
       "      <th>table_name</th>\n",
       "      <th>total_objects</th>\n",
       "      <th>last_refresh</th>\n",
       "      <th>path</th>\n",
       "      <th>canonical_path</th>\n",
       "      <th>filename_stem</th>\n",
       "      <th>date_added</th>\n",
       "      <th>shapefile_size_flag</th>\n",
       "      <th>assessor_data_date</th>\n",
       "      <th>usps_data_date</th>\n",
       "      <th>geometry</th>\n",
       "    </tr>\n",
       "  </thead>\n",
       "  <tbody>\n",
       "    <tr>\n",
       "      <th>1133</th>\n",
       "      <td>2926</td>\n",
       "      <td>Rappahannock</td>\n",
       "      <td>VA</td>\n",
       "      <td>Washington</td>\n",
       "      <td>7378</td>\n",
       "      <td>267</td>\n",
       "      <td>51157</td>\n",
       "      <td></td>\n",
       "      <td></td>\n",
       "      <td></td>\n",
       "      <td></td>\n",
       "      <td>/us/va/rappahannock</td>\n",
       "      <td></td>\n",
       "      <td>va_rappahannock</td>\n",
       "      <td></td>\n",
       "      <td></td>\n",
       "      <td></td>\n",
       "      <td></td>\n",
       "      <td>None</td>\n",
       "    </tr>\n",
       "  </tbody>\n",
       "</table>\n",
       "</div>"
      ],
      "text/plain": [
       "        id        county state        seat population sqmi  geoid city  \\\n",
       "1133  2926  Rappahannock    VA  Washington       7378  267  51157        \n",
       "\n",
       "     table_name total_objects last_refresh                 path  \\\n",
       "1133                                        /us/va/rappahannock   \n",
       "\n",
       "     canonical_path    filename_stem date_added shapefile_size_flag  \\\n",
       "1133                 va_rappahannock                                  \n",
       "\n",
       "     assessor_data_date usps_data_date geometry  \n",
       "1133                                       None  "
      ]
     },
     "execution_count": 19,
     "metadata": {},
     "output_type": "execute_result"
    }
   ],
   "source": [
    "# verse.csv.zip: Missing last_refresh and date_added\n",
    "verse[verse.filename_stem == 'va_rappahannock']"
   ]
  },
  {
   "cell_type": "code",
   "execution_count": 20,
   "id": "2a41a37b-56d5-4647-b8ea-e71258058047",
   "metadata": {},
   "outputs": [],
   "source": [
    "verse = verse.replace(r'^\\s*$', np.nan, regex=True)"
   ]
  },
  {
   "cell_type": "code",
   "execution_count": 29,
   "id": "42f70460-3d53-4db1-a7bf-0324489b13ea",
   "metadata": {},
   "outputs": [
    {
     "data": {
      "text/plain": [
       "id                 0\n",
       "county             0\n",
       "state              0\n",
       "geoid              0\n",
       "last_refresh     121\n",
       "filename_stem      0\n",
       "date_added       121\n",
       "table_name       121\n",
       "dtype: int64"
      ]
     },
     "execution_count": 29,
     "metadata": {},
     "output_type": "execute_result"
    }
   ],
   "source": [
    "verse = verse[['id', 'county', 'state', 'geoid', 'last_refresh', \n",
    "               'filename_stem', 'date_added', 'table_name']]\n",
    "missing_refresh = verse[verse[['last_refresh']].isnull().any(axis=1)]\n",
    "missing_refresh.shape\n",
    "missing_refresh.isnull().sum()"
   ]
  },
  {
   "cell_type": "code",
   "execution_count": 28,
   "id": "d41b693a-7977-41c5-99c4-324baef1766f",
   "metadata": {},
   "outputs": [
    {
     "data": {
      "text/plain": [
       "id                 0\n",
       "county             0\n",
       "state              0\n",
       "geoid              0\n",
       "last_refresh     121\n",
       "filename_stem      0\n",
       "date_added       121\n",
       "table_name       121\n",
       "dtype: int64"
      ]
     },
     "execution_count": 28,
     "metadata": {},
     "output_type": "execute_result"
    }
   ],
   "source": [
    "missing_table = verse[verse[['table_name']].isnull().any(axis=1)]\n",
    "missing_table.isnull().sum()"
   ]
  },
  {
   "cell_type": "code",
   "execution_count": 35,
   "id": "516be714-250f-4d66-88b7-dd20335eeb27",
   "metadata": {},
   "outputs": [],
   "source": [
    "missing = verse[verse[['last_refresh', 'date_added']].isnull().all(axis=1)]\n",
    "missing.to_csv('verse_missing.csv', index=False)"
   ]
  },
  {
   "cell_type": "code",
   "execution_count": 37,
   "id": "480d98d7-ad83-4c64-a98b-8652c105d5d2",
   "metadata": {},
   "outputs": [
    {
     "data": {
      "text/html": [
       "<div>\n",
       "<style scoped>\n",
       "    .dataframe tbody tr th:only-of-type {\n",
       "        vertical-align: middle;\n",
       "    }\n",
       "\n",
       "    .dataframe tbody tr th {\n",
       "        vertical-align: top;\n",
       "    }\n",
       "\n",
       "    .dataframe thead th {\n",
       "        text-align: right;\n",
       "    }\n",
       "</style>\n",
       "<table border=\"1\" class=\"dataframe\">\n",
       "  <thead>\n",
       "    <tr style=\"text-align: right;\">\n",
       "      <th></th>\n",
       "      <th>id</th>\n",
       "      <th>county</th>\n",
       "      <th>state</th>\n",
       "      <th>geoid</th>\n",
       "      <th>last_refresh</th>\n",
       "      <th>filename_stem</th>\n",
       "      <th>date_added</th>\n",
       "    </tr>\n",
       "  </thead>\n",
       "  <tbody>\n",
       "    <tr>\n",
       "      <th>1132</th>\n",
       "      <td>2877</td>\n",
       "      <td>Dickenson</td>\n",
       "      <td>VA</td>\n",
       "      <td>51051</td>\n",
       "      <td>NaN</td>\n",
       "      <td>va_dickenson</td>\n",
       "      <td>NaN</td>\n",
       "    </tr>\n",
       "    <tr>\n",
       "      <th>1133</th>\n",
       "      <td>2926</td>\n",
       "      <td>Rappahannock</td>\n",
       "      <td>VA</td>\n",
       "      <td>51157</td>\n",
       "      <td>NaN</td>\n",
       "      <td>va_rappahannock</td>\n",
       "      <td>NaN</td>\n",
       "    </tr>\n",
       "    <tr>\n",
       "      <th>1198</th>\n",
       "      <td>2949</td>\n",
       "      <td>Buena Vista</td>\n",
       "      <td>VA</td>\n",
       "      <td>51530</td>\n",
       "      <td>NaN</td>\n",
       "      <td>va_buena_vista</td>\n",
       "      <td>NaN</td>\n",
       "    </tr>\n",
       "    <tr>\n",
       "      <th>2259</th>\n",
       "      <td>2874</td>\n",
       "      <td>Craig</td>\n",
       "      <td>VA</td>\n",
       "      <td>51045</td>\n",
       "      <td>NaN</td>\n",
       "      <td>va_craig</td>\n",
       "      <td>NaN</td>\n",
       "    </tr>\n",
       "  </tbody>\n",
       "</table>\n",
       "</div>"
      ],
      "text/plain": [
       "        id        county state  geoid last_refresh    filename_stem date_added\n",
       "1132  2877     Dickenson    VA  51051          NaN     va_dickenson        NaN\n",
       "1133  2926  Rappahannock    VA  51157          NaN  va_rappahannock        NaN\n",
       "1198  2949   Buena Vista    VA  51530          NaN   va_buena_vista        NaN\n",
       "2259  2874         Craig    VA  51045          NaN         va_craig        NaN"
      ]
     },
     "execution_count": 37,
     "metadata": {},
     "output_type": "execute_result"
    }
   ],
   "source": [
    "missing[missing.state == 'VA']"
   ]
  },
  {
   "cell_type": "markdown",
   "id": "e8a8051e-d024-4955-91e7-5e3bb537ce0d",
   "metadata": {},
   "source": [
    "# Jupyter-lab NOHUP note: Unfinished codes would be run regardless of cut/remove the subsequent cells; unless interrupt kernel!"
   ]
  },
  {
   "cell_type": "code",
   "execution_count": 105,
   "id": "ea9156ac-7231-4900-9c8d-4812b5420713",
   "metadata": {
    "collapsed": true,
    "jupyter": {
     "outputs_hidden": true
    },
    "tags": []
   },
   "outputs": [
    {
     "ename": "KeyboardInterrupt",
     "evalue": "",
     "output_type": "error",
     "traceback": [
      "\u001b[0;31m---------------------------------------------------------------------------\u001b[0m",
      "\u001b[0;31mKeyboardInterrupt\u001b[0m                         Traceback (most recent call last)",
      "\u001b[0;32m/tmp/ipykernel_18536/492521996.py\u001b[0m in \u001b[0;36m<module>\u001b[0;34m\u001b[0m\n\u001b[1;32m      1\u001b[0m \u001b[0;32mimport\u001b[0m \u001b[0mtime\u001b[0m\u001b[0;34m\u001b[0m\u001b[0;34m\u001b[0m\u001b[0m\n\u001b[1;32m      2\u001b[0m \u001b[0mx\u001b[0m \u001b[0;34m=\u001b[0m \u001b[0;36m10\u001b[0m\u001b[0;34m\u001b[0m\u001b[0;34m\u001b[0m\u001b[0m\n\u001b[0;32m----> 3\u001b[0;31m \u001b[0mtime\u001b[0m\u001b[0;34m.\u001b[0m\u001b[0msleep\u001b[0m\u001b[0;34m(\u001b[0m\u001b[0;36m3\u001b[0m\u001b[0;34m)\u001b[0m\u001b[0;34m\u001b[0m\u001b[0;34m\u001b[0m\u001b[0m\n\u001b[0m\u001b[1;32m      4\u001b[0m \u001b[0mx\u001b[0m \u001b[0;34m=\u001b[0m \u001b[0;36m20\u001b[0m\u001b[0;34m\u001b[0m\u001b[0;34m\u001b[0m\u001b[0m\n\u001b[1;32m      5\u001b[0m \u001b[0mx\u001b[0m\u001b[0;34m\u001b[0m\u001b[0;34m\u001b[0m\u001b[0m\n",
      "\u001b[0;31mKeyboardInterrupt\u001b[0m: "
     ]
    },
    {
     "name": "stdout",
     "output_type": "stream",
     "text": [
      "time: 1.91 s (started: 2022-04-18 13:33:46 -04:00)\n"
     ]
    }
   ],
   "source": [
    "import time\n",
    "x = 10\n",
    "time.sleep(3)\n",
    "x = 20\n",
    "x\n"
   ]
  },
  {
   "cell_type": "code",
   "execution_count": null,
   "id": "7d8f28b1-a3bb-4e95-a246-7536125026a0",
   "metadata": {},
   "outputs": [],
   "source": [
    "x = 40\n",
    "x"
   ]
  },
  {
   "cell_type": "markdown",
   "id": "d0b96685-fd68-448b-8fbd-802829631e75",
   "metadata": {},
   "source": [
    "# PENDING: ATTOM TaxAssessor delta files (_003 series)"
   ]
  },
  {
   "cell_type": "code",
   "execution_count": null,
   "id": "6661e0bd-f036-4e98-b406-54e4fe5a5a24",
   "metadata": {
    "tags": []
   },
   "outputs": [],
   "source": [
    "attom = pd.read_feather('data/attom-feather/mo.ftr')\n",
    "attom.rename(columns = {\"[ATTOM ID]\" : 'aid'}, inplace = True)\n",
    "attom.shape"
   ]
  },
  {
   "cell_type": "code",
   "execution_count": 34,
   "id": "c280202a-69a6-4186-b3c6-ea0d7fd63a8c",
   "metadata": {
    "execution": {
     "iopub.execute_input": "2022-06-01T16:44:03.435917Z",
     "iopub.status.busy": "2022-06-01T16:44:03.435628Z",
     "iopub.status.idle": "2022-06-01T16:44:03.438861Z",
     "shell.execute_reply": "2022-06-01T16:44:03.438397Z",
     "shell.execute_reply.started": "2022-06-01T16:44:03.435895Z"
    },
    "tags": []
   },
   "outputs": [],
   "source": [
    "cols = list(set(attom) - set(['zorder', 'rorder']))"
   ]
  },
  {
   "cell_type": "code",
   "execution_count": 51,
   "id": "14f07932-a85c-480f-b471-7ceeb2002c71",
   "metadata": {
    "execution": {
     "iopub.execute_input": "2022-06-01T16:50:24.062845Z",
     "iopub.status.busy": "2022-06-01T16:50:24.062570Z",
     "iopub.status.idle": "2022-06-01T16:50:24.386527Z",
     "shell.execute_reply": "2022-06-01T16:50:24.386144Z",
     "shell.execute_reply.started": "2022-06-01T16:50:24.062823Z"
    },
    "tags": []
   },
   "outputs": [
    {
     "data": {
      "text/plain": [
       "(93, 318)"
      ]
     },
     "execution_count": 51,
     "metadata": {},
     "output_type": "execute_result"
    }
   ],
   "source": [
    "delta_mo = pd.DataFrame(df.query('SitusStateCode == \"MO\"'), columns=df.columns)\n",
    "delta_mo.rename(columns = {\"[ATTOM ID]\" : 'aid'}, inplace = True)\n",
    "delta_mo.shape"
   ]
  },
  {
   "cell_type": "code",
   "execution_count": 52,
   "id": "f0dfdeb6-77e0-4c4f-a477-2048df5da8af",
   "metadata": {
    "execution": {
     "iopub.execute_input": "2022-06-01T16:50:27.499205Z",
     "iopub.status.busy": "2022-06-01T16:50:27.498917Z",
     "iopub.status.idle": "2022-06-01T16:50:27.594988Z",
     "shell.execute_reply": "2022-06-01T16:50:27.594609Z",
     "shell.execute_reply.started": "2022-06-01T16:50:27.499177Z"
    },
    "tags": []
   },
   "outputs": [
    {
     "data": {
      "text/html": [
       "<div>\n",
       "<style scoped>\n",
       "    .dataframe tbody tr th:only-of-type {\n",
       "        vertical-align: middle;\n",
       "    }\n",
       "\n",
       "    .dataframe tbody tr th {\n",
       "        vertical-align: top;\n",
       "    }\n",
       "\n",
       "    .dataframe thead th {\n",
       "        text-align: right;\n",
       "    }\n",
       "</style>\n",
       "<table border=\"1\" class=\"dataframe\">\n",
       "  <thead>\n",
       "    <tr style=\"text-align: right;\">\n",
       "      <th></th>\n",
       "      <th>SitusCounty</th>\n",
       "      <th>PropertyAddressStreetDirection</th>\n",
       "      <th>AssessorLastSaleAmount</th>\n",
       "      <th>AreaLotSF</th>\n",
       "      <th>StoriesCount</th>\n",
       "      <th>PropertyUseGroup</th>\n",
       "      <th>Fireplace</th>\n",
       "      <th>PropertyLatitude</th>\n",
       "      <th>aid</th>\n",
       "      <th>FireplaceCount</th>\n",
       "      <th>...</th>\n",
       "      <th>AssessorPriorSaleAmount</th>\n",
       "      <th>PropertyAddressStreetName</th>\n",
       "      <th>LegalDescription</th>\n",
       "      <th>UnitsCount</th>\n",
       "      <th>PartyOwner2NameFull</th>\n",
       "      <th>PreviousAssessedValue</th>\n",
       "      <th>PartyOwner1NameFull</th>\n",
       "      <th>DeedOwner1NameFull</th>\n",
       "      <th>StatusOwnerOccupiedFlag</th>\n",
       "      <th>RoomsGameFlag</th>\n",
       "    </tr>\n",
       "  </thead>\n",
       "  <tbody>\n",
       "    <tr>\n",
       "      <th>470933</th>\n",
       "      <td>Bates</td>\n",
       "      <td>E</td>\n",
       "      <td>0</td>\n",
       "      <td>12600.00</td>\n",
       "      <td>1</td>\n",
       "      <td>Residential</td>\n",
       "      <td>None</td>\n",
       "      <td>38.098579</td>\n",
       "      <td>149047091</td>\n",
       "      <td>0</td>\n",
       "      <td>...</td>\n",
       "      <td>0</td>\n",
       "      <td>OLIVE</td>\n",
       "      <td>LTS 7 &amp; 8 (EXC E 10'), BLK 42, T C 1ST ADDN</td>\n",
       "      <td>1</td>\n",
       "      <td>None</td>\n",
       "      <td>5430</td>\n",
       "      <td>JORDAN FLETCHER</td>\n",
       "      <td>JORDAN FLETCHER</td>\n",
       "      <td>None</td>\n",
       "      <td>0</td>\n",
       "    </tr>\n",
       "  </tbody>\n",
       "</table>\n",
       "<p>1 rows × 60 columns</p>\n",
       "</div>"
      ],
      "text/plain": [
       "       SitusCounty PropertyAddressStreetDirection AssessorLastSaleAmount  \\\n",
       "470933       Bates                              E                      0   \n",
       "\n",
       "       AreaLotSF StoriesCount PropertyUseGroup Fireplace PropertyLatitude  \\\n",
       "470933  12600.00            1      Residential      None        38.098579   \n",
       "\n",
       "              aid FireplaceCount  ... AssessorPriorSaleAmount  \\\n",
       "470933  149047091              0  ...                       0   \n",
       "\n",
       "       PropertyAddressStreetName                             LegalDescription  \\\n",
       "470933                     OLIVE  LTS 7 & 8 (EXC E 10'), BLK 42, T C 1ST ADDN   \n",
       "\n",
       "       UnitsCount PartyOwner2NameFull PreviousAssessedValue  \\\n",
       "470933          1                None                  5430   \n",
       "\n",
       "       PartyOwner1NameFull DeedOwner1NameFull StatusOwnerOccupiedFlag  \\\n",
       "470933     JORDAN FLETCHER    JORDAN FLETCHER                    None   \n",
       "\n",
       "       RoomsGameFlag  \n",
       "470933             0  \n",
       "\n",
       "[1 rows x 60 columns]"
      ]
     },
     "execution_count": 52,
     "metadata": {},
     "output_type": "execute_result"
    }
   ],
   "source": [
    "old = attom.query(\"aid == '149047091'\")[cols]\n",
    "old"
   ]
  },
  {
   "cell_type": "code",
   "execution_count": 53,
   "id": "78afa878-3105-40b3-8231-4b4f9ebb6e5c",
   "metadata": {
    "execution": {
     "iopub.execute_input": "2022-06-01T16:50:28.526289Z",
     "iopub.status.busy": "2022-06-01T16:50:28.526015Z",
     "iopub.status.idle": "2022-06-01T16:50:28.549171Z",
     "shell.execute_reply": "2022-06-01T16:50:28.548772Z",
     "shell.execute_reply.started": "2022-06-01T16:50:28.526267Z"
    },
    "tags": []
   },
   "outputs": [
    {
     "data": {
      "text/html": [
       "<div>\n",
       "<style scoped>\n",
       "    .dataframe tbody tr th:only-of-type {\n",
       "        vertical-align: middle;\n",
       "    }\n",
       "\n",
       "    .dataframe tbody tr th {\n",
       "        vertical-align: top;\n",
       "    }\n",
       "\n",
       "    .dataframe thead th {\n",
       "        text-align: right;\n",
       "    }\n",
       "</style>\n",
       "<table border=\"1\" class=\"dataframe\">\n",
       "  <thead>\n",
       "    <tr style=\"text-align: right;\">\n",
       "      <th></th>\n",
       "      <th>SitusCounty</th>\n",
       "      <th>PropertyAddressStreetDirection</th>\n",
       "      <th>AssessorLastSaleAmount</th>\n",
       "      <th>AreaLotSF</th>\n",
       "      <th>StoriesCount</th>\n",
       "      <th>PropertyUseGroup</th>\n",
       "      <th>Fireplace</th>\n",
       "      <th>PropertyLatitude</th>\n",
       "      <th>aid</th>\n",
       "      <th>FireplaceCount</th>\n",
       "      <th>...</th>\n",
       "      <th>AssessorPriorSaleAmount</th>\n",
       "      <th>PropertyAddressStreetName</th>\n",
       "      <th>LegalDescription</th>\n",
       "      <th>UnitsCount</th>\n",
       "      <th>PartyOwner2NameFull</th>\n",
       "      <th>PreviousAssessedValue</th>\n",
       "      <th>PartyOwner1NameFull</th>\n",
       "      <th>DeedOwner1NameFull</th>\n",
       "      <th>StatusOwnerOccupiedFlag</th>\n",
       "      <th>RoomsGameFlag</th>\n",
       "    </tr>\n",
       "  </thead>\n",
       "  <tbody>\n",
       "    <tr>\n",
       "      <th>79</th>\n",
       "      <td>Bates</td>\n",
       "      <td>E</td>\n",
       "      <td>0</td>\n",
       "      <td>12600.00</td>\n",
       "      <td>1</td>\n",
       "      <td>Residential</td>\n",
       "      <td>NaN</td>\n",
       "      <td>38.098579</td>\n",
       "      <td>149047091</td>\n",
       "      <td>0</td>\n",
       "      <td>...</td>\n",
       "      <td>0</td>\n",
       "      <td>OLIVE</td>\n",
       "      <td>LTS 7 &amp; 8 (EXC E 10'), BLK 42, T C 1ST ADDN</td>\n",
       "      <td>0</td>\n",
       "      <td>NaN</td>\n",
       "      <td>5990</td>\n",
       "      <td>RANDY THOMAS ELLIOTT</td>\n",
       "      <td>RANDY THOMAS ELLIOTT</td>\n",
       "      <td>1</td>\n",
       "      <td>0</td>\n",
       "    </tr>\n",
       "  </tbody>\n",
       "</table>\n",
       "<p>1 rows × 60 columns</p>\n",
       "</div>"
      ],
      "text/plain": [
       "   SitusCounty PropertyAddressStreetDirection AssessorLastSaleAmount  \\\n",
       "79       Bates                              E                      0   \n",
       "\n",
       "   AreaLotSF StoriesCount PropertyUseGroup Fireplace PropertyLatitude  \\\n",
       "79  12600.00            1      Residential       NaN        38.098579   \n",
       "\n",
       "          aid FireplaceCount  ... AssessorPriorSaleAmount  \\\n",
       "79  149047091              0  ...                       0   \n",
       "\n",
       "   PropertyAddressStreetName                             LegalDescription  \\\n",
       "79                     OLIVE  LTS 7 & 8 (EXC E 10'), BLK 42, T C 1ST ADDN   \n",
       "\n",
       "   UnitsCount PartyOwner2NameFull PreviousAssessedValue   PartyOwner1NameFull  \\\n",
       "79          0                 NaN                  5990  RANDY THOMAS ELLIOTT   \n",
       "\n",
       "      DeedOwner1NameFull StatusOwnerOccupiedFlag RoomsGameFlag  \n",
       "79  RANDY THOMAS ELLIOTT                       1             0  \n",
       "\n",
       "[1 rows x 60 columns]"
      ]
     },
     "execution_count": 53,
     "metadata": {},
     "output_type": "execute_result"
    }
   ],
   "source": [
    "new = delta_mo.query(\"aid == '149047091'\")[cols]\n",
    "new"
   ]
  },
  {
   "cell_type": "code",
   "execution_count": 13,
   "id": "d00109d8-7f7b-4722-9fc2-4afa10abfebe",
   "metadata": {
    "execution": {
     "iopub.execute_input": "2022-06-01T16:39:26.448193Z",
     "iopub.status.busy": "2022-06-01T16:39:26.447914Z",
     "iopub.status.idle": "2022-06-01T16:39:26.753598Z",
     "shell.execute_reply": "2022-06-01T16:39:26.753137Z",
     "shell.execute_reply.started": "2022-06-01T16:39:26.448171Z"
    },
    "tags": []
   },
   "outputs": [],
   "source": [
    "overlaps = attom[attom.aid.isin(delta_mo.aid)].copy()\n",
    "overlaps"
   ]
  },
  {
   "cell_type": "code",
   "execution_count": null,
   "id": "0d296e84-3445-4b0a-ad9c-428003f80064",
   "metadata": {},
   "outputs": [],
   "source": []
  }
 ],
 "metadata": {
  "kernelspec": {
   "display_name": "Python 3 (ipykernel)",
   "language": "python",
   "name": "python3"
  },
  "language_info": {
   "codemirror_mode": {
    "name": "ipython",
    "version": 3
   },
   "file_extension": ".py",
   "mimetype": "text/x-python",
   "name": "python",
   "nbconvert_exporter": "python",
   "pygments_lexer": "ipython3",
   "version": "3.9.7"
  }
 },
 "nbformat": 4,
 "nbformat_minor": 5
}
