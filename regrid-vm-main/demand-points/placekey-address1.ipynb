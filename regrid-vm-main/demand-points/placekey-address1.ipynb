{
 "cells": [
  {
   "cell_type": "code",
   "execution_count": 3,
   "id": "3fc0df00-887d-4c54-a2cc-b16fd6e22b17",
   "metadata": {
    "execution": {
     "iopub.execute_input": "2022-04-29T16:51:59.816632Z",
     "iopub.status.busy": "2022-04-29T16:51:59.816386Z",
     "iopub.status.idle": "2022-04-29T16:52:00.464954Z",
     "shell.execute_reply": "2022-04-29T16:52:00.464495Z",
     "shell.execute_reply.started": "2022-04-29T16:51:59.816612Z"
    },
    "tags": []
   },
   "outputs": [
    {
     "name": "stderr",
     "output_type": "stream",
     "text": [
      "/home/nhat/anaconda3/envs/py39/lib/python3.9/site-packages/geopandas/_compat.py:111: UserWarning: The Shapely GEOS version (3.10.0-CAPI-1.16.0) is incompatible with the GEOS version PyGEOS was compiled with (3.10.1-CAPI-1.16.0). Conversions between both will be slow.\n",
      "  warnings.warn(\n"
     ]
    }
   ],
   "source": [
    "# IMPORTS and VARIABLES\n",
    "import pandas as pd\n",
    "import numpy as np\n",
    "import json\n",
    "import geopandas as gp\n",
    "import h3\n",
    "from placekey.api import PlacekeyAPI\n",
    "from keplergl import KeplerGl\n",
    "import pprint\n",
    "\n",
    "from glob import glob\n",
    "# https://stackoverflow.com/a/65001152/12572612: from multiprocessing import Pool\n",
    "from multiprocess import Pool\n",
    "\n",
    "placekey_api_key = \"NDd0VsiPKznvm89NLNj9DHrtU3GVzZ1h\" \n",
    "pk_api = PlacekeyAPI(placekey_api_key)\n",
    "\n",
    "# 50 states + DC + 6 territories (PR, VI, AS, GU, MP, UM)\n",
    "SF57 = {'01': 'AL', '02': 'AK', '04': 'AZ', '05': 'AR', '06': 'CA', '08': 'CO', '09': 'CT', '10': 'DE', '11': 'DC', '12': 'FL', '13': 'GA', '15': 'HI', '16': 'ID', '17': 'IL', '18': 'IN', '19': 'IA', '20': 'KS', '21': 'KY', '22': 'LA', '23': 'ME', '24': 'MD', '25': 'MA', '26': 'MI', '27': 'MN', '28': 'MS', '29': 'MO', '30': 'MT', '31': 'NE', '32': 'NV', '33': 'NH', '34': 'NJ', '35': 'NM', '36': 'NY', '37': 'NC', '38': 'ND', '39': 'OH', '40': 'OK', '41': 'OR', '42': 'PA', '44': 'RI', '45': 'SC', '46': 'SD', '47': 'TN', '48': 'TX', '49': 'UT', '50': 'VT', '51': 'VA', '53': 'WA', '54': 'WV', '55': 'WI', '56': 'WY', '60': 'AS', '66': 'GU', '69': 'MP', '72': 'PR', '74': 'UM', '78': 'VI'}\n",
    "SF57R = {value : key for (key, value) in SF57.items()}\n",
    "# 50 states + DC + PR + VI\n",
    "SF53 = {'01': 'AL', '02': 'AK', '04': 'AZ', '05': 'AR', '06': 'CA', '08': 'CO', '09': 'CT', '10': 'DE', '11': 'DC', '12': 'FL', '13': 'GA', '15': 'HI', '16': 'ID', '17': 'IL', '18': 'IN', '19': 'IA', '20': 'KS', '21': 'KY', '22': 'LA', '23': 'ME', '24': 'MD', '25': 'MA', '26': 'MI', '27': 'MN', '28': 'MS', '29': 'MO', '30': 'MT', '31': 'NE', '32': 'NV', '33': 'NH', '34': 'NJ', '35': 'NM', '36': 'NY', '37': 'NC', '38': 'ND', '39': 'OH', '40': 'OK', '41': 'OR', '42': 'PA', '44': 'RI', '45': 'SC', '46': 'SD', '47': 'TN', '48': 'TX', '49': 'UT', '50': 'VT', '51': 'VA', '53': 'WA', '54': 'WV', '55': 'WI', '56': 'WY', '72': 'PR', '78': 'VI'}\n",
    "SF53R = {value : key for (key, value) in SF53.items()}\n",
    "# 50 states + DC + PR\n",
    "SF52 = {'01': 'AL', '02': 'AK', '04': 'AZ', '05': 'AR', '06': 'CA', '08': 'CO', '09': 'CT', '10': 'DE', '11': 'DC', '12': 'FL', '13': 'GA', '15': 'HI', '16': 'ID', '17': 'IL', '18': 'IN', '19': 'IA', '20': 'KS', '21': 'KY', '22': 'LA', '23': 'ME', '24': 'MD', '25': 'MA', '26': 'MI', '27': 'MN', '28': 'MS', '29': 'MO', '30': 'MT', '31': 'NE', '32': 'NV', '33': 'NH', '34': 'NJ', '35': 'NM', '36': 'NY', '37': 'NC', '38': 'ND', '39': 'OH', '40': 'OK', '41': 'OR', '42': 'PA', '44': 'RI', '45': 'SC', '46': 'SD', '47': 'TN', '48': 'TX', '49': 'UT', '50': 'VT', '51': 'VA', '53': 'WA', '54': 'WV', '55': 'WI', '56': 'WY', '72': 'PR'}\n",
    "SF52R = {value : key for (key, value) in SF52.items()}\n",
    "# 50 states + DC\n",
    "SF51 = {'01': 'AL', '02': 'AK', '04': 'AZ', '05': 'AR', '06': 'CA', '08': 'CO', '09': 'CT', '10': 'DE', '11': 'DC', '12': 'FL', '13': 'GA', '15': 'HI', '16': 'ID', '17': 'IL', '18': 'IN', '19': 'IA', '20': 'KS', '21': 'KY', '22': 'LA', '23': 'ME', '24': 'MD', '25': 'MA', '26': 'MI', '27': 'MN', '28': 'MS', '29': 'MO', '30': 'MT', '31': 'NE', '32': 'NV', '33': 'NH', '34': 'NJ', '35': 'NM', '36': 'NY', '37': 'NC', '38': 'ND', '39': 'OH', '40': 'OK', '41': 'OR', '42': 'PA', '44': 'RI', '45': 'SC', '46': 'SD', '47': 'TN', '48': 'TX', '49': 'UT', '50': 'VT', '51': 'VA', '53': 'WA', '54': 'WV', '55': 'WI', '56': 'WY'}\n",
    "SF51R = {value : key for (key, value) in SF51.items()}\n",
    "\n"
   ]
  },
  {
   "cell_type": "markdown",
   "id": "73271832-6b93-4400-bb6a-24a42e3f3a94",
   "metadata": {},
   "source": [
    "# Read all attom raw"
   ]
  },
  {
   "cell_type": "markdown",
   "id": "67f2517c-d40d-4adb-aef5-986a5afb735d",
   "metadata": {},
   "source": [
    "# Method 1: read and filter raw attom .txt. 30min to get MO state"
   ]
  },
  {
   "cell_type": "code",
   "execution_count": 17,
   "id": "dc0d881e-c4ec-46ab-be6d-1b6c09f8f680",
   "metadata": {
    "execution": {
     "iopub.execute_input": "2022-04-28T19:07:14.176183Z",
     "iopub.status.busy": "2022-04-28T19:07:14.175879Z",
     "iopub.status.idle": "2022-04-28T19:35:24.859505Z",
     "shell.execute_reply": "2022-04-28T19:35:24.859099Z",
     "shell.execute_reply.started": "2022-04-28T19:07:14.176160Z"
    },
    "tags": []
   },
   "outputs": [
    {
     "name": "stdout",
     "output_type": "stream",
     "text": [
      "(Delayed('int-d3311e27-867d-4d18-b905-e7a5d95a83ab'), 19) 2748\n"
     ]
    },
    {
     "data": {
      "text/plain": [
       "(3330480, 19)"
      ]
     },
     "execution_count": 17,
     "metadata": {},
     "output_type": "execute_result"
    },
    {
     "name": "stdout",
     "output_type": "stream",
     "text": [
      "time: 28min 10s (started: 2022-04-28 15:07:14 -04:00)\n"
     ]
    }
   ],
   "source": [
    "# # for all 16 attom raw txt, take sec to lazy load!\n",
    "# # ParserError: Error tokenizing data. C error: EOF inside string starting at row 49533\n",
    "# # ERROR: Window attom EOL encoding error: encoding_errors replace to fix!\n",
    "\n",
    "# can subset columns instantly!\n",
    "# ATTOM DATA:  Our files are ANSI-1252 encoding (cp1252)\n",
    "# https://stackoverflow.com/a/29857126/12572612\n",
    "# EOF error in dask: https://github.com/dask/dask/issues/4145\n",
    "all_attom = dd.read_csv('attom/data/*.txt', dtype=str, sep='\\t', header = 0,\n",
    "     usecols = attom_cols + ['SitusStateCode'], # select columns to load, avoid out of mem\n",
    "     # engine='python', # TOO SLOW!\n",
    "                        encoding='cp1252', \n",
    "                        # error_bad_lines=False, # deprecated\n",
    "                        quoting=3, # probably the culprit * \n",
    "    encoding_errors=\"replace\", # need this to deal with Attom Window EOL chars\n",
    "                       )\n",
    "# ((Delayed('int-e501ced1-a693-418c-8d47-6a619f0a188d'), 19), 2748)\n",
    "print(all_attom.shape, all_attom.npartitions)\n",
    "\n",
    "# Filter by state and output to csv/hdf5\n",
    "# MO filter: 30 min!\n",
    "# same error: at min5: ParserError: Error tokenizing data. C error: EOF inside string starting at row 49533  \n",
    "mo_attom = all_attom.loc[all_attom.SitusStateCode == \"MO\"]\n",
    "# Repartition to reduce overhead\n",
    "mo_attom = mo_attom.repartition(npartitions = mo_attom.npartitions // 50)\n",
    "mo_attom = mo_attom.compute() # instant lazy filter\n",
    "mo_attom.shape # (3330480, 19)"
   ]
  },
  {
   "cell_type": "markdown",
   "id": "67096e3a-5b21-45f8-a241-32d859938850",
   "metadata": {
    "execution": {
     "iopub.execute_input": "2022-04-28T03:04:42.448977Z",
     "iopub.status.busy": "2022-04-28T03:04:42.448683Z",
     "iopub.status.idle": "2022-04-28T03:33:41.465755Z",
     "shell.execute_reply": "2022-04-28T03:33:41.465305Z",
     "shell.execute_reply.started": "2022-04-28T03:04:42.448953Z"
    },
    "tags": []
   },
   "source": [
    "# Method 2: \n",
    "- Parse raw attom to county .csv files (all potentially useful fields)\n",
    "- Dask/Pool read_csv"
   ]
  },
  {
   "cell_type": "code",
   "execution_count": 4,
   "id": "997e6a6f-b9df-4570-9d56-1587db941852",
   "metadata": {
    "execution": {
     "iopub.execute_input": "2022-04-29T16:52:46.010182Z",
     "iopub.status.busy": "2022-04-29T16:52:46.009897Z",
     "iopub.status.idle": "2022-04-29T16:52:46.038240Z",
     "shell.execute_reply": "2022-04-29T16:52:46.037844Z",
     "shell.execute_reply.started": "2022-04-29T16:52:46.010159Z"
    },
    "tags": []
   },
   "outputs": [],
   "source": [
    "use_cols = ['[ATTOM ID]', 'AreaBuilding', 'AreaBuildingDefinitionCode', 'AreaLotSF', 'AssessorLastSaleAmount', 'AssessorLastSaleDate', 'AssessorPriorSaleAmount', 'AssessorPriorSaleDate', 'BedroomsCount', 'BuildingsCount', 'CensusBlock', 'CompanyFlag', 'ContactOwnerMailAddressFull', 'ContactOwnerMailAddressInfoFormat', 'DeedOwner1NameFull', 'Fireplace', 'FireplaceCount', 'GeoQuality', 'LegalDescription', 'OwnerTypeDescription1', 'ParcelNumberRaw', 'ParkingGarage', 'ParkingGarageArea', 'ParkingSpaceCount', 'PartyOwner1NameFull', 'PartyOwner2NameFull', 'PartyOwner3NameFull', 'PreviousAssessedValue', 'PropertyAddressCity', 'PropertyAddressFull', 'PropertyAddressHouseNumber', 'PropertyAddressState', 'PropertyAddressStreetDirection', 'PropertyAddressStreetName', 'PropertyAddressStreetPostDirection', 'PropertyAddressStreetSuffix', 'PropertyAddressUnitPrefix', 'PropertyAddressUnitValue', 'PropertyAddressZIP', 'PropertyAddressZIP4', 'PropertyLatitude', 'PropertyLongitude', 'PropertyUseGroup', 'PropertyUseStandardized', 'RoofConstruction', 'RoomsCount', 'RoomsFamilyCode', 'RoomsGameFlag', 'SitusCounty', 'SitusStateCode', 'StatusOwnerOccupiedFlag', 'StoriesCount', 'TaxAssessedValueImprovements', 'TaxAssessedValueTotal', 'TaxMarketValueImprovements', 'TaxMarketValueTotal', 'TaxMarketValueYear', 'TaxYearAssessed', 'UnitsCount', 'YearBuilt']\n",
    "SF57 = {'01': 'AL', '02': 'AK', '04': 'AZ', '05': 'AR', '06': 'CA', '08': 'CO', '09': 'CT', '10': 'DE', '11': 'DC', '12': 'FL', '13': 'GA', '15': 'HI', '16': 'ID', '17': 'IL', '18': 'IN', '19': 'IA', '20': 'KS', '21': 'KY', '22': 'LA', '23': 'ME', '24': 'MD', '25': 'MA', '26': 'MI', '27': 'MN', '28': 'MS', '29': 'MO', '30': 'MT', '31': 'NE', '32': 'NV', '33': 'NH', '34': 'NJ', '35': 'NM', '36': 'NY', '37': 'NC', '38': 'ND', '39': 'OH', '40': 'OK', '41': 'OR', '42': 'PA', '44': 'RI', '45': 'SC', '46': 'SD', '47': 'TN', '48': 'TX', '49': 'UT', '50': 'VT', '51': 'VA', '53': 'WA', '54': 'WV', '55': 'WI', '56': 'WY', '60': 'AS', '66': 'GU', '69': 'MP', '72': 'PR', '74': 'UM', '78': 'VI'}\n",
    "SF57R = {value : key for (key, value) in SF57.items()}\n",
    "# what if someone names Null, or None, or Nan?\n",
    "possible_bad_values = {\"\", \" \", \"Null\", \"None\", \"NONE\", \"none\"}\n",
    "\n",
    "# # ALL 16 ATTOM txt files has same header\n",
    "headers = []\n",
    "for num in range(1,17):\n",
    "    num = str(num).zfill(2)\n",
    "    with open(f'attom/data/{num}.txt', 'r', errors='replace') as f:\n",
    "        header = tuple(next(f).strip().split('\\t'))\n",
    "        headers.append(header)\n",
    "# Checked!        \n",
    "len(set(headers)) # just 1 header ordering!\n",
    "HEADER = set(headers).pop()\n",
    "HEADER_DICT = {col_name : idx for idx, col_name in enumerate(HEADER)}"
   ]
  },
  {
   "cell_type": "markdown",
   "id": "2218469e-ea9d-4b49-b704-f9e7440e84da",
   "metadata": {},
   "source": [
    "## Parse: RUN ONCE"
   ]
  },
  {
   "cell_type": "code",
   "execution_count": 107,
   "id": "1254d8de-633e-4a1c-9f62-f2dc8d63165b",
   "metadata": {
    "execution": {
     "iopub.execute_input": "2022-04-29T00:55:29.118356Z",
     "iopub.status.busy": "2022-04-29T00:55:29.118046Z",
     "iopub.status.idle": "2022-04-29T00:55:29.431212Z",
     "shell.execute_reply": "2022-04-29T00:55:29.430623Z",
     "shell.execute_reply.started": "2022-04-29T00:55:29.118332Z"
    },
    "tags": []
   },
   "outputs": [
    {
     "name": "stdout",
     "output_type": "stream",
     "text": [
      "rm: cannot remove 'attom/data/attom/*': No such file or directory\n",
      "time: 310 ms (started: 2022-04-28 20:55:29 -04:00)\n"
     ]
    }
   ],
   "source": [
    "# ! rm attom/data/attom/*"
   ]
  },
  {
   "cell_type": "markdown",
   "id": "a5c7983e-cf5e-442a-887b-67510e0064f5",
   "metadata": {},
   "source": [
    "### Atom"
   ]
  },
  {
   "cell_type": "code",
   "execution_count": 108,
   "id": "5609370d-3ab6-4c9e-864e-209eebbf3868",
   "metadata": {
    "execution": {
     "iopub.execute_input": "2022-04-29T00:55:45.420802Z",
     "iopub.status.busy": "2022-04-29T00:55:45.420493Z",
     "iopub.status.idle": "2022-04-29T01:10:19.050793Z",
     "shell.execute_reply": "2022-04-29T01:10:19.050340Z",
     "shell.execute_reply.started": "2022-04-29T00:55:45.420780Z"
    },
    "tags": []
   },
   "outputs": [
    {
     "data": {
      "text/plain": [
       "'Complete parsing'"
      ]
     },
     "execution_count": 108,
     "metadata": {},
     "output_type": "execute_result"
    },
    {
     "name": "stdout",
     "output_type": "stream",
     "text": [
      "time: 14min 33s (started: 2022-04-28 20:55:45 -04:00)\n"
     ]
    }
   ],
   "source": [
    "# import csv\n",
    "# def attom_io(input_file):\n",
    "#     with open(input_file, errors='replace', encoding='cp1252',) as readfile:\n",
    "#         zip_order = input_file.split('/')[-1][:2] # e.g. 03, or 11\n",
    "#         next(readfile)\n",
    "#         position = 0\n",
    "#         use_idx = [HEADER_DICT[col_name] for col_name in use_cols]\n",
    "#         for line in readfile:\n",
    "#             position += 1\n",
    "#             # Strip invalid EOL chars here is important!\n",
    "#             line = line.strip().split('\\t')\n",
    "#             sf_code = line[HEADER_DICT['SitusStateCode']]  \n",
    "            \n",
    "#             if not sf_code:\n",
    "#                 print(f\"ALERT: null statecode file@row= {input_file}@{position}\")\n",
    "#             elif sf_code not in SF57R:\n",
    "#                 print(f\"ALERT: statecode outside SF57R, {sf_code}, file@row= {input_file}@{position}\")\n",
    "#             else: \n",
    "#                 # WRITE to individual state df\n",
    "#                 # output file: county, e.g. AK_DENALI.json\n",
    "#                 county = line[HEADER_DICT['SitusCounty']]\n",
    "#                 county = \"\".join(county.split())\n",
    "#                 stem = (sf_code + '_' + county).lower()                    \n",
    "#                 ofile = f'attom/data/attom/{stem}.csv'\n",
    "\n",
    "#                 # select columns; and add addresses, and source locations (zip file, line positions)\n",
    "#                 line = [str(line[idx]).strip() for idx in use_idx] \n",
    "#                 # All other non-string data are stringified with str() before being written\n",
    "#                 line = [\"\" if value in possible_bad_values \n",
    "#                         else value for value in line] + [zip_order, position]\n",
    "                \n",
    "#                 # IMPORTANT: use csv.writer to deal with csv quoting and newlines\n",
    "#                 # https://stackoverflow.com/questions/3191528/csv-in-python-adding-an-extra-carriage-return-on-windows\n",
    "#                 # https://stackoverflow.com/questions/43733205/write-newline-to-csv-in-python\n",
    "#                 with open(ofile, 'a', newline='') as csvfile:\n",
    "#                     # pd.read_csv(quoting=0 QUOTE_MINIMAL)\n",
    "#                     writer = csv.writer(csvfile, delimiter='\\t',\n",
    "#                                         quoting=csv.QUOTE_MINIMAL)\n",
    "#                     writer.writerow(line)  \n",
    "#                     # writefile.write(\"\\t\".join(line) + '\\n')                           \n",
    "\n",
    "# # 12 min to write to all county files     \n",
    "# # If Pool(processes) is None then the number returned by os.cpu_count() is used.\n",
    "# with Pool() as pool:\n",
    "#     pool.map(attom_io, glob('attom/data/*.txt'))\n",
    "\n",
    "# \"Complete parsing\""
   ]
  },
  {
   "cell_type": "markdown",
   "id": "4ae4d9e3-2bed-4ad7-aaa4-72686a405fdb",
   "metadata": {},
   "source": [
    "## Parallel read with dask / Pool"
   ]
  },
  {
   "cell_type": "code",
   "execution_count": 5,
   "id": "d0833d68-0825-4f73-b14e-ed5e42bcec98",
   "metadata": {
    "execution": {
     "iopub.execute_input": "2022-04-29T16:53:15.033194Z",
     "iopub.status.busy": "2022-04-29T16:53:15.032923Z",
     "iopub.status.idle": "2022-04-29T16:53:39.384174Z",
     "shell.execute_reply": "2022-04-29T16:53:39.383670Z",
     "shell.execute_reply.started": "2022-04-29T16:53:15.033173Z"
    },
    "tags": []
   },
   "outputs": [
    {
     "data": {
      "text/plain": [
       "(3330480, 18)"
      ]
     },
     "execution_count": 5,
     "metadata": {},
     "output_type": "execute_result"
    }
   ],
   "source": [
    "import dask.dataframe as dd\n",
    "\n",
    "attom_cols = ['[ATTOM ID]',     \n",
    "    'LegalDescription', 'OwnerTypeDescription1', 'ParcelNumberRaw', \n",
    "    'PartyOwner1NameFull', 'PartyOwner2NameFull', \n",
    "    'PropertyAddressCity', \n",
    "    'PropertyAddressFull', \n",
    "    'PropertyAddressHouseNumber', 'PropertyAddressStreetDirection', 'PropertyAddressStreetName', \n",
    "    'PropertyAddressStreetPostDirection', 'PropertyAddressStreetSuffix', 'PropertyAddressUnitPrefix', 'PropertyAddressUnitValue', \n",
    "    'PropertyAddressZIP', \n",
    "    'PropertyLatitude', 'PropertyLongitude',]\n",
    "\n",
    "\n",
    "sf = \"mo\"\n",
    "\n",
    "# dask vs Pool pd.read_csv: \n",
    "# MO: ~same 40sec\n",
    "# FL: 50sec <> 25sec; TX 1min <> 1.5min\n",
    "\n",
    "# # instant lazy load with dask; provide header by names= (dont need header at row0)\n",
    "# df = dd.read_csv(f'attom/data/attom/{sf}*.csv', dtype=str, sep='\\t',\n",
    "#                  names = use_cols + ['zorder', 'rorder'], # added 2 columns\n",
    "#                  usecols = attom_cols, # can select columns to load to mem with usecols=\n",
    "#                 )\n",
    "# print(df.npartitions)\n",
    "\n",
    "# # Convert dask df to pandas df: 15sec for MO! \n",
    "# df = df.compute()\n",
    "\n",
    "# parsing above: encoding (with <> without), handle errors (replace <> ignore)\n",
    "# # ??? Why the difference?? vs previous json = 3.330.480 \n",
    "# # read_csv could have skip all nan rows for selected usecols; but all rows has ATTOM ID\n",
    "# df.shape # MO = 3.329.589 ( -891) ; FL = (10_500_171, 18)\n",
    "\n",
    "\n",
    "def pool_read_csv(filepath):\n",
    "    return pd.read_csv(filepath, dtype=str, sep='\\t',\n",
    "                 names = use_cols + ['zorder', 'rorder'], # added 2 columns\n",
    "                 usecols = attom_cols, # can select columns to load to mem with usecols=\n",
    "                )\n",
    "with Pool() as pool:\n",
    "    attom = pool.map(pool_read_csv, glob(f'attom/data/attom/{sf}*.csv'))\n",
    "    attom = pd.concat(attom)\n",
    "attom.shape    # MO SHOULD BE: 25sec, (3330480, 19)"
   ]
  },
  {
   "cell_type": "code",
   "execution_count": 277,
   "id": "7f3c1062-f9fd-419f-bd43-65a34b309711",
   "metadata": {
    "collapsed": true,
    "execution": {
     "iopub.execute_input": "2022-04-29T20:34:34.968710Z",
     "iopub.status.busy": "2022-04-29T20:34:34.968402Z",
     "iopub.status.idle": "2022-04-29T20:34:35.296518Z",
     "shell.execute_reply": "2022-04-29T20:34:35.296132Z",
     "shell.execute_reply.started": "2022-04-29T20:34:34.968688Z"
    },
    "jupyter": {
     "outputs_hidden": true
    },
    "tags": []
   },
   "outputs": [
    {
     "data": {
      "text/html": [
       "<div>\n",
       "<style scoped>\n",
       "    .dataframe tbody tr th:only-of-type {\n",
       "        vertical-align: middle;\n",
       "    }\n",
       "\n",
       "    .dataframe tbody tr th {\n",
       "        vertical-align: top;\n",
       "    }\n",
       "\n",
       "    .dataframe thead th {\n",
       "        text-align: right;\n",
       "    }\n",
       "</style>\n",
       "<table border=\"1\" class=\"dataframe\">\n",
       "  <thead>\n",
       "    <tr style=\"text-align: right;\">\n",
       "      <th></th>\n",
       "      <th>a</th>\n",
       "      <th>Address</th>\n",
       "      <th>houseNumber</th>\n",
       "      <th>streetDir</th>\n",
       "      <th>streetName</th>\n",
       "      <th>streetPostDir</th>\n",
       "      <th>streetSuffix</th>\n",
       "      <th>unitPrefix</th>\n",
       "      <th>unitValue</th>\n",
       "    </tr>\n",
       "  </thead>\n",
       "  <tbody>\n",
       "    <tr>\n",
       "      <th>13268</th>\n",
       "      <td>204181467</td>\n",
       "      <td>14610 NW 73RD ST</td>\n",
       "      <td>NaN</td>\n",
       "      <td>NaN</td>\n",
       "      <td>NaN</td>\n",
       "      <td>NaN</td>\n",
       "      <td>NaN</td>\n",
       "      <td>NaN</td>\n",
       "      <td>NaN</td>\n",
       "    </tr>\n",
       "    <tr>\n",
       "      <th>13271</th>\n",
       "      <td>198083407</td>\n",
       "      <td>12703 N ROBINHOOD LN</td>\n",
       "      <td>NaN</td>\n",
       "      <td>NaN</td>\n",
       "      <td>NaN</td>\n",
       "      <td>NaN</td>\n",
       "      <td>NaN</td>\n",
       "      <td>NaN</td>\n",
       "      <td>NaN</td>\n",
       "    </tr>\n",
       "    <tr>\n",
       "      <th>15480</th>\n",
       "      <td>202559166</td>\n",
       "      <td>7695 N EVERTON AVE</td>\n",
       "      <td>NaN</td>\n",
       "      <td>NaN</td>\n",
       "      <td>NaN</td>\n",
       "      <td>NaN</td>\n",
       "      <td>NaN</td>\n",
       "      <td>NaN</td>\n",
       "      <td>NaN</td>\n",
       "    </tr>\n",
       "    <tr>\n",
       "      <th>15505</th>\n",
       "      <td>204956090</td>\n",
       "      <td>6105 NW 103RD ST</td>\n",
       "      <td>NaN</td>\n",
       "      <td>NaN</td>\n",
       "      <td>NaN</td>\n",
       "      <td>NaN</td>\n",
       "      <td>NaN</td>\n",
       "      <td>NaN</td>\n",
       "      <td>NaN</td>\n",
       "    </tr>\n",
       "    <tr>\n",
       "      <th>16806</th>\n",
       "      <td>186648433</td>\n",
       "      <td>6100 NW PLATTE DR</td>\n",
       "      <td>NaN</td>\n",
       "      <td>NaN</td>\n",
       "      <td>NaN</td>\n",
       "      <td>NaN</td>\n",
       "      <td>NaN</td>\n",
       "      <td>NaN</td>\n",
       "      <td>NaN</td>\n",
       "    </tr>\n",
       "    <tr>\n",
       "      <th>...</th>\n",
       "      <td>...</td>\n",
       "      <td>...</td>\n",
       "      <td>...</td>\n",
       "      <td>...</td>\n",
       "      <td>...</td>\n",
       "      <td>...</td>\n",
       "      <td>...</td>\n",
       "      <td>...</td>\n",
       "      <td>...</td>\n",
       "    </tr>\n",
       "    <tr>\n",
       "      <th>14727</th>\n",
       "      <td>300329574</td>\n",
       "      <td>TALLEY BEND &amp; 2025 RD</td>\n",
       "      <td>NaN</td>\n",
       "      <td>NaN</td>\n",
       "      <td>NaN</td>\n",
       "      <td>NaN</td>\n",
       "      <td>NaN</td>\n",
       "      <td>NaN</td>\n",
       "      <td>&amp; 2025</td>\n",
       "    </tr>\n",
       "    <tr>\n",
       "      <th>1338</th>\n",
       "      <td>299658133</td>\n",
       "      <td>N SALT CREEK SLOUGH &amp; S OF ST RT Z</td>\n",
       "      <td>NaN</td>\n",
       "      <td>NaN</td>\n",
       "      <td>NaN</td>\n",
       "      <td>NaN</td>\n",
       "      <td>NaN</td>\n",
       "      <td>NaN</td>\n",
       "      <td>NaN</td>\n",
       "    </tr>\n",
       "    <tr>\n",
       "      <th>237</th>\n",
       "      <td>288003202</td>\n",
       "      <td>KING S BRANCH &amp; E AVE</td>\n",
       "      <td>NaN</td>\n",
       "      <td>NaN</td>\n",
       "      <td>NaN</td>\n",
       "      <td>NaN</td>\n",
       "      <td>NaN</td>\n",
       "      <td>NaN</td>\n",
       "      <td>NaN</td>\n",
       "    </tr>\n",
       "    <tr>\n",
       "      <th>442</th>\n",
       "      <td>288005623</td>\n",
       "      <td>CARPENTER</td>\n",
       "      <td>NaN</td>\n",
       "      <td>NaN</td>\n",
       "      <td>NaN</td>\n",
       "      <td>NaN</td>\n",
       "      <td>NaN</td>\n",
       "      <td>CARPENTER</td>\n",
       "      <td>NaN</td>\n",
       "    </tr>\n",
       "    <tr>\n",
       "      <th>648</th>\n",
       "      <td>288008996</td>\n",
       "      <td>STATE HWY W AND 300TH ST</td>\n",
       "      <td>NaN</td>\n",
       "      <td>NaN</td>\n",
       "      <td>NaN</td>\n",
       "      <td>NaN</td>\n",
       "      <td>NaN</td>\n",
       "      <td>NaN</td>\n",
       "      <td>NaN</td>\n",
       "    </tr>\n",
       "  </tbody>\n",
       "</table>\n",
       "<p>580 rows × 9 columns</p>\n",
       "</div>"
      ],
      "text/plain": [
       "               a                             Address houseNumber streetDir  \\\n",
       "13268  204181467                    14610 NW 73RD ST         NaN       NaN   \n",
       "13271  198083407                12703 N ROBINHOOD LN         NaN       NaN   \n",
       "15480  202559166                  7695 N EVERTON AVE         NaN       NaN   \n",
       "15505  204956090                    6105 NW 103RD ST         NaN       NaN   \n",
       "16806  186648433                   6100 NW PLATTE DR         NaN       NaN   \n",
       "...          ...                                 ...         ...       ...   \n",
       "14727  300329574               TALLEY BEND & 2025 RD         NaN       NaN   \n",
       "1338   299658133  N SALT CREEK SLOUGH & S OF ST RT Z         NaN       NaN   \n",
       "237    288003202               KING S BRANCH & E AVE         NaN       NaN   \n",
       "442    288005623                           CARPENTER         NaN       NaN   \n",
       "648    288008996            STATE HWY W AND 300TH ST         NaN       NaN   \n",
       "\n",
       "      streetName streetPostDir streetSuffix unitPrefix unitValue  \n",
       "13268        NaN           NaN          NaN        NaN       NaN  \n",
       "13271        NaN           NaN          NaN        NaN       NaN  \n",
       "15480        NaN           NaN          NaN        NaN       NaN  \n",
       "15505        NaN           NaN          NaN        NaN       NaN  \n",
       "16806        NaN           NaN          NaN        NaN       NaN  \n",
       "...          ...           ...          ...        ...       ...  \n",
       "14727        NaN           NaN          NaN        NaN    & 2025  \n",
       "1338         NaN           NaN          NaN        NaN       NaN  \n",
       "237          NaN           NaN          NaN        NaN       NaN  \n",
       "442          NaN           NaN          NaN  CARPENTER       NaN  \n",
       "648          NaN           NaN          NaN        NaN       NaN  \n",
       "\n",
       "[580 rows x 9 columns]"
      ]
     },
     "execution_count": 277,
     "metadata": {},
     "output_type": "execute_result"
    }
   ],
   "source": [
    "x = attom.query(\"Address == Address & PropertyAddressStreetName != PropertyAddressStreetName\")[\n",
    "    addr_cols].drop(columns=['Address1', 'Address2'])\n",
    "x.columns = ['a', 'Address', 'houseNumber', 'streetDir', 'streetName',\n",
    "            'streetPostDir', 'streetSuffix','unitPrefix', \"unitValue\"]\n",
    "x"
   ]
  },
  {
   "cell_type": "markdown",
   "id": "619ce612-e4a9-41b3-8d5f-9933cc3b8d57",
   "metadata": {},
   "source": [
    "## assemble Address1 and Address2 "
   ]
  },
  {
   "cell_type": "code",
   "execution_count": null,
   "id": "05309a86-b736-450e-a5d7-70af63e378f6",
   "metadata": {
    "tags": []
   },
   "outputs": [],
   "source": [
    "def addr_empty(*args):\n",
    "    args = [str(i).strip() for i in args]\n",
    "    return \" \".join(i for i in args if (i and i != 'nan'))\n",
    "addr_empty_vectorize = np.vectorize(addr_empty)\n",
    "\n",
    "attom['Address1'] = addr_empty_vectorize(attom.PropertyAddressHouseNumber,\n",
    "attom.PropertyAddressStreetDirection,\n",
    "attom.PropertyAddressStreetName,\n",
    "attom.PropertyAddressStreetSuffix,\n",
    "attom.PropertyAddressStreetPostDirection)\n",
    "\n",
    "attom['Address2'] = addr_empty_vectorize(attom.PropertyAddressUnitPrefix,\n",
    "attom.PropertyAddressUnitValue,)\n"
   ]
  },
  {
   "cell_type": "markdown",
   "id": "02a5a3ce-345a-4bc8-a554-f71120ecaa4c",
   "metadata": {},
   "source": [
    "# Normalize/Clean data"
   ]
  },
  {
   "cell_type": "code",
   "execution_count": 7,
   "id": "c7cb3107-c61a-4eeb-8af4-57d9912eb6e1",
   "metadata": {
    "execution": {
     "iopub.execute_input": "2022-04-29T16:54:04.434665Z",
     "iopub.status.busy": "2022-04-29T16:54:04.434381Z",
     "iopub.status.idle": "2022-04-29T16:54:05.720635Z",
     "shell.execute_reply": "2022-04-29T16:54:05.720156Z",
     "shell.execute_reply.started": "2022-04-29T16:54:04.434644Z"
    },
    "tags": []
   },
   "outputs": [],
   "source": [
    "# keep only alphanumeric\n",
    "keepchars = \"0123456789ABCDEFGHIJKLMNOPQRSTUVWXYZabcdefghijklmnopqrstuvwxyz\"\n",
    "del_chars = ''.join(c for c in map(chr, range(1114111)) if not c in set(keepchars))\n",
    "# KEEP THE UPPERCASE VERSION\n",
    "keepchars_table = str.maketrans(keepchars, keepchars.upper(), del_chars)\n"
   ]
  },
  {
   "cell_type": "code",
   "execution_count": 8,
   "id": "4f1987a5-9126-4597-836b-3eab88d742c5",
   "metadata": {
    "execution": {
     "iopub.execute_input": "2022-04-29T16:54:18.875800Z",
     "iopub.status.busy": "2022-04-29T16:54:18.875514Z",
     "iopub.status.idle": "2022-04-29T16:54:24.399455Z",
     "shell.execute_reply": "2022-04-29T16:54:24.398964Z",
     "shell.execute_reply.started": "2022-04-29T16:54:18.875777Z"
    }
   },
   "outputs": [],
   "source": [
    "attom = attom.rename(columns= {\n",
    "    '[ATTOM ID]': 'aid',\n",
    "    'PropertyAddressFull' : 'Address',\n",
    "    'LegalDescription' : 'Legal', \n",
    "    'ParcelNumberRaw' : 'Numb', \n",
    "    'PartyOwner1NameFull' : \"Owner\",\n",
    "    'PartyOwner2NameFull' : 'Owner2',\n",
    "    'PropertyAddressCity' : \"ACity\",\n",
    "    'PropertyAddressZIP' : 'AZip',\n",
    "    'PropertyLatitude' : 'Lat',\n",
    "    'PropertyLongitude' : 'Lon', \n",
    "})\n",
    "\n",
    "for col in ['Legal', 'Numb']:\n",
    "    attom[col] = attom[col].str.translate(keepchars_table)"
   ]
  },
  {
   "cell_type": "code",
   "execution_count": 9,
   "id": "fa191474-9bbf-419f-90c6-cdb3b6d579f1",
   "metadata": {
    "execution": {
     "iopub.execute_input": "2022-04-29T16:54:45.874102Z",
     "iopub.status.busy": "2022-04-29T16:54:45.873818Z",
     "iopub.status.idle": "2022-04-29T16:54:53.629246Z",
     "shell.execute_reply": "2022-04-29T16:54:53.628749Z",
     "shell.execute_reply.started": "2022-04-29T16:54:45.874081Z"
    },
    "tags": []
   },
   "outputs": [],
   "source": [
    "# add normalized address fields: dont need\n",
    "# attom['AddressC'] = attom['Address'].str.translate(keepchars_table)\n",
    "# attom['Address1C'] = attom['Address1'].str.translate(keepchars_table)\n",
    "# attom['Address2C'] = attom['Address2'].str.translate(keepchars_table)\n",
    "\n",
    "# REPLACE BAD VALUES\n",
    "for bad_value in [\"\", \" \", \"NONE\", \"None\"]:\n",
    "    attom.replace(bad_value, np.nan, inplace = True)\n",
    "    \n",
    "# # replace python NoneType with np.nan\n",
    "attom.fillna(np.nan, inplace=True) \n"
   ]
  },
  {
   "cell_type": "code",
   "execution_count": 10,
   "id": "1305167a-976b-4108-872f-72fad3886b1b",
   "metadata": {
    "execution": {
     "iopub.execute_input": "2022-04-29T16:54:53.630291Z",
     "iopub.status.busy": "2022-04-29T16:54:53.630086Z",
     "iopub.status.idle": "2022-04-29T16:54:57.169920Z",
     "shell.execute_reply": "2022-04-29T16:54:57.169523Z",
     "shell.execute_reply.started": "2022-04-29T16:54:53.630273Z"
    }
   },
   "outputs": [
    {
     "data": {
      "text/plain": [
       "(3330480, 20)"
      ]
     },
     "execution_count": 10,
     "metadata": {},
     "output_type": "execute_result"
    }
   ],
   "source": [
    "cols = [\"Lat\", \"Lon\"]\n",
    "attom[cols] = attom[cols].astype(float)\n",
    "attom.shape # 11sec (3.330.480, 41)"
   ]
  },
  {
   "cell_type": "code",
   "execution_count": 13,
   "id": "149782b2-18e3-400d-9a86-c34a6135614c",
   "metadata": {
    "execution": {
     "iopub.execute_input": "2022-04-29T16:56:00.804011Z",
     "iopub.status.busy": "2022-04-29T16:56:00.803706Z",
     "iopub.status.idle": "2022-04-29T16:56:00.806786Z",
     "shell.execute_reply": "2022-04-29T16:56:00.806404Z",
     "shell.execute_reply.started": "2022-04-29T16:56:00.803988Z"
    },
    "tags": []
   },
   "outputs": [],
   "source": [
    "addr_cols = [\n",
    "    'aid',\n",
    "    'Address',\n",
    " 'Address1', 'Address2',\n",
    "     'PropertyAddressHouseNumber',\n",
    " 'PropertyAddressStreetDirection',\n",
    " 'PropertyAddressStreetName',\n",
    " 'PropertyAddressStreetPostDirection',\n",
    " 'PropertyAddressStreetSuffix',\n",
    " 'PropertyAddressUnitPrefix',\n",
    " 'PropertyAddressUnitValue',\n",
    "]"
   ]
  },
  {
   "cell_type": "code",
   "execution_count": 11,
   "id": "b179c84d-bd2e-4af1-b8d6-6bf345a3beb6",
   "metadata": {
    "execution": {
     "iopub.execute_input": "2022-04-29T16:55:35.124971Z",
     "iopub.status.busy": "2022-04-29T16:55:35.124669Z",
     "iopub.status.idle": "2022-04-29T16:55:36.140359Z",
     "shell.execute_reply": "2022-04-29T16:55:36.139980Z",
     "shell.execute_reply.started": "2022-04-29T16:55:35.124950Z"
    },
    "tags": []
   },
   "outputs": [
    {
     "data": {
      "text/plain": [
       "(572, 2)"
      ]
     },
     "execution_count": 11,
     "metadata": {},
     "output_type": "execute_result"
    }
   ],
   "source": [
    "# https://stackoverflow.com/a/54099389/12572612 \n",
    "# .query: need engine=\"python\" with non-NaN native dtype\n",
    "# https://stackoverflow.com/a/51735886/12572612\n",
    "# NOT NULL: df.query(\"value == value\") ;; NULL: df.query(\"value != value\")\n",
    "attom.query(\"Address.notna() & Address1.isna()\", engine='python')[cols]\n",
    "attom.query(\"Address == Address & Address1 != Address1\")[cols].shape # 572\n"
   ]
  },
  {
   "cell_type": "code",
   "execution_count": null,
   "id": "fe040770-5b4f-42ec-820b-95657a7318f4",
   "metadata": {},
   "outputs": [],
   "source": [
    "# If Address1 null, set addr = address1\n",
    "attom['Address1'] = np.where(\n",
    "    attom.Address.notna() & attom.Address1.isna(), \n",
    "    attom['Address'], attom['Address1'])\n",
    "# If addr1 = addr, set addr2 = empty\n",
    "attom['Address2'] = np.where(\n",
    "    attom.Address == attom.Address1, \n",
    "    np.nan, attom['Address2'])"
   ]
  },
  {
   "cell_type": "code",
   "execution_count": 14,
   "id": "d2991591-ec97-4578-8f30-c8a0956835ce",
   "metadata": {
    "execution": {
     "iopub.execute_input": "2022-04-29T16:56:13.025602Z",
     "iopub.status.busy": "2022-04-29T16:56:13.025310Z",
     "iopub.status.idle": "2022-04-29T16:56:13.522341Z",
     "shell.execute_reply": "2022-04-29T16:56:13.521968Z",
     "shell.execute_reply.started": "2022-04-29T16:56:13.025580Z"
    },
    "tags": []
   },
   "outputs": [
    {
     "data": {
      "text/plain": [
       "aid                                   508206\n",
       "Address                                    0\n",
       "Address1                                   0\n",
       "Address2                                   0\n",
       "PropertyAddressHouseNumber                 0\n",
       "PropertyAddressStreetDirection             0\n",
       "PropertyAddressStreetName                  0\n",
       "PropertyAddressStreetPostDirection         0\n",
       "PropertyAddressStreetSuffix                0\n",
       "PropertyAddressUnitPrefix                  0\n",
       "PropertyAddressUnitValue                   0\n",
       "dtype: int64"
      ]
     },
     "execution_count": 14,
     "metadata": {},
     "output_type": "execute_result"
    }
   ],
   "source": [
    "# Sanity check: when Address is null, no other addr subfields exist!\n",
    "attom.query(\"Address != Address\")[addr_cols].count()"
   ]
  },
  {
   "cell_type": "markdown",
   "id": "0375238d-10b7-4039-9737-ab1f9895a29c",
   "metadata": {},
   "source": [
    "### Conclusion: you get what [data] you paid for\n",
    "- ATTOM cheap = data full of holes\n",
    "    - has Addr, but all Addr subfields are null! e.g. aid 204181467, 198083407\n",
    "- 16 unorganized txt files\n",
    "- new changes update email update at all?\n",
    "- bad support, no doc, not even trying to deposit to our google bucket\n",
    "- "
   ]
  },
  {
   "cell_type": "markdown",
   "id": "e498e67f-9cd6-425f-85a0-bc819151f184",
   "metadata": {},
   "source": [
    "### ATTOM: Successfully split Addr = Addr1 + Addr2"
   ]
  },
  {
   "cell_type": "code",
   "execution_count": 19,
   "id": "af773e7b-d8ac-4dbf-a8b7-96f0d08aa05e",
   "metadata": {
    "execution": {
     "iopub.execute_input": "2022-04-29T16:56:56.022162Z",
     "iopub.status.busy": "2022-04-29T16:56:56.021870Z",
     "iopub.status.idle": "2022-04-29T16:57:00.440980Z",
     "shell.execute_reply": "2022-04-29T16:57:00.440573Z",
     "shell.execute_reply.started": "2022-04-29T16:56:56.022140Z"
    },
    "tags": []
   },
   "outputs": [
    {
     "data": {
      "text/plain": [
       "aid         3330480\n",
       "Address     2409972\n",
       "Address1    2356977\n",
       "dtype: int64"
      ]
     },
     "execution_count": 19,
     "metadata": {},
     "output_type": "execute_result"
    }
   ],
   "source": [
    "attom[['aid', 'Address', 'Address1']].nunique()"
   ]
  },
  {
   "cell_type": "code",
   "execution_count": 127,
   "id": "51da2ca9-222b-4733-9a66-db0cf8f2b706",
   "metadata": {
    "execution": {
     "iopub.execute_input": "2022-04-29T18:20:34.710995Z",
     "iopub.status.busy": "2022-04-29T18:20:34.710690Z",
     "iopub.status.idle": "2022-04-29T18:20:34.714806Z",
     "shell.execute_reply": "2022-04-29T18:20:34.714407Z",
     "shell.execute_reply.started": "2022-04-29T18:20:34.710974Z"
    },
    "tags": []
   },
   "outputs": [],
   "source": [
    "attom_pk_maps = {\n",
    "    'aid' : 'query_id', # unique row id\n",
    "    # https://www.placekey.io/tutorials/using-placekey-without-addresses-latitude-and-longitude-only\n",
    "    'Lat' : 'latitude', # do need these fields, in case missing address field\n",
    "    'Lon' : 'longitude', # do need these fields, in case missing address field\n",
    "    'Address1' : 'street_address',\n",
    "    'ACity' : 'city',\n",
    "    'AZip' : 'postal_code',\n",
    "}\n",
    "\n",
    "def gen_placekey_df(df, maps):\n",
    "    keep_cols = list(maps.values())\n",
    "    # only need placekey cols\n",
    "    # before renaming, drop columns with names similar to Placekey required columns\n",
    "    df = df.drop(columns=keep_cols, \n",
    "                 errors='ignore').rename(columns=maps)[keep_cols]\n",
    "\n",
    "    # df['location_name'] = 'attom_null'\n",
    "    \n",
    "#     # coerce types to conform to Placekey API\n",
    "#     df[['latitude', 'longitude']] = df[['latitude', 'longitude']].astype(float)\n",
    "#     df[['query_id', 'street_address', 'city']] = df[['query_id', 'street_address', 'city']].astype(str)\n",
    "    \n",
    "#     # zipcode = 00000 means null; ATTOM zipcode could be a float, or None, \"\"\n",
    "#     # so, need a placeholder value to convert to int, zfill, back to np.nan\n",
    "#     NAN_ZIPS = \"00000\"\n",
    "#     df['postal_code'] = df['postal_code'].fillna(NAN_ZIPS).astype(int).astype(str).str.zfill(5).replace(NAN_ZIPS, np.nan)\n",
    "    return df"
   ]
  },
  {
   "cell_type": "code",
   "execution_count": 113,
   "id": "aa76b0e9-bd15-4ee5-8ccd-ab83fb5175db",
   "metadata": {
    "execution": {
     "iopub.execute_input": "2022-04-29T18:04:26.370278Z",
     "iopub.status.busy": "2022-04-29T18:04:26.369971Z",
     "iopub.status.idle": "2022-04-29T18:04:26.551580Z",
     "shell.execute_reply": "2022-04-29T18:04:26.551196Z",
     "shell.execute_reply.started": "2022-04-29T18:04:26.370255Z"
    }
   },
   "outputs": [
    {
     "data": {
      "text/plain": [
       "((3330480, 20), (90651, 20))"
      ]
     },
     "execution_count": 113,
     "metadata": {},
     "output_type": "execute_result"
    }
   ],
   "source": [
    "attom_addr2 = attom.query(\"Address2 == Address2\").copy()\n",
    "attom.shape, attom_addr2.shape"
   ]
  },
  {
   "cell_type": "code",
   "execution_count": 128,
   "id": "ee2e8789-fcf5-4c98-8789-2e581b8b8c6d",
   "metadata": {
    "execution": {
     "iopub.execute_input": "2022-04-29T18:20:56.928005Z",
     "iopub.status.busy": "2022-04-29T18:20:56.927703Z",
     "iopub.status.idle": "2022-04-29T18:20:57.013513Z",
     "shell.execute_reply": "2022-04-29T18:20:57.013145Z",
     "shell.execute_reply.started": "2022-04-29T18:20:56.927983Z"
    },
    "tags": []
   },
   "outputs": [
    {
     "data": {
      "text/plain": [
       "(90651, 6)"
      ]
     },
     "execution_count": 128,
     "metadata": {},
     "output_type": "execute_result"
    }
   ],
   "source": [
    "pk_attom = gen_placekey_df(attom_addr2, attom_pk_maps)\n",
    "# possible_bad_values = [\"\", \" \", \"null\", \"Null\", \"None\", \"nan\", \"Nan\"]  \n",
    "# for bad_value in possible_bad_values:\n",
    "#     pk_attom = pk_attom.replace(bad_value, np.nan)\n",
    "# # replace NoneType with np.nan    \n",
    "# pk_attom.fillna(np.nan, inplace=True)    \n",
    "# ((517596, 8)\n",
    "pk_attom.shape # (3330480, 6)"
   ]
  },
  {
   "cell_type": "code",
   "execution_count": 84,
   "id": "a2eabf28-0f99-4556-b663-dcbb58c18aa6",
   "metadata": {
    "execution": {
     "iopub.execute_input": "2022-04-29T17:52:03.178300Z",
     "iopub.status.busy": "2022-04-29T17:52:03.178017Z",
     "iopub.status.idle": "2022-04-29T17:52:03.183141Z",
     "shell.execute_reply": "2022-04-29T17:52:03.182558Z",
     "shell.execute_reply.started": "2022-04-29T17:52:03.178279Z"
    },
    "tags": []
   },
   "outputs": [],
   "source": [
    "def pk_lookup(df, sf_code):\n",
    "    # add missing hard-coded columns (str type)\n",
    "    df['iso_country_code'] = 'US' \n",
    "    df['region'] = sf_code     \n",
    "    df = json.loads(df.to_json(orient='records'))\n",
    "    # Rate limit: 100 bulk req per min x 100 addrs per bulk req\n",
    "    # i.e. 10,000 addr per min \n",
    "    responses = pk_api.lookup_placekeys(df, \n",
    "                                    strict_address_match=False,\n",
    "                                    strict_name_match=False, \n",
    "                                    # verbose=True,\n",
    "                                   )\n",
    "    \n",
    "    def clean_api_responses(data_jsoned, responses):\n",
    "        print(\"number of requests sent: \", len(data_jsoned))\n",
    "        print(\"total queries returned:\", len(responses))\n",
    "        # filter out invalid responses\n",
    "        responses_cleaned = [resp for resp in responses if 'query_id' in resp]\n",
    "        print(\"total successful responses:\", len(responses_cleaned))\n",
    "        return responses_cleaned   \n",
    "    \n",
    "    responses = clean_api_responses(df, responses)\n",
    "    return pd.read_json(json.dumps(responses), dtype={'query_id':str})\n",
    "\n",
    "# # TEST single placekey lookup!\n",
    "# def load_json(id):\n",
    "#     query = json.loads(\n",
    "#     pk_attom.query(\"query_id == @id\").to_json(orient=\"records\"))[0]\n",
    "#     return query\n",
    "\n",
    "# all no pk-what!\n",
    "# single_place_example = load_json('239420438') # 'placekey': '@5pt-cjv-ht9'}\n",
    "# # single_place_example = load_json('210392065') # 'placekey': '@5r8-28d-w49'}\n",
    "# print(single_place_example)\n",
    "# pk_api.lookup_placekey(**single_place_example)"
   ]
  },
  {
   "cell_type": "markdown",
   "id": "9e418e7a-e3d0-4c90-bf59-cb3ede5fbf75",
   "metadata": {},
   "source": [
    "### API CALL: Address v.s. Address1"
   ]
  },
  {
   "cell_type": "code",
   "execution_count": 276,
   "id": "24e7e2bb-fc48-425f-a3fb-affc3c959a3f",
   "metadata": {
    "execution": {
     "iopub.execute_input": "2022-04-29T20:12:51.445751Z",
     "iopub.status.busy": "2022-04-29T20:12:51.445443Z",
     "iopub.status.idle": "2022-04-29T20:12:51.449171Z",
     "shell.execute_reply": "2022-04-29T20:12:51.448818Z",
     "shell.execute_reply.started": "2022-04-29T20:12:51.445730Z"
    }
   },
   "outputs": [
    {
     "data": {
      "text/plain": [
       "(90651, 8)"
      ]
     },
     "execution_count": 276,
     "metadata": {},
     "output_type": "execute_result"
    }
   ],
   "source": [
    "pk_attom.shape"
   ]
  },
  {
   "cell_type": "code",
   "execution_count": 130,
   "id": "3f2adc80-e493-4b59-bbb4-b03d62904495",
   "metadata": {
    "execution": {
     "iopub.execute_input": "2022-04-29T18:21:43.887836Z",
     "iopub.status.busy": "2022-04-29T18:21:43.887546Z",
     "iopub.status.idle": "2022-04-29T18:31:21.662767Z",
     "shell.execute_reply": "2022-04-29T18:31:21.662279Z",
     "shell.execute_reply.started": "2022-04-29T18:21:43.887814Z"
    },
    "tags": []
   },
   "outputs": [
    {
     "name": "stdout",
     "output_type": "stream",
     "text": [
      "number of requests sent:  90651\n",
      "total queries returned: 90651\n",
      "total successful responses: 90651\n"
     ]
    },
    {
     "data": {
      "text/plain": [
       "64762"
      ]
     },
     "execution_count": 130,
     "metadata": {},
     "output_type": "execute_result"
    }
   ],
   "source": [
    "sf_code = 'MO'\n",
    "# Called once with Address, now with Address1\n",
    "pked_attom = pk_lookup(pk_attom, sf_code)\n",
    "pked_attom.placekey.count()"
   ]
  },
  {
   "cell_type": "code",
   "execution_count": 133,
   "id": "a36ab95c-1c1f-4d32-9475-3f5f958d6582",
   "metadata": {
    "execution": {
     "iopub.execute_input": "2022-04-29T18:39:20.704047Z",
     "iopub.status.busy": "2022-04-29T18:39:20.703720Z",
     "iopub.status.idle": "2022-04-29T18:39:20.713026Z",
     "shell.execute_reply": "2022-04-29T18:39:20.712650Z",
     "shell.execute_reply.started": "2022-04-29T18:39:20.704023Z"
    },
    "tags": []
   },
   "outputs": [
    {
     "data": {
      "text/plain": [
       "Invalid address                    22089\n",
       "All queries in batch had errors     3800\n",
       "Name: error, dtype: int64"
      ]
     },
     "execution_count": 133,
     "metadata": {},
     "output_type": "execute_result"
    }
   ],
   "source": [
    "# Address1: Invalid address                    22089\n",
    "pked_attom.error.value_counts()"
   ]
  },
  {
   "cell_type": "code",
   "execution_count": 135,
   "id": "46ec195a-f112-42f2-a75f-7a6be2956e96",
   "metadata": {
    "execution": {
     "iopub.execute_input": "2022-04-29T18:39:53.838414Z",
     "iopub.status.busy": "2022-04-29T18:39:53.838132Z",
     "iopub.status.idle": "2022-04-29T18:39:53.840778Z",
     "shell.execute_reply": "2022-04-29T18:39:53.840395Z",
     "shell.execute_reply.started": "2022-04-29T18:39:53.838392Z"
    },
    "tags": []
   },
   "outputs": [],
   "source": [
    "# # RETRY API error responses\n",
    "# # another error: Missing placekeys due to exceeding API rate limit\n",
    "# pk_errors = pked_attom[pked_attom.error == \n",
    "#                                \"All queries in batch had errors\"].query_id\n",
    "# pk_errors = pk_attom[pk_attom.query_id.isin(pk_errors)].copy()\n",
    "\n",
    "# pk_errors = pk_lookup(pk_errors, sf_code)\n",
    "# pk_errors.error.value_counts() # All queries in batch had errors    3900\n",
    "# # If pk_errors gives new results, pd.update pked_attom"
   ]
  },
  {
   "cell_type": "code",
   "execution_count": 137,
   "id": "e710d29e-9fb8-4cbd-b6a1-d862b3fd4a55",
   "metadata": {
    "execution": {
     "iopub.execute_input": "2022-04-29T18:40:15.189026Z",
     "iopub.status.busy": "2022-04-29T18:40:15.188742Z",
     "iopub.status.idle": "2022-04-29T18:40:22.118408Z",
     "shell.execute_reply": "2022-04-29T18:40:22.117919Z",
     "shell.execute_reply.started": "2022-04-29T18:40:15.189005Z"
    },
    "tags": []
   },
   "outputs": [],
   "source": [
    "pk_attom_joined = pd.merge(\n",
    "    attom, pked_attom, left_on='aid', \n",
    "    right_on=\"query_id\", how='left').drop(columns='query_id')"
   ]
  },
  {
   "cell_type": "code",
   "execution_count": 138,
   "id": "f92e2760-7560-4476-bc34-dc95e2d0862f",
   "metadata": {
    "execution": {
     "iopub.execute_input": "2022-04-29T18:40:22.119543Z",
     "iopub.status.busy": "2022-04-29T18:40:22.119335Z",
     "iopub.status.idle": "2022-04-29T18:40:22.670995Z",
     "shell.execute_reply": "2022-04-29T18:40:22.670541Z",
     "shell.execute_reply.started": "2022-04-29T18:40:22.119526Z"
    }
   },
   "outputs": [],
   "source": [
    "# pk_attom_joined_address = pk_attom_joined.copy()\n",
    "# pk_attom_joined_address1 = pk_attom_joined.copy()"
   ]
  },
  {
   "cell_type": "code",
   "execution_count": 160,
   "id": "26bb0664-4d72-4f40-b1b5-38e8249aa9cc",
   "metadata": {
    "execution": {
     "iopub.execute_input": "2022-04-29T18:57:22.670650Z",
     "iopub.status.busy": "2022-04-29T18:57:22.670341Z",
     "iopub.status.idle": "2022-04-29T18:57:23.994936Z",
     "shell.execute_reply": "2022-04-29T18:57:23.994473Z",
     "shell.execute_reply.started": "2022-04-29T18:57:22.670627Z"
    },
    "tags": []
   },
   "outputs": [],
   "source": [
    "# pk_attom_joined = pk_attom_joined_address.copy()\n",
    "# pk_attom_joined1 = pk_attom_joined_address1.copy()\n",
    "\n"
   ]
  },
  {
   "cell_type": "code",
   "execution_count": 161,
   "id": "552553da-6d9e-4634-8998-819aa5ba6efd",
   "metadata": {
    "execution": {
     "iopub.execute_input": "2022-04-29T18:58:08.767518Z",
     "iopub.status.busy": "2022-04-29T18:58:08.767213Z",
     "iopub.status.idle": "2022-04-29T18:58:09.408112Z",
     "shell.execute_reply": "2022-04-29T18:58:09.407651Z",
     "shell.execute_reply.started": "2022-04-29T18:58:08.767495Z"
    },
    "tags": []
   },
   "outputs": [],
   "source": [
    "# pk api requests using address\n",
    "test = pk_attom_joined.query(\"placekey == placekey\")[['aid', 'Address', 'Address1', 'Address2', 'placekey']]\n",
    "test[['pkwhat', 'pkwhere']] = test.placekey.str.split(\"@\", expand=True)\n",
    "test.replace(\"\", np.nan, inplace=True)\n",
    "# pk api requests using address1\n",
    "test1 = pk_attom_joined1.query(\"placekey == placekey\")[['aid', 'Address', 'Address1', 'Address2', 'placekey']]\n",
    "test1[['pkwhat', 'pkwhere']] = test1.placekey.str.split(\"@\", expand=True)\n",
    "test1.replace(\"\", np.nan, inplace=True)\n",
    "\n",
    "# # Only very few address with Address2 receive pkwhat\n",
    "# test.query('pkwhat == pkwhat & Address2==Address2').shape, "
   ]
  },
  {
   "cell_type": "code",
   "execution_count": 175,
   "id": "1de80046-60a1-43f8-8e36-b809a5ccac14",
   "metadata": {
    "execution": {
     "iopub.execute_input": "2022-04-29T19:04:53.724036Z",
     "iopub.status.busy": "2022-04-29T19:04:53.723750Z",
     "iopub.status.idle": "2022-04-29T19:04:53.797489Z",
     "shell.execute_reply": "2022-04-29T19:04:53.797116Z",
     "shell.execute_reply.started": "2022-04-29T19:04:53.724016Z"
    },
    "tags": []
   },
   "outputs": [
    {
     "data": {
      "text/html": [
       "<div>\n",
       "<style scoped>\n",
       "    .dataframe tbody tr th:only-of-type {\n",
       "        vertical-align: middle;\n",
       "    }\n",
       "\n",
       "    .dataframe tbody tr th {\n",
       "        vertical-align: top;\n",
       "    }\n",
       "\n",
       "    .dataframe thead th {\n",
       "        text-align: right;\n",
       "    }\n",
       "</style>\n",
       "<table border=\"1\" class=\"dataframe\">\n",
       "  <thead>\n",
       "    <tr style=\"text-align: right;\">\n",
       "      <th></th>\n",
       "      <th>0</th>\n",
       "      <th>1</th>\n",
       "    </tr>\n",
       "  </thead>\n",
       "  <tbody>\n",
       "    <tr>\n",
       "      <th>aid</th>\n",
       "      <td>63945</td>\n",
       "      <td>64762</td>\n",
       "    </tr>\n",
       "    <tr>\n",
       "      <th>Address</th>\n",
       "      <td>63945</td>\n",
       "      <td>64762</td>\n",
       "    </tr>\n",
       "    <tr>\n",
       "      <th>Address1</th>\n",
       "      <td>63945</td>\n",
       "      <td>64762</td>\n",
       "    </tr>\n",
       "    <tr>\n",
       "      <th>Address2</th>\n",
       "      <td>63945</td>\n",
       "      <td>64762</td>\n",
       "    </tr>\n",
       "    <tr>\n",
       "      <th>placekey</th>\n",
       "      <td>63945</td>\n",
       "      <td>64762</td>\n",
       "    </tr>\n",
       "    <tr>\n",
       "      <th>pkwhat</th>\n",
       "      <td>63945</td>\n",
       "      <td>64762</td>\n",
       "    </tr>\n",
       "    <tr>\n",
       "      <th>pkwhere</th>\n",
       "      <td>63945</td>\n",
       "      <td>64762</td>\n",
       "    </tr>\n",
       "  </tbody>\n",
       "</table>\n",
       "</div>"
      ],
      "text/plain": [
       "              0      1\n",
       "aid       63945  64762\n",
       "Address   63945  64762\n",
       "Address1  63945  64762\n",
       "Address2  63945  64762\n",
       "placekey  63945  64762\n",
       "pkwhat    63945  64762\n",
       "pkwhere   63945  64762"
      ]
     },
     "execution_count": 175,
     "metadata": {},
     "output_type": "execute_result"
    }
   ],
   "source": [
    "# All successful API responses are (SubAddress-full), and wh-full (contain pkwhat, and pkwhere)\n",
    "pd.concat([test.count(), test1.count()], axis=1)"
   ]
  },
  {
   "cell_type": "code",
   "execution_count": 195,
   "id": "ff5fa587-5089-4bcb-a24b-2c9348a806d2",
   "metadata": {
    "execution": {
     "iopub.execute_input": "2022-04-29T19:18:42.874883Z",
     "iopub.status.busy": "2022-04-29T19:18:42.874597Z",
     "iopub.status.idle": "2022-04-29T19:18:42.912626Z",
     "shell.execute_reply": "2022-04-29T19:18:42.912198Z",
     "shell.execute_reply.started": "2022-04-29T19:18:42.874863Z"
    },
    "tags": []
   },
   "outputs": [
    {
     "name": "stdout",
     "output_type": "stream",
     "text": [
      "56399 25509\n"
     ]
    }
   ],
   "source": [
    "# IMPORTANT: CHECK THE DIFFERENCE\n",
    "# different Address2 cause Address-PK to have more placekeys than Address1-PK\n",
    "print(test.placekey.nunique(), test1.placekey.nunique())"
   ]
  },
  {
   "cell_type": "code",
   "execution_count": 224,
   "id": "db9285d6-ace7-4bce-957f-4061bfddd294",
   "metadata": {
    "execution": {
     "iopub.execute_input": "2022-04-29T19:37:25.715495Z",
     "iopub.status.busy": "2022-04-29T19:37:25.715200Z",
     "iopub.status.idle": "2022-04-29T19:37:25.811383Z",
     "shell.execute_reply": "2022-04-29T19:37:25.810845Z",
     "shell.execute_reply.started": "2022-04-29T19:37:25.715474Z"
    },
    "tags": []
   },
   "outputs": [
    {
     "name": "stdout",
     "output_type": "stream",
     "text": [
      "(64807, 7)\n"
     ]
    },
    {
     "data": {
      "text/html": [
       "<div>\n",
       "<style scoped>\n",
       "    .dataframe tbody tr th:only-of-type {\n",
       "        vertical-align: middle;\n",
       "    }\n",
       "\n",
       "    .dataframe tbody tr th {\n",
       "        vertical-align: top;\n",
       "    }\n",
       "\n",
       "    .dataframe thead th {\n",
       "        text-align: right;\n",
       "    }\n",
       "</style>\n",
       "<table border=\"1\" class=\"dataframe\">\n",
       "  <thead>\n",
       "    <tr style=\"text-align: right;\">\n",
       "      <th></th>\n",
       "      <th>aid</th>\n",
       "      <th>Address</th>\n",
       "      <th>Address1</th>\n",
       "      <th>placekey</th>\n",
       "      <th>Address1_y</th>\n",
       "      <th>Address_y</th>\n",
       "      <th>placekey_y</th>\n",
       "    </tr>\n",
       "  </thead>\n",
       "  <tbody>\n",
       "    <tr>\n",
       "      <th>0</th>\n",
       "      <td>299881888</td>\n",
       "      <td>72562 MINERAL ST # 72536</td>\n",
       "      <td>72562 MINERAL ST</td>\n",
       "      <td>22b@5pp-kjc-9cq</td>\n",
       "      <td>72562 MINERAL ST</td>\n",
       "      <td>72562 MINERAL ST # 72536</td>\n",
       "      <td>22b@5pp-kjc-9cq</td>\n",
       "    </tr>\n",
       "    <tr>\n",
       "      <th>1</th>\n",
       "      <td>299876150</td>\n",
       "      <td>819 SCHROEDER DR # 821</td>\n",
       "      <td>819 SCHROEDER DR</td>\n",
       "      <td>22g@5pp-kkb-5xq</td>\n",
       "      <td>819 SCHROEDER DR</td>\n",
       "      <td>819 SCHROEDER DR # 821</td>\n",
       "      <td>22g@5pp-kkb-5xq</td>\n",
       "    </tr>\n",
       "    <tr>\n",
       "      <th>2</th>\n",
       "      <td>299879501</td>\n",
       "      <td>107 S BRETT DR # B</td>\n",
       "      <td>107 S BRETT DR</td>\n",
       "      <td>22s@5pq-vg6-kxq</td>\n",
       "      <td>107 S BRETT DR</td>\n",
       "      <td>107 S BRETT DR # B</td>\n",
       "      <td>223@5pq-vg6-kxq</td>\n",
       "    </tr>\n",
       "    <tr>\n",
       "      <th>64804</th>\n",
       "      <td>299653374</td>\n",
       "      <td>NaN</td>\n",
       "      <td>NaN</td>\n",
       "      <td>NaN</td>\n",
       "      <td>3882 HWY 5 &amp; 240 3842</td>\n",
       "      <td>3882 HWY 5 &amp; 240 &amp; 3842 HWY 5 &amp; 240</td>\n",
       "      <td>222@5pq-jvd-xkf</td>\n",
       "    </tr>\n",
       "    <tr>\n",
       "      <th>64805</th>\n",
       "      <td>299656541</td>\n",
       "      <td>NaN</td>\n",
       "      <td>NaN</td>\n",
       "      <td>NaN</td>\n",
       "      <td>198 HWY 5 &amp; 240 196</td>\n",
       "      <td>198 HWY 5 &amp; 240 &amp; 196 HWY 5 &amp; 240</td>\n",
       "      <td>224@5pq-jyk-m6k</td>\n",
       "    </tr>\n",
       "    <tr>\n",
       "      <th>64806</th>\n",
       "      <td>288008830</td>\n",
       "      <td>NaN</td>\n",
       "      <td>NaN</td>\n",
       "      <td>NaN</td>\n",
       "      <td>22994 OUTER RD</td>\n",
       "      <td>22994 OUTER RD SCAMMAN I</td>\n",
       "      <td>222@5nz-bpz-rkz</td>\n",
       "    </tr>\n",
       "  </tbody>\n",
       "</table>\n",
       "</div>"
      ],
      "text/plain": [
       "             aid                   Address          Address1         placekey  \\\n",
       "0      299881888  72562 MINERAL ST # 72536  72562 MINERAL ST  22b@5pp-kjc-9cq   \n",
       "1      299876150    819 SCHROEDER DR # 821  819 SCHROEDER DR  22g@5pp-kkb-5xq   \n",
       "2      299879501        107 S BRETT DR # B    107 S BRETT DR  22s@5pq-vg6-kxq   \n",
       "64804  299653374                       NaN               NaN              NaN   \n",
       "64805  299656541                       NaN               NaN              NaN   \n",
       "64806  288008830                       NaN               NaN              NaN   \n",
       "\n",
       "                  Address1_y                            Address_y  \\\n",
       "0           72562 MINERAL ST             72562 MINERAL ST # 72536   \n",
       "1           819 SCHROEDER DR               819 SCHROEDER DR # 821   \n",
       "2             107 S BRETT DR                   107 S BRETT DR # B   \n",
       "64804  3882 HWY 5 & 240 3842  3882 HWY 5 & 240 & 3842 HWY 5 & 240   \n",
       "64805    198 HWY 5 & 240 196    198 HWY 5 & 240 & 196 HWY 5 & 240   \n",
       "64806         22994 OUTER RD             22994 OUTER RD SCAMMAN I   \n",
       "\n",
       "            placekey_y  \n",
       "0      22b@5pp-kjc-9cq  \n",
       "1      22g@5pp-kkb-5xq  \n",
       "2      223@5pq-vg6-kxq  \n",
       "64804  222@5pq-jvd-xkf  \n",
       "64805  224@5pq-jyk-m6k  \n",
       "64806  222@5nz-bpz-rkz  "
      ]
     },
     "execution_count": 224,
     "metadata": {},
     "output_type": "execute_result"
    }
   ],
   "source": [
    "# diff and same placekeys: for Address <> Address1\n",
    "test_merged = test[['aid', 'Address', 'Address1', 'placekey']].merge(\n",
    "    test1[['aid', 'Address1', 'Address', 'placekey']], \n",
    "    on='aid', how='outer', suffixes=('', '_y'))\n",
    "print(test_merged.shape)\n",
    "test_merged.iloc[np.r_[0:3, -3:0]]"
   ]
  },
  {
   "cell_type": "code",
   "execution_count": 230,
   "id": "16817780-ae4d-49c8-8401-7f0ec40249f8",
   "metadata": {
    "execution": {
     "iopub.execute_input": "2022-04-29T19:40:31.023521Z",
     "iopub.status.busy": "2022-04-29T19:40:31.023204Z",
     "iopub.status.idle": "2022-04-29T19:40:31.048029Z",
     "shell.execute_reply": "2022-04-29T19:40:31.047653Z",
     "shell.execute_reply.started": "2022-04-29T19:40:31.023499Z"
    },
    "tags": []
   },
   "outputs": [
    {
     "data": {
      "text/html": [
       "<div>\n",
       "<style scoped>\n",
       "    .dataframe tbody tr th:only-of-type {\n",
       "        vertical-align: middle;\n",
       "    }\n",
       "\n",
       "    .dataframe tbody tr th {\n",
       "        vertical-align: top;\n",
       "    }\n",
       "\n",
       "    .dataframe thead th {\n",
       "        text-align: right;\n",
       "    }\n",
       "</style>\n",
       "<table border=\"1\" class=\"dataframe\">\n",
       "  <thead>\n",
       "    <tr style=\"text-align: right;\">\n",
       "      <th></th>\n",
       "      <th>aid</th>\n",
       "      <th>Address</th>\n",
       "      <th>Address1</th>\n",
       "      <th>placekey</th>\n",
       "      <th>Address1_y</th>\n",
       "      <th>Address_y</th>\n",
       "      <th>placekey_y</th>\n",
       "    </tr>\n",
       "  </thead>\n",
       "  <tbody>\n",
       "    <tr>\n",
       "      <th>64082</th>\n",
       "      <td>31368775</td>\n",
       "      <td>NaN</td>\n",
       "      <td>NaN</td>\n",
       "      <td>NaN</td>\n",
       "      <td>1720-1724 CHOUTEAU AVE</td>\n",
       "      <td>1720-1724 CHOUTEAU AVE # 208</td>\n",
       "      <td>224@5pj-5hs-sbk</td>\n",
       "    </tr>\n",
       "    <tr>\n",
       "      <th>64422</th>\n",
       "      <td>202092934</td>\n",
       "      <td>NaN</td>\n",
       "      <td>NaN</td>\n",
       "      <td>NaN</td>\n",
       "      <td>4744A MCPHERSON AVE</td>\n",
       "      <td>4744A MCPHERSON AVE # 204</td>\n",
       "      <td>23d@5pj-5hf-snq</td>\n",
       "    </tr>\n",
       "    <tr>\n",
       "      <th>64805</th>\n",
       "      <td>299656541</td>\n",
       "      <td>NaN</td>\n",
       "      <td>NaN</td>\n",
       "      <td>NaN</td>\n",
       "      <td>198 HWY 5 &amp; 240 196</td>\n",
       "      <td>198 HWY 5 &amp; 240 &amp; 196 HWY 5 &amp; 240</td>\n",
       "      <td>224@5pq-jyk-m6k</td>\n",
       "    </tr>\n",
       "    <tr>\n",
       "      <th>64118</th>\n",
       "      <td>197377150</td>\n",
       "      <td>NaN</td>\n",
       "      <td>NaN</td>\n",
       "      <td>NaN</td>\n",
       "      <td>3212-3214 LOCUST ST</td>\n",
       "      <td>3212-3214 LOCUST ST # 3214</td>\n",
       "      <td>24b@5pj-5h7-cqz</td>\n",
       "    </tr>\n",
       "    <tr>\n",
       "      <th>64243</th>\n",
       "      <td>194687277</td>\n",
       "      <td>NaN</td>\n",
       "      <td>NaN</td>\n",
       "      <td>NaN</td>\n",
       "      <td>4137-4139 CASTLEMAN AVE</td>\n",
       "      <td>4137-4139 CASTLEMAN AVE # 2E</td>\n",
       "      <td>229@5pj-5h9-snq</td>\n",
       "    </tr>\n",
       "    <tr>\n",
       "      <th>64603</th>\n",
       "      <td>202298110</td>\n",
       "      <td>NaN</td>\n",
       "      <td>NaN</td>\n",
       "      <td>NaN</td>\n",
       "      <td>5316-5320 PERSHING AVE</td>\n",
       "      <td>5316-5320 PERSHING AVE # 205</td>\n",
       "      <td>224@5pj-5h8-vmk</td>\n",
       "    </tr>\n",
       "    <tr>\n",
       "      <th>64282</th>\n",
       "      <td>253481663</td>\n",
       "      <td>NaN</td>\n",
       "      <td>NaN</td>\n",
       "      <td>NaN</td>\n",
       "      <td>1113-1115 LOCUST ST</td>\n",
       "      <td>1113-1115 LOCUST ST # 400</td>\n",
       "      <td>226@5pj-5gc-rhq</td>\n",
       "    </tr>\n",
       "    <tr>\n",
       "      <th>64578</th>\n",
       "      <td>205590004</td>\n",
       "      <td>NaN</td>\n",
       "      <td>NaN</td>\n",
       "      <td>NaN</td>\n",
       "      <td>1219-1221 WASHINGTON AVE</td>\n",
       "      <td>1219-1221 WASHINGTON AVE # 300</td>\n",
       "      <td>223@5pj-5gc-rx5</td>\n",
       "    </tr>\n",
       "  </tbody>\n",
       "</table>\n",
       "</div>"
      ],
      "text/plain": [
       "             aid Address Address1 placekey                Address1_y  \\\n",
       "64082   31368775     NaN      NaN      NaN    1720-1724 CHOUTEAU AVE   \n",
       "64422  202092934     NaN      NaN      NaN       4744A MCPHERSON AVE   \n",
       "64805  299656541     NaN      NaN      NaN       198 HWY 5 & 240 196   \n",
       "64118  197377150     NaN      NaN      NaN       3212-3214 LOCUST ST   \n",
       "64243  194687277     NaN      NaN      NaN   4137-4139 CASTLEMAN AVE   \n",
       "64603  202298110     NaN      NaN      NaN    5316-5320 PERSHING AVE   \n",
       "64282  253481663     NaN      NaN      NaN       1113-1115 LOCUST ST   \n",
       "64578  205590004     NaN      NaN      NaN  1219-1221 WASHINGTON AVE   \n",
       "\n",
       "                               Address_y       placekey_y  \n",
       "64082       1720-1724 CHOUTEAU AVE # 208  224@5pj-5hs-sbk  \n",
       "64422          4744A MCPHERSON AVE # 204  23d@5pj-5hf-snq  \n",
       "64805  198 HWY 5 & 240 & 196 HWY 5 & 240  224@5pq-jyk-m6k  \n",
       "64118         3212-3214 LOCUST ST # 3214  24b@5pj-5h7-cqz  \n",
       "64243       4137-4139 CASTLEMAN AVE # 2E  229@5pj-5h9-snq  \n",
       "64603       5316-5320 PERSHING AVE # 205  224@5pj-5h8-vmk  \n",
       "64282          1113-1115 LOCUST ST # 400  226@5pj-5gc-rhq  \n",
       "64578     1219-1221 WASHINGTON AVE # 300  223@5pj-5gc-rx5  "
      ]
     },
     "execution_count": 230,
     "metadata": {},
     "output_type": "execute_result"
    }
   ],
   "source": [
    "## Address1 only generates new placekeys! # (862, 7)\n",
    "test_merged.query(\"aid == aid & placekey != placekey\").sample(8)"
   ]
  },
  {
   "cell_type": "code",
   "execution_count": 229,
   "id": "fc97e372-8ce4-400c-a2d6-a98b8baf1c3a",
   "metadata": {
    "execution": {
     "iopub.execute_input": "2022-04-29T19:37:48.343443Z",
     "iopub.status.busy": "2022-04-29T19:37:48.343149Z",
     "iopub.status.idle": "2022-04-29T19:37:48.366974Z",
     "shell.execute_reply": "2022-04-29T19:37:48.366611Z",
     "shell.execute_reply.started": "2022-04-29T19:37:48.343421Z"
    },
    "tags": []
   },
   "outputs": [
    {
     "data": {
      "text/html": [
       "<div>\n",
       "<style scoped>\n",
       "    .dataframe tbody tr th:only-of-type {\n",
       "        vertical-align: middle;\n",
       "    }\n",
       "\n",
       "    .dataframe tbody tr th {\n",
       "        vertical-align: top;\n",
       "    }\n",
       "\n",
       "    .dataframe thead th {\n",
       "        text-align: right;\n",
       "    }\n",
       "</style>\n",
       "<table border=\"1\" class=\"dataframe\">\n",
       "  <thead>\n",
       "    <tr style=\"text-align: right;\">\n",
       "      <th></th>\n",
       "      <th>aid</th>\n",
       "      <th>Address</th>\n",
       "      <th>Address1</th>\n",
       "      <th>placekey</th>\n",
       "      <th>Address1_y</th>\n",
       "      <th>Address_y</th>\n",
       "      <th>placekey_y</th>\n",
       "    </tr>\n",
       "  </thead>\n",
       "  <tbody>\n",
       "    <tr>\n",
       "      <th>38071</th>\n",
       "      <td>214969786</td>\n",
       "      <td>14568 COUNTY LN 250</td>\n",
       "      <td>14568 COUNTY LN</td>\n",
       "      <td>222@5r7-yt3-sdv</td>\n",
       "      <td>NaN</td>\n",
       "      <td>NaN</td>\n",
       "      <td>NaN</td>\n",
       "    </tr>\n",
       "    <tr>\n",
       "      <th>37919</th>\n",
       "      <td>240319619</td>\n",
       "      <td>25200 HALLMARK LN # 25208</td>\n",
       "      <td>25200 HALLMARK LN</td>\n",
       "      <td>225@5r8-2c6-5s5</td>\n",
       "      <td>NaN</td>\n",
       "      <td>NaN</td>\n",
       "      <td>NaN</td>\n",
       "    </tr>\n",
       "    <tr>\n",
       "      <th>38011</th>\n",
       "      <td>324207986</td>\n",
       "      <td>380 COUNTY LN 130</td>\n",
       "      <td>380 COUNTY LN</td>\n",
       "      <td>222@5r7-zpy-68v</td>\n",
       "      <td>NaN</td>\n",
       "      <td>NaN</td>\n",
       "      <td>NaN</td>\n",
       "    </tr>\n",
       "  </tbody>\n",
       "</table>\n",
       "</div>"
      ],
      "text/plain": [
       "             aid                    Address           Address1  \\\n",
       "38071  214969786        14568 COUNTY LN 250    14568 COUNTY LN   \n",
       "37919  240319619  25200 HALLMARK LN # 25208  25200 HALLMARK LN   \n",
       "38011  324207986          380 COUNTY LN 130      380 COUNTY LN   \n",
       "\n",
       "              placekey Address1_y Address_y placekey_y  \n",
       "38071  222@5r7-yt3-sdv        NaN       NaN        NaN  \n",
       "37919  225@5r8-2c6-5s5        NaN       NaN        NaN  \n",
       "38011  222@5r7-zpy-68v        NaN       NaN        NaN  "
      ]
     },
     "execution_count": 229,
     "metadata": {},
     "output_type": "execute_result"
    }
   ],
   "source": [
    "## CAN SAFELY IGNORE THESE few BAD ADDRESSES!\n",
    "## Address only generates new placekeys! (45,)\n",
    "test_merged.query(\"aid == aid & placekey_y != placekey_y\").sample(3)"
   ]
  },
  {
   "cell_type": "code",
   "execution_count": null,
   "id": "febc451c-bf9c-4cb4-9038-b854253df982",
   "metadata": {},
   "outputs": [],
   "source": []
  },
  {
   "cell_type": "code",
   "execution_count": null,
   "id": "b4ed3709-c2d2-4fbe-8a7c-cb0fcacf6678",
   "metadata": {},
   "outputs": [],
   "source": [
    "### GROUPBY check address"
   ]
  },
  {
   "cell_type": "code",
   "execution_count": 244,
   "id": "a714e7db-2564-42b3-92fd-01380658255e",
   "metadata": {
    "execution": {
     "iopub.execute_input": "2022-04-29T19:46:57.322730Z",
     "iopub.status.busy": "2022-04-29T19:46:57.322438Z",
     "iopub.status.idle": "2022-04-29T19:46:59.200307Z",
     "shell.execute_reply": "2022-04-29T19:46:59.199920Z",
     "shell.execute_reply.started": "2022-04-29T19:46:57.322704Z"
    },
    "tags": []
   },
   "outputs": [
    {
     "name": "stdout",
     "output_type": "stream",
     "text": [
      "(1633, 7)\n"
     ]
    },
    {
     "data": {
      "text/plain": [
       "placekey\n",
       "22f@5pq-zfs-7dv    235\n",
       "225@5pj-5gc-sh5    258\n",
       "Name: count, dtype: int64"
      ]
     },
     "execution_count": 244,
     "metadata": {},
     "output_type": "execute_result"
    }
   ],
   "source": [
    "testgrouped = test_merged.groupby('placekey').agg(lambda x: list(x))\n",
    "testgrouped['count'] = test_merged.groupby('placekey').size()\n",
    "\n",
    "testgroupedmul = testgrouped.query(\"count > 1\").sort_values('count')\n",
    "print(testgroupedmul.shape)\n",
    "testgroupedmul.tail(2)['count']"
   ]
  },
  {
   "cell_type": "code",
   "execution_count": 245,
   "id": "b308dfdf-11dd-4e77-9b52-2aeda069f64f",
   "metadata": {
    "execution": {
     "iopub.execute_input": "2022-04-29T19:47:01.271529Z",
     "iopub.status.busy": "2022-04-29T19:47:01.271247Z",
     "iopub.status.idle": "2022-04-29T19:47:02.359115Z",
     "shell.execute_reply": "2022-04-29T19:47:02.358722Z",
     "shell.execute_reply.started": "2022-04-29T19:47:01.271508Z"
    },
    "tags": []
   },
   "outputs": [
    {
     "name": "stdout",
     "output_type": "stream",
     "text": [
      "(5424, 7)\n"
     ]
    },
    {
     "data": {
      "text/plain": [
       "placekey_y\n",
       "22f@5pq-zfs-7dv    236\n",
       "225@5pj-5gc-sh5    307\n",
       "Name: count, dtype: int64"
      ]
     },
     "execution_count": 245,
     "metadata": {},
     "output_type": "execute_result"
    }
   ],
   "source": [
    "testgrouped = test_merged.groupby('placekey_y').agg(lambda x: list(x))\n",
    "testgrouped['count'] = test_merged.groupby('placekey_y').size()\n",
    "\n",
    "testgroupedmul = testgrouped.query(\"count > 1\").sort_values('count')\n",
    "print(testgroupedmul.shape)\n",
    "testgroupedmul.tail(2)['count']"
   ]
  },
  {
   "cell_type": "code",
   "execution_count": 265,
   "id": "06dcf937-c7d3-4b5b-a027-960a3bbe5bf8",
   "metadata": {
    "execution": {
     "iopub.execute_input": "2022-04-29T20:02:12.746436Z",
     "iopub.status.busy": "2022-04-29T20:02:12.746140Z",
     "iopub.status.idle": "2022-04-29T20:02:15.070948Z",
     "shell.execute_reply": "2022-04-29T20:02:15.070529Z",
     "shell.execute_reply.started": "2022-04-29T20:02:12.746413Z"
    },
    "tags": []
   },
   "outputs": [
    {
     "name": "stdout",
     "output_type": "stream",
     "text": [
      "9179\n"
     ]
    }
   ],
   "source": [
    "testgrouped = test.groupby('placekey').agg(lambda x: list(x))\n",
    "testgrouped['count'] = test.groupby('placekey').size()\n",
    "testgrouped = testgrouped.query(\"count > 1\").sort_values('count')\n",
    "print(testgrouped['count'].sum())"
   ]
  },
  {
   "cell_type": "code",
   "execution_count": 267,
   "id": "6be37712-4b0c-445d-8212-7464d1d318d8",
   "metadata": {
    "execution": {
     "iopub.execute_input": "2022-04-29T20:02:20.451680Z",
     "iopub.status.busy": "2022-04-29T20:02:20.451387Z",
     "iopub.status.idle": "2022-04-29T20:02:21.290642Z",
     "shell.execute_reply": "2022-04-29T20:02:21.290206Z",
     "shell.execute_reply.started": "2022-04-29T20:02:20.451660Z"
    },
    "tags": []
   },
   "outputs": [
    {
     "name": "stdout",
     "output_type": "stream",
     "text": [
      "44677\n"
     ]
    }
   ],
   "source": [
    "testgrouped1 = test1.groupby('placekey').agg(lambda x: list(x))\n",
    "testgrouped1['count'] = test1.groupby('placekey').size()\n",
    "testgrouped1 = testgrouped1.query(\"count > 1\").sort_values('count')\n",
    "print(testgrouped1['count'].sum())"
   ]
  },
  {
   "cell_type": "markdown",
   "id": "e7ce8af7-19cc-40eb-89a5-b3c79ea6e5ea",
   "metadata": {},
   "source": [
    "## OUTCOME\n",
    "- 9179 Address with mapped placekeys\n",
    "- 44_677 Address1 with mapped placekeys"
   ]
  },
  {
   "cell_type": "code",
   "execution_count": 257,
   "id": "7d0264cc-76d9-441e-a2e5-b67db5a2b816",
   "metadata": {
    "execution": {
     "iopub.execute_input": "2022-04-29T19:49:33.920348Z",
     "iopub.status.busy": "2022-04-29T19:49:33.920065Z",
     "iopub.status.idle": "2022-04-29T19:49:33.974006Z",
     "shell.execute_reply": "2022-04-29T19:49:33.973619Z",
     "shell.execute_reply.started": "2022-04-29T19:49:33.920327Z"
    },
    "tags": []
   },
   "outputs": [
    {
     "data": {
      "text/plain": [
       "(45, 862)"
      ]
     },
     "execution_count": 257,
     "metadata": {},
     "output_type": "execute_result"
    }
   ],
   "source": [
    "len(set(test.aid) - set(test1.aid)), len(set(test1.aid) - set(test.aid))"
   ]
  },
  {
   "cell_type": "code",
   "execution_count": null,
   "id": "51c1271e-ec6b-48d9-ac2d-0fba5034561c",
   "metadata": {},
   "outputs": [],
   "source": []
  },
  {
   "cell_type": "code",
   "execution_count": null,
   "id": "bc51bc8e-36c5-45ba-9f00-520d8d4ed681",
   "metadata": {},
   "outputs": [],
   "source": [
    "### Conclusion:\n",
    "- Requests: 90_651  Address (Address2 attached) / Address1 (Address2 separated)\n",
    "- Resuts: 63_945 / 64_762 \n",
    "- pkwhat: 63_945 / 64_762\n",
    "- unique placekey: 56_399 / 25_509 (emphasis)"
   ]
  },
  {
   "cell_type": "code",
   "execution_count": null,
   "id": "2fabc6ad-f031-49f7-95cc-9f9534946436",
   "metadata": {},
   "outputs": [],
   "source": []
  },
  {
   "cell_type": "code",
   "execution_count": null,
   "id": "2cd61ab6-452d-4039-98e6-034a8f2c8f66",
   "metadata": {},
   "outputs": [],
   "source": []
  },
  {
   "cell_type": "code",
   "execution_count": null,
   "id": "6ebb5d1e-f5d2-4b41-94ed-40d600f75287",
   "metadata": {},
   "outputs": [],
   "source": [
    "# same address1, diff lat and lon, or diff city?\n",
    "# that's the whole point of using placekey\n",
    "# Do not drop/duplicated street_address, or anything, before querying!"
   ]
  },
  {
   "cell_type": "code",
   "execution_count": 51,
   "id": "61b3574e-de28-4188-b5b2-49bbe2ff9845",
   "metadata": {
    "execution": {
     "iopub.execute_input": "2022-04-29T17:25:09.230313Z",
     "iopub.status.busy": "2022-04-29T17:25:09.230024Z",
     "iopub.status.idle": "2022-04-29T17:25:09.241401Z",
     "shell.execute_reply": "2022-04-29T17:25:09.241047Z",
     "shell.execute_reply.started": "2022-04-29T17:25:09.230292Z"
    },
    "tags": []
   },
   "outputs": [
    {
     "data": {
      "text/html": [
       "<div>\n",
       "<style scoped>\n",
       "    .dataframe tbody tr th:only-of-type {\n",
       "        vertical-align: middle;\n",
       "    }\n",
       "\n",
       "    .dataframe tbody tr th {\n",
       "        vertical-align: top;\n",
       "    }\n",
       "\n",
       "    .dataframe thead th {\n",
       "        text-align: right;\n",
       "    }\n",
       "</style>\n",
       "<table border=\"1\" class=\"dataframe\">\n",
       "  <thead>\n",
       "    <tr style=\"text-align: right;\">\n",
       "      <th></th>\n",
       "      <th>query_id</th>\n",
       "      <th>latitude</th>\n",
       "      <th>longitude</th>\n",
       "      <th>street_address</th>\n",
       "      <th>city</th>\n",
       "      <th>postal_code</th>\n",
       "    </tr>\n",
       "  </thead>\n",
       "  <tbody>\n",
       "    <tr>\n",
       "      <th>0</th>\n",
       "      <td>318261730</td>\n",
       "      <td>38.632752</td>\n",
       "      <td>-92.583055</td>\n",
       "      <td>NaN</td>\n",
       "      <td>NaN</td>\n",
       "      <td>NaN</td>\n",
       "    </tr>\n",
       "    <tr>\n",
       "      <th>1</th>\n",
       "      <td>312215716</td>\n",
       "      <td>38.766883</td>\n",
       "      <td>-92.467466</td>\n",
       "      <td>21087 HIGHWAY 179</td>\n",
       "      <td>JAMESTOWN</td>\n",
       "      <td>65046</td>\n",
       "    </tr>\n",
       "    <tr>\n",
       "      <th>2</th>\n",
       "      <td>312215790</td>\n",
       "      <td>38.624914</td>\n",
       "      <td>-92.575849</td>\n",
       "      <td>NaN</td>\n",
       "      <td>CALIFORNIA</td>\n",
       "      <td>65018</td>\n",
       "    </tr>\n",
       "    <tr>\n",
       "      <th>3</th>\n",
       "      <td>312215774</td>\n",
       "      <td>38.690601</td>\n",
       "      <td>-92.577729</td>\n",
       "      <td>26387 HIGHWAY D</td>\n",
       "      <td>CALIFORNIA</td>\n",
       "      <td>65018</td>\n",
       "    </tr>\n",
       "    <tr>\n",
       "      <th>4</th>\n",
       "      <td>325040788</td>\n",
       "      <td>38.609600</td>\n",
       "      <td>-92.620956</td>\n",
       "      <td>31820 FLAG SPRING RD</td>\n",
       "      <td>CALIFORNIA</td>\n",
       "      <td>65018</td>\n",
       "    </tr>\n",
       "    <tr>\n",
       "      <th>...</th>\n",
       "      <td>...</td>\n",
       "      <td>...</td>\n",
       "      <td>...</td>\n",
       "      <td>...</td>\n",
       "      <td>...</td>\n",
       "      <td>...</td>\n",
       "    </tr>\n",
       "    <tr>\n",
       "      <th>5706</th>\n",
       "      <td>322439862</td>\n",
       "      <td>40.440865</td>\n",
       "      <td>-95.235704</td>\n",
       "      <td>19703 X AVE</td>\n",
       "      <td>TARKIO</td>\n",
       "      <td>64491</td>\n",
       "    </tr>\n",
       "    <tr>\n",
       "      <th>5707</th>\n",
       "      <td>320978791</td>\n",
       "      <td>40.526107</td>\n",
       "      <td>-95.355229</td>\n",
       "      <td>13919 R</td>\n",
       "      <td>WESTBORO</td>\n",
       "      <td>64498</td>\n",
       "    </tr>\n",
       "    <tr>\n",
       "      <th>5708</th>\n",
       "      <td>320978833</td>\n",
       "      <td>40.372588</td>\n",
       "      <td>-95.197870</td>\n",
       "      <td>24451 Z AVE</td>\n",
       "      <td>FAIRFAX</td>\n",
       "      <td>64446</td>\n",
       "    </tr>\n",
       "    <tr>\n",
       "      <th>5709</th>\n",
       "      <td>320978792</td>\n",
       "      <td>40.485208</td>\n",
       "      <td>-95.309406</td>\n",
       "      <td>NaN</td>\n",
       "      <td>TARKIO</td>\n",
       "      <td>64491</td>\n",
       "    </tr>\n",
       "    <tr>\n",
       "      <th>5710</th>\n",
       "      <td>320978845</td>\n",
       "      <td>40.438170</td>\n",
       "      <td>-95.387924</td>\n",
       "      <td>310 S 10TH ST</td>\n",
       "      <td>TARKIO</td>\n",
       "      <td>64491</td>\n",
       "    </tr>\n",
       "  </tbody>\n",
       "</table>\n",
       "<p>3330480 rows × 6 columns</p>\n",
       "</div>"
      ],
      "text/plain": [
       "       query_id   latitude  longitude        street_address        city  \\\n",
       "0     318261730  38.632752 -92.583055                   NaN         NaN   \n",
       "1     312215716  38.766883 -92.467466     21087 HIGHWAY 179   JAMESTOWN   \n",
       "2     312215790  38.624914 -92.575849                   NaN  CALIFORNIA   \n",
       "3     312215774  38.690601 -92.577729       26387 HIGHWAY D  CALIFORNIA   \n",
       "4     325040788  38.609600 -92.620956  31820 FLAG SPRING RD  CALIFORNIA   \n",
       "...         ...        ...        ...                   ...         ...   \n",
       "5706  322439862  40.440865 -95.235704           19703 X AVE      TARKIO   \n",
       "5707  320978791  40.526107 -95.355229               13919 R    WESTBORO   \n",
       "5708  320978833  40.372588 -95.197870           24451 Z AVE     FAIRFAX   \n",
       "5709  320978792  40.485208 -95.309406                   NaN      TARKIO   \n",
       "5710  320978845  40.438170 -95.387924         310 S 10TH ST      TARKIO   \n",
       "\n",
       "     postal_code  \n",
       "0            NaN  \n",
       "1          65046  \n",
       "2          65018  \n",
       "3          65018  \n",
       "4          65018  \n",
       "...          ...  \n",
       "5706       64491  \n",
       "5707       64498  \n",
       "5708       64446  \n",
       "5709       64491  \n",
       "5710       64491  \n",
       "\n",
       "[3330480 rows x 6 columns]"
      ]
     },
     "execution_count": 51,
     "metadata": {},
     "output_type": "execute_result"
    }
   ],
   "source": [
    "pk_attom"
   ]
  },
  {
   "cell_type": "markdown",
   "id": "9e89195d-7edb-4dad-9b4c-a338ef6e9fa7",
   "metadata": {},
   "source": [
    "## ATTOM no coords (without addresses) = hopeless"
   ]
  },
  {
   "cell_type": "markdown",
   "id": "2d84573c-32d3-4cdb-91ff-a64b55404a30",
   "metadata": {},
   "source": [
    "## ATTOM no coords (with addresses): Placekey-ed will handle the standardizing and geocoding!"
   ]
  },
  {
   "cell_type": "markdown",
   "id": "10500c2d-b302-40bb-9f13-fc7e5c9237a2",
   "metadata": {},
   "source": [
    "## ATTOM: coords (without addresses): Placekey-ed also handles this!\n",
    "- https://www.placekey.io/tutorials/using-placekey-without-addresses-latitude-and-longitude-only\n"
   ]
  },
  {
   "cell_type": "code",
   "execution_count": null,
   "id": "c7af3569-da87-458d-9942-347d0ea6540a",
   "metadata": {},
   "outputs": [],
   "source": [
    "# TODO: Regrid: replace with Nan:\n",
    "NO ADDRESS ASSIGNED BY CITY\n",
    "No Situs Address\n",
    "RURAL"
   ]
  },
  {
   "cell_type": "code",
   "execution_count": 279,
   "id": "1b45585c-b0a2-4f6e-96e2-2e2df25ec000",
   "metadata": {
    "execution": {
     "iopub.execute_input": "2022-04-29T20:40:21.925805Z",
     "iopub.status.busy": "2022-04-29T20:40:21.925524Z",
     "iopub.status.idle": "2022-04-29T20:40:23.216461Z",
     "shell.execute_reply": "2022-04-29T20:40:23.216086Z",
     "shell.execute_reply.started": "2022-04-29T20:40:21.925783Z"
    },
    "tags": []
   },
   "outputs": [
    {
     "data": {
      "text/plain": [
       "(3127, 128)"
      ]
     },
     "execution_count": 279,
     "metadata": {},
     "output_type": "execute_result"
    }
   ],
   "source": [
    "df = gp.read_file('/home/nhat/regrid-bucket/ak_denali.geojson.zip', ignore_geometry = True)\n",
    "df.shape"
   ]
  },
  {
   "cell_type": "code",
   "execution_count": 288,
   "id": "3b183d69-35f3-4814-97c9-9c99d76a2eb8",
   "metadata": {
    "execution": {
     "iopub.execute_input": "2022-04-29T20:43:22.142187Z",
     "iopub.status.busy": "2022-04-29T20:43:22.141891Z",
     "iopub.status.idle": "2022-04-29T20:43:22.156295Z",
     "shell.execute_reply": "2022-04-29T20:43:22.155938Z",
     "shell.execute_reply.started": "2022-04-29T20:43:22.142167Z"
    },
    "tags": []
   },
   "outputs": [
    {
     "data": {
      "text/html": [
       "<div>\n",
       "<style scoped>\n",
       "    .dataframe tbody tr th:only-of-type {\n",
       "        vertical-align: middle;\n",
       "    }\n",
       "\n",
       "    .dataframe tbody tr th {\n",
       "        vertical-align: top;\n",
       "    }\n",
       "\n",
       "    .dataframe thead th {\n",
       "        text-align: right;\n",
       "    }\n",
       "</style>\n",
       "<table border=\"1\" class=\"dataframe\">\n",
       "  <thead>\n",
       "    <tr style=\"text-align: right;\">\n",
       "      <th></th>\n",
       "      <th>address</th>\n",
       "      <th>saddno</th>\n",
       "      <th>saddpref</th>\n",
       "      <th>saddstr</th>\n",
       "      <th>address2</th>\n",
       "      <th>sunit</th>\n",
       "    </tr>\n",
       "  </thead>\n",
       "  <tbody>\n",
       "    <tr>\n",
       "      <th>23</th>\n",
       "      <td>PARK LN TRACT F-2-B</td>\n",
       "      <td>None</td>\n",
       "      <td>None</td>\n",
       "      <td>PARK LN TRACT F-2-B</td>\n",
       "      <td>None</td>\n",
       "      <td># F-2-B</td>\n",
       "    </tr>\n",
       "    <tr>\n",
       "      <th>29</th>\n",
       "      <td>HILLTOP RD</td>\n",
       "      <td>None</td>\n",
       "      <td>None</td>\n",
       "      <td>HILLTOP RD</td>\n",
       "      <td>None</td>\n",
       "      <td>None</td>\n",
       "    </tr>\n",
       "    <tr>\n",
       "      <th>41</th>\n",
       "      <td>SULFIDE WY</td>\n",
       "      <td>None</td>\n",
       "      <td>None</td>\n",
       "      <td>SULFIDE WY</td>\n",
       "      <td>&amp; SPUR RD ON THE CORNER</td>\n",
       "      <td>None</td>\n",
       "    </tr>\n",
       "    <tr>\n",
       "      <th>252</th>\n",
       "      <td>PARKS &amp; DENALI HWY</td>\n",
       "      <td>None</td>\n",
       "      <td>None</td>\n",
       "      <td>PARKS &amp; DENALI</td>\n",
       "      <td>None</td>\n",
       "      <td>None</td>\n",
       "    </tr>\n",
       "    <tr>\n",
       "      <th>262</th>\n",
       "      <td>S SYLVAN RD</td>\n",
       "      <td>None</td>\n",
       "      <td>S</td>\n",
       "      <td>SYLVAN</td>\n",
       "      <td>LIVES AT END NO ST NAME</td>\n",
       "      <td>None</td>\n",
       "    </tr>\n",
       "    <tr>\n",
       "      <th>...</th>\n",
       "      <td>...</td>\n",
       "      <td>...</td>\n",
       "      <td>...</td>\n",
       "      <td>...</td>\n",
       "      <td>...</td>\n",
       "      <td>...</td>\n",
       "    </tr>\n",
       "    <tr>\n",
       "      <th>3106</th>\n",
       "      <td>STIBNITE RD</td>\n",
       "      <td>None</td>\n",
       "      <td>None</td>\n",
       "      <td>STIBNITE RD</td>\n",
       "      <td>None</td>\n",
       "      <td>None</td>\n",
       "    </tr>\n",
       "    <tr>\n",
       "      <th>3112</th>\n",
       "      <td>QUARTZ WY</td>\n",
       "      <td>None</td>\n",
       "      <td>None</td>\n",
       "      <td>QUARTZ WY</td>\n",
       "      <td>None</td>\n",
       "      <td>None</td>\n",
       "    </tr>\n",
       "    <tr>\n",
       "      <th>3113</th>\n",
       "      <td>STIBNITE RD</td>\n",
       "      <td>None</td>\n",
       "      <td>None</td>\n",
       "      <td>STIBNITE RD</td>\n",
       "      <td>None</td>\n",
       "      <td>None</td>\n",
       "    </tr>\n",
       "    <tr>\n",
       "      <th>3121</th>\n",
       "      <td>CHRISTIANSEN LAKE SUBD</td>\n",
       "      <td>None</td>\n",
       "      <td>None</td>\n",
       "      <td>CHRISTIANSEN LAKE SUBD</td>\n",
       "      <td>BLOCK 1 LOT 7</td>\n",
       "      <td>None</td>\n",
       "    </tr>\n",
       "    <tr>\n",
       "      <th>3122</th>\n",
       "      <td>FRONT ST AND D ST</td>\n",
       "      <td>None</td>\n",
       "      <td>None</td>\n",
       "      <td>FRONT ST AND D</td>\n",
       "      <td>None</td>\n",
       "      <td>None</td>\n",
       "    </tr>\n",
       "  </tbody>\n",
       "</table>\n",
       "<p>134 rows × 6 columns</p>\n",
       "</div>"
      ],
      "text/plain": [
       "                     address saddno saddpref                 saddstr  \\\n",
       "23       PARK LN TRACT F-2-B   None     None     PARK LN TRACT F-2-B   \n",
       "29                HILLTOP RD   None     None              HILLTOP RD   \n",
       "41                SULFIDE WY   None     None              SULFIDE WY   \n",
       "252       PARKS & DENALI HWY   None     None          PARKS & DENALI   \n",
       "262              S SYLVAN RD   None        S                  SYLVAN   \n",
       "...                      ...    ...      ...                     ...   \n",
       "3106             STIBNITE RD   None     None             STIBNITE RD   \n",
       "3112               QUARTZ WY   None     None               QUARTZ WY   \n",
       "3113             STIBNITE RD   None     None             STIBNITE RD   \n",
       "3121  CHRISTIANSEN LAKE SUBD   None     None  CHRISTIANSEN LAKE SUBD   \n",
       "3122       FRONT ST AND D ST   None     None          FRONT ST AND D   \n",
       "\n",
       "                     address2    sunit  \n",
       "23                       None  # F-2-B  \n",
       "29                       None     None  \n",
       "41    & SPUR RD ON THE CORNER     None  \n",
       "252                      None     None  \n",
       "262   LIVES AT END NO ST NAME     None  \n",
       "...                       ...      ...  \n",
       "3106                     None     None  \n",
       "3112                     None     None  \n",
       "3113                     None     None  \n",
       "3121            BLOCK 1 LOT 7     None  \n",
       "3122                     None     None  \n",
       "\n",
       "[134 rows x 6 columns]"
      ]
     },
     "execution_count": 288,
     "metadata": {},
     "output_type": "execute_result"
    }
   ],
   "source": [
    "cols = ['address', 'saddno', 'saddpref', 'saddstr', 'address2', 'sunit', ]\n",
    "df.query('address == address & saddno != saddno')[cols]"
   ]
  },
  {
   "cell_type": "code",
   "execution_count": null,
   "id": "d04d0ae9-2865-4efa-a694-0919b40d5297",
   "metadata": {},
   "outputs": [],
   "source": []
  },
  {
   "cell_type": "markdown",
   "id": "19d0eb34-91c6-4be1-9c7b-ca12960be18d",
   "metadata": {},
   "source": [
    "# REGRID address1\n"
   ]
  },
  {
   "cell_type": "markdown",
   "id": "1dc78f53-3dc6-49e5-91da-ebf2b83aeb9b",
   "metadata": {},
   "source": [
    "# should have same result as ATTOM"
   ]
  },
  {
   "cell_type": "code",
   "execution_count": null,
   "id": "52145377-07e8-485b-b8a3-4ed653a170a6",
   "metadata": {},
   "outputs": [],
   "source": []
  }
 ],
 "metadata": {
  "kernelspec": {
   "display_name": "Python 3 (ipykernel)",
   "language": "python",
   "name": "python3"
  },
  "language_info": {
   "codemirror_mode": {
    "name": "ipython",
    "version": 3
   },
   "file_extension": ".py",
   "mimetype": "text/x-python",
   "name": "python",
   "nbconvert_exporter": "python",
   "pygments_lexer": "ipython3",
   "version": "3.9.7"
  }
 },
 "nbformat": 4,
 "nbformat_minor": 5
}
