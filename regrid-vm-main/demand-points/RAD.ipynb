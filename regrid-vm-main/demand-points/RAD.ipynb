{
 "cells": [
  {
   "cell_type": "code",
   "execution_count": 3,
   "id": "9c9ee635-a0eb-49a3-af08-96d66acd98a6",
   "metadata": {
    "execution": {
     "iopub.execute_input": "2022-06-07T06:07:39.564774Z",
     "iopub.status.busy": "2022-06-07T06:07:39.564460Z",
     "iopub.status.idle": "2022-06-07T06:07:41.073370Z",
     "shell.execute_reply": "2022-06-07T06:07:41.072812Z",
     "shell.execute_reply.started": "2022-06-07T06:07:39.564752Z"
    },
    "tags": []
   },
   "outputs": [
    {
     "name": "stderr",
     "output_type": "stream",
     "text": [
      "/home/nhat/anaconda3/envs/py39/lib/python3.9/site-packages/geopandas/_compat.py:111: UserWarning: The Shapely GEOS version (3.10.2-CAPI-1.16.0) is incompatible with the GEOS version PyGEOS was compiled with (3.10.1-CAPI-1.16.0). Conversions between both will be slow.\n",
      "  warnings.warn(\n"
     ]
    }
   ],
   "source": [
    "import pandas as pd\n",
    "import numpy as np\n",
    "import json\n",
    "import geopandas as gp\n",
    "import h3\n",
    "import h3pandas\n",
    "from placekey.api import PlacekeyAPI\n",
    "from keplergl import KeplerGl\n",
    "import pprint\n",
    "# import concurrent.futures\n",
    "from unsync import unsync\n",
    "\n",
    "import gzip \n",
    "from shapely.geometry import shape\n",
    "from collections import Counter\n",
    "\n",
    "# import modin.pandas as mpd # Mutiple workers keep failing!\n",
    "from zipfile import ZipFile as ZF\n",
    "\n",
    "from glob import glob\n",
    "# https://stackoverflow.com/a/65001152/12572612: from multiprocessing import Pool\n",
    "from multiprocess import Pool\n",
    "# import vaex \n",
    "\n",
    "# 50 states + DC + 6 territories (PR, VI, AS, GU, MP, UM)\n",
    "SF57 = {'01': 'AL', '02': 'AK', '04': 'AZ', '05': 'AR', '06': 'CA', '08': 'CO', '09': 'CT', '10': 'DE', '11': 'DC', '12': 'FL', '13': 'GA', '15': 'HI', '16': 'ID', '17': 'IL', '18': 'IN', '19': 'IA', '20': 'KS', '21': 'KY', '22': 'LA', '23': 'ME', '24': 'MD', '25': 'MA', '26': 'MI', '27': 'MN', '28': 'MS', '29': 'MO', '30': 'MT', '31': 'NE', '32': 'NV', '33': 'NH', '34': 'NJ', '35': 'NM', '36': 'NY', '37': 'NC', '38': 'ND', '39': 'OH', '40': 'OK', '41': 'OR', '42': 'PA', '44': 'RI', '45': 'SC', '46': 'SD', '47': 'TN', '48': 'TX', '49': 'UT', '50': 'VT', '51': 'VA', '53': 'WA', '54': 'WV', '55': 'WI', '56': 'WY', '60': 'AS', '66': 'GU', '69': 'MP', '72': 'PR', '74': 'UM', '78': 'VI'}\n",
    "SF57R = {value : key for (key, value) in SF57.items()}\n",
    "# 50 states + DC + PR + VI\n",
    "SF53 = {'01': 'AL', '02': 'AK', '04': 'AZ', '05': 'AR', '06': 'CA', '08': 'CO', '09': 'CT', '10': 'DE', '11': 'DC', '12': 'FL', '13': 'GA', '15': 'HI', '16': 'ID', '17': 'IL', '18': 'IN', '19': 'IA', '20': 'KS', '21': 'KY', '22': 'LA', '23': 'ME', '24': 'MD', '25': 'MA', '26': 'MI', '27': 'MN', '28': 'MS', '29': 'MO', '30': 'MT', '31': 'NE', '32': 'NV', '33': 'NH', '34': 'NJ', '35': 'NM', '36': 'NY', '37': 'NC', '38': 'ND', '39': 'OH', '40': 'OK', '41': 'OR', '42': 'PA', '44': 'RI', '45': 'SC', '46': 'SD', '47': 'TN', '48': 'TX', '49': 'UT', '50': 'VT', '51': 'VA', '53': 'WA', '54': 'WV', '55': 'WI', '56': 'WY', '72': 'PR', '78': 'VI'}\n",
    "SF53R = {value : key for (key, value) in SF53.items()}\n",
    "# 50 states + DC + PR\n",
    "SF52 = {'01': 'AL', '02': 'AK', '04': 'AZ', '05': 'AR', '06': 'CA', '08': 'CO', '09': 'CT', '10': 'DE', '11': 'DC', '12': 'FL', '13': 'GA', '15': 'HI', '16': 'ID', '17': 'IL', '18': 'IN', '19': 'IA', '20': 'KS', '21': 'KY', '22': 'LA', '23': 'ME', '24': 'MD', '25': 'MA', '26': 'MI', '27': 'MN', '28': 'MS', '29': 'MO', '30': 'MT', '31': 'NE', '32': 'NV', '33': 'NH', '34': 'NJ', '35': 'NM', '36': 'NY', '37': 'NC', '38': 'ND', '39': 'OH', '40': 'OK', '41': 'OR', '42': 'PA', '44': 'RI', '45': 'SC', '46': 'SD', '47': 'TN', '48': 'TX', '49': 'UT', '50': 'VT', '51': 'VA', '53': 'WA', '54': 'WV', '55': 'WI', '56': 'WY', '72': 'PR'}\n",
    "SF52R = {value : key for (key, value) in SF52.items()}\n",
    "# 50 states + DC\n",
    "SF51 = {'01': 'AL', '02': 'AK', '04': 'AZ', '05': 'AR', '06': 'CA', '08': 'CO', '09': 'CT', '10': 'DE', '11': 'DC', '12': 'FL', '13': 'GA', '15': 'HI', '16': 'ID', '17': 'IL', '18': 'IN', '19': 'IA', '20': 'KS', '21': 'KY', '22': 'LA', '23': 'ME', '24': 'MD', '25': 'MA', '26': 'MI', '27': 'MN', '28': 'MS', '29': 'MO', '30': 'MT', '31': 'NE', '32': 'NV', '33': 'NH', '34': 'NJ', '35': 'NM', '36': 'NY', '37': 'NC', '38': 'ND', '39': 'OH', '40': 'OK', '41': 'OR', '42': 'PA', '44': 'RI', '45': 'SC', '46': 'SD', '47': 'TN', '48': 'TX', '49': 'UT', '50': 'VT', '51': 'VA', '53': 'WA', '54': 'WV', '55': 'WI', '56': 'WY'}\n",
    "SF51R = {value : key for (key, value) in SF51.items()}\n",
    "\n",
    "\n",
    "def gen_h3_hex_vectors(lat, lon, res):\n",
    "    return h3.geo_to_h3(lat, lon, res)\n",
    "# vectorize is 10x faster than apply!\n",
    "gen_h3_hex = np.vectorize(gen_h3_hex_vectors)\n",
    "\n",
    "# FYI: h3.h3_indexes_are_neighbors(\"X1\", \"X1\") = False (i.e. a hex cell is not neighbor with itself)\n",
    "# aside: h3.k_ring(\"8843a13687fffff\", 1) # find all neighbors in ring_size=1\n",
    "def h3_nei_conditions(hex1, hex2):\n",
    "    return h3.h3_indexes_are_neighbors(hex1, hex2) # bool\n",
    "h3_nei_vector = np.vectorize(h3_nei_conditions)\n",
    "\n",
    "# pd.set_option('display.max_columns', None) # number of the maximum columns shown\n",
    "# pd.set_option('display.max_colwidth', 100) # the maximum width of each single field.\n",
    "\n",
    "all_possible_bad_values = [\"\", \" \", \"null\", \"Null\", \"None\", \"NONE\", \"none\", \"nan\", \"Nan\"] \n",
    "\n",
    "\n",
    "attom_header = (['[ATTOM ID]', 'AreaBuilding', 'AreaBuildingDefinitionCode', 'AreaLotSF', 'AssessorLastSaleAmount', 'AssessorLastSaleDate', 'AssessorPriorSaleAmount', 'AssessorPriorSaleDate', 'BedroomsCount', 'BuildingsCount', 'CensusBlock', 'CompanyFlag', 'ContactOwnerMailAddressFull', 'ContactOwnerMailAddressInfoFormat', 'DeedOwner1NameFull', 'Fireplace', 'FireplaceCount', 'GeoQuality', 'LegalDescription', 'OwnerTypeDescription1', 'ParcelNumberRaw', 'ParkingGarage', 'ParkingGarageArea', 'ParkingSpaceCount', 'PartyOwner1NameFull', 'PartyOwner2NameFull', 'PartyOwner3NameFull', 'PreviousAssessedValue', 'PropertyAddressCity', 'PropertyAddressFull', 'PropertyAddressHouseNumber', 'PropertyAddressState', 'PropertyAddressStreetDirection', 'PropertyAddressStreetName', 'PropertyAddressStreetPostDirection', 'PropertyAddressStreetSuffix', 'PropertyAddressUnitPrefix', 'PropertyAddressUnitValue', 'PropertyAddressZIP', 'PropertyAddressZIP4', 'PropertyLatitude', 'PropertyLongitude', 'PropertyUseGroup', 'PropertyUseStandardized', 'RoofConstruction', 'RoomsCount', 'RoomsFamilyCode', 'RoomsGameFlag', 'SitusCounty', 'SitusStateCode', 'StatusOwnerOccupiedFlag', 'StoriesCount', 'TaxAssessedValueImprovements', 'TaxAssessedValueTotal', 'TaxMarketValueImprovements', 'TaxMarketValueTotal', 'TaxMarketValueYear', 'TaxYearAssessed', 'UnitsCount', 'YearBuilt']\n",
    " + ['zorder', 'rorder']) # added 2 columns\n",
    "len(attom_header)\n",
    "\n",
    "attom_cols = ['[ATTOM ID]',     \n",
    "    'LegalDescription', 'OwnerTypeDescription1', 'ParcelNumberRaw', \n",
    "    'PartyOwner1NameFull', 'PartyOwner2NameFull', \n",
    "    'PropertyAddressCity', \n",
    "    'PropertyAddressFull', \n",
    "    'PropertyAddressHouseNumber', 'PropertyAddressStreetDirection', 'PropertyAddressStreetName', \n",
    "    'PropertyAddressStreetPostDirection', 'PropertyAddressStreetSuffix', 'PropertyAddressUnitPrefix', 'PropertyAddressUnitValue', \n",
    "    'PropertyAddressZIP', \n",
    "    'PropertyLatitude', 'PropertyLongitude',]\n",
    "\n",
    "all_props = ['geoid', 'sourceagent', 'parcelnumb', 'usecode', 'usedesc', 'zoning', 'zoning_description', 'struct', 'multistruct', 'structno', 'yearbuilt', 'numstories', 'numunits', 'structstyle', 'parvaltype', 'improvval', 'landval', 'parval', 'agval', 'saleprice', 'saledate', 'taxamt', 'owntype', 'owner', 'ownfrst', 'ownlast', 'owner2', 'owner3', 'owner4', 'subsurfown', 'subowntype', 'mailadd', 'mail_address2', 'careof', 'mail_addno', 'mail_addpref', 'mail_addstr', 'mail_addsttyp', 'mail_addstsuf', 'mail_unit', 'mail_city', 'mail_state2', 'mail_zip', 'mail_urbanization', 'mail_country', 'address', 'address2', 'original_address', 'saddno', 'saddpref', 'saddstr', 'saddsttyp', 'saddstsuf', 'sunit', 'scity', 'city', 'county', 'state2', 'szip', 'urbanization', 'location_name', 'address_source', 'legaldesc', 'plat', 'book', 'page', 'block', 'lot', 'neighborhood', 'subdivision', 'qoz', 'qoz_tract', 'census_block', 'census_blockgroup', 'census_tract', 'census_school_district', 'sourceref', 'sourcedate', 'sourceurl', 'recrdareatx', 'recrdareano', 'gisacre', 'll_gisacre', 'sqft', 'll_gissqft', 'll_bldg_footprint_sqft', 'll_bldg_count', 'reviseddate', 'path', 'll_stable_id', 'll_uuid', 'll_updated_at', 'dpv_status', 'dpv_codes', 'dpv_notes', 'dpv_type', 'cass_errorno', 'rdi', 'usps_vacancy', 'usps_vacancy_date', 'cdl_raw', 'cdl_date', 'cdl_majority_category', 'cdl_majority_percent', 'padus_public_access', 'lbcs_activity', 'lbcs_activity_desc', 'lbcs_function', 'lbcs_function_desc', 'lbcs_structure', 'lbcs_structure_desc', 'lbcs_site', 'lbcs_site_desc', 'lbcs_ownership', 'lbcs_ownership_desc', 'lat', 'lon', 'taxyear', 'stacked_flag', 'll_last_refresh', 'll_address_count', 'homestead_exemption', 'alt_parcelnumb1', 'alt_parcelnumb2', 'alt_parcelnumb3', 'parcelnumb_no_formatting', 'plss_township', 'plss_section', 'plss_range' ]\n",
    "regrid_header = all_props + ['geom']\n",
    "# NOTE: geom = WTK string/object type; geometry = geopandas geometry type\n",
    "CRS_REGRID_PARCELS = \"EPSG:4326\"\n",
    "\n",
    "regrid_cols = ['ll_uuid', \n",
    "    'address', \n",
    "   'address2', # i.e. alternative address for same parcel\n",
    "   # 'original_address', # confirmed: all useless when (~address & original_address)\n",
    "               'legaldesc', 'parcelnumb', \n",
    "    'saddno', 'saddpref', 'saddstr', 'saddsttyp', 'saddstsuf', 'sunit' ,\n",
    "    'scity', 'szip', 'lat', 'lon', \n",
    "    'owner', 'owner2', ]\n",
    "\n",
    "def owner_compare(df_compare, left, right):\n",
    "    # only keep alphanumeric values ; note the additions of symbols\n",
    "    keepchars = \"0123456789ABCDEFGHIJKLMNOPQRSTUVWXYZabcdefghijklmnopqrstuvwxyz\" + \",& \"\n",
    "    del_chars = ''.join(c for c in map(chr, range(1114111)) if not c in set(keepchars))\n",
    "    # convert uppercases to lowercases\n",
    "    keepchars_table = str.maketrans(keepchars, keepchars.lower(), del_chars)\n",
    "\n",
    "    df_compare['owners'] = df_compare[left].str.translate(keepchars_table).str.split(',|&| ')\n",
    "    df_compare['Owners'] = df_compare[right].str.translate(keepchars_table).str.split(',|&| ')\n",
    "\n",
    "    def owners_combine(owners, Owners):\n",
    "        if owners is not np.nan and Owners is not np.nan:\n",
    "            seta = {own for own in owners if len(own) > 1}\n",
    "            setb = {own for own in Owners if len(own) > 1}\n",
    "            return True if seta.intersection(setb) else False\n",
    "        return True\n",
    "    owners_combine_vectorize = np.vectorize(owners_combine)\n",
    "    return owners_combine_vectorize(df_compare['owners'], df_compare['Owners'])\n",
    "\n",
    "\n",
    "# pd.options.display.float_format = '{:_}'.format\n",
    "# # Format thousands delimiter \n",
    "# df.style.format(thousands='_')\n",
    "\n",
    "attom_pk_maps = {\n",
    "    'aid' : 'query_id', # unique row id\n",
    "    'Lat' : 'latitude', \n",
    "    'Lon' : 'longitude', \n",
    "    'Address1' : 'street_address', # NOTE: using address1\n",
    "    'ACity' : 'city',\n",
    "    'AZip' : 'postal_code',\n",
    "}\n",
    "\n",
    "regrid_pk_maps = {\n",
    "    'rid' : 'query_id', # unique row id\n",
    "    'lat' : 'latitude', \n",
    "    'lon' : 'longitude', \n",
    "    'address1' : 'street_address', # NOTE: using address1\n",
    "    'scity' : 'city',\n",
    "    'szip' : 'postal_code', # e.g. 48103, 48104-3423\n",
    "}\n",
    "\n",
    "pk_api1 = PlacekeyAPI(\"NDd0VsiPKznvm89NLNj9DHrtU3GVzZ1h\" )\n",
    "pk_api2 = PlacekeyAPI(\"50L6WAI5cSUz1gJ3qzr2AwQxANKP3Ty1\" )\n",
    "\n",
    "#  https://github.com/alex-sherman/unsync#multi-threading-an-io-bound-function\n",
    "# Iterative API calls= slow! Use unsync that simplifies ThreadPoolExecutor's async tasks\n",
    "@unsync\n",
    "def pk_call(df, maps, orig_id, pk_api):\n",
    "    def gen_placekey_df(df, maps):\n",
    "        keep_cols = list(maps.values())\n",
    "        # only need placekey cols\n",
    "        # drop columns with names similar to Placekey required columns\n",
    "        df = df.drop(columns=keep_cols, \n",
    "                     errors='ignore').rename(columns=maps)[keep_cols]\n",
    "\n",
    "        # df['location_name'] = 'attom_null'\n",
    "\n",
    "        # # Done; DONT NEED: coerce types to conform to Placekey API\n",
    "        # df[['latitude', 'longitude']] = df[['latitude', 'longitude']].astype(float)\n",
    "        # df[['query_id', 'street_address', 'city']] = df[['query_id', 'street_address', 'city']].astype(str)\n",
    "\n",
    "        # zipcode = 00000 means null; ATTOM zipcode could be a float, or None, \"\"\n",
    "        # so, need a placeholder value to convert to int, zfill, back to np.nan\n",
    "        NAN_ZIPS = \"00000\"\n",
    "        df['postal_code'] = df['postal_code'].fillna(NAN_ZIPS).astype(int).astype(str).str.zfill(5).replace(NAN_ZIPS, np.nan)\n",
    "        # print(\"Generated pk df \", df.shape)\n",
    "        \n",
    "        # OPTIONAL CLEANING\n",
    "        possible_bad_values = [\"\", \" \", \"null\", \"Null\", \"None\", \"nan\", \"Nan\"]  \n",
    "        for bad_value in possible_bad_values:\n",
    "            df = df.replace(bad_value, np.nan)\n",
    "        # replace NoneType with np.nan    \n",
    "        df.fillna(np.nan, inplace=True)\n",
    "        return df    \n",
    "    \n",
    "    # Placekey API lookup function\n",
    "    \n",
    "    def pk_lookup(df, pk_api):\n",
    "        # add missing hard-coded columns (str type)\n",
    "        df['iso_country_code'] = 'US' \n",
    "        # sf_code has GLOBAL SCOPE\n",
    "        df['region'] = sf_code.upper()    \n",
    "        df = json.loads(df.to_json(orient='records'))\n",
    "        # Rate limit: 100 bulk req per min x 100 addrs per bulk req\n",
    "        # i.e. 10,000 addr per min \n",
    "        responses =  pk_api.lookup_placekeys(df, \n",
    "                                        strict_address_match=False,\n",
    "                                        strict_name_match=False, \n",
    "                                        # verbose=True,\n",
    "                                       )\n",
    "        # Clean the responses\n",
    "        # print(\"number of requests sent: \", len(df))\n",
    "        # print(\"total queries returned:\", len(responses))\n",
    "        # filter out invalid responses\n",
    "        responses_cleaned = [resp for resp in responses if 'query_id' in resp]\n",
    "        # print(\"total successful responses:\", len(responses_cleaned))\n",
    "        return pd.read_json(json.dumps(responses_cleaned), dtype={'query_id':str})\n",
    "    \n",
    "    \n",
    "    # TODO opt: groupby address1+hex7: avoid duplicate Placekey API request!\n",
    "    # assumption: there should be no duplicate address1 within same ahex7 (within 5km2)\n",
    "    # will not filter: same addr & adjacent ahex7 - placekey API will verify!\n",
    "    # FAILED: concat address with zip, eliminate repeated address (https://www.quora.com/Do-any-two-locations-with-the-same-street-address-also-have-the-same-ZIP-code)\n",
    "    # also, groupby fails when zip is null!\n",
    "    df_pk = gen_placekey_df(df, maps)\n",
    "    \n",
    "    # API REQUEST\n",
    "    pk_res =  pk_lookup(df_pk.copy(), pk_api) # # (148_487, 6) around 15min\n",
    "    # Show API responses errors\n",
    "    if \"error\" in set(pk_res):\n",
    "        print(orig_id, \"# responses: \", pk_res.shape, \"; responses errors: \")\n",
    "        print(pk_res.error.value_counts())\n",
    "    # split into 2 components -- only interest in results with pkwhat\n",
    "    # this also filters rows with error i.e. no placekey\n",
    "    pk_res[['pkwhat', 'pkwhere']] = pk_res.placekey.str.split(\n",
    "        \"@\", expand=True).replace(\"\", np.nan)\n",
    "   \n",
    "    # Save API responses!!\n",
    "    pk_res.reset_index(drop=True).to_feather(f'placekeyed/{orig_id}_{sf_code}.ftr')\n",
    "    \n",
    "    # keep only results whith pkwhat components\n",
    "    pk_res = pk_res[pk_res.pkwhat.notna()]\n",
    "    # Merge with original df; keep only rows with placekey results\n",
    "    df = pd.merge(df, pk_res, left_on = orig_id, \n",
    "      right_on=\"query_id\", how='inner').drop(columns= ['query_id', 'error'])\n",
    "    return df\n"
   ]
  },
  {
   "cell_type": "code",
   "execution_count": 4,
   "id": "8cc0cfcf-b970-41a0-90fd-20fbbcadf72b",
   "metadata": {
    "execution": {
     "iopub.execute_input": "2022-06-07T06:07:41.074996Z",
     "iopub.status.busy": "2022-06-07T06:07:41.074718Z",
     "iopub.status.idle": "2022-06-07T06:07:41.088266Z",
     "shell.execute_reply": "2022-06-07T06:07:41.087639Z",
     "shell.execute_reply.started": "2022-06-07T06:07:41.074972Z"
    },
    "tags": []
   },
   "outputs": [],
   "source": [
    "def regrid_landuse_classifier(acti, func, struc, site):\n",
    "    # REGRID LAND USE CLASSIFICATION\n",
    "    # Higher to lower priority\n",
    "    if 1 in (acti, func, struc):\n",
    "        return 'resi'\n",
    "    if 2 in (acti, func, struc) or func in set('357') or acti in set('357'):\n",
    "        return 'biz'\n",
    "    if 8 in (acti, struc) or func == 9: \n",
    "        return 'farm'\n",
    "    # 4000 - Social, institutional, or infrastructure-related activities\n",
    "    # 6000 - Mass assembly of people\n",
    "    # 4000 - Transportation, communication, information, and utilities\n",
    "    # 6000 - Education, public admin., health care, and other inst.\n",
    "    # 3000 - Public assembly structures\n",
    "    # .. 6000 - Utility and other nonbuilding structures\n",
    "    if 4 in (acti, func) or 6 in (acti, func) or struc in set('34567'):\n",
    "        return 'CAI'\n",
    "    if site != 6: # no developed site on land\n",
    "        return 'vacland'    \n",
    "    return 'rem' # ALL OTHER LANDUSE GROUPS   \n",
    "\n",
    "\n",
    "def rad_fields_vec(rid, aid, address1, addressSub, Address1, AddressSub, lat, lon, Lat, Lon, owner, owner2, Owner, Owner2):\n",
    "    pId = rId = pAddress1 = pAddressSub = pOwner = pLat = pLon = np.nan\n",
    "    \n",
    "    rlist = [rid, address1, addressSub, lat, lon, owner, owner2]\n",
    "    for r, addr1, addrSub, la, lo, own, own2 in zip(*rlist):\n",
    "        pId = rId = r\n",
    "        if addr1 is not None and addr1 == addr1: # not None, not na\n",
    "            pId = rId = r\n",
    "            pAddress1, pAddressSub = addr1, addrSub\n",
    "        if la is not None and lo is not None and la == la and lo == lo:\n",
    "            pLat, pLon = la, lo\n",
    "        if own is not None and own == own:\n",
    "            pOwner = own\n",
    "        elif own2 is not None and own2 == own2:\n",
    "            pOwner = own2\n",
    "        if np.nan not in (pId, rId, pAddress1, pAddressSub, pOwner, pLat, \n",
    "           pLon):\n",
    "            return \"\\t\".join([str(k) for k in [pId, rId, pAddress1, pAddressSub, pOwner, pLat, pLon]])\n",
    "\n",
    "    alist = [aid, Address1, AddressSub, Lat, Lon, Owner, Owner2]\n",
    "    for a, addr1, addrSub, la, lo, own, own2 in zip(*alist):\n",
    "        if pId != pId: # if have seen no regrid parcel \n",
    "            pId = a\n",
    "        if pAddress1 != pAddress1 and addr1 is not None and addr1 == addr1: # not na\n",
    "            pId = a # rId would still be Nan, or equal to a previous rid\n",
    "            pAddress1, pAddressSub = addr1, addrSub\n",
    "        if pLat != pLat and pLon != pLon and la is not None and lo is not None and la == la and lo == lo:\n",
    "            pLat, pLon = la, lo\n",
    "        if pOwner != pOwner and own is not None and own == own:\n",
    "            pOwner = own\n",
    "        elif pOwner != pOwner and own2 is not None and own2 == own2:\n",
    "            pOwner = own2\n",
    "        if np.nan not in (pId, rId, pAddress1, pAddressSub, pOwner, pLat, \n",
    "           pLon):\n",
    "            return \"\\t\".join([str(k) for k in [pId, rId, pAddress1, pAddressSub, pOwner, pLat, pLon]])\n",
    "        \n",
    "    return \"\\t\".join([str(k) for k in [pId, rId, pAddress1, pAddressSub, pOwner, pLat, pLon]])\n",
    "\n",
    "\n",
    "def rad_landuse_classifier_single(alanduse, rlanduse):\n",
    "    # RAD LAND USE CLASSIFICATION: reconciling ATTOM <> REGRID\n",
    "    # Higher to lower prioritization\n",
    "    if alanduse in ('CAI', 'biz', 'resi'): # also in order of priority\n",
    "        return alanduse\n",
    "    if rlanduse in ('CAI', 'biz', 'resi'): # also in order of priority\n",
    "        return rlanduse\n",
    "    for weak in ('farm', 'vacland', 'rem'): # also in order of priority\n",
    "        if weak in set((alanduse, rlanduse)):\n",
    "            return weak\n",
    "\n",
    "SORT_ORDER = {'CAI': 10, 'biz': 9, 'resi': 8, 'farm': 7, 'vacland': 6, 'rem': 5, np.nan: 4}\n",
    "def rad_landuse_classifier_many(uses):\n",
    "    # RAD LAND USE CLASSIFICATION: reconciling [many] ATTOM <> [many] REGRID\n",
    "    c = Counter(uses).most_common()\n",
    "    # note: negative signs! descending by counts, then descending by SORT_ORDER (for breaking tie)\n",
    "    landuse_orders = sorted(c, key = lambda x: (-x[1], -SORT_ORDER[x[0]]))\n",
    "    for value, count in landuse_orders:\n",
    "        if value not in ('vacland', 'rem', np.nan):\n",
    "            return value\n",
    "    if 'vacland' in set([k[0] for k in landuse_orders]): \n",
    "        return 'vacland'\n",
    "    return 'rem'\n"
   ]
  },
  {
   "cell_type": "code",
   "execution_count": null,
   "id": "30b569a8-2d50-4130-af61-dd75780ab150",
   "metadata": {},
   "outputs": [],
   "source": [
    "government = [\"Government\", \"Justice\", \"Library\", \"Department\", \"Administration\",\"Dept of\", \"City of\", \"Dept of\", \n",
    "              \"Town of\", \"Commission\", \"National Foundation\",  \"Child Abuse\", \"Courthouse\", \"Department of \", \n",
    "              \"Leadership\", \"Authority\",\"Adoptions\", \"Prison\",\"Veteran\", \"Chamber of\", \"Municipal\",\"Child Support\"]\n",
    "religious = [\"Church\", \"Baptist\",\"Baptist Association\",\"Christ\",\"Family Harvest\"]\n",
    "community = [\"Communications Workers Of America\", \"Veteran\", \"Community Center\", \"Community\"]\n",
    "education = [\"High School\", \"Elementary School\", \"Education\",\"College\", \n",
    "                    \"University\", \"Pre-School\",\"Middle School\", \"School\"]\n",
    "outdoor = [\"Garden\", \"Zoo\", \"Park\", \"Recreation\", \"Stadium\", \"Memorial\", \n",
    "           \"Outlook\", \"Overlook\", \"Pavilion\", \"Square\", \"Field\", \"Resort\"]\n",
    "\n",
    "stopcats = ['PERSONAL SERVICES',  'EATING - DRINKING', 'SHOPPING', \n",
    "       'AUTOMOTIVE SERVICES',  'BANKS - FINANCIAL', 'PET SERVICES']\n",
    "keywords = {\n",
    "    \"health\": [\"Medical Center\",\"Hospital\",\"Clinic\",\"Family Care\", \n",
    "                 # \"Rehab\"\n",
    "                ],\n",
    "    \"education\": education, \"government\": government, \"community\": community, \n",
    "    \"religious\": religious, \"outdoor\": outdoor,\n",
    "}\n",
    "\n",
    "STOP_PARTS = [\"LLC\", \"Llc\", \"inc\", \"Inc\", \"INC\"]\n",
    "stopwords = {\n",
    "    \"health\":     STOP_PARTS + [\"Hospitality\", \"Hospitalities\", \"Schools\", \"Animal\", \"Pet\"],\n",
    "    \"education\":  STOP_PARTS + [\"Hospital\"],\n",
    "    \"government\": STOP_PARTS + [\"Department Store\"],\n",
    "    \"community\":  STOP_PARTS,\n",
    "    \"religious\":  STOP_PARTS,\n",
    "    \"outdoor\":    STOP_PARTS,\n",
    "}\n",
    "caikeys = {\n",
    "    \"health\": [\"Medical Center\",\"Hospital\",\"Family Care\"],\n",
    "    \"education\": education, \"government\": government, \"community\": community, \n",
    "    \"religious\": religious, \"outdoor\": outdoor,\n",
    "}\n",
    "\n",
    "def getcai(dfinput, category):\n",
    "    #STEP 1. use the name key word\n",
    "    df = dfinput[dfinput[\"BUSNAME\"].str.contains(\"|\".join(keywords[category]))]\n",
    "    #2.  remove the ones that contain the stop word\n",
    "    df = df[~df[\"BUSNAME\"].str.contains(\"|\".join(stopwords[category]))]\n",
    "    df = df[~df[\"CATEGORY\"].isin(stopcats)]\n",
    "    # 3. Find the CAI\n",
    "    caidf = df[df[\"BUSNAME\"].str.contains(\"|\".join(caikeys[category]))]\n",
    "    return caidf, df"
   ]
  },
  {
   "cell_type": "markdown",
   "id": "43d80512-6881-4882-a3ea-8cf270d21944",
   "metadata": {},
   "source": [
    "## CONVERT CSV to FEATHER format (for both attom and regrid)\n",
    "- run parallel csv2feather.py inside cmds.bash"
   ]
  },
  {
   "cell_type": "markdown",
   "id": "baef5780-d429-4caa-8f2c-acb2c7221a83",
   "metadata": {
    "tags": []
   },
   "source": [
    "## ATTOM\n"
   ]
  },
  {
   "cell_type": "markdown",
   "id": "d5cc6402-4955-4452-9b96-7c66adf3c02d",
   "metadata": {},
   "source": [
    "### download 16 raw files (monthly update) @ attom/attom-wget.bash\n"
   ]
  },
  {
   "cell_type": "markdown",
   "id": "53dcdffe-4926-49a1-b6c9-a354da82ad77",
   "metadata": {},
   "source": [
    "### Convert txt files inside ATTOM zips into small sf_x.ftr files"
   ]
  },
  {
   "cell_type": "code",
   "execution_count": 9,
   "id": "235540ac-dd48-4f99-b071-74821d68a353",
   "metadata": {
    "execution": {
     "iopub.execute_input": "2022-06-02T11:35:10.903605Z",
     "iopub.status.busy": "2022-06-02T11:35:10.903315Z",
     "iopub.status.idle": "2022-06-02T11:57:10.017192Z",
     "shell.execute_reply": "2022-06-02T11:57:10.016556Z",
     "shell.execute_reply.started": "2022-06-02T11:35:10.903582Z"
    },
    "tags": []
   },
   "outputs": [],
   "source": [
    "# CHUNK_SIZE = 150_000    \n",
    "\n",
    "# def process_chunk(file_source, chunk_order, chunk_df):\n",
    "#     chunk_df.set_index(\"SitusStateCode\", inplace=True)\n",
    "#     # only good keys\n",
    "#     present_sf = chunk_df.index.intersection(SF57R.keys())\n",
    "#     for sf in present_sf:\n",
    "#         name = f\"{sf}_F_{file_source}_C{CHUNK_SIZE}_{chunk_order}\" # all upper cases\n",
    "#         # print(file_source, chunk_order, chunk_df.shape, sf)\n",
    "#         # use .loc[[sf]] to get a DataFrame every time (.loc[sf] sometimes returns a Series, which doesn't have .to_feather method)\n",
    "#         chunk_df.loc[[sf]].reset_index(drop=True).to_feather(f'attom/data/attom-feather-temp/{name}.ftr')\n",
    "        \n",
    "# def process_zip(zpath): \n",
    "#     with ZF(zpath) as zfile_reader:\n",
    "#         for file in zfile_reader.namelist():\n",
    "#             if file.endswith('.txt'):\n",
    "#                 # print(f\"Parsing txt file {file} \\n\")\n",
    "#                 with zfile_reader.open(file) as reader:\n",
    "#                     chunks = pd.read_csv(reader, sep='\\t', \n",
    "#                                           dtype=str, # coerce all columns as str (slower), else pd fails to infer mix type columns\n",
    "#                                           quoting=3,  # QUOTE_NONE\n",
    "#                                           chunksize=CHUNK_SIZE,\n",
    "#                                           encoding = \"cp1252\", # 20min in: 'utf-8' codec can't decode byte 0x9d in position 194027: invalid start byte\n",
    "#                                           encoding_errors = \"replace\", \n",
    "#                                         )\n",
    "#                     file_source = file.split('.')[0].upper()\n",
    "#                     for chunk_order, chunk_df in enumerate(chunks):\n",
    "#                         process_chunk(file_source, chunk_order, chunk_df)\n",
    "\n",
    "                        \n",
    "# # v.0 full dataset (as oppose to delta files)\n",
    "# # Parsing all 16 zips take: 25 min!\n",
    "# zip_list = sorted(glob('attom/data/attom-zip/[0-9]*.zip'))\n",
    "# with Pool(16) as pool: # Execution started at 2022-06-02 18:35:10\n",
    "#     pool.map(process_zip, zip_list)                        "
   ]
  },
  {
   "cell_type": "markdown",
   "id": "50780e2d-682e-4ff1-9c30-2f003e355db8",
   "metadata": {},
   "source": [
    "## REGRID"
   ]
  },
  {
   "cell_type": "markdown",
   "id": "66287b60-be8b-44e6-92f4-560718c38c13",
   "metadata": {},
   "source": [
    "### Run parse-regrid.py inside cmds.bash"
   ]
  },
  {
   "cell_type": "code",
   "execution_count": null,
   "id": "853e55e4-b1c4-4b3f-ae3a-ea67762191a3",
   "metadata": {},
   "outputs": [],
   "source": [
    "# TODO: Rename (remove) regrid-temp .py and bash and log files and FOLDER"
   ]
  },
  {
   "cell_type": "markdown",
   "id": "8296b5fd-78c8-47a5-8c79-e744bf054aaf",
   "metadata": {},
   "source": [
    "# ATTOM state files"
   ]
  },
  {
   "cell_type": "code",
   "execution_count": 4,
   "id": "41a2f3c2-6d8e-4261-92c3-759e8970d612",
   "metadata": {
    "execution": {
     "iopub.execute_input": "2022-06-03T14:07:29.058218Z",
     "iopub.status.busy": "2022-06-03T14:07:29.057892Z",
     "iopub.status.idle": "2022-06-03T14:07:43.620173Z",
     "shell.execute_reply": "2022-06-03T14:07:43.619779Z",
     "shell.execute_reply.started": "2022-06-03T14:07:29.058196Z"
    },
    "tags": []
   },
   "outputs": [
    {
     "name": "stdout",
     "output_type": "stream",
     "text": [
      "1022\n"
     ]
    },
    {
     "data": {
      "text/plain": [
       "(3330480, 18)"
      ]
     },
     "execution_count": 4,
     "metadata": {},
     "output_type": "execute_result"
    }
   ],
   "source": [
    "def read_feather_parts(feather):\n",
    "    return pd.read_feather(feather, columns=attom_cols)\n",
    "\n",
    "sf_code = 'MO'\n",
    "list_of_feathers = glob(f\"attom/data/attom-feather/{sf_code}_*.ftr\")\n",
    "# @CHUNK_SIZE 150_000= 1022 chunks/files\n",
    "print(len(list_of_feathers)) \n",
    "with Pool(16) as pool:\n",
    "    attom = pool.map(read_feather_parts, list_of_feathers)\n",
    "    attom = pd.concat(attom, ignore_index=True)    \n",
    "attom.shape # (3_330_480, 18) in 15sec"
   ]
  },
  {
   "cell_type": "code",
   "execution_count": 5,
   "id": "1c52ec87-881e-48e1-bcc8-d089e7037f26",
   "metadata": {
    "execution": {
     "iopub.execute_input": "2022-06-03T14:07:55.498635Z",
     "iopub.status.busy": "2022-06-03T14:07:55.498028Z",
     "iopub.status.idle": "2022-06-03T14:07:57.317066Z",
     "shell.execute_reply": "2022-06-03T14:07:57.316605Z",
     "shell.execute_reply.started": "2022-06-03T14:07:55.498610Z"
    },
    "tags": []
   },
   "outputs": [],
   "source": [
    "attom = attom.rename(columns= {\n",
    "    '[ATTOM ID]': 'aid',\n",
    "    'PropertyAddressFull' : 'Address',\n",
    "    'LegalDescription' : 'Legal', \n",
    "    'ParcelNumberRaw' : 'Numb', \n",
    "    'PartyOwner1NameFull' : \"Owner\",\n",
    "    'PartyOwner2NameFull' : 'Owner2',\n",
    "    'PropertyAddressCity' : \"ACity\",\n",
    "    'PropertyAddressZIP' : 'AZip',\n",
    "    'PropertyLatitude' : 'Lat',\n",
    "    'PropertyLongitude' : 'Lon', \n",
    "})\n",
    "\n",
    "# only keep alphanumeric values; use to clean:\n",
    "# ['LegalDescription', 'ParcelNumberRaw'] and ['legaldesc', 'parcelnumb']\n",
    "keepchars = \"0123456789ABCDEFGHIJKLMNOPQRSTUVWXYZabcdefghijklmnopqrstuvwxyz\"\n",
    "del_chars = ''.join(c for c in map(chr, range(1114111)) if not c in set(keepchars))\n",
    "# convert lowercases to uppercases\n",
    "keepchars_table = str.maketrans(keepchars, keepchars.upper(), del_chars)\n",
    "# keepchars, len(keepchars), len(del_chars) # 1114049"
   ]
  },
  {
   "cell_type": "markdown",
   "id": "d6d0a27e-05b5-4b74-bd25-04f018be23fc",
   "metadata": {},
   "source": [
    "### Assemble Address1 and Address2"
   ]
  },
  {
   "cell_type": "code",
   "execution_count": 6,
   "id": "6b7773cf-0582-4144-a2c1-5df1bd7ef471",
   "metadata": {
    "execution": {
     "iopub.execute_input": "2022-06-03T14:08:01.141838Z",
     "iopub.status.busy": "2022-06-03T14:08:01.141557Z",
     "iopub.status.idle": "2022-06-03T14:08:10.274971Z",
     "shell.execute_reply": "2022-06-03T14:08:10.274503Z",
     "shell.execute_reply.started": "2022-06-03T14:08:01.141815Z"
    },
    "tags": []
   },
   "outputs": [],
   "source": [
    "# 10sec\n",
    "def addr_empty(*args):\n",
    "    args = [str(i).strip() for i in args]\n",
    "    return \" \".join(i for i in args if (i and i != 'nan' and i != 'None'))\n",
    "addr_empty_vectorize = np.vectorize(addr_empty)\n",
    "\n",
    "attom['Address1'] = addr_empty_vectorize(attom.PropertyAddressHouseNumber,\n",
    "    attom.PropertyAddressStreetDirection,\n",
    "    attom.PropertyAddressStreetName,\n",
    "    attom.PropertyAddressStreetSuffix,\n",
    "    attom.PropertyAddressStreetPostDirection)\n",
    "\n",
    "attom['AddressSub'] = addr_empty_vectorize(attom.PropertyAddressUnitPrefix,\n",
    "    attom.PropertyAddressUnitValue,)\n"
   ]
  },
  {
   "cell_type": "code",
   "execution_count": 7,
   "id": "c715d047-2340-4490-924e-58ec03ea3bca",
   "metadata": {
    "execution": {
     "iopub.execute_input": "2022-06-03T14:08:10.276299Z",
     "iopub.status.busy": "2022-06-03T14:08:10.275901Z",
     "iopub.status.idle": "2022-06-03T14:08:15.581597Z",
     "shell.execute_reply": "2022-06-03T14:08:15.581142Z",
     "shell.execute_reply.started": "2022-06-03T14:08:10.276280Z"
    },
    "tags": []
   },
   "outputs": [],
   "source": [
    "# DATA CLEANING; 12sec\n",
    "\n",
    "# # SLOWER 16sec\n",
    "# for col in ['Legal', 'Numb']:\n",
    "#     attom[col] = attom[col].fillna(\"\").replace('[^0-9a-zA-Z]+', \"\", regex = True)\n",
    "for col in ['Legal', 'Numb']:\n",
    "    attom[col] = attom[col].str.translate(keepchars_table)"
   ]
  },
  {
   "cell_type": "code",
   "execution_count": 8,
   "id": "80389b90-7fc8-40e6-b6b9-e3b8900c5a87",
   "metadata": {
    "execution": {
     "iopub.execute_input": "2022-06-03T14:08:15.582756Z",
     "iopub.status.busy": "2022-06-03T14:08:15.582387Z",
     "iopub.status.idle": "2022-06-03T14:08:25.858982Z",
     "shell.execute_reply": "2022-06-03T14:08:25.858522Z",
     "shell.execute_reply.started": "2022-06-03T14:08:15.582735Z"
    },
    "tags": []
   },
   "outputs": [],
   "source": [
    "for bad_value in [\"\", \"None\"]:\n",
    "    attom.replace(bad_value, np.nan, inplace = True)\n",
    "    \n",
    "# replace python NoneType with np.nan\n",
    "attom.fillna(np.nan, inplace=True) "
   ]
  },
  {
   "cell_type": "code",
   "execution_count": 9,
   "id": "d4aa0c37-e73b-4baa-85e2-167b8adf2e33",
   "metadata": {
    "execution": {
     "iopub.execute_input": "2022-06-03T14:08:27.388707Z",
     "iopub.status.busy": "2022-06-03T14:08:27.388417Z",
     "iopub.status.idle": "2022-06-03T14:08:34.807704Z",
     "shell.execute_reply": "2022-06-03T14:08:34.807307Z",
     "shell.execute_reply.started": "2022-06-03T14:08:27.388677Z"
    },
    "tags": []
   },
   "outputs": [
    {
     "name": "stdout",
     "output_type": "stream",
     "text": [
      "(0, 20)\n",
      "(580, 20)\n"
     ]
    },
    {
     "data": {
      "text/plain": [
       "True"
      ]
     },
     "execution_count": 9,
     "metadata": {},
     "output_type": "execute_result"
    }
   ],
   "source": [
    "cols = [\"Lat\", \"Lon\"]\n",
    "attom[cols] = attom[cols].astype(float)\n",
    "\n",
    "# 0 if ~Addr, then subAddr \n",
    "print(attom.query(\"Address != Address & PropertyAddressStreetName == PropertyAddressStreetName\").shape)\n",
    "# 580 some Addr, but ~subAddr\n",
    "print(attom.query(\"Address == Address & PropertyAddressStreetName != PropertyAddressStreetName\").shape)\n",
    "\n",
    "# Deal with bad raw data= If Address1 null, set addr = address1\n",
    "attom['Address1'] = np.where(\n",
    "    attom.Address.notna() & attom.Address1.isna(), \n",
    "    attom['Address'], attom['Address1'])\n",
    "# If addr1 = addr, set addr2 = empty\n",
    "attom['AddressSub'] = np.where(\n",
    "    attom.Address == attom.Address1, \n",
    "    np.nan, attom['AddressSub'])\n",
    "\n",
    "\n",
    "attom_addr_cols = [\n",
    "    'Address','Address1', 'AddressSub',\n",
    "    'PropertyAddressHouseNumber','PropertyAddressStreetDirection',\n",
    "    'PropertyAddressStreetName','PropertyAddressStreetPostDirection',\n",
    "    'PropertyAddressStreetSuffix','PropertyAddressUnitPrefix','PropertyAddressUnitValue',\n",
    "]\n",
    "\n",
    "# Sanity check: when Address is null, no other addr subfields exist!\n",
    "set(attom.query(\"Address != Address\")[attom_addr_cols].count()) == {0} # exp: True\n"
   ]
  },
  {
   "cell_type": "markdown",
   "id": "dd8c5db1-ee51-4ad5-a3a0-e703726b5848",
   "metadata": {},
   "source": [
    "# REGRID state files"
   ]
  },
  {
   "cell_type": "markdown",
   "id": "f53ff907-be67-4f0b-aa39-ae70ef142cb7",
   "metadata": {},
   "source": [
    "# Read feather parts"
   ]
  },
  {
   "cell_type": "code",
   "execution_count": 10,
   "id": "14c647df-dba9-4eca-a625-e03d3c7d0551",
   "metadata": {
    "execution": {
     "iopub.execute_input": "2022-06-03T14:09:41.878209Z",
     "iopub.status.busy": "2022-06-03T14:09:41.877903Z",
     "iopub.status.idle": "2022-06-03T14:09:55.420512Z",
     "shell.execute_reply": "2022-06-03T14:09:55.420096Z",
     "shell.execute_reply.started": "2022-06-03T14:09:41.878185Z"
    },
    "tags": []
   },
   "outputs": [
    {
     "name": "stdout",
     "output_type": "stream",
     "text": [
      "1022\n"
     ]
    },
    {
     "data": {
      "text/plain": [
       "(3219695, 17)"
      ]
     },
     "execution_count": 10,
     "metadata": {},
     "output_type": "execute_result"
    }
   ],
   "source": [
    "def read_regrid_feather_parts(feather):\n",
    "    return pd.read_feather(feather, columns=regrid_cols)\n",
    "\n",
    "sf_code = 'mo'\n",
    "list_of_regrid_feathers = glob(f\"attom/data/regrid-feather/{sf_code}_*.ftr\")\n",
    "# at REGRID_CHUNK_SIZE = 80_000 len=1022 (1022 chunks)\n",
    "print(len(list_of_feathers)) \n",
    "with Pool(16) as pool:\n",
    "    regrid = pool.map(read_regrid_feather_parts, list_of_regrid_feathers)\n",
    "    regrid = pd.concat(regrid, ignore_index=True)    \n",
    "regrid.shape # (3330480, 18) in 15sec ## NEW as of Jun3, (3_219_695, 17)\n"
   ]
  },
  {
   "cell_type": "code",
   "execution_count": 11,
   "id": "a5ab9c4c-6918-4c2c-988f-66013522c0a4",
   "metadata": {
    "execution": {
     "iopub.execute_input": "2022-06-03T14:11:51.666695Z",
     "iopub.status.busy": "2022-06-03T14:11:51.666356Z",
     "iopub.status.idle": "2022-06-03T14:11:59.774052Z",
     "shell.execute_reply": "2022-06-03T14:11:59.773640Z",
     "shell.execute_reply.started": "2022-06-03T14:11:51.666669Z"
    },
    "tags": []
   },
   "outputs": [
    {
     "name": "stdout",
     "output_type": "stream",
     "text": [
      "(3219695, 17) <class 'pandas.core.frame.DataFrame'>\n",
      "(212, 17)\n",
      "(13, 17)\n",
      "(3291, 17)\n"
     ]
    }
   ],
   "source": [
    "# # TODO as needed: if regrid_cols includes 'geom' column, then: CONVERT geom TO geopandas geometry column \n",
    "# # NOTE: geom = wkt string/object type, while geometry is geopandas geometry type!\n",
    "# regrid['geometry'] = gp.GeoSeries.from_wkt(regrid.geom, crs = CRS_REGRID_PARCELS)\n",
    "# regrid = gp.GeoDataFrame(regrid, geometry='geometry')\n",
    "\n",
    "# adressSub is the SUBUNIT or secondary address line!\n",
    "regrid.rename(columns={'ll_uuid' : 'rid', 'sunit' : 'addressSub'}, inplace=True)\n",
    "print(regrid.shape, type(regrid)) # (3_218_103, 17) New, as of May31 and Jun3: (3_219_695, 17)\n",
    "\n",
    "regrid_addr_cols = ['address', 'address1', 'addressSub', 'saddno', 'saddpref', \n",
    "                    'saddstr', 'saddsttyp', 'saddstsuf',  'scity', ]\n",
    "\n",
    "\n",
    "# replace python NoneType with np.nan\n",
    "regrid.fillna(np.nan, inplace=True) \n",
    "\n",
    "# Ignore small bad data: Only a few parcels with multiple alternative addresses; can ignore\n",
    "print(regrid.query(\"address == address & address2 == address2\").shape)\n",
    "\n",
    "# Fix small Bad data: paste address2 to adress (7, 17)\n",
    "print(regrid.query(\"address != address & address2 == address2\").shape)\n",
    "regrid['address'] = np.where(regrid['address'].isna() & regrid['address2'].notna(),\n",
    "                             regrid['address2'], regrid['address'])\n",
    "\n",
    "\n",
    "mask = regrid.address.isin(['NO ADDRESS ASSIGNED BY COUNTY', \n",
    "                            'No Situs Address'])\n",
    "# Fix bad bad data\n",
    "print(regrid.loc[mask].shape) # (3_291, 17)\n",
    "regrid.loc[mask, \n",
    "    ['address', 'addressSub', 'saddno', 'address2',  \n",
    "     'saddpref', 'saddstr', 'saddsttyp', 'saddstsuf' ]] = np.nan\n",
    "\n",
    "# regrid.loc[mask].shape # NOTE: still returns (5894, 17): avoid using the old mask\n"
   ]
  },
  {
   "cell_type": "markdown",
   "id": "383f1828-c2c8-40b9-ae9b-cccc67b25936",
   "metadata": {},
   "source": [
    "### Assemble address1 component"
   ]
  },
  {
   "cell_type": "code",
   "execution_count": 12,
   "id": "096b9779-aff0-4f97-aaea-78e9af66d61a",
   "metadata": {
    "execution": {
     "iopub.execute_input": "2022-06-03T14:13:00.158682Z",
     "iopub.status.busy": "2022-06-03T14:13:00.158371Z",
     "iopub.status.idle": "2022-06-03T14:13:07.231071Z",
     "shell.execute_reply": "2022-06-03T14:13:07.230646Z",
     "shell.execute_reply.started": "2022-06-03T14:13:00.158660Z"
    },
    "tags": []
   },
   "outputs": [
    {
     "name": "stdout",
     "output_type": "stream",
     "text": [
      "(0, 18)\n"
     ]
    }
   ],
   "source": [
    "regrid['address1'] = addr_empty_vectorize(regrid.saddno,\n",
    "regrid.saddpref, regrid.saddstr, regrid.saddsttyp, regrid.saddstsuf)\n",
    "\n",
    "regrid.address1.replace(\"\", np.nan, inplace=True)\n",
    "\n",
    "# If there are no address, and address1, there should be no addressSub i.e. exp. (0, 18)\n",
    "print(regrid.loc[regrid.address.isna() \n",
    "                 & regrid.address1.isna() & regrid.addressSub.notna()].shape)"
   ]
  },
  {
   "cell_type": "code",
   "execution_count": 13,
   "id": "7a856b9f-8818-402f-811f-bc287ff5a397",
   "metadata": {
    "execution": {
     "iopub.execute_input": "2022-06-03T14:13:39.391661Z",
     "iopub.status.busy": "2022-06-03T14:13:39.391361Z",
     "iopub.status.idle": "2022-06-03T14:13:53.268811Z",
     "shell.execute_reply": "2022-06-03T14:13:53.268342Z",
     "shell.execute_reply.started": "2022-06-03T14:13:39.391639Z"
    },
    "tags": []
   },
   "outputs": [
    {
     "name": "stdout",
     "output_type": "stream",
     "text": [
      "(60785,)\n",
      "(16326, 18)\n"
     ]
    }
   ],
   "source": [
    "# CLEAN MANY BAD raw data: #60_785 (~address & address1)  , \n",
    "# paste address1 into address\n",
    "print(regrid.loc[regrid.address.isna() & regrid.address1.notna(), \n",
    "    \"address\"].shape)\n",
    "regrid.loc[regrid.address.isna() & regrid.address1.notna(), \n",
    "    \"address\"] = regrid.address1\n",
    "\n",
    "# CLEAN MANY BAD raw data #(16_326, 18) (address & ~subAddrFields): \n",
    "# here, address are all garbage!! and subAddr all None -- \n",
    "# can safely wipe the address field\n",
    "# Rather None than garbage\n",
    "print(regrid.query(\"address == address & address1 != address1 & addressSub != addressSub\").shape)\n",
    "regrid.loc[regrid.address.notna() & regrid.address1.isna() & regrid.address1.isna(), \n",
    "          ['address', 'address1', 'addressSub',]] = np.nan\n",
    "\n",
    "\n",
    "# ### Clean REGRID provided szip : # e.g. 48103, 48104-3423 (keeps the first 5 digits)\n",
    "# \\D Matches any character which is not a decimal digit. \n",
    "regrid['szip'] = regrid.szip.str.replace(r'\\D+', '', regex = True).str[:5]\n",
    "# Replace invalid szip (not enough 5 digits) values with nan\n",
    "regrid.szip.mask(regrid.szip.str.len() != 5, inplace=True)\n",
    "    \n",
    "# Coords should have float types\n",
    "cols = ['lat', 'lon',]\n",
    "regrid[cols] = regrid[cols].astype(float)\n",
    "\n",
    "# DATA CLEANING \n",
    "cols = ['legaldesc', 'parcelnumb']\n",
    "for col in cols:\n",
    "    regrid[col] = regrid[col].str.translate(keepchars_table)\n",
    "\n",
    "\n",
    "# After this, legaldesc and parcelnumb could be \"\"\n",
    "regrid.replace(\"\", np.nan, inplace=True)"
   ]
  },
  {
   "cell_type": "code",
   "execution_count": 17,
   "id": "612d4641-1f99-4cb1-a3cc-d9d195ea1df5",
   "metadata": {
    "execution": {
     "iopub.execute_input": "2022-06-03T14:16:23.561938Z",
     "iopub.status.busy": "2022-06-03T14:16:23.561348Z",
     "iopub.status.idle": "2022-06-03T14:16:31.761198Z",
     "shell.execute_reply": "2022-06-03T14:16:31.760728Z",
     "shell.execute_reply.started": "2022-06-03T14:16:23.561912Z"
    }
   },
   "outputs": [],
   "source": [
    "print(all_possible_bad_values) # + ['NO ADDRESS ASSIGNED BY COUNTY', \"UNAVAILABLE\"] + more\n",
    "\n",
    "for bad_value in all_possible_bad_values:\n",
    "    regrid.replace(bad_value, np.nan, inplace = True)"
   ]
  },
  {
   "cell_type": "code",
   "execution_count": 19,
   "id": "b448cb59-8441-4de7-90f6-43b8a71e4251",
   "metadata": {
    "execution": {
     "iopub.execute_input": "2022-06-03T14:17:21.441858Z",
     "iopub.status.busy": "2022-06-03T14:17:21.441557Z",
     "iopub.status.idle": "2022-06-03T14:17:21.466058Z",
     "shell.execute_reply": "2022-06-03T14:17:21.465674Z",
     "shell.execute_reply.started": "2022-06-03T14:17:21.441836Z"
    },
    "tags": []
   },
   "outputs": [
    {
     "data": {
      "text/plain": [
       "True"
      ]
     },
     "execution_count": 19,
     "metadata": {},
     "output_type": "execute_result"
    }
   ],
   "source": [
    "s = regrid[['lat', 'lon']].isna().sum()\n",
    "(s.lat, s.lon) == (0, 0) # expected True"
   ]
  },
  {
   "cell_type": "markdown",
   "id": "71a6476b-eea5-4d39-b78a-eb3636157abc",
   "metadata": {},
   "source": [
    "## Add h3 hex column[s] to REGRID and ATTOM\n"
   ]
  },
  {
   "cell_type": "code",
   "execution_count": 20,
   "id": "49a55703-11c5-47f7-9c6e-0e3eb0e8d099",
   "metadata": {
    "execution": {
     "iopub.execute_input": "2022-06-03T14:17:28.346466Z",
     "iopub.status.busy": "2022-06-03T14:17:28.346160Z",
     "iopub.status.idle": "2022-06-03T14:17:53.156352Z",
     "shell.execute_reply": "2022-06-03T14:17:53.155979Z",
     "shell.execute_reply.started": "2022-06-03T14:17:28.346444Z"
    },
    "tags": []
   },
   "outputs": [
    {
     "data": {
      "text/plain": [
       "({False}, {False})"
      ]
     },
     "execution_count": 20,
     "metadata": {},
     "output_type": "execute_result"
    }
   ],
   "source": [
    "for res in [7, 13]:\n",
    "    # res 7 = length=15, last 6 chars = ffffff; area~5 km2\n",
    "    # MO 24sec\n",
    "    attom[f'ahex{res}']= gen_h3_hex(attom['Lat'], attom['Lon'],  res)\n",
    "    regrid[f'rhex{res}']= gen_h3_hex(regrid['lat'], regrid['lon'],  res)\n",
    "\n",
    "\n",
    "# NOTE: ATTOM contains null lat/lon rows, whose h3hex = \"0\"\n",
    "attom.groupby(\"ahex7\").size()[0] # 6669\n",
    "\n",
    "# dup columns check\n",
    "set(attom.columns.duplicated()), set(regrid.columns.duplicated())"
   ]
  },
  {
   "cell_type": "markdown",
   "id": "f01e20e4-31ff-4b73-bdf0-cd12f82eb0ec",
   "metadata": {},
   "source": [
    "# MERGING ATTOM <> REGRID"
   ]
  },
  {
   "cell_type": "code",
   "execution_count": 22,
   "id": "f300ac85-f267-4879-b849-15c54d3c3592",
   "metadata": {
    "execution": {
     "iopub.execute_input": "2022-06-03T14:24:04.764387Z",
     "iopub.status.busy": "2022-06-03T14:24:04.764093Z",
     "iopub.status.idle": "2022-06-03T14:24:04.768074Z",
     "shell.execute_reply": "2022-06-03T14:24:04.767714Z",
     "shell.execute_reply.started": "2022-06-03T14:24:04.764366Z"
    },
    "tags": []
   },
   "outputs": [
    {
     "data": {
      "text/plain": [
       "((3330480, 22), (3219695, 20), set())"
      ]
     },
     "execution_count": 22,
     "metadata": {},
     "output_type": "execute_result"
    }
   ],
   "source": [
    "# MO: ((3_330_480, 22) <> (3_219_695, 20)): attom has more parcels; set() == no shared column \n",
    "attom.shape, regrid.shape, set(attom).intersection(set(regrid))"
   ]
  },
  {
   "cell_type": "markdown",
   "id": "b2590f45-6914-491b-9f12-5a5bb8acf876",
   "metadata": {},
   "source": [
    "# 1. matching unique LegalDesc\n",
    "- MO: 50% matched!"
   ]
  },
  {
   "cell_type": "code",
   "execution_count": 23,
   "id": "93fefff5-ec34-4e7f-91ea-83779218fac7",
   "metadata": {
    "execution": {
     "iopub.execute_input": "2022-06-03T14:24:11.682693Z",
     "iopub.status.busy": "2022-06-03T14:24:11.682399Z",
     "iopub.status.idle": "2022-06-03T14:24:22.079499Z",
     "shell.execute_reply": "2022-06-03T14:24:22.079119Z",
     "shell.execute_reply.started": "2022-06-03T14:24:11.682672Z"
    },
    "tags": []
   },
   "outputs": [
    {
     "data": {
      "text/plain": [
       "(1604138, 42)"
      ]
     },
     "execution_count": 23,
     "metadata": {},
     "output_type": "execute_result"
    }
   ],
   "source": [
    "# IMPORTANT: first, drop the duplicate values\n",
    "regrid_legal_uniq = regrid.drop_duplicates(subset='legaldesc', keep=False)\n",
    "attom_legal_uniq = attom.drop_duplicates(subset='Legal', keep=False)\n",
    "legal_matched = attom_legal_uniq.merge(regrid_legal_uniq, left_on = 'Legal', right_on = 'legaldesc', how = 'inner')\n",
    "del regrid_legal_uniq, attom_legal_uniq\n",
    "# MO (1_620_809, 42), as of Jun3 (1_604_138, 42)\n",
    "legal_matched.shape"
   ]
  },
  {
   "cell_type": "markdown",
   "id": "ffe2384d-27ce-42dd-8eb7-8153e8112bd4",
   "metadata": {},
   "source": [
    "### Find OUTLIERS within legal_matched i.e. identify unmatched (parcelnum/owner/addr/hex)¶\n"
   ]
  },
  {
   "cell_type": "code",
   "execution_count": 24,
   "id": "3cfced85-6d74-4a8c-91cb-990e91a00b14",
   "metadata": {
    "execution": {
     "iopub.execute_input": "2022-06-03T14:24:37.988022Z",
     "iopub.status.busy": "2022-06-03T14:24:37.987723Z",
     "iopub.status.idle": "2022-06-03T14:24:55.783297Z",
     "shell.execute_reply": "2022-06-03T14:24:55.782903Z",
     "shell.execute_reply.started": "2022-06-03T14:24:37.987999Z"
    },
    "tags": []
   },
   "outputs": [
    {
     "name": "stdout",
     "output_type": "stream",
     "text": [
      "(102, 45)\n"
     ]
    },
    {
     "data": {
      "text/html": [
       "<div>\n",
       "<style scoped>\n",
       "    .dataframe tbody tr th:only-of-type {\n",
       "        vertical-align: middle;\n",
       "    }\n",
       "\n",
       "    .dataframe tbody tr th {\n",
       "        vertical-align: top;\n",
       "    }\n",
       "\n",
       "    .dataframe thead th {\n",
       "        text-align: right;\n",
       "    }\n",
       "</style>\n",
       "<table border=\"1\" class=\"dataframe\">\n",
       "  <thead>\n",
       "    <tr style=\"text-align: right;\">\n",
       "      <th></th>\n",
       "      <th>owner</th>\n",
       "      <th>owner2</th>\n",
       "      <th>Owner</th>\n",
       "      <th>Owner2</th>\n",
       "      <th>address1</th>\n",
       "      <th>Address1</th>\n",
       "      <th>parcelnumb</th>\n",
       "      <th>Numb</th>\n",
       "    </tr>\n",
       "  </thead>\n",
       "  <tbody>\n",
       "    <tr>\n",
       "      <th>880056</th>\n",
       "      <td>THURMAN, BILLY B &amp; WANDA</td>\n",
       "      <td>NaN</td>\n",
       "      <td>ALLISON DEANNA ANNETTE JONES</td>\n",
       "      <td>NaN</td>\n",
       "      <td>1336 MADISON 531</td>\n",
       "      <td>ROAD 718</td>\n",
       "      <td>039029000000008000</td>\n",
       "      <td>170902900000013000000</td>\n",
       "    </tr>\n",
       "    <tr>\n",
       "      <th>1156201</th>\n",
       "      <td>GUERRERO, JUAN &amp; DEBRA WILKINSON</td>\n",
       "      <td>NaN</td>\n",
       "      <td>BANK OF NY MELLON 2003-1 TR</td>\n",
       "      <td>NaN</td>\n",
       "      <td>3336 PENNSYLVANIA AVE</td>\n",
       "      <td>3336-3338 PENNSYLVANIA AVE</td>\n",
       "      <td>11507000020</td>\n",
       "      <td>15070000200</td>\n",
       "    </tr>\n",
       "    <tr>\n",
       "      <th>535591</th>\n",
       "      <td>PEMBROKE TRUSTEES</td>\n",
       "      <td>NaN</td>\n",
       "      <td>JAMES BUCK</td>\n",
       "      <td>DENISE BUCK</td>\n",
       "      <td>7 LAKE PEMBROKE DR</td>\n",
       "      <td>6121 TERRI LYNN CT</td>\n",
       "      <td>10J320395</td>\n",
       "      <td>24J330807</td>\n",
       "    </tr>\n",
       "  </tbody>\n",
       "</table>\n",
       "</div>"
      ],
      "text/plain": [
       "                                    owner owner2  \\\n",
       "880056           THURMAN, BILLY B & WANDA    NaN   \n",
       "1156201  GUERRERO, JUAN & DEBRA WILKINSON    NaN   \n",
       "535591                  PEMBROKE TRUSTEES    NaN   \n",
       "\n",
       "                                Owner       Owner2               address1  \\\n",
       "880056   ALLISON DEANNA ANNETTE JONES          NaN       1336 MADISON 531   \n",
       "1156201   BANK OF NY MELLON 2003-1 TR          NaN  3336 PENNSYLVANIA AVE   \n",
       "535591                     JAMES BUCK  DENISE BUCK     7 LAKE PEMBROKE DR   \n",
       "\n",
       "                           Address1          parcelnumb                   Numb  \n",
       "880056                     ROAD 718  039029000000008000  170902900000013000000  \n",
       "1156201  3336-3338 PENNSYLVANIA AVE         11507000020            15070000200  \n",
       "535591           6121 TERRI LYNN CT           10J320395              24J330807  "
      ]
     },
     "execution_count": 24,
     "metadata": {},
     "output_type": "execute_result"
    }
   ],
   "source": [
    "# 13sec\n",
    "# Create new column that compares owner <> Owner\n",
    "legal_matched['owner_compare'] = owner_compare(legal_matched, 'owner', 'Owner')\n",
    "\n",
    "#### Exception/outliers: forward to Placekey check phase\n",
    "legal_diff = legal_matched.query(\n",
    "    # has parcelnumb # (521640, 45)\n",
    "    \"~parcelnumb.isna() & ~Numb.isna() & parcelnumb != Numb\" \n",
    "    # # has addresses # (35938, 45)\n",
    "    \"& ~address.isna() & ~Address.isna() & address != Address\"\n",
    "    \"& ~address1.isna() & ~Address1.isna() & address1 != Address1\"\n",
    "    # # has coords iff hex != \"0\" i.e. different county (area ~5km2) vicinity # (526, 45)\n",
    "    \"& rhex7 != '0' & ahex7 != '0' & rhex7 != ahex7\" \n",
    "    # # has owner and Owner # (88, 45)\n",
    "    \"& ~owner.isna() & ~Owner.isna() & (~owner_compare)\"    \n",
    ", engine = \"python\")\n",
    "\n",
    "print(legal_diff.shape) # (87, 45), as of Jun3 (102, 45)\n",
    "legal_diff[[ 'owner', 'owner2',  'Owner', 'Owner2', 'address1', 'Address1', 'parcelnumb', 'Numb',\n",
    "            ]].sample(3)"
   ]
  },
  {
   "cell_type": "markdown",
   "id": "d7d561ac-5d15-4aa0-8499-9d3661d3833c",
   "metadata": {},
   "source": [
    "### QUICK ASIDE: Compare ahex7 <> rhex7\n"
   ]
  },
  {
   "cell_type": "code",
   "execution_count": 25,
   "id": "b66f837e-40aa-4790-b399-aed4032675bb",
   "metadata": {
    "execution": {
     "iopub.execute_input": "2022-06-03T14:25:11.660379Z",
     "iopub.status.busy": "2022-06-03T14:25:11.660070Z",
     "iopub.status.idle": "2022-06-03T14:25:11.666199Z",
     "shell.execute_reply": "2022-06-03T14:25:11.665816Z",
     "shell.execute_reply.started": "2022-06-03T14:25:11.660356Z"
    },
    "tags": []
   },
   "outputs": [
    {
     "name": "stdout",
     "output_type": "stream",
     "text": [
      "(81, 45)\n"
     ]
    }
   ],
   "source": [
    "# ASIDE: There are adjacent hex inside the unidentical hex set\n",
    "legal_diff2 = legal_diff[~h3_nei_vector(legal_diff.ahex7, legal_diff.rhex7)] \n",
    "print(legal_diff2.shape) # (59, 45)"
   ]
  },
  {
   "cell_type": "code",
   "execution_count": 26,
   "id": "2a059bd0-5086-495a-bbf0-0ea367387920",
   "metadata": {
    "execution": {
     "iopub.execute_input": "2022-06-03T14:25:12.790582Z",
     "iopub.status.busy": "2022-06-03T14:25:12.790256Z",
     "iopub.status.idle": "2022-06-03T14:25:13.446355Z",
     "shell.execute_reply": "2022-06-03T14:25:13.445912Z",
     "shell.execute_reply.started": "2022-06-03T14:25:12.790560Z"
    },
    "tags": []
   },
   "outputs": [
    {
     "name": "stdout",
     "output_type": "stream",
     "text": [
      "(11680, 45) (6526, 45)\n"
     ]
    }
   ],
   "source": [
    "### Identify unidentical hex7\n",
    "# # MO: ~12k unidentical hex7\n",
    "unidentical_hex = legal_matched[\n",
    "    (legal_matched.ahex7 != \"0\")\n",
    "    & (legal_matched.rhex7 != \"0\")\n",
    "    & (legal_matched.ahex7 != legal_matched.rhex7)\n",
    "]\n",
    "\n",
    "### Identify non-neighboring hex7\n",
    "## MO: ~7k unidentical and non-neigboring hex\n",
    "non_nei_hex = unidentical_hex[\n",
    "    ~h3_nei_vector(unidentical_hex.ahex7, unidentical_hex.rhex7)]\n",
    "# (11861, 45) (6639, 45), jun3 (11680, 45) (6526, 45)\n",
    "print(unidentical_hex.shape, non_nei_hex.shape)\n",
    "del unidentical_hex, non_nei_hex"
   ]
  },
  {
   "cell_type": "markdown",
   "id": "23683e79-15c4-4c2c-ab6f-0e2764425f3d",
   "metadata": {},
   "source": [
    "### CONCLUSION: legal_matched: for MO:\n",
    "- all matched! except mlegal_uloc\n",
    "- REGRID <> ATTOM: diff geocoders that generate diff coords, thus diff hex7\n",
    "- REGRID coords and geocoder seem to be more accurate\n",
    "- readyLegalDesc = REGRID/ATTOM (matched) .legaldesc\n",
    "- readyAddr = REGRID .address\n",
    "- readyAddrLat, Lon = REGIRD coords\n"
   ]
  },
  {
   "cell_type": "markdown",
   "id": "26af4885-7fcf-4295-99a3-0c5a1e7a437a",
   "metadata": {},
   "source": [
    "# 2. matching ParcelNumber"
   ]
  },
  {
   "cell_type": "code",
   "execution_count": 27,
   "id": "810c13b7-37bb-42ae-a19c-df394597136f",
   "metadata": {
    "execution": {
     "iopub.execute_input": "2022-06-03T14:25:28.284858Z",
     "iopub.status.busy": "2022-06-03T14:25:28.284546Z",
     "iopub.status.idle": "2022-06-03T14:25:40.229014Z",
     "shell.execute_reply": "2022-06-03T14:25:40.228620Z",
     "shell.execute_reply.started": "2022-06-03T14:25:28.284835Z"
    },
    "tags": []
   },
   "outputs": [
    {
     "data": {
      "text/plain": [
       "((3219695, 20), (3330480, 22), (1604138, 45), (1207963, 42))"
      ]
     },
     "execution_count": 27,
     "metadata": {},
     "output_type": "execute_result"
    }
   ],
   "source": [
    "# attom2 and regrid2: all rows that have not been legal matched!\n",
    "attom2 = attom[~attom.aid.isin(set(legal_matched.aid))]\n",
    "regrid2 = regrid[~regrid.rid.isin(set(legal_matched.rid))]\n",
    "\n",
    "# IMPORTANT: first, drop the duplicate values\n",
    "regrid_parcelnumb = regrid2.drop_duplicates(subset='parcelnumb', keep=False)\n",
    "attom_parcelnumb = attom2.drop_duplicates(subset='Numb', keep=False)\n",
    "# MERGE\n",
    "num_matched = attom_parcelnumb.merge(regrid_parcelnumb, left_on = 'Numb', right_on = 'parcelnumb', how = 'inner')\n",
    "del regrid2, attom2, regrid_parcelnumb, attom_parcelnumb\n",
    "# ((3218103, 20), (3330480, 22), (1620809, 45), (1192868, 42))\n",
    "# jun3 ((3219695, 20), (3330480, 22), (1604138, 45), (1207963, 42))\n",
    "regrid.shape, attom.shape, legal_matched.shape, num_matched.shape"
   ]
  },
  {
   "cell_type": "markdown",
   "id": "7d3fad90-014a-4bb6-bc5d-a59ad4163784",
   "metadata": {},
   "source": [
    "### Within parcelnumb_matched, identify unmatched (legaldesc/owner/address/hex)"
   ]
  },
  {
   "cell_type": "code",
   "execution_count": 28,
   "id": "31987ef4-9aeb-4fad-ac21-8e766dee5d59",
   "metadata": {
    "execution": {
     "iopub.execute_input": "2022-06-03T14:25:53.496711Z",
     "iopub.status.busy": "2022-06-03T14:25:53.496395Z",
     "iopub.status.idle": "2022-06-03T14:26:06.894407Z",
     "shell.execute_reply": "2022-06-03T14:26:06.893999Z",
     "shell.execute_reply.started": "2022-06-03T14:25:53.496689Z"
    },
    "tags": []
   },
   "outputs": [
    {
     "data": {
      "text/plain": [
       "((1207963, 45), (95758, 45))"
      ]
     },
     "execution_count": 28,
     "metadata": {},
     "output_type": "execute_result"
    }
   ],
   "source": [
    "# Create new column that compares owner <> Owner\n",
    "num_matched['owner_compare'] = owner_compare(num_matched, 'owner', 'Owner')\n",
    "# (95_758, 45))\n",
    "num_matched.query(\"owner_compare == False\").shape"
   ]
  },
  {
   "cell_type": "code",
   "execution_count": 29,
   "id": "ee2dc9e8-d5a1-4878-a78e-b2f584b7b49c",
   "metadata": {
    "execution": {
     "iopub.execute_input": "2022-06-03T14:26:06.895497Z",
     "iopub.status.busy": "2022-06-03T14:26:06.895288Z",
     "iopub.status.idle": "2022-06-03T14:26:08.260552Z",
     "shell.execute_reply": "2022-06-03T14:26:08.260190Z",
     "shell.execute_reply.started": "2022-06-03T14:26:06.895479Z"
    },
    "tags": []
   },
   "outputs": [
    {
     "name": "stdout",
     "output_type": "stream",
     "text": [
      "(140, 45)\n"
     ]
    },
    {
     "data": {
      "text/html": [
       "<div>\n",
       "<style scoped>\n",
       "    .dataframe tbody tr th:only-of-type {\n",
       "        vertical-align: middle;\n",
       "    }\n",
       "\n",
       "    .dataframe tbody tr th {\n",
       "        vertical-align: top;\n",
       "    }\n",
       "\n",
       "    .dataframe thead th {\n",
       "        text-align: right;\n",
       "    }\n",
       "</style>\n",
       "<table border=\"1\" class=\"dataframe\">\n",
       "  <thead>\n",
       "    <tr style=\"text-align: right;\">\n",
       "      <th></th>\n",
       "      <th>owner</th>\n",
       "      <th>owner2</th>\n",
       "      <th>Owner</th>\n",
       "      <th>Owner2</th>\n",
       "      <th>address1</th>\n",
       "      <th>Address1</th>\n",
       "    </tr>\n",
       "  </thead>\n",
       "  <tbody>\n",
       "    <tr>\n",
       "      <th>980148</th>\n",
       "      <td>SCHNELL CONSTRUCTION LLC</td>\n",
       "      <td>NaN</td>\n",
       "      <td>AIMEE E CONNORS</td>\n",
       "      <td>NaN</td>\n",
       "      <td>1355 1357 LANTERN POINTE</td>\n",
       "      <td>1355 LANTERN POINTE DR</td>\n",
       "    </tr>\n",
       "    <tr>\n",
       "      <th>285508</th>\n",
       "      <td>SCHNEIDER, GARY L &amp; JESSICA M</td>\n",
       "      <td>NaN</td>\n",
       "      <td>JEFFREY L STRIKE</td>\n",
       "      <td>NaN</td>\n",
       "      <td>440 PUTT-N-BAY DR</td>\n",
       "      <td>438 PUTT N BAY DR</td>\n",
       "    </tr>\n",
       "    <tr>\n",
       "      <th>141580</th>\n",
       "      <td>BERTELLI, BRETT L &amp; DANA L</td>\n",
       "      <td>NaN</td>\n",
       "      <td>CLIFFORD JAMES NOBLE</td>\n",
       "      <td>NaN</td>\n",
       "      <td>W CEDAR ST</td>\n",
       "      <td>945 W CEDAR ST</td>\n",
       "    </tr>\n",
       "  </tbody>\n",
       "</table>\n",
       "</div>"
      ],
      "text/plain": [
       "                                owner owner2                 Owner Owner2  \\\n",
       "980148       SCHNELL CONSTRUCTION LLC    NaN       AIMEE E CONNORS    NaN   \n",
       "285508  SCHNEIDER, GARY L & JESSICA M    NaN      JEFFREY L STRIKE    NaN   \n",
       "141580     BERTELLI, BRETT L & DANA L    NaN  CLIFFORD JAMES NOBLE    NaN   \n",
       "\n",
       "                        address1                Address1  \n",
       "980148  1355 1357 LANTERN POINTE  1355 LANTERN POINTE DR  \n",
       "285508         440 PUTT-N-BAY DR       438 PUTT N BAY DR  \n",
       "141580                W CEDAR ST          945 W CEDAR ST  "
      ]
     },
     "execution_count": 29,
     "metadata": {},
     "output_type": "execute_result"
    }
   ],
   "source": [
    "num_diff = num_matched.query(\n",
    "       \"address.notna() & Address.notna() & address != Address\" # (86667, 42)\n",
    "       \"& address1.notna() & Address1.notna() & address1 != Address1\" \n",
    "\n",
    "        # # has coords iff hex != \"0\" i.e. different county (area ~5km2) vicinity # (580, 45)\n",
    "        \"& rhex7 != '0' & ahex7 != '0' & rhex7 != ahex7\" \n",
    "        # # has owner and Owner # (112, 45)\n",
    "        \"& ~owner.isna() & ~Owner.isna() & (~owner_compare)\"      \n",
    ", engine = \"python\")\n",
    "print(num_diff.shape) # (112, 45); jun3 (140, 45)\n",
    "\n",
    "num_diff[['owner', 'owner2', 'Owner', 'Owner2', 'address1', 'Address1',]].sample(3)"
   ]
  },
  {
   "cell_type": "code",
   "execution_count": 30,
   "id": "e3082f65-1dd6-4ed8-93a8-893ce88082a5",
   "metadata": {
    "execution": {
     "iopub.execute_input": "2022-06-03T14:26:08.261264Z",
     "iopub.status.busy": "2022-06-03T14:26:08.261129Z",
     "iopub.status.idle": "2022-06-03T14:26:08.265245Z",
     "shell.execute_reply": "2022-06-03T14:26:08.264903Z",
     "shell.execute_reply.started": "2022-06-03T14:26:08.261248Z"
    },
    "tags": []
   },
   "outputs": [
    {
     "data": {
      "text/plain": [
       "(79, 45)"
      ]
     },
     "execution_count": 30,
     "metadata": {},
     "output_type": "execute_result"
    }
   ],
   "source": [
    "# ASIDE: unidentical, and non-adjacent hex\n",
    "num_diff2 = num_diff[~h3_nei_vector(num_diff.ahex7, num_diff.rhex7)] \n",
    "num_diff2.shape # (62, 45); jun3 (79, 45)\n"
   ]
  },
  {
   "cell_type": "markdown",
   "id": "3a58c965-6fb2-483c-821d-58fcd92970fe",
   "metadata": {},
   "source": [
    "#### CONCLUSION: parcelnumb_matched: for MO (3.3m total, 1.6m legal_matched, 1.1m parcelnumb_matched)\n",
    "- all matched! except num_diff\n",
    "- REGRID coords and geocoder seem to be more accurate\n",
    "- readyParcelNum = REGRID/ATTOM (matched) .parcelnum\n",
    "- again: readyAddr = REGRID .address; readyAddrLat, Lon = REGIRD coords because REGRID has parcel shps!\n"
   ]
  },
  {
   "cell_type": "markdown",
   "id": "a36dd33b-b687-424c-89c1-7c539ca3a997",
   "metadata": {},
   "source": [
    "## SAVING CHECK POINTS"
   ]
  },
  {
   "cell_type": "code",
   "execution_count": 31,
   "id": "f3f79a69-071a-495c-9dc7-c5c4ced3889c",
   "metadata": {
    "execution": {
     "iopub.execute_input": "2022-06-03T14:27:13.202971Z",
     "iopub.status.busy": "2022-06-03T14:27:13.202665Z",
     "iopub.status.idle": "2022-06-03T14:27:13.206608Z",
     "shell.execute_reply": "2022-06-03T14:27:13.206222Z",
     "shell.execute_reply.started": "2022-06-03T14:27:13.202948Z"
    }
   },
   "outputs": [
    {
     "data": {
      "text/plain": [
       "(pandas.core.frame.DataFrame,\n",
       " pandas.core.frame.DataFrame,\n",
       " pandas.core.frame.DataFrame,\n",
       " pandas.core.frame.DataFrame)"
      ]
     },
     "execution_count": 31,
     "metadata": {},
     "output_type": "execute_result"
    }
   ],
   "source": [
    "type(legal_matched), type(num_matched), type(legal_diff), type(num_diff)"
   ]
  },
  {
   "cell_type": "code",
   "execution_count": 33,
   "id": "48db125b-1925-4f6f-88ff-8f5bcd1868bf",
   "metadata": {
    "execution": {
     "iopub.execute_input": "2022-06-03T14:28:03.079550Z",
     "iopub.status.busy": "2022-06-03T14:28:03.079223Z",
     "iopub.status.idle": "2022-06-03T14:28:12.846985Z",
     "shell.execute_reply": "2022-06-03T14:28:12.846563Z",
     "shell.execute_reply.started": "2022-06-03T14:28:03.079526Z"
    },
    "tags": []
   },
   "outputs": [],
   "source": [
    "legal_matched.reset_index(drop=True).to_feather(f'temp/jun3_{sf_code}_legal.ftr')\n",
    "num_matched.reset_index(drop=True).to_feather(f'temp/jun3_{sf_code}_num.ftr')\n",
    "legal_diff.reset_index(drop=True).to_feather(f'temp/jun3_{sf_code}_legaldiff.ftr')\n",
    "num_diff.reset_index(drop=True).to_feather(f'temp/jun3_{sf_code}_numdiff.ftr')"
   ]
  },
  {
   "cell_type": "markdown",
   "id": "a337d920-b718-448a-afc9-60b41f980600",
   "metadata": {},
   "source": [
    "# 3. All remaining parcels: Matching duplicated full Placekey (has pkwhat)\n"
   ]
  },
  {
   "cell_type": "markdown",
   "id": "e5faba55-94f4-4b2d-beb4-bfecf44fb3f1",
   "metadata": {
    "tags": []
   },
   "source": [
    "#### OVERVIEW placekey\n",
    "    - Placekey API query time = 1 hour * (REGRID/ATTOM) * 50 statefips = ~ 50 hours\n",
    "    - https://www.placekey.io/tutorials/joining-poi-and-non-poi-datasets-with-placekey\n"
   ]
  },
  {
   "cell_type": "markdown",
   "id": "5d62bce1-6cb1-43f7-8c5a-248803d1d859",
   "metadata": {},
   "source": [
    "### Placekey Sub-unit Technicality: UNIT PREFIX: APT (always diff pkwhat)? vs # (inconsistent pkwhat)?\n",
    "- Answer: NO! it depends on the address itself: Placekey correctly maps most addresses with likely-fake Sub-unit (e.g. #C93) to same pkwhat. The UnitPrefix APT or # make no difference\n",
    "- https://www.placekey.io/tutorials/using-placekey-to-effectively-join-data-about-sub-units\n",
    "while the pk-where is the same (matching street addresses/coords), pk-what differs due to the unit numbers being different! You can effectively differentiate between apartments/condos within the same unit using Placekey!\n",
    "- Instead: separate Address into Address1+AddressSub\n",
    "- Placekey API query with Address1; and uses AddressSub to infer MDU-count"
   ]
  },
  {
   "cell_type": "code",
   "execution_count": 34,
   "id": "37cd8730-1d7f-4454-a027-6b4b10595eab",
   "metadata": {
    "execution": {
     "iopub.execute_input": "2022-06-03T14:28:26.199361Z",
     "iopub.status.busy": "2022-06-03T14:28:26.199057Z",
     "iopub.status.idle": "2022-06-03T14:28:30.712844Z",
     "shell.execute_reply": "2022-06-03T14:28:30.712408Z",
     "shell.execute_reply.started": "2022-06-03T14:28:26.199336Z"
    },
    "tags": []
   },
   "outputs": [
    {
     "name": "stdout",
     "output_type": "stream",
     "text": [
      "print1  (1604138, 45) (1207963, 45)\n",
      "print2  (518379, 22) (407594, 20) 369359 268608\n",
      "print3  (518621, 22) (407836, 20)\n",
      "print4  (369601, 22) (268850, 20)\n"
     ]
    }
   ],
   "source": [
    "attom3 = attom[~attom.aid.isin(\n",
    "    pd.concat([legal_matched.aid, num_matched.aid]))]\n",
    "regrid3 = regrid[~regrid.rid.isin(\n",
    "    pd.concat([legal_matched.rid, num_matched.rid]))]\n",
    "\n",
    "# (516_803, 22) (404_426, 20) 368_316 267_691\n",
    "# 2/3 of remaining parcels: dont have addresses!\n",
    "# address1 fields = count = address fields:\n",
    "# print(attom3.shape, regrid3.shape, attom3.Address.count(), regrid3.address.count())\n",
    "\n",
    "# add 199 diff addresses to dfs to query\n",
    "attom3 = pd.concat([attom3, legal_diff, num_diff], join='inner')\n",
    "regrid3 = pd.concat([regrid3, legal_diff, num_diff], join='inner')\n",
    "# (517002, 22) (404625, 20)\n",
    "print(\"attom3 regrid3 original \", attom3.shape, regrid3.shape)\n",
    "\n",
    "# CONFIRMED separately: without address (or address1), there would be no pkwhat \n",
    "# i.e. no useful placekeys (pkwhere is simply h3 res10)\n",
    "attom3 = attom3[attom3.Address1.notna()]\n",
    "regrid3 = regrid3[regrid3.address1.notna()]\n",
    "# (368515, 23) (267890, 21); jun3 (369601, 22) (268850, 20)\n",
    "print(\"with Address1 field: \", attom3.shape, regrid3.shape)\n"
   ]
  },
  {
   "cell_type": "code",
   "execution_count": 35,
   "id": "ef09e19b-0d26-4c1e-9a9d-bd44155a0e16",
   "metadata": {
    "execution": {
     "iopub.execute_input": "2022-06-03T14:30:39.633179Z",
     "iopub.status.busy": "2022-06-03T14:30:39.632853Z",
     "iopub.status.idle": "2022-06-03T14:30:39.637002Z",
     "shell.execute_reply": "2022-06-03T14:30:39.636640Z",
     "shell.execute_reply.started": "2022-06-03T14:30:39.633147Z"
    },
    "tags": []
   },
   "outputs": [
    {
     "data": {
      "text/plain": [
       "((369601, 22), (268850, 20), set())"
      ]
     },
     "execution_count": 35,
     "metadata": {},
     "output_type": "execute_result"
    }
   ],
   "source": [
    "# ((368515, 22), (267890, 20), set())\n",
    "attom3.shape, regrid3.shape, set(attom3).intersection(set(regrid3))"
   ]
  },
  {
   "cell_type": "markdown",
   "id": "a11f85ef-3896-4a7a-8357-03b1abd0ce76",
   "metadata": {
    "execution": {
     "iopub.execute_input": "2022-05-06T04:11:52.820251Z",
     "iopub.status.busy": "2022-05-06T04:11:52.819963Z",
     "iopub.status.idle": "2022-05-06T04:11:52.822612Z",
     "shell.execute_reply": "2022-05-06T04:11:52.822214Z",
     "shell.execute_reply.started": "2022-05-06T04:11:52.820228Z"
    }
   },
   "source": [
    "### Note: multiprocessing doesn't work for parallel API requests"
   ]
  },
  {
   "cell_type": "code",
   "execution_count": 36,
   "id": "c0a506d1-f50f-4ca2-a646-052dc1049bdd",
   "metadata": {
    "execution": {
     "iopub.execute_input": "2022-06-03T14:30:50.219906Z",
     "iopub.status.busy": "2022-06-03T14:30:50.219618Z",
     "iopub.status.idle": "2022-06-03T14:30:50.226127Z",
     "shell.execute_reply": "2022-06-03T14:30:50.225657Z",
     "shell.execute_reply.started": "2022-06-03T14:30:50.219881Z"
    },
    "tags": []
   },
   "outputs": [
    {
     "name": "stdout",
     "output_type": "stream",
     "text": [
      "time: 214 µs (started: 2022-06-03 10:30:50 -04:00)\n"
     ]
    }
   ],
   "source": [
    "%load_ext autotime"
   ]
  },
  {
   "cell_type": "code",
   "execution_count": null,
   "id": "29898d34-54df-4020-b09d-26f511bb37bf",
   "metadata": {},
   "outputs": [],
   "source": [
    "# rid # responses:  (267890, 3) ; responses errors: \n",
    "# All queries in batch had errors    53700\n",
    "# Invalid address                    43307\n",
    "\n",
    "# aid # responses:  (368515, 3) ; responses errors: \n",
    "# Invalid address                    106860\n",
    "# All queries in batch had errors      8100"
   ]
  },
  {
   "cell_type": "code",
   "execution_count": null,
   "id": "63b82261-d23e-498b-b895-95e5227ba587",
   "metadata": {
    "execution": {
     "iopub.execute_input": "2022-06-03T14:31:41.766498Z",
     "iopub.status.busy": "2022-06-03T14:31:41.766163Z"
    },
    "tags": []
   },
   "outputs": [],
   "source": [
    "# 40 MIN!\n",
    "# for paralleling api calls/network ops, use async\n",
    "pkA = pk_call(attom3, attom_pk_maps, 'aid', pk_api1)\n",
    "pkR = pk_call(regrid3, regrid_pk_maps, 'rid', pk_api2)\n",
    "# Unfuture.result() is a blocking operation except ...\n",
    "pkA = pkA.result()\n",
    "pkR = pkR.result()\n",
    "pkA.shape, pkR.shape # ((253555, 25), (170883, 23)); jun3 ((254_306, 25), (172_566, 23))"
   ]
  },
  {
   "cell_type": "code",
   "execution_count": 35,
   "id": "15dc02c5-20b3-4321-af7f-72fb98858f5a",
   "metadata": {
    "execution": {
     "iopub.execute_input": "2022-05-23T03:31:26.587568Z",
     "iopub.status.busy": "2022-05-23T03:31:26.587287Z",
     "iopub.status.idle": "2022-05-23T03:31:26.590038Z",
     "shell.execute_reply": "2022-05-23T03:31:26.589630Z",
     "shell.execute_reply.started": "2022-05-23T03:31:26.587547Z"
    },
    "tags": []
   },
   "outputs": [],
   "source": [
    "# # Confirmed: retrying failed queries to Placekey API doesn't work on error: \"All queries in batch had errors\"\n",
    "# pked_regrid = pd.read_feather(f'placekeyed/rid_{sf_code}.ftr')\n",
    "# # UNLESS: Missing placekeys due to exceeding API rate limit\n",
    "# regrid_pk_errors_ids = pked_regrid[pked_regrid.error == \n",
    "#                                \"All queries in batch had errors\"].query_id\n",
    "\n",
    "# regrid_pk_errors = pk_regrid[pk_regrid.query_id.isin(regrid_pk_errors_ids)]\n",
    "\n",
    "# pk_regrid_run2 = pk_lookup(regrid_pk_errors)\n",
    "# pk_regrid_run2.error.value_counts()\n",
    "# # If pk_regrid_run2 gives new results, pd.update pked_regrid using pk_regrid_run2"
   ]
  },
  {
   "cell_type": "markdown",
   "id": "ebae3555-9520-4502-8e0e-3baa112c6831",
   "metadata": {},
   "source": [
    "### Concat ATTOM <> REGRID placekey dfs\n"
   ]
  },
  {
   "cell_type": "code",
   "execution_count": 46,
   "id": "36f2fadb-5b8b-4c68-ae0a-0741d8d85c76",
   "metadata": {
    "execution": {
     "iopub.execute_input": "2022-06-03T15:34:36.482707Z",
     "iopub.status.busy": "2022-06-03T15:34:36.482395Z",
     "iopub.status.idle": "2022-06-03T15:34:36.553560Z",
     "shell.execute_reply": "2022-06-03T15:34:36.553156Z",
     "shell.execute_reply.started": "2022-06-03T15:34:36.482686Z"
    },
    "tags": []
   },
   "outputs": [
    {
     "data": {
      "text/plain": [
       "((172566, 23), 172566, 155042)"
      ]
     },
     "execution_count": 46,
     "metadata": {},
     "output_type": "execute_result"
    },
    {
     "name": "stdout",
     "output_type": "stream",
     "text": [
      "time: 68.6 ms (started: 2022-06-03 11:34:36 -04:00)\n"
     ]
    }
   ],
   "source": [
    "# ((170883, 23), 170883, 152384); jun3 ((172566, 23), 172566, 155042)\n",
    "pkR.shape, pkR.placekey.count(), pkR.placekey.nunique()"
   ]
  },
  {
   "cell_type": "code",
   "execution_count": 47,
   "id": "716fb90c-7378-4096-a066-d28c456cb6ee",
   "metadata": {
    "execution": {
     "iopub.execute_input": "2022-06-03T15:34:56.054275Z",
     "iopub.status.busy": "2022-06-03T15:34:56.053975Z",
     "iopub.status.idle": "2022-06-03T15:34:56.179074Z",
     "shell.execute_reply": "2022-06-03T15:34:56.178684Z",
     "shell.execute_reply.started": "2022-06-03T15:34:56.054253Z"
    },
    "tags": []
   },
   "outputs": [
    {
     "data": {
      "text/plain": [
       "((254306, 25), 254306, 236217)"
      ]
     },
     "execution_count": 47,
     "metadata": {},
     "output_type": "execute_result"
    },
    {
     "name": "stdout",
     "output_type": "stream",
     "text": [
      "time: 123 ms (started: 2022-06-03 11:34:56 -04:00)\n"
     ]
    }
   ],
   "source": [
    "# ((253555, 25), 253555, 235445); jun3  ((254306, 25), 254306, 236217)\n",
    "pkA.shape, pkA.placekey.count(), pkA.placekey.nunique()"
   ]
  },
  {
   "cell_type": "code",
   "execution_count": 48,
   "id": "b6bbe814-cef1-4a5b-908f-4d69dc6d0867",
   "metadata": {
    "execution": {
     "iopub.execute_input": "2022-06-03T15:35:18.341574Z",
     "iopub.status.busy": "2022-06-03T15:35:18.341273Z",
     "iopub.status.idle": "2022-06-03T15:35:20.599249Z",
     "shell.execute_reply": "2022-06-03T15:35:20.598832Z",
     "shell.execute_reply.started": "2022-06-03T15:35:18.341554Z"
    },
    "tags": []
   },
   "outputs": [
    {
     "data": {
      "text/plain": [
       "((254306, 25), (172566, 23), (318003, 45), {False})"
      ]
     },
     "execution_count": 48,
     "metadata": {},
     "output_type": "execute_result"
    },
    {
     "name": "stdout",
     "output_type": "stream",
     "text": [
      "time: 2.25 s (started: 2022-06-03 11:35:18 -04:00)\n"
     ]
    }
   ],
   "source": [
    "placekey_df = pd.concat([pkA, pkR], ignore_index=True)\n",
    "# remove unique placekey values (unique addresses)\n",
    "placekey_df = placekey_df[placekey_df.duplicated(subset=['placekey'], keep=False)]\n",
    "# # i.e. only keep groups with more than 1 member\n",
    "# # placekey_df = placekey_df.groupby('placekey').filter(lambda x: len(x) > 1)\n",
    "\n",
    "placekey_df.replace(\"\", np.nan, inplace=True)\n",
    "placekey_df.sort_values(['pkwhere', 'pkwhat'], inplace=True)\n",
    "pkA.shape, pkR.shape, placekey_df.shape, set(placekey_df.columns.duplicated()) # no dup columns i.e. expect {False}"
   ]
  },
  {
   "cell_type": "code",
   "execution_count": null,
   "id": "580a9cb8-71b6-44b0-8df7-cbee28838b02",
   "metadata": {},
   "outputs": [],
   "source": [
    "# TODO later: add returned unique placekeys to RAD (ready address database)\n",
    "# i.e. any primary address with an address1 would have their full what-where placekeys"
   ]
  },
  {
   "cell_type": "markdown",
   "id": "ec74d043-8266-475a-b399-306bd1c42f27",
   "metadata": {
    "tags": []
   },
   "source": [
    "### 316_704 addresses from REGRID and ATTOM \n",
    "- mapped to 142_625 unique placekeys! Nice address deduping!\n"
   ]
  },
  {
   "cell_type": "code",
   "execution_count": 63,
   "id": "d13ed735-1962-4155-b261-a1c6a692e3f9",
   "metadata": {
    "execution": {
     "iopub.execute_input": "2022-05-23T03:39:59.668619Z",
     "iopub.status.busy": "2022-05-23T03:39:59.668328Z",
     "iopub.status.idle": "2022-05-23T03:39:59.671082Z",
     "shell.execute_reply": "2022-05-23T03:39:59.670655Z",
     "shell.execute_reply.started": "2022-05-23T03:39:59.668597Z"
    },
    "tags": []
   },
   "outputs": [],
   "source": [
    "# Single lookups\n",
    "# pk_regrid_diffAddr = gen_placekey_df(placekey_df, attom_pk_maps)\n",
    "# rids = ['310745003',\n",
    "# '299799865',\n",
    "# '299703345',\n",
    "# '299164612',]\n",
    "# def load_json(id, df):\n",
    "#     row = df.query(\"query_id == @id\")\n",
    "#     print(row)\n",
    "#     query = json.loads(row.to_json(orient=\"records\"))[0]\n",
    "#     return query\n",
    "# for rid in rids:\n",
    "#     print(pk_api.lookup_placekey(**load_json(rid, pk_regrid_diffAddr)))"
   ]
  },
  {
   "cell_type": "code",
   "execution_count": 72,
   "id": "7c5f10e4-2c35-4bdd-9338-687bee894d46",
   "metadata": {
    "execution": {
     "iopub.execute_input": "2022-05-23T03:46:20.547705Z",
     "iopub.status.busy": "2022-05-23T03:46:20.547407Z",
     "iopub.status.idle": "2022-05-23T03:46:20.650356Z",
     "shell.execute_reply": "2022-05-23T03:46:20.649982Z",
     "shell.execute_reply.started": "2022-05-23T03:46:20.547684Z"
    },
    "tags": []
   },
   "outputs": [],
   "source": [
    "# placekey_df[['lat', 'lon', 'Lat', 'Lon']].count()\n",
    "\n",
    "# nocoords = placekey_df.query(\"((rid == rid & lat != lat & lon != lon) | (aid == aid & Lat != Lat & Lon != Lon)) & placekey == placekey\")\n",
    "# # 484\n",
    "# print(nocoords.shape)\n",
    "# nocoords[['rid', 'aid', 'lat', 'lon', 'Lat', 'Lon', 'placekey']]\n",
    "# # # No coords, but still got placekeyed: nice! all these bonus placekeys come from ATTOM addresses!\n"
   ]
  },
  {
   "cell_type": "markdown",
   "id": "f8d67be9-21c8-4f9f-9082-8836885d192a",
   "metadata": {},
   "source": [
    "## Checkpoint saved!"
   ]
  },
  {
   "cell_type": "code",
   "execution_count": 51,
   "id": "4020caae-c3cf-4759-a1bf-5e19c7be2060",
   "metadata": {
    "execution": {
     "iopub.execute_input": "2022-06-03T15:36:09.844361Z",
     "iopub.status.busy": "2022-06-03T15:36:09.844071Z",
     "iopub.status.idle": "2022-06-03T15:36:19.474030Z",
     "shell.execute_reply": "2022-06-03T15:36:19.473641Z",
     "shell.execute_reply.started": "2022-06-03T15:36:09.844339Z"
    },
    "tags": []
   },
   "outputs": [
    {
     "data": {
      "text/plain": [
       "((3219695, 20), (3330480, 22), (251129, 20), (356985, 22))"
      ]
     },
     "execution_count": 51,
     "metadata": {},
     "output_type": "execute_result"
    },
    {
     "name": "stdout",
     "output_type": "stream",
     "text": [
      "time: 9.63 s (started: 2022-06-03 11:36:09 -04:00)\n"
     ]
    }
   ],
   "source": [
    "attom4 = attom[~attom.aid.isin(\n",
    "    set(legal_matched.aid).union(set(num_matched.aid)).union(set(placekey_df.aid))\n",
    ")]\n",
    "regrid4 = regrid[~regrid.rid.isin(\n",
    "    set(legal_matched.rid).union(set(num_matched.rid)).union(set(placekey_df.rid))\n",
    ")]\n",
    "# REGRID 3.2mil down to 150k;  ATTOM 3.3mil down to 360k\n",
    "regrid.shape, attom.shape, regrid4.shape, attom4.shape, "
   ]
  },
  {
   "cell_type": "code",
   "execution_count": 52,
   "id": "3551168b-965c-4e5d-b8e7-accc6811d6a9",
   "metadata": {
    "execution": {
     "iopub.execute_input": "2022-06-03T15:36:26.902743Z",
     "iopub.status.busy": "2022-06-03T15:36:26.902443Z",
     "iopub.status.idle": "2022-06-03T15:36:28.854385Z",
     "shell.execute_reply": "2022-06-03T15:36:28.853920Z",
     "shell.execute_reply.started": "2022-06-03T15:36:26.902723Z"
    },
    "tags": []
   },
   "outputs": [
    {
     "name": "stdout",
     "output_type": "stream",
     "text": [
      "time: 1.95 s (started: 2022-06-03 11:36:26 -04:00)\n"
     ]
    }
   ],
   "source": [
    "placekey_df.reset_index(drop=True).to_feather(f'temp/jun3_{sf_code}_placekeyed.ftr')\n",
    "\n",
    "attom4.reset_index(drop=True).to_feather(f'temp/jun3_{sf_code}_attom4.ftr')\n",
    "\n",
    "regrid4.reset_index(drop=True).to_feather(f'temp/jun3_{sf_code}_regrid4.ftr')"
   ]
  },
  {
   "cell_type": "markdown",
   "id": "75578fdb-3f13-4da4-8d91-5996257f0854",
   "metadata": {},
   "source": [
    "# Retrieve checkpoints as needed"
   ]
  },
  {
   "cell_type": "code",
   "execution_count": 15,
   "id": "fa08bf53-e414-4b18-9d0d-8214180faa95",
   "metadata": {
    "execution": {
     "iopub.execute_input": "2022-05-27T08:24:21.669709Z",
     "iopub.status.busy": "2022-05-27T08:24:21.669414Z",
     "iopub.status.idle": "2022-05-27T08:24:23.057547Z",
     "shell.execute_reply": "2022-05-27T08:24:23.057152Z",
     "shell.execute_reply.started": "2022-05-27T08:24:21.669687Z"
    },
    "tags": []
   },
   "outputs": [
    {
     "data": {
      "text/plain": [
       "((316704, 45), (356493, 22), (248152, 20))"
      ]
     },
     "execution_count": 15,
     "metadata": {},
     "output_type": "execute_result"
    }
   ],
   "source": [
    "# sf_code = 'mo'\n",
    "\n",
    "# placekey_df = pd.read_feather(f'temp/jun3_{sf_code}_placekeyed.ftr')\n",
    "# attom4 = pd.read_feather(f'temp/jun3_{sf_code}_attom4.ftr')\n",
    "# regrid4 = pd.read_feather(f'temp/jun3_{sf_code}_regrid4.ftr')\n",
    "# placekey_df.shape, attom4.shape, regrid4.shape # ((316704, 45), (356493, 22), (248152, 20))"
   ]
  },
  {
   "cell_type": "markdown",
   "id": "45909068-15bd-420e-b77b-f29dc6e21e65",
   "metadata": {},
   "source": [
    "# 4. Attom point in Regrid polygon"
   ]
  },
  {
   "cell_type": "code",
   "execution_count": 54,
   "id": "60ba85e4-35b8-422b-8850-92bf74a1beb2",
   "metadata": {
    "execution": {
     "iopub.execute_input": "2022-06-03T15:37:01.634111Z",
     "iopub.status.busy": "2022-06-03T15:37:01.633815Z",
     "iopub.status.idle": "2022-06-03T15:37:01.829230Z",
     "shell.execute_reply": "2022-06-03T15:37:01.828787Z",
     "shell.execute_reply.started": "2022-06-03T15:37:01.634089Z"
    },
    "tags": []
   },
   "outputs": [
    {
     "name": "stdout",
     "output_type": "stream",
     "text": [
      "time: 193 ms (started: 2022-06-03 11:37:01 -04:00)\n"
     ]
    }
   ],
   "source": [
    "# READ FROM CHECKPOINTS, create new GeoDataFrame with coords geometry column\n",
    "attom4 = gp.GeoDataFrame(\n",
    "        attom4, geometry=gp.points_from_xy(attom4.Lon, attom4.Lat)).set_crs(CRS_REGRID_PARCELS)"
   ]
  },
  {
   "cell_type": "code",
   "execution_count": null,
   "id": "d0c773f5-1998-440d-960b-112f36e79b36",
   "metadata": {},
   "outputs": [],
   "source": [
    "# GEOMETRY AFTER"
   ]
  },
  {
   "cell_type": "code",
   "execution_count": 55,
   "id": "585d2f90-d07f-4157-9786-3a50c3bccee9",
   "metadata": {
    "execution": {
     "iopub.execute_input": "2022-06-03T15:37:12.650256Z",
     "iopub.status.busy": "2022-06-03T15:37:12.649958Z",
     "iopub.status.idle": "2022-06-03T15:37:19.486185Z",
     "shell.execute_reply": "2022-06-03T15:37:19.485696Z",
     "shell.execute_reply.started": "2022-06-03T15:37:12.650234Z"
    }
   },
   "outputs": [
    {
     "data": {
      "text/plain": [
       "(3219695, 2)"
      ]
     },
     "execution_count": 55,
     "metadata": {},
     "output_type": "execute_result"
    },
    {
     "name": "stdout",
     "output_type": "stream",
     "text": [
      "time: 6.83 s (started: 2022-06-03 11:37:12 -04:00)\n"
     ]
    }
   ],
   "source": [
    "sf_code = 'mo'\n",
    "list_of_regrid_feathers = glob(f\"attom/data/regrid-feather/{sf_code}_*.ftr\")\n",
    "with Pool(16) as pool:\n",
    "    regrid_geom = pool.map(lambda feather : pd.read_feather(feather, columns=['ll_uuid', 'geometry']), \n",
    "                      list_of_regrid_feathers)\n",
    "    regrid_geom = pd.concat(regrid_geom, ignore_index=True)    \n",
    "    \n",
    "regrid_geom.rename(columns={'geometry': 'geom', 'll_uuid': 'rid'}, inplace=True)    \n",
    "regrid_geom.shape # (3330480, 18) in 15sec ## NEW as of Jun3, (3_219_695, 17)\n"
   ]
  },
  {
   "cell_type": "code",
   "execution_count": 56,
   "id": "ad055947-51fe-4875-a9cc-7e64de84cbfe",
   "metadata": {
    "execution": {
     "iopub.execute_input": "2022-06-03T16:03:46.273881Z",
     "iopub.status.busy": "2022-06-03T16:03:46.273508Z",
     "iopub.status.idle": "2022-06-03T16:04:29.374742Z",
     "shell.execute_reply": "2022-06-03T16:04:29.374315Z",
     "shell.execute_reply.started": "2022-06-03T16:03:46.273854Z"
    },
    "tags": []
   },
   "outputs": [
    {
     "data": {
      "text/plain": [
       "(geopandas.geodataframe.GeoDataFrame, (251129, 21))"
      ]
     },
     "execution_count": 56,
     "metadata": {},
     "output_type": "execute_result"
    },
    {
     "name": "stdout",
     "output_type": "stream",
     "text": [
      "time: 43.1 s (started: 2022-06-03 12:03:46 -04:00)\n"
     ]
    }
   ],
   "source": [
    "# convert pandas df to geopandas df: 1min\n",
    "regrid_geom = gp.GeoDataFrame(regrid_geom, geometry= gp.GeoSeries.from_wkt(regrid_geom.geom, crs = CRS_REGRID_PARCELS))\n",
    "regrid_geom = regrid_geom.drop(columns = 'geom')\n",
    "\n",
    "# add geom column to regrid parcels\n",
    "# regrid_geom.merge: to retain geopandas df and CRS \n",
    "regrid4_poly = regrid_geom.merge(regrid4, on = 'rid', how='right')\n",
    "\n",
    "# (geopandas.geodataframe.GeoDataFrame, (248152, 21))\n",
    "type(regrid4_poly), regrid4_poly.shape"
   ]
  },
  {
   "cell_type": "markdown",
   "id": "7e56010d-905a-4ff3-969b-854407740847",
   "metadata": {},
   "source": [
    "### The spatial join"
   ]
  },
  {
   "cell_type": "code",
   "execution_count": 58,
   "id": "9fcfcdf8-9af3-466c-8df0-eae395884ba5",
   "metadata": {
    "execution": {
     "iopub.execute_input": "2022-06-03T16:05:29.917511Z",
     "iopub.status.busy": "2022-06-03T16:05:29.917200Z",
     "iopub.status.idle": "2022-06-03T16:05:33.007137Z",
     "shell.execute_reply": "2022-06-03T16:05:33.006688Z",
     "shell.execute_reply.started": "2022-06-03T16:05:29.917486Z"
    },
    "tags": []
   },
   "outputs": [
    {
     "name": "stderr",
     "output_type": "stream",
     "text": [
      "/home/nhat/anaconda3/envs/py39/lib/python3.9/site-packages/IPython/core/interactiveshell.py:3444: FutureWarning: The `op` parameter is deprecated and will be removed in a future release. Please use the `predicate` parameter instead.\n",
      "  exec(code_obj, self.user_global_ns, self.user_ns)\n"
     ]
    },
    {
     "data": {
      "text/plain": [
       "((196583, 44), 196583, 196583, (195631,), (195631,))"
      ]
     },
     "execution_count": 58,
     "metadata": {},
     "output_type": "execute_result"
    },
    {
     "name": "stdout",
     "output_type": "stream",
     "text": [
      "time: 3.09 s (started: 2022-06-03 12:05:29 -04:00)\n"
     ]
    }
   ],
   "source": [
    "# `inner`: drop anything that didn't contain-within\n",
    "# RETAIN df_left geometry (regrid parcel polygon)\n",
    "df_pip = regrid4_poly.sjoin(attom4, how=\"inner\", op='contains')\n",
    "# ((197_601, 44), 197_601, 197_601, (195_748,), (195_748,))\n",
    "# jun3 ((196_583, 44), 196_583, 196_583, (195_631,), (195_631,))\n",
    "df_pip.shape, df_pip.aid.count(), df_pip.rid.count(), df_pip.aid.unique().shape, df_pip.aid.unique().shape"
   ]
  },
  {
   "cell_type": "code",
   "execution_count": 60,
   "id": "ed2f08b7-61d5-443a-8d23-a016911c30fd",
   "metadata": {
    "execution": {
     "iopub.execute_input": "2022-06-03T16:07:00.477388Z",
     "iopub.status.busy": "2022-06-03T16:07:00.477068Z",
     "iopub.status.idle": "2022-06-03T16:07:03.196641Z",
     "shell.execute_reply": "2022-06-03T16:07:03.196199Z",
     "shell.execute_reply.started": "2022-06-03T16:07:00.477363Z"
    },
    "tags": []
   },
   "outputs": [
    {
     "name": "stdout",
     "output_type": "stream",
     "text": [
      "time: 2.72 s (started: 2022-06-03 12:07:00 -04:00)\n"
     ]
    }
   ],
   "source": [
    "df_pip['geom'] = df_pip.geometry.to_wkt()"
   ]
  },
  {
   "cell_type": "code",
   "execution_count": 66,
   "id": "57c3c8f8-2674-4a99-8147-546d5aaacaff",
   "metadata": {
    "execution": {
     "iopub.execute_input": "2022-06-03T16:08:08.609347Z",
     "iopub.status.busy": "2022-06-03T16:08:08.609026Z",
     "iopub.status.idle": "2022-06-03T16:08:09.926578Z",
     "shell.execute_reply": "2022-06-03T16:08:09.926089Z",
     "shell.execute_reply.started": "2022-06-03T16:08:08.609323Z"
    },
    "tags": []
   },
   "outputs": [
    {
     "name": "stdout",
     "output_type": "stream",
     "text": [
      "time: 1.31 s (started: 2022-06-03 12:08:08 -04:00)\n"
     ]
    }
   ],
   "source": [
    "# SAVE CHECK POINT\n",
    "pd.DataFrame(df_pip.drop(columns='geometry')).reset_index(drop=True).to_feather(f'temp/jun3_{sf_code}_pip.ftr')"
   ]
  },
  {
   "cell_type": "markdown",
   "id": "7149b71c-0c1b-49b9-8421-ba4c20ef6f13",
   "metadata": {},
   "source": [
    "# 5. All remaining: try matching parcels using h3 hex  @ res 13\n",
    "\n",
    "#### Estimation: parcel <> h3 hexagon area:\n",
    "- https://h3geo.org/docs/core-library/restable/\n",
    "    - Placekey @where = h3 res10 = 0.0150475 km2 ;\n",
    "    - we could use res12 (0.0003071 km2; 1.5x size of average home)\n",
    "    - best: res13 (0.0000439 km2), or about 1/5th size of an average home, and 1/10th size of an average commercial building\n",
    "- https://www.rocketmortgage.com/learn/average-square-footage-of-a-house\n",
    "In 2019, the average square footage of a house dropped to 2,301 square feet ~ 0.00021 km2\n",
    "- https://www.eia.gov/consumption/commercial/reports/2012/buildstock/\n",
    "    - About half of buildings are 5,000 square feet ~ 0.00046 km2 in size or smaller, and nearly three-fourths are 10,000 square feet or smaller ~ 0.00093 km2\n",
    "- https://www.eia.gov/todayinenergy/detail.php?id=46118\n",
    "    - Commercial buildings have gotten larger in the United States\n"
   ]
  },
  {
   "cell_type": "markdown",
   "id": "deac805d-d379-4c87-bb25-d16d6680fe69",
   "metadata": {},
   "source": [
    "### Hex res13"
   ]
  },
  {
   "cell_type": "code",
   "execution_count": 67,
   "id": "5f983519-204b-4a2c-98c1-1ab85fc6e75d",
   "metadata": {
    "execution": {
     "iopub.execute_input": "2022-06-03T16:08:19.719748Z",
     "iopub.status.busy": "2022-06-03T16:08:19.719454Z",
     "iopub.status.idle": "2022-06-03T16:08:19.723646Z",
     "shell.execute_reply": "2022-06-03T16:08:19.723254Z",
     "shell.execute_reply.started": "2022-06-03T16:08:19.719725Z"
    },
    "tags": []
   },
   "outputs": [
    {
     "data": {
      "text/plain": [
       "((251129, 20), (251129, 21), (356985, 23))"
      ]
     },
     "execution_count": 67,
     "metadata": {},
     "output_type": "execute_result"
    },
    {
     "name": "stdout",
     "output_type": "stream",
     "text": [
      "time: 1.84 ms (started: 2022-06-03 12:08:19 -04:00)\n"
     ]
    }
   ],
   "source": [
    "# ((248152, 20), (248152, 21), (356493, 23))\n",
    "# jun3 ((251129, 20), (251129, 21), (356985, 23))\n",
    "regrid4.shape, regrid4_poly.shape, attom4.shape"
   ]
  },
  {
   "cell_type": "code",
   "execution_count": 68,
   "id": "26c4eef7-9947-4538-8bdd-19549e589b4a",
   "metadata": {
    "execution": {
     "iopub.execute_input": "2022-06-03T16:08:36.926599Z",
     "iopub.status.busy": "2022-06-03T16:08:36.926279Z",
     "iopub.status.idle": "2022-06-03T16:08:37.832169Z",
     "shell.execute_reply": "2022-06-03T16:08:37.831768Z",
     "shell.execute_reply.started": "2022-06-03T16:08:36.926577Z"
    },
    "tags": []
   },
   "outputs": [
    {
     "name": "stdout",
     "output_type": "stream",
     "text": [
      "(233229, 44)\n"
     ]
    },
    {
     "data": {
      "text/plain": [
       "(52873, 44)"
      ]
     },
     "execution_count": 68,
     "metadata": {},
     "output_type": "execute_result"
    },
    {
     "name": "stdout",
     "output_type": "stream",
     "text": [
      "time: 903 ms (started: 2022-06-03 12:08:36 -04:00)\n"
     ]
    }
   ],
   "source": [
    "df_rem = pd.concat([attom4[~attom4.aid.isin(df_pip.aid)], \n",
    "                    regrid4[~regrid4.rid.isin(df_pip.rid)]], ignore_index= True)\n",
    "\n",
    "#### parcels with SAME hex @ res13\n",
    "df_rem['hex13'] = np.where(df_rem.rhex13.notna(), df_rem.rhex13, df_rem.ahex13)\n",
    "print(df_rem.shape) # (228586, 44) jun3 (233229, 44)\n",
    "\n",
    "# THESE ARE DUPLICATES: repeated hex13\n",
    "df_h3_dup = df_rem[df_rem.duplicated(subset=['hex13'], keep=False)]\n",
    "df_h3_dup = df_h3_dup.query('hex13 != \"0\"')\n",
    "df_h3_dup.shape # (53133, 44) jun3 (52873, 44)"
   ]
  },
  {
   "cell_type": "code",
   "execution_count": 69,
   "id": "2e89d5c6-e6ff-4c43-a14b-eb947748b2ad",
   "metadata": {
    "execution": {
     "iopub.execute_input": "2022-06-03T16:08:56.555571Z",
     "iopub.status.busy": "2022-06-03T16:08:56.554981Z",
     "iopub.status.idle": "2022-06-03T16:08:56.727469Z",
     "shell.execute_reply": "2022-06-03T16:08:56.727064Z",
     "shell.execute_reply.started": "2022-06-03T16:08:56.555546Z"
    },
    "tags": []
   },
   "outputs": [
    {
     "data": {
      "text/plain": [
       "(180356, 44)"
      ]
     },
     "execution_count": 69,
     "metadata": {},
     "output_type": "execute_result"
    },
    {
     "name": "stdout",
     "output_type": "stream",
     "text": [
      "time: 170 ms (started: 2022-06-03 12:08:56 -04:00)\n"
     ]
    }
   ],
   "source": [
    "# df_rem also contains df_rem_nocoords (below) \n",
    "# For now, consider them as new parcels\n",
    "df_rem = df_rem[~df_rem.hex13.isin(df_h3_dup.hex13)]\n",
    "df_rem.shape # (175453, 44) jun3 (180356, 44)\n",
    "\n",
    "## Without coords, these ATTOM parcels might still have placekey responses \n",
    "## if they have valid addresses, and are taken care in Placekey step\n",
    "## else, no coords + no valid address = no hope\n",
    "# # hex13 == 0: special case! All are ATTOM, without coords\n",
    "# df_rem_nocoords = df_rem.query('hex13 == \"0\"')\n",
    "# df_rem_nocoords.shape # (3505, 44)\n",
    "\n",
    "\n",
    "#### Not accurate: SKIP: parcels with ADJ hex @ res13"
   ]
  },
  {
   "cell_type": "markdown",
   "id": "b5456c58-29c1-460e-b5b8-f72069b902a2",
   "metadata": {
    "tags": []
   },
   "source": [
    "## OVERVIEW: READY ADDRESS DATABASE (Base layer: Regrid parcels)\n",
    "GOAL: which Attom parcels to count as new address?\n",
    "### Elimination round#1: [unique] legal description\n",
    "### Elimination round#2: [unique] parcel number\n",
    "### Elimination round#3: [duplicate] Placekey(Full_Address): Standardize addresses and de-dup\n",
    "    - API rate limit = 10k requests per min\n",
    "    - Unmatched: 600k regrid + 600k attom = 2 hours per state = Bottleneck\n",
    "    - TODO: Expand matched groups: PlacekeyAPI(Address1) (to get new addrs/MDUcount)\n",
    "\n",
    "### Elimination round#4: SPATIAL JOIN: attom-point in regrid-polygons\n",
    "- NOTE: Same Placekey(address1) = same addresses; and if SUB-UNIT, then MDU-count (i.e. an address with SUB-UNIT= new addrs/MDUcount )\n",
    "- pip(200k) = pip11 (170k) + pip-many (30k)\n",
    "    - pip11: neat join: Attom supplements REGRID. SHOW kepler.gl page \n",
    "    - many(30k) = many1 (23k) + 1many (3k) + 500 manymany\n",
    "\n",
    "- NEXT TODO: revised round#3 on unique Address1 (Side benefit: fewer API queries, faster results)\n",
    "    i.e. PlacekeyAPI(Address1) instead of (Full_Address); Self-categorize SUB-UNIT\n",
    "    Move round#3 down the funnel, into pip-many\n",
    "\n",
    "### Elimination round#5: same or adjacent hex13\n",
    "### All remaining ATTOM parcels = new addresses!\n",
    "\n",
    "## NEXT: augment RAD (unitCount (>1 = isMDU), bldgCount, address-use (CAI/biz/farm/resi), ..\n",
    "## NEXT quick: ATTOM POI\n",
    "## NEXT NEXT: National Address Database (enhanced 911)"
   ]
  },
  {
   "cell_type": "code",
   "execution_count": null,
   "id": "01796533-e693-4a13-8cf8-414de2f32ddb",
   "metadata": {},
   "outputs": [],
   "source": []
  },
  {
   "cell_type": "code",
   "execution_count": null,
   "id": "e9f015e4-40cc-4ef0-b46f-c617e1cf18c3",
   "metadata": {},
   "outputs": [],
   "source": []
  },
  {
   "cell_type": "code",
   "execution_count": null,
   "id": "bf9c73b6-562f-4956-a945-dbc6ef8e246a",
   "metadata": {},
   "outputs": [],
   "source": []
  },
  {
   "cell_type": "markdown",
   "id": "fbd2a56e-c344-46c4-a8b2-79afddc4faca",
   "metadata": {},
   "source": [
    "# ATTOM: demand points -- land-use"
   ]
  },
  {
   "cell_type": "code",
   "execution_count": 75,
   "id": "93944deb-0e80-492d-8a88-a60f36a0e749",
   "metadata": {
    "execution": {
     "iopub.execute_input": "2022-06-03T16:18:53.728429Z",
     "iopub.status.busy": "2022-06-03T16:18:53.728129Z",
     "iopub.status.idle": "2022-06-03T16:18:59.409508Z",
     "shell.execute_reply": "2022-06-03T16:18:59.409026Z",
     "shell.execute_reply.started": "2022-06-03T16:18:53.728405Z"
    },
    "tags": []
   },
   "outputs": [
    {
     "data": {
      "text/plain": [
       "(3330480, 3)"
      ]
     },
     "execution_count": 75,
     "metadata": {},
     "output_type": "execute_result"
    },
    {
     "name": "stdout",
     "output_type": "stream",
     "text": [
      "time: 5.68 s (started: 2022-06-03 12:18:53 -04:00)\n"
     ]
    }
   ],
   "source": [
    "with Pool(16) as pool:\n",
    "    alanduse = pool.map(\n",
    "        lambda feather_file : pd.read_feather(\n",
    "            feather_file, columns=['[ATTOM ID]', 'PropertyUseGroup',  'PropertyUseStandardized',]), \n",
    "        glob(f\"attom/data/attom-feather/{sf_code.upper()}_*.ftr\"))\n",
    "    \n",
    "    alanduse = pd.concat(alanduse, ignore_index=True)    \n",
    "    \n",
    "alanduse.columns = ['aid', 'group', \n",
    "                    'code', # probably useful for id-ing MDU / CAI subtypes (edu/health/gov/commu)\n",
    "                   ]\n",
    "# group: mixed letter cases (e.g. both Commercial and COMMERCIAL present in ATTOM raw data)\n",
    "alanduse['group'] = alanduse.group.str.upper()\n",
    "alanduse.shape # (3330480, 3)\n",
    "\n",
    "# # Most of INDUSTRIAL usegroup are: warehouse/storages\n",
    "# alanduse.query('group == \"INDUSTRIAL\"').code.value_counts().head(2)\n",
    "# # => classify THEM AS commercial landuse\n"
   ]
  },
  {
   "cell_type": "code",
   "execution_count": 76,
   "id": "6792d050-20d7-4cfb-8346-de004391793d",
   "metadata": {
    "execution": {
     "iopub.execute_input": "2022-06-03T16:19:48.638084Z",
     "iopub.status.busy": "2022-06-03T16:19:48.637695Z",
     "iopub.status.idle": "2022-06-03T16:19:50.047023Z",
     "shell.execute_reply": "2022-06-03T16:19:50.046621Z",
     "shell.execute_reply.started": "2022-06-03T16:19:48.638057Z"
    },
    "tags": []
   },
   "outputs": [
    {
     "data": {
      "text/plain": [
       "resi       2642309\n",
       "farm        347993\n",
       "biz         165521\n",
       "rem          95681\n",
       "vacland      60660\n",
       "CAI          18316\n",
       "Name: alanduse, dtype: int64"
      ]
     },
     "execution_count": 76,
     "metadata": {},
     "output_type": "execute_result"
    },
    {
     "name": "stdout",
     "output_type": "stream",
     "text": [
      "time: 1.41 s (started: 2022-06-03 12:19:48 -04:00)\n"
     ]
    }
   ],
   "source": [
    "# RENAME groups\n",
    "alanduse.group.value_counts()\n",
    "\n",
    "conditions = [ \n",
    "    alanduse.group.eq('AGRICULTURE / FARMING'),\n",
    "    alanduse.group.eq('RESIDENTIAL'),    \n",
    "    alanduse.group.eq('VACANT LAND'),    \n",
    "    alanduse.group.eq('PUBLIC WORKS'),    \n",
    "    alanduse.group.isin(['INDUSTRIAL', 'COMMERCIAL']), ]\n",
    "choices = ['farm', 'resi', 'vacland', 'CAI', 'biz']\n",
    "alanduse['alanduse'] = np.select(conditions, choices, default='rem')\n",
    "alanduse.alanduse.value_counts()\n",
    "# resi       2642309\n",
    "# farm        347993\n",
    "# biz         165521\n",
    "# rem          95681\n",
    "# vacland      60660\n",
    "# CAI          18316"
   ]
  },
  {
   "cell_type": "markdown",
   "id": "d4cefdb4-7777-49ce-8ccf-5b1eb87aba0f",
   "metadata": {},
   "source": [
    "# REGRID: demand points -- land-use"
   ]
  },
  {
   "cell_type": "code",
   "execution_count": 82,
   "id": "261aecbf-f7e9-44f6-b8bf-1eca10ab075d",
   "metadata": {
    "execution": {
     "iopub.execute_input": "2022-06-03T16:23:40.056561Z",
     "iopub.status.busy": "2022-06-03T16:23:40.056267Z",
     "iopub.status.idle": "2022-06-03T16:23:44.121873Z",
     "shell.execute_reply": "2022-06-03T16:23:44.121417Z",
     "shell.execute_reply.started": "2022-06-03T16:23:40.056539Z"
    },
    "tags": []
   },
   "outputs": [
    {
     "data": {
      "text/plain": [
       "(3219695, 5)"
      ]
     },
     "execution_count": 82,
     "metadata": {},
     "output_type": "execute_result"
    },
    {
     "name": "stdout",
     "output_type": "stream",
     "text": [
      "time: 4.06 s (started: 2022-06-03 12:23:40 -04:00)\n"
     ]
    }
   ],
   "source": [
    "with Pool(16) as pool:\n",
    "    rlanduse = pool.map(\n",
    "        lambda feather_file : pd.read_feather(\n",
    "            feather_file, columns=['ll_uuid', 'lbcs_activity', 'lbcs_function', 'lbcs_structure', 'lbcs_site', ]), \n",
    "        glob(f\"attom/data/regrid-feather/{sf_code.lower()}_*.ftr\"))\n",
    "    \n",
    "    rlanduse = pd.concat(rlanduse, ignore_index=True)    \n",
    "    \n",
    "rlanduse.columns = ['rid', 'acti', 'func', 'struc', 'site']\n",
    "rlanduse.shape # (3218103, 5) jun3 (3219695, 5)"
   ]
  },
  {
   "cell_type": "code",
   "execution_count": 83,
   "id": "71d44d3d-5cd5-416d-8895-1c200168e99d",
   "metadata": {
    "execution": {
     "iopub.execute_input": "2022-06-03T16:23:44.123168Z",
     "iopub.status.busy": "2022-06-03T16:23:44.122956Z",
     "iopub.status.idle": "2022-06-03T16:23:48.322613Z",
     "shell.execute_reply": "2022-06-03T16:23:48.322194Z",
     "shell.execute_reply.started": "2022-06-03T16:23:44.123149Z"
    },
    "tags": []
   },
   "outputs": [
    {
     "data": {
      "text/plain": [
       "resi       1806883\n",
       "rem        1178262\n",
       "farm        145583\n",
       "biz          68743\n",
       "CAI          10669\n",
       "vacland       9555\n",
       "Name: rlanduse, dtype: int64"
      ]
     },
     "execution_count": 83,
     "metadata": {},
     "output_type": "execute_result"
    },
    {
     "name": "stdout",
     "output_type": "stream",
     "text": [
      "time: 4.2 s (started: 2022-06-03 12:23:44 -04:00)\n"
     ]
    }
   ],
   "source": [
    "# rlanduse.set_index('rid', inplace=True)\n",
    "# lbcs_site\n",
    "# 6000 - Developed site - with buildings\n",
    "# 6500 - Developed site - unspecified structures\n",
    "# Optimistically: Assume missing lbcs_site = 6500 = with building\n",
    "rlanduse['site'] = rlanduse.site.fillna(\"6500\").astype(float).astype(int) // 1000\n",
    "# NOTE: With structure iff lbcs_site = 6k\n",
    "rlanduse[['acti', 'struc', 'func']] = rlanduse[['acti', 'struc', 'func']].fillna(\"0\").astype(float).astype(int) // 1000\n",
    "\n",
    "rlanduse['rlanduse']= np.vectorize(regrid_landuse_classifier)(\n",
    "    rlanduse['acti'], rlanduse['func'],  rlanduse['struc'], rlanduse['site'])\n",
    "rlanduse.rlanduse.value_counts()\n",
    "# resi       1598123\n",
    "# rem        1359642\n",
    "# farm        165508\n",
    "# biz          69968\n",
    "# vacland      13058\n",
    "# CAI          11804\n",
    "#### JUN3\n",
    "# resi       1806883\n",
    "# rem        1178262\n",
    "# farm        145583\n",
    "# biz          68743\n",
    "# CAI          10669\n",
    "# vacland       9555"
   ]
  },
  {
   "cell_type": "markdown",
   "id": "8b7458e0-d39a-43c8-9c39-748301c1f170",
   "metadata": {},
   "source": [
    "# DONE: putting pieces together!"
   ]
  },
  {
   "cell_type": "code",
   "execution_count": 84,
   "id": "a86c9339-7301-4f4e-93ed-47b68ed59f82",
   "metadata": {
    "execution": {
     "iopub.execute_input": "2022-06-03T16:24:14.144651Z",
     "iopub.status.busy": "2022-06-03T16:24:14.144354Z",
     "iopub.status.idle": "2022-06-03T16:24:14.148203Z",
     "shell.execute_reply": "2022-06-03T16:24:14.147816Z",
     "shell.execute_reply.started": "2022-06-03T16:24:14.144629Z"
    },
    "tags": []
   },
   "outputs": [
    {
     "name": "stdout",
     "output_type": "stream",
     "text": [
      "time: 483 µs (started: 2022-06-03 12:24:14 -04:00)\n"
     ]
    }
   ],
   "source": [
    "rad_in_cols = ['aid', 'rid', \n",
    "              'address1', 'addressSub', 'Address1', 'AddressSub',\n",
    "              'owner', 'owner2', 'Owner', 'Owner2', \n",
    "              'lat', 'lon', 'Lat', 'Lon', \n",
    "               # 'landuse', \n",
    "              ]\n",
    "\n",
    "rad_out_cols = ['pId', 'rId', 'pAddress1', 'pAddressSub', 'pOwner', 'pLat', 'pLon']"
   ]
  },
  {
   "cell_type": "markdown",
   "id": "79f72d54-7472-4a1c-b09f-4f3c44c55634",
   "metadata": {},
   "source": [
    "# land use"
   ]
  },
  {
   "cell_type": "markdown",
   "id": "8a78fbc0-6d34-425e-a1e8-9f54558301ea",
   "metadata": {
    "execution": {
     "iopub.execute_input": "2022-05-27T03:39:47.286674Z",
     "iopub.status.busy": "2022-05-27T03:39:47.286330Z",
     "iopub.status.idle": "2022-05-27T03:39:47.289520Z",
     "shell.execute_reply": "2022-05-27T03:39:47.289066Z",
     "shell.execute_reply.started": "2022-05-27T03:39:47.286645Z"
    }
   },
   "source": [
    "### rad12 is processed differently from other dfs"
   ]
  },
  {
   "cell_type": "code",
   "execution_count": 85,
   "id": "7c19f299-8dbe-49ac-bbfd-01343faf03b0",
   "metadata": {
    "execution": {
     "iopub.execute_input": "2022-06-03T16:24:22.633804Z",
     "iopub.status.busy": "2022-06-03T16:24:22.633492Z",
     "iopub.status.idle": "2022-06-03T16:24:44.395745Z",
     "shell.execute_reply": "2022-06-03T16:24:44.395320Z",
     "shell.execute_reply.started": "2022-06-03T16:24:22.633781Z"
    },
    "tags": []
   },
   "outputs": [
    {
     "data": {
      "text/plain": [
       "(2811859, 16)"
      ]
     },
     "execution_count": 85,
     "metadata": {},
     "output_type": "execute_result"
    },
    {
     "name": "stdout",
     "output_type": "stream",
     "text": [
      "time: 21.8 s (started: 2022-06-03 12:24:22 -04:00)\n"
     ]
    }
   ],
   "source": [
    "# LONG TIME: 20sec!\n",
    "# Exclude legal_diff (which later is reviewed in Placekey step) from legal_matched, and num_diff from num_matched\n",
    "rad12 = pd.concat([\n",
    "    legal_matched[~legal_matched.index.isin(legal_diff.index)],\n",
    "    num_matched[~num_matched.index.isin(num_diff.index)],], ignore_index = True)[rad_in_cols]\n",
    "\n",
    "rad12 = rad12.merge(alanduse[[\n",
    "    'aid', 'alanduse']], on='aid', how='left')\n",
    "rad12 = rad12.merge(rlanduse[[\n",
    "    'rid', 'rlanduse']], on='rid', how='left')\n",
    "\n",
    "rad12.shape # (2813478, 16) jun3 (2811859, 16)"
   ]
  },
  {
   "cell_type": "code",
   "execution_count": 87,
   "id": "845b5b77-5834-4ccb-bdbd-eb469d2bc29f",
   "metadata": {
    "execution": {
     "iopub.execute_input": "2022-06-03T16:25:03.976446Z",
     "iopub.status.busy": "2022-06-03T16:25:03.975877Z",
     "iopub.status.idle": "2022-06-03T16:25:05.473635Z",
     "shell.execute_reply": "2022-06-03T16:25:05.473224Z",
     "shell.execute_reply.started": "2022-06-03T16:25:03.976421Z"
    },
    "tags": []
   },
   "outputs": [
    {
     "data": {
      "text/plain": [
       "resi       2330379\n",
       "farm        234918\n",
       "biz         131665\n",
       "rem          55508\n",
       "vacland      40923\n",
       "CAI          18466\n",
       "Name: landuse, dtype: int64"
      ]
     },
     "execution_count": 87,
     "metadata": {},
     "output_type": "execute_result"
    },
    {
     "name": "stdout",
     "output_type": "stream",
     "text": [
      "time: 1.49 s (started: 2022-06-03 12:25:03 -04:00)\n"
     ]
    }
   ],
   "source": [
    "rad12['landuse'] = np.vectorize(rad_landuse_classifier_single)(rad12['alanduse'], rad12['rlanduse'])\n",
    "rad12.landuse.value_counts()\n",
    "# resi       2326493\n",
    "# farm        239189\n",
    "# biz         131727\n",
    "# rem          52948\n",
    "# vacland      44520\n",
    "# CAI          18601\n",
    "\n",
    "\n",
    "## jun3\n",
    "# resi       2330379\n",
    "# farm        234918\n",
    "# biz         131665\n",
    "# rem          55508\n",
    "# vacland      40923\n",
    "# CAI          18466"
   ]
  },
  {
   "cell_type": "markdown",
   "id": "291877e4-d499-4046-a92b-50524e1834ec",
   "metadata": {},
   "source": [
    "## land-use: multiple Regrid/Attom (step3 Placekey, 4 pip, 5 h3 hex)"
   ]
  },
  {
   "cell_type": "markdown",
   "id": "8a468286-bbff-4607-aaa4-e647cec10d02",
   "metadata": {},
   "source": [
    "#### placekey and h3: combined"
   ]
  },
  {
   "cell_type": "code",
   "execution_count": 88,
   "id": "cf06f4a7-6815-425f-8f87-2611170a8376",
   "metadata": {
    "execution": {
     "iopub.execute_input": "2022-06-03T16:25:25.497461Z",
     "iopub.status.busy": "2022-06-03T16:25:25.497162Z",
     "iopub.status.idle": "2022-06-03T16:25:25.604877Z",
     "shell.execute_reply": "2022-06-03T16:25:25.604458Z",
     "shell.execute_reply.started": "2022-06-03T16:25:25.497440Z"
    },
    "tags": []
   },
   "outputs": [
    {
     "name": "stdout",
     "output_type": "stream",
     "text": [
      "(0, 45)\n",
      "(0, 45)\n",
      "time: 105 ms (started: 2022-06-03 12:25:25 -04:00)\n"
     ]
    }
   ],
   "source": [
    "# each row (keyed on placekey) contains either attom or regrid\n",
    "print(placekey_df.query('rid == rid & aid == aid').shape) # (0, )\n",
    "# all placekey comes with pkwhat\n",
    "print(placekey_df.query(\"pkwhat != pkwhat\").shape) # (0, )"
   ]
  },
  {
   "cell_type": "code",
   "execution_count": 89,
   "id": "ee5eda1a-363f-451d-8497-527eeb83a4e8",
   "metadata": {
    "execution": {
     "iopub.execute_input": "2022-06-03T16:25:44.793889Z",
     "iopub.status.busy": "2022-06-03T16:25:44.793594Z",
     "iopub.status.idle": "2022-06-03T16:26:28.730724Z",
     "shell.execute_reply": "2022-06-03T16:26:28.730265Z",
     "shell.execute_reply.started": "2022-06-03T16:25:44.793865Z"
    },
    "tags": []
   },
   "outputs": [
    {
     "name": "stdout",
     "output_type": "stream",
     "text": [
      "(318003, 15)\n",
      "(52873, 15)\n",
      "(143756, 17)\n",
      "(4872, 17)\n",
      "time: 43.9 s (started: 2022-06-03 12:25:44 -04:00)\n"
     ]
    }
   ],
   "source": [
    "pk_group = placekey_df.copy(deep = True)[rad_in_cols + ['placekey']]\n",
    "print(pk_group.shape) # (316704, 15)\n",
    "# NOTE: as of now, 2 businesses with different SUITES are mapped to same placekey!\n",
    "# TODO: need to consider addressSub to expand a address1 into multiple addresses, if possible! (and AddressSub to expand Address1) \n",
    "\n",
    "# each row (keyed on hex13) contains either rid, or aid\n",
    "h3_group = df_h3_dup.copy(deep = True)[rad_in_cols + ['hex13']]\n",
    "print(h3_group.shape) # (53133, 15)\n",
    "\n",
    "for GROUPBY, group_df in zip(['placekey', 'hex13'], [pk_group, h3_group]):\n",
    "    group_df = group_df.merge(alanduse[[\n",
    "        'aid', 'alanduse']], on='aid', how='left').merge(rlanduse[[\n",
    "        'rid', 'rlanduse']], on='rid', how='left')\n",
    "\n",
    "    group_df = group_df.groupby(GROUPBY).agg({col : list for col in rad_in_cols + ['alanduse', 'rlanduse']})\n",
    "    # Combine 2 list columns with + operator\n",
    "    group_df['landuse'] = np.vectorize(rad_landuse_classifier_many)(group_df['alanduse'] + group_df['rlanduse'])\n",
    "    print(group_df.shape) # (147627, 17)\n",
    "    # SAVE\n",
    "    if GROUPBY == 'placekey': pk_group = group_df # (142625, 17)\n",
    "    else: h3_group = group_df # (5002, 17)\n"
   ]
  },
  {
   "cell_type": "code",
   "execution_count": 90,
   "id": "526dd92e-6674-4374-a068-1f3c3222391a",
   "metadata": {
    "execution": {
     "iopub.execute_input": "2022-06-03T16:26:28.731782Z",
     "iopub.status.busy": "2022-06-03T16:26:28.731631Z",
     "iopub.status.idle": "2022-06-03T16:26:28.840220Z",
     "shell.execute_reply": "2022-06-03T16:26:28.839818Z",
     "shell.execute_reply.started": "2022-06-03T16:26:28.731766Z"
    },
    "tags": []
   },
   "outputs": [
    {
     "data": {
      "text/html": [
       "<div>\n",
       "<style scoped>\n",
       "    .dataframe tbody tr th:only-of-type {\n",
       "        vertical-align: middle;\n",
       "    }\n",
       "\n",
       "    .dataframe tbody tr th {\n",
       "        vertical-align: top;\n",
       "    }\n",
       "\n",
       "    .dataframe thead th {\n",
       "        text-align: right;\n",
       "    }\n",
       "</style>\n",
       "<table border=\"1\" class=\"dataframe\">\n",
       "  <thead>\n",
       "    <tr style=\"text-align: right;\">\n",
       "      <th></th>\n",
       "      <th>alanduse</th>\n",
       "      <th>rlanduse</th>\n",
       "      <th>landuse</th>\n",
       "    </tr>\n",
       "    <tr>\n",
       "      <th>hex13</th>\n",
       "      <th></th>\n",
       "      <th></th>\n",
       "      <th></th>\n",
       "    </tr>\n",
       "  </thead>\n",
       "  <tbody>\n",
       "    <tr>\n",
       "      <th>8d2609581826aff</th>\n",
       "      <td>[resi, resi, resi, resi, resi, resi, resi, res...</td>\n",
       "      <td>[nan, nan, nan, nan, nan, nan, nan, nan, nan, ...</td>\n",
       "      <td>resi</td>\n",
       "    </tr>\n",
       "    <tr>\n",
       "      <th>8d26726ce01ac7f</th>\n",
       "      <td>[resi, resi]</td>\n",
       "      <td>[nan, nan]</td>\n",
       "      <td>resi</td>\n",
       "    </tr>\n",
       "    <tr>\n",
       "      <th>8d26567219ae0ff</th>\n",
       "      <td>[nan, nan]</td>\n",
       "      <td>[rem, rem]</td>\n",
       "      <td>rem</td>\n",
       "    </tr>\n",
       "  </tbody>\n",
       "</table>\n",
       "</div>"
      ],
      "text/plain": [
       "                                                          alanduse  \\\n",
       "hex13                                                                \n",
       "8d2609581826aff  [resi, resi, resi, resi, resi, resi, resi, res...   \n",
       "8d26726ce01ac7f                                       [resi, resi]   \n",
       "8d26567219ae0ff                                         [nan, nan]   \n",
       "\n",
       "                                                          rlanduse landuse  \n",
       "hex13                                                                       \n",
       "8d2609581826aff  [nan, nan, nan, nan, nan, nan, nan, nan, nan, ...    resi  \n",
       "8d26726ce01ac7f                                         [nan, nan]    resi  \n",
       "8d26567219ae0ff                                         [rem, rem]     rem  "
      ]
     },
     "execution_count": 90,
     "metadata": {},
     "output_type": "execute_result"
    },
    {
     "name": "stdout",
     "output_type": "stream",
     "text": [
      "time: 106 ms (started: 2022-06-03 12:26:28 -04:00)\n"
     ]
    }
   ],
   "source": [
    "pk_group[['alanduse', 'rlanduse', 'landuse']].sample(3, random_state=2)\n",
    "\n",
    "h3_group[['alanduse', 'rlanduse', 'landuse']].sample(3, random_state=2)"
   ]
  },
  {
   "cell_type": "markdown",
   "id": "ea03630a-882b-466c-a065-2444c3a20ad2",
   "metadata": {
    "execution": {
     "iopub.execute_input": "2022-05-26T01:52:10.200868Z",
     "iopub.status.busy": "2022-05-26T01:52:10.200574Z",
     "iopub.status.idle": "2022-05-26T01:52:10.203228Z",
     "shell.execute_reply": "2022-05-26T01:52:10.202813Z",
     "shell.execute_reply.started": "2022-05-26T01:52:10.200847Z"
    }
   },
   "source": [
    "#### point in polygon"
   ]
  },
  {
   "cell_type": "code",
   "execution_count": 91,
   "id": "a6443434-b2a5-44dd-a584-16c0a48db8ae",
   "metadata": {
    "execution": {
     "iopub.execute_input": "2022-06-03T16:26:43.866570Z",
     "iopub.status.busy": "2022-06-03T16:26:43.866243Z",
     "iopub.status.idle": "2022-06-03T16:26:43.869953Z",
     "shell.execute_reply": "2022-06-03T16:26:43.869539Z",
     "shell.execute_reply.started": "2022-06-03T16:26:43.866545Z"
    },
    "tags": []
   },
   "outputs": [
    {
     "name": "stdout",
     "output_type": "stream",
     "text": [
      "time: 445 µs (started: 2022-06-03 12:26:43 -04:00)\n"
     ]
    }
   ],
   "source": [
    "rad_in_acols = ['aid', 'Address1', 'AddressSub', 'Owner', 'Owner2', 'Lat', 'Lon']\n",
    "rad_in_rcols = ['rid', 'address1', 'addressSub', 'owner', 'owner2', 'lat', 'lon']\n"
   ]
  },
  {
   "cell_type": "code",
   "execution_count": 92,
   "id": "1fe89b75-d1f5-464f-9b88-76c7b2fab042",
   "metadata": {
    "execution": {
     "iopub.execute_input": "2022-06-03T16:26:47.467903Z",
     "iopub.status.busy": "2022-06-03T16:26:47.467287Z",
     "iopub.status.idle": "2022-06-03T16:27:14.153702Z",
     "shell.execute_reply": "2022-06-03T16:27:14.153307Z",
     "shell.execute_reply.started": "2022-06-03T16:26:47.467880Z"
    },
    "tags": []
   },
   "outputs": [
    {
     "name": "stdout",
     "output_type": "stream",
     "text": [
      "(179254, 7)\n",
      "(179254, 15)\n"
     ]
    },
    {
     "data": {
      "text/plain": [
       "(179254, 16)"
      ]
     },
     "execution_count": 92,
     "metadata": {},
     "output_type": "execute_result"
    },
    {
     "name": "stdout",
     "output_type": "stream",
     "text": [
      "time: 26.7 s (started: 2022-06-03 12:26:47 -04:00)\n"
     ]
    }
   ],
   "source": [
    "pip_group_prev = df_pip.copy(deep=True)[rad_in_cols]\n",
    "# each row (keyed on rid) contains 1 rid, 1 aid\n",
    "pip_group_prev.shape, pip_group_prev.rid.count(), pip_group_prev.aid.count()\n",
    "\n",
    "pip_group_prev = pip_group_prev.merge(alanduse[[\n",
    "    'aid', 'alanduse']], on='aid', how='left')\n",
    "pip_group_prev = pip_group_prev.merge(rlanduse[[\n",
    "    'rid', 'rlanduse']], on='rid', how='left')\n",
    "\n",
    "pip_group = pip_group_prev.groupby('rid').agg({ col : list for col in rad_in_acols + ['alanduse']})\n",
    "pip_group.shape # (180311, 8)\n",
    "\n",
    "pip_group_prev.set_index('rid', inplace=True)\n",
    "\n",
    "# drop duplicate indices\n",
    "pip_group_prev = pip_group_prev[~pip_group_prev.index.duplicated(keep='first')][['rlanduse', 'address1', 'addressSub', 'owner', 'owner2', 'lat', 'lon']] \n",
    "print(pip_group_prev.shape) # IMPORTANT: (180311, 7)\n",
    "# excludes rid, includes rlanduse: turn regular column into list column\n",
    "for col in pip_group_prev.columns:\n",
    "    pip_group_prev[col] = pip_group_prev[col].map(lambda x: [x])  \n",
    "\n",
    "pip_group = pip_group.join(pip_group_prev, how = 'left') \n",
    "print(pip_group.shape) # (180311, 15)\n",
    "\n",
    "pip_group['landuse'] = np.vectorize(rad_landuse_classifier_many)(pip_group['alanduse'] + pip_group['rlanduse'])  \n",
    "pip_group.shape # (180311, 16)"
   ]
  },
  {
   "cell_type": "code",
   "execution_count": 93,
   "id": "d4c8e36d-7db4-4972-b03e-14abd0c33cf4",
   "metadata": {
    "execution": {
     "iopub.execute_input": "2022-06-03T16:27:14.154680Z",
     "iopub.status.busy": "2022-06-03T16:27:14.154540Z",
     "iopub.status.idle": "2022-06-03T16:27:14.301654Z",
     "shell.execute_reply": "2022-06-03T16:27:14.301256Z",
     "shell.execute_reply.started": "2022-06-03T16:27:14.154664Z"
    },
    "tags": []
   },
   "outputs": [
    {
     "data": {
      "text/html": [
       "<div>\n",
       "<style scoped>\n",
       "    .dataframe tbody tr th:only-of-type {\n",
       "        vertical-align: middle;\n",
       "    }\n",
       "\n",
       "    .dataframe tbody tr th {\n",
       "        vertical-align: top;\n",
       "    }\n",
       "\n",
       "    .dataframe thead th {\n",
       "        text-align: right;\n",
       "    }\n",
       "</style>\n",
       "<table border=\"1\" class=\"dataframe\">\n",
       "  <thead>\n",
       "    <tr style=\"text-align: right;\">\n",
       "      <th></th>\n",
       "      <th>alanduse</th>\n",
       "      <th>rlanduse</th>\n",
       "      <th>landuse</th>\n",
       "    </tr>\n",
       "    <tr>\n",
       "      <th>rid</th>\n",
       "      <th></th>\n",
       "      <th></th>\n",
       "      <th></th>\n",
       "    </tr>\n",
       "  </thead>\n",
       "  <tbody>\n",
       "    <tr>\n",
       "      <th>f3a70b06-9c13-4dad-82cf-d2e6691a281e</th>\n",
       "      <td>[farm]</td>\n",
       "      <td>[farm]</td>\n",
       "      <td>farm</td>\n",
       "    </tr>\n",
       "    <tr>\n",
       "      <th>176c4bac-6846-4a00-863c-06c3d6daf215</th>\n",
       "      <td>[resi]</td>\n",
       "      <td>[rem]</td>\n",
       "      <td>resi</td>\n",
       "    </tr>\n",
       "    <tr>\n",
       "      <th>b22d627a-a30a-41cb-aac9-7b1829c75b0c</th>\n",
       "      <td>[resi]</td>\n",
       "      <td>[rem]</td>\n",
       "      <td>resi</td>\n",
       "    </tr>\n",
       "  </tbody>\n",
       "</table>\n",
       "</div>"
      ],
      "text/plain": [
       "                                     alanduse rlanduse landuse\n",
       "rid                                                           \n",
       "f3a70b06-9c13-4dad-82cf-d2e6691a281e   [farm]   [farm]    farm\n",
       "176c4bac-6846-4a00-863c-06c3d6daf215   [resi]    [rem]    resi\n",
       "b22d627a-a30a-41cb-aac9-7b1829c75b0c   [resi]    [rem]    resi"
      ]
     },
     "execution_count": 93,
     "metadata": {},
     "output_type": "execute_result"
    },
    {
     "name": "stdout",
     "output_type": "stream",
     "text": [
      "time: 145 ms (started: 2022-06-03 12:27:14 -04:00)\n"
     ]
    }
   ],
   "source": [
    "pip_group[['alanduse', 'rlanduse', 'landuse']].sample(3, random_state=2)"
   ]
  },
  {
   "cell_type": "markdown",
   "id": "e283e652-fc6b-43dd-a8a5-0002f5dc581d",
   "metadata": {},
   "source": [
    "# OTHERS: Reconcile: pId and other primary fields"
   ]
  },
  {
   "cell_type": "code",
   "execution_count": 95,
   "id": "47e14b68-4f7f-4626-a2ac-d88b9dbaba7e",
   "metadata": {
    "execution": {
     "iopub.execute_input": "2022-06-03T16:28:49.367562Z",
     "iopub.status.busy": "2022-06-03T16:28:49.367149Z",
     "iopub.status.idle": "2022-06-03T16:29:04.736332Z",
     "shell.execute_reply": "2022-06-03T16:29:04.735936Z",
     "shell.execute_reply.started": "2022-06-03T16:28:49.367530Z"
    },
    "tags": []
   },
   "outputs": [
    {
     "data": {
      "text/html": [
       "<div>\n",
       "<style scoped>\n",
       "    .dataframe tbody tr th:only-of-type {\n",
       "        vertical-align: middle;\n",
       "    }\n",
       "\n",
       "    .dataframe tbody tr th {\n",
       "        vertical-align: top;\n",
       "    }\n",
       "\n",
       "    .dataframe thead th {\n",
       "        text-align: right;\n",
       "    }\n",
       "</style>\n",
       "<table border=\"1\" class=\"dataframe\">\n",
       "  <thead>\n",
       "    <tr style=\"text-align: right;\">\n",
       "      <th></th>\n",
       "      <th>owner</th>\n",
       "      <th>owner2</th>\n",
       "      <th>Owner</th>\n",
       "      <th>Owner2</th>\n",
       "      <th>pOwner</th>\n",
       "    </tr>\n",
       "  </thead>\n",
       "  <tbody>\n",
       "    <tr>\n",
       "      <th>2260087</th>\n",
       "      <td>NaN</td>\n",
       "      <td>NaN</td>\n",
       "      <td>NaN</td>\n",
       "      <td>NaN</td>\n",
       "      <td>NaN</td>\n",
       "    </tr>\n",
       "    <tr>\n",
       "      <th>2553347</th>\n",
       "      <td>NaN</td>\n",
       "      <td>NaN</td>\n",
       "      <td>NaN</td>\n",
       "      <td>NaN</td>\n",
       "      <td>NaN</td>\n",
       "    </tr>\n",
       "  </tbody>\n",
       "</table>\n",
       "</div>"
      ],
      "text/plain": [
       "        owner owner2 Owner Owner2 pOwner\n",
       "2260087   NaN    NaN   NaN    NaN    NaN\n",
       "2553347   NaN    NaN   NaN    NaN    NaN"
      ]
     },
     "execution_count": 95,
     "metadata": {},
     "output_type": "execute_result"
    },
    {
     "name": "stdout",
     "output_type": "stream",
     "text": [
      "time: 15.4 s (started: 2022-06-03 12:28:49 -04:00)\n"
     ]
    }
   ],
   "source": [
    "# copy rid to rId\n",
    "rad12['rId'] = rad12[['rid']]\n",
    "\n",
    "# 5 new columns\n",
    "conds = rad12['address1'].isna() & rad12['Address1'].notna()\n",
    "conds_ndarr = np.tile(conds.values[:, None], 3)\n",
    "rad12[['pId', 'pAddress1', 'pAddressSub', ]] = np.where(conds_ndarr, \n",
    "                        rad12[['aid', 'Address1', 'AddressSub', ]],\n",
    "                        rad12[['rid', 'address1', 'addressSub', ]],)   \n",
    "\n",
    "rad12['pLat'] = np.where(rad12['lat'].isna() & rad12['Lat'].notna(), \n",
    "                                 rad12['Lat'], rad12['lat'])\n",
    "rad12['pLon'] = np.where(rad12['lon'].isna() & rad12['Lon'].notna(), \n",
    "                                 rad12['Lon'], rad12['lon'])\n",
    "                                 \n",
    "\n",
    "# Clean some bad owner data\n",
    "rad12.query('owner != owner & owner2 == owner2').shape # (152, 54) -- nasty data\n",
    "rad12['owner'] = np.where(rad12['owner'].isna(), rad12['owner2'], rad12['owner'])\n",
    "\n",
    "rad12.query('Owner != Owner & Owner2 == Owner2').shape # (18, 54) -- nasty data\n",
    "rad12['Owner'] = np.where(rad12.Owner.isna(), rad12.Owner2, rad12.Owner)\n",
    "\n",
    "rad12['pOwner'] = np.where(rad12['owner'].notna(), rad12['owner'], rad12['Owner'])\n",
    "\n",
    "# only 2 rows with no owners!\n",
    "rad12.query('pOwner != pOwner')[['owner', 'owner2', 'Owner', 'Owner2', 'pOwner']]"
   ]
  },
  {
   "cell_type": "markdown",
   "id": "6eee85e3-fbe2-45a6-b21e-0c37163c0ab4",
   "metadata": {
    "execution": {
     "iopub.execute_input": "2022-05-27T07:56:02.620815Z",
     "iopub.status.busy": "2022-05-27T07:56:02.620519Z",
     "iopub.status.idle": "2022-05-27T07:56:02.623236Z",
     "shell.execute_reply": "2022-05-27T07:56:02.622813Z",
     "shell.execute_reply.started": "2022-05-27T07:56:02.620793Z"
    }
   },
   "source": [
    "#### pk_group and h3_group are similar"
   ]
  },
  {
   "cell_type": "code",
   "execution_count": null,
   "id": "008e9b26-8037-4d1e-9892-7294f949346e",
   "metadata": {},
   "outputs": [
    {
     "data": {
      "text/plain": [
       "pId            4872\n",
       "rId            1191\n",
       "pAddress1      3051\n",
       "pAddressSub     232\n",
       "pOwner         4858\n",
       "pLat           4872\n",
       "pLon           4872\n",
       "dtype: int64"
      ]
     },
     "execution_count": 96,
     "metadata": {},
     "output_type": "execute_result"
    },
    {
     "name": "stdout",
     "output_type": "stream",
     "text": [
      "time: 1.91 s (started: 2022-06-03 12:29:30 -04:00)\n"
     ]
    }
   ],
   "source": [
    "pk_group['fields'] =  np.vectorize(rad_fields_vec)(\n",
    "    pk_group['rid'],    pk_group['aid'],    pk_group['address1'],    pk_group['addressSub'],    \n",
    "    pk_group['Address1'],    pk_group['AddressSub'],    pk_group['lat'],    pk_group['lon'],    \n",
    "    pk_group['Lat'],    pk_group['Lon'],    \n",
    "    pk_group['owner'],    pk_group['owner2'],    pk_group['Owner'],    pk_group['Owner2'],)\n",
    "# SPLIT fields into subfields\n",
    "pk_group[rad_out_cols] = pk_group.fields.str.split(\"\\t\", expand=True).replace([\"None\", \"nan\"], np.nan)\n",
    "pk_group[rad_out_cols].count()\n",
    "# pId            142625\n",
    "# rId            137837\n",
    "# pAddress1      142625\n",
    "# pAddressSub      1475\n",
    "# pOwner         142620 # 5 rows without owners\n",
    "# pLat           142601\n",
    "# pLon           142601\n",
    "\n",
    "h3_group['fields'] =  np.vectorize(rad_fields_vec)(\n",
    "    h3_group['rid'],    h3_group['aid'],    h3_group['address1'],    h3_group['addressSub'],    \n",
    "    h3_group['Address1'],    h3_group['AddressSub'],    h3_group['lat'],    h3_group['lon'],    \n",
    "    h3_group['Lat'],    h3_group['Lon'],    \n",
    "    h3_group['owner'],    h3_group['owner2'],    h3_group['Owner'],    h3_group['Owner2'],)\n",
    "# SPLIT fields into subfields\n",
    "h3_group[rad_out_cols] = h3_group.fields.str.split(\"\\t\", expand=True).replace([\"None\", \"nan\"], np.nan)\n",
    "h3_group[rad_out_cols].count()\n",
    "# pId            5002\n",
    "# rId            1310\n",
    "# pAddress1      3797\n",
    "# pAddressSub     252\n",
    "# pOwner         4988\n",
    "# pLat           5002\n",
    "# pLon           5002\n"
   ]
  },
  {
   "cell_type": "markdown",
   "id": "3dde8824-e82e-4a50-9873-ac0f6246c046",
   "metadata": {},
   "source": [
    "### pip_group"
   ]
  },
  {
   "cell_type": "code",
   "execution_count": 102,
   "id": "71e5514b-20a5-4448-9358-5c7f0e1cbefe",
   "metadata": {
    "execution": {
     "iopub.execute_input": "2022-06-03T16:31:52.549137Z",
     "iopub.status.busy": "2022-06-03T16:31:52.548846Z",
     "iopub.status.idle": "2022-06-03T16:31:55.145363Z",
     "shell.execute_reply": "2022-06-03T16:31:55.144960Z",
     "shell.execute_reply.started": "2022-06-03T16:31:52.549115Z"
    },
    "tags": []
   },
   "outputs": [
    {
     "data": {
      "text/plain": [
       "pId            179254\n",
       "rId            179254\n",
       "pAddress1      114728\n",
       "pAddressSub      6587\n",
       "pOwner         179254\n",
       "pLat           179254\n",
       "pLon           179254\n",
       "dtype: int64"
      ]
     },
     "execution_count": 102,
     "metadata": {},
     "output_type": "execute_result"
    },
    {
     "name": "stdout",
     "output_type": "stream",
     "text": [
      "time: 2.59 s (started: 2022-06-03 12:31:52 -04:00)\n"
     ]
    }
   ],
   "source": [
    "pip_group.reset_index(inplace=True)\n",
    "pip_group['rid'] = pip_group['rid'].map(lambda cell: [cell])\n",
    "\n",
    "pip_group['fields'] =  np.vectorize(rad_fields_vec)(\n",
    "    pip_group['rid'],    pip_group['aid'],    pip_group['address1'],    pip_group['addressSub'],    \n",
    "    pip_group['Address1'],    pip_group['AddressSub'],    pip_group['lat'],    pip_group['lon'],    \n",
    "    pip_group['Lat'],    pip_group['Lon'],    \n",
    "    pip_group['owner'],    pip_group['owner2'],    pip_group['Owner'],    pip_group['Owner2'],)\n",
    "# SPLIT fields into subfields\n",
    "pip_group[rad_out_cols] = pip_group.fields.str.split(\"\\t\", expand=True).replace([\"None\", \"nan\"], np.nan)\n",
    "pip_group[rad_out_cols].count()\n",
    "# pId            180311\n",
    "# rId            180311\n",
    "# pAddress1      115093\n",
    "# pAddressSub      6809\n",
    "# pOwner         180311\n",
    "# pLat           180311\n",
    "# pLon           180311"
   ]
  },
  {
   "cell_type": "markdown",
   "id": "147aa0b1-c392-4f31-ac89-4fc3590a0981",
   "metadata": {},
   "source": [
    "### easy peasy"
   ]
  },
  {
   "cell_type": "code",
   "execution_count": 103,
   "id": "754ca812-af60-431e-af37-588139dc008c",
   "metadata": {
    "execution": {
     "iopub.execute_input": "2022-06-03T16:32:25.494617Z",
     "iopub.status.busy": "2022-06-03T16:32:25.494277Z",
     "iopub.status.idle": "2022-06-03T16:32:30.633986Z",
     "shell.execute_reply": "2022-06-03T16:32:30.633581Z",
     "shell.execute_reply.started": "2022-06-03T16:32:25.494593Z"
    },
    "tags": []
   },
   "outputs": [
    {
     "data": {
      "text/plain": [
       "((111601, 8), (68755, 8))"
      ]
     },
     "execution_count": 103,
     "metadata": {},
     "output_type": "execute_result"
    },
    {
     "name": "stdout",
     "output_type": "stream",
     "text": [
      "time: 5.14 s (started: 2022-06-03 12:32:25 -04:00)\n"
     ]
    }
   ],
   "source": [
    "df_points = df_rem.query('aid == aid')[\n",
    "    ['aid', 'Owner', 'Owner2', 'Address1', 'AddressSub', 'Lat', 'Lon' ,]]\n",
    "df_points = df_points.merge(alanduse[['aid', 'alanduse']], \n",
    "                            on='aid', how='left')\n",
    "\n",
    "# regrid_geom.merge(...geometry) # if want kepler visual\n",
    "df_polys = df_rem.query('rid == rid')[\n",
    "    ['rid', 'owner', 'owner2', 'address1', 'addressSub', 'lat', 'lon']]\n",
    "df_polys = df_polys.merge(rlanduse[['rid', 'rlanduse']], \n",
    "                          on='rid', how='left')\n",
    "\n",
    "df_points.shape, df_polys.shape # ((110979, 8), (64474, 8))"
   ]
  },
  {
   "cell_type": "code",
   "execution_count": 104,
   "id": "d5502926-68fa-4572-ad4f-44674e5485da",
   "metadata": {
    "execution": {
     "iopub.execute_input": "2022-06-03T16:33:01.820332Z",
     "iopub.status.busy": "2022-06-03T16:33:01.820021Z",
     "iopub.status.idle": "2022-06-03T16:33:01.928563Z",
     "shell.execute_reply": "2022-06-03T16:33:01.928117Z",
     "shell.execute_reply.started": "2022-06-03T16:33:01.820302Z"
    },
    "tags": []
   },
   "outputs": [
    {
     "name": "stdout",
     "output_type": "stream",
     "text": [
      "time: 105 ms (started: 2022-06-03 12:33:01 -04:00)\n"
     ]
    }
   ],
   "source": [
    "df_points = df_points.rename(columns= {\n",
    "    'aid' : 'pId',\n",
    "    'alanduse' : 'landuse',\n",
    "    'Address1' : 'pAddress1',\n",
    "    'AddressSub' : 'pAddressSub',\n",
    "    'Lat' : 'pLat',\n",
    "    'Lon' : 'pLon',\n",
    "})\n",
    "df_points['pOwner'] = np.where(df_points.Owner.isna(), df_points.Owner2, df_points.Owner)\n",
    "df_points['rId'] = np.nan\n",
    "# df_points = df_points[rad_out_cols].copy()\n",
    "\n",
    "df_polys = df_polys.rename(columns= {\n",
    "    'rid' : 'pId',\n",
    "    'rlanduse' : 'landuse',\n",
    "    'address1' : 'pAddress1',\n",
    "    'addressSub' : 'pAddressSub',\n",
    "    'lat' : 'pLat',\n",
    "    'lon' : 'pLon',\n",
    "})\n",
    "df_polys['pOwner'] = np.where(df_polys.owner.isna(), df_polys.owner2, df_polys.owner)\n",
    "df_polys['rId'] = df_polys['pId']\n",
    "# df_polys = df_polys[rad_out_cols].copy()\n"
   ]
  },
  {
   "cell_type": "code",
   "execution_count": 105,
   "id": "232e1064-e367-476e-a1db-24cc06f9d891",
   "metadata": {
    "execution": {
     "iopub.execute_input": "2022-06-03T16:33:15.800586Z",
     "iopub.status.busy": "2022-06-03T16:33:15.800286Z",
     "iopub.status.idle": "2022-06-03T16:33:15.860008Z",
     "shell.execute_reply": "2022-06-03T16:33:15.859595Z",
     "shell.execute_reply.started": "2022-06-03T16:33:15.800563Z"
    },
    "tags": []
   },
   "outputs": [
    {
     "data": {
      "text/plain": [
       "(1990, 10)"
      ]
     },
     "execution_count": 105,
     "metadata": {},
     "output_type": "execute_result"
    },
    {
     "name": "stdout",
     "output_type": "stream",
     "text": [
      "time: 57.3 ms (started: 2022-06-03 12:33:15 -04:00)\n"
     ]
    }
   ],
   "source": [
    "# TODO LATER: before PIP step: for rows with address, and no lat/lon: GEOCODE them to get lat, lon; then put through PIP step!\n",
    "df_points.query('pAddress1 == pAddress1 & pLat != pLat').shape # (2017, 10) jun3 (1990, 10)"
   ]
  },
  {
   "cell_type": "code",
   "execution_count": 106,
   "id": "711bd073-ebfe-4b94-a402-a1632ef426e5",
   "metadata": {
    "execution": {
     "iopub.execute_input": "2022-06-03T16:33:16.516247Z",
     "iopub.status.busy": "2022-06-03T16:33:16.515962Z",
     "iopub.status.idle": "2022-06-03T16:33:16.540162Z",
     "shell.execute_reply": "2022-06-03T16:33:16.539757Z",
     "shell.execute_reply.started": "2022-06-03T16:33:16.516225Z"
    },
    "tags": []
   },
   "outputs": [
    {
     "data": {
      "text/plain": [
       "(26728, 10)"
      ]
     },
     "execution_count": 106,
     "metadata": {},
     "output_type": "execute_result"
    },
    {
     "name": "stdout",
     "output_type": "stream",
     "text": [
      "time: 21.8 ms (started: 2022-06-03 12:33:16 -04:00)\n"
     ]
    }
   ],
   "source": [
    "# these are valid points that haven't been mapped to polygons in PIP step\n",
    "df_points.query('pAddress1 != pAddress1 & pLat == pLat').shape # (26401, 10) jun3 (26728, 10)"
   ]
  },
  {
   "cell_type": "markdown",
   "id": "8504a2d5-5de6-4b01-9eff-1c9b5658124c",
   "metadata": {},
   "source": [
    "# TODO: check demand points counts against \n",
    "- ACS provides BIZ counts at zipcode level \n",
    "- ACS provides RESIDENTIAL/HOME counts at CB level\n"
   ]
  },
  {
   "cell_type": "markdown",
   "id": "95293167-d1a2-4acb-92a4-fd0e44a02d6f",
   "metadata": {},
   "source": [
    "# DONE: saving checkpoints"
   ]
  },
  {
   "cell_type": "code",
   "execution_count": 110,
   "id": "cbbcc761-6bd2-41bf-98db-8e1713b1fe4d",
   "metadata": {
    "execution": {
     "iopub.execute_input": "2022-06-03T16:36:35.629404Z",
     "iopub.status.busy": "2022-06-03T16:36:35.629096Z",
     "iopub.status.idle": "2022-06-03T16:36:35.632825Z",
     "shell.execute_reply": "2022-06-03T16:36:35.632440Z",
     "shell.execute_reply.started": "2022-06-03T16:36:35.629379Z"
    },
    "tags": []
   },
   "outputs": [
    {
     "name": "stdout",
     "output_type": "stream",
     "text": [
      "{<class 'pandas.core.frame.DataFrame'>}\n",
      "time: 663 µs (started: 2022-06-03 12:36:35 -04:00)\n"
     ]
    }
   ],
   "source": [
    "print(set([type(rad12), type(pk_group), type(pip_group), type(h3_group), type(df_points), type(df_polys),]))"
   ]
  },
  {
   "cell_type": "code",
   "execution_count": 111,
   "id": "9000056a-0ff5-4bbe-ab8c-2d996c0c9c66",
   "metadata": {
    "execution": {
     "iopub.execute_input": "2022-06-03T16:36:38.013009Z",
     "iopub.status.busy": "2022-06-03T16:36:38.012714Z",
     "iopub.status.idle": "2022-06-03T16:36:46.196866Z",
     "shell.execute_reply": "2022-06-03T16:36:46.196426Z",
     "shell.execute_reply.started": "2022-06-03T16:36:38.012987Z"
    },
    "tags": []
   },
   "outputs": [
    {
     "name": "stdout",
     "output_type": "stream",
     "text": [
      "time: 8.18 s (started: 2022-06-03 12:36:38 -04:00)\n"
     ]
    }
   ],
   "source": [
    "rad12.reset_index(drop=True).to_feather(f'temp/jun3_{sf_code}_rad12.ftr')\n",
    "\n",
    "# index = placekey\n",
    "pk_group.reset_index().to_feather(f'temp/jun3_{sf_code}_pk.ftr')\n",
    "# index = rid, but is later reset\n",
    "pip_group.reset_index(drop=True).to_feather(f'temp/jun3_{sf_code}_pip.ftr')\n",
    "\n",
    "# index = hex13\n",
    "h3_group.reset_index().to_feather(f'temp/jun3_{sf_code}_h3.ftr')\n",
    "\n",
    "df_points.reset_index(drop=True).to_feather(f'temp/jun3_{sf_code}_points.ftr')\n",
    "df_polys.reset_index(drop=True).to_feather(f'temp/jun3_{sf_code}_polys.ftr')"
   ]
  },
  {
   "cell_type": "markdown",
   "id": "69930eae-f968-4d00-8dc0-753201ab3506",
   "metadata": {},
   "source": [
    "# altIds; combine df components"
   ]
  },
  {
   "cell_type": "code",
   "execution_count": 121,
   "id": "28367461-3660-468d-8a91-d14f27f86db5",
   "metadata": {
    "execution": {
     "iopub.execute_input": "2022-06-03T16:41:13.003864Z",
     "iopub.status.busy": "2022-06-03T16:41:13.003297Z",
     "iopub.status.idle": "2022-06-03T16:41:13.006731Z",
     "shell.execute_reply": "2022-06-03T16:41:13.006287Z",
     "shell.execute_reply.started": "2022-06-03T16:41:13.003840Z"
    },
    "tags": []
   },
   "outputs": [
    {
     "name": "stdout",
     "output_type": "stream",
     "text": [
      "['pId', 'rId', 'pAddress1', 'pAddressSub', 'pOwner', 'pLat', 'pLon', 'altIds', 'landuse']\n",
      "time: 437 µs (started: 2022-06-03 12:41:13 -04:00)\n"
     ]
    }
   ],
   "source": [
    "outcols = rad_out_cols + ['altIds', 'landuse']\n",
    "print(outcols)"
   ]
  },
  {
   "cell_type": "code",
   "execution_count": 119,
   "id": "3f541f9b-cd45-4026-8e6e-8899c3b3584b",
   "metadata": {
    "execution": {
     "iopub.execute_input": "2022-06-03T16:40:49.220633Z",
     "iopub.status.busy": "2022-06-03T16:40:49.220321Z",
     "iopub.status.idle": "2022-06-03T16:40:50.796454Z",
     "shell.execute_reply": "2022-06-03T16:40:50.796019Z",
     "shell.execute_reply.started": "2022-06-03T16:40:49.220610Z"
    }
   },
   "outputs": [],
   "source": [
    "# add alternative ids column\n",
    "rad12['altIds'] = list(zip(rad12.rid, rad12.aid))\n",
    "\n",
    "pk_group['altIds'] = pk_group[['rid', 'aid']].apply(lambda row: [v for l in row for v in l if v is not np.nan], axis=1)\n",
    "h3_group['altIds'] = h3_group[['rid', 'aid']].apply(lambda row: [v for l in row for v in l if v is not np.nan], axis=1)\n",
    "pip_group['altIds'] = pip_group[['rid', 'aid']].apply(lambda row: [v for l in row for v in l if v is not np.nan], axis=1)\n",
    "\n",
    "# just pId column\n",
    "df_points['altIds'] = df_points['pId'].map(lambda cell: [cell])\n",
    "df_polys['altIds'] = df_polys['pId'].map(lambda cell: [cell])"
   ]
  },
  {
   "cell_type": "code",
   "execution_count": 165,
   "id": "f38b8a5a-1f5f-4407-81da-964813d1a897",
   "metadata": {
    "execution": {
     "iopub.execute_input": "2022-06-03T17:00:46.447127Z",
     "iopub.status.busy": "2022-06-03T17:00:46.446823Z",
     "iopub.status.idle": "2022-06-03T17:00:47.974940Z",
     "shell.execute_reply": "2022-06-03T17:00:47.974538Z",
     "shell.execute_reply.started": "2022-06-03T17:00:46.447105Z"
    },
    "tags": []
   },
   "outputs": [
    {
     "data": {
      "text/plain": [
       "(3320097, 11)"
      ]
     },
     "execution_count": 165,
     "metadata": {},
     "output_type": "execute_result"
    },
    {
     "name": "stdout",
     "output_type": "stream",
     "text": [
      "time: 1.53 s (started: 2022-06-03 13:00:46 -04:00)\n"
     ]
    }
   ],
   "source": [
    "rad_df = pd.concat([rad12[outcols], \n",
    "            pk_group[outcols].reset_index(),\n",
    "            h3_group[outcols].reset_index(),\n",
    "            pip_group[outcols], # index=rid=rId=pId\n",
    "            df_points[outcols],\n",
    "            df_polys[outcols],])\n",
    "rad_df.shape # (3316869, 10); jun3 (3320097, 11)"
   ]
  },
  {
   "cell_type": "code",
   "execution_count": 169,
   "id": "ee4406c1-ec89-4440-875b-3d1b0827f6ac",
   "metadata": {
    "execution": {
     "iopub.execute_input": "2022-06-03T17:01:28.300859Z",
     "iopub.status.busy": "2022-06-03T17:01:28.300559Z",
     "iopub.status.idle": "2022-06-03T17:01:32.649471Z",
     "shell.execute_reply": "2022-06-03T17:01:32.649067Z",
     "shell.execute_reply.started": "2022-06-03T17:01:28.300837Z"
    },
    "tags": []
   },
   "outputs": [
    {
     "data": {
      "text/plain": [
       "pId            3320097\n",
       "rId            3200073\n",
       "pAddress1      2870335\n",
       "pAddressSub      80820\n",
       "pOwner         3316137\n",
       "pLat           3316599\n",
       "pLon           3316599\n",
       "altIds         3320097\n",
       "landuse        3320097\n",
       "placekey        143756\n",
       "hex13             4872\n",
       "dtype: int64"
      ]
     },
     "execution_count": 169,
     "metadata": {},
     "output_type": "execute_result"
    },
    {
     "name": "stdout",
     "output_type": "stream",
     "text": [
      "time: 4.35 s (started: 2022-06-03 13:01:28 -04:00)\n"
     ]
    }
   ],
   "source": [
    "# THE MOMENT OF TRUTH: more parcels, more details, more coverage!\n",
    "rad_df.count()\n",
    "# pId            3316869\n",
    "# rId            3197410\n",
    "# pAddress1      2864705\n",
    "# pAddressSub      78056\n",
    "# pOwner         3312892\n",
    "# pLat           3313340\n",
    "# pLon           3313340\n",
    "# landuse        3316869\n",
    "\n",
    "# JUN3"
   ]
  },
  {
   "cell_type": "code",
   "execution_count": 170,
   "id": "70bde21f-f725-423c-be17-da3ee10f3353",
   "metadata": {
    "execution": {
     "iopub.execute_input": "2022-06-03T17:01:44.895812Z",
     "iopub.status.busy": "2022-06-03T17:01:44.895507Z",
     "iopub.status.idle": "2022-06-03T17:01:46.983438Z",
     "shell.execute_reply": "2022-06-03T17:01:46.983024Z",
     "shell.execute_reply.started": "2022-06-03T17:01:44.895789Z"
    },
    "tags": []
   },
   "outputs": [
    {
     "data": {
      "text/plain": [
       "{6, 7, 8, 9, 36}"
      ]
     },
     "execution_count": 170,
     "metadata": {},
     "output_type": "execute_result"
    },
    {
     "name": "stdout",
     "output_type": "stream",
     "text": [
      "time: 2.09 s (started: 2022-06-03 13:01:44 -04:00)\n"
     ]
    }
   ],
   "source": [
    "# len==36 = Regrid, under10 = Attom\n",
    "set(rad_df.pId.str.len()) # {6, 7, 8, 9, 36}"
   ]
  },
  {
   "cell_type": "code",
   "execution_count": 172,
   "id": "cec28d6a-b596-4cc3-9e4b-658251a1485b",
   "metadata": {
    "execution": {
     "iopub.execute_input": "2022-06-03T17:02:19.697470Z",
     "iopub.status.busy": "2022-06-03T17:02:19.697171Z",
     "iopub.status.idle": "2022-06-03T17:02:21.709883Z",
     "shell.execute_reply": "2022-06-03T17:02:21.709477Z",
     "shell.execute_reply.started": "2022-06-03T17:02:19.697446Z"
    },
    "tags": []
   },
   "outputs": [
    {
     "data": {
      "text/plain": [
       "(3320097, 12)"
      ]
     },
     "execution_count": 172,
     "metadata": {},
     "output_type": "execute_result"
    },
    {
     "name": "stdout",
     "output_type": "stream",
     "text": [
      "time: 2.01 s (started: 2022-06-03 13:02:19 -04:00)\n"
     ]
    }
   ],
   "source": [
    "# REGRID = primary info from REGRID\n",
    "# ATTOM>REGRID = both REGRID and ATTOM cover, but ATTOM has more info\n",
    "# ATTOM = new points from ATTOM (REGRID miss-coverage)\n",
    "rad_df['source'] = np.where(rad_df.pId.str.len() == 36, \n",
    "                          'REGRID', \n",
    "                          np.where(rad_df.rId.notna(), 'ATTOM>REGRID', 'ATTOM'))\n",
    "rad_df.shape # (3316869, 9)"
   ]
  },
  {
   "cell_type": "code",
   "execution_count": 175,
   "id": "829e98c0-3a39-422b-aa1b-76f91c7d9d6e",
   "metadata": {
    "execution": {
     "iopub.execute_input": "2022-06-03T17:04:29.449106Z",
     "iopub.status.busy": "2022-06-03T17:04:29.448809Z",
     "iopub.status.idle": "2022-06-03T17:04:41.760775Z",
     "shell.execute_reply": "2022-06-03T17:04:41.760345Z",
     "shell.execute_reply.started": "2022-06-03T17:04:29.449084Z"
    },
    "tags": []
   },
   "outputs": [
    {
     "name": "stdout",
     "output_type": "stream",
     "text": [
      "time: 12.3 s (started: 2022-06-03 13:04:29 -04:00)\n"
     ]
    }
   ],
   "source": [
    "# Saving checkpoint\n",
    "rad_df.reset_index(drop=True).astype(str).to_feather(f'temp/jun3_{sf_code}_rad.ftr')"
   ]
  },
  {
   "cell_type": "code",
   "execution_count": 174,
   "id": "91795762-8b54-4870-a116-2880f98a2831",
   "metadata": {
    "execution": {
     "iopub.execute_input": "2022-06-03T17:03:59.143627Z",
     "iopub.status.busy": "2022-06-03T17:03:59.143299Z",
     "iopub.status.idle": "2022-06-03T17:04:19.734050Z",
     "shell.execute_reply": "2022-06-03T17:04:19.733598Z",
     "shell.execute_reply.started": "2022-06-03T17:03:59.143604Z"
    },
    "tags": []
   },
   "outputs": [
    {
     "name": "stdout",
     "output_type": "stream",
     "text": [
      "time: 20.6 s (started: 2022-06-03 13:03:59 -04:00)\n"
     ]
    }
   ],
   "source": [
    "# for kepler.gl\n",
    "rad_df.to_csv(f'temp/jun3_{sf_code}_rad.csv', index=False)"
   ]
  },
  {
   "cell_type": "code",
   "execution_count": 113,
   "id": "503a9744-25f0-42a1-a790-eb2f89e5e006",
   "metadata": {
    "execution": {
     "iopub.execute_input": "2022-05-27T09:34:58.442037Z",
     "iopub.status.busy": "2022-05-27T09:34:58.441469Z",
     "iopub.status.idle": "2022-05-27T09:48:17.673297Z",
     "shell.execute_reply": "2022-05-27T09:48:17.672776Z",
     "shell.execute_reply.started": "2022-05-27T09:34:58.442015Z"
    },
    "tags": []
   },
   "outputs": [],
   "source": [
    "# df_kelper = regrid_geom.merge(rad_df, left_on = 'rid', right_on = 'rId', how = 'right').drop(columns=['rid'])\n",
    "# df_kelper.shape # (3316869, 10)\n",
    "\n",
    "# # This is taking forever -- 14 min, \n",
    "# df_kelper.to_file(f'temp/{sf_code}_rad.geojson', driver='GeoJSON')\n",
    "\n",
    "# TODO: alternative to saving geojson (no parcel polygon): convert geometry column to wkt\n",
    "# write to feather\n"
   ]
  },
  {
   "cell_type": "code",
   "execution_count": 178,
   "id": "c7952aa2-c7b9-4f64-91d5-97e1f9b645ed",
   "metadata": {
    "execution": {
     "iopub.execute_input": "2022-06-03T17:10:16.723471Z",
     "iopub.status.busy": "2022-06-03T17:10:16.723151Z",
     "iopub.status.idle": "2022-06-03T17:10:17.949988Z",
     "shell.execute_reply": "2022-06-03T17:10:17.949590Z",
     "shell.execute_reply.started": "2022-06-03T17:10:16.723447Z"
    }
   },
   "outputs": [
    {
     "data": {
      "text/plain": [
       "pLat    object\n",
       "pLon    object\n",
       "dtype: object"
      ]
     },
     "execution_count": 178,
     "metadata": {},
     "output_type": "execute_result"
    },
    {
     "name": "stdout",
     "output_type": "stream",
     "text": [
      "time: 1.22 s (started: 2022-06-03 13:10:16 -04:00)\n"
     ]
    }
   ],
   "source": [
    "rad_df[['pLat', 'pLon']].dtypes"
   ]
  },
  {
   "cell_type": "code",
   "execution_count": 179,
   "id": "9b7061a5-d7a9-49c4-b118-25c0c6b4288b",
   "metadata": {
    "execution": {
     "iopub.execute_input": "2022-06-03T17:10:27.149958Z",
     "iopub.status.busy": "2022-06-03T17:10:27.149655Z",
     "iopub.status.idle": "2022-06-03T17:10:39.451759Z",
     "shell.execute_reply": "2022-06-03T17:10:39.451333Z",
     "shell.execute_reply.started": "2022-06-03T17:10:27.149935Z"
    },
    "tags": []
   },
   "outputs": [
    {
     "name": "stdout",
     "output_type": "stream",
     "text": [
      "time: 12.3 s (started: 2022-06-03 13:10:27 -04:00)\n"
     ]
    }
   ],
   "source": [
    "# add h3 at res8 and 10\n",
    "for res in [8, 10]:\n",
    "    # res 7 = length=15, last 6 chars = ffffff; area~5 km2\n",
    "    # MO 24sec\n",
    "    rad_df[f'hex{res}']= gen_h3_hex(rad_df['pLat'].astype(float), rad_df['pLon'].astype(float),  res)\n"
   ]
  },
  {
   "cell_type": "code",
   "execution_count": 180,
   "id": "0dbc1df5-4756-4174-8efb-8f90dc65369f",
   "metadata": {
    "execution": {
     "iopub.execute_input": "2022-06-03T17:10:54.285811Z",
     "iopub.status.busy": "2022-06-03T17:10:54.285508Z",
     "iopub.status.idle": "2022-06-03T17:11:17.487785Z",
     "shell.execute_reply": "2022-06-03T17:11:17.487343Z",
     "shell.execute_reply.started": "2022-06-03T17:10:54.285788Z"
    }
   },
   "outputs": [
    {
     "name": "stdout",
     "output_type": "stream",
     "text": [
      "time: 23.2 s (started: 2022-06-03 13:10:54 -04:00)\n"
     ]
    }
   ],
   "source": [
    "# for kepler.gl\n",
    "rad_df.to_csv(f'temp/jun3_{sf_code}_rad_h3.csv', index=False)"
   ]
  },
  {
   "cell_type": "markdown",
   "id": "0e6e9bf4-6347-4ffc-95bf-cc9034d6f32d",
   "metadata": {},
   "source": [
    "# SPATIAL JOIN RAD_DF WITH TIGER/CB2019"
   ]
  },
  {
   "cell_type": "code",
   "execution_count": 5,
   "id": "d0a9256b-3914-4a73-9329-e8c927384e44",
   "metadata": {
    "execution": {
     "iopub.execute_input": "2022-06-07T06:07:50.357575Z",
     "iopub.status.busy": "2022-06-07T06:07:50.357287Z",
     "iopub.status.idle": "2022-06-07T06:08:03.045340Z",
     "shell.execute_reply": "2022-06-07T06:08:03.044697Z",
     "shell.execute_reply.started": "2022-06-07T06:07:50.357555Z"
    },
    "tags": []
   },
   "outputs": [
    {
     "data": {
      "text/plain": [
       "((343565, 3),\n",
       " GEOID         object\n",
       " geom          object\n",
       " geometry    geometry\n",
       " dtype: object)"
      ]
     },
     "execution_count": 5,
     "metadata": {},
     "output_type": "execute_result"
    }
   ],
   "source": [
    "tiger = pd.read_feather('tigerCB2019/mo_tiger.ftr')\n",
    "tiger.columns = ['GEOID', 'geom']\n",
    "\n",
    "# convert pandas df to geopandas df\n",
    "tiger = gp.GeoDataFrame(tiger, \n",
    "        geometry = gp.GeoSeries.from_wkt(tiger.geom, crs = CRS_REGRID_PARCELS))\n",
    "\n",
    "tiger.shape, tiger.dtypes # ((343565, 2),"
   ]
  },
  {
   "cell_type": "code",
   "execution_count": 6,
   "id": "5b29946f-e384-4af0-a1a6-d93c75468228",
   "metadata": {
    "execution": {
     "iopub.execute_input": "2022-06-07T06:08:22.231477Z",
     "iopub.status.busy": "2022-06-07T06:08:22.230878Z",
     "iopub.status.idle": "2022-06-07T06:08:30.235047Z",
     "shell.execute_reply": "2022-06-07T06:08:30.234561Z",
     "shell.execute_reply.started": "2022-06-07T06:08:22.231441Z"
    }
   },
   "outputs": [
    {
     "data": {
      "text/plain": [
       "(3320097, 12)"
      ]
     },
     "execution_count": 6,
     "metadata": {},
     "output_type": "execute_result"
    }
   ],
   "source": [
    "rad_df = pd.read_feather('temp/jun3_mo_rad.ftr')\n",
    "rad_df.shape # (3320097, 12)"
   ]
  },
  {
   "cell_type": "code",
   "execution_count": 8,
   "id": "9da919d7-feca-439d-911f-5099b6bcab5d",
   "metadata": {
    "execution": {
     "iopub.execute_input": "2022-06-07T06:09:05.619152Z",
     "iopub.status.busy": "2022-06-07T06:09:05.618855Z",
     "iopub.status.idle": "2022-06-07T06:09:07.083910Z",
     "shell.execute_reply": "2022-06-07T06:09:07.083416Z",
     "shell.execute_reply.started": "2022-06-07T06:09:05.619129Z"
    },
    "tags": []
   },
   "outputs": [
    {
     "data": {
      "text/plain": [
       "(geopandas.geodataframe.GeoDataFrame, geopandas.geodataframe.GeoDataFrame)"
      ]
     },
     "execution_count": 8,
     "metadata": {},
     "output_type": "execute_result"
    }
   ],
   "source": [
    "rad_df = gp.GeoDataFrame(rad_df, \n",
    "                        geometry = gp.points_from_xy(rad_df.pLon, rad_df.pLat, crs = CRS_REGRID_PARCELS))\n",
    "type(rad_df), type(tiger)"
   ]
  },
  {
   "cell_type": "code",
   "execution_count": 24,
   "id": "f2cde97f-cc8e-4cd6-9972-a70b90def72d",
   "metadata": {
    "execution": {
     "iopub.execute_input": "2022-06-07T06:15:27.912734Z",
     "iopub.status.busy": "2022-06-07T06:15:27.912429Z",
     "iopub.status.idle": "2022-06-07T06:15:46.051007Z",
     "shell.execute_reply": "2022-06-07T06:15:46.050497Z",
     "shell.execute_reply.started": "2022-06-07T06:15:27.912710Z"
    },
    "tags": []
   },
   "outputs": [
    {
     "data": {
      "text/plain": [
       "(3320097, 13)"
      ]
     },
     "execution_count": 24,
     "metadata": {},
     "output_type": "execute_result"
    }
   ],
   "source": [
    "joined_tiles = gp.sjoin(rad_df, tiger, how=\"left\", predicate='within')\n",
    "joined_tiles = joined_tiles.rename(columns={'geometry' : 'geomPoint', 'geom': 'wktCB'}).drop(\n",
    "    columns=['index_right', 'hex13', 'geomPoint']).replace('nan', np.nan)\n",
    "joined_tiles.shape"
   ]
  },
  {
   "cell_type": "code",
   "execution_count": 692,
   "id": "1b2c046e-8c5d-40b8-ba7a-ec7d608b7346",
   "metadata": {
    "execution": {
     "iopub.execute_input": "2022-06-14T04:45:38.979295Z",
     "iopub.status.busy": "2022-06-14T04:45:38.979000Z",
     "iopub.status.idle": "2022-06-14T04:45:39.206531Z",
     "shell.execute_reply": "2022-06-14T04:45:39.206122Z",
     "shell.execute_reply.started": "2022-06-14T04:45:38.979274Z"
    },
    "tags": []
   },
   "outputs": [
    {
     "data": {
      "text/plain": [
       "(3567, 13)"
      ]
     },
     "execution_count": 692,
     "metadata": {},
     "output_type": "execute_result"
    }
   ],
   "source": [
    "joined_tiles.query(\"GEOID != GEOID\").shape"
   ]
  },
  {
   "cell_type": "code",
   "execution_count": null,
   "id": "7ad9d5b1-8fa9-4bff-bc1f-67ddd0b11b39",
   "metadata": {},
   "outputs": [],
   "source": [
    "# TODO jun7_mo_polygon_mbtiles.csv: how='outer' above snippet: to preserve wktCB "
   ]
  },
  {
   "cell_type": "code",
   "execution_count": 29,
   "id": "94204bb4-990d-4d3a-84a9-185ac108cfaa",
   "metadata": {
    "execution": {
     "iopub.execute_input": "2022-06-07T06:16:55.035234Z",
     "iopub.status.busy": "2022-06-07T06:16:55.034891Z",
     "iopub.status.idle": "2022-06-07T06:16:55.038796Z",
     "shell.execute_reply": "2022-06-07T06:16:55.038330Z",
     "shell.execute_reply.started": "2022-06-07T06:16:55.035208Z"
    },
    "tags": []
   },
   "outputs": [
    {
     "data": {
      "text/plain": [
       "geopandas.geodataframe.GeoDataFrame"
      ]
     },
     "execution_count": 29,
     "metadata": {},
     "output_type": "execute_result"
    }
   ],
   "source": [
    "type(joined_tiles)"
   ]
  },
  {
   "cell_type": "markdown",
   "id": "f3d141dd-4b3e-43c2-aa46-606d43cb4429",
   "metadata": {},
   "source": [
    "# Generating MBTILES"
   ]
  },
  {
   "cell_type": "code",
   "execution_count": 44,
   "id": "3932d328-f666-4da0-bda0-75262a9bc4bb",
   "metadata": {
    "execution": {
     "iopub.execute_input": "2022-06-07T06:42:04.121791Z",
     "iopub.status.busy": "2022-06-07T06:42:04.121484Z",
     "iopub.status.idle": "2022-06-07T06:42:25.576338Z",
     "shell.execute_reply": "2022-06-07T06:42:25.575886Z",
     "shell.execute_reply.started": "2022-06-07T06:42:04.121767Z"
    },
    "tags": []
   },
   "outputs": [],
   "source": [
    "# save to csv (for generating mbtiles); dont use wktCB column\n",
    "pd.DataFrame(joined_tiles[['GEOID', 'altIds', 'landuse', \n",
    "                           'pAddress1', 'pAddressSub', 'pId', 'pLat', 'pLon', 'pOwner', 'placekey', 'source', ]]\n",
    "            .rename(columns={'pLat': 'lat', 'pLon': 'lon'}))\n",
    "            .to_csv('jun7_mo_mbtiles.csv', index=False)"
   ]
  },
  {
   "cell_type": "code",
   "execution_count": 45,
   "id": "3a558796-6519-400a-8ede-8c3f717dc8c1",
   "metadata": {
    "execution": {
     "iopub.execute_input": "2022-06-07T06:42:27.905068Z",
     "iopub.status.busy": "2022-06-07T06:42:27.904785Z",
     "iopub.status.idle": "2022-06-07T06:42:28.108597Z",
     "shell.execute_reply": "2022-06-07T06:42:28.108080Z",
     "shell.execute_reply.started": "2022-06-07T06:42:27.905047Z"
    },
    "tags": []
   },
   "outputs": [
    {
     "name": "stdout",
     "output_type": "stream",
     "text": [
      "-rw-r--r-- 1 nhat nhat 571M Jun  7 02:42 jun7_mo_mbtiles.csv\n"
     ]
    }
   ],
   "source": [
    "ls -lh jun7_mo_mbtiles.csv # 571M"
   ]
  },
  {
   "cell_type": "code",
   "execution_count": null,
   "id": "733d9a5a-927e-423f-8641-cb2d54edb468",
   "metadata": {},
   "outputs": [],
   "source": [
    "/usr/local/bin/tippecanoe -zg -Z10 --extend-zooms-if-still-dropping --drop-densest-as-needed --force -o \\\n",
    "/home/nhat/update-regrid/data/parcels_rad_mo.mbtiles -l parcels_rad_mo \\\n",
    "/home/nhat/demand-points/jun7_mo_mbtiles.csv \n"
   ]
  },
  {
   "cell_type": "code",
   "execution_count": 60,
   "id": "1631b4c5-b907-491e-b0d9-58543596f1c0",
   "metadata": {
    "execution": {
     "iopub.execute_input": "2022-06-07T06:56:10.200560Z",
     "iopub.status.busy": "2022-06-07T06:56:10.200253Z",
     "iopub.status.idle": "2022-06-07T06:56:10.401488Z",
     "shell.execute_reply": "2022-06-07T06:56:10.400958Z",
     "shell.execute_reply.started": "2022-06-07T06:56:10.200532Z"
    },
    "tags": []
   },
   "outputs": [
    {
     "name": "stdout",
     "output_type": "stream",
     "text": [
      "-rw-r--r-- 1 nhat nhat 652M Jun  7 02:55 /home/nhat/update-regrid/data/parcels_rad_mo.mbtiles\n"
     ]
    }
   ],
   "source": [
    "ls -lh /home/nhat/update-regrid/data/parcels_rad_mo.mbtiles"
   ]
  },
  {
   "cell_type": "code",
   "execution_count": 61,
   "id": "ee4ed026-0a1e-4651-b5eb-65dd5dce6d99",
   "metadata": {
    "execution": {
     "iopub.execute_input": "2022-06-07T07:00:34.337723Z",
     "iopub.status.busy": "2022-06-07T07:00:34.337390Z",
     "iopub.status.idle": "2022-06-07T07:00:34.539980Z",
     "shell.execute_reply": "2022-06-07T07:00:34.539455Z",
     "shell.execute_reply.started": "2022-06-07T07:00:34.337693Z"
    }
   },
   "outputs": [
    {
     "name": "stdout",
     "output_type": "stream",
     "text": [
      "-rw-r--r-- 1 nhat nhat 3.2K May 26 12:48 /home/nhat/update-regrid/data/config.json\n"
     ]
    }
   ],
   "source": [
    "# less /home/nhat/update-regrid/data/config.json\n",
    "ls -lh /home/nhat/update-regrid/data/config.json"
   ]
  },
  {
   "cell_type": "markdown",
   "id": "8d368d07-021f-40b5-9f3c-79a8e5c38a09",
   "metadata": {},
   "source": [
    "# Compare RAD_DF (before adding ATTOM POI) w/ Elasticsearch demand points (MO)"
   ]
  },
  {
   "cell_type": "markdown",
   "id": "e6c6bdac-c6c2-4aa8-a9e4-40d74e9373f4",
   "metadata": {},
   "source": [
    "### Download ES"
   ]
  },
  {
   "cell_type": "code",
   "execution_count": 582,
   "id": "6f61f2d7-b3f6-4cd8-9ae6-a50b8cd5b2e6",
   "metadata": {
    "execution": {
     "iopub.execute_input": "2022-06-14T03:35:00.730239Z",
     "iopub.status.busy": "2022-06-14T03:35:00.729908Z",
     "iopub.status.idle": "2022-06-14T03:35:56.013799Z",
     "shell.execute_reply": "2022-06-14T03:35:56.013339Z",
     "shell.execute_reply.started": "2022-06-14T03:35:00.730211Z"
    },
    "tags": []
   },
   "outputs": [
    {
     "name": "stdout",
     "output_type": "stream",
     "text": [
      "Start downloading ES index  bossdata29\n",
      "Completed downloading ES index bossdata29, df.shape=(343565, 9)\n"
     ]
    }
   ],
   "source": [
    "from elasticsearch import Elasticsearch, helpers\n",
    "\n",
    "ES_DEV = Elasticsearch(['https://3d6a9dd50c7c49c9ab5d23b6891bc03e.us-central1.gcp.cloud.es.io:9243'], \n",
    "                    http_auth=('elastic', 'WMzYk5RXyzE7MRShwPVwHzPX'), timeout=30)\n",
    "\n",
    "\n",
    "sf_code = \"MO\"\n",
    "sf = SF57R[sf_code]\n",
    "\n",
    "index_name = f\"bossdata{sf}\"\n",
    "\n",
    "\n",
    "BASE_COLS = ['GEOID', ]\n",
    "\n",
    "OTHER_COLS = [\n",
    "    'hu2020',\n",
    "    'Commercial',\n",
    "    'parcelNumAgri',\n",
    "    'Education', 'Health', 'Government', 'Community',\n",
    "    'speedRankReadyRaw',\n",
    "] \n",
    "\n",
    "ES_DOWNLOAD_COLS = BASE_COLS + OTHER_COLS \n",
    "\n",
    "def download_ES(index_name, sf, es_instance = ES_DEV):\n",
    "    print('Start downloading ES index ', index_name)\n",
    "    match_query = {\n",
    "        \"query\": {\"match_all\": {}},\n",
    "        \"_source\": {\n",
    "            \"includes\": ES_DOWNLOAD_COLS\n",
    "        },\n",
    "    }\n",
    "    res_gen = helpers.scan(es_instance, query= match_query, index= index_name) # 3 x faster than (match_all)\n",
    "    df = pd.DataFrame([record['_source'] for record in res_gen])\n",
    "    print(f'Completed downloading ES index {index_name}, {df.shape=}')\n",
    "    return df\n",
    "\n",
    "# 55sec\n",
    "ESdf = download_ES(index_name, sf)\n",
    "\n",
    "# Save to reload much faster later!\n",
    "ESdf.to_feather(f'jun7_mo_es.ftr')"
   ]
  },
  {
   "cell_type": "code",
   "execution_count": 588,
   "id": "cc6fc335-4b40-4d81-81e3-a1962c722005",
   "metadata": {
    "execution": {
     "iopub.execute_input": "2022-06-14T03:39:31.724519Z",
     "iopub.status.busy": "2022-06-14T03:39:31.724217Z",
     "iopub.status.idle": "2022-06-14T03:39:31.917394Z",
     "shell.execute_reply": "2022-06-14T03:39:31.917005Z",
     "shell.execute_reply.started": "2022-06-14T03:39:31.724496Z"
    },
    "tags": []
   },
   "outputs": [
    {
     "data": {
      "text/plain": [
       "(343565, 10)"
      ]
     },
     "execution_count": 596,
     "metadata": {},
     "output_type": "execute_result"
    }
   ],
   "source": [
    "ESdf = pd.read_feather(f'jun7_mo_es.ftr')\n",
    "ESdf = ESdf.rename(columns={'Commercial': 'Commer', 'parcelNumAgri': 'Agri', \n",
    "                            'hu2020': 'Resi', 'speedRankReadyRaw': 'rank'})\n",
    "\n",
    "ESdf['CAI'] = ESdf[['Government', 'Education', 'Health', 'Community']].sum(axis=1)\n",
    "ESdf['Valid'] = ESdf[['Commer', 'Agri', 'Resi','CAI']].sum(axis=1)\n",
    "ESdf = ESdf[['GEOID', 'rank', 'Resi', 'Commer', \n",
    "             'Agri', 'Government', 'Education', 'Health', 'Community', 'CAI', 'Valid']].set_index('GEOID')\n",
    "\n",
    "ESdf.shape"
   ]
  },
  {
   "cell_type": "code",
   "execution_count": 593,
   "id": "afa5929d-0581-4548-9156-949bf5859f79",
   "metadata": {
    "execution": {
     "iopub.execute_input": "2022-06-14T03:52:12.829342Z",
     "iopub.status.busy": "2022-06-14T03:52:12.829049Z",
     "iopub.status.idle": "2022-06-14T03:52:18.115579Z",
     "shell.execute_reply": "2022-06-14T03:52:18.115183Z",
     "shell.execute_reply.started": "2022-06-14T03:52:12.829321Z"
    },
    "tags": []
   },
   "outputs": [
    {
     "data": {
      "text/plain": [
       "(230870, 9)"
      ]
     },
     "execution_count": 593,
     "metadata": {},
     "output_type": "execute_result"
    }
   ],
   "source": [
    "# GROUPBY for parcel land-use classication\n",
    "raddf = joined_tiles.groupby(['GEOID', 'landuse']).size().unstack(fill_value = 0)\n",
    "# in case: e.g. DC doesn't have any agri parcels, so this df will not have the agri column at all\n",
    "for col in {'CAI', 'biz', 'farm', 'rem', 'resi', 'vacland'}:\n",
    "    if col not in raddf:\n",
    "        raddf[col] = 0\n",
    "\n",
    "raddf['numValid'] = raddf[['CAI', 'biz', 'farm', 'resi', 'vacland']].sum(axis=1)\n",
    "# raddf['valid'] = raddf['total'] - raddf['rem']\n",
    "raddf = raddf.rename(columns={'resi': 'numResi', 'farm': 'numAgri', \n",
    "                                              'biz': 'numCommer', 'CAI': 'numCAI', \n",
    "                                              'rem': 'numRem', 'vacland': 'numVacland'})\n",
    "\n",
    "# SIMPLY REUSING pacrelAddresses field (defined in previous bossdata* mappings), but to be accurate it should be: parcelIds or parcel_lluid or contained_parcels_ll_uuid\n",
    "raddf['pIds'] = joined_tiles.groupby('GEOID').agg({'pId': list})\n",
    "\n",
    "# parcel_cat_df[['parcelBuildingCount', 'parcelBuildingFootprint']] = state_df.groupby('GEOID')[['building_count', 'footprint']].sum()\n",
    "raddf.reset_index(inplace=True)\n",
    "raddf.shape # (230870, 9)"
   ]
  },
  {
   "cell_type": "code",
   "execution_count": 601,
   "id": "a6d8ea58-59b8-45a7-82d9-eba39a85a767",
   "metadata": {
    "execution": {
     "iopub.execute_input": "2022-06-14T03:57:02.431136Z",
     "iopub.status.busy": "2022-06-14T03:57:02.430854Z",
     "iopub.status.idle": "2022-06-14T03:57:02.968744Z",
     "shell.execute_reply": "2022-06-14T03:57:02.968279Z",
     "shell.execute_reply.started": "2022-06-14T03:57:02.431114Z"
    },
    "tags": []
   },
   "outputs": [],
   "source": [
    "comdf = ESdf.merge(raddf, how='outer', on='GEOID').fillna(0).set_index(\"GEOID\")\n",
    "for col in ['Government', 'Education', 'Health', 'Community', 'CAI', \n",
    "            'Resi', 'Commer', 'Agri', 'Valid', \n",
    "                    'numCAI', 'numCommer', 'numAgri',\n",
    "                    'numRem', 'numResi', 'numVacland', 'numValid',]:\n",
    "    comdf[col] = comdf[col].astype(int)"
   ]
  },
  {
   "cell_type": "code",
   "execution_count": 156,
   "id": "16b141d7-5922-4ac2-bb8c-449b717ada0b",
   "metadata": {
    "execution": {
     "iopub.execute_input": "2022-06-08T04:34:43.739317Z",
     "iopub.status.busy": "2022-06-08T04:34:43.739012Z",
     "iopub.status.idle": "2022-06-08T04:34:43.741902Z",
     "shell.execute_reply": "2022-06-08T04:34:43.741376Z",
     "shell.execute_reply.started": "2022-06-08T04:34:43.739292Z"
    },
    "tags": []
   },
   "outputs": [],
   "source": [
    "# comdf.describe().loc['mean'].sort_index()"
   ]
  },
  {
   "cell_type": "code",
   "execution_count": 550,
   "id": "e55a797f-83ec-4bb0-bb7c-049040a18e8c",
   "metadata": {
    "execution": {
     "iopub.execute_input": "2022-06-10T16:04:10.763735Z",
     "iopub.status.busy": "2022-06-10T16:04:10.763442Z",
     "iopub.status.idle": "2022-06-10T16:04:10.766134Z",
     "shell.execute_reply": "2022-06-10T16:04:10.765722Z",
     "shell.execute_reply.started": "2022-06-10T16:04:10.763713Z"
    }
   },
   "outputs": [],
   "source": [
    "# comdf.sum(axis=0)"
   ]
  },
  {
   "cell_type": "markdown",
   "id": "8372c24e-ab17-4835-b7b3-e679c14c149a",
   "metadata": {},
   "source": [
    "# Add ATTOM POI to RAD"
   ]
  },
  {
   "cell_type": "code",
   "execution_count": 210,
   "id": "212fb167-0299-486c-be85-8bc6a37affe3",
   "metadata": {
    "execution": {
     "iopub.execute_input": "2022-06-08T10:41:37.984279Z",
     "iopub.status.busy": "2022-06-08T10:41:37.983962Z",
     "iopub.status.idle": "2022-06-08T10:42:41.785718Z",
     "shell.execute_reply": "2022-06-08T10:42:41.785166Z",
     "shell.execute_reply.started": "2022-06-08T10:41:37.984257Z"
    },
    "tags": []
   },
   "outputs": [
    {
     "name": "stdout",
     "output_type": "stream",
     "text": [
      "Parsing txt file amenities_202205.txt \n",
      "\n"
     ]
    },
    {
     "data": {
      "text/plain": [
       "(14697294, 20)"
      ]
     },
     "execution_count": 210,
     "metadata": {},
     "output_type": "execute_result"
    }
   ],
   "source": [
    "# zpath = 'POI_202205.zip'\n",
    "# poi_dtypes = {\n",
    "#     'BUSNAME': str, 'STREET': str, 'CITY': str, 'STATENAME': str, 'ZIP': str, 'COUNTYNAME': str, 'PHONE': str,\n",
    "#        'STATE': str, 'COUNTY': str, 'LONGITUDE' : float, 'LATITUDE' : float, 'LINEOFBUS': str, 'SIC': int,\n",
    "#        'INDUSTRY': str, 'FRANCHISE': str, 'CATEGORY': str, 'PRIMARY': str, 'COUNTY3': str, 'OBID': int,\n",
    "#        'GEO_MATCH_CODE_TEXT': str,\n",
    "# }\n",
    "\n",
    "# with ZF(zpath) as zfile_reader:\n",
    "#     for file in zfile_reader.namelist():\n",
    "#         if file.endswith('.txt') and file.startswith('amenities'):\n",
    "\n",
    "#             print(f\"Parsing txt file {file} \\n\")\n",
    "#             with zfile_reader.open(file) as reader:\n",
    "#                 poi = pd.read_csv(reader, sep='|', dtype=poi_dtypes)\n",
    "# poi.shape # 1minute to read csv (14_697_290, 20)  \n",
    "# # DtypeWarning: Columns (14) have mixed types."
   ]
  },
  {
   "cell_type": "code",
   "execution_count": 394,
   "id": "a9790987-b6ad-4e76-9d6e-b6b6c20fc480",
   "metadata": {
    "execution": {
     "iopub.execute_input": "2022-06-10T05:12:24.514216Z",
     "iopub.status.busy": "2022-06-10T05:12:24.513916Z",
     "iopub.status.idle": "2022-06-10T05:13:02.367458Z",
     "shell.execute_reply": "2022-06-10T05:13:02.367013Z",
     "shell.execute_reply.started": "2022-06-10T05:12:24.514194Z"
    },
    "tags": []
   },
   "outputs": [],
   "source": [
    "# # SAVE ATTOM POI to state.ftr files\n",
    "# for sf in SF57:\n",
    "#     df = poi.query(f\"STATE == '{sf}'\")\n",
    "#     df.reset_index(drop=True).to_feather(f'temp/jun10_poi_{SF57[sf]}.ftr')\n"
   ]
  },
  {
   "cell_type": "markdown",
   "id": "f74cc885-e6a1-4a20-b6bb-8cd51842e25b",
   "metadata": {},
   "source": [
    "## MO POI"
   ]
  },
  {
   "cell_type": "code",
   "execution_count": 643,
   "id": "dcb9e528-b8e8-464b-80d6-8e27f1fbbe63",
   "metadata": {
    "execution": {
     "iopub.execute_input": "2022-06-14T04:20:14.879229Z",
     "iopub.status.busy": "2022-06-14T04:20:14.878927Z",
     "iopub.status.idle": "2022-06-14T04:20:15.713519Z",
     "shell.execute_reply": "2022-06-14T04:20:15.713108Z",
     "shell.execute_reply.started": "2022-06-14T04:20:14.879207Z"
    },
    "tags": []
   },
   "outputs": [
    {
     "data": {
      "text/plain": [
       "(286050, 13)"
      ]
     },
     "execution_count": 643,
     "metadata": {},
     "output_type": "execute_result"
    }
   ],
   "source": [
    "# mopoi = poi.query(f\"STATE == '{SF57R['MO']}'\")\n",
    "sf_code = 'MO' \n",
    "mopoi = pd.read_feather(f'temp/jun10_poi_{sf_code}.ftr') # read from a saved feather\n",
    "mopoi = mopoi.drop(columns=['STATENAME', 'STATE', 'INDUSTRY', 'FRANCHISE', 'PRIMARY', 'COUNTY3', 'OBID', 'GEO_MATCH_CODE_TEXT'])\n",
    "mopoi = mopoi.query(\"BUSNAME == BUSNAME\") # not nan\n",
    "mopoi.shape # (288_160, 12)\n",
    "\n",
    "mopoi['NAMESTREETZIP'] = mopoi['BUSNAME'].str.strip() + \" @ \" + mopoi['STREET'].str.strip() + \" @ \" + mopoi['ZIP'].str.strip()\n",
    "mopoi = mopoi.drop_duplicates([\"NAMESTREETZIP\"], keep='first').reset_index(drop=True)\n",
    "mopoi.shape # (286_050, 13)"
   ]
  },
  {
   "cell_type": "code",
   "execution_count": 644,
   "id": "691d209a-dce1-49c8-90fb-02bdab8c3043",
   "metadata": {
    "execution": {
     "iopub.execute_input": "2022-06-14T04:20:18.022559Z",
     "iopub.status.busy": "2022-06-14T04:20:18.022248Z",
     "iopub.status.idle": "2022-06-14T04:20:19.275463Z",
     "shell.execute_reply": "2022-06-14T04:20:19.275044Z",
     "shell.execute_reply.started": "2022-06-14T04:20:18.022538Z"
    },
    "tags": []
   },
   "outputs": [
    {
     "data": {
      "text/plain": [
       "notCAI        269887\n",
       "community       6701\n",
       "education       4388\n",
       "government      3015\n",
       "health          2059\n",
       "Name: CAIsubtype, dtype: int64"
      ]
     },
     "execution_count": 644,
     "metadata": {},
     "output_type": "execute_result"
    }
   ],
   "source": [
    "cai_health, health_df = getcai(mopoi, \"health\")\n",
    "cai_gov, gov_df = getcai(mopoi, \"government\")\n",
    "cai_comm, comm_df = getcai(mopoi, \"community\")\n",
    "cai_edu, edu_df = getcai(mopoi, \"education\")\n",
    "cai_relig, relig_df = getcai(mopoi, \"religious\")\n",
    "cai_outdoor, outdoor_df = getcai(mopoi, \"outdoor\")\n",
    "# Dont need, @yuan what are these for?\n",
    "del cai_health, cai_gov, cai_comm, cai_edu, cai_relig, cai_outdoor \n",
    "\n",
    "mopoi[\"DPtype\"] = \"commercial\"\n",
    "mopoi[\"DPtype\"] = np.where(mopoi[\"BUSNAME\"].isin(outdoor_df[\"BUSNAME\"]), \"outdoor\", mopoi[\"DPtype\"])\n",
    "# religious POI belongs to community\n",
    "mopoi[\"DPtype\"] = np.where(mopoi[\"BUSNAME\"].isin(relig_df[\"BUSNAME\"]), \"community\", mopoi[\"DPtype\"])\n",
    "mopoi[\"DPtype\"] = np.where(mopoi[\"BUSNAME\"].isin(edu_df[\"BUSNAME\"]), \"education\", mopoi[\"DPtype\"])\n",
    "mopoi[\"DPtype\"] = np.where(mopoi[\"BUSNAME\"].isin(comm_df[\"BUSNAME\"]), \"community\", mopoi[\"DPtype\"])\n",
    "mopoi[\"DPtype\"] = np.where(mopoi[\"BUSNAME\"].isin(gov_df[\"BUSNAME\"]), \"government\", mopoi[\"DPtype\"])\n",
    "mopoi[\"DPtype\"] = np.where(mopoi[\"BUSNAME\"].isin(health_df[\"BUSNAME\"]), \"health\", mopoi[\"DPtype\"])\n",
    "\n",
    "mopoi[\"CAIsubtype\"] = np.where(mopoi[\"DPtype\"].isin([\"community\",\"education\",\"government\",\"health\"]), mopoi[\"DPtype\"], \"notCAI\")\n",
    "mopoi[\"DPtype\"] = np.where(mopoi[\"CAIsubtype\"] == 'notCAI', mopoi[\"DPtype\"], \"CAI\")\n",
    "\n",
    "\n",
    "mopoi.DPtype.value_counts()\n",
    "# commercial    268706\n",
    "# CAI            16163\n",
    "# outdoor         1181\n",
    "\n",
    "mopoi.CAIsubtype.value_counts()\n",
    "# notCAI        269887\n",
    "# community       6701\n",
    "# education       4388\n",
    "# government      3015\n",
    "# health          2059"
   ]
  },
  {
   "cell_type": "code",
   "execution_count": 645,
   "id": "b467f2ae-a5b2-485e-a74e-cef05f8c8ce9",
   "metadata": {
    "execution": {
     "iopub.execute_input": "2022-06-14T04:20:23.969999Z",
     "iopub.status.busy": "2022-06-14T04:20:23.969707Z",
     "iopub.status.idle": "2022-06-14T04:20:25.139242Z",
     "shell.execute_reply": "2022-06-14T04:20:25.138834Z",
     "shell.execute_reply.started": "2022-06-14T04:20:23.969976Z"
    },
    "tags": []
   },
   "outputs": [
    {
     "data": {
      "text/plain": [
       "((286050, 17), 286050, 286050)"
      ]
     },
     "execution_count": 645,
     "metadata": {},
     "output_type": "execute_result"
    }
   ],
   "source": [
    "# mopoi.drop(columns=['h3_15'], inplace=True, errors='ignore')\n",
    "# ASSUMPTION: no 2 biz/POIs occupies same hexagon ~ 2x3meter \n",
    "res = 14  \n",
    "mopoi = mopoi.rename(columns={\"LONGITUDE\" : 'lng', 'LATITUDE' : 'lat', 'DPtype': 'landuse'})\n",
    "mopoi = mopoi.h3.geo_to_h3(res).reset_index()\n",
    "\n",
    "# GENERATE ID from other values in the row\n",
    "# concat string columns using sum(axis=1); then map to hash values, using hash function\n",
    "mopoi['pId'] = mopoi[['NAMESTREETZIP', 'h3_14']].sum(axis=1).map(hash)\n",
    "# confirm all unique id\n",
    "mopoi.shape, mopoi.pId.count(), mopoi.pId.nunique() # ((286050, 18), 286050, 286050)"
   ]
  },
  {
   "cell_type": "code",
   "execution_count": 646,
   "id": "03c11281-b128-4162-a275-67beb755453c",
   "metadata": {
    "execution": {
     "iopub.execute_input": "2022-06-14T04:20:35.730197Z",
     "iopub.status.busy": "2022-06-14T04:20:35.729909Z",
     "iopub.status.idle": "2022-06-14T04:20:35.920753Z",
     "shell.execute_reply": "2022-06-14T04:20:35.920300Z",
     "shell.execute_reply.started": "2022-06-14T04:20:35.730175Z"
    },
    "tags": []
   },
   "outputs": [],
   "source": [
    "mopoi['landuse'] = mopoi['landuse'].replace({\"commercial\" : 'biz'})\n",
    "\n",
    "poi_keep_cols = ['pId', 'BUSNAME', 'PHONE', \n",
    "'STREET', 'CITY', 'ZIP', \n",
    "'lng', 'lat', \n",
    "'SIC', 'CATEGORY', \n",
    "'landuse', 'CAIsubtype', 'h3_14',]\n",
    "mopoi = mopoi[poi_keep_cols].rename(columns={'STREET': 'pAddress1', 'CITY': 'pCity', 'ZIP': 'pZip', \n",
    "                      'BUSNAME': 'pOwner', 'CATEGORY' : 'pIndustry', 'SIC': 'pSIC'})\n",
    "mopoi['source'] = 'POI'\n"
   ]
  },
  {
   "cell_type": "markdown",
   "id": "be6be1a8-373c-4a30-b78e-52505fc09248",
   "metadata": {},
   "source": [
    "# RAD-Missouri df from joined_tiles df"
   ]
  },
  {
   "cell_type": "code",
   "execution_count": 747,
   "id": "cfbe58fd-c84b-4998-9b02-e6480b618db3",
   "metadata": {
    "execution": {
     "iopub.execute_input": "2022-06-14T05:22:28.492885Z",
     "iopub.status.busy": "2022-06-14T05:22:28.492589Z",
     "iopub.status.idle": "2022-06-14T05:22:42.424019Z",
     "shell.execute_reply": "2022-06-14T05:22:42.423527Z",
     "shell.execute_reply.started": "2022-06-14T05:22:28.492861Z"
    },
    "tags": []
   },
   "outputs": [],
   "source": [
    "# add h3_14 column\n",
    "morad = pd.DataFrame(rad_df).rename(columns={\n",
    "    'pLat' : 'lat', 'pLon' : 'lng'})\n",
    "morad[['lat', 'lng']] = morad[['lat', 'lng']].astype(float)\n",
    "# h3pandas lib: 14sec\n",
    "morad = morad.h3.geo_to_h3(res).reset_index()\n",
    "\n",
    "morad['CAIsubtype'] = np.where(morad['landuse'] == 'CAI', 'parcelCAI', 'notCAI')\n"
   ]
  },
  {
   "cell_type": "code",
   "execution_count": 748,
   "id": "f8b9ecf1-e710-4f7e-9e2d-4ef0589f23e9",
   "metadata": {
    "execution": {
     "iopub.execute_input": "2022-06-14T05:22:49.584613Z",
     "iopub.status.busy": "2022-06-14T05:22:49.583965Z",
     "iopub.status.idle": "2022-06-14T05:22:51.340457Z",
     "shell.execute_reply": "2022-06-14T05:22:51.340044Z",
     "shell.execute_reply.started": "2022-06-14T05:22:49.584590Z"
    },
    "tags": []
   },
   "outputs": [
    {
     "data": {
      "text/plain": [
       "((3606147, 20), 3606147)"
      ]
     },
     "execution_count": 748,
     "metadata": {},
     "output_type": "execute_result"
    }
   ],
   "source": [
    "morad3 = pd.concat([mopoi, morad], ignore_index=True)\n",
    "morad3.shape, morad3.h3_14.count() # ((3606147, 20), 3606147)"
   ]
  },
  {
   "cell_type": "code",
   "execution_count": 749,
   "id": "8c127d07-5b88-4e00-bbea-f59fc823c9f5",
   "metadata": {
    "execution": {
     "iopub.execute_input": "2022-06-14T05:22:56.241356Z",
     "iopub.status.busy": "2022-06-14T05:22:56.240898Z",
     "iopub.status.idle": "2022-06-14T05:22:56.354675Z",
     "shell.execute_reply": "2022-06-14T05:22:56.354276Z",
     "shell.execute_reply.started": "2022-06-14T05:22:56.241335Z"
    },
    "tags": []
   },
   "outputs": [
    {
     "data": {
      "text/plain": [
       "REGRID          3034722\n",
       "POI              286050\n",
       "ATTOM>REGRID     165351\n",
       "ATTOM            120024\n",
       "Name: source, dtype: int64"
      ]
     },
     "execution_count": 749,
     "metadata": {},
     "output_type": "execute_result"
    }
   ],
   "source": [
    "morad3.source.value_counts()\n",
    "# REGRID          3034722\n",
    "# POI              286050\n",
    "# ATTOM>REGRID     165351\n",
    "# ATTOM            120024"
   ]
  },
  {
   "cell_type": "code",
   "execution_count": 750,
   "id": "ec954d17-e3e3-44a9-a886-9ab43c25ee57",
   "metadata": {
    "execution": {
     "iopub.execute_input": "2022-06-14T05:22:59.893717Z",
     "iopub.status.busy": "2022-06-14T05:22:59.893190Z",
     "iopub.status.idle": "2022-06-14T05:23:09.502227Z",
     "shell.execute_reply": "2022-06-14T05:23:09.501836Z",
     "shell.execute_reply.started": "2022-06-14T05:22:59.893694Z"
    },
    "tags": []
   },
   "outputs": [
    {
     "data": {
      "text/plain": [
       "(95469, 4)"
      ]
     },
     "execution_count": 750,
     "metadata": {},
     "output_type": "execute_result"
    }
   ],
   "source": [
    "dup_poi = morad3[morad3.duplicated(subset=[f'h3_{res}'], keep=False)]\n",
    "dup_poi.shape # (349869, 20)        \n",
    "\n",
    "dup_group = dup_poi.groupby(f'h3_{res}').agg(\n",
    "    {'pOwner' : list, 'pAddress1': list, 'landuse': list, 'source': set})\n",
    "# only interest in groups with duplicated POI (at least 1 source = POI)\n",
    "dup_group = dup_group[dup_group.source.apply(lambda v: 'POI' in v)]\n",
    "dup_group.shape # (95469, 4)"
   ]
  },
  {
   "cell_type": "code",
   "execution_count": 751,
   "id": "17e76e01-b625-470e-a7d7-60b33cb652a7",
   "metadata": {
    "execution": {
     "iopub.execute_input": "2022-06-14T05:23:09.503263Z",
     "iopub.status.busy": "2022-06-14T05:23:09.503122Z",
     "iopub.status.idle": "2022-06-14T05:23:09.505363Z",
     "shell.execute_reply": "2022-06-14T05:23:09.505001Z",
     "shell.execute_reply.started": "2022-06-14T05:23:09.503247Z"
    },
    "tags": []
   },
   "outputs": [],
   "source": [
    "# dup_group[['pAddress1', 'pOwner', 'landuse']].sample(5)"
   ]
  },
  {
   "cell_type": "code",
   "execution_count": 752,
   "id": "a9925d8e-3aff-4053-bec2-5fec19408cab",
   "metadata": {
    "execution": {
     "iopub.execute_input": "2022-06-14T05:23:14.221908Z",
     "iopub.status.busy": "2022-06-14T05:23:14.221394Z",
     "iopub.status.idle": "2022-06-14T05:23:17.491374Z",
     "shell.execute_reply": "2022-06-14T05:23:17.490981Z",
     "shell.execute_reply.started": "2022-06-14T05:23:14.221886Z"
    },
    "tags": []
   },
   "outputs": [
    {
     "data": {
      "text/plain": [
       "((3320097, 15), (286050, 14), (3389890, 20))"
      ]
     },
     "execution_count": 752,
     "metadata": {},
     "output_type": "execute_result"
    }
   ],
   "source": [
    "uniq_poi = morad3.drop_duplicates(subset=[f'h3_{res}'], keep=False, ignore_index=True)\n",
    "uniq_poi = uniq_poi.query('source == \"POI\"')\n",
    "uniq_poi.shape, uniq_poi.landuse.value_counts()\n",
    "\n",
    "rad3_end = pd.concat([uniq_poi, morad], ignore_index=True)\n",
    "morad.shape, mopoi.shape, rad3_end.shape,\n",
    "# 3_320_097 + 286_050 + h3 deduped = 3_389_890"
   ]
  },
  {
   "cell_type": "markdown",
   "id": "50b09b7b-9f03-4cb2-b264-02ed25cc14e8",
   "metadata": {},
   "source": [
    "## add GEOID column"
   ]
  },
  {
   "cell_type": "code",
   "execution_count": 753,
   "id": "5d3458e1-013c-420d-b344-45de4589a42b",
   "metadata": {
    "execution": {
     "iopub.execute_input": "2022-06-14T05:23:29.805279Z",
     "iopub.status.busy": "2022-06-14T05:23:29.804987Z",
     "iopub.status.idle": "2022-06-14T05:23:49.601416Z",
     "shell.execute_reply": "2022-06-14T05:23:49.600944Z",
     "shell.execute_reply.started": "2022-06-14T05:23:29.805250Z"
    },
    "tags": []
   },
   "outputs": [],
   "source": [
    "rad3_endCRS = gp.GeoDataFrame(rad3_end, \n",
    "        geometry = gp.points_from_xy(rad3_end.lng, rad3_end.lat, crs = CRS_REGRID_PARCELS))\n",
    "# 20sec\n",
    "rad3_endCRS = gp.sjoin(\n",
    "    rad3_endCRS, tiger, how=\"left\", predicate='within').drop(columns = ['index_right', 'hex13'])\n"
   ]
  },
  {
   "cell_type": "code",
   "execution_count": 754,
   "id": "fefb986f-269a-41f0-8e42-1aad297ece96",
   "metadata": {
    "execution": {
     "iopub.execute_input": "2022-06-14T05:24:16.647172Z",
     "iopub.status.busy": "2022-06-14T05:24:16.646891Z",
     "iopub.status.idle": "2022-06-14T05:24:16.826322Z",
     "shell.execute_reply": "2022-06-14T05:24:16.825916Z",
     "shell.execute_reply.started": "2022-06-14T05:24:16.647151Z"
    },
    "tags": []
   },
   "outputs": [
    {
     "data": {
      "text/plain": [
       "3574"
      ]
     },
     "execution_count": 754,
     "metadata": {},
     "output_type": "execute_result"
    }
   ],
   "source": [
    "# NOTE: RAD=3567 + POI=7 points = TOTAL 3574 points not in MISSOURI censusblock boundaries!\n",
    "rad3_endCRS.GEOID.isnull().sum()"
   ]
  },
  {
   "cell_type": "markdown",
   "id": "ae7b23ba-44c5-4bbc-b16f-d159e365046e",
   "metadata": {},
   "source": [
    "## add speedRank column"
   ]
  },
  {
   "cell_type": "code",
   "execution_count": 755,
   "id": "b5053672-30d0-4661-aa7f-f33b02d8af5e",
   "metadata": {
    "execution": {
     "iopub.execute_input": "2022-06-14T05:24:27.368265Z",
     "iopub.status.busy": "2022-06-14T05:24:27.367688Z",
     "iopub.status.idle": "2022-06-14T05:24:30.724257Z",
     "shell.execute_reply": "2022-06-14T05:24:30.723866Z",
     "shell.execute_reply.started": "2022-06-14T05:24:27.368240Z"
    },
    "tags": []
   },
   "outputs": [
    {
     "data": {
      "text/plain": [
       "(3386316, 22)"
      ]
     },
     "execution_count": 755,
     "metadata": {},
     "output_type": "execute_result"
    }
   ],
   "source": [
    "rad3_endCRS_rank = rad3_endCRS.dropna(subset='GEOID').merge(ESdf[['rank']], on='GEOID', how='left')\n",
    "rad3_endCRS_rank.shape # (3386316, 22)"
   ]
  },
  {
   "cell_type": "code",
   "execution_count": 756,
   "id": "efa2099d-0d80-4cdb-86b8-c0323aa6a4c8",
   "metadata": {
    "execution": {
     "iopub.execute_input": "2022-06-14T05:24:40.107427Z",
     "iopub.status.busy": "2022-06-14T05:24:40.107140Z",
     "iopub.status.idle": "2022-06-14T05:24:43.070390Z",
     "shell.execute_reply": "2022-06-14T05:24:43.069978Z",
     "shell.execute_reply.started": "2022-06-14T05:24:40.107404Z"
    },
    "tags": []
   },
   "outputs": [
    {
     "data": {
      "text/plain": [
       "((3386316, 13), pandas.core.frame.DataFrame)"
      ]
     },
     "execution_count": 756,
     "metadata": {},
     "output_type": "execute_result"
    }
   ],
   "source": [
    "cols = [ \n",
    "        'pOwner', 'PHONE', 'pAddress1', 'pAddressSub','lng', 'lat',\n",
    "        'landuse', 'CAIsubtype', \n",
    "        'source', 'GEOID', 'speedRankReadyRaw',\n",
    "       'pId', 'altIds', ]\n",
    "mo_mbtiles = rad3_endCRS_rank.rename(columns={'rank': 'speedRankReadyRaw'})[cols]\n",
    "mo_mbtiles.shape, type(mo_mbtiles)"
   ]
  },
  {
   "cell_type": "code",
   "execution_count": 758,
   "id": "11213c8b-1e2a-489a-b0c8-22da6a111165",
   "metadata": {
    "execution": {
     "iopub.execute_input": "2022-06-14T05:24:59.222566Z",
     "iopub.status.busy": "2022-06-14T05:24:59.222237Z",
     "iopub.status.idle": "2022-06-14T05:24:59.473777Z",
     "shell.execute_reply": "2022-06-14T05:24:59.473387Z",
     "shell.execute_reply.started": "2022-06-14T05:24:59.222544Z"
    },
    "tags": []
   },
   "outputs": [],
   "source": [
    "# (['biz', 'CAI', 'outdoor', 'farm', 'vacland', 'resi', 'rem'],\n",
    "#  ['notCAI', 'government', 'education', 'community', 'health', 'parcelCAI']\n",
    "mo_mbtiles.landuse.unique().tolist(), mo_mbtiles.CAIsubtype.unique().tolist()\n",
    "\n",
    "# NOTE: in RAD3: landuse==CAI equals to CAIsubtype = gov+edu+comm+health(POI)+parcelCAI(RAD2)\n",
    "# i.e. (landuse==CAI) equals to (CAIsubtype!=notCAI)\n",
    "mo_mbtiles.query(\"landuse == 'CAI'\").shape == mo_mbtiles.query(\"CAIsubtype != 'notCAI'\").shape"
   ]
  },
  {
   "cell_type": "code",
   "execution_count": 760,
   "id": "ca8d0287-11e0-41fb-862f-aaff4353808d",
   "metadata": {
    "execution": {
     "iopub.execute_input": "2022-06-14T05:26:18.802602Z",
     "iopub.status.busy": "2022-06-14T05:26:18.802047Z",
     "iopub.status.idle": "2022-06-14T05:26:40.848271Z",
     "shell.execute_reply": "2022-06-14T05:26:40.847765Z",
     "shell.execute_reply.started": "2022-06-14T05:26:18.802580Z"
    },
    "tags": []
   },
   "outputs": [],
   "source": [
    "mo_mbtiles.to_csv('temp/jun14_mo_rad3.csv', index=False)"
   ]
  },
  {
   "cell_type": "code",
   "execution_count": 762,
   "id": "3f729287-69d8-4ca0-a83a-c6e22c3736eb",
   "metadata": {
    "execution": {
     "iopub.execute_input": "2022-06-14T05:26:57.343754Z",
     "iopub.status.busy": "2022-06-14T05:26:57.343208Z",
     "iopub.status.idle": "2022-06-14T05:26:57.848577Z",
     "shell.execute_reply": "2022-06-14T05:26:57.847989Z",
     "shell.execute_reply.started": "2022-06-14T05:26:57.343731Z"
    }
   },
   "outputs": [
    {
     "name": "stdout",
     "output_type": "stream",
     "text": [
      "-rw-r--r-- 1 nhat nhat 657M Jun 14 01:26 temp/jun14_mo_rad3.csv\n"
     ]
    }
   ],
   "source": [
    "ls -lht temp/jun14_mo_rad3.csv"
   ]
  },
  {
   "cell_type": "code",
   "execution_count": null,
   "id": "d2887a63-f603-4b47-b861-6c1a937af61c",
   "metadata": {},
   "outputs": [],
   "source": [
    "# GENERATE mbtiles"
   ]
  },
  {
   "cell_type": "code",
   "execution_count": null,
   "id": "abaa6931-7d64-4394-8115-13d46b291680",
   "metadata": {},
   "outputs": [],
   "source": [
    "# TODO: add GEOID\n",
    "# optional? add landuse counts, and CAI-subtypes counts for each GEOID!\n",
    "# \n"
   ]
  },
  {
   "cell_type": "code",
   "execution_count": 489,
   "id": "689571e8-2f76-4694-b04f-4da53ab77aa9",
   "metadata": {
    "execution": {
     "iopub.execute_input": "2022-06-10T12:15:56.465241Z",
     "iopub.status.busy": "2022-06-10T12:15:56.464897Z",
     "iopub.status.idle": "2022-06-10T12:15:56.467945Z",
     "shell.execute_reply": "2022-06-10T12:15:56.467528Z",
     "shell.execute_reply.started": "2022-06-10T12:15:56.465212Z"
    },
    "tags": []
   },
   "outputs": [],
   "source": [
    "/usr/local/bin/tippecanoe -zg -Z6 --extend-zooms-if-still-dropping --drop-densest-as-needed --force -o \\\n",
    "/home/nhat/update-regrid/data/rad3_mo.mbtiles -l rad3_mo \\\n",
    "/home/nhat/demand-points/temp/jun14_mo_rad3.csv "
   ]
  },
  {
   "cell_type": "markdown",
   "id": "8efd196a-8dc8-429c-aa96-f112f0c17caa",
   "metadata": {},
   "source": [
    "# COMPARE with ES"
   ]
  },
  {
   "cell_type": "code",
   "execution_count": 518,
   "id": "72070917-4d6a-4aa7-b794-5b03b789a5bc",
   "metadata": {
    "execution": {
     "iopub.execute_input": "2022-06-10T15:36:47.917089Z",
     "iopub.status.busy": "2022-06-10T15:36:47.916754Z",
     "iopub.status.idle": "2022-06-10T15:36:48.014445Z",
     "shell.execute_reply": "2022-06-10T15:36:48.014021Z",
     "shell.execute_reply.started": "2022-06-10T15:36:47.917064Z"
    }
   },
   "outputs": [
    {
     "data": {
      "text/plain": [
       "array(['biz', 'CAI', 'outdoor', 'farm', 'vacland', 'resi', 'rem'],\n",
       "      dtype=object)"
      ]
     },
     "execution_count": 518,
     "metadata": {},
     "output_type": "execute_result"
    }
   ],
   "source": [
    "rad3_end_geoid.landuse.unique()"
   ]
  },
  {
   "cell_type": "code",
   "execution_count": 530,
   "id": "4431bef0-c49c-4b98-998f-145adf2008c7",
   "metadata": {
    "execution": {
     "iopub.execute_input": "2022-06-10T15:50:26.410292Z",
     "iopub.status.busy": "2022-06-10T15:50:26.409991Z",
     "iopub.status.idle": "2022-06-10T15:50:27.355212Z",
     "shell.execute_reply": "2022-06-10T15:50:27.354754Z",
     "shell.execute_reply.started": "2022-06-10T15:50:26.410269Z"
    },
    "tags": []
   },
   "outputs": [],
   "source": [
    "landuse_cols = ['biz', 'CAI', 'outdoor', 'farm', 'vacland', 'resi', 'rem']\n",
    "rad_dp = rad3_end_geoid.groupby(['GEOID', 'landuse']).size().unstack(fill_value = 0)\n",
    "for col in landuse_cols:\n",
    "    if col not in rad_dp:\n",
    "        rad_dp[col] = 0\n",
    "# Total identified-landuse count        \n",
    "rad_dp['numTotal'] = rad_dp[['biz', 'CAI', 'outdoor', 'farm', 'vacland', 'resi',]].sum(axis=1)\n",
    "rad_dp = rad_dp.rename(columns={'resi': 'numResi', 'farm': 'numAgri', \n",
    "                              'biz': 'numCommer', 'CAI': 'numCAI', \n",
    "                              'rem': 'numRem', 'vacland': 'numVacland',\n",
    "                               'outdoor': 'numOutdoor', }).reset_index()"
   ]
  },
  {
   "cell_type": "code",
   "execution_count": 531,
   "id": "c7683264-bf29-4cdd-8eab-0b5e8f9eb333",
   "metadata": {
    "execution": {
     "iopub.execute_input": "2022-06-10T15:50:28.165421Z",
     "iopub.status.busy": "2022-06-10T15:50:28.165146Z",
     "iopub.status.idle": "2022-06-10T15:50:28.433466Z",
     "shell.execute_reply": "2022-06-10T15:50:28.433063Z",
     "shell.execute_reply.started": "2022-06-10T15:50:28.165399Z"
    },
    "tags": []
   },
   "outputs": [
    {
     "data": {
      "text/plain": [
       "(343565, 13)"
      ]
     },
     "execution_count": 531,
     "metadata": {},
     "output_type": "execute_result"
    }
   ],
   "source": [
    "compare = ESdf.merge(rad_dp, how='outer', on='GEOID').fillna(0).set_index(\"GEOID\")\n",
    "compare.shape"
   ]
  },
  {
   "cell_type": "code",
   "execution_count": 533,
   "id": "a1de43a5-6f17-47e1-af67-c6df453474e2",
   "metadata": {
    "execution": {
     "iopub.execute_input": "2022-06-10T15:51:01.295263Z",
     "iopub.status.busy": "2022-06-10T15:51:01.294965Z",
     "iopub.status.idle": "2022-06-10T15:51:01.333437Z",
     "shell.execute_reply": "2022-06-10T15:51:01.332976Z",
     "shell.execute_reply.started": "2022-06-10T15:51:01.295242Z"
    },
    "tags": []
   },
   "outputs": [],
   "source": [
    "for col in set(compare):\n",
    "    compare[col] = compare[col].astype(int)"
   ]
  },
  {
   "cell_type": "code",
   "execution_count": 534,
   "id": "33e2c1a1-d82a-4249-8c60-40a449e75d43",
   "metadata": {
    "execution": {
     "iopub.execute_input": "2022-06-10T15:51:04.899152Z",
     "iopub.status.busy": "2022-06-10T15:51:04.898855Z",
     "iopub.status.idle": "2022-06-10T15:51:04.911750Z",
     "shell.execute_reply": "2022-06-10T15:51:04.911371Z",
     "shell.execute_reply.started": "2022-06-10T15:51:04.899128Z"
    }
   },
   "outputs": [
    {
     "data": {
      "text/html": [
       "<div>\n",
       "<style scoped>\n",
       "    .dataframe tbody tr th:only-of-type {\n",
       "        vertical-align: middle;\n",
       "    }\n",
       "\n",
       "    .dataframe tbody tr th {\n",
       "        vertical-align: top;\n",
       "    }\n",
       "\n",
       "    .dataframe thead th {\n",
       "        text-align: right;\n",
       "    }\n",
       "</style>\n",
       "<table border=\"1\" class=\"dataframe\">\n",
       "  <thead>\n",
       "    <tr style=\"text-align: right;\">\n",
       "      <th></th>\n",
       "      <th>CAI</th>\n",
       "      <th>Resi</th>\n",
       "      <th>Commer</th>\n",
       "      <th>Agri</th>\n",
       "      <th>Total</th>\n",
       "      <th>numCAI</th>\n",
       "      <th>numCommer</th>\n",
       "      <th>numAgri</th>\n",
       "      <th>numOutdoor</th>\n",
       "      <th>numRem</th>\n",
       "      <th>numResi</th>\n",
       "      <th>numVacland</th>\n",
       "      <th>numTotal</th>\n",
       "    </tr>\n",
       "    <tr>\n",
       "      <th>GEOID</th>\n",
       "      <th></th>\n",
       "      <th></th>\n",
       "      <th></th>\n",
       "      <th></th>\n",
       "      <th></th>\n",
       "      <th></th>\n",
       "      <th></th>\n",
       "      <th></th>\n",
       "      <th></th>\n",
       "      <th></th>\n",
       "      <th></th>\n",
       "      <th></th>\n",
       "      <th></th>\n",
       "    </tr>\n",
       "  </thead>\n",
       "  <tbody>\n",
       "    <tr>\n",
       "      <th>290414701002125</th>\n",
       "      <td>0</td>\n",
       "      <td>3</td>\n",
       "      <td>0</td>\n",
       "      <td>0</td>\n",
       "      <td>3</td>\n",
       "      <td>0</td>\n",
       "      <td>0</td>\n",
       "      <td>0</td>\n",
       "      <td>0</td>\n",
       "      <td>0</td>\n",
       "      <td>6</td>\n",
       "      <td>0</td>\n",
       "      <td>6</td>\n",
       "    </tr>\n",
       "    <tr>\n",
       "      <th>290414701002126</th>\n",
       "      <td>0</td>\n",
       "      <td>1</td>\n",
       "      <td>0</td>\n",
       "      <td>0</td>\n",
       "      <td>1</td>\n",
       "      <td>0</td>\n",
       "      <td>0</td>\n",
       "      <td>0</td>\n",
       "      <td>0</td>\n",
       "      <td>0</td>\n",
       "      <td>5</td>\n",
       "      <td>0</td>\n",
       "      <td>5</td>\n",
       "    </tr>\n",
       "    <tr>\n",
       "      <th>290414701002127</th>\n",
       "      <td>0</td>\n",
       "      <td>2</td>\n",
       "      <td>0</td>\n",
       "      <td>0</td>\n",
       "      <td>2</td>\n",
       "      <td>0</td>\n",
       "      <td>0</td>\n",
       "      <td>0</td>\n",
       "      <td>0</td>\n",
       "      <td>0</td>\n",
       "      <td>3</td>\n",
       "      <td>0</td>\n",
       "      <td>3</td>\n",
       "    </tr>\n",
       "    <tr>\n",
       "      <th>290414701002128</th>\n",
       "      <td>0</td>\n",
       "      <td>1</td>\n",
       "      <td>0</td>\n",
       "      <td>0</td>\n",
       "      <td>1</td>\n",
       "      <td>0</td>\n",
       "      <td>0</td>\n",
       "      <td>0</td>\n",
       "      <td>0</td>\n",
       "      <td>0</td>\n",
       "      <td>3</td>\n",
       "      <td>0</td>\n",
       "      <td>3</td>\n",
       "    </tr>\n",
       "    <tr>\n",
       "      <th>290414701002129</th>\n",
       "      <td>0</td>\n",
       "      <td>0</td>\n",
       "      <td>0</td>\n",
       "      <td>0</td>\n",
       "      <td>0</td>\n",
       "      <td>0</td>\n",
       "      <td>1</td>\n",
       "      <td>0</td>\n",
       "      <td>0</td>\n",
       "      <td>3</td>\n",
       "      <td>0</td>\n",
       "      <td>0</td>\n",
       "      <td>1</td>\n",
       "    </tr>\n",
       "    <tr>\n",
       "      <th>...</th>\n",
       "      <td>...</td>\n",
       "      <td>...</td>\n",
       "      <td>...</td>\n",
       "      <td>...</td>\n",
       "      <td>...</td>\n",
       "      <td>...</td>\n",
       "      <td>...</td>\n",
       "      <td>...</td>\n",
       "      <td>...</td>\n",
       "      <td>...</td>\n",
       "      <td>...</td>\n",
       "      <td>...</td>\n",
       "      <td>...</td>\n",
       "    </tr>\n",
       "    <tr>\n",
       "      <th>295101276003105</th>\n",
       "      <td>0</td>\n",
       "      <td>0</td>\n",
       "      <td>2</td>\n",
       "      <td>0</td>\n",
       "      <td>2</td>\n",
       "      <td>0</td>\n",
       "      <td>8</td>\n",
       "      <td>0</td>\n",
       "      <td>0</td>\n",
       "      <td>0</td>\n",
       "      <td>0</td>\n",
       "      <td>0</td>\n",
       "      <td>8</td>\n",
       "    </tr>\n",
       "    <tr>\n",
       "      <th>295101276003106</th>\n",
       "      <td>0</td>\n",
       "      <td>0</td>\n",
       "      <td>1</td>\n",
       "      <td>0</td>\n",
       "      <td>1</td>\n",
       "      <td>0</td>\n",
       "      <td>3</td>\n",
       "      <td>0</td>\n",
       "      <td>0</td>\n",
       "      <td>0</td>\n",
       "      <td>0</td>\n",
       "      <td>0</td>\n",
       "      <td>3</td>\n",
       "    </tr>\n",
       "    <tr>\n",
       "      <th>295101276003107</th>\n",
       "      <td>0</td>\n",
       "      <td>0</td>\n",
       "      <td>0</td>\n",
       "      <td>0</td>\n",
       "      <td>0</td>\n",
       "      <td>0</td>\n",
       "      <td>0</td>\n",
       "      <td>0</td>\n",
       "      <td>0</td>\n",
       "      <td>0</td>\n",
       "      <td>1</td>\n",
       "      <td>0</td>\n",
       "      <td>1</td>\n",
       "    </tr>\n",
       "    <tr>\n",
       "      <th>295101276003108</th>\n",
       "      <td>0</td>\n",
       "      <td>17</td>\n",
       "      <td>0</td>\n",
       "      <td>0</td>\n",
       "      <td>17</td>\n",
       "      <td>0</td>\n",
       "      <td>0</td>\n",
       "      <td>0</td>\n",
       "      <td>0</td>\n",
       "      <td>0</td>\n",
       "      <td>21</td>\n",
       "      <td>0</td>\n",
       "      <td>21</td>\n",
       "    </tr>\n",
       "    <tr>\n",
       "      <th>295101276003109</th>\n",
       "      <td>0</td>\n",
       "      <td>58</td>\n",
       "      <td>4</td>\n",
       "      <td>0</td>\n",
       "      <td>62</td>\n",
       "      <td>0</td>\n",
       "      <td>3</td>\n",
       "      <td>0</td>\n",
       "      <td>0</td>\n",
       "      <td>0</td>\n",
       "      <td>16</td>\n",
       "      <td>0</td>\n",
       "      <td>19</td>\n",
       "    </tr>\n",
       "  </tbody>\n",
       "</table>\n",
       "<p>343565 rows × 13 columns</p>\n",
       "</div>"
      ],
      "text/plain": [
       "                 CAI  Resi  Commer  Agri  Total  numCAI  numCommer  numAgri  \\\n",
       "GEOID                                                                         \n",
       "290414701002125    0     3       0     0      3       0          0        0   \n",
       "290414701002126    0     1       0     0      1       0          0        0   \n",
       "290414701002127    0     2       0     0      2       0          0        0   \n",
       "290414701002128    0     1       0     0      1       0          0        0   \n",
       "290414701002129    0     0       0     0      0       0          1        0   \n",
       "...              ...   ...     ...   ...    ...     ...        ...      ...   \n",
       "295101276003105    0     0       2     0      2       0          8        0   \n",
       "295101276003106    0     0       1     0      1       0          3        0   \n",
       "295101276003107    0     0       0     0      0       0          0        0   \n",
       "295101276003108    0    17       0     0     17       0          0        0   \n",
       "295101276003109    0    58       4     0     62       0          3        0   \n",
       "\n",
       "                 numOutdoor  numRem  numResi  numVacland  numTotal  \n",
       "GEOID                                                               \n",
       "290414701002125           0       0        6           0         6  \n",
       "290414701002126           0       0        5           0         5  \n",
       "290414701002127           0       0        3           0         3  \n",
       "290414701002128           0       0        3           0         3  \n",
       "290414701002129           0       3        0           0         1  \n",
       "...                     ...     ...      ...         ...       ...  \n",
       "295101276003105           0       0        0           0         8  \n",
       "295101276003106           0       0        0           0         3  \n",
       "295101276003107           0       0        1           0         1  \n",
       "295101276003108           0       0       21           0        21  \n",
       "295101276003109           0       0       16           0        19  \n",
       "\n",
       "[343565 rows x 13 columns]"
      ]
     },
     "execution_count": 534,
     "metadata": {},
     "output_type": "execute_result"
    }
   ],
   "source": [
    "compare"
   ]
  },
  {
   "cell_type": "code",
   "execution_count": 543,
   "id": "704832e5-6ca5-422c-8611-e40ed43dcf39",
   "metadata": {
    "execution": {
     "iopub.execute_input": "2022-06-10T15:58:54.055379Z",
     "iopub.status.busy": "2022-06-10T15:58:54.055093Z",
     "iopub.status.idle": "2022-06-10T15:58:54.063751Z",
     "shell.execute_reply": "2022-06-10T15:58:54.063301Z",
     "shell.execute_reply.started": "2022-06-10T15:58:54.055358Z"
    },
    "tags": []
   },
   "outputs": [
    {
     "data": {
      "text/plain": [
       "{'CAI': 16142,\n",
       " 'Resi': 2833648,\n",
       " 'Commer': 267849,\n",
       " 'Agri': 171820,\n",
       " 'Total': 3289459,\n",
       " 'numCAI': 27207,\n",
       " 'numCommer': 221208,\n",
       " 'numAgri': 330604,\n",
       " 'numOutdoor': 410,\n",
       " 'numRem': 122975,\n",
       " 'numResi': 2627847,\n",
       " 'numVacland': 56065,\n",
       " 'numTotal': 3263341}"
      ]
     },
     "execution_count": 543,
     "metadata": {},
     "output_type": "execute_result"
    }
   ],
   "source": [
    "compare.sum(axis=0).to_dict()"
   ]
  },
  {
   "cell_type": "code",
   "execution_count": 540,
   "id": "ef5acf34-f63c-4d07-a92b-c9cfd09070c4",
   "metadata": {
    "execution": {
     "iopub.execute_input": "2022-06-10T15:55:25.624999Z",
     "iopub.status.busy": "2022-06-10T15:55:25.624698Z",
     "iopub.status.idle": "2022-06-10T15:55:25.628630Z",
     "shell.execute_reply": "2022-06-10T15:55:25.628259Z",
     "shell.execute_reply.started": "2022-06-10T15:55:25.624976Z"
    },
    "tags": []
   },
   "outputs": [
    {
     "data": {
      "text/plain": [
       "Index(['CAI', 'Resi', 'Commer', 'Agri', 'Total', 'numCAI', 'numCommer',\n",
       "       'numAgri', 'numOutdoor', 'numRem', 'numResi', 'numVacland', 'numTotal'],\n",
       "      dtype='object')"
      ]
     },
     "execution_count": 540,
     "metadata": {},
     "output_type": "execute_result"
    }
   ],
   "source": [
    "compare.columns"
   ]
  },
  {
   "cell_type": "code",
   "execution_count": 578,
   "id": "085e4cf3-fde1-4713-9e1d-3201111a7318",
   "metadata": {
    "execution": {
     "iopub.execute_input": "2022-06-10T17:30:05.790547Z",
     "iopub.status.busy": "2022-06-10T17:30:05.790237Z",
     "iopub.status.idle": "2022-06-10T17:30:06.141275Z",
     "shell.execute_reply": "2022-06-10T17:30:06.140707Z",
     "shell.execute_reply.started": "2022-06-10T17:30:05.790524Z"
    },
    "tags": []
   },
   "outputs": [
    {
     "data": {
      "text/plain": [
       "<matplotlib.legend.Legend at 0x7f5fde96c310>"
      ]
     },
     "execution_count": 578,
     "metadata": {},
     "output_type": "execute_result"
    },
    {
     "data": {
      "image/png": "[encoded data removed]",
      "text/plain": [
       "<Figure size 2000x1000 with 1 Axes>"
      ]
     },
     "metadata": {},
     "output_type": "display_data"
    }
   ],
   "source": [
    "plotdata = pd.DataFrame({\n",
    "    \"Current\":    [16142, 267849, 171820, 0, 2833648, 0, 3289459],\n",
    "    \"RAD3\":   [27207, 221208, 330604, 410, 2627847, 56065, 3263341],\n",
    "    }, \n",
    "    index=['CAI', 'biz',\n",
    "           'farm', 'outdoor', \n",
    "           'resi', 'vacland', 'TOTAL']\n",
    ")\n",
    "\n",
    "ax = plotdata.plot(kind=\"bar\")\n",
    "import matplotlib\n",
    "from matplotlib import pyplot as plt\n",
    "# matplotlib.style.use('default') \n",
    "plt.rcParams[\"figure.figsize\"] = [20, 10]\n",
    "plt.title(\"Demandpoint counts: Current vs RAD3\", fontsize=50)\n",
    "plt.xticks(rotation=0, horizontalalignment=\"center\", fontsize=30)\n",
    "plt.yticks(rotation=0, horizontalalignment=\"center\", fontsize=20)\n",
    "plt.xlabel(\"Landuse\", fontsize=40)\n",
    "plt.ylabel(\"Count\", fontsize=40)\n",
    "plt.yscale(\"log\") \n",
    "ax.legend(fontsize=30)"
   ]
  },
  {
   "cell_type": "code",
   "execution_count": null,
   "id": "79069b41-bf44-4a0c-bed3-2da85c5594bd",
   "metadata": {},
   "outputs": [],
   "source": []
  }
 ],
 "metadata": {
  "kernelspec": {
   "display_name": "Python 3 (ipykernel)",
   "language": "python",
   "name": "python3"
  },
  "language_info": {
   "codemirror_mode": {
    "name": "ipython",
    "version": 3
   },
   "file_extension": ".py",
   "mimetype": "text/x-python",
   "name": "python",
   "nbconvert_exporter": "python",
   "pygments_lexer": "ipython3",
   "version": "3.9.7"
  }
 },
 "nbformat": 4,
 "nbformat_minor": 5
}
