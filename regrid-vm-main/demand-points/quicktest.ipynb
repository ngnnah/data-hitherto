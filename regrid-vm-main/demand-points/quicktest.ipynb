{
 "cells": [
  {
   "cell_type": "code",
   "execution_count": 37,
   "id": "d09b1d4e-cdef-41dc-9586-19397f7ee25e",
   "metadata": {
    "execution": {
     "iopub.execute_input": "2022-06-03T02:20:22.227142Z",
     "iopub.status.busy": "2022-06-03T02:20:22.226617Z",
     "iopub.status.idle": "2022-06-03T02:20:23.927851Z",
     "shell.execute_reply": "2022-06-03T02:20:23.927292Z",
     "shell.execute_reply.started": "2022-06-03T02:20:22.227118Z"
    },
    "tags": []
   },
   "outputs": [
    {
     "name": "stdout",
     "output_type": "stream",
     "text": [
      "/home/nhat/regrid-bucket/va_accomack.ndgeojson.gz 0\n"
     ]
    }
   ],
   "source": [
    "from shapely.geometry import Point, shape\n",
    "from glob import glob\n",
    "import pandas as pd\n",
    "\n",
    "# Important: geometry must have type dict\n",
    "dtype_map = {'geometry': dict, 'id': int, 'properties' : dict, 'type' : \"category\"}\n",
    "sf = 'va'\n",
    "files = glob(f'/home/nhat/regrid-bucket/{sf}_*.ndgeojson.gz')\n",
    "def func(row):\n",
    "    return shape(row)\n",
    "for ifile in files:\n",
    "    chunks = pd.read_json(ifile, lines=True, chunksize=10000, dtype=dtype_map)\n",
    "    for chunk_order, chunk_df in enumerate(chunks):\n",
    "        print(ifile, chunk_df.geometry.isnull().sum())\n",
    "        geometry = (chunk_df['geometry']\n",
    "        # .fillna({'type': 'Polygon', 'coordinates': [[]]})\n",
    "        .apply(func)\n",
    "        # .apply(lambda row: row.wkt)\n",
    "        # .reset_index(drop=True) \n",
    "        )\n",
    "        break\n",
    "    break"
   ]
  },
  {
   "cell_type": "code",
   "execution_count": null,
   "id": "d749b00a-045a-4ac1-8a40-bcdbf5afa019",
   "metadata": {},
   "outputs": [],
   "source": []
  },
  {
   "cell_type": "code",
   "execution_count": null,
   "id": "eaf15f3b-416f-411e-9e96-2a89186e3151",
   "metadata": {},
   "outputs": [],
   "source": []
  },
  {
   "cell_type": "code",
   "execution_count": null,
   "id": "da511d9a-41b4-4051-9ed8-0aad7823e5e5",
   "metadata": {},
   "outputs": [],
   "source": []
  }
 ],
 "metadata": {
  "kernelspec": {
   "display_name": "Python 3 (ipykernel)",
   "language": "python",
   "name": "python3"
  },
  "language_info": {
   "codemirror_mode": {
    "name": "ipython",
    "version": 3
   },
   "file_extension": ".py",
   "mimetype": "text/x-python",
   "name": "python",
   "nbconvert_exporter": "python",
   "pygments_lexer": "ipython3",
   "version": "3.9.7"
  }
 },
 "nbformat": 4,
 "nbformat_minor": 5
}
