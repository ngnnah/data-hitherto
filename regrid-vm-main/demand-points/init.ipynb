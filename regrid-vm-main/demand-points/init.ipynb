{
 "cells": [
  {
   "cell_type": "code",
   "execution_count": 962,
   "id": "031ca6f7-0e91-40fa-aa94-865e8b78e8ff",
   "metadata": {},
   "outputs": [
    {
     "name": "stdout",
     "output_type": "stream",
     "text": [
      "The autotime extension is already loaded. To reload it, use:\n",
      "  %reload_ext autotime\n",
      "time: 1.39 ms (started: 2022-03-23 15:37:45 -04:00)\n"
     ]
    }
   ],
   "source": [
    "import geopandas as gp\n",
    "import numpy as np\n",
    "import pandas as pd\n",
    "from glob import glob\n",
    "import datetime\n",
    "import os\n",
    "import shutil\n",
    "\n",
    "import pprint\n",
    "%load_ext autotime"
   ]
  },
  {
   "cell_type": "markdown",
   "id": "5210922e-e4b4-4811-91c6-d8620cd75234",
   "metadata": {},
   "source": [
    "# COPY geojson.zips (parcels) files to /samples"
   ]
  },
  {
   "cell_type": "code",
   "execution_count": 5,
   "id": "1535730e-b661-4226-9105-944f85614f38",
   "metadata": {},
   "outputs": [
    {
     "name": "stdout",
     "output_type": "stream",
     "text": [
      "ca_los_angeles\n",
      "fl_liberty\n",
      "ia_adams\n",
      "ma_middlesex\n",
      "mo_caldwell\n",
      "mo_clinton\n",
      "mo_dekalb\n",
      "mo_gentry\n",
      "ny_kings\n",
      "ny_new_york\n",
      "tx_loving\n",
      "time: 26.9 s (started: 2022-02-05 14:16:23 -05:00)\n"
     ]
    }
   ],
   "source": [
    "lenAddr = len('_addresses')\n",
    "for file in files:\n",
    "    namestem = os.path.basename(file).split('.')[0][:-lenAddr]\n",
    "    shutil.copy(f\"/home/nhat/regrid-bucket/{namestem}.geojson.zip\", '/home/nhat/mdu/samples/')\n",
    "    print(namestem)"
   ]
  },
  {
   "cell_type": "markdown",
   "id": "ab73b4c5-ed5f-4f21-9f48-0bcc3ae10893",
   "metadata": {},
   "source": [
    "# download samples dir to local"
   ]
  },
  {
   "cell_type": "code",
   "execution_count": null,
   "id": "5bd36001-a082-491f-af61-54922de2e80a",
   "metadata": {},
   "outputs": [],
   "source": [
    "ls -1 ~/mdu/samples/*.geojson.zip | cat > mdu/download.txt\n",
    "\n",
    "gcloud compute scp nhat@regrid-tiling-dev:~/mdu/download.txt ~/Downloads/mdu/\n",
    "\n",
    "parallel --verbose \"gcloud compute scp nhat@regrid-tiling-dev:{} ~/Downloads/mdu/parcel/\" :::: ~/Downloads/mdu/download.txt\n",
    "\n"
   ]
  },
  {
   "cell_type": "markdown",
   "id": "3b1e2840-848f-48cb-b070-6eb1116e9b1d",
   "metadata": {
    "tags": []
   },
   "source": [
    "# high rises / MDU"
   ]
  },
  {
   "cell_type": "code",
   "execution_count": 3,
   "id": "42e79818-e4f7-4449-8e8a-131f885b7441",
   "metadata": {},
   "outputs": [
    {
     "name": "stdout",
     "output_type": "stream",
     "text": [
      "time: 417 µs (started: 2022-02-10 15:14:57 -05:00)\n"
     ]
    }
   ],
   "source": [
    "address_fields = ['ll_uuid', 'a_address', 'a_dpv_type', 'a_lat', 'a_lon']\n",
    "parcel_fields = ['ll_uuid', 'll_bldg_count', 'lbcs_structure', 'lbcs_function', 'address', 'rdi', 'dpv_status', 'dpv_type', 'geometry']"
   ]
  },
  {
   "cell_type": "code",
   "execution_count": null,
   "id": "df459395-11c9-469c-9f79-755471f6296c",
   "metadata": {
    "tags": []
   },
   "outputs": [],
   "source": [
    "### CA\n",
    "#### # TOO LARGE = out of RAM = hang!\n",
    "#### need: ijson to stream parsing the json"
   ]
  },
  {
   "cell_type": "markdown",
   "id": "a65caafa-edfc-4786-b388-a93a1711ed0a",
   "metadata": {},
   "source": [
    "### FL, NY, MO"
   ]
  },
  {
   "cell_type": "code",
   "execution_count": 4,
   "id": "2142a990-700f-4dc6-86a6-c77cce62c6d9",
   "metadata": {},
   "outputs": [
    {
     "name": "stdout",
     "output_type": "stream",
     "text": [
      "S    227872\n",
      "H     76983\n",
      "Name: dpv_type, dtype: int64\n",
      "H    1640032\n",
      "S     270833\n",
      "P      54386\n",
      "        1378\n",
      "Name: a_dpv_type, dtype: int64\n",
      "time: 6min 2s (started: 2022-02-10 15:15:00 -05:00)\n"
     ]
    }
   ],
   "source": [
    "state = 'ny'\n",
    "\n",
    "dfP = []\n",
    "for path in glob(f\"samples/{state}*.json\"):\n",
    "    dfP.append(gp.read_file(path))\n",
    "dfP = pd.concat(dfP)\n",
    "\n",
    "dfA = []\n",
    "for path in glob(f\"samples/{state}*.csv\"):\n",
    "    dfA.append(gp.read_file(path))\n",
    "dfA = pd.concat(dfA)\n"
   ]
  },
  {
   "cell_type": "code",
   "execution_count": 31,
   "id": "1b344ffd-e94d-4fb1-8363-bbf02d49eaad",
   "metadata": {},
   "outputs": [
    {
     "name": "stdout",
     "output_type": "stream",
     "text": [
      "time: 221 µs (started: 2022-02-05 15:44:12 -05:00)\n"
     ]
    }
   ],
   "source": [
    "# mo: 38 H parcels, 1861 H addresses ; 5893 P (post office box) addresses\n",
    "# ny: 76983 H parcels; 1640032 H addresses ; 54386 P (post office box)  addresses"
   ]
  },
  {
   "cell_type": "code",
   "execution_count": 31,
   "id": "345f81d7-a799-4d9e-8dd8-6918353ab82e",
   "metadata": {},
   "outputs": [
    {
     "data": {
      "text/plain": [
       "(1966629, 35)"
      ]
     },
     "execution_count": 31,
     "metadata": {},
     "output_type": "execute_result"
    },
    {
     "name": "stdout",
     "output_type": "stream",
     "text": [
      "time: 1.72 ms (started: 2022-02-10 17:43:32 -05:00)\n"
     ]
    }
   ],
   "source": [
    "dfAcopy.shape"
   ]
  },
  {
   "cell_type": "code",
   "execution_count": 6,
   "id": "4e9ea089-6b93-4b94-bb0e-4b1565564050",
   "metadata": {},
   "outputs": [
    {
     "name": "stdout",
     "output_type": "stream",
     "text": [
      "time: 1.65 s (started: 2022-02-10 15:21:07 -05:00)\n"
     ]
    }
   ],
   "source": [
    "dfAcopy = dfA.copy()\n",
    "dfPcopy = dfP.copy()\n"
   ]
  },
  {
   "cell_type": "code",
   "execution_count": 45,
   "id": "eff87fd2-64d6-41ab-9bd8-09eebcd10c27",
   "metadata": {},
   "outputs": [
    {
     "name": "stdout",
     "output_type": "stream",
     "text": [
      "time: 1.52 s (started: 2022-02-10 17:46:50 -05:00)\n"
     ]
    }
   ],
   "source": [
    "dfA = dfAcopy.copy()\n",
    "dfP = dfPcopy.copy()\n"
   ]
  },
  {
   "cell_type": "code",
   "execution_count": 46,
   "id": "beaef4dc-27c3-4424-9a10-50ed8f5de2ce",
   "metadata": {},
   "outputs": [
    {
     "name": "stdout",
     "output_type": "stream",
     "text": [
      "time: 1.4 s (started: 2022-02-10 17:46:59 -05:00)\n"
     ]
    }
   ],
   "source": [
    "dfP = dfP[parcel_fields]\n",
    "dfA = dfA[address_fields]\n",
    "\n",
    "\n",
    "dfP = dfP.loc[dfP.dpv_type == 'H']\n",
    "# only keep matched 2nd to highrise parcels\n",
    "dfA = dfA.loc[dfA.ll_uuid.isin(dfP.ll_uuid), :]"
   ]
  },
  {
   "cell_type": "code",
   "execution_count": 56,
   "id": "9c4f7e7e-2de9-4158-b9a7-23fa68c008d7",
   "metadata": {},
   "outputs": [
    {
     "data": {
      "text/plain": [
       "13718"
      ]
     },
     "execution_count": 56,
     "metadata": {},
     "output_type": "execute_result"
    },
    {
     "name": "stdout",
     "output_type": "stream",
     "text": [
      "time: 109 ms (started: 2022-02-10 17:58:33 -05:00)\n"
     ]
    }
   ],
   "source": [
    "len(set(dfP.ll_uuid) - set(dfA.ll_uuid))"
   ]
  },
  {
   "cell_type": "code",
   "execution_count": 47,
   "id": "20f89d89-c529-403a-91b5-b47f30f90beb",
   "metadata": {},
   "outputs": [
    {
     "data": {
      "text/plain": [
       "((76983, 9), (1226483, 5))"
      ]
     },
     "execution_count": 47,
     "metadata": {},
     "output_type": "execute_result"
    },
    {
     "name": "stdout",
     "output_type": "stream",
     "text": [
      "time: 1.54 ms (started: 2022-02-10 17:47:04 -05:00)\n"
     ]
    }
   ],
   "source": [
    "dfP.shape, dfA.shape # ((76983, 9), (1226483, 5))"
   ]
  },
  {
   "cell_type": "code",
   "execution_count": 48,
   "id": "bc4e8e16-fb61-432d-aa5a-51861667c35b",
   "metadata": {},
   "outputs": [
    {
     "data": {
      "text/plain": [
       "H    1218051\n",
       "S       8210\n",
       "         222\n",
       "Name: a_dpv_type, dtype: int64"
      ]
     },
     "execution_count": 48,
     "metadata": {},
     "output_type": "execute_result"
    },
    {
     "name": "stdout",
     "output_type": "stream",
     "text": [
      "time: 39.3 ms (started: 2022-02-10 17:47:07 -05:00)\n"
     ]
    }
   ],
   "source": [
    "dfA.a_dpv_type.value_counts()"
   ]
  },
  {
   "cell_type": "code",
   "execution_count": 49,
   "id": "404dbc50-9040-4754-8ac9-2eab3acd2fec",
   "metadata": {},
   "outputs": [
    {
     "data": {
      "text/plain": [
       "count    63265.000000\n",
       "mean        19.386438\n",
       "std         65.761541\n",
       "min          1.000000\n",
       "25%          4.000000\n",
       "50%          7.000000\n",
       "75%         16.000000\n",
       "max       8801.000000\n",
       "dtype: float64"
      ]
     },
     "execution_count": 49,
     "metadata": {},
     "output_type": "execute_result"
    },
    {
     "name": "stdout",
     "output_type": "stream",
     "text": [
      "time: 178 ms (started: 2022-02-10 17:47:20 -05:00)\n"
     ]
    }
   ],
   "source": [
    "group = dfA.groupby('ll_uuid').size()\n",
    "group.describe()"
   ]
  },
  {
   "cell_type": "code",
   "execution_count": 10,
   "id": "74dac466-d7de-4814-a8a2-ff058e8f1cc7",
   "metadata": {},
   "outputs": [
    {
     "name": "stdout",
     "output_type": "stream",
     "text": [
      "time: 555 ms (started: 2022-02-10 15:22:08 -05:00)\n"
     ]
    }
   ],
   "source": [
    "#\n",
    "dfA.ll_uuid = dfA.ll_uuid.fillna(\"\")\n",
    "dfP.ll_uuid = dfP.ll_uuid.fillna(\"\")\n",
    "# just last 3 chars of ll_uuid should be enough for visual matching\n",
    "dfA.ll_uuid = dfA.ll_uuid.str[-4:-1]\n",
    "dfP.ll_uuid = dfP.ll_uuid.str[-4:-1]"
   ]
  },
  {
   "cell_type": "code",
   "execution_count": 11,
   "id": "77be7856-dfe7-457a-81c2-cbf9a7ea34fa",
   "metadata": {},
   "outputs": [
    {
     "name": "stdout",
     "output_type": "stream",
     "text": [
      "time: 3.95 s (started: 2022-02-10 15:22:08 -05:00)\n"
     ]
    }
   ],
   "source": [
    "dfA.to_csv(f'kepler/{state}_a.csv', index=False)\n",
    "dfP.to_csv(f'kepler/{state}_p.csv', index=False)\n"
   ]
  },
  {
   "cell_type": "markdown",
   "id": "b956c184-a69c-49b3-a890-76bab437d8e6",
   "metadata": {},
   "source": [
    "# SafeGraph POIs"
   ]
  },
  {
   "cell_type": "code",
   "execution_count": 19,
   "id": "30ca5ee9-9dd2-4dd3-8f09-4cc250a706b6",
   "metadata": {},
   "outputs": [
    {
     "data": {
      "text/plain": [
       "0.0987502800044917"
      ]
     },
     "execution_count": 19,
     "metadata": {},
     "output_type": "execute_result"
    },
    {
     "name": "stdout",
     "output_type": "stream",
     "text": [
      "time: 5.57 ms (started: 2022-03-04 13:36:14 -05:00)\n"
     ]
    }
   ],
   "source": [
    "stats = pd.read_csv('ready_summary_stats.csv')\n",
    "stats.shape\n",
    "# FILL RATE overall for open_hours ~ 40%\n",
    "np.average(stats.OPEN_FILL_RATE, weights=stats.TOTAL_POIS)\n",
    "# ~ 62%\n",
    "np.average(stats.PHONE_FILL_RATE, weights=stats.TOTAL_POIS)\n",
    "# 1.44%\n",
    "np.average(stats.OPENED_ON_PERCENT, weights=stats.TOTAL_POIS)\n",
    "# 9.87%\n",
    "np.average(stats.CLOSED_ON_PERCENT, weights=stats.TOTAL_POIS)"
   ]
  },
  {
   "cell_type": "code",
   "execution_count": 11,
   "id": "65a454e7-bb2c-4598-9e6c-14d67f5758c5",
   "metadata": {},
   "outputs": [],
   "source": [
    "files = !ls safegraph/*poi*.csv\n",
    "\n",
    "dfs = []\n",
    "for file in files:\n",
    "    df = pd.read_csv(file)[['location_name',\n",
    "'brands',\n",
    "'top_category',\n",
    "'sub_category',\n",
    "'naics_code',\n",
    "'latitude',\n",
    "'longitude',\n",
    "'street_address',\n",
    "'city',\n",
    "'region',\n",
    "'postal_code',\n",
    "'phone_number',\n",
    "'open_hours',\n",
    "'category_tags',]]\n",
    "    dfs.append(df)\n",
    "\n",
    "dfs = pd.concat(dfs)\n",
    "    "
   ]
  },
  {
   "cell_type": "code",
   "execution_count": 16,
   "id": "28b75eac-fe5a-4260-9169-3c2c5d0f68d1",
   "metadata": {},
   "outputs": [
    {
     "data": {
      "text/plain": [
       "(5333501, 14)"
      ]
     },
     "execution_count": 16,
     "metadata": {},
     "output_type": "execute_result"
    },
    {
     "name": "stdout",
     "output_type": "stream",
     "text": [
      "time: 1.68 ms (started: 2022-03-14 16:42:49 -04:00)\n"
     ]
    }
   ],
   "source": [
    "dfs.shape"
   ]
  },
  {
   "cell_type": "code",
   "execution_count": 38,
   "id": "64383b16-58f3-460c-b178-c20522bcb15c",
   "metadata": {},
   "outputs": [
    {
     "data": {
      "text/plain": [
       "(100554, 14)"
      ]
     },
     "execution_count": 38,
     "metadata": {},
     "output_type": "execute_result"
    },
    {
     "name": "stdout",
     "output_type": "stream",
     "text": [
      "time: 276 ms (started: 2022-03-15 00:27:22 -04:00)\n"
     ]
    }
   ],
   "source": [
    "safegraph_mo = dfs[dfs.region == 'MO']\n",
    "safegraph_mo.shape"
   ]
  },
  {
   "cell_type": "code",
   "execution_count": 36,
   "id": "4b9cc49c-8b60-42aa-a9ad-07429b3f1ee1",
   "metadata": {},
   "outputs": [
    {
     "name": "stdout",
     "output_type": "stream",
     "text": [
      "time: 701 ms (started: 2022-03-15 00:25:35 -04:00)\n"
     ]
    }
   ],
   "source": [
    "safegraph_mo.to_csv('safegraph_MO_POI.csv')"
   ]
  },
  {
   "cell_type": "markdown",
   "id": "a8a47f0d-b0cf-4963-9ea6-4b23b69c54b4",
   "metadata": {},
   "source": [
    "# COUNTIES shp"
   ]
  },
  {
   "cell_type": "code",
   "execution_count": 24,
   "id": "24267355-f4ff-4d05-8a1c-bd90cba88e77",
   "metadata": {},
   "outputs": [
    {
     "name": "stdout",
     "output_type": "stream",
     "text": [
      "time: 4.37 s (started: 2022-03-14 17:18:48 -04:00)\n"
     ]
    }
   ],
   "source": [
    "counties = gp.read_file('https://www2.census.gov/geo/tiger/TIGER2019/COUNTY/tl_2019_us_county.zip')"
   ]
  },
  {
   "cell_type": "code",
   "execution_count": 41,
   "id": "4f02e6db-f4de-4a69-8a44-e20c34ef373a",
   "metadata": {},
   "outputs": [
    {
     "data": {
      "text/plain": [
       "(115, 2)"
      ]
     },
     "execution_count": 41,
     "metadata": {},
     "output_type": "execute_result"
    },
    {
     "name": "stdout",
     "output_type": "stream",
     "text": [
      "time: 5.03 ms (started: 2022-03-15 00:28:34 -04:00)\n"
     ]
    }
   ],
   "source": [
    "mo_shp = counties[counties.STATEFP == '29'][['GEOID', 'geometry',]]\n",
    "mo_shp.shape"
   ]
  },
  {
   "cell_type": "code",
   "execution_count": 42,
   "id": "ca23d862-393c-461e-aaed-e334f0b6e1a7",
   "metadata": {},
   "outputs": [
    {
     "name": "stdout",
     "output_type": "stream",
     "text": [
      "time: 1.08 s (started: 2022-03-15 00:28:35 -04:00)\n"
     ]
    }
   ],
   "source": [
    "mo_shp.to_file('mo_counties.geojson', driver='GeoJSON')"
   ]
  },
  {
   "cell_type": "code",
   "execution_count": 45,
   "id": "645d093b-5775-42b8-af9c-7d8304c51090",
   "metadata": {},
   "outputs": [
    {
     "data": {
      "text/html": [
       "<div>\n",
       "<style scoped>\n",
       "    .dataframe tbody tr th:only-of-type {\n",
       "        vertical-align: middle;\n",
       "    }\n",
       "\n",
       "    .dataframe tbody tr th {\n",
       "        vertical-align: top;\n",
       "    }\n",
       "\n",
       "    .dataframe thead th {\n",
       "        text-align: right;\n",
       "    }\n",
       "</style>\n",
       "<table border=\"1\" class=\"dataframe\">\n",
       "  <thead>\n",
       "    <tr style=\"text-align: right;\">\n",
       "      <th></th>\n",
       "      <th>GEOID</th>\n",
       "      <th>geometry</th>\n",
       "    </tr>\n",
       "  </thead>\n",
       "  <tbody>\n",
       "    <tr>\n",
       "      <th>1575</th>\n",
       "      <td>29227</td>\n",
       "      <td>POLYGON ((-94.46066 40.57110, -94.46047 40.571...</td>\n",
       "    </tr>\n",
       "    <tr>\n",
       "      <th>2232</th>\n",
       "      <td>29147</td>\n",
       "      <td>POLYGON ((-95.17904 40.31964, -95.17904 40.319...</td>\n",
       "    </tr>\n",
       "    <tr>\n",
       "      <th>2846</th>\n",
       "      <td>29049</td>\n",
       "      <td>POLYGON ((-94.60224 39.64563, -94.60224 39.645...</td>\n",
       "    </tr>\n",
       "  </tbody>\n",
       "</table>\n",
       "</div>"
      ],
      "text/plain": [
       "      GEOID                                           geometry\n",
       "1575  29227  POLYGON ((-94.46066 40.57110, -94.46047 40.571...\n",
       "2232  29147  POLYGON ((-95.17904 40.31964, -95.17904 40.319...\n",
       "2846  29049  POLYGON ((-94.60224 39.64563, -94.60224 39.645..."
      ]
     },
     "execution_count": 45,
     "metadata": {},
     "output_type": "execute_result"
    },
    {
     "name": "stdout",
     "output_type": "stream",
     "text": [
      "time: 24.4 ms (started: 2022-03-15 00:34:49 -04:00)\n"
     ]
    }
   ],
   "source": [
    "counties3 = mo_shp[mo_shp.GEOID.isin(['29049',\n",
    "'29147',\n",
    "'29227',])]\n",
    "counties3"
   ]
  },
  {
   "cell_type": "code",
   "execution_count": null,
   "id": "8f4c57d0-ee55-4eb0-9e2c-35111b7a9b64",
   "metadata": {},
   "outputs": [],
   "source": []
  },
  {
   "cell_type": "markdown",
   "id": "533081d5-250f-493e-80db-ea8d6e9b952f",
   "metadata": {},
   "source": [
    "## Counts: Safegraph v.s. ATTOM"
   ]
  },
  {
   "cell_type": "code",
   "execution_count": 69,
   "id": "603c8a82-9a85-4ffe-92bc-5153fb5c383d",
   "metadata": {},
   "outputs": [
    {
     "data": {
      "text/plain": [
       "(100554, 15)"
      ]
     },
     "execution_count": 69,
     "metadata": {},
     "output_type": "execute_result"
    },
    {
     "name": "stdout",
     "output_type": "stream",
     "text": [
      "time: 32.2 ms (started: 2022-03-15 00:44:24 -04:00)\n"
     ]
    }
   ],
   "source": [
    "safegraph_mo = gp.GeoDataFrame(\n",
    "    safegraph_mo, geometry=gp.points_from_xy(safegraph_mo.longitude, safegraph_mo.latitude)).set_crs(counties3.crs)\n",
    "safegraph_mo.shape"
   ]
  },
  {
   "cell_type": "code",
   "execution_count": 70,
   "id": "4758de53-9c67-4aba-882a-2a5795f34c07",
   "metadata": {},
   "outputs": [
    {
     "data": {
      "text/plain": [
       "(1929, 21)"
      ]
     },
     "execution_count": 70,
     "metadata": {},
     "output_type": "execute_result"
    },
    {
     "name": "stdout",
     "output_type": "stream",
     "text": [
      "time: 12 ms (started: 2022-03-15 00:44:28 -04:00)\n"
     ]
    }
   ],
   "source": [
    "attom_poi = pd.read_csv('attom/POI_sample.csv')\n",
    "attom_poi = gp.GeoDataFrame(\n",
    "    attom_poi, geometry=gp.points_from_xy(attom_poi.LONGITUDE, attom_poi.LATITUDE)).set_crs(counties3.crs)\n",
    "attom_poi.shape"
   ]
  },
  {
   "cell_type": "code",
   "execution_count": 71,
   "id": "0a207e7c-f48c-4427-a96e-ea92837df750",
   "metadata": {},
   "outputs": [
    {
     "data": {
      "text/plain": [
       "(737, 17)"
      ]
     },
     "execution_count": 71,
     "metadata": {},
     "output_type": "execute_result"
    },
    {
     "name": "stdout",
     "output_type": "stream",
     "text": [
      "time: 154 ms (started: 2022-03-15 00:44:32 -04:00)\n"
     ]
    }
   ],
   "source": [
    "safegraph_counties3 = gp.sjoin(counties3, safegraph_mo, how = 'left', predicate = 'contains')\n",
    "safegraph_counties3.shape"
   ]
  },
  {
   "cell_type": "code",
   "execution_count": 72,
   "id": "02cd49f2-9f1c-48d1-9b62-a4bdfb05a5f5",
   "metadata": {},
   "outputs": [
    {
     "data": {
      "text/plain": [
       "(1875, 23)"
      ]
     },
     "execution_count": 72,
     "metadata": {},
     "output_type": "execute_result"
    },
    {
     "name": "stdout",
     "output_type": "stream",
     "text": [
      "time: 16 ms (started: 2022-03-15 00:44:35 -04:00)\n"
     ]
    }
   ],
   "source": [
    "attom_counties3 = gp.sjoin(counties3, attom_poi, how = 'left', predicate = 'contains')\n",
    "attom_counties3 .shape"
   ]
  },
  {
   "cell_type": "code",
   "execution_count": null,
   "id": "b2dabd94-26b1-4c27-aa89-d881c7318735",
   "metadata": {},
   "outputs": [],
   "source": []
  },
  {
   "cell_type": "code",
   "execution_count": null,
   "id": "7c0d1ba7-f5b9-4517-8bee-32dde75dd24a",
   "metadata": {},
   "outputs": [],
   "source": []
  },
  {
   "cell_type": "code",
   "execution_count": null,
   "id": "ad5a579b-d554-4d4a-80f4-0c2bee167917",
   "metadata": {},
   "outputs": [],
   "source": []
  },
  {
   "cell_type": "markdown",
   "id": "12d9eb60-b50b-4209-b0cf-f3983639b470",
   "metadata": {},
   "source": [
    "# DEMAND POINTS: ATTOM vs REGRID"
   ]
  },
  {
   "cell_type": "code",
   "execution_count": 1065,
   "id": "14fff331-de0d-497b-95a3-310172434d6f",
   "metadata": {},
   "outputs": [
    {
     "data": {
      "text/plain": [
       "73"
      ]
     },
     "execution_count": 1065,
     "metadata": {},
     "output_type": "execute_result"
    },
    {
     "name": "stdout",
     "output_type": "stream",
     "text": [
      "time: 3.12 ms (started: 2022-03-24 17:16:41 -04:00)\n"
     ]
    }
   ],
   "source": [
    "attom_cols = [\n",
    "    '[ATTOM ID]', \n",
    "'SitusCounty',\n",
    "'SitusStateCountyFIPS',\n",
    " 'AreaBuilding',\n",
    " 'AreaBuildingDefinitionCode',\n",
    " 'AreaLotAcres',\n",
    " 'AreaLotSF',\n",
    " 'BedroomsCount',\n",
    " 'BuildingsCount',\n",
    " 'CensusBlock',\n",
    " 'CompanyFlag',\n",
    " 'ContactOwnerMailAddressFull',\n",
    " 'ContactOwnerMailAddressInfoFormat',\n",
    " 'GeoQuality',\n",
    " 'LegalBlock1',\n",
    " 'LegalDescription',\n",
    " 'LegalLotNumber1',\n",
    " 'LegalLotNumber2',\n",
    " 'LegalQuarter',\n",
    " 'LegalQuarterQuarter',\n",
    " 'LegalRange',\n",
    " 'LegalSection',\n",
    " 'LegalSubdivision',\n",
    " 'LegalTownship',\n",
    " 'LegalTractNumber',\n",
    " 'LegalUnit',\n",
    " 'OwnerTypeDescription1',\n",
    " 'OwnerTypeDescription2',\n",
    " 'OwnershipVestingRelationCode',\n",
    " 'ParcelAccountNumber',\n",
    " # 'ParcelNumberAlternate',\n",
    " 'ParcelNumberPrevious',\n",
    " 'ParcelNumberRaw',\n",
    " 'ParcelNumberYearAdded',\n",
    " 'ParcelNumberYearChange',\n",
    " 'PartyOwner1NameFirst',\n",
    " 'PartyOwner1NameFull',\n",
    " 'PartyOwner1NameLast',\n",
    " 'PartyOwner1NameMiddle',\n",
    " 'PartyOwner1NameSuffix',\n",
    " 'PartyOwner2NameFirst',\n",
    " 'PartyOwner2NameFull',\n",
    " 'PartyOwner2NameLast',\n",
    " 'PartyOwner2NameMiddle',\n",
    " 'PartyOwner2NameSuffix',\n",
    " 'PartyOwner3NameFirst',\n",
    " 'PartyOwner3NameFull',\n",
    " 'PartyOwner3NameLast',\n",
    " 'PartyOwner3NameMiddle',\n",
    " 'PartyOwner3NameSuffix',\n",
    " 'PropertyAddressCity',\n",
    " 'PropertyAddressFull',\n",
    " 'PropertyAddressHouseNumber',\n",
    " 'PropertyAddressState',\n",
    " 'PropertyAddressStreetDirection',\n",
    " 'PropertyAddressStreetName',\n",
    " 'PropertyAddressStreetPostDirection',\n",
    " 'PropertyAddressStreetSuffix',\n",
    " 'PropertyAddressUnitPrefix',\n",
    " 'PropertyAddressUnitValue',\n",
    " 'PropertyAddressZIP',\n",
    " 'PropertyAddressZIP4',\n",
    " 'PropertyLatitude',\n",
    " 'PropertyLongitude',\n",
    " 'PropertyUseGroup',\n",
    " 'PropertyUseStandardized',\n",
    " 'StatusOwnerOccupiedFlag',\n",
    " 'StoriesCount',\n",
    " 'TopographyCode',\n",
    " 'UnitsCount',\n",
    " 'UtilityBuildingArea',\n",
    " 'UtilityBuildingFlag',\n",
    " 'YearBuilt',\n",
    " 'YearBuiltEffective',\n",
    "     ]\n",
    "\n",
    "len(attom_cols)"
   ]
  },
  {
   "cell_type": "code",
   "execution_count": 1391,
   "id": "65ffe5dd-0822-4b7a-9bd7-c1a9b89be335",
   "metadata": {},
   "outputs": [
    {
     "name": "stdout",
     "output_type": "stream",
     "text": [
      "(32312, 74)\n",
      "(32050, 74)\n",
      "time: 860 ms (started: 2022-03-28 11:56:22 -04:00)\n"
     ]
    }
   ],
   "source": [
    "attom = pd.read_csv('attom/AS/AS-sample.csv')[attom_cols]\n",
    "attom = gp.GeoDataFrame(\n",
    "    attom, geometry=gp.points_from_xy(attom.PropertyLongitude, attom.PropertyLatitude)).set_crs(counties3.crs)\n",
    "print(attom.shape) # (32312, 75)\n",
    "attom = gp.sjoin(attom, counties3, how = 'left', predicate = 'within')\n",
    "\n",
    "# drop ATTOM points that lie outside county boundary\n",
    "attom = attom.dropna(axis = 0, subset = ['GEOID']).drop(\n",
    "    columns=['index_right', 'SitusStateCountyFIPS']).rename(columns={'GEOID' : 'COUNTY_FIPS'})\n",
    "\n",
    "print(attom.shape) # (32050, 75)\n",
    "\n",
    "# attom use 2010[?] county shp\n",
    "# attom['SitusStateCountyFIPS'] = attom.SitusStateCountyFIPS.astype(str).str.zfill(5)\n",
    "# attom['geoid_diff'] = (attom.SitusStateCountyFIPS == attom.GEOID)\n",
    "# attom[attom.geoid_diff == False].to_csv('attom_mixed_points.csv', index=None)\n",
    "# attom['geoid_diff'].value_counts()"
   ]
  },
  {
   "cell_type": "code",
   "execution_count": null,
   "id": "80c82115-ad63-4332-b5fb-6f8c557c4cd0",
   "metadata": {},
   "outputs": [],
   "source": [
    "# ParcelAccountNumber coverage = 48% nationwide, but all=NaN in the provided samples \n",
    "# FUTURE QUESTION: what does ParcelAccountNumber look like?\n",
    "attom.ParcelAccountNumber.isnull().sum()"
   ]
  },
  {
   "cell_type": "code",
   "execution_count": 297,
   "id": "4cbd15eb-adcf-4291-9cd0-219e89f21a7f",
   "metadata": {},
   "outputs": [
    {
     "name": "stdout",
     "output_type": "stream",
     "text": [
      "time: 685 µs (started: 2022-03-17 23:14:42 -04:00)\n"
     ]
    }
   ],
   "source": [
    "regrid_cols = [\n",
    " 'address',\n",
    " 'address_source',\n",
    " 'book',\n",
    " 'cass_errorno',\n",
    " 'census_block',\n",
    " # 'census_blockgroup',\n",
    " # 'census_tract',\n",
    " 'city',\n",
    " 'county',\n",
    " # 'deedacres',\n",
    " 'dpv_codes',\n",
    " 'dpv_notes',\n",
    " 'dpv_status',\n",
    " 'dpv_type',\n",
    " 'geoid',\n",
    " 'geometry',\n",
    " 'gisacre',\n",
    " 'lat',\n",
    " 'lbcs_activity',\n",
    " 'lbcs_activity_desc',\n",
    " 'lbcs_function',\n",
    " 'lbcs_function_desc',\n",
    " 'lbcs_ownership',\n",
    " 'lbcs_ownership_desc',\n",
    " 'lbcs_site',\n",
    " 'lbcs_site_desc',\n",
    " 'lbcs_structure',\n",
    " 'lbcs_structure_desc',\n",
    " 'legaldesc',\n",
    " 'll_bldg_count',\n",
    " 'll_bldg_footprint_sqft',\n",
    " 'll_gisacre',\n",
    " 'll_gissqft',\n",
    " 'll_updated_at',\n",
    " 'll_uuid',\n",
    " 'lon',\n",
    " 'mail_city',\n",
    " 'mail_state2',\n",
    " 'mail_zip',\n",
    " 'mailadd',\n",
    " 'original_address',\n",
    " 'owner',\n",
    " 'owner2',\n",
    " 'page',\n",
    " 'parcelnumb',\n",
    " # 'path',\n",
    " 'rdi',\n",
    " 'saddno',\n",
    " 'saddpref',\n",
    " 'saddstr',\n",
    " 'saddstsuf',\n",
    " 'saddsttyp',\n",
    " 'saledate',\n",
    "    'saleprice',\n",
    " 'scity',\n",
    " # 'sec',\n",
    " # 'sec_twp_rn',\n",
    " # 'section',\n",
    " 'sunit',\n",
    " 'szip',\n",
    " 'usps_vacancy',\n",
    " 'usps_vacancy_date']"
   ]
  },
  {
   "cell_type": "markdown",
   "id": "af416113-45b5-43d4-b936-8120ce0075dd",
   "metadata": {},
   "source": [
    "### [LATER] ll_address_count: A count of all the addresses we know of existing on a parcel. This includes the primary situs address and all the secondary or unit based addresses in our matched secondary address dataset. It is similar to the county provided 'numunits' in our schema, but calculated by us based on our nationwide address dataset from Ageon.\t\"Expected April 2022\""
   ]
  },
  {
   "cell_type": "code",
   "execution_count": 1067,
   "id": "f1e985db-2d7e-4c1e-b83f-e1279107ea4a",
   "metadata": {},
   "outputs": [
    {
     "name": "stdout",
     "output_type": "stream",
     "text": [
      "(27010, 136)\n"
     ]
    },
    {
     "data": {
      "text/plain": [
       "lat    0\n",
       "lon    0\n",
       "dtype: int64"
      ]
     },
     "execution_count": 1067,
     "metadata": {},
     "output_type": "execute_result"
    },
    {
     "name": "stdout",
     "output_type": "stream",
     "text": [
      "time: 14.6 s (started: 2022-03-24 17:17:50 -04:00)\n"
     ]
    }
   ],
   "source": [
    "regrid_files = [ '/home/nhat/regrid-bucket/mo_worth.geojson.zip',\n",
    "    '/home/nhat/regrid-bucket/mo_clinton.geojson.zip',\n",
    "    '/home/nhat/regrid-bucket/mo_nodaway.geojson.zip',]\n",
    "\n",
    "regrid = []\n",
    "for file in regrid_files:\n",
    "    df = gp.read_file(file)\n",
    "    regrid.append(df)\n",
    "# counties3.crs # EPSG:4269\n",
    "# regrid.crs # EPSG:4326\n",
    "regrid = pd.concat(regrid)\n",
    "\n",
    "regrid['polygon'] = regrid.geometry.to_crs(counties3.crs)\n",
    "# regrid = regrid[regrid_cols]\n",
    "\n",
    "# Change the geometry column\n",
    "regrid = gp.GeoDataFrame(regrid, geometry =\n",
    "                         gp.points_from_xy(regrid.lon, regrid.lat)).set_crs(counties3.crs)\n",
    "print(regrid.shape) \n",
    "\n",
    "regrid[['lat', 'lon']].isnull().sum()"
   ]
  },
  {
   "cell_type": "code",
   "execution_count": 1068,
   "id": "94654a26-7ae8-424d-a95a-389eef1b2790",
   "metadata": {},
   "outputs": [
    {
     "name": "stdout",
     "output_type": "stream",
     "text": [
      "(27010, 138) (27003, 138)\n",
      "REGRID has no geoid_diff True    27003\n",
      "Name: geoid_diff, dtype: int64\n",
      "time: 715 ms (started: 2022-03-24 17:18:12 -04:00)\n"
     ]
    }
   ],
   "source": [
    "# Some points are dropped -- QUESTION: which TIGER county shp year does REGRID use?\n",
    "regrid = gp.sjoin(regrid, counties3, how = 'left', predicate = 'within')\n",
    "print(regrid.shape,  regrid.dropna(axis = 0, subset = ['GEOID']).shape) \n",
    "regrid = regrid.dropna(axis = 0, subset = ['GEOID'])\n",
    "\n",
    "regrid['geoid_diff'] = (regrid.geoid == regrid.GEOID)\n",
    "print(\"REGRID has no geoid_diff\", regrid['geoid_diff'].value_counts())\n",
    "\n",
    "regrid = regrid.drop(columns=['geoid', 'index_right', 'geoid_diff']).rename(columns= {'GEOID': 'COUNTY_FIPS'})\n"
   ]
  },
  {
   "cell_type": "code",
   "execution_count": 1069,
   "id": "20ce05be-3d34-458d-a5aa-668a37b65941",
   "metadata": {},
   "outputs": [
    {
     "data": {
      "text/plain": [
       "parcelnumb    11\n",
       "dtype: int64"
      ]
     },
     "execution_count": 1069,
     "metadata": {},
     "output_type": "execute_result"
    },
    {
     "name": "stdout",
     "output_type": "stream",
     "text": [
      "time: 8.07 ms (started: 2022-03-24 17:18:23 -04:00)\n"
     ]
    }
   ],
   "source": [
    "# Some null Parcel ID/Parcel Number\n",
    "regrid[['parcelnumb']].isnull().sum()"
   ]
  },
  {
   "cell_type": "markdown",
   "id": "4bbb6bcd-94d8-4506-b04e-aee09e3c8263",
   "metadata": {},
   "source": [
    "# Pre-processing"
   ]
  },
  {
   "cell_type": "code",
   "execution_count": 1070,
   "id": "23f6108d-f411-452c-aff9-4ab6e44e5ca9",
   "metadata": {},
   "outputs": [
    {
     "data": {
      "text/plain": [
       "((32050, 74), (27003, 136))"
      ]
     },
     "execution_count": 1070,
     "metadata": {},
     "output_type": "execute_result"
    },
    {
     "name": "stdout",
     "output_type": "stream",
     "text": [
      "time: 598 ms (started: 2022-03-24 17:22:49 -04:00)\n"
     ]
    }
   ],
   "source": [
    "# Formatting\n",
    "cols = ['legaldesc', 'parcelnumb']\n",
    "for col in cols:\n",
    "    regrid[col] = regrid[col].str.strip()\n",
    "    regrid[col] = regrid[col].str.upper()\n",
    "regrid[cols] = pd.DataFrame(\n",
    "    np.core.defchararray.replace(regrid[cols].values.astype(str), ' ', '-'), \n",
    "    regrid.index, cols)\n",
    "\n",
    "\n",
    "cols = ['LegalDescription', 'ParcelNumberRaw']\n",
    "for col in cols:\n",
    "    attom[col] = attom[col].str.strip()\n",
    "    attom[col] = attom[col].str.upper()\n",
    "attom[cols] = pd.DataFrame(\n",
    "    np.core.defchararray.replace(attom[cols].values.astype(str), ' ', '-'), \n",
    "    attom.index, cols)\n",
    "\n",
    "# Coords should have float types\n",
    "regrid[['lat', 'lon',]] = regrid[['lat', 'lon',]].astype(float)\n",
    "attom[['PropertyLatitude', 'PropertyLongitude',]] = attom[['PropertyLatitude', 'PropertyLongitude', ]].astype(float)\n",
    "\n",
    "attom = attom.rename(columns={'[ATTOM ID]': 'at_id'})\n",
    "regrid = regrid.rename(columns={'ll_uuid': 're_id'})\n",
    "attom.shape, regrid.shape"
   ]
  },
  {
   "cell_type": "markdown",
   "id": "24175668-68ce-47a6-8c8c-2c50a05f5689",
   "metadata": {},
   "source": [
    "# Merge on parcelNumberRaw / parcelnumb"
   ]
  },
  {
   "cell_type": "code",
   "execution_count": 292,
   "id": "afc9a634-1c6f-470f-9b5d-00d18def92d8",
   "metadata": {},
   "outputs": [
    {
     "name": "stdout",
     "output_type": "stream",
     "text": [
      "(27003, 136) (26992, 136)\n",
      "time: 122 ms (started: 2022-03-17 23:08:57 -04:00)\n"
     ]
    }
   ],
   "source": [
    "# parcelnumb has 99% coverage\n",
    "print(regrid.shape, regrid.dropna(subset=['parcelnumb']).shape)\n",
    "regrid = regrid.dropna(subset=['parcelnumb'])"
   ]
  },
  {
   "cell_type": "code",
   "execution_count": 293,
   "id": "d863e66d-21fe-4476-840f-b1763d34512d",
   "metadata": {},
   "outputs": [
    {
     "name": "stdout",
     "output_type": "stream",
     "text": [
      "(32050, 75) (32050, 75)\n",
      "time: 46.6 ms (started: 2022-03-17 23:09:00 -04:00)\n"
     ]
    }
   ],
   "source": [
    "# 'ParcelNumberAlternate' is useless\n",
    "# ParcelNumberRaw should have 100% coverage\n",
    "print(attom.shape, attom.dropna(subset=['ParcelNumberRaw']).shape)\n",
    "attom = attom.dropna(subset = ['ParcelNumberRaw'])"
   ]
  },
  {
   "cell_type": "code",
   "execution_count": 356,
   "id": "ed17a571-5763-4c4a-890a-305cef45d644",
   "metadata": {},
   "outputs": [
    {
     "data": {
      "text/plain": [
       "129"
      ]
     },
     "execution_count": 356,
     "metadata": {},
     "output_type": "execute_result"
    },
    {
     "name": "stdout",
     "output_type": "stream",
     "text": [
      "time: 1.94 ms (started: 2022-03-17 23:39:47 -04:00)\n"
     ]
    }
   ],
   "source": [
    "cols = attom_cols + regrid_cols + ['COUNTY_FIPS']\n",
    "cols = sorted(set(cols) - set(['SitusStateCountyFIPS', 'geoid', 'geometry']))\n",
    "len(cols)"
   ]
  },
  {
   "cell_type": "code",
   "execution_count": 367,
   "id": "3f6140a4-1e67-4799-9338-9d5cd69daffe",
   "metadata": {},
   "outputs": [
    {
     "data": {
      "text/plain": [
       "(2000, 129)"
      ]
     },
     "execution_count": 367,
     "metadata": {},
     "output_type": "execute_result"
    },
    {
     "name": "stdout",
     "output_type": "stream",
     "text": [
      "time: 111 ms (started: 2022-03-17 23:47:41 -04:00)\n"
     ]
    }
   ],
   "source": [
    "# Only 6% of parcels have matching parcel number\n",
    "parcel_num_match = attom.merge(regrid, left_on = 'ParcelNumberRaw', \n",
    "                               right_on = 'parcelnumb', how = 'inner')\n",
    "\n",
    "# rows with matching parcel number also has IDENTICAL COUNTY_FIPS\n",
    "parcel_num_match[['COUNTY_FIPS_x', 'COUNTY_FIPS_y']].astype(int).diff(axis=1).COUNTY_FIPS_y.unique()\n",
    "\n",
    "parcel_num_match = parcel_num_match.rename(columns={'COUNTY_FIPS_x': 'COUNTY_FIPS'}).drop(columns='COUNTY_FIPS_y')[cols]\n",
    "parcel_num_match.shape"
   ]
  },
  {
   "cell_type": "code",
   "execution_count": 336,
   "id": "cb60f53c-c955-494c-b599-a52ad6dbef96",
   "metadata": {},
   "outputs": [
    {
     "name": "stdout",
     "output_type": "stream",
     "text": [
      "['123456']\n"
     ]
    },
    {
     "data": {
      "text/plain": [
       "['123456']"
      ]
     },
     "execution_count": 336,
     "metadata": {},
     "output_type": "execute_result"
    },
    {
     "name": "stdout",
     "output_type": "stream",
     "text": [
      "time: 2.17 ms (started: 2022-03-17 23:33:53 -04:00)\n"
     ]
    }
   ],
   "source": [
    "x = ['123'\n",
    "'456']\n",
    "print(x)\n",
    "x"
   ]
  },
  {
   "cell_type": "markdown",
   "id": "c761f4cc-2faf-45ae-a33f-87031ddad1b4",
   "metadata": {},
   "source": [
    "# YES! legal_matched most of ATTOM parcels to REGRID parcels!"
   ]
  },
  {
   "cell_type": "code",
   "execution_count": 389,
   "id": "5b627844-cefb-4f48-a1aa-84525f87a90d",
   "metadata": {},
   "outputs": [
    {
     "data": {
      "text/plain": [
       "({'29049', '29147', '29227'}, {'29049', '29147', '29227'})"
      ]
     },
     "execution_count": 389,
     "metadata": {},
     "output_type": "execute_result"
    },
    {
     "name": "stdout",
     "output_type": "stream",
     "text": [
      "time: 4.86 ms (started: 2022-03-18 00:05:15 -04:00)\n"
     ]
    }
   ],
   "source": [
    "set(attom.COUNTY_FIPS), set(regrid.COUNTY_FIPS), "
   ]
  },
  {
   "cell_type": "code",
   "execution_count": 408,
   "id": "f16594d6-9eaf-4437-885c-f4c134867f70",
   "metadata": {},
   "outputs": [
    {
     "name": "stdout",
     "output_type": "stream",
     "text": [
      "(32050, 75) (32025, 75)\n",
      "(26992, 136) (26852, 136)\n",
      "time: 192 ms (started: 2022-03-18 00:19:49 -04:00)\n"
     ]
    }
   ],
   "source": [
    "print(attom.shape, attom.dropna(subset=['LegalDescription']).shape)\n",
    "attom_legal = attom.dropna(subset=['LegalDescription'])\n",
    "print(regrid.shape, regrid.dropna(subset=['legaldesc']).shape)\n",
    "regrid_legal = regrid.dropna(subset=['legaldesc'])\n"
   ]
  },
  {
   "cell_type": "code",
   "execution_count": 435,
   "id": "883b12d9-9cc9-4da6-91e6-0ac8c3743333",
   "metadata": {},
   "outputs": [
    {
     "data": {
      "text/plain": [
       "Index(['SESE', 'SWSW', 'NWNW', 'NENE', 'SE1/4'], dtype='object', name='LegalDescription')"
      ]
     },
     "execution_count": 435,
     "metadata": {},
     "output_type": "execute_result"
    },
    {
     "name": "stdout",
     "output_type": "stream",
     "text": [
      "time: 33.5 ms (started: 2022-03-18 12:25:05 -04:00)\n"
     ]
    }
   ],
   "source": [
    "top_legal = ['SESE', 'SWSW', 'NWNW', 'NENE', 'SE1/4']\n",
    "attom[test_cols].groupby('LegalDescription').size().sort_values(ascending=False).head(5).keys()"
   ]
  },
  {
   "cell_type": "code",
   "execution_count": 476,
   "id": "23754fa8-1448-4ba6-8374-d5c5ec108f33",
   "metadata": {},
   "outputs": [
    {
     "data": {
      "text/plain": [
       "((32050, 75), (32050,), (31143,))"
      ]
     },
     "execution_count": 476,
     "metadata": {},
     "output_type": "execute_result"
    },
    {
     "name": "stdout",
     "output_type": "stream",
     "text": [
      "time: 12.7 ms (started: 2022-03-18 12:46:03 -04:00)\n"
     ]
    }
   ],
   "source": [
    "# ATTOM has unique parcel number; and most legaldesc are unique\n",
    "attom.shape, attom.ParcelNumberRaw.unique().shape, attom.LegalDescription.unique().shape"
   ]
  },
  {
   "cell_type": "code",
   "execution_count": 789,
   "id": "a716bdb5-8183-4dba-9500-ba8c1de74e39",
   "metadata": {},
   "outputs": [
    {
     "name": "stdout",
     "output_type": "stream",
     "text": [
      "time: 49.5 ms (started: 2022-03-22 16:02:41 -04:00)\n"
     ]
    }
   ],
   "source": [
    "# Many ATTOM ParcelNumberRaw contains many whitespaces; change ATTOM whitespace into REGRID hyphen \n",
    "attom['ParcelNumberRaw'] = attom.ParcelNumberRaw.replace({' ' : '-'}, regex=True)\n",
    "# NOTE: Some REGRID parcelnumb contains single whitespaces\n",
    "regrid['parcelnumb'] = regrid.parcelnumb.replace({' ' : '-'}, regex=True)\n"
   ]
  },
  {
   "cell_type": "code",
   "execution_count": 477,
   "id": "d14d216e-ea8e-4e54-9e71-db0bc26800e2",
   "metadata": {},
   "outputs": [
    {
     "data": {
      "text/plain": [
       "((26992, 136), 26992, (15704,), (26111,))"
      ]
     },
     "execution_count": 477,
     "metadata": {},
     "output_type": "execute_result"
    },
    {
     "name": "stdout",
     "output_type": "stream",
     "text": [
      "time: 15.6 ms (started: 2022-03-18 12:46:14 -04:00)\n"
     ]
    }
   ],
   "source": [
    "# REGRID has bad/non-unique parcel numbers; most legaldesc are unique\n",
    "regrid.shape, regrid.parcelnumb.count(), regrid.parcelnumb.unique().shape, regrid.legaldesc.unique().shape, "
   ]
  },
  {
   "cell_type": "code",
   "execution_count": null,
   "id": "8f9303f7-84c6-4a6d-96f9-00f0d42c6f64",
   "metadata": {
    "collapsed": true,
    "jupyter": {
     "outputs_hidden": true
    },
    "tags": []
   },
   "outputs": [
    {
     "name": "stdout",
     "output_type": "stream",
     "text": [
      "******* CURRENT KEY IS  SE1/4\n",
      "['09-08.2-33-000-000-007.000', '07-01.1-12-000-000-005.000', '06-07.0-25-000-000-004.000', '05-01.2-11-000-000-009.000', '15-04.2-18-000-000-005.000', '15-01.2-02-000-000-003.000', '09-05.1-15-000-000-006.000', '09-03.0-07-000-000-010.000', '07-09.1-32-000-000-004.000', '06-01.0-02-000-000-007.000', '07-04.1-20-000-000-005.000', '08-03.0-07-000-000-005.000', '06-08.2-28-000-000-004.000', '02-09.2-31-000-000-005.000', '07-04.2-18-000-000-005.000', '07-02.0-03-000-000-006.000', '03-08.1-27-000-000-010.000', '03-07.0-25-000-000-005.000', '07-08.0-34-000-000-005.000', '02-09.1-32-000-000-005.000', '14-06.0-23-000-000-008.000']\n",
      "                parcelnumb       lat        lon                            address                                      owner\n",
      "02-09.1-32-000-000-005.000 39.707273 -94.398312                          MO HWY 33                 CROSS AARON O & JENNAFER J\n",
      "02-09.2-31-000-000-005.000 39.707367 -94.417327                        NW 336TH ST                     GRIMES SHIRLEY W TRUST\n",
      "03-07.0-25-000-000-005.000 39.721954 -94.437143                    NW RANGELINE RD                 THOMPSON DONNIE & STEPHANI\n",
      "03-08.1-27-000-000-010.000 39.721866 -94.474605   NW 348TH / THOMPSON/OLD CEMETARY                         THOMPSON WILLIAM N\n",
      "05-01.2-11-000-000-009.000 39.678050 -94.567667                     8041 NW MAC RD              MCLARNEY DANIEL J & C PATRICK\n",
      "06-01.0-02-000-000-007.000 39.692785 -94.456253                           NW Y HWY                           THALMAN MA TRUST\n",
      "06-07.0-25-000-000-004.000 39.634294 -94.437466                   1368 NW 296TH ST                     W & L NORTON FARMS LLC\n",
      "06-08.2-28-000-000-004.000 39.634307 -94.493928                        NW 300TH ST        HOOVER STANLEY G & SUSAN B TRUSTEES\n",
      "07-01.1-12-000-000-005.000 39.677953 -94.322568                      8431 NE A HWY                 WOLFE STAN LEE & KELLY ANN\n",
      "07-02.0-03-000-000-006.000 39.692658 -94.360429            STATE HWY T/STATE HWY M                    THOMPSON RONALD E TRUST\n",
      "07-04.1-20-000-000-005.000 39.648572 -94.398104              MO HWY 33/NE 305TH ST               BRODERICK THOMAS CHRISTOPHER\n",
      "07-04.2-18-000-000-005.000 39.663408 -94.417189                        NW 312TH ST               HALES GERALDINE M (LIFE EST)\n",
      "07-08.0-34-000-000-005.000 39.619138 -94.360865  NE 288TH ST/NE CROWLEY CORNERS RD                           STEVENS DONALD L\n",
      "07-09.1-32-000-000-004.000 39.619408 -94.398462         814/4313 NE 288TH/N HWY 33 4-D RANCH (1/2) & 4-D RANCH LAND LLC (1/2)\n",
      "08-03.0-07-000-000-005.000 39.677234 -94.303775 8292/5624 NE CROUCH RD/NE 320TH ST              MCDONALD DONALD W AND BARBARA\n",
      "09-03.0-07-000-000-010.000 39.589644 -94.305807                        NE 272ND ST                             STONE DONALD R\n",
      "09-05.1-15-000-000-006.000 39.575161 -94.249512                   8850 NE 264TH ST           THE CENTER FOR LIFELONG LEARNING\n",
      "09-08.2-33-000-000-007.000 39.531746 -94.268915                  2625 SE POWELL RD                  POWELL DARYL R & SHARON J\n",
      "14-06.0-23-000-000-008.000 39.473549 -94.458560                    OFF SW LILLY RD              HOWARD LINDA L & HOWARD DAVID\n",
      "15-01.2-02-000-000-003.000 39.517331 -94.343516                    3881 SE WINN RD                            PHILLIPS SADINA\n",
      "15-04.2-18-000-000-005.000 39.488275 -94.419611                       5817 S C HWY                                SHAVER LYLE\n",
      "******* CURRENT KEY IS  SWSW\n",
      "['15-05.0-22-000-000-009.000', '08-08.1-34-000-000-003.000', '03-04.0-20-000-000-003.000', '05-01.1-12-000-000-004.000', '14-07.0-25-000-000-004.001', '07-02.0-04-000-000-004.000', '09-05.2-16-000-000-003.000', '15-06.2-23-000-000-010.000', '01-08.2-28-000-000-005.000', '11-09.0-29-000-000-003.000', '06-06.0-14-000-000-003.000', '02-05.0-22-000-000-004.000', '06-02.2-09-000-000-004.001', '09-07.0-25-000-000-003.000', '03-07.0-26-000-000-008.000', '10-02.0-09-000-000-004.000', '08-06.0-13-000-000-007.000', '08-09.0-31-000-000-002.003', '05-02.0-10-000-000-008.001', '08-05.2-21-000-000-004.000', '08-07.0-36-000-000-004.000', '11-02.1-03-000-000-004.000', '16-05.1-15-000-000-004.000', '15-02.0-04-000-000-003.001', '14-06.0-23-000-000-006.000', '14-03.0-05-000-000-003.002', '02-09.2-31-000-000-004.000', '08-02.1-10-000-000-005.000']\n",
      "                parcelnumb       lat        lon                  address                           owner\n",
      "01-08.2-28-000-000-005.000 39.719706 -94.279073             OFF MO HWY A    SCOTT CHAD ALLEN & ERIC KENT\n",
      "02-05.0-22-000-000-004.000 39.734582 -94.372310            BURR NORTH RD                SCHMITZ RONALD A\n",
      "02-09.2-31-000-000-004.000 39.705570 -94.429685    10113 NW RANGELINE RD                  GOLDEN SARAH L\n",
      "03-04.0-20-000-000-003.000 39.734955 -94.524001       12171 NW WATSON RD  THOMPSON WILLIAM C & CHARITY D\n",
      "03-07.0-26-000-000-008.000 39.720068 -94.467469           NW THOMPSON RD                 THOMPSON JOHN P\n",
      "05-01.1-12-000-000-004.000 39.676211 -94.560522           7911 NW MAC RD                   FRIDELL GLENN\n",
      "05-02.0-10-000-000-008.001 39.676319 -94.598526           OFF MO HWY V V   MCLARNEY DANIEL J & C PATRICK\n",
      "06-02.2-09-000-000-004.001 39.676042 -94.505678         OFF NW MOSS LANE           BORTON DALE F & PRUDY\n",
      "06-06.0-14-000-000-003.000 39.661744 -94.467959    NW MARVIN RD/NW 312TH        JONES DAVID M & TRICIA A\n",
      "07-02.0-04-000-000-004.000 39.690685 -94.390665             OFF MO HWY T         MOLINARO PROPERTIES LLC\n",
      "08-02.1-10-000-000-005.000 39.675053 -94.258637               NE WITT RD  ERICKSON J STEPHEN & K CLYDEAN\n",
      "08-05.2-21-000-000-004.000 39.645891 -94.278207               NE WITT RD WREN DONALD O & THERESA M TRUST\n",
      "08-06.0-13-000-000-007.000 39.660066 -94.222557               NE HWY 121               THOMPSON CURTIS D\n",
      "08-07.0-36-000-000-004.000 39.616153 -94.223125         NE DEER CREEK RD   TURNBULL FARMS INVESTMENTS LP\n",
      "08-08.1-34-000-000-003.000 39.616573 -94.259452         8118 NE 288TH ST             SHELTON FRANCES ANN\n",
      "08-09.0-31-000-000-002.003 39.617042 -94.315564            4505 NE A HWY             MORGAN DARRELL D JR\n",
      "09-05.2-16-000-000-003.000 39.573460 -94.280041       1121 NE HUBBARD RD                   SMITH MARK R \n",
      "09-07.0-25-000-000-003.000 39.543789 -94.224215              SE 251ST ST     SIMONS CLINTON COUNTY FARMS\n",
      "10-02.0-09-000-000-004.000 39.588010 -94.391714          OFF NE 270TH ST                 HAMMOND ROGER E\n",
      "11-02.1-03-000-000-004.000 39.603403 -94.487272          OFF NW 278TH ST      HOOVER STANLEY G & SUSAN B\n",
      "11-09.0-29-000-000-003.000 39.545312 -94.525752               SW HORD RD   HIXSON ROBERT & RUTH (LF EST)\n",
      "14-03.0-05-000-000-003.002 39.515362 -94.526527          3694 SW HORD RD             CARNIE MARCIA ELLEN\n",
      "14-06.0-23-000-000-006.000 39.471687 -94.470246          OFF SW 208TH ST     TESTER BENNIE F & DEBORAH J\n",
      "14-07.0-25-000-000-004.001 39.457298 -94.451672      7910 SW MCKEEHAN RD        HAECKER TIM A & SHELLY M\n",
      "15-02.0-04-000-000-003.001 39.515469 -94.392870       3921 SE WEXFORD RD     MAYER GREGORY L & DEBORAH K\n",
      "15-05.0-22-000-000-009.000 39.471813 -94.375497      6611 SE HAMILTON RD        TEBOW DONALD E & BETTI J\n",
      "15-06.2-23-000-000-010.000 39.471853 -94.356531 SE 209TH ST/SE PERREN RD      MASSEY LLOYD C & DOROTHY F\n",
      "16-05.1-15-000-000-004.000 39.485914 -94.264060              SE 216TH ST          LEE VINCENT K & LISA M\n",
      "time: 203 ms (started: 2022-03-18 12:49:28 -04:00)\n"
     ]
    }
   ],
   "source": [
    "test_cols = [\n",
    "    'parcelnumb',\n",
    "    'lat', 'lon',\n",
    "    'address',\n",
    "     'legaldesc', \n",
    "      'owner',\n",
    "]\n",
    "\n",
    "by = 'legaldesc'\n",
    "top_legal_regrid = regrid.groupby(by).size().sort_values(ascending=False).head(5).index.to_list()\n",
    "\n",
    "for k, v in regrid[test_cols].groupby(by):\n",
    "    if k in top_legal_regrid[3:]:\n",
    "        print(\"******* CURRENT KEY IS \", k)\n",
    "        print(v.parcelnumb.to_list())\n",
    "        v = v.sort_values(by=['parcelnumb',]).drop(by, axis=1)\n",
    "        print(v.to_string(index=False))"
   ]
  },
  {
   "cell_type": "code",
   "execution_count": 491,
   "id": "ce804c86-401a-42d2-be2c-82856d783784",
   "metadata": {
    "collapsed": true,
    "jupyter": {
     "outputs_hidden": true
    },
    "tags": []
   },
   "outputs": [
    {
     "name": "stdout",
     "output_type": "stream",
     "text": [
      "******* CURRENT KEY IS  NENE\n",
      "           ParcelNumberRaw                                PartyOwner1NameFull        PropertyAddressFull  PropertyLatitude  PropertyLongitude\n",
      "02 07.1 36 000 000 001.000                                    GROEBE LAND LLC      10842 NE GILCHRIST RD         39.716348         -94.320739\n",
      "03 08.1 27 000 000 001.000                                            ATH LLC            OFF NW 352ND ST         39.731047         -94.472547\n",
      "05 06.2 23 000 000 001.000                            MARY QUEEN BENEDICTINES                NW 310TH ST         39.658141         -94.565400\n",
      "05 08.0 34 000 000 001.000       RINGER JAMES A & ANN S JOINT DECLAR OFUST TR               NW KEITHS RD         39.629276         -94.584208\n",
      "06 04.0 17 000 000 001.000                                      DALE F BORTON                 NW MOSS LN         39.672456         -94.510437\n",
      "06 04.0 18 000 000 001.000                                       BRUCE D MOSS                   NW HWY K         39.672557         -94.529194\n",
      "06 05.2 16 000 000 001.000                                   JONES BILL H INC       NW BETHANY CHURCH RD         39.672515         -94.491634\n",
      "07 04.2 18 000 000 001.000                                   HAROLD L GREAVES              OFF NW NN HWY         39.672488         -94.414543\n",
      "07 05.0 21 000 000 001.002                                    BILLY L STEVENS               NE HUGHES RD         39.657707         -94.376930\n",
      "08 02.2 09 000 000 001.000                                      KERR CARMEN R                 NE WITT RD         39.686221         -94.263376\n",
      "08 03.0 05 000 000 001.000                                     ELMER L GROEBE            OFF NE 336TH ST         39.701545         -94.282232\n",
      "08 04.0 17 000 000 001.001                        TRAVIS CHRISTOPHER WILLHOIT                NE BACON RD         39.671569         -94.282690\n",
      "08 04.0 20 000 000 001.000                                RICHARDS TIMMY R JR           6841 NE 312TH ST         39.656867         -94.282743\n",
      "08 07.0 35 000 000 001.000 WALLINGFORD DALE TRSTES TRUST JACQUELINE & DALE FA            OFF NE 298TH ST         39.627220         -94.227583\n",
      "09 02.2 09 000 000 001.000                        LARY FAMILY TRUST AGREEMENT                NE 280TH ST         39.598645         -94.265591\n",
      "09 07.0 36 000 000 001.004                                    PENNY L FINDLEY 2200 SE TRI COUNTY LINE RD         39.539897         -94.210167\n",
      "10 04.1 17 000 000 001.000                                    ROGER E HAMMOND            728 NE 270TH ST         39.584407         -94.396541\n",
      "10 04.1 20 000 000 001.000                                      RONALD L ADAM         OFF NE WOODWARD LN         39.569930         -94.396763\n",
      "10 05.0 16 000 000 001.000                                    DONALD L TALLEY  NE SHIKLES RD NE 270TH ST         39.584567         -94.378158\n",
      "11 01.0 01 000 000 001.001                        NORTON DAVID D LIVING TRUST           NORTON RD OFC NW         39.613978         -94.435103\n",
      "11 01.0 11 000 000 001.000 NORTON LOUISE CHARNETTE (TRUSTEE OF) THE CHARNETTE   STATE HWY Y/NW RESERVOIR         39.599334         -94.454189\n",
      "11 02.2 09 000 000 001.000                                 SLOAN CARL W TRUST    STATE HWY K NW 278TH ST         39.599829         -94.491872\n",
      "11 04.0 18 000 000 001.000                                   HAROLD LEE SMITH                STATE HWY U         39.585517         -94.529766\n",
      "12 06.2 23 000 000 001.000                    FRAZIER SCOTT B & MICHELLE R TR      672 NW US HIGHWAY 169         39.570915         -94.566535\n",
      "13 08.0 27 000 000 001.000                            MCGOVNEY JANICE K TRUST           9027 SW 208TH ST         39.468522         -94.585983\n",
      "15 04.1 20 000 000 001.000                                     DAVID CAMPBELL SE ATCHISON RD SE 216TH ST         39.482853         -94.398547\n",
      "15 09.2 30 000 000 001.000                            SUSAN BLOCK MOORE TRUST                SE 208TH ST         39.468283         -94.417806\n",
      "16 07.0 26 000 000 001.000 RONNE DONALD K & KAREN A THE DONALD K RONNE & KARE          6959 SE RHODUS LN         39.467507         -94.231462\n",
      "******* CURRENT KEY IS  NWNW\n",
      "           ParcelNumberRaw                                PartyOwner1NameFull        PropertyAddressFull  PropertyLatitude  PropertyLongitude\n",
      "01 08.1 34 000 000 004.000                                   MICHAEL D VINSON        NE 341ST NE WITT RD         39.715734         -94.260141\n",
      "03 07.0 35 000 000 002.000                                    JOHN P THOMPSON NW THOMPSON RD NW 342ND ST         39.716450         -94.467402\n",
      "05 06.2 23 000 000 003.000                                   GRIMES FARMS INC           9070 NW 310TH ST         39.658285         -94.579515\n",
      "05 08.0 27 000 000 003.000                         RUOFF DAVID R LIVING TRUST             OFF NW V V HWY         39.643724         -94.598433\n",
      "06 02.2 09 000 000 003.001                                   NICHOLAS C DIXON              OFF MO HWY NN         39.686905         -94.505625\n",
      "06 05.2 16 000 000 004.000                                      DALE F BORTON              OFF NW NN HWY         39.672479         -94.505739\n",
      "          07-08-04-20-1.01                               SIGNATURE L & CATTLE                        NaN         40.512218         -94.324756\n",
      "             07-08-09-32-3                                 JAMES MARK HARDING                        NaN         40.483328         -94.324756\n",
      "08 01.0 02 000 000 005.000 OCKER CHARLES R & SHIRLEY P OF THE CHARLES R & SHI        10557 NE HIGHWAY 69         39.700880         -94.239857\n",
      "08 02.2 04 000 000 003.000                                     ELMER L GROEBE            OFF NE 330TH ST         39.701491         -94.277509\n",
      "08 03.0 08 000 000 003.000                                      LACY D MCNEIL          9003 NE CROUCH RD         39.686321         -94.296558\n",
      "08 04.0 19 000 000 004.002                                 SANDRA K DICKERSON           6701 NE RIDGE RD         39.657005         -94.315488\n",
      "08 05.1 15 000 000 003.000                                  JOSHUA L ERICKSON                 NE WITT RD         39.671414         -94.258751\n",
      "08 05.2 21 000 000 002.001                                  KIMBERLY HOLTWICK           7047 NE 312TH ST         39.656837         -94.278088\n",
      "08 09.0 32 000 000 002.000                        DEMOSS LIVING TRUST JAMES W               OFF MO HWY H         39.627751         -94.297029\n",
      "09 01.0 11 000 000 002.000                         TUNKS MARTY & MAXIE LEE TR          OFF NE HINCHEY LN         39.598557         -94.242132\n",
      "10 05.0 15 000 000 003.000                       MARK A OF THE MARK WILKINSON  NE 270TH ST NE SHIKLES RD         39.584444         -94.372989\n",
      "10 05.0 16 000 000 005.001                                        ANTHONY BOB                NE 270TH ST         39.584416         -94.391849\n",
      "10 08.0 28 000 000 005.000                             W & L NORTON FARMS LLC              SE WEXFORD RD         39.555387         -94.392209\n",
      "11 02.1 10 000 000 004.000                  HOOVER STANLEY G & SUSAN B UST TR            OFF NW 278TH ST         39.599747         -94.487299\n",
      "11 04.0 17 000 000 003.000                                   THALMAN MA TRUST                STATE HWY U         39.585478         -94.525014\n",
      "13 06.1 24 002 001 002.000                        HASLER LAND & CATTLE CO LLC                SW 214TH ST         39.483197         -94.562412\n",
      "15 02.0 09 000 000 003.001                                    GREGORY L MAYER             SE ATCHISON RD         39.511869         -94.392935\n",
      "15 04.1 20 000 000 004.000                              JENNY CHRISTINE EVANS                SE 216TH ST         39.482830         -94.412720\n",
      "15 05.0 16 000 000 004.000                                        NANCY SIKES         OFF SE ATCHISON RD         39.497345         -94.393465\n",
      "15 05.0 21 000 000 004.000                                          O B FARMS                SE 216TH ST         39.482838         -94.393851\n",
      "15 07.2 26 002 001 003.000                                    LYDIA M ROBESON          7211 SE PERREN RD         39.468242         -94.356596\n",
      "15 08.0 27 000 000 003.000                             ARNOLD RONNY JOE TRUST         7206 SE SELLERS RD         39.468222         -94.375596\n",
      "16 05.1 22 000 000 004.000                                      BERNIE COOPER           8207 SE 216TH ST         39.482265         -94.264136\n",
      "******* CURRENT KEY IS  SE1/4\n",
      "           ParcelNumberRaw                           PartyOwner1NameFull            PropertyAddressFull  PropertyLatitude  PropertyLongitude\n",
      "02 09.1 32 000 000 005.000                                 AARON O CROSS                      MO HWY 33         39.707273         -94.398312\n",
      "02 09.2 31 000 000 005.000                        GRIMES SHIRLEY W TRUST                    NW 336TH ST         39.707367         -94.417327\n",
      "03 07.0 25 000 000 005.000                               DONNIE THOMPSON                NW RANGELINE RD         39.721954         -94.437143\n",
      "03 08.1 27 000 000 010.000              THOMPSON WILLIAM N THOMPSON JOHN NW 348TH THOMPSON OLD CEMETARY         39.721866         -94.474605\n",
      "05 01.2 11 000 000 009.000                   MCLARNEY DANIEL J C PATRICK                 8041 NW MAC RD         39.678050         -94.567667\n",
      "06 01.0 02 000 000 007.000                                       HARDING                       NW Y HWY         39.692785         -94.456253\n",
      "06 07.0 25 000 000 004.000                        W & L NORTON FARMS LLC               1368 NW 296TH ST         39.634294         -94.437466\n",
      "06 08.2 28 000 000 004.000     HOOVER STANLEY G & SUSAN B THE REVCUST TR                    NW 300TH ST         39.634307         -94.493928\n",
      "07 01.1 12 000 000 005.000                                STAN LEE WOLFE                  8431 NE A HWY         39.677953         -94.322568\n",
      "07 02.0 03 000 000 006.000                              DEREK L THOMPSON        STATE HWY T/STATE HWY M         39.692658         -94.360429\n",
      "07 04.1 20 000 000 005.000                  THOMAS CHRISTOPHER BRODERICK          MO HWY 33 NE 305TH ST         39.648572         -94.398104\n",
      "07 04.2 18 000 000 005.000                         HALES GERALDINE M EST                    NW 312TH ST         39.663408         -94.417189\n",
      "07 08.0 34 000 000 005.000                                 NANCY L SIKES      4329 NE CROWLEY CORNER RD         39.619138         -94.360865\n",
      "07 09.1 32 000 000 004.000 4D RANCH & 4D RANCH LAND, LLC HOME PLACE FARM              4313 N HIGHWAY 33         39.619408         -94.398462\n",
      "08 03.0 07 000 000 005.000                             DONALD W MCDONALD              8292 NE CROUCH RD         39.677234         -94.303775\n",
      "09 03.0 07 000 000 010.000                                DONALD R STONE                    NE 272ND ST         39.589644         -94.305807\n",
      "09 05.1 15 000 000 006.000                  CENTER FOR LIFELONG LEARNING               8850 NE 264TH ST         39.575161         -94.249512\n",
      "09 08.2 33 000 000 007.000                                DARYL R POWELL              2625 SE POWELL RD         39.531746         -94.268915\n",
      "14 06.0 23 000 000 008.000                                DAVID C HOWARD                OFF SW LILLY RD         39.473549         -94.458560\n",
      "15 01.2 02 000 000 003.000                               SADINA PHILLIPS                3881 SE WINN RD         39.517331         -94.343516\n",
      "15 04.2 18 000 000 005.000                                 LYLE K SHAVER                   5817 S C HWY         39.488275         -94.419611\n",
      "******* CURRENT KEY IS  SESE\n",
      "           ParcelNumberRaw                        PartyOwner1NameFull               PropertyAddressFull  PropertyLatitude  PropertyLongitude\n",
      "01 06.0 24 000 000 014.000                           MICHAEL J EARLEY                      STATE HWY BB         39.733115         -94.208141\n",
      "01 08.1 34 000 000 010.000 WIECHMAN JERRY D & MARGARET CAIN THEUST TR                  8848 NE 336TH ST         39.704754         -94.245956\n",
      "01 09.0 29 000 000 006.000                            SCOTT ERIC KENT                        NE HAHN RD         39.719769         -94.283782\n",
      "03 06.0 23 000 000 006.000                        EDWARD E PICKETT JR                          MO HWY Y         39.734882         -94.453819\n",
      "04 08.0 34 000 000 009.000    ROTH NANCY J & EVERETT GARY D THEUST TR                    OFF MO HWY V V         39.705539         -94.584448\n",
      "06 02.1 10 000 000 006.000                             MASTERS BERT G                   OFF NW 312TH ST         39.676302         -94.472673\n",
      "06 02.2 04 000 000 005.000                          DELANEY FARMS INC              NW BETHANY CHURCH RD         39.690640         -94.491659\n",
      "06 04.0 18 000 000 011.000                 SHAVER STANLEY & JOY TRUST                 NW K HWY NW 316TH         39.661642         -94.529190\n",
      "06 04.0 19 000 000 008.000               HOUSE BROTHERS DGD FARMS LLC                      K HWY OFC NW         39.647174         -94.529083\n",
      "07 05.0 15 000 000 008.000             BAILEY PAUL R & SANDRA K TRUST                       NE 312TH ST         39.661571         -94.358083\n",
      "          07-12-05-22-4.01                      BUSBY TRUST DEBORAH D                               NaN         40.417810         -94.591842\n",
      "08 05.2 16 000 000 009.000                             JUSTIN HIRNIAK                        NE WITT RD         39.660455         -94.263656\n",
      "08 06.0 13 000 000 009.000                     DEPT NATURAL RESOURCES                      STATE HWY HH         39.659944         -94.208682\n",
      "08 08.2 28 000 000 006.000                            ESTEP ACRES INC                       STATE HWY H         39.631145         -94.264163\n",
      "09 03.0 05 000 000 006.000                            DANIEL D BRYSON                   3001 NE GALL RD         39.602308         -94.284486\n",
      "09 07.0 25 000 000 006.001                        LAWSON JACOB DANIEL                 10760 SE 251ST ST         39.543516         -94.210016\n",
      "09 08.1 34 000 000 005.000                             DARYL R POWELL                  8950 SE 240TH ST         39.529774         -94.247872\n",
      "09 09.0 29 000 000 007.000                          CHRISTENSEN ROGER                       SE 248TH ST         39.544547         -94.285127\n",
      "09 09.0 31 000 000 012.000                             EDWARD K STARK                  5932 SE 240TH ST         39.530070         -94.304074\n",
      "10 01.2 02 000 000 006.000                             DOLORES DUPREE NE 280TH ST AT NE BRECKENRIDGE RD         39.602577         -94.339742\n",
      "10 02.0 09 000 000 006.000                            DONALD L TALLEY                     NE SHIKLES RD         39.588023         -94.377686\n",
      "10 03.1 08 000 000 007.000                            ROGER E HAMMOND                   270TH ST OFC NE         39.588004         -94.396452\n",
      "11 02.2 04 000 000 006.000                         SLOAN CARL W TRUST                       STATE HWY K         39.603435         -94.491887\n",
      "11 03.0 08 000 000 001.001                             STEVEN C PERKS                          NW K HWY         39.588977         -94.511046\n",
      "12 02.0 10 000 000 008.000                          RALPH M KELLER JR                   OFF NW 268TH ST         39.589026         -94.584960\n",
      "12 06.2 14 000 000 013.000                          MICHAEL M FRAZIER                        US HWY 169         39.574541         -94.566492\n",
      "12 07.1 25 000 000 018.000                  MIER WILLIAM WILBUR TRUST              SW SMITH-HALFERTY RD         39.545422         -94.547702\n",
      "13 05.0 22 000 000 006.000                HASLER LAND & CATTLE CO LLC                  9120 SW 208TH ST         39.472251         -94.585992\n",
      "14 07.0 25 000 000 006.000                           MICHALE A GORDON                OFF SW MCKEEHAN RD         39.457393         -94.437507\n",
      "15 02.0 04 000 000 005.000     DANIELS FRANK C JR & ELIZABETH G TRUST                       STATE HWY W         39.515382         -94.378979\n",
      "15 04.1 17 000 000 007.001                             DAVID CAMPBELL                    SE ATCHISON RD         39.486463         -94.398457\n",
      "******* CURRENT KEY IS  SWSW\n",
      "           ParcelNumberRaw               PartyOwner1NameFull      PropertyAddressFull  PropertyLatitude  PropertyLongitude\n",
      "01 08.2 28 000 000 005.000                  SCOTT CHAD ALLEN             OFF MO HWY A         39.719706         -94.279073\n",
      "02 05.0 22 000 000 004.000                  RONALD A SCHMITZ               NE BURR RD         39.734582         -94.372310\n",
      "02 09.2 31 000 000 004.000                    SARAH L GOLDEN    10113 NW RANGELINE RD         39.705570         -94.429685\n",
      "03 04.0 20 000 000 003.000                WILLIAM C THOMPSON       12171 NW WATSON RD         39.734955         -94.524001\n",
      "03 07.0 26 000 000 008.000                   JOHN P THOMPSON           NW THOMPSON RD         39.720068         -94.467469\n",
      "05 01.1 12 000 000 004.000                     GLENN FRIDELL           7911 NW MAC RD         39.676211         -94.560522\n",
      "05 02.0 10 000 000 008.001                 DANIEL J MCLARNEY           OFF MO HWY V V         39.676319         -94.598526\n",
      "05 06.2 14 000 000 006.000                  GRIMES FARMS INC          OFF NW 310TH ST         39.661846         -94.579509\n",
      "06 02.2 09 000 000 004.001                     DALE F BORTON         OFF NW MOSS LANE         39.676042         -94.505678\n",
      "06 06.0 14 000 000 003.000                     DAVID M JONES    NW MARVIN RD NW 312TH         39.661744         -94.467959\n",
      "07 02.0 04 000 000 004.000           MOLINARO PROPERTIES LLC             OFF MO HWY T         39.690685         -94.390665\n",
      "          07-09-09-29-6.01                     JARED FINDLEY                      NaN         40.392900         -94.305600\n",
      "08 02.1 10 000 000 005.000                 JOSHUA L ERICKSON               NE WITT RD         39.675053         -94.258637\n",
      "08 05.2 21 000 000 004.000   WREN DONALD O & THERESA M TRUST               NE WITT RD         39.645891         -94.278207\n",
      "08 06.0 13 000 000 007.000                 CURTIS D THOMPSON               NE HWY 121         39.660066         -94.222557\n",
      "08 07.0 36 000 000 004.000        TURNBULL FARMS INVESTMENTS         NE DEER CREEK RD         39.616153         -94.223125\n",
      "08 08.1 34 000 000 003.000               FRANCES ANN SHELTON         8118 NE 288TH ST         39.616573         -94.259452\n",
      "09 01.0 02 000 000 006.000        TUNKS MARTY & MAXIE LEE TR        OFF NE HINCHEY LN         39.741100         -94.234400\n",
      "09 05.2 16 000 000 003.000                      SMITH MARK R       1121 NE HUBBARD RD         39.573460         -94.280041\n",
      "09 07.0 25 000 000 003.000   SIMONS CLINTON COUNTY FARMS LLC              SE 251ST ST         39.543789         -94.224215\n",
      "10 02.0 09 000 000 004.000                   ROGER E HAMMOND          270TH ST OFC NE         39.588010         -94.391714\n",
      "11 02.1 03 000 000 004.000 HOOVER STANLEY G & SUSAN B UST TR          OFF NW 278TH ST         39.603403         -94.487272\n",
      "11 09.0 29 000 000 003.000          HIXSON ROBERT & RUTH EST               SW HORD RD         39.545312         -94.525752\n",
      "14 03.0 05 000 000 003.002               MARCIA ELLEN CARNIE          3694 SW HORD RD         39.515362         -94.526527\n",
      "14 06.0 23 000 000 006.000                   BENNIE F TESTER          208TH ST OFC SW         39.471687         -94.470246\n",
      "14 07.0 25 000 000 004.001                     TIM A HAECKER      7910 SW MCKEEHAN RD         39.457298         -94.451672\n",
      "15 02.0 04 000 000 003.001                   GREGORY L MAYER            SE WEXFORD RD         39.515470         -94.392870\n",
      "15 05.0 22 000 000 009.000                    DONALD E TEBOW      6611 SE HAMILTON RD         39.471813         -94.375497\n",
      "15 06.2 23 000 000 010.000                    LLOYD C MASSEY SE 209TH ST SE PERREN RD         39.471853         -94.356531\n",
      "16 05.1 15 000 000 004.000                     VINCENT K LEE              SE 216TH ST         39.485914         -94.264060\n",
      "time: 223 ms (started: 2022-03-18 12:53:56 -04:00)\n"
     ]
    }
   ],
   "source": [
    "attom_test_cols = [\n",
    "    'LegalDescription',\n",
    "  'ParcelNumberRaw',\n",
    " 'PartyOwner1NameFull',\n",
    "  'PropertyAddressFull',\n",
    "  'PropertyLatitude',\n",
    "     'PropertyLongitude',\n",
    "]\n",
    "\n",
    "for k,v in attom[attom_test_cols].groupby('LegalDescription'):\n",
    "    if k in top_legal:\n",
    "        print(\"******* CURRENT KEY IS \", k)\n",
    "        v = v.sort_values(by=['ParcelNumberRaw',]).drop('LegalDescription', axis=1)\n",
    "        print(v.to_string(index=False))\n"
   ]
  },
  {
   "cell_type": "code",
   "execution_count": 626,
   "id": "a012e34e-7050-4e27-b844-f9e2ea52ed5e",
   "metadata": {},
   "outputs": [
    {
     "data": {
      "text/plain": [
       "LegalDescription\n",
       "SESE                              31\n",
       "SWSW                              30\n",
       "NWNW                              29\n",
       "NENE                              28\n",
       "SE1/4                             21\n",
       "                                  ..\n",
       "COM NW COR 11-64-35 TH S 1700(     1\n",
       "COM NW COR 10-65-34 TH E 29.50     1\n",
       "COM NW COR 1-64-38 TH E 1220 S     1\n",
       "COM NW COR 06-63-36, S 68 RODS     1\n",
       "YEAMANS ADD. LOT 5 & 6 EXC. 6      1\n",
       "Length: 31142, dtype: int64"
      ]
     },
     "execution_count": 626,
     "metadata": {},
     "output_type": "execute_result"
    },
    {
     "name": "stdout",
     "output_type": "stream",
     "text": [
      "time: 51.4 ms (started: 2022-03-18 15:26:24 -04:00)\n"
     ]
    }
   ],
   "source": [
    "attom_legal_group = attom.groupby('LegalDescription').size().sort_values(ascending=False)\n",
    "width = 30\n",
    "attom_legal_group.index = attom_legal_group.index.str.pad(width, side='right', fillchar=' ').str[:width]\n",
    "attom_legal_group"
   ]
  },
  {
   "cell_type": "code",
   "execution_count": 627,
   "id": "39579f9d-74d8-41af-ad2b-66f52cf8c644",
   "metadata": {},
   "outputs": [
    {
     "data": {
      "text/plain": [
       "legaldesc\n",
       "SESE                              30\n",
       "NWNW                              28\n",
       "NENE                              28\n",
       "SWSW                              28\n",
       "SE1/4                             21\n",
       "                                  ..\n",
       "COM 660' N & 60 W OF SE COR 7-     1\n",
       "COM 660 S NE COR SW 1/4 SEC 16     1\n",
       "COM 66' W SW COR BLK 24 COMSTO     1\n",
       "COM 66' W SW COR BLK 24 COMSTO     1\n",
       "tract of land beg @ 295'' e of     1\n",
       "Length: 26110, dtype: int64"
      ]
     },
     "execution_count": 627,
     "metadata": {},
     "output_type": "execute_result"
    },
    {
     "name": "stdout",
     "output_type": "stream",
     "text": [
      "time: 48.4 ms (started: 2022-03-18 15:26:45 -04:00)\n"
     ]
    }
   ],
   "source": [
    "regrid_legal_group = regrid.groupby('legaldesc').size().sort_values(ascending=False)\n",
    "width = 30\n",
    "regrid_legal_group.index = regrid_legal_group.index.str.pad(width, side='right', fillchar=' ').str[:width]\n",
    "regrid_legal_group\n"
   ]
  },
  {
   "cell_type": "code",
   "execution_count": 392,
   "id": "2dc6503a-6d7f-48a1-a71c-88e8e4d99ec2",
   "metadata": {},
   "outputs": [
    {
     "name": "stdout",
     "output_type": "stream",
     "text": [
      "(3356, 211)\n"
     ]
    },
    {
     "data": {
      "text/html": [
       "<div>\n",
       "<style scoped>\n",
       "    .dataframe tbody tr th:only-of-type {\n",
       "        vertical-align: middle;\n",
       "    }\n",
       "\n",
       "    .dataframe tbody tr th {\n",
       "        vertical-align: top;\n",
       "    }\n",
       "\n",
       "    .dataframe thead th {\n",
       "        text-align: right;\n",
       "    }\n",
       "</style>\n",
       "<table border=\"1\" class=\"dataframe\">\n",
       "  <thead>\n",
       "    <tr style=\"text-align: right;\">\n",
       "      <th></th>\n",
       "      <th>COUNTY_FIPS_x</th>\n",
       "      <th>PropertyLatitude</th>\n",
       "      <th>PropertyLongitude</th>\n",
       "      <th>COUNTY_FIPS_y</th>\n",
       "      <th>lat</th>\n",
       "      <th>lon</th>\n",
       "    </tr>\n",
       "  </thead>\n",
       "  <tbody>\n",
       "    <tr>\n",
       "      <th>58</th>\n",
       "      <td>29147</td>\n",
       "      <td>40.271797</td>\n",
       "      <td>-95.057220</td>\n",
       "      <td>29227</td>\n",
       "      <td>40.555659</td>\n",
       "      <td>-94.562600</td>\n",
       "    </tr>\n",
       "    <tr>\n",
       "      <th>59</th>\n",
       "      <td>29147</td>\n",
       "      <td>40.271797</td>\n",
       "      <td>-95.057220</td>\n",
       "      <td>29227</td>\n",
       "      <td>40.477510</td>\n",
       "      <td>-94.413707</td>\n",
       "    </tr>\n",
       "    <tr>\n",
       "      <th>60</th>\n",
       "      <td>29147</td>\n",
       "      <td>40.271797</td>\n",
       "      <td>-95.057220</td>\n",
       "      <td>29227</td>\n",
       "      <td>40.429702</td>\n",
       "      <td>-94.459644</td>\n",
       "    </tr>\n",
       "    <tr>\n",
       "      <th>61</th>\n",
       "      <td>29147</td>\n",
       "      <td>40.271797</td>\n",
       "      <td>-95.057220</td>\n",
       "      <td>29227</td>\n",
       "      <td>40.494593</td>\n",
       "      <td>-94.412517</td>\n",
       "    </tr>\n",
       "    <tr>\n",
       "      <th>62</th>\n",
       "      <td>29147</td>\n",
       "      <td>40.271797</td>\n",
       "      <td>-95.057220</td>\n",
       "      <td>29227</td>\n",
       "      <td>40.491202</td>\n",
       "      <td>-94.285050</td>\n",
       "    </tr>\n",
       "    <tr>\n",
       "      <th>...</th>\n",
       "      <td>...</td>\n",
       "      <td>...</td>\n",
       "      <td>...</td>\n",
       "      <td>...</td>\n",
       "      <td>...</td>\n",
       "      <td>...</td>\n",
       "    </tr>\n",
       "    <tr>\n",
       "      <th>13984</th>\n",
       "      <td>29227</td>\n",
       "      <td>40.459210</td>\n",
       "      <td>-94.273690</td>\n",
       "      <td>29049</td>\n",
       "      <td>39.485549</td>\n",
       "      <td>-94.360993</td>\n",
       "    </tr>\n",
       "    <tr>\n",
       "      <th>13985</th>\n",
       "      <td>29049</td>\n",
       "      <td>39.499824</td>\n",
       "      <td>-94.474940</td>\n",
       "      <td>29227</td>\n",
       "      <td>40.459102</td>\n",
       "      <td>-94.273742</td>\n",
       "    </tr>\n",
       "    <tr>\n",
       "      <th>15661</th>\n",
       "      <td>29049</td>\n",
       "      <td>39.497443</td>\n",
       "      <td>-94.413605</td>\n",
       "      <td>29227</td>\n",
       "      <td>40.428801</td>\n",
       "      <td>-94.346594</td>\n",
       "    </tr>\n",
       "    <tr>\n",
       "      <th>15664</th>\n",
       "      <td>29227</td>\n",
       "      <td>40.428823</td>\n",
       "      <td>-94.346473</td>\n",
       "      <td>29049</td>\n",
       "      <td>39.497443</td>\n",
       "      <td>-94.413605</td>\n",
       "    </tr>\n",
       "    <tr>\n",
       "      <th>20508</th>\n",
       "      <td>29227</td>\n",
       "      <td>40.392405</td>\n",
       "      <td>-94.345004</td>\n",
       "      <td>29147</td>\n",
       "      <td>40.507305</td>\n",
       "      <td>-94.648186</td>\n",
       "    </tr>\n",
       "  </tbody>\n",
       "</table>\n",
       "<p>3356 rows × 6 columns</p>\n",
       "</div>"
      ],
      "text/plain": [
       "      COUNTY_FIPS_x  PropertyLatitude  PropertyLongitude COUNTY_FIPS_y  \\\n",
       "58            29147         40.271797         -95.057220         29227   \n",
       "59            29147         40.271797         -95.057220         29227   \n",
       "60            29147         40.271797         -95.057220         29227   \n",
       "61            29147         40.271797         -95.057220         29227   \n",
       "62            29147         40.271797         -95.057220         29227   \n",
       "...             ...               ...                ...           ...   \n",
       "13984         29227         40.459210         -94.273690         29049   \n",
       "13985         29049         39.499824         -94.474940         29227   \n",
       "15661         29049         39.497443         -94.413605         29227   \n",
       "15664         29227         40.428823         -94.346473         29049   \n",
       "20508         29227         40.392405         -94.345004         29147   \n",
       "\n",
       "             lat         lon  \n",
       "58     40.555659  -94.562600  \n",
       "59     40.477510  -94.413707  \n",
       "60     40.429702  -94.459644  \n",
       "61     40.494593  -94.412517  \n",
       "62     40.491202  -94.285050  \n",
       "...          ...         ...  \n",
       "13984  39.485549  -94.360993  \n",
       "13985  40.459102  -94.273742  \n",
       "15661  40.428801  -94.346594  \n",
       "15664  39.497443  -94.413605  \n",
       "20508  40.507305  -94.648186  \n",
       "\n",
       "[3356 rows x 6 columns]"
      ]
     },
     "execution_count": 392,
     "metadata": {},
     "output_type": "execute_result"
    },
    {
     "name": "stdout",
     "output_type": "stream",
     "text": [
      "time: 22.4 ms (started: 2022-03-18 00:08:03 -04:00)\n"
     ]
    }
   ],
   "source": [
    "# REGRID vs ATTOM : TIGER county FIPS\n",
    "\n",
    "diff_county = legal_matched[['COUNTY_FIPS_x', 'COUNTY_FIPS_y']].astype(int).diff(axis=1)\n",
    "diff_county_rows = legal_matched[diff_county.COUNTY_FIPS_y != 0]\n",
    "diff_county_rows.to_csv('legaldesc_matched.csv',index=False)\n",
    "print(diff_county_rows.shape)\n",
    "diff_county_rows[[\n",
    "    # ATTOM\n",
    "    'COUNTY_FIPS_x', 'PropertyLatitude', 'PropertyLongitude', \n",
    "    # REGRID                                           \n",
    "    'COUNTY_FIPS_y', 'lat', 'lon',\n",
    "]]\n"
   ]
  },
  {
   "cell_type": "code",
   "execution_count": 383,
   "id": "5dea3e01-f132-49a2-90cd-7f51e8e5efc4",
   "metadata": {},
   "outputs": [
    {
     "data": {
      "text/plain": [
       "array([   0,   80,  -98,  178,   98, -178,  -80])"
      ]
     },
     "execution_count": 383,
     "metadata": {},
     "output_type": "execute_result"
    },
    {
     "name": "stdout",
     "output_type": "stream",
     "text": [
      "time: 120 ms (started: 2022-03-18 00:02:25 -04:00)\n"
     ]
    }
   ],
   "source": [
    "# TODO HERE NOW: rows with matching legal description sometimes are matched to different COUNTIES?\n",
    "legal_matched[['COUNTY_FIPS_x', 'COUNTY_FIPS_y']].astype(int).diff(axis=1).COUNTY_FIPS_y.unique()\n"
   ]
  },
  {
   "cell_type": "code",
   "execution_count": 309,
   "id": "76d275a9-9e13-43b1-afc0-e54a65c7d44d",
   "metadata": {},
   "outputs": [
    {
     "data": {
      "text/plain": [
       "ParcelNumberRaw    0\n",
       "parcelnumb         0\n",
       "dtype: int64"
      ]
     },
     "execution_count": 309,
     "metadata": {},
     "output_type": "execute_result"
    },
    {
     "name": "stdout",
     "output_type": "stream",
     "text": [
      "time: 4.56 ms (started: 2022-03-17 23:18:30 -04:00)\n"
     ]
    }
   ],
   "source": [
    "parcel_num_match[['ParcelNumberRaw', 'parcelnumb']].isnull().sum()"
   ]
  },
  {
   "cell_type": "markdown",
   "id": "c364813e-ba6b-401b-b9f3-800528e6a8bd",
   "metadata": {},
   "source": [
    "### Matching owner name, or address? No good!"
   ]
  },
  {
   "cell_type": "code",
   "execution_count": 594,
   "id": "3d4f2582-eca5-4f99-b61f-b3ebf8ee3041",
   "metadata": {},
   "outputs": [
    {
     "data": {
      "text/html": [
       "<div>\n",
       "<style scoped>\n",
       "    .dataframe tbody tr th:only-of-type {\n",
       "        vertical-align: middle;\n",
       "    }\n",
       "\n",
       "    .dataframe tbody tr th {\n",
       "        vertical-align: top;\n",
       "    }\n",
       "\n",
       "    .dataframe thead th {\n",
       "        text-align: right;\n",
       "    }\n",
       "</style>\n",
       "<table border=\"1\" class=\"dataframe\">\n",
       "  <thead>\n",
       "    <tr style=\"text-align: right;\">\n",
       "      <th></th>\n",
       "      <th>PropertyAddressFull</th>\n",
       "      <th>PartyOwner1NameFull</th>\n",
       "      <th>PartyOwner2NameFull</th>\n",
       "    </tr>\n",
       "  </thead>\n",
       "  <tbody>\n",
       "    <tr>\n",
       "      <th>6799</th>\n",
       "      <td>506 W MISSOURI AVE</td>\n",
       "      <td>TRAVIS W FUHR</td>\n",
       "      <td>KIMBERLY D FUHR</td>\n",
       "    </tr>\n",
       "    <tr>\n",
       "      <th>14846</th>\n",
       "      <td>NaN</td>\n",
       "      <td>HUNT</td>\n",
       "      <td>KERWIN</td>\n",
       "    </tr>\n",
       "    <tr>\n",
       "      <th>14213</th>\n",
       "      <td>NaN</td>\n",
       "      <td>JACK SPAINHOWER</td>\n",
       "      <td>PATTY SPAINHOWER</td>\n",
       "    </tr>\n",
       "  </tbody>\n",
       "</table>\n",
       "</div>"
      ],
      "text/plain": [
       "      PropertyAddressFull PartyOwner1NameFull PartyOwner2NameFull\n",
       "6799   506 W MISSOURI AVE       TRAVIS W FUHR     KIMBERLY D FUHR\n",
       "14846                 NaN                HUNT              KERWIN\n",
       "14213                 NaN     JACK SPAINHOWER    PATTY SPAINHOWER"
      ]
     },
     "execution_count": 594,
     "metadata": {},
     "output_type": "execute_result"
    },
    {
     "name": "stdout",
     "output_type": "stream",
     "text": [
      "time: 8.01 ms (started: 2022-03-18 14:06:47 -04:00)\n"
     ]
    }
   ],
   "source": [
    "attom[['PropertyAddressFull', 'PartyOwner1NameFull', 'PartyOwner2NameFull']].sample(3)"
   ]
  },
  {
   "cell_type": "code",
   "execution_count": 592,
   "id": "aa99cf6c-4b41-4830-8700-8aa480dd5e98",
   "metadata": {},
   "outputs": [
    {
     "data": {
      "text/html": [
       "<div>\n",
       "<style scoped>\n",
       "    .dataframe tbody tr th:only-of-type {\n",
       "        vertical-align: middle;\n",
       "    }\n",
       "\n",
       "    .dataframe tbody tr th {\n",
       "        vertical-align: top;\n",
       "    }\n",
       "\n",
       "    .dataframe thead th {\n",
       "        text-align: right;\n",
       "    }\n",
       "</style>\n",
       "<table border=\"1\" class=\"dataframe\">\n",
       "  <thead>\n",
       "    <tr style=\"text-align: right;\">\n",
       "      <th></th>\n",
       "      <th>address</th>\n",
       "      <th>owner</th>\n",
       "      <th>owner2</th>\n",
       "    </tr>\n",
       "  </thead>\n",
       "  <tbody>\n",
       "    <tr>\n",
       "      <th>1135</th>\n",
       "      <td>5275 SW MCCULLOCH RD</td>\n",
       "      <td>WALTON JOHN W TRUSTEE</td>\n",
       "      <td>JOHN W WALTON TRUST</td>\n",
       "    </tr>\n",
       "    <tr>\n",
       "      <th>10364</th>\n",
       "      <td>MEADOWLARK RD</td>\n",
       "      <td>MAY TIMOTHY D &amp; LYNN G</td>\n",
       "      <td>None</td>\n",
       "    </tr>\n",
       "    <tr>\n",
       "      <th>9640</th>\n",
       "      <td>NE CROUCH RD</td>\n",
       "      <td>MM LAZY EIGHT LLC</td>\n",
       "      <td>None</td>\n",
       "    </tr>\n",
       "  </tbody>\n",
       "</table>\n",
       "</div>"
      ],
      "text/plain": [
       "                    address                   owner               owner2\n",
       "1135   5275 SW MCCULLOCH RD   WALTON JOHN W TRUSTEE  JOHN W WALTON TRUST\n",
       "10364         MEADOWLARK RD  MAY TIMOTHY D & LYNN G                 None\n",
       "9640           NE CROUCH RD       MM LAZY EIGHT LLC                 None"
      ]
     },
     "execution_count": 592,
     "metadata": {},
     "output_type": "execute_result"
    },
    {
     "name": "stdout",
     "output_type": "stream",
     "text": [
      "time: 7.17 ms (started: 2022-03-18 14:06:25 -04:00)\n"
     ]
    }
   ],
   "source": [
    "regrid[['address', 'owner', 'owner2']].sample(3)"
   ]
  },
  {
   "cell_type": "markdown",
   "id": "8900aa80-143d-4f76-967a-3984b71d4d13",
   "metadata": {
    "tags": []
   },
   "source": [
    "### Could we match lat+lon? Regrid OK, Attom Bad"
   ]
  },
  {
   "cell_type": "code",
   "execution_count": 561,
   "id": "96c71930-ff62-44c7-a162-47e23bf87d6a",
   "metadata": {},
   "outputs": [
    {
     "data": {
      "text/plain": [
       "coords\n",
       "39.455355!@#-94.239171    1\n",
       "40.349641!@#-94.674177    1\n",
       "40.349914!@#-94.865444    1\n",
       "40.349909!@#-94.865207    1\n",
       "40.349906!@#-94.871268    1\n",
       "dtype: int64"
      ]
     },
     "execution_count": 561,
     "metadata": {},
     "output_type": "execute_result"
    },
    {
     "name": "stdout",
     "output_type": "stream",
     "text": [
      "time: 32.1 ms (started: 2022-03-18 13:43:42 -04:00)\n"
     ]
    }
   ],
   "source": [
    "regrid['coords'] = regrid.lat + '!@#' + regrid.lon\n",
    "regrid.groupby('coords').size().sort_values(ascending=False).head()"
   ]
  },
  {
   "cell_type": "code",
   "execution_count": 562,
   "id": "c91ce574-def6-46a1-bae2-0709185713cc",
   "metadata": {},
   "outputs": [
    {
     "data": {
      "text/plain": [
       "coords\n",
       "40.5215!@#-95.122         278\n",
       "40.5292!@#-95.0053        248\n",
       "39.5366!@#-94.3117        248\n",
       "39.7411!@#-94.2344         96\n",
       "40.360774!@#-94.883434     64\n",
       "dtype: int64"
      ]
     },
     "execution_count": 562,
     "metadata": {},
     "output_type": "execute_result"
    },
    {
     "name": "stdout",
     "output_type": "stream",
     "text": [
      "time: 64.9 ms (started: 2022-03-18 13:43:46 -04:00)\n"
     ]
    }
   ],
   "source": [
    "attom['coords'] = attom.PropertyLatitude.astype(str) + '!@#' + attom.PropertyLongitude.astype(str)\n",
    "attom.groupby('coords').size().sort_values(ascending=False).head()"
   ]
  },
  {
   "cell_type": "code",
   "execution_count": 602,
   "id": "8bc3be38-70bb-45ab-ae82-a8830b4899ba",
   "metadata": {},
   "outputs": [
    {
     "data": {
      "text/plain": [
       "((9979, 215), (26845, 216), (14954, 216))"
      ]
     },
     "execution_count": 602,
     "metadata": {},
     "output_type": "execute_result"
    },
    {
     "name": "stdout",
     "output_type": "stream",
     "text": [
      "time: 1.74 s (started: 2022-03-18 15:08:20 -04:00)\n"
     ]
    }
   ],
   "source": [
    "# Put all 3 matching types together; Duplicate included\n",
    "latlon_matched = attom.merge(regrid, on='coords', how='inner')\n",
    "legal_matched = attom.merge(regrid, left_on = 'LegalDescription', right_on = 'legaldesc', how = 'inner')\n",
    "num_matched = attom.merge(regrid, left_on = 'ParcelNumberRaw', right_on = 'parcelnumb', how = 'inner')\n",
    "latlon_matched.shape, legal_matched.shape, num_matched.shape\n",
    "\n",
    "latlon_ids = set(latlon_matched.ll_uuid)\n",
    "legal_ids = set(legal_matched.ll_uuid)\n",
    "num_ids = set(num_matched.ll_uuid)\n",
    "print(len(latlon_ids), len(legal_ids), len(num_ids))\n",
    "print('latlon vs legal   :', len(latlon_ids - legal_ids), '/', len(legal_ids - latlon_ids),) \n",
    "print('latlon vs num     :', len(latlon_ids - num_ids), '/', len(num_ids - latlon_ids), )\n",
    "print('num    vs legal   :', len(num_ids - legal_ids), '/', len(legal_ids - num_ids), )"
   ]
  },
  {
   "cell_type": "code",
   "execution_count": null,
   "id": "64347ff7-03be-4bb3-846d-65a2b47d3ce5",
   "metadata": {},
   "outputs": [],
   "source": []
  },
  {
   "cell_type": "markdown",
   "id": "5c3c7359-d896-48c9-afae-bbfd62865918",
   "metadata": {},
   "source": [
    "# STEP 1: Legal desc match"
   ]
  },
  {
   "cell_type": "code",
   "execution_count": 1072,
   "id": "2ceea991-0b36-4229-aada-74b811b27772",
   "metadata": {},
   "outputs": [
    {
     "data": {
      "text/plain": [
       "((25858, 136), (30778, 74), (14140, 210))"
      ]
     },
     "execution_count": 1072,
     "metadata": {},
     "output_type": "execute_result"
    },
    {
     "name": "stdout",
     "output_type": "stream",
     "text": [
      "time: 588 ms (started: 2022-03-24 17:25:30 -04:00)\n"
     ]
    }
   ],
   "source": [
    "# IMPORTANT: first, drop the duplicate values\n",
    "regrid_legal_uniq = regrid.drop_duplicates(subset='legaldesc', keep=False)\n",
    "attom_legal_uniq = attom.drop_duplicates(subset='LegalDescription', keep=False)\n",
    "\n",
    "legal_matched = attom_legal_uniq.merge(regrid_legal_uniq, left_on = 'LegalDescription', right_on = 'legaldesc', how = 'inner')\n",
    "# ((27003, 136), (25858, 136), (32050, 74), (30778, 74), (14140, 210), True)\n",
    "regrid_legal_uniq.shape, attom_legal_uniq.shape, legal_matched.shape"
   ]
  },
  {
   "cell_type": "markdown",
   "id": "5b5b8ed1-f316-490f-b45d-f46ce54f2e92",
   "metadata": {},
   "source": [
    "## Similarity score"
   ]
  },
  {
   "cell_type": "code",
   "execution_count": 1073,
   "id": "ca3b9745-f005-486f-a6ed-5e29448b8067",
   "metadata": {},
   "outputs": [
    {
     "data": {
      "text/plain": [
       "((14140, 210),\n",
       " parcelnumb         14140\n",
       " ParcelNumberRaw    14140\n",
       " dtype: int64)"
      ]
     },
     "execution_count": 1073,
     "metadata": {},
     "output_type": "execute_result"
    },
    {
     "name": "stdout",
     "output_type": "stream",
     "text": [
      "time: 57.9 ms (started: 2022-03-24 17:25:34 -04:00)\n"
     ]
    }
   ],
   "source": [
    "# NO EMPTY 'parcelnumb', 'ParcelNumberRaw'\n",
    "legal_matched.shape, legal_matched[['parcelnumb', 'ParcelNumberRaw']].count()"
   ]
  },
  {
   "cell_type": "code",
   "execution_count": 1085,
   "id": "ae8f6ebb-1407-4243-af40-1782c8e921c6",
   "metadata": {},
   "outputs": [
    {
     "data": {
      "text/plain": [
       "((0, 210), (2856, 210))"
      ]
     },
     "execution_count": 1085,
     "metadata": {},
     "output_type": "execute_result"
    },
    {
     "name": "stdout",
     "output_type": "stream",
     "text": [
      "time: 20.4 ms (started: 2022-03-24 17:28:53 -04:00)\n"
     ]
    }
   ],
   "source": [
    "# NO short ParcelNumberRaw, Some short parcelnumb\n",
    "legal_matched[legal_matched.ParcelNumberRaw.str.len() < 10].shape, legal_matched[legal_matched.parcelnumb.str.len() < 10].shape"
   ]
  },
  {
   "cell_type": "code",
   "execution_count": null,
   "id": "9a9f93c2-71dd-48c7-8962-16725ec41020",
   "metadata": {},
   "outputs": [
    {
     "data": {
      "text/html": [
       "<div>\n",
       "<style scoped>\n",
       "    .dataframe tbody tr th:only-of-type {\n",
       "        vertical-align: middle;\n",
       "    }\n",
       "\n",
       "    .dataframe tbody tr th {\n",
       "        vertical-align: top;\n",
       "    }\n",
       "\n",
       "    .dataframe thead th {\n",
       "        text-align: right;\n",
       "    }\n",
       "</style>\n",
       "<table border=\"1\" class=\"dataframe\">\n",
       "  <thead>\n",
       "    <tr style=\"text-align: right;\">\n",
       "      <th></th>\n",
       "      <th>parcelnumb</th>\n",
       "      <th>ParcelNumberRaw</th>\n",
       "    </tr>\n",
       "  </thead>\n",
       "  <tbody>\n",
       "    <tr>\n",
       "      <th>2873</th>\n",
       "      <td>05000</td>\n",
       "      <td>22-04-19-02-03-05000</td>\n",
       "    </tr>\n",
       "    <tr>\n",
       "      <th>5211</th>\n",
       "      <td>01-06.0-23-002-020-006.000</td>\n",
       "      <td>01-06.0-23-002-020-006.000</td>\n",
       "    </tr>\n",
       "    <tr>\n",
       "      <th>5914</th>\n",
       "      <td>15-05.0-15-000-000-009.001</td>\n",
       "      <td>15-05.0-15-000-000-009.001</td>\n",
       "    </tr>\n",
       "    <tr>\n",
       "      <th>10910</th>\n",
       "      <td>12-06.2-23-000-000-006.001</td>\n",
       "      <td>12-06.2-23-000-000-006.001</td>\n",
       "    </tr>\n",
       "    <tr>\n",
       "      <th>12309</th>\n",
       "      <td>07-08-09-31-1.02</td>\n",
       "      <td>07-08-09-31-1.02</td>\n",
       "    </tr>\n",
       "    <tr>\n",
       "      <th>4394</th>\n",
       "      <td>13-05.0-15-000-000-005.036</td>\n",
       "      <td>13-05.0-15-000-000-005.036</td>\n",
       "    </tr>\n",
       "    <tr>\n",
       "      <th>11593</th>\n",
       "      <td>13000</td>\n",
       "      <td>22-04-18-01-02-13000</td>\n",
       "    </tr>\n",
       "    <tr>\n",
       "      <th>974</th>\n",
       "      <td>05-08.0-34-003-001-001.000</td>\n",
       "      <td>05-08.0-34-003-001-001.000</td>\n",
       "    </tr>\n",
       "    <tr>\n",
       "      <th>10150</th>\n",
       "      <td>10-07.1-36-001-001-002.001</td>\n",
       "      <td>10-07.1-36-001-001-002.001</td>\n",
       "    </tr>\n",
       "    <tr>\n",
       "      <th>2951</th>\n",
       "      <td>25000</td>\n",
       "      <td>22-04-19-02-15-25000</td>\n",
       "    </tr>\n",
       "  </tbody>\n",
       "</table>\n",
       "</div>"
      ],
      "text/plain": [
       "                       parcelnumb             ParcelNumberRaw\n",
       "2873                        05000        22-04-19-02-03-05000\n",
       "5211   01-06.0-23-002-020-006.000  01-06.0-23-002-020-006.000\n",
       "5914   15-05.0-15-000-000-009.001  15-05.0-15-000-000-009.001\n",
       "10910  12-06.2-23-000-000-006.001  12-06.2-23-000-000-006.001\n",
       "12309            07-08-09-31-1.02            07-08-09-31-1.02\n",
       "4394   13-05.0-15-000-000-005.036  13-05.0-15-000-000-005.036\n",
       "11593                       13000        22-04-18-01-02-13000\n",
       "974    05-08.0-34-003-001-001.000  05-08.0-34-003-001-001.000\n",
       "10150  10-07.1-36-001-001-002.001  10-07.1-36-001-001-002.001\n",
       "2951                        25000        22-04-19-02-15-25000"
      ]
     },
     "execution_count": 1082,
     "metadata": {},
     "output_type": "execute_result"
    },
    {
     "name": "stdout",
     "output_type": "stream",
     "text": [
      "time: 7.08 ms (started: 2022-03-24 17:27:33 -04:00)\n"
     ]
    }
   ],
   "source": [
    "legal_matched[['parcelnumb', 'ParcelNumberRaw']].sample(10)"
   ]
  },
  {
   "cell_type": "markdown",
   "id": "f581cc47-f14b-47ce-aced-85c962da88cc",
   "metadata": {},
   "source": [
    "#### Short parcelnumb"
   ]
  },
  {
   "cell_type": "code",
   "execution_count": 1111,
   "id": "bf823df9-2e8f-46f8-bd72-cf1da0fdaeac",
   "metadata": {},
   "outputs": [
    {
     "name": "stdout",
     "output_type": "stream",
     "text": [
      "time: 443 µs (started: 2022-03-24 17:50:18 -04:00)\n"
     ]
    }
   ],
   "source": [
    "match_cols = [\n",
    "# '[ATTOM ID]', 'll_uuid',\n",
    "'at_id', 're_id',\n",
    "'legaldesc', 'LegalDescription',\n",
    "'parcelnumb', 'ParcelNumberRaw', \n",
    "'address', 'PropertyAddressFull', \n",
    "'owner', 'PartyOwner1NameFull', \n",
    "'owner2', 'PartyOwner2NameFull',\n",
    "'lat', 'lon',\n",
    "'PropertyLatitude', 'PropertyLongitude', \n",
    "'saddno', 'PropertyAddressHouseNumber',\n",
    "]"
   ]
  },
  {
   "cell_type": "code",
   "execution_count": 1117,
   "id": "0f8ab59a-677b-4184-9118-2084fa6c5bae",
   "metadata": {
    "tags": []
   },
   "outputs": [
    {
     "data": {
      "text/plain": [
       "True     2854\n",
       "False       2\n",
       "Name: legal_num_sameness, dtype: int64"
      ]
     },
     "execution_count": 1117,
     "metadata": {},
     "output_type": "execute_result"
    },
    {
     "name": "stdout",
     "output_type": "stream",
     "text": [
      "time: 56.8 ms (started: 2022-03-24 17:52:05 -04:00)\n"
     ]
    }
   ],
   "source": [
    "legal_short_numb = legal_matched[legal_matched.parcelnumb.str.len() < 10][match_cols]\n",
    "legal_short_numb[['lat', 'lon']] = legal_short_numb[['lat', 'lon']].astype(float)\n",
    "\n",
    "legal_short_numb['legal_shorted_numberraw'] = legal_short_numb.ParcelNumberRaw.str.split('-').str[-1]\n",
    "legal_short_numb['legal_num_sameness'] = legal_short_numb.apply(lambda row: row.legal_shorted_numberraw in row.parcelnumb, axis = 1)\n",
    "legal_short_numb['legal_num_sameness'].value_counts()"
   ]
  },
  {
   "cell_type": "markdown",
   "id": "bee97c87-36b2-430c-874a-471b557a2193",
   "metadata": {},
   "source": [
    "#### Full length parcelnumb"
   ]
  },
  {
   "cell_type": "code",
   "execution_count": 1118,
   "id": "f3cf58bd-bce0-4a77-8f1f-a4f91a924f31",
   "metadata": {},
   "outputs": [
    {
     "data": {
      "text/plain": [
       "True     11281\n",
       "False        3\n",
       "Name: legal_num_sameness, dtype: int64"
      ]
     },
     "execution_count": 1118,
     "metadata": {},
     "output_type": "execute_result"
    },
    {
     "name": "stdout",
     "output_type": "stream",
     "text": [
      "time: 45.7 ms (started: 2022-03-24 17:52:07 -04:00)\n"
     ]
    }
   ],
   "source": [
    "legal_full_numb = legal_matched[legal_matched.parcelnumb.str.len() >= 10][match_cols]\n",
    "legal_full_numb['legal_num_sameness'] = (legal_full_numb.ParcelNumberRaw == legal_full_numb.parcelnumb)\n",
    "legal_full_numb['legal_num_sameness'].value_counts()"
   ]
  },
  {
   "cell_type": "code",
   "execution_count": 1119,
   "id": "723ad786-e138-46f1-b804-09dbdb2a6ac7",
   "metadata": {},
   "outputs": [
    {
     "name": "stdout",
     "output_type": "stream",
     "text": [
      "(2, 20) (2854, 20) (3, 19) (11281, 19)\n",
      "time: 9.16 ms (started: 2022-03-24 17:52:09 -04:00)\n"
     ]
    }
   ],
   "source": [
    "short_false = legal_short_numb[legal_short_numb['legal_num_sameness'] == False]\n",
    "short_true = legal_short_numb[legal_short_numb['legal_num_sameness'] == True]\n",
    "full_false = legal_full_numb[legal_full_numb['legal_num_sameness'] == False]\n",
    "full_true = legal_full_numb[legal_full_numb['legal_num_sameness'] == True]\n",
    "\n",
    "print(short_false.shape, short_true.shape, full_false.shape, full_true.shape)"
   ]
  },
  {
   "cell_type": "markdown",
   "id": "489eccd8-4586-4568-a34f-be8cbaea37c8",
   "metadata": {
    "tags": []
   },
   "source": [
    "### Manual location check: Kepler-GL\n",
    "https://docs.kepler.gl/docs/keplergl-jupyter#6-match-config-with-data"
   ]
  },
  {
   "cell_type": "markdown",
   "id": "0589aa45-c67d-44ed-a833-9f11e9c3f79a",
   "metadata": {},
   "source": [
    "#### Config save & load trick"
   ]
  },
  {
   "cell_type": "code",
   "execution_count": 1095,
   "id": "90c78123-bbbb-4182-9a2e-0954d8ea830e",
   "metadata": {},
   "outputs": [
    {
     "name": "stdout",
     "output_type": "stream",
     "text": [
      "User Guide: https://docs.kepler.gl/docs/keplergl-jupyter\n"
     ]
    },
    {
     "name": "stderr",
     "output_type": "stream",
     "text": [
      "/home/nhat/anaconda3/envs/py39/lib/python3.9/site-packages/jupyter_client/session.py:716: UserWarning: Message serialization failed with:\n",
      "Out of range float values are not JSON compliant\n",
      "Supporting this message is deprecated in jupyter-client 7, please make sure your message is JSON-compliant\n",
      "  content = self.pack(content)\n"
     ]
    },
    {
     "data": {
      "application/vnd.jupyter.widget-view+json": {
       "model_id": "22fd74204f4d49a5a0f750b700ead6cf",
       "version_major": 2,
       "version_minor": 0
      },
      "text/plain": [
       "KeplerGl(config={'config': {'mapState': {'bearing': 0, 'dragRotate': False, 'isSplit': False, 'latitude': 40.4…"
      ]
     },
     "metadata": {},
     "output_type": "display_data"
    },
    {
     "name": "stdout",
     "output_type": "stream",
     "text": [
      "time: 618 ms (started: 2022-03-24 17:35:24 -04:00)\n"
     ]
    }
   ],
   "source": [
    "config_name = 'config_legal'\n",
    "\n",
    "# LOAD the config  using jupyter %run magic ; Note the parameter escape {}\n",
    "# i.e. execute variable assignment: config = ....\n",
    "%run {config_name}.py\n",
    "\n",
    "legal_map = KeplerGl(height=800, data={\n",
    "    'short_false' : short_false,\n",
    "    'short_true' : short_true,\n",
    "    'full_false' : full_false,\n",
    "    'full_true' : full_true, \n",
    "}, config = my_config)\n",
    "\n",
    "legal_map"
   ]
  },
  {
   "cell_type": "code",
   "execution_count": 964,
   "id": "2a7fe571-6027-4387-8b6f-87734948121a",
   "metadata": {},
   "outputs": [
    {
     "name": "stdout",
     "output_type": "stream",
     "text": [
      "time: 296 µs (started: 2022-03-24 11:32:12 -04:00)\n"
     ]
    }
   ],
   "source": [
    "# TODO: ignore/how to resolve? Identified some (legaldesc matched, short parcelnumb matched, but mapping to diff locations)!"
   ]
  },
  {
   "cell_type": "code",
   "execution_count": 1121,
   "id": "1d3c1a79-bca6-45fe-a259-728a56bfd34e",
   "metadata": {},
   "outputs": [
    {
     "data": {
      "text/plain": [
       "((11281, 19),\n",
       " saddno                        8031\n",
       " PropertyAddressHouseNumber    7050\n",
       " dtype: int64,\n",
       " (2854, 20),\n",
       " saddno                           0\n",
       " PropertyAddressHouseNumber    2360\n",
       " dtype: int64)"
      ]
     },
     "execution_count": 1121,
     "metadata": {},
     "output_type": "execute_result"
    },
    {
     "name": "stdout",
     "output_type": "stream",
     "text": [
      "time: 8.67 ms (started: 2022-03-24 17:53:17 -04:00)\n"
     ]
    }
   ],
   "source": [
    "full_true.shape, full_true[['saddno', 'PropertyAddressHouseNumber',]].count(), short_true.shape, short_true[['saddno', 'PropertyAddressHouseNumber',]].count()"
   ]
  },
  {
   "cell_type": "code",
   "execution_count": 1125,
   "id": "df4f15b3-7600-49ae-aa21-b9478e0c758b",
   "metadata": {},
   "outputs": [
    {
     "data": {
      "text/plain": [
       "((11281, 19), (8374, 19), (6707, 19))"
      ]
     },
     "execution_count": 1125,
     "metadata": {},
     "output_type": "execute_result"
    },
    {
     "name": "stdout",
     "output_type": "stream",
     "text": [
      "time: 11.8 ms (started: 2022-03-24 17:56:42 -04:00)\n"
     ]
    }
   ],
   "source": [
    "full_true.shape, full_true[~(full_true.saddno.isna()) | ~(full_true.PropertyAddressHouseNumber.isna())].shape, full_true[~(full_true.saddno.isna()) & ~(full_true.PropertyAddressHouseNumber.isna())].shape, "
   ]
  },
  {
   "cell_type": "code",
   "execution_count": 1129,
   "id": "447c6fee-46c6-4abc-a3c3-707541d8be80",
   "metadata": {},
   "outputs": [
    {
     "name": "stdout",
     "output_type": "stream",
     "text": [
      "User Guide: https://docs.kepler.gl/docs/keplergl-jupyter\n"
     ]
    },
    {
     "name": "stderr",
     "output_type": "stream",
     "text": [
      "/home/nhat/anaconda3/envs/py39/lib/python3.9/site-packages/jupyter_client/session.py:716: UserWarning: Message serialization failed with:\n",
      "Out of range float values are not JSON compliant\n",
      "Supporting this message is deprecated in jupyter-client 7, please make sure your message is JSON-compliant\n",
      "  content = self.pack(content)\n"
     ]
    },
    {
     "data": {
      "application/vnd.jupyter.widget-view+json": {
       "model_id": "c989e88c4a80416bbf24140189e3aa71",
       "version_major": 2,
       "version_minor": 0
      },
      "text/plain": [
       "KeplerGl(config={'config': {'mapState': {'bearing': 0, 'dragRotate': False, 'isSplit': False, 'latitude': 40.4…"
      ]
     },
     "metadata": {},
     "output_type": "display_data"
    },
    {
     "name": "stdout",
     "output_type": "stream",
     "text": [
      "time: 282 ms (started: 2022-03-24 17:58:20 -04:00)\n"
     ]
    }
   ],
   "source": [
    "config_name = 'config_legal'\n",
    "\n",
    "# LOAD the config  using jupyter %run magic ; Note the parameter escape {}\n",
    "# i.e. execute variable assignment: config = ....\n",
    "%run {config_name}.py\n",
    "\n",
    "legal_map = KeplerGl(height=600, data={\n",
    "    'short_false' : short_false,\n",
    "    'short_true' : short_true1,\n",
    "    'full_false' : full_false,\n",
    "    'full_true' : full_true1, \n",
    "}, config = my_config)\n",
    "\n",
    "legal_map"
   ]
  },
  {
   "cell_type": "code",
   "execution_count": null,
   "id": "2a06288c-40e7-47bc-9ed8-2b6980bf6559",
   "metadata": {},
   "outputs": [],
   "source": [
    "# Sole error:\n",
    "# parcelnumb\n",
    "# 03-09.0-29-000-000-003.000\n",
    "# ParcelNumberRaw\n",
    "# 11-09.0-29-000-000-001.000\n",
    "# address\n",
    "# NW 348TH ST/ NW WATSON RD\n",
    "# owner\n",
    "# JOHNSON CHARLOTTE A TRUSTEE\n",
    "# owner2\n",
    "# PropertyAddressFull\n",
    "# SW HORD RD\n",
    "# PartyOwner1NameFull\n",
    "# BOYLE RICHARD JAMES TRUST\n",
    "# PartyOwner2NameFull\n",
    "# nan\n",
    "# legaldesc\n",
    "# SWNW-SEC-29\n",
    "# PropertyLatitude\n",
    "# 39.555405\n",
    "# lat\n",
    "# 39.727584\n"
   ]
  },
  {
   "cell_type": "code",
   "execution_count": 1130,
   "id": "315ce695-80a6-4305-9cb3-65215151a31b",
   "metadata": {},
   "outputs": [
    {
     "name": "stdout",
     "output_type": "stream",
     "text": [
      "User Guide: https://docs.kepler.gl/docs/keplergl-jupyter\n"
     ]
    },
    {
     "name": "stderr",
     "output_type": "stream",
     "text": [
      "/home/nhat/anaconda3/envs/py39/lib/python3.9/site-packages/jupyter_client/session.py:716: UserWarning: Message serialization failed with:\n",
      "Out of range float values are not JSON compliant\n",
      "Supporting this message is deprecated in jupyter-client 7, please make sure your message is JSON-compliant\n",
      "  content = self.pack(content)\n"
     ]
    },
    {
     "data": {
      "application/vnd.jupyter.widget-view+json": {
       "model_id": "5d2169f8a2e241768a74bb6a0e761f98",
       "version_major": 2,
       "version_minor": 0
      },
      "text/plain": [
       "KeplerGl(config={'config': {'mapState': {'bearing': 0, 'dragRotate': False, 'isSplit': False, 'latitude': 40.4…"
      ]
     },
     "metadata": {},
     "output_type": "display_data"
    },
    {
     "name": "stdout",
     "output_type": "stream",
     "text": [
      "time: 154 ms (started: 2022-03-24 18:02:17 -04:00)\n"
     ]
    }
   ],
   "source": [
    "# Include rows that miss both house numbers\n",
    "short_true1 = short_true[(short_true.saddno.isna()) & (short_true.PropertyAddressHouseNumber.isna())]\n",
    "full_true1 = full_true[(full_true.saddno.isna()) & (full_true.PropertyAddressHouseNumber.isna())]\n",
    "\n",
    "config_name = 'config_legal'\n",
    "\n",
    "# LOAD the config  using jupyter %run magic ; Note the parameter escape {}\n",
    "# i.e. execute variable assignment: config = ....\n",
    "%run {config_name}.py\n",
    "\n",
    "legal_map = KeplerGl(height=600, data={\n",
    "    'short_false' : short_false,\n",
    "    'short_true' : short_true1,\n",
    "    'full_false' : full_false,\n",
    "    'full_true' : full_true1, \n",
    "}, config = my_config)\n",
    "\n",
    "legal_map"
   ]
  },
  {
   "cell_type": "markdown",
   "id": "4707f16e-b190-4693-9a6c-cbc2607b19b0",
   "metadata": {
    "tags": []
   },
   "source": [
    "#### CONCLUSION: \n",
    "- all correct\n",
    "- TODO later: for rows that miss both house numbers (i.e. dont have address at all), better use REGRID coords, because ATTOM coords have some duplicate/precision issues (short floats) \n"
   ]
  },
  {
   "cell_type": "markdown",
   "id": "4c29606c-2df7-40cb-8122-30ed455224a2",
   "metadata": {},
   "source": [
    "## STEP2:Match the remainder using Parcel Number "
   ]
  },
  {
   "cell_type": "code",
   "execution_count": 1135,
   "id": "2b548522-67ee-4ad2-9a10-52166660b5a2",
   "metadata": {},
   "outputs": [
    {
     "data": {
      "text/plain": [
       "((14140, 210), (17910, 74), (12863, 136))"
      ]
     },
     "execution_count": 1135,
     "metadata": {},
     "output_type": "execute_result"
    },
    {
     "name": "stdout",
     "output_type": "stream",
     "text": [
      "time: 55.9 ms (started: 2022-03-24 18:15:45 -04:00)\n"
     ]
    }
   ],
   "source": [
    "# attom2 and regrid2: all rows that have not been legal matched!\n",
    "attom2 = attom[~attom.at_id.isin(set(legal_matched.at_id))]\n",
    "regrid2 = regrid[~regrid.re_id.isin(set(legal_matched.re_id))]\n",
    "legal_matched.shape, attom2.shape, regrid2.shape"
   ]
  },
  {
   "cell_type": "code",
   "execution_count": 1136,
   "id": "281f52a2-618a-44f6-baa7-4e13971cc01d",
   "metadata": {},
   "outputs": [
    {
     "data": {
      "text/plain": [
       "((3669, 18), True)"
      ]
     },
     "execution_count": 1136,
     "metadata": {},
     "output_type": "execute_result"
    },
    {
     "name": "stdout",
     "output_type": "stream",
     "text": [
      "time: 150 ms (started: 2022-03-24 18:15:46 -04:00)\n"
     ]
    }
   ],
   "source": [
    "# IMPORTANT: first, drop the duplicate values\n",
    "regrid_parcelnumb = regrid2.drop_duplicates(subset='parcelnumb', keep=False)\n",
    "regrid2.shape, regrid_parcelnumb.shape, \n",
    "\n",
    "attom_parcelnumb = attom2.drop_duplicates(subset='ParcelNumberRaw', keep=False)\n",
    "attom2.shape, attom_parcelnumb.shape, \n",
    "\n",
    "# MERGE\n",
    "parcelnumb = attom_parcelnumb.merge(regrid_parcelnumb, left_on = 'ParcelNumberRaw', right_on = 'parcelnumb', how = 'inner')[match_cols]\n",
    "\n",
    "# Coords should have float types\n",
    "parcelnumb[['lat', 'lon', 'PropertyLatitude', 'PropertyLongitude',]] = parcelnumb[['lat', 'lon', 'PropertyLatitude', 'PropertyLongitude',]].astype(float)\n",
    "\n",
    "parcelnumb.shape, parcelnumb.shape[0] == parcelnumb.at_id.shape[0] ==  parcelnumb.re_id.unique().shape[0] ==  parcelnumb.ParcelNumberRaw.unique().shape[0]\n"
   ]
  },
  {
   "cell_type": "code",
   "execution_count": 1138,
   "id": "72002903-ce76-4b61-9d66-e09deac4fd3b",
   "metadata": {},
   "outputs": [
    {
     "name": "stdout",
     "output_type": "stream",
     "text": [
      "User Guide: https://docs.kepler.gl/docs/keplergl-jupyter\n"
     ]
    },
    {
     "name": "stderr",
     "output_type": "stream",
     "text": [
      "/home/nhat/anaconda3/envs/py39/lib/python3.9/site-packages/jupyter_client/session.py:716: UserWarning: Message serialization failed with:\n",
      "Out of range float values are not JSON compliant\n",
      "Supporting this message is deprecated in jupyter-client 7, please make sure your message is JSON-compliant\n",
      "  content = self.pack(content)\n"
     ]
    },
    {
     "data": {
      "application/vnd.jupyter.widget-view+json": {
       "model_id": "bbe49873d7f645758262c5bafc2881eb",
       "version_major": 2,
       "version_minor": 0
      },
      "text/plain": [
       "KeplerGl(config={'config': {'mapState': {'bearing': 0, 'dragRotate': False, 'isSplit': False, 'latitude': 40.4…"
      ]
     },
     "metadata": {},
     "output_type": "display_data"
    },
    {
     "name": "stdout",
     "output_type": "stream",
     "text": [
      "time: 146 ms (started: 2022-03-24 18:17:16 -04:00)\n"
     ]
    }
   ],
   "source": [
    "%run {config_name}.py\n",
    "parcelnumb_map = KeplerGl(height=600, data={\n",
    "    'full_true' : parcelnumb, \n",
    "}, config = my_config)\n",
    "\n",
    "parcelnumb_map\n"
   ]
  },
  {
   "cell_type": "code",
   "execution_count": 1139,
   "id": "fb69c684-cc27-4cf4-8175-10fd0f122b22",
   "metadata": {},
   "outputs": [
    {
     "name": "stdout",
     "output_type": "stream",
     "text": [
      "time: 4.73 ms (started: 2022-03-24 18:22:32 -04:00)\n"
     ]
    }
   ],
   "source": [
    "__config = parcelnumb_map.config\n",
    "config_name = 'config_parcelnumb'\n",
    "\n",
    "# SAVE: pretty-write kepler map config to file\n",
    "with open(f\"{config_name}.py\", 'w') as file:\n",
    "    file.write(f\"my_config = {pprint.pformat(__config)}\")"
   ]
  },
  {
   "cell_type": "code",
   "execution_count": 1140,
   "id": "0112f234-738f-4c1d-b57e-f6c120e19623",
   "metadata": {},
   "outputs": [
    {
     "name": "stdout",
     "output_type": "stream",
     "text": [
      "User Guide: https://docs.kepler.gl/docs/keplergl-jupyter\n"
     ]
    },
    {
     "name": "stderr",
     "output_type": "stream",
     "text": [
      "/home/nhat/anaconda3/envs/py39/lib/python3.9/site-packages/jupyter_client/session.py:716: UserWarning: Message serialization failed with:\n",
      "Out of range float values are not JSON compliant\n",
      "Supporting this message is deprecated in jupyter-client 7, please make sure your message is JSON-compliant\n",
      "  content = self.pack(content)\n"
     ]
    },
    {
     "data": {
      "application/vnd.jupyter.widget-view+json": {
       "model_id": "aff9b60e212947f398a51edce53d4d31",
       "version_major": 2,
       "version_minor": 0
      },
      "text/plain": [
       "KeplerGl(config={'config': {'mapState': {'bearing': 0, 'dragRotate': False, 'isSplit': False, 'latitude': 39.5…"
      ]
     },
     "metadata": {},
     "output_type": "display_data"
    },
    {
     "name": "stdout",
     "output_type": "stream",
     "text": [
      "time: 48.9 ms (started: 2022-03-24 18:22:57 -04:00)\n"
     ]
    }
   ],
   "source": [
    "# No house number\n",
    "\n",
    "parcelnumb1 = parcelnumb[(parcelnumb.saddno.isna()) & (parcelnumb.PropertyAddressHouseNumber.isna())]\n",
    "\n",
    "%run {config_name}.py\n",
    "parcelnumb_map1 = KeplerGl(height=500, data={\n",
    "    'full_true' : parcelnumb1, \n",
    "}, config = my_config)\n",
    "\n",
    "parcelnumb_map1"
   ]
  },
  {
   "cell_type": "markdown",
   "id": "7de62a51-971f-4de0-bff0-d585c3cf1f28",
   "metadata": {
    "tags": []
   },
   "source": [
    "#### CONCLUSION: \n",
    "- all correct\n",
    "- TODO later: for rows that miss both house numbers (i.e. dont have address at all), better use REGRID coords, because ATTOM coords have some duplicate/precision issues (short floats); and REGRID coords are mapped to parcels!\n"
   ]
  },
  {
   "cell_type": "code",
   "execution_count": null,
   "id": "052e0343-7105-45c5-8931-a1174022bd9c",
   "metadata": {},
   "outputs": [],
   "source": []
  },
  {
   "cell_type": "code",
   "execution_count": null,
   "id": "dd714318-85b1-4dbe-8f6b-e1c82e9fe2ca",
   "metadata": {},
   "outputs": [],
   "source": []
  },
  {
   "cell_type": "markdown",
   "id": "c7bbc8ac-61f5-42c6-9d14-6d0d1e8adc37",
   "metadata": {},
   "source": [
    "## STEP3: fuzzy match the remaining "
   ]
  },
  {
   "cell_type": "code",
   "execution_count": null,
   "id": "f8f65c82-abf9-414b-b920-2b445fae4478",
   "metadata": {},
   "outputs": [],
   "source": [
    "match_cols_re = [\n",
    "'re_id', 'legaldesc', 'parcelnumb', 'address', \n",
    "'owner', 'owner2', \n",
    "'lat', 'lon','saddno', \n",
    "]\n",
    "\n",
    "match_cols_at = [\n",
    "'at_id', 'LegalDescription','ParcelNumberRaw', 'PropertyAddressFull', \n",
    "'PartyOwner1NameFull', 'PartyOwner2NameFull',\n",
    "'PropertyLatitude', 'PropertyLongitude', 'PropertyAddressHouseNumber',\n",
    "]"
   ]
  },
  {
   "cell_type": "code",
   "execution_count": 1157,
   "id": "c311210a-ec08-4345-98e0-910298d34c85",
   "metadata": {},
   "outputs": [
    {
     "data": {
      "text/plain": [
       "((27003, 136),\n",
       " (12863, 136),\n",
       " (9194, 136),\n",
       " (32050, 74),\n",
       " (17910, 74),\n",
       " (14241, 74))"
      ]
     },
     "execution_count": 1157,
     "metadata": {},
     "output_type": "execute_result"
    },
    {
     "name": "stdout",
     "output_type": "stream",
     "text": [
      "time: 34 ms (started: 2022-03-24 18:38:17 -04:00)\n"
     ]
    }
   ],
   "source": [
    "# attom3 and regrid3: \n",
    "# - exclude matched LegalDesc and ParcelNumber\n",
    "attom3 = attom2[~attom2.at_id.isin(set(parcelnumb.at_id))]\n",
    "regrid3 = regrid2[~regrid2.re_id.isin(set(parcelnumb.re_id))]\n",
    "\n",
    "attom.shape[0] - legal_matched.shape[0] - parcelnumb.shape[0] - attom3.shape[0]\n",
    "regrid.shape[0] - legal_matched.shape[0] - parcelnumb.shape[0] - regrid3.shape[0]"
   ]
  },
  {
   "cell_type": "code",
   "execution_count": 1159,
   "id": "57503bee-0c35-483a-8e15-7b582172c4f3",
   "metadata": {},
   "outputs": [
    {
     "data": {
      "text/plain": [
       "(re_id         9194\n",
       " legaldesc     9194\n",
       " parcelnumb    9194\n",
       " address         23\n",
       " owner         9058\n",
       " owner2           4\n",
       " lat           9194\n",
       " lon           9194\n",
       " saddno          18\n",
       " dtype: int64,\n",
       " at_id                         14241\n",
       " LegalDescription              14241\n",
       " ParcelNumberRaw               14241\n",
       " PropertyAddressFull            7513\n",
       " PartyOwner1NameFull           14241\n",
       " PartyOwner2NameFull            4633\n",
       " PropertyLatitude              14241\n",
       " PropertyLongitude             14241\n",
       " PropertyAddressHouseNumber     7042\n",
       " dtype: int64)"
      ]
     },
     "execution_count": 1159,
     "metadata": {},
     "output_type": "execute_result"
    },
    {
     "name": "stdout",
     "output_type": "stream",
     "text": [
      "time: 18.1 ms (started: 2022-03-24 18:42:00 -04:00)\n"
     ]
    }
   ],
   "source": [
    "regrid3[match_cols_re].count(), attom3[match_cols_at].count()"
   ]
  },
  {
   "cell_type": "code",
   "execution_count": null,
   "id": "4cc7cbf1-1819-4616-8920-07a931ea6766",
   "metadata": {},
   "outputs": [],
   "source": [
    "## TODO: combine with duplicate, then\n",
    "# TODO: then calculate TOTAL_SAMENESS score: weighted [ratios?] average of:\n",
    "- legaldesc & parcelnumb & owner: fuzzywuzzy similarity (weighted by length [?])\n",
    "- lat+lon: distance (heavier weight?)\n",
    "?"
   ]
  },
  {
   "cell_type": "code",
   "execution_count": null,
   "id": "523199e8-1a97-4226-8c32-b1f4a81016a1",
   "metadata": {},
   "outputs": [],
   "source": [
    "fuzz.token_set_ratio (TSeR) is similar to fuzz.token_sort_ratio (TSoR), except it ignores duplicated words\n",
    "\n",
    "For comparing full names to emails, fuzz.partial_ratio (PR) is the way to go.\n",
    "For addresses, fuzz.token_set_ratio (TSeR) is the scorer that performed best\n"
   ]
  },
  {
   "cell_type": "code",
   "execution_count": 1348,
   "id": "ef04dffe-ff9e-4f69-bbab-6a830b750cb6",
   "metadata": {},
   "outputs": [
    {
     "name": "stdout",
     "output_type": "stream",
     "text": [
      "time: 457 µs (started: 2022-03-26 16:09:57 -04:00)\n"
     ]
    }
   ],
   "source": [
    "fuzz_scorers = [\n",
    "    fuzz.ratio,\n",
    "# fuzz.partial_ratio,\n",
    "fuzz.token_set_ratio,\n",
    "# fuzz.token_sort_ratio,\n",
    "# fuzz.partial_token_set_ratio,\n",
    "# fuzz.partial_token_sort_ratio,\n",
    "fuzz.WRatio,\n",
    "fuzz.QRatio,\n",
    "# fuzz.UWRatio,\n",
    "# fuzz.UQRatio,\n",
    "]"
   ]
  },
  {
   "cell_type": "code",
   "execution_count": null,
   "id": "59bdcfb4-b075-42c3-a8f6-502f89ccb50b",
   "metadata": {},
   "outputs": [],
   "source": [
    "# TODO: divide into short and long df: legaldesc/parcelnumb "
   ]
  },
  {
   "cell_type": "code",
   "execution_count": 1340,
   "id": "f06fd36a-f56c-4aef-8c7d-acade988a208",
   "metadata": {},
   "outputs": [
    {
     "data": {
      "text/plain": [
       "((9194, 136), (8968, 136), (14241, 74), (13870, 74))"
      ]
     },
     "execution_count": 1340,
     "metadata": {},
     "output_type": "execute_result"
    },
    {
     "name": "stdout",
     "output_type": "stream",
     "text": [
      "time: 61.6 ms (started: 2022-03-26 16:00:15 -04:00)\n"
     ]
    }
   ],
   "source": [
    "# should not attempt to fuzzy-match duplicate values\n",
    "regrid_legal_uniq = regrid3.drop_duplicates(subset='legaldesc', keep=False)\n",
    "# some unique values (10 of them) are None/uselessly short\n",
    "regrid_legal_uniq = regrid_legal_uniq[regrid_legal_uniq.legaldesc.str.len() > 10]\n",
    "\n",
    "attom_legal_uniq = attom3.drop_duplicates(subset='LegalDescription', keep=False)\n",
    "attom_legal_uniq = attom_legal_uniq[attom_legal_uniq.LegalDescription.str.len() > 10]\n",
    "regrid3.shape, regrid_legal_uniq.shape, attom3.shape, attom_legal_uniq.shape"
   ]
  },
  {
   "cell_type": "code",
   "execution_count": 1339,
   "id": "30d499fb-0b9f-4256-a12b-45e8606357dd",
   "metadata": {},
   "outputs": [
    {
     "data": {
      "text/plain": [
       "((9194, 136), (51, 136))"
      ]
     },
     "execution_count": 1339,
     "metadata": {},
     "output_type": "execute_result"
    },
    {
     "name": "stdout",
     "output_type": "stream",
     "text": [
      "time: 6.82 ms (started: 2022-03-26 15:58:18 -04:00)\n"
     ]
    }
   ],
   "source": [
    "# Most REGRID parcelnumb are hopelessly short\n",
    "regrid3.shape, regrid3[regrid3.parcelnumb.str.len() > 8].shape # ((9194, 136), (51, 136))\n",
    "# while ATTOM ParcelNumberRaw are 100% full-form\n",
    "attom3.shape, attom3[attom3.ParcelNumberRaw.str.len() > 8].shape # ((14241, 74), (14241, 74))\n",
    "\n",
    "### Conclusion: cannot fuzzy match the non-exact parcel numbers"
   ]
  },
  {
   "cell_type": "code",
   "execution_count": 1354,
   "id": "0684dec4-21b3-4073-96eb-53e2fe24a2aa",
   "metadata": {},
   "outputs": [
    {
     "data": {
      "text/plain": [
       "((8968, 136), (13870, 74))"
      ]
     },
     "execution_count": 1354,
     "metadata": {},
     "output_type": "execute_result"
    },
    {
     "name": "stdout",
     "output_type": "stream",
     "text": [
      "time: 2.07 ms (started: 2022-03-26 16:23:49 -04:00)\n"
     ]
    }
   ],
   "source": [
    "regrid_legal_uniq.shape, attom_legal_uniq.shape"
   ]
  },
  {
   "cell_type": "code",
   "execution_count": 1349,
   "id": "abc468a7-4e6c-44cc-ad85-c38fd533484c",
   "metadata": {},
   "outputs": [
    {
     "name": "stdout",
     "output_type": "stream",
     "text": [
      "time: 8min 54s (started: 2022-03-26 16:10:18 -04:00)\n"
     ]
    }
   ],
   "source": [
    "data = []\n",
    "index = []\n",
    "for i, c in zip(regrid_legal_uniq.legaldesc, range(200)):\n",
    "    index.append(i)\n",
    "    row = []\n",
    "    for scorer in fuzz_scorers:\n",
    "        can, sim = process.extract( i, attom_legal_uniq.LegalDescription, limit=1, scorer = scorer)[0][:2]\n",
    "        row.append(can)\n",
    "        row.append(sim)\n",
    "    data.append(row)\n",
    "\n",
    "df_legaldesc = pd.DataFrame(data, index= index)\n",
    "\n",
    "# 8 min to fuzzy match: 8968 regrid_legal_uniq x 13870 attom_legal_uniq (x 4 different scorers)\n"
   ]
  },
  {
   "cell_type": "code",
   "execution_count": 1375,
   "id": "5662b7a9-b00c-4fd3-8105-d23ace524c18",
   "metadata": {},
   "outputs": [
    {
     "name": "stdout",
     "output_type": "stream",
     "text": [
      "time: 49.5 ms (started: 2022-03-26 16:39:06 -04:00)\n"
     ]
    }
   ],
   "source": [
    "df_legaldesc = df_legaldesc[['ratio', 'token_set_ratio', 'WRatio', 'QRatio']].mode(axis=1).sample(10).rename(columns={0: 'LegalDescMajorityGuess'})[['LegalDescMajorityGuess']]"
   ]
  },
  {
   "cell_type": "code",
   "execution_count": null,
   "id": "6fc5514b-2354-42cb-8c3b-e166f80fd4fb",
   "metadata": {},
   "outputs": [],
   "source": []
  },
  {
   "cell_type": "code",
   "execution_count": null,
   "id": "578408cc-4a09-4673-a72e-4845ca51229c",
   "metadata": {},
   "outputs": [],
   "source": [
    "# TODO HERE NOW: kepler visual: fuzzy-matched legaldesc: are the guesses close?"
   ]
  },
  {
   "cell_type": "code",
   "execution_count": 1385,
   "id": "7c601410-673a-4273-84f2-e19e91daaf3e",
   "metadata": {
    "tags": []
   },
   "outputs": [
    {
     "data": {
      "text/plain": [
       "legaldesc\n",
       "LOTS-1-5-BLK-9-&-W-1/2-VAC-ALLEY-HUFF'S-ADD-TO-TOWN-OF-QUITMAN-EXC-PUB-RD                                                                    NaN\n",
       "08-63-35-COM-578-W-OF-SE-COR-SW-TH-N-84-NW-286-S-286-E-TO-POB-NOD-CO-EXC-PUB-RD-R/W                                                          NaN\n",
       "COM-CTR-SEC-29-TH-N-650.04',-E-29.45',-TO-POB,-TH-E-37.66',-NE-115.39'-SE-69.24'-E-94'-S-132.6'-W-256'-N-133-TO-POB-NOD-CO-EXC-PUB-RD-R/W    NaN\n",
       "07-65-35-W-1/2-SW-EXC-PUB-RD-R/W                                                                                                             NaN\n",
       "05-65-36-COM-AT-PT-1155-N-OF-CENTER-SEC-5-TH-N-1480-TH-E-1855-TH-S-1010-TH-W-33-TH-W420                                                      NaN\n",
       "Name: LegalDescMajorityGuess, dtype: object"
      ]
     },
     "execution_count": 1385,
     "metadata": {},
     "output_type": "execute_result"
    },
    {
     "name": "stdout",
     "output_type": "stream",
     "text": [
      "time: 29.8 ms (started: 2022-03-26 16:40:01 -04:00)\n"
     ]
    }
   ],
   "source": [
    "regrid_legal_uniq.set_index('legaldesc').join(df_legaldesc).LegalDescMajorityGuess.sample(5)"
   ]
  },
  {
   "cell_type": "code",
   "execution_count": 1373,
   "id": "83cae1e1-b819-428f-8f56-f12d6ac51c56",
   "metadata": {
    "tags": []
   },
   "outputs": [
    {
     "data": {
      "text/html": [
       "<div>\n",
       "<style scoped>\n",
       "    .dataframe tbody tr th:only-of-type {\n",
       "        vertical-align: middle;\n",
       "    }\n",
       "\n",
       "    .dataframe tbody tr th {\n",
       "        vertical-align: top;\n",
       "    }\n",
       "\n",
       "    .dataframe thead th {\n",
       "        text-align: right;\n",
       "    }\n",
       "</style>\n",
       "<table border=\"1\" class=\"dataframe\">\n",
       "  <thead>\n",
       "    <tr style=\"text-align: right;\">\n",
       "      <th></th>\n",
       "      <th>LegalDescMajorityGuess</th>\n",
       "    </tr>\n",
       "  </thead>\n",
       "  <tbody>\n",
       "    <tr>\n",
       "      <th>34-64-34-W-1/2-NE-1/4-LYING-S-OF-CO-RD-34-64-34-&amp;-N-11-AC.-OF-NW-1/4-SE-1/4-NOD.-CO.-EXC.-PUB</th>\n",
       "      <td>34-64-34-W-12-NE-14-LYING-S-OF-CO-RD-34-64-34-...</td>\n",
       "    </tr>\n",
       "    <tr>\n",
       "      <th>23-66-35-E1/2-NE-&amp;-NE-SE-&amp;-E-3/8-SW-NE-EXC-PUB-RD-R/W</th>\n",
       "      <td>23-66-35-E12-NE-&amp;-NE-SE-&amp;-E-38-SW-NE-EXC-PUB-R...</td>\n",
       "    </tr>\n",
       "    <tr>\n",
       "      <th>30-64-34-W1/2-W1/2-NW-EXC-PUB-RD-R/W</th>\n",
       "      <td>30-64-34-W12-W12-NW-EXC-PUB-RD-RW</td>\n",
       "    </tr>\n",
       "    <tr>\n",
       "      <th>COMM-AT-W1/4-CORN-SEC-22-THEN-N799.94',-W25.72'-TO-POB,-N525.44',-E115.53',-SW257.18',-SW270.03'-TO-POB</th>\n",
       "      <td>COMM-AT-SW-CORN-SEC-27-THEN-N349.23'-TO-POB,-N...</td>\n",
       "    </tr>\n",
       "    <tr>\n",
       "      <th>WALLIS-1ST-ADD-LOTS-1-&amp;-2-BLK-1</th>\n",
       "      <td>WALLIS-1ST-ADD-LOTS-1-&amp;-2-BLK-1-PICKERING,-MO</td>\n",
       "    </tr>\n",
       "    <tr>\n",
       "      <th>RUSSELL'S-ADD-LOTS-5--8-INC-BLK-2-ELMO,-MO</th>\n",
       "      <td>RUSSELLS-ADD-LOTS-5--8-INC-BLK-2-ELMO,-MO</td>\n",
       "    </tr>\n",
       "    <tr>\n",
       "      <th>O.T.-HOPKINS-BOUNDED-BY-THOMPSON-STR-ON-S-&amp;-RR-ON-2ND.-BLK-39</th>\n",
       "      <td>O.T.-HOPKINS-BOUNDED-BY-THOMPSON-STR-ON-S-&amp;-RR...</td>\n",
       "    </tr>\n",
       "    <tr>\n",
       "      <th>18-66-34-SW-NW-EXC-PUB-RD-R/W</th>\n",
       "      <td>18-66-34-SW-NW-EXC-PUB-RD-RW</td>\n",
       "    </tr>\n",
       "    <tr>\n",
       "      <th>00-11-00-LOTS-1-&amp;-2-BLK-11-O.T-BURL.-JCT.</th>\n",
       "      <td>LOTS-1-&amp;-2-BLK-11-O.T-BURL.-JCT.</td>\n",
       "    </tr>\n",
       "    <tr>\n",
       "      <th>HAWKS-1ST-ADD-&amp;-MISC-TR-COM-AT-NE-COR-LOT-2,-BLOCK-5,-TH-S-149',-W-270',-NE-149',-E-261'-TO-POB-NOD.-CO.,-MO.</th>\n",
       "      <td>HAWKS-1ST-ADD-&amp;-MISC-TR-COM-AT-NE-COR-LOT-2,-B...</td>\n",
       "    </tr>\n",
       "  </tbody>\n",
       "</table>\n",
       "</div>"
      ],
      "text/plain": [
       "                                                                               LegalDescMajorityGuess\n",
       "34-64-34-W-1/2-NE-1/4-LYING-S-OF-CO-RD-34-64-34...  34-64-34-W-12-NE-14-LYING-S-OF-CO-RD-34-64-34-...\n",
       "23-66-35-E1/2-NE-&-NE-SE-&-E-3/8-SW-NE-EXC-PUB-...  23-66-35-E12-NE-&-NE-SE-&-E-38-SW-NE-EXC-PUB-R...\n",
       "30-64-34-W1/2-W1/2-NW-EXC-PUB-RD-R/W                                30-64-34-W12-W12-NW-EXC-PUB-RD-RW\n",
       "COMM-AT-W1/4-CORN-SEC-22-THEN-N799.94',-W25.72'...  COMM-AT-SW-CORN-SEC-27-THEN-N349.23'-TO-POB,-N...\n",
       "WALLIS-1ST-ADD-LOTS-1-&-2-BLK-1                         WALLIS-1ST-ADD-LOTS-1-&-2-BLK-1-PICKERING,-MO\n",
       "RUSSELL'S-ADD-LOTS-5--8-INC-BLK-2-ELMO,-MO                  RUSSELLS-ADD-LOTS-5--8-INC-BLK-2-ELMO,-MO\n",
       "O.T.-HOPKINS-BOUNDED-BY-THOMPSON-STR-ON-S-&-RR-...  O.T.-HOPKINS-BOUNDED-BY-THOMPSON-STR-ON-S-&-RR...\n",
       "18-66-34-SW-NW-EXC-PUB-RD-R/W                                            18-66-34-SW-NW-EXC-PUB-RD-RW\n",
       "00-11-00-LOTS-1-&-2-BLK-11-O.T-BURL.-JCT.                            LOTS-1-&-2-BLK-11-O.T-BURL.-JCT.\n",
       "HAWKS-1ST-ADD-&-MISC-TR-COM-AT-NE-COR-LOT-2,-BL...  HAWKS-1ST-ADD-&-MISC-TR-COM-AT-NE-COR-LOT-2,-B..."
      ]
     },
     "execution_count": 1373,
     "metadata": {},
     "output_type": "execute_result"
    },
    {
     "name": "stdout",
     "output_type": "stream",
     "text": [
      "time: 52.5 ms (started: 2022-03-26 16:38:00 -04:00)\n"
     ]
    }
   ],
   "source": []
  },
  {
   "cell_type": "code",
   "execution_count": 1363,
   "id": "51a5da19-73ff-4d21-8c3b-b823a2762af9",
   "metadata": {},
   "outputs": [
    {
     "data": {
      "text/html": [
       "<div>\n",
       "<style scoped>\n",
       "    .dataframe tbody tr th:only-of-type {\n",
       "        vertical-align: middle;\n",
       "    }\n",
       "\n",
       "    .dataframe tbody tr th {\n",
       "        vertical-align: top;\n",
       "    }\n",
       "\n",
       "    .dataframe thead th {\n",
       "        text-align: right;\n",
       "    }\n",
       "</style>\n",
       "<table border=\"1\" class=\"dataframe\">\n",
       "  <thead>\n",
       "    <tr style=\"text-align: right;\">\n",
       "      <th></th>\n",
       "      <th>ratio</th>\n",
       "      <th>1</th>\n",
       "      <th>token_set_ratio</th>\n",
       "      <th>3</th>\n",
       "      <th>WRatio</th>\n",
       "      <th>5</th>\n",
       "      <th>QRatio</th>\n",
       "      <th>7</th>\n",
       "    </tr>\n",
       "  </thead>\n",
       "  <tbody>\n",
       "    <tr>\n",
       "      <th>25-66-38-E16AC-OF-NE-NE</th>\n",
       "      <td>25-66-38-E16AC-OF-NE-NE-NOD-CO-EXC-PUB-RD-RW</td>\n",
       "      <td>69</td>\n",
       "      <td>25-66-38-E16AC-OF-NE-NE-NOD-CO-EXC-PUB-RD-RW</td>\n",
       "      <td>100</td>\n",
       "      <td>25-66-38-E16AC-OF-NE-NE-NOD-CO-EXC-PUB-RD-RW</td>\n",
       "      <td>90</td>\n",
       "      <td>25-66-38-E16AC-OF-NE-NE-NOD-CO-EXC-PUB-RD-RW</td>\n",
       "      <td>69</td>\n",
       "    </tr>\n",
       "    <tr>\n",
       "      <th>POB-IS-383'N-&amp;-24'E-OF-SW-COR-S19-66-36,-N.79'-E.138'-S,79'-W-138-TO-POB</th>\n",
       "      <td>POB-IS-383N-&amp;-24E-OF-SW-COR-S19-66-36,-N.79,-E...</td>\n",
       "      <td>92</td>\n",
       "      <td>POB-IS-383N-&amp;-24E-OF-SW-COR-S19-66-36,-N.79,-E...</td>\n",
       "      <td>93</td>\n",
       "      <td>POB-IS-383N-&amp;-24E-OF-SW-COR-S19-66-36,-N.79,-E...</td>\n",
       "      <td>92</td>\n",
       "      <td>POB-IS-383N-&amp;-24E-OF-SW-COR-S19-66-36,-N.79,-E...</td>\n",
       "      <td>92</td>\n",
       "    </tr>\n",
       "    <tr>\n",
       "      <th>00-11-00-LOTS-1-&amp;-2-BLK-11-O.T-BURL.-JCT.</th>\n",
       "      <td>LOTS-1-&amp;-2-BLK-11-O.T-BURL.-JCT.</td>\n",
       "      <td>87</td>\n",
       "      <td>LOTS-1-&amp;-2-BLK-11-O.T-BURL.-JCT.</td>\n",
       "      <td>100</td>\n",
       "      <td>LOTS-1-&amp;-2-BLK-11-O.T-BURL.-JCT.</td>\n",
       "      <td>95</td>\n",
       "      <td>LOTS-1-&amp;-2-BLK-11-O.T-BURL.-JCT.</td>\n",
       "      <td>87</td>\n",
       "    </tr>\n",
       "    <tr>\n",
       "      <th>SCOTT'S-ADD-LOTS-2,-3-&amp;-4-BLK-4-ELMO</th>\n",
       "      <td>SCOTTS-ADD-LOTS-2,-3-&amp;-4-BLK-4-ELMO</td>\n",
       "      <td>99</td>\n",
       "      <td>SCOTTS-ADD-LOTS-2,-3-&amp;-4-BLK-4-ELMO</td>\n",
       "      <td>95</td>\n",
       "      <td>SCOTTS-ADD-LOTS-2,-3-&amp;-4-BLK-4-ELMO</td>\n",
       "      <td>99</td>\n",
       "      <td>SCOTTS-ADD-LOTS-2,-3-&amp;-4-BLK-4-ELMO</td>\n",
       "      <td>99</td>\n",
       "    </tr>\n",
       "    <tr>\n",
       "      <th>13-64-35-LOT-5-MOZINGO-GREEN-ACRES</th>\n",
       "      <td>1-64-35-RE-PLAT-MOZINGO-LAKE-ESTATES-LOT-9</td>\n",
       "      <td>63</td>\n",
       "      <td>13-64-35-LOT-5-MOZINGO-GREEN-ACRES-COM-NW-COR-...</td>\n",
       "      <td>100</td>\n",
       "      <td>13-64-35-LOT-5-MOZINGO-GREEN-ACRES-COM-NW-COR-...</td>\n",
       "      <td>90</td>\n",
       "      <td>1-64-35-RE-PLAT-MOZINGO-LAKE-ESTATES-LOT-9</td>\n",
       "      <td>63</td>\n",
       "    </tr>\n",
       "    <tr>\n",
       "      <th>18-63-33-NE-NE-N-OF-RR-EXC-PUB-RD-R/W</th>\n",
       "      <td>18-63-33-NE-NE-N-OF-RR-EXC-PUB-RD-RW</td>\n",
       "      <td>99</td>\n",
       "      <td>18-63-33-NE-NE-N-OF-RR-EXC-PUB-RD-RW</td>\n",
       "      <td>99</td>\n",
       "      <td>18-63-33-NE-NE-N-OF-RR-EXC-PUB-RD-RW</td>\n",
       "      <td>99</td>\n",
       "      <td>18-63-33-NE-NE-N-OF-RR-EXC-PUB-RD-RW</td>\n",
       "      <td>99</td>\n",
       "    </tr>\n",
       "    <tr>\n",
       "      <th>SE-1/4-SEC-15-LYING-E-OF-CL-ABANDONED-RR-&amp;-W-OF-COUNTY-RD-EXC-N-1/2-N1/2-SE-1/4</th>\n",
       "      <td>S-14-SE-14,-4-65-37,-LYING-N-&amp;-E-OF-CREEK,-NOD...</td>\n",
       "      <td>56</td>\n",
       "      <td>E-1/2-SE-1/4-SEC-12</td>\n",
       "      <td>90</td>\n",
       "      <td>22-62-33-SW-14-NW-14-EXC-PUB-RD-RW</td>\n",
       "      <td>86</td>\n",
       "      <td>S-14-SE-14,-4-65-37,-LYING-N-&amp;-E-OF-CREEK,-NOD...</td>\n",
       "      <td>56</td>\n",
       "    </tr>\n",
       "    <tr>\n",
       "      <th>RR-R/W-COM-180-W-OF-NE-COR-LOT-1-BLK-54-O.T.-HOPKINS-SW-140'-TH-W-30'-TH-N-120'-TH</th>\n",
       "      <td>RR-RW-COM-180-W-OF-NE-COR-LOT-1-BLK-54-O.T.-HO...</td>\n",
       "      <td>86</td>\n",
       "      <td>RR-RW-COM-180-W-OF-NE-COR-LOT-1-BLK-54-O.T.-HO...</td>\n",
       "      <td>99</td>\n",
       "      <td>RR-RW-COM-180-W-OF-NE-COR-LOT-1-BLK-54-O.T.-HO...</td>\n",
       "      <td>94</td>\n",
       "      <td>RR-RW-COM-180-W-OF-NE-COR-LOT-1-BLK-54-O.T.-HO...</td>\n",
       "      <td>86</td>\n",
       "    </tr>\n",
       "  </tbody>\n",
       "</table>\n",
       "</div>"
      ],
      "text/plain": [
       "                                                                                                ratio  \\\n",
       "25-66-38-E16AC-OF-NE-NE                                  25-66-38-E16AC-OF-NE-NE-NOD-CO-EXC-PUB-RD-RW   \n",
       "POB-IS-383'N-&-24'E-OF-SW-COR-S19-66-36,-N.79'-...  POB-IS-383N-&-24E-OF-SW-COR-S19-66-36,-N.79,-E...   \n",
       "00-11-00-LOTS-1-&-2-BLK-11-O.T-BURL.-JCT.                            LOTS-1-&-2-BLK-11-O.T-BURL.-JCT.   \n",
       "SCOTT'S-ADD-LOTS-2,-3-&-4-BLK-4-ELMO                              SCOTTS-ADD-LOTS-2,-3-&-4-BLK-4-ELMO   \n",
       "13-64-35-LOT-5-MOZINGO-GREEN-ACRES                         1-64-35-RE-PLAT-MOZINGO-LAKE-ESTATES-LOT-9   \n",
       "18-63-33-NE-NE-N-OF-RR-EXC-PUB-RD-R/W                            18-63-33-NE-NE-N-OF-RR-EXC-PUB-RD-RW   \n",
       "SE-1/4-SEC-15-LYING-E-OF-CL-ABANDONED-RR-&-W-OF...  S-14-SE-14,-4-65-37,-LYING-N-&-E-OF-CREEK,-NOD...   \n",
       "RR-R/W-COM-180-W-OF-NE-COR-LOT-1-BLK-54-O.T.-HO...  RR-RW-COM-180-W-OF-NE-COR-LOT-1-BLK-54-O.T.-HO...   \n",
       "\n",
       "                                                     1  \\\n",
       "25-66-38-E16AC-OF-NE-NE                             69   \n",
       "POB-IS-383'N-&-24'E-OF-SW-COR-S19-66-36,-N.79'-...  92   \n",
       "00-11-00-LOTS-1-&-2-BLK-11-O.T-BURL.-JCT.           87   \n",
       "SCOTT'S-ADD-LOTS-2,-3-&-4-BLK-4-ELMO                99   \n",
       "13-64-35-LOT-5-MOZINGO-GREEN-ACRES                  63   \n",
       "18-63-33-NE-NE-N-OF-RR-EXC-PUB-RD-R/W               99   \n",
       "SE-1/4-SEC-15-LYING-E-OF-CL-ABANDONED-RR-&-W-OF...  56   \n",
       "RR-R/W-COM-180-W-OF-NE-COR-LOT-1-BLK-54-O.T.-HO...  86   \n",
       "\n",
       "                                                                                      token_set_ratio  \\\n",
       "25-66-38-E16AC-OF-NE-NE                                  25-66-38-E16AC-OF-NE-NE-NOD-CO-EXC-PUB-RD-RW   \n",
       "POB-IS-383'N-&-24'E-OF-SW-COR-S19-66-36,-N.79'-...  POB-IS-383N-&-24E-OF-SW-COR-S19-66-36,-N.79,-E...   \n",
       "00-11-00-LOTS-1-&-2-BLK-11-O.T-BURL.-JCT.                            LOTS-1-&-2-BLK-11-O.T-BURL.-JCT.   \n",
       "SCOTT'S-ADD-LOTS-2,-3-&-4-BLK-4-ELMO                              SCOTTS-ADD-LOTS-2,-3-&-4-BLK-4-ELMO   \n",
       "13-64-35-LOT-5-MOZINGO-GREEN-ACRES                  13-64-35-LOT-5-MOZINGO-GREEN-ACRES-COM-NW-COR-...   \n",
       "18-63-33-NE-NE-N-OF-RR-EXC-PUB-RD-R/W                            18-63-33-NE-NE-N-OF-RR-EXC-PUB-RD-RW   \n",
       "SE-1/4-SEC-15-LYING-E-OF-CL-ABANDONED-RR-&-W-OF...                                E-1/2-SE-1/4-SEC-12   \n",
       "RR-R/W-COM-180-W-OF-NE-COR-LOT-1-BLK-54-O.T.-HO...  RR-RW-COM-180-W-OF-NE-COR-LOT-1-BLK-54-O.T.-HO...   \n",
       "\n",
       "                                                      3  \\\n",
       "25-66-38-E16AC-OF-NE-NE                             100   \n",
       "POB-IS-383'N-&-24'E-OF-SW-COR-S19-66-36,-N.79'-...   93   \n",
       "00-11-00-LOTS-1-&-2-BLK-11-O.T-BURL.-JCT.           100   \n",
       "SCOTT'S-ADD-LOTS-2,-3-&-4-BLK-4-ELMO                 95   \n",
       "13-64-35-LOT-5-MOZINGO-GREEN-ACRES                  100   \n",
       "18-63-33-NE-NE-N-OF-RR-EXC-PUB-RD-R/W                99   \n",
       "SE-1/4-SEC-15-LYING-E-OF-CL-ABANDONED-RR-&-W-OF...   90   \n",
       "RR-R/W-COM-180-W-OF-NE-COR-LOT-1-BLK-54-O.T.-HO...   99   \n",
       "\n",
       "                                                                                               WRatio  \\\n",
       "25-66-38-E16AC-OF-NE-NE                                  25-66-38-E16AC-OF-NE-NE-NOD-CO-EXC-PUB-RD-RW   \n",
       "POB-IS-383'N-&-24'E-OF-SW-COR-S19-66-36,-N.79'-...  POB-IS-383N-&-24E-OF-SW-COR-S19-66-36,-N.79,-E...   \n",
       "00-11-00-LOTS-1-&-2-BLK-11-O.T-BURL.-JCT.                            LOTS-1-&-2-BLK-11-O.T-BURL.-JCT.   \n",
       "SCOTT'S-ADD-LOTS-2,-3-&-4-BLK-4-ELMO                              SCOTTS-ADD-LOTS-2,-3-&-4-BLK-4-ELMO   \n",
       "13-64-35-LOT-5-MOZINGO-GREEN-ACRES                  13-64-35-LOT-5-MOZINGO-GREEN-ACRES-COM-NW-COR-...   \n",
       "18-63-33-NE-NE-N-OF-RR-EXC-PUB-RD-R/W                            18-63-33-NE-NE-N-OF-RR-EXC-PUB-RD-RW   \n",
       "SE-1/4-SEC-15-LYING-E-OF-CL-ABANDONED-RR-&-W-OF...                 22-62-33-SW-14-NW-14-EXC-PUB-RD-RW   \n",
       "RR-R/W-COM-180-W-OF-NE-COR-LOT-1-BLK-54-O.T.-HO...  RR-RW-COM-180-W-OF-NE-COR-LOT-1-BLK-54-O.T.-HO...   \n",
       "\n",
       "                                                     5  \\\n",
       "25-66-38-E16AC-OF-NE-NE                             90   \n",
       "POB-IS-383'N-&-24'E-OF-SW-COR-S19-66-36,-N.79'-...  92   \n",
       "00-11-00-LOTS-1-&-2-BLK-11-O.T-BURL.-JCT.           95   \n",
       "SCOTT'S-ADD-LOTS-2,-3-&-4-BLK-4-ELMO                99   \n",
       "13-64-35-LOT-5-MOZINGO-GREEN-ACRES                  90   \n",
       "18-63-33-NE-NE-N-OF-RR-EXC-PUB-RD-R/W               99   \n",
       "SE-1/4-SEC-15-LYING-E-OF-CL-ABANDONED-RR-&-W-OF...  86   \n",
       "RR-R/W-COM-180-W-OF-NE-COR-LOT-1-BLK-54-O.T.-HO...  94   \n",
       "\n",
       "                                                                                               QRatio  \\\n",
       "25-66-38-E16AC-OF-NE-NE                                  25-66-38-E16AC-OF-NE-NE-NOD-CO-EXC-PUB-RD-RW   \n",
       "POB-IS-383'N-&-24'E-OF-SW-COR-S19-66-36,-N.79'-...  POB-IS-383N-&-24E-OF-SW-COR-S19-66-36,-N.79,-E...   \n",
       "00-11-00-LOTS-1-&-2-BLK-11-O.T-BURL.-JCT.                            LOTS-1-&-2-BLK-11-O.T-BURL.-JCT.   \n",
       "SCOTT'S-ADD-LOTS-2,-3-&-4-BLK-4-ELMO                              SCOTTS-ADD-LOTS-2,-3-&-4-BLK-4-ELMO   \n",
       "13-64-35-LOT-5-MOZINGO-GREEN-ACRES                         1-64-35-RE-PLAT-MOZINGO-LAKE-ESTATES-LOT-9   \n",
       "18-63-33-NE-NE-N-OF-RR-EXC-PUB-RD-R/W                            18-63-33-NE-NE-N-OF-RR-EXC-PUB-RD-RW   \n",
       "SE-1/4-SEC-15-LYING-E-OF-CL-ABANDONED-RR-&-W-OF...  S-14-SE-14,-4-65-37,-LYING-N-&-E-OF-CREEK,-NOD...   \n",
       "RR-R/W-COM-180-W-OF-NE-COR-LOT-1-BLK-54-O.T.-HO...  RR-RW-COM-180-W-OF-NE-COR-LOT-1-BLK-54-O.T.-HO...   \n",
       "\n",
       "                                                     7  \n",
       "25-66-38-E16AC-OF-NE-NE                             69  \n",
       "POB-IS-383'N-&-24'E-OF-SW-COR-S19-66-36,-N.79'-...  92  \n",
       "00-11-00-LOTS-1-&-2-BLK-11-O.T-BURL.-JCT.           87  \n",
       "SCOTT'S-ADD-LOTS-2,-3-&-4-BLK-4-ELMO                99  \n",
       "13-64-35-LOT-5-MOZINGO-GREEN-ACRES                  63  \n",
       "18-63-33-NE-NE-N-OF-RR-EXC-PUB-RD-R/W               99  \n",
       "SE-1/4-SEC-15-LYING-E-OF-CL-ABANDONED-RR-&-W-OF...  56  \n",
       "RR-R/W-COM-180-W-OF-NE-COR-LOT-1-BLK-54-O.T.-HO...  86  "
      ]
     },
     "execution_count": 1363,
     "metadata": {},
     "output_type": "execute_result"
    },
    {
     "name": "stdout",
     "output_type": "stream",
     "text": [
      "time: 7.23 ms (started: 2022-03-26 16:31:06 -04:00)\n"
     ]
    }
   ],
   "source": [
    "df_legaldesc = df_legaldesc.rename(columns={\n",
    "    0: 'ratio', 2: 'token_set_ratio',  4: 'WRatio', 6: 'QRatio'})\n",
    "df_legaldesc.sample(8)"
   ]
  },
  {
   "cell_type": "code",
   "execution_count": null,
   "id": "1479000b-0d08-4094-bc62-6f5d58efe645",
   "metadata": {},
   "outputs": [],
   "source": []
  },
  {
   "cell_type": "code",
   "execution_count": null,
   "id": "5e1e6bd3-c53e-4256-8e49-f143c42ad0a4",
   "metadata": {},
   "outputs": [],
   "source": [
    "# TODO : VISUAL inspect scorers, and select (multiple scorers for same attribute, then take majority? what if a scorer selection contain repeats?)\n",
    "## and weight multiple attributes"
   ]
  },
  {
   "cell_type": "code",
   "execution_count": 1033,
   "id": "0da91c04-a0be-4eb0-9ed2-c66c02372e28",
   "metadata": {},
   "outputs": [
    {
     "data": {
      "text/plain": [
       "((26992, 139), (25858, 139), (32050, 77), (30778, 77), (14106, 216), True)"
      ]
     },
     "execution_count": 1033,
     "metadata": {},
     "output_type": "execute_result"
    },
    {
     "name": "stdout",
     "output_type": "stream",
     "text": [
      "time: 644 ms (started: 2022-03-24 13:43:12 -04:00)\n"
     ]
    }
   ],
   "source": [
    "# fuzzy match score magic cell:  ! pip install fuzzywuzzy[speedup\n",
    "# https://medium.com/analytics-vidhya/matching-messy-pandas-columns-with-fuzzywuzzy-4adda6c7994f\n",
    "# If doesn't work: install using CLI: pip install fuzzywuzzy and then install python-levenshtein like this: pip install python-Levenshtein (in order to speed the matching process).\n",
    "from fuzzywuzzy import process, fuzz\n",
    "import matplotlib.pyplot as plt\n"
   ]
  },
  {
   "cell_type": "code",
   "execution_count": 18,
   "id": "0207ec76-8565-4445-b855-960715c49fbe",
   "metadata": {},
   "outputs": [
    {
     "name": "stdout",
     "output_type": "stream",
     "text": [
      "time: 437 µs (started: 2022-04-08 09:54:01 -04:00)\n"
     ]
    }
   ],
   "source": [
    "regrid_cols = ['address', 'city', 'county', 'dpv_codes', 'dpv_notes', 'dpv_status', 'dpv_type', 'geometry', 'gisacre', 'lat', 'lbcs_activity', 'lbcs_function', 'lbcs_ownership', 'lbcs_site', 'lbcs_structure', 'legaldesc', 'll_bldg_count', 'll_bldg_footprint_sqft', 'll_gisacre', 'll_uuid', 'lon', 'owner', 'owner2', 'parcelnumb', 'rdi', 'saddno', 'saddpref', 'saddstr', 'saddstsuf', 'saddsttyp', 'saledate', 'saleprice', 'scity', 'sunit', 'szip', 'usps_vacancy']"
   ]
  },
  {
   "cell_type": "code",
   "execution_count": 19,
   "id": "68ce4696-d80e-4839-a1fe-24445d75ed8b",
   "metadata": {
    "tags": []
   },
   "outputs": [
    {
     "name": "stdout",
     "output_type": "stream",
     "text": [
      "time: 281 ms (started: 2022-04-08 09:54:13 -04:00)\n"
     ]
    }
   ],
   "source": [
    "main_df = gp.read_file('/home/nhat/regrid-bucket/tx_kenedy.json')[regrid_cols]"
   ]
  },
  {
   "cell_type": "code",
   "execution_count": 8,
   "id": "417f74ae-ad8e-4e4c-adba-25e4c69daa9d",
   "metadata": {},
   "outputs": [],
   "source": [
    "import pandas as pd\n",
    "attom_cols = [\n",
    "'[ATTOM ID]', \n",
    "'SitusStateCode', # DONT NEED \n",
    "'AreaBuilding', 'AreaBuildingDefinitionCode', 'AreaLotSF', 'BuildingsCount', 'CompanyFlag', \n",
    "'ContactOwnerMailAddressFull', 'ContactOwnerMailAddressInfoFormat', 'GeoQuality', \n",
    "'LegalDescription', 'OwnerTypeDescription1', 'ParcelNumberRaw', 'PartyOwner1NameFull', 'PartyOwner2NameFull', \n",
    "'PartyOwner3NameFull', # DONT NEED\n",
    "'PropertyAddressCity', 'PropertyAddressFull', 'PropertyAddressHouseNumber', \n",
    "'PropertyAddressState',  # DONT NEED\n",
    "'PropertyAddressStreetDirection', 'PropertyAddressStreetName', \n",
    "'PropertyAddressStreetPostDirection', 'PropertyAddressStreetSuffix', 'PropertyAddressUnitPrefix', 'PropertyAddressUnitValue', \n",
    "'PropertyAddressZIP', 'PropertyAddressZIP4', 'PropertyLatitude', 'PropertyLongitude', \n",
    "'PropertyUseGroup', 'PropertyUseStandardized', 'RoomsCount', 'StatusOwnerOccupiedFlag', 'StoriesCount', 'UnitsCount', \n",
    "'TaxMarketValueYear', 'TaxMarketValueImprovements', 'YearBuilt']\n",
    " \n",
    "df = pd.read_json('attom/data/parsed_attom_DC.json',\n",
    "                 orient = 'values', lines = True)\n",
    "df.columns = attom_cols + ['zip_order', 'row_order']"
   ]
  },
  {
   "cell_type": "code",
   "execution_count": 10,
   "id": "491eef76-3813-4a81-9b18-3bc9a66ba3bd",
   "metadata": {},
   "outputs": [
    {
     "data": {
      "text/html": [
       "<div>\n",
       "<style scoped>\n",
       "    .dataframe tbody tr th:only-of-type {\n",
       "        vertical-align: middle;\n",
       "    }\n",
       "\n",
       "    .dataframe tbody tr th {\n",
       "        vertical-align: top;\n",
       "    }\n",
       "\n",
       "    .dataframe thead th {\n",
       "        text-align: right;\n",
       "    }\n",
       "</style>\n",
       "<table border=\"1\" class=\"dataframe\">\n",
       "  <thead>\n",
       "    <tr style=\"text-align: right;\">\n",
       "      <th></th>\n",
       "      <th>SitusStateCode</th>\n",
       "      <th>PropertyAddressState</th>\n",
       "    </tr>\n",
       "  </thead>\n",
       "  <tbody>\n",
       "    <tr>\n",
       "      <th>0</th>\n",
       "      <td>DC</td>\n",
       "      <td>DC</td>\n",
       "    </tr>\n",
       "    <tr>\n",
       "      <th>1</th>\n",
       "      <td>DC</td>\n",
       "      <td>DC</td>\n",
       "    </tr>\n",
       "    <tr>\n",
       "      <th>2</th>\n",
       "      <td>DC</td>\n",
       "      <td>DC</td>\n",
       "    </tr>\n",
       "    <tr>\n",
       "      <th>3</th>\n",
       "      <td>DC</td>\n",
       "      <td>DC</td>\n",
       "    </tr>\n",
       "    <tr>\n",
       "      <th>4</th>\n",
       "      <td>DC</td>\n",
       "      <td>DC</td>\n",
       "    </tr>\n",
       "    <tr>\n",
       "      <th>...</th>\n",
       "      <td>...</td>\n",
       "      <td>...</td>\n",
       "    </tr>\n",
       "    <tr>\n",
       "      <th>213074</th>\n",
       "      <td>DC</td>\n",
       "      <td>DC</td>\n",
       "    </tr>\n",
       "    <tr>\n",
       "      <th>213075</th>\n",
       "      <td>DC</td>\n",
       "      <td>DC</td>\n",
       "    </tr>\n",
       "    <tr>\n",
       "      <th>213076</th>\n",
       "      <td>DC</td>\n",
       "      <td>DC</td>\n",
       "    </tr>\n",
       "    <tr>\n",
       "      <th>213077</th>\n",
       "      <td>DC</td>\n",
       "      <td>DC</td>\n",
       "    </tr>\n",
       "    <tr>\n",
       "      <th>213078</th>\n",
       "      <td>DC</td>\n",
       "      <td>DC</td>\n",
       "    </tr>\n",
       "  </tbody>\n",
       "</table>\n",
       "<p>213079 rows × 2 columns</p>\n",
       "</div>"
      ],
      "text/plain": [
       "       SitusStateCode PropertyAddressState\n",
       "0                  DC                   DC\n",
       "1                  DC                   DC\n",
       "2                  DC                   DC\n",
       "3                  DC                   DC\n",
       "4                  DC                   DC\n",
       "...               ...                  ...\n",
       "213074             DC                   DC\n",
       "213075             DC                   DC\n",
       "213076             DC                   DC\n",
       "213077             DC                   DC\n",
       "213078             DC                   DC\n",
       "\n",
       "[213079 rows x 2 columns]"
      ]
     },
     "execution_count": 10,
     "metadata": {},
     "output_type": "execute_result"
    }
   ],
   "source": [
    "df[['SitusStateCode', 'PropertyAddressState']]"
   ]
  },
  {
   "cell_type": "code",
   "execution_count": null,
   "id": "835108da-063f-4b4a-8fec-b1fef6c49a73",
   "metadata": {},
   "outputs": [],
   "source": []
  }
 ],
 "metadata": {
  "kernelspec": {
   "display_name": "Python 3 (ipykernel)",
   "language": "python",
   "name": "python3"
  },
  "language_info": {
   "codemirror_mode": {
    "name": "ipython",
    "version": 3
   },
   "file_extension": ".py",
   "mimetype": "text/x-python",
   "name": "python",
   "nbconvert_exporter": "python",
   "pygments_lexer": "ipython3",
   "version": "3.9.7"
  }
 },
 "nbformat": 4,
 "nbformat_minor": 5
}
