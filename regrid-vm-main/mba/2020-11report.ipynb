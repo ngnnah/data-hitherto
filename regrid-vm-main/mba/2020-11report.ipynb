{
 "cells": [
  {
   "cell_type": "markdown",
   "id": "d6b13fa0-4485-4a96-957d-20b6ed9b2a65",
   "metadata": {
    "tags": []
   },
   "source": [
    "## MBA Fixed broadband, 11th report\n",
    "\n",
    "The test: between MBA measurement clients and MBA measurement servers.  The measurement clients (i.e., whiteboxes) were situated in the homes of 5,951 panelists, each of whom received service from one of the 10 evaluated ISPs.  *The evaluated ISPs collectively represent over 70% of U.S. residential broadband Internet connections.*  After the measurement data was processed (as described in greater detail in the Technical Appendix), test results from 2,488 panelists were used in this report:\n",
    "- many of the panelists either were not reporting for a sufficient number of days within the measurement period in order to be considered as a statistically significant sample, \n",
    "- or as explained above, there was an insufficient number of panelists in a particular tier or for a particular ISP to produce a statistically valid dataset.\n",
    "\n",
    "\n",
    "The measurement clients collected data throughout the year, and this data is available as described below.  However, only data collected during the “September-October 2020 reporting period,” were used to generate the charts and conclusions in this Report.\n",
    "  - The September-October 2020 data set was validated to remove anomalies that would have produced errors in the Report: The MBA panel sample used in the reporting period is validated (i.e., upload and download tiers of the whiteboxes are verified with providers), and the measurement results are carefully inspected to eliminate any statistical outliers.  This leads to a ‘validated data set’ that accompanies each report. Otherwise, validation cross-checks are not done except in the test period used for the report\n",
    "  -  As tests are run 24x7x365, we also provide raw data (NOTE: subscriber tier mid-month changes may be missed):\n",
    "      - *Handle panelists that changed ISP intra-month*\n",
    "\n",
    "Unless otherwise stated, this Report focuses on performance during peak usage period, which is defined as weeknights between 7:00 p.m. to 11:00 p.m. local time at the subscriber’s location -- which demonstrates what performance users can expect when Internet access services in their local area experience the highest demand from users.\n",
    "  - *The MBA program is focused on ISP network performance... the MBA methodologies/system/measurements are designed to recognize and eliminate such confounding factors outside an access ISP’s control.*\n",
    "\n",
    "\n",
    "\n"
   ]
  },
  {
   "cell_type": "markdown",
   "id": "2a0dda48-b5a9-48e9-bfed-14d625189aab",
   "metadata": {},
   "source": [
    "### FCC MBA Report: Tests initiated by a premise device at participating households. Validated data, and raw collected data are published."
   ]
  },
  {
   "cell_type": "code",
   "execution_count": null,
   "id": "6ef07ed5-ae7b-4ef6-a3aa-701d28704be2",
   "metadata": {},
   "outputs": [],
   "source": [
    "# wget DOWNLOAD SCRIPT\n",
    "\n",
    "# 2020 raw + validated2020sep (contains geocoded-units / \n",
    "for mo in jan feb mar apr may jun jul aug nov dec ; \n",
    "do wget https://data.fcc.gov/download/measuring-broadband-america/2020/data-raw-2020-${mo}.tar.gz & done\n",
    "\n",
    "# VALIDATED data\n",
    "# 2019 : https://www.fcc.gov/reports-research/reports/measuring-broadband-america/validated-data-measuring-fixed-broadband-tenth#validated \n",
    "# UnitID-census-block-sept2019.xls"
   ]
  },
  {
   "cell_type": "code",
   "execution_count": null,
   "id": "7fd2f3b7-fa98-4247-a2c9-baaa68b81bc1",
   "metadata": {},
   "outputs": [],
   "source": [
    "# extract tar ball\n",
    "tar -xvzf name\n",
    "\n",
    "# Validated data\n",
    "UNTAR: \n",
    "    tar -czvf validated-data-sept2020.tar.gz 2020-sep-oct/\n",
    "    \n",
    "# Raw data    \n",
    "for mo in jan feb mar apr may jun jul aug nov dec ; \n",
    "do tar -xvzf data-raw-2020-${mo}.tar.gz & done"
   ]
  },
  {
   "cell_type": "code",
   "execution_count": null,
   "id": "27f957c3-3b60-4032-bf1b-54412235af91",
   "metadata": {},
   "outputs": [],
   "source": [
    "2020, 2021: sep+oct = validated MBA Report\n",
    "https://data.fcc.gov/download/measuring-broadband-america/2021/data-raw-2021-jan.tar.gz\n",
    "...\n",
    "https://data.fcc.gov/download/measuring-broadband-america/2021/data-raw-2021-aug.tar.gz\n",
    "https://data.fcc.gov/download/measuring-broadband-america/2021/data-raw-2021-nov.tar.gz\n",
    "https://data.fcc.gov/download/measuring-broadband-america/2021/data-raw-2021-dec.tar.gz\n",
    "\n",
    "\n",
    "# 2020, sep+oct = Eleventh Report (latest)\n",
    "VALIDATED data: http://data.fcc.gov/download/measuring-broadband-america/2021/validated-data-sept2020.tar.gz\n",
    "https://data.fcc.gov/download/measuring-broadband-america/2020/data-raw-2020-jan.tar.gz\n",
    "...\n",
    "https://data.fcc.gov/download/measuring-broadband-america/2020/data-raw-2020-aug.tar.gz\n",
    "https://data.fcc.gov/download/measuring-broadband-america/2020/data-raw-2020-nov.tar.gz\n",
    "https://data.fcc.gov/download/measuring-broadband-america/2020/data-raw-2020-dec.tar.gz\n",
    "\n",
    "\n",
    "# 2011-2019 (full)\n",
    "https://data.fcc.gov/download/measuring-broadband-america/2019/data-raw-2019-jan.tar.gz\n",
    "...\n",
    "https://data.fcc.gov/download/measuring-broadband-america/2019/data-raw-2019-dec.tar.gz"
   ]
  },
  {
   "cell_type": "code",
   "execution_count": 103,
   "id": "30559d5e-fdea-40e3-a14b-8ec43fc0b817",
   "metadata": {},
   "outputs": [
    {
     "name": "stdout",
     "output_type": "stream",
     "text": [
      "time: 355 µs (started: 2022-03-10 20:58:05 -05:00)\n"
     ]
    }
   ],
   "source": [
    "import pandas as pd\n",
    "%load_ext autotime"
   ]
  },
  {
   "cell_type": "markdown",
   "id": "9820c3c1-c734-4354-a5a0-4fcd6f64fe9a",
   "metadata": {},
   "source": [
    "# 2020 MBA Report"
   ]
  },
  {
   "cell_type": "markdown",
   "id": "82ade1ff-a827-4b86-858e-fbd4de33b70f",
   "metadata": {},
   "source": [
    "## Geocoded units"
   ]
  },
  {
   "cell_type": "markdown",
   "id": "c584b5b1-32a2-4542-85f5-42d5bc4f420f",
   "metadata": {},
   "source": [
    "Geocoded Units\n",
    "This spreadsheet identifies the census block in which each unit running test is located. Census block is from 2000 census and is in the FIPS code format. We have used block FIPS codes for blocks that contains more than 1,000 people. For blocks with less than 1,000 people we have aggregated to the next highest level, i.e. tract and used the Tract FIPS code, provided there are more than 1,000 people in the tract. In cases where there are less than 1,000 people in a tract we have aggregated to County level. This level of anonymization is done for privacy purposes so as not to expose PII"
   ]
  },
  {
   "cell_type": "code",
   "execution_count": 192,
   "id": "cc1d037a-4401-498f-87c2-bf215f2633a0",
   "metadata": {},
   "outputs": [
    {
     "data": {
      "text/plain": [
       "((3634, 5), 3634)"
      ]
     },
     "execution_count": 192,
     "metadata": {},
     "output_type": "execute_result"
    },
    {
     "name": "stdout",
     "output_type": "stream",
     "text": [
      "time: 5.81 ms (started: 2022-03-11 11:43:46 -05:00)\n"
     ]
    }
   ],
   "source": [
    "geocoded = pd.read_csv('data/geocoded-units-sept2020.csv')\n",
    "geocoded.shape, len(set(main.unit_id))"
   ]
  },
  {
   "cell_type": "markdown",
   "id": "1b211da2-7f6a-45a3-b9b3-5b4b82fa513f",
   "metadata": {},
   "source": [
    "## Unit Profile (ISP/services)\n",
    "This document identifies the various details of each test unit, including ISP, technology, service tier, and general location. Each unit represents one volunteer panelist."
   ]
  },
  {
   "cell_type": "code",
   "execution_count": 366,
   "id": "c596893f-f38c-407f-9d5b-75ae882adf14",
   "metadata": {},
   "outputs": [
    {
     "data": {
      "text/plain": [
       "(3634, 5)"
      ]
     },
     "execution_count": 366,
     "metadata": {},
     "output_type": "execute_result"
    },
    {
     "name": "stdout",
     "output_type": "stream",
     "text": [
      "time: 11.8 ms (started: 2022-03-11 16:23:01 -05:00)\n"
     ]
    }
   ],
   "source": [
    "profile = pd.read_csv('data/unit-profile-sept2020.csv')\n",
    "profile = profile.rename(columns={'Unit ID' : 'unit_id'})[['unit_id', 'ISP', 'Technology', 'Download', 'Upload']]\n",
    "profile.shape"
   ]
  },
  {
   "cell_type": "code",
   "execution_count": 205,
   "id": "49598380-4850-4518-93cc-7d28e6dbb9af",
   "metadata": {},
   "outputs": [
    {
     "data": {
      "text/plain": [
       "3634"
      ]
     },
     "execution_count": 205,
     "metadata": {},
     "output_type": "execute_result"
    },
    {
     "name": "stdout",
     "output_type": "stream",
     "text": [
      "time: 2.95 ms (started: 2022-03-11 11:48:49 -05:00)\n"
     ]
    }
   ],
   "source": [
    "len(set(profile.unit_id).intersection(set(geocoded.unit_id)))"
   ]
  },
  {
   "cell_type": "code",
   "execution_count": 206,
   "id": "e87cea31-dc34-4ed0-9881-99f2b8901966",
   "metadata": {},
   "outputs": [
    {
     "data": {
      "text/plain": [
       "({'Download', 'ISP', 'Upload', 'unit_id'},\n",
       " {'geog_id', 'geog_type', 'latitude', 'longitude', 'unit_id'})"
      ]
     },
     "execution_count": 206,
     "metadata": {},
     "output_type": "execute_result"
    },
    {
     "name": "stdout",
     "output_type": "stream",
     "text": [
      "time: 2.07 ms (started: 2022-03-11 11:48:51 -05:00)\n"
     ]
    }
   ],
   "source": [
    "set(profile), set(geocoded)"
   ]
  },
  {
   "cell_type": "markdown",
   "id": "44c8613c-b7ed-4b39-84e8-e363704be261",
   "metadata": {},
   "source": [
    "## List all available files"
   ]
  },
  {
   "cell_type": "code",
   "execution_count": 373,
   "id": "adf10215-31d8-4304-9d1d-980f2563ce4d",
   "metadata": {},
   "outputs": [
    {
     "data": {
      "text/plain": [
       "['data/202001/curr_datausage.csv',\n",
       " 'data/202001/curr_dns.csv',\n",
       " 'data/202001/curr_httpget.csv']"
      ]
     },
     "execution_count": 373,
     "metadata": {},
     "output_type": "execute_result"
    },
    {
     "name": "stdout",
     "output_type": "stream",
     "text": [
      "time: 57.8 ms (started: 2022-03-11 16:29:24 -05:00)\n"
     ]
    }
   ],
   "source": [
    "# Unix Shell command !\n",
    "janFiles = !ls data/202001/*.csv\n",
    "janFiles[:3]"
   ]
  },
  {
   "cell_type": "code",
   "execution_count": 145,
   "id": "7b49e7a2-6fe7-4885-be12-6a565a0a181e",
   "metadata": {},
   "outputs": [
    {
     "name": "stdout",
     "output_type": "stream",
     "text": [
      "curr_datausage.csv   curr_httppostmt6.csv\t   curr_udpcloss.csv\n",
      "curr_dlping.csv      curr_lct_dl.csv\t\t   curr_udpjitter.csv\n",
      "curr_dns.csv\t     curr_lct_dl_intermediate.csv  curr_udplatency.csv\n",
      "curr_httpget.csv     curr_lct_ul.csv\t\t   curr_udplatency6.csv\n",
      "curr_httpgetmt.csv   curr_lct_ul_intermediate.csv  curr_ulping.csv\n",
      "curr_httpgetmt6.csv  curr_netusage.csv\t\t   curr_videostream.csv\n",
      "curr_httppost.csv    curr_ping.csv\t\t   curr_webget.csv\n",
      "curr_httppostmt.csv  curr_traceroute.csv\n",
      "time: 125 ms (started: 2022-03-10 21:58:29 -05:00)\n"
     ]
    }
   ],
   "source": [
    "!ls data/202011/"
   ]
  },
  {
   "cell_type": "code",
   "execution_count": null,
   "id": "d87c5ec4-773c-4402-aea7-bef91a73b789",
   "metadata": {},
   "outputs": [],
   "source": [
    "* 10 months \n",
    "MO10 = ['01', '02', '03', '04', '05', '06', '07', '08', '11', '12']\n",
    "# jan\n",
    "curr_datausage.csv   curr_httppost.csv\t   curr_udpcloss.csv\n",
    "curr_dns.csv\t     curr_httppostmt.csv   curr_udpjitter.csv\n",
    "curr_httpget.csv     curr_httppostmt6.csv  curr_udplatency.csv\n",
    "curr_httpgetmt.csv   curr_ping.csv\t   curr_udplatency6.csv\n",
    "curr_httpgetmt6.csv  curr_traceroute.csv   curr_webget.csv\n",
    "# nov\n",
    "curr_datausage.csv   curr_httppostmt6.csv\t   curr_udpcloss.csv\n",
    "curr_dlping.csv      curr_lct_dl.csv\t\t   curr_udpjitter.csv\n",
    "curr_dns.csv\t     curr_lct_dl_intermediate.csv  curr_udplatency.csv\n",
    "curr_httpget.csv     curr_lct_ul.csv\t\t   curr_udplatency6.csv\n",
    "curr_httpgetmt.csv   curr_lct_ul_intermediate.csv  curr_ulping.csv\n",
    "curr_httpgetmt6.csv  curr_netusage.csv\t\t   curr_videostream.csv\n",
    "curr_httppost.csv    curr_ping.csv\t\t   curr_webget.csv\n",
    "curr_httppostmt.csv  curr_traceroute.csv\n",
    "\n",
    "* Validated SEP + OCT\n",
    "curr_dns.csv\t     curr_httppostmt.csv   curr_udpjitter.csv\n",
    "curr_httpget.csv     curr_httppostmt6.csv  curr_udplatency.csv\n",
    "curr_httpgetmt.csv   curr_ping.csv\t   curr_udplatency6.csv\n",
    "curr_httpgetmt6.csv  curr_ping6.csv\t   curr_webget.csv\n",
    "curr_httppost.csv    curr_udpcloss.csv\n",
    "\n"
   ]
  },
  {
   "cell_type": "markdown",
   "id": "97440f8a-93aa-43b6-b4a3-2e0e3c573db0",
   "metadata": {},
   "source": [
    "# DOWNLOAD"
   ]
  },
  {
   "cell_type": "markdown",
   "id": "d18c0aa7-f17b-4050-a4f9-fd33def51e6e",
   "metadata": {},
   "source": [
    "Validated data: include only data collected from September 2 – 24, 2020 (inclusive) plus September 26 – October 2, 2020 (inclusive), referred to throughout this report as the “September-October 2020 reporting period” "
   ]
  },
  {
   "cell_type": "code",
   "execution_count": null,
   "id": "a51b1f2c-6dc1-41cc-aac6-6815f16437a9",
   "metadata": {},
   "outputs": [],
   "source": [
    "Mbps_to_bytes = 125*10**3\n"
   ]
  },
  {
   "cell_type": "code",
   "execution_count": 147,
   "id": "80fb6b8c-9ab8-4d13-b441-f1a70d6dcf95",
   "metadata": {},
   "outputs": [
    {
     "name": "stdout",
     "output_type": "stream",
     "text": [
      "(1027247, 15) 3589 (1027247, 15) (1027247, 15) (1027247, 15)\n",
      "time: 2.38 s (started: 2022-03-10 22:01:30 -05:00)\n"
     ]
    }
   ],
   "source": [
    "# path = f\"data/2020-sep-oct\"\n",
    "# download_csv_name = 'curr_httpgetmt'\n",
    "# down4Sep = pd.read_csv(f\"{path}/{download_csv_name}.csv\")\n",
    "# down4Sep_suc = down4Sep.query('(threads > 1) & (successes == 1) & (bytes_sec > 0) & (bytes_sec_interval > 0)')\n",
    "# down4Sep_fil = down4Sep_suc.query(f\"((target.str.startswith('samknows')) & (target.str.endswith('level3.net'))) | ((target.str.startswith('sp')) & (target.str.endswith('us.samknows.com')))\")\n",
    "# print(down4Sep.shape, len(set(down4Sep.unit_id)), down4Sep.query('(threads > 1) & (successes == 1)').shape, down4Sep_suc.shape, down4Sep_fil.shape)\n",
    "# down4Sep_fil['download_mbps'] = round(down4Sep_fil.bytes_sec/Mbps_to_bytes, 2)\n",
    "# down4Sep_fil.dtime                   "
   ]
  },
  {
   "cell_type": "markdown",
   "id": "c058a382-aca1-4c64-8e85-e60e591db1a1",
   "metadata": {},
   "source": [
    "The test operates for a fixed duration of 10 seconds. It records the average throughput achieved during this 10 second period. The client attempts to download as much of the payload as possible for the duration of the test.\n",
    "- fetch_time\tTime the test ran for in microseconds \n",
    "- bytes_total\tTotal bytes downloaded across all connections\n",
    "The test uses three concurrent TCP connections (and therefore three concurrent HTTP requests) to ensure that the line is saturated. Each connection used in the test counts the numbers of bytes transferred and is sampled periodically by a controlling thread. The sum of these counters (a value in bytes) divided by the time elapsed (in microseconds) and converted to Mbps is taken as the total throughput of the user’s broadband service.\n",
    "\n",
    "Factors such as TCP slow start and congestion are taken into account by repeatedly transferring small chunks (256 kilobytes, or kB) of the target payload before the real testing begins. This ”warm-up” period is completed when three consecutive chunks are transferred at within 10 percent of the speed of one another. All three connections are required to have completed the warm-up period before the timed testing begins. The warm-up period is excluded from the measurement results.\n",
    "Downloaded content is discarded as soon as it is received, and is not written to the file system. Uploaded content is generated and streamed on the fly from a random source.\n",
    "The test is performed for both IPv4 and IPv6, where available, but only IPv4 results are reported.\n"
   ]
  },
  {
   "cell_type": "code",
   "execution_count": null,
   "id": "165be56c-0833-4a35-b954-9b17e9eecab3",
   "metadata": {},
   "outputs": [],
   "source": [
    "MO10 = ['01', '02', '03', '04', '05', '06', '07', '08', '11', '12']"
   ]
  },
  {
   "cell_type": "code",
   "execution_count": null,
   "id": "f0129964-2dbf-4665-8893-11f3767c0a12",
   "metadata": {
    "tags": []
   },
   "outputs": [],
   "source": [
    "# # curr_httpgetmt6.csv\tDownload speed, IPv6, multiple concurrent TCP connections; USUALLY are just small tables -- dont bother!\n",
    "# janDown6 = pd.read_csv('data/202101/curr_httpgetmt6.csv')\n",
    "# janDown6.shape # (3868, 15)"
   ]
  },
  {
   "cell_type": "code",
   "execution_count": 249,
   "id": "aaacafad-e447-4a60-af45-6d34d166dff7",
   "metadata": {},
   "outputs": [
    {
     "name": "stdout",
     "output_type": "stream",
     "text": [
      "(1430255, 15) 5716 (1249156, 15) (1249156, 15) (962997, 15)\n",
      "(4065, 15) 64 (4058, 15) (4058, 15) (3917, 15)\n",
      "(1462627, 15) 5565 (1274203, 15) (1274203, 15) (976174, 15)\n",
      "(3997, 15) 55 (3997, 15) (3997, 15) (3814, 15)\n",
      "time: 6.48 s (started: 2022-03-11 12:23:12 -05:00)\n"
     ]
    }
   ],
   "source": [
    "down4_csv_name = 'curr_httpgetmt'\n",
    "down6_csv_name = 'curr_httpgetmt6'\n",
    "\n",
    "down_combined = []\n",
    "\n",
    "for mo in ['11', '12']:\n",
    "    path = f\"data/2020{mo}\"\n",
    "\n",
    "    # # Main CONDITIONS\n",
    "    # where ddate between date('2020-09-01') and date('2020-10-31')\n",
    "    # where threads > 1 and ip_version = '4'\n",
    "    # where (successes = 1) and (bytes_sec > 0) and (bytes_sec_interval > 0)\n",
    "    # where target like 'samknows%level3.net' or target like 'sp%-us.samknows.com'\n",
    "    \n",
    "    # IPv4 multiple TCP connections\n",
    "    down4 = pd.read_csv(f'{path}/{down4_csv_name}.csv')\n",
    "    down4_suc = down4.query('(threads > 1) & (successes == 1) & (bytes_sec > 0) & (bytes_sec_interval > 0)')\n",
    "    down4_fil = down4_suc.query(f\"((target.str.startswith('samknows')) & (target.str.endswith('level3.net'))) | ((target.str.startswith('sp')) & (target.str.endswith('us.samknows.com')))\")\n",
    "    print(path, down4.shape, len(set(down4.unit_id)), down4.query('(threads > 1) & (successes == 1)').shape, down4_suc.shape, down4_fil.shape)\n",
    "    \n",
    "    # IPv6 multiple TCP connections :: fewer tests\n",
    "    down6 = pd.read_csv(f'{path}/{down6_csv_name}.csv')\n",
    "    down6_suc = down6.query('(threads > 1) & (successes == 1) & (bytes_sec > 0) & (bytes_sec_interval > 0)')\n",
    "    down6_fil = down6_suc.query(f\"((target.str.startswith('samknows')) & (target.str.endswith('level3.net'))) | ((target.str.startswith('sp')) & (target.str.endswith('us.samknows.com')))\")\n",
    "    print(path, down6.shape, len(set(down6.unit_id)), down6.query('(threads > 1) & (successes == 1)').shape, down6_suc.shape, down6_fil.shape)\n",
    "\n",
    "    down_combined.append(down4_fil[['unit_id', 'bytes_sec']])\n",
    "    down_combined.append(down6_fil[['unit_id', 'bytes_sec']])\n",
    "    \n",
    "    \n",
    "down_combined = pd.concat(down_combined)\n",
    "down_combined['download_mbps'] = round(down_combined.bytes_sec/Mbps_to_bytes, 2)\n",
    "down_combined.shape"
   ]
  },
  {
   "cell_type": "code",
   "execution_count": 214,
   "id": "1e87f369-9507-48fa-a101-0240692638f0",
   "metadata": {},
   "outputs": [
    {
     "name": "stdout",
     "output_type": "stream",
     "text": [
      "time: 470 ms (started: 2022-03-11 12:01:32 -05:00)\n"
     ]
    }
   ],
   "source": [
    "# OPTIONAL: trimmed mean\n",
    "# from scipy.stats import trim_mean\n",
    "# down4_fil.groupby('unit_id')['download_mbps'].apply(trim_mean, .01)"
   ]
  },
  {
   "cell_type": "code",
   "execution_count": 262,
   "id": "632c6e65-d0f7-4397-a328-a21834791396",
   "metadata": {},
   "outputs": [
    {
     "name": "stdout",
     "output_type": "stream",
     "text": [
      "time: 7.06 s (started: 2022-03-11 12:36:46 -05:00)\n"
     ]
    }
   ],
   "source": [
    "down_completed = down_combined.groupby('unit_id')['download_mbps'].describe().round(2)\n",
    "# DOWNLOAD_MBPS_MBA = 'DownloadMbpsMBA'\n",
    "# rename(columns=\n",
    "#                  { 'count': 'numTestDownloadMBA', \n",
    "#                   'mean': f'mean{DOWNLOAD_MBPS_MBA}',  '50%': f'med{DOWNLOAD_MBPS_MBA}',\n",
    "#                   'min': f'min{DOWNLOAD_MBPS_MBA}', 'max' : f'max{DOWNLOAD_MBPS_MBA}'})\n",
    "down_completed = down_completed[['count', 'mean', '50%', 'min', 'max']].add_prefix('down_').reset_index()"
   ]
  },
  {
   "cell_type": "markdown",
   "id": "eaa05cff-0ef6-4ee8-b0c2-5557b0f571ea",
   "metadata": {},
   "source": [
    "# UPLOAD"
   ]
  },
  {
   "cell_type": "code",
   "execution_count": 273,
   "id": "30877a0f-2964-45a9-8b75-8a172dfc2777",
   "metadata": {},
   "outputs": [
    {
     "name": "stdout",
     "output_type": "stream",
     "text": [
      "data/202011 (1425370, 15) 5711 (1236004, 15) (1236004, 15) (952450, 15)\n",
      "data/202011 (4054, 15) 64 (3995, 15) (3995, 15) (3855, 15)\n",
      "data/202012 (1457526, 15) 5560 (1260377, 15) (1260377, 15) (965492, 15)\n",
      "data/202012 (3981, 15) 55 (3966, 15) (3966, 15) (3784, 15)\n"
     ]
    },
    {
     "data": {
      "text/plain": [
       "(1925581, 3)"
      ]
     },
     "execution_count": 273,
     "metadata": {},
     "output_type": "execute_result"
    },
    {
     "name": "stdout",
     "output_type": "stream",
     "text": [
      "time: 6.79 s (started: 2022-03-11 13:12:06 -05:00)\n"
     ]
    }
   ],
   "source": [
    "speed4_csv_name = 'curr_httppostmt'\n",
    "speed6_csv_name = 'curr_httppostmt6'\n",
    "\n",
    "speed_combined = []\n",
    "\n",
    "for mo in ['11', '12']:\n",
    "\n",
    "    path = f\"data/2020{mo}\"\n",
    "\n",
    "    # # Main CONDITIONS\n",
    "    # where ddate between date('2020-09-01') and date('2020-10-31')\n",
    "    # where threads > 1 and ip_version = '4'\n",
    "    # where (successes = 1) and (bytes_sec > 0) and (bytes_sec_interval > 0)\n",
    "    # where target like 'samknows%level3.net' or target like 'sp%-us.samknows.com'\n",
    "\n",
    "    # IPv4 multiple TCP connections\n",
    "    speed4 = pd.read_csv(f'{path}/{speed4_csv_name}.csv')\n",
    "    speed4_suc = speed4.query('(threads > 1) & (successes == 1) & (bytes_sec > 0) & (bytes_sec_interval > 0)')\n",
    "    speed4_fil = speed4_suc.query(f\"((target.str.startswith('samknows')) & (target.str.endswith('level3.net'))) | ((target.str.startswith('sp')) & (target.str.endswith('us.samknows.com')))\")\n",
    "    print(path, speed4.shape, len(set(speed4.unit_id)), speed4.query('(threads > 1) & (successes == 1)').shape, speed4_suc.shape, speed4_fil.shape)\n",
    "\n",
    "    # # IPv6 multiple TCP connections :: fewer tests\n",
    "    speed6 = pd.read_csv(f'{path}/{speed6_csv_name}.csv')\n",
    "    speed6_suc = speed6.query('(threads > 1) & (successes == 1) & (bytes_sec > 0) & (bytes_sec_interval > 0)')\n",
    "    speed6_fil = speed6_suc.query(f\"((target.str.startswith('samknows')) & (target.str.endswith('level3.net'))) | ((target.str.startswith('sp')) & (target.str.endswith('us.samknows.com')))\")\n",
    "    print(path, speed6.shape, len(set(speed6.unit_id)), speed6.query('(threads > 1) & (successes == 1)').shape, speed6_suc.shape, speed6_fil.shape)\n",
    "\n",
    "    speed_combined.append(speed4_fil[['unit_id', 'bytes_sec']])\n",
    "    speed_combined.append(speed6_fil[['unit_id', 'bytes_sec']])\n",
    "    \n",
    "    \n",
    "speed_combined = pd.concat(speed_combined)\n",
    "speed_combined['upload_mbps'] = round(speed_combined.bytes_sec/Mbps_to_bytes, 2)\n",
    "speed_combined.shape"
   ]
  },
  {
   "cell_type": "code",
   "execution_count": 275,
   "id": "34d266e8-f245-4038-8edc-2fef87fae918",
   "metadata": {},
   "outputs": [
    {
     "name": "stdout",
     "output_type": "stream",
     "text": [
      "time: 7.12 s (started: 2022-03-11 13:12:38 -05:00)\n"
     ]
    }
   ],
   "source": [
    "speed_completed = speed_combined.groupby('unit_id')['upload_mbps'].describe().round(2)\n",
    "speed_completed = speed_completed[['count', 'mean', '50%', 'min', 'max']].add_prefix('up_').reset_index()\n",
    "speed_completed.shape"
   ]
  },
  {
   "cell_type": "markdown",
   "id": "417cee62-a780-4b16-ac2e-1865e7b8d204",
   "metadata": {},
   "source": [
    "# LATENCY & PACKAGE LOSS"
   ]
  },
  {
   "cell_type": "markdown",
   "id": "881e8f33-8ccc-4582-aa43-4b00f52287ea",
   "metadata": {},
   "source": [
    "#### OOKLA / MLAB / MBA program: TCP, single or multi-streams?\n",
    "- OOKLA: Speedtest.net operates mainly over **TCP testing** with a HTTP fallback for maximum compatibility. Speedtest.net measures ping (latency), download speed and upload speed.\n",
    "-  Ookla’s Speedtest.net uses *multiple “streams”* or connections, now spread across *multiple nearby and least latent servers*, in an attempt to measure the maximum access link capacity of the ISP’s network. \n",
    "- M-Lab’s NDT test uses *a single stream or connection* to measure the capacity of an end-to-end path from the person running the test to the *geographically closest off-net server* on our platform. NOTE: *Single-stream measurements* do not attempt to emulate a browser, but do reflect the performance of the basic building block for nearly all applications, that is, the single streams themselves. Single stream-measurements like NDT do not measure link capacity, but **a measurement of TCP’s performance. In this sense NDT is a baseline measurement for a connection’s performance.**\n",
    "- And the MBA program uses a *multi-stream test to a single off-net server* that is geographically closest and least latent. i.e. \"Tests to the off-net destinations use the nearest (in terms of latency) server from the Level3, M- Lab and StackPath list of test servers.\"\n",
    "- Multi-stream measurements, such as the one provided by Ookla and the MBA, open up multiple data streams over a user’s connection. This approach is designed to emulate a modern browser. It can also partially mask data delivery problems, such as when one set of streams pick up unused capacity left by another set of streams that are performing poorly due to packet loss or congestion elsewhere in the network. But by overcoming these sorts of problems, multiple streams are able to return measurements closer to link capacity, or the maximum amount of data can fill the link.\n"
   ]
  },
  {
   "cell_type": "markdown",
   "id": "58758e90-1258-4bec-a116-2e5124af5d9a",
   "metadata": {},
   "source": [
    "#### TCP, UDP, and ICMP packet types?\n",
    "- TCP: The Transmission Control Protocol, or TCP, is as OG as it gets. TCP was part of the initial network transmission program that eventually gave way to the Internet Protocol used in modern networking. TCP is widely used for its reliability, ordered nature (the packets are processed in a fixed sequence, not just as they arrive), and error correction. TCP is used for a ton of things, like *email, file transfers, and any other operation where ordered, error-free data is more important than pure speed*. If you’re noticing your FTP traffic is being restricted or blocked, you can start using a trace with TCP to see where along the route FTP is being hindered.\n",
    "- UDP: The User Datagram Protocol, or UDP, is a bit different from what you might expect from a transport protocol. Unlike TCP, UDP is a connectionless communication method. This means UDP datagrams can be sent without establishing a connection between two devices, allowing them to be sent without consideration for rate or sequence. For UDP, the primary focus is *speed*. Since UDP datagrams are coordinated by the application and not the protocol, they can be received and processed as they come. This is critical for things like *video streams or VOIP*, where processing info as fast as possible is more critical than reassembling the data in perfect order.\n",
    "- ICMP: The Internet Control Message Protocol, or ICMP, is a special type of packet used for inter-device communication, carrying everything from *redirect instructions to timestamps for synchronization between devices.* What ICMP is probably best known for is 8echo requests: One device sends out an ICMP packet to another, telling the recipient to send a reply confirming it received the request. The recipient then responds with a new ICMP packet, the echo reply, confirming the request."
   ]
  },
  {
   "cell_type": "markdown",
   "id": "2ac37413-0fe7-4180-ad3b-f1d7109430eb",
   "metadata": {},
   "source": [
    "#### MBA REPORT: CONDITIONS: **UDP latency/loss cleansing**\n",
    "- All test instances (one per hour, per unit) with less than 50 samples (out of a potential maximum of 600) were removed.\n",
    "- All test instances where a unit’s packet loss exceeded 10% within a single hour were removed. Such a high level of loss would render a connection unusable and is considered an anomalous event.\n",
    "- All test instances where any round trip time was reported as 0.5ms (or 500 microseconds) or lower were removed.\n",
    "- NOTE: the curr_udplatency.sql script has a typo: (rtt_min >= 50) (should be 500 microseconds)\n",
    "- All test instances where the range of a unit’s of individual round trip times exceeded 300ms were removed.\n",
    "- Only tests which ran over IPv4 were considered in the analysis.\n",
    "\n",
    "@ curr_udplatency.sql \n",
    "- NOTE: target filters (only include test servers: Level3 and StackPath) where target like 'samknows%level3.net' or target like 'sp%-us.samknows.com'\n",
    "- where (successes >= 50) and (successes >= failures) and (failures / (successes + failures) <= 0.1) and (rtt_min >= 50) and (rtt_max - rtt_min <= 300000) and (rtt_avg > 0)"
   ]
  },
  {
   "cell_type": "markdown",
   "id": "30d75884-60f3-43bb-8872-c4c61d5dc4fa",
   "metadata": {},
   "source": [
    "#### MBA REPORT: UDP Latency and Packet Loss tests\n",
    "- These tests measure the round-trip time of small UDP packets between the Whitebox and a target test node.\n",
    "- If a response packet is not received within three seconds of sending, it is treated as being lost. \n",
    "- The test records the number of packets sent each hour, the average round trip time and the total number of packets lost.\n",
    "- The test computes the summarized minimum, maximum, standard deviation and mean from the lowest 99 percent of results, *effectively trimming the top (i.e., slowest) 1 percent of outliers*. NOTE: hence, **rtt_avg might be < > rtt_min/max**\n",
    "- Approximately two thousand packets are sent within a one-hour period, with fewer packets sent if the line is not idle.\n"
   ]
  },
  {
   "cell_type": "code",
   "execution_count": 304,
   "id": "a961aeb3-881f-4c30-913d-3f3a0bb31b6a",
   "metadata": {},
   "outputs": [
    {
     "name": "stdout",
     "output_type": "stream",
     "text": [
      "data/202011 (7688840, 10) 5768 (7152591, 10) (6919870, 10) (3937631, 10)\n",
      "data/202011 (842896, 10) 1323 (784237, 10) (771352, 10) (757728, 10)\n",
      "data/202012 (7933310, 10) 5632 (7376496, 10) (7129289, 10) (3957332, 10)\n",
      "data/202012 (892829, 10) 1304 (824559, 10) (805913, 10) (792508, 10)\n"
     ]
    },
    {
     "data": {
      "text/plain": [
       "(9445199, 4)"
      ]
     },
     "execution_count": 304,
     "metadata": {},
     "output_type": "execute_result"
    },
    {
     "name": "stdout",
     "output_type": "stream",
     "text": [
      "time: 35.1 s (started: 2022-03-11 14:22:40 -05:00)\n"
     ]
    }
   ],
   "source": [
    "udp4_csv_name = 'curr_udplatency'\n",
    "# IPv6 multiple TCP connections :: fewer tests\n",
    "udp6_csv_name = 'curr_udplatency6'\n",
    "\n",
    "udp_combined = []\n",
    "\n",
    "for mo in ['11', '12']:\n",
    "    for udp_csv_name in [udp4_csv_name, udp6_csv_name]:\n",
    "        path = f\"data/2020{mo}\"\n",
    "\n",
    "        # IPv4 or IPv6 multiple TCP connections\n",
    "        udp4 = pd.read_csv(f'{path}/{udp_csv_name}.csv')\n",
    "        udp4_suc = udp4.query('(successes >= 50) & (successes >= failures) & (failures / (successes + failures) <= 0.1) & (rtt_min >= 500) & (rtt_max - rtt_min <= 300000) & (rtt_avg > 0)')\n",
    "        udp4_fil = udp4_suc.query(f\"((target.str.startswith('samknows')) & (target.str.endswith('level3.net'))) | ((target.str.startswith('sp')) & (target.str.endswith('us.samknows.com')))\")\n",
    "        print(path, udp_csv_name, udp4.shape, len(set(udp4.unit_id)), udp4.query('(successes >= 50) & (successes >= failures) & (failures / (successes + failures) <= 0.1)').shape, udp4_suc.shape, udp4_fil.shape)\n",
    "        udp_combined.append(udp4_fil[['unit_id', 'rtt_avg', 'successes', 'failures']])\n",
    "\n",
    "udp_combined = pd.concat(udp_combined)\n",
    "udp_combined.shape"
   ]
  },
  {
   "cell_type": "code",
   "execution_count": 305,
   "id": "16201e0e-229b-4bc2-aafd-35fac84fdc3a",
   "metadata": {},
   "outputs": [
    {
     "data": {
      "text/html": [
       "<div>\n",
       "<style scoped>\n",
       "    .dataframe tbody tr th:only-of-type {\n",
       "        vertical-align: middle;\n",
       "    }\n",
       "\n",
       "    .dataframe tbody tr th {\n",
       "        vertical-align: top;\n",
       "    }\n",
       "\n",
       "    .dataframe thead th {\n",
       "        text-align: right;\n",
       "    }\n",
       "</style>\n",
       "<table border=\"1\" class=\"dataframe\">\n",
       "  <thead>\n",
       "    <tr style=\"text-align: right;\">\n",
       "      <th></th>\n",
       "      <th>unit_id</th>\n",
       "      <th>rtt_avg</th>\n",
       "      <th>successes</th>\n",
       "      <th>failures</th>\n",
       "    </tr>\n",
       "  </thead>\n",
       "  <tbody>\n",
       "    <tr>\n",
       "      <th>1</th>\n",
       "      <td>386</td>\n",
       "      <td>8704</td>\n",
       "      <td>83</td>\n",
       "      <td>0</td>\n",
       "    </tr>\n",
       "    <tr>\n",
       "      <th>7</th>\n",
       "      <td>386</td>\n",
       "      <td>7868</td>\n",
       "      <td>124</td>\n",
       "      <td>0</td>\n",
       "    </tr>\n",
       "    <tr>\n",
       "      <th>9</th>\n",
       "      <td>386</td>\n",
       "      <td>8017</td>\n",
       "      <td>965</td>\n",
       "      <td>0</td>\n",
       "    </tr>\n",
       "    <tr>\n",
       "      <th>13</th>\n",
       "      <td>386</td>\n",
       "      <td>7900</td>\n",
       "      <td>2064</td>\n",
       "      <td>1</td>\n",
       "    </tr>\n",
       "    <tr>\n",
       "      <th>15</th>\n",
       "      <td>386</td>\n",
       "      <td>8905</td>\n",
       "      <td>2076</td>\n",
       "      <td>0</td>\n",
       "    </tr>\n",
       "    <tr>\n",
       "      <th>...</th>\n",
       "      <td>...</td>\n",
       "      <td>...</td>\n",
       "      <td>...</td>\n",
       "      <td>...</td>\n",
       "    </tr>\n",
       "    <tr>\n",
       "      <th>892824</th>\n",
       "      <td>43088693</td>\n",
       "      <td>3945</td>\n",
       "      <td>1119</td>\n",
       "      <td>0</td>\n",
       "    </tr>\n",
       "    <tr>\n",
       "      <th>892825</th>\n",
       "      <td>43088693</td>\n",
       "      <td>3941</td>\n",
       "      <td>1835</td>\n",
       "      <td>0</td>\n",
       "    </tr>\n",
       "    <tr>\n",
       "      <th>892826</th>\n",
       "      <td>43088693</td>\n",
       "      <td>3979</td>\n",
       "      <td>1563</td>\n",
       "      <td>0</td>\n",
       "    </tr>\n",
       "    <tr>\n",
       "      <th>892827</th>\n",
       "      <td>43088693</td>\n",
       "      <td>3908</td>\n",
       "      <td>376</td>\n",
       "      <td>0</td>\n",
       "    </tr>\n",
       "    <tr>\n",
       "      <th>892828</th>\n",
       "      <td>43088693</td>\n",
       "      <td>3918</td>\n",
       "      <td>1551</td>\n",
       "      <td>0</td>\n",
       "    </tr>\n",
       "  </tbody>\n",
       "</table>\n",
       "<p>9445199 rows × 4 columns</p>\n",
       "</div>"
      ],
      "text/plain": [
       "         unit_id  rtt_avg  successes  failures\n",
       "1            386     8704         83         0\n",
       "7            386     7868        124         0\n",
       "9            386     8017        965         0\n",
       "13           386     7900       2064         1\n",
       "15           386     8905       2076         0\n",
       "...          ...      ...        ...       ...\n",
       "892824  43088693     3945       1119         0\n",
       "892825  43088693     3941       1835         0\n",
       "892826  43088693     3979       1563         0\n",
       "892827  43088693     3908        376         0\n",
       "892828  43088693     3918       1551         0\n",
       "\n",
       "[9445199 rows x 4 columns]"
      ]
     },
     "execution_count": 305,
     "metadata": {},
     "output_type": "execute_result"
    },
    {
     "name": "stdout",
     "output_type": "stream",
     "text": [
      "time: 5.09 ms (started: 2022-03-11 14:23:35 -05:00)\n"
     ]
    }
   ],
   "source": [
    "udp_combined"
   ]
  },
  {
   "cell_type": "code",
   "execution_count": 318,
   "id": "aa65d13e-8862-4afa-bf10-61c7d85971b7",
   "metadata": {},
   "outputs": [
    {
     "name": "stdout",
     "output_type": "stream",
     "text": [
      "time: 580 ms (started: 2022-03-11 14:34:46 -05:00)\n"
     ]
    }
   ],
   "source": [
    "agg_latency_lossrate = {'rtt_avg' : 'mean', 'successes': 'sum', 'failures': 'sum'}\n",
    "udp_completed = udp_combined.groupby('unit_id').agg(agg_latency_lossrate)\n",
    "udp_completed['lossrate'] = round(udp_completed.failures / udp_completed.successes * 100, 2)\n",
    "udp_completed['latency'] = round(udp_completed['rtt_avg'] / 1000, 0).astype(int)\n",
    "udp_completed = udp_completed[['latency', 'lossrate']].reset_index()"
   ]
  },
  {
   "cell_type": "code",
   "execution_count": 320,
   "id": "337c608c-d786-4851-8dd8-e3f548f7f1b5",
   "metadata": {},
   "outputs": [
    {
     "data": {
      "text/html": [
       "<div>\n",
       "<style scoped>\n",
       "    .dataframe tbody tr th:only-of-type {\n",
       "        vertical-align: middle;\n",
       "    }\n",
       "\n",
       "    .dataframe tbody tr th {\n",
       "        vertical-align: top;\n",
       "    }\n",
       "\n",
       "    .dataframe thead th {\n",
       "        text-align: right;\n",
       "    }\n",
       "</style>\n",
       "<table border=\"1\" class=\"dataframe\">\n",
       "  <thead>\n",
       "    <tr style=\"text-align: right;\">\n",
       "      <th></th>\n",
       "      <th>unit_id</th>\n",
       "      <th>latency</th>\n",
       "      <th>lossrate</th>\n",
       "    </tr>\n",
       "  </thead>\n",
       "  <tbody>\n",
       "    <tr>\n",
       "      <th>0</th>\n",
       "      <td>386</td>\n",
       "      <td>8</td>\n",
       "      <td>0.01</td>\n",
       "    </tr>\n",
       "    <tr>\n",
       "      <th>1</th>\n",
       "      <td>390</td>\n",
       "      <td>12</td>\n",
       "      <td>0.02</td>\n",
       "    </tr>\n",
       "    <tr>\n",
       "      <th>2</th>\n",
       "      <td>422</td>\n",
       "      <td>12</td>\n",
       "      <td>0.03</td>\n",
       "    </tr>\n",
       "    <tr>\n",
       "      <th>3</th>\n",
       "      <td>431</td>\n",
       "      <td>7</td>\n",
       "      <td>9.11</td>\n",
       "    </tr>\n",
       "    <tr>\n",
       "      <th>4</th>\n",
       "      <td>447</td>\n",
       "      <td>11</td>\n",
       "      <td>0.02</td>\n",
       "    </tr>\n",
       "    <tr>\n",
       "      <th>...</th>\n",
       "      <td>...</td>\n",
       "      <td>...</td>\n",
       "      <td>...</td>\n",
       "    </tr>\n",
       "    <tr>\n",
       "      <th>5758</th>\n",
       "      <td>41408417</td>\n",
       "      <td>6</td>\n",
       "      <td>0.04</td>\n",
       "    </tr>\n",
       "    <tr>\n",
       "      <th>5759</th>\n",
       "      <td>41504393</td>\n",
       "      <td>35</td>\n",
       "      <td>0.01</td>\n",
       "    </tr>\n",
       "    <tr>\n",
       "      <th>5760</th>\n",
       "      <td>43088693</td>\n",
       "      <td>4</td>\n",
       "      <td>0.00</td>\n",
       "    </tr>\n",
       "    <tr>\n",
       "      <th>5761</th>\n",
       "      <td>45128793</td>\n",
       "      <td>19</td>\n",
       "      <td>0.03</td>\n",
       "    </tr>\n",
       "    <tr>\n",
       "      <th>5762</th>\n",
       "      <td>45564885</td>\n",
       "      <td>33</td>\n",
       "      <td>0.05</td>\n",
       "    </tr>\n",
       "  </tbody>\n",
       "</table>\n",
       "<p>5763 rows × 3 columns</p>\n",
       "</div>"
      ],
      "text/plain": [
       "       unit_id  latency  lossrate\n",
       "0          386        8      0.01\n",
       "1          390       12      0.02\n",
       "2          422       12      0.03\n",
       "3          431        7      9.11\n",
       "4          447       11      0.02\n",
       "...        ...      ...       ...\n",
       "5758  41408417        6      0.04\n",
       "5759  41504393       35      0.01\n",
       "5760  43088693        4      0.00\n",
       "5761  45128793       19      0.03\n",
       "5762  45564885       33      0.05\n",
       "\n",
       "[5763 rows x 3 columns]"
      ]
     },
     "execution_count": 320,
     "metadata": {},
     "output_type": "execute_result"
    },
    {
     "name": "stdout",
     "output_type": "stream",
     "text": [
      "time: 6.87 ms (started: 2022-03-11 14:35:00 -05:00)\n"
     ]
    }
   ],
   "source": [
    "udp_completed"
   ]
  },
  {
   "cell_type": "code",
   "execution_count": 341,
   "id": "c2000be0-3665-4751-a5a4-4cc0694e33f9",
   "metadata": {},
   "outputs": [
    {
     "data": {
      "text/html": [
       "<div>\n",
       "<style scoped>\n",
       "    .dataframe tbody tr th:only-of-type {\n",
       "        vertical-align: middle;\n",
       "    }\n",
       "\n",
       "    .dataframe tbody tr th {\n",
       "        vertical-align: top;\n",
       "    }\n",
       "\n",
       "    .dataframe thead th {\n",
       "        text-align: right;\n",
       "    }\n",
       "</style>\n",
       "<table border=\"1\" class=\"dataframe\">\n",
       "  <thead>\n",
       "    <tr style=\"text-align: right;\">\n",
       "      <th></th>\n",
       "      <th>unit_id</th>\n",
       "      <th>latency</th>\n",
       "      <th>lossrate</th>\n",
       "    </tr>\n",
       "  </thead>\n",
       "  <tbody>\n",
       "    <tr>\n",
       "      <th>count</th>\n",
       "      <td>5.763000e+03</td>\n",
       "      <td>5763.000000</td>\n",
       "      <td>5763.000000</td>\n",
       "    </tr>\n",
       "    <tr>\n",
       "      <th>mean</th>\n",
       "      <td>1.464982e+07</td>\n",
       "      <td>29.600729</td>\n",
       "      <td>0.143699</td>\n",
       "    </tr>\n",
       "    <tr>\n",
       "      <th>std</th>\n",
       "      <td>1.633738e+07</td>\n",
       "      <td>56.846118</td>\n",
       "      <td>0.459525</td>\n",
       "    </tr>\n",
       "    <tr>\n",
       "      <th>min</th>\n",
       "      <td>3.860000e+02</td>\n",
       "      <td>1.000000</td>\n",
       "      <td>0.000000</td>\n",
       "    </tr>\n",
       "    <tr>\n",
       "      <th>25%</th>\n",
       "      <td>6.712180e+05</td>\n",
       "      <td>14.000000</td>\n",
       "      <td>0.020000</td>\n",
       "    </tr>\n",
       "    <tr>\n",
       "      <th>50%</th>\n",
       "      <td>3.880029e+06</td>\n",
       "      <td>22.000000</td>\n",
       "      <td>0.040000</td>\n",
       "    </tr>\n",
       "    <tr>\n",
       "      <th>75%</th>\n",
       "      <td>2.643742e+07</td>\n",
       "      <td>32.000000</td>\n",
       "      <td>0.110000</td>\n",
       "    </tr>\n",
       "    <tr>\n",
       "      <th>max</th>\n",
       "      <td>4.556488e+07</td>\n",
       "      <td>762.000000</td>\n",
       "      <td>10.720000</td>\n",
       "    </tr>\n",
       "  </tbody>\n",
       "</table>\n",
       "</div>"
      ],
      "text/plain": [
       "            unit_id      latency     lossrate\n",
       "count  5.763000e+03  5763.000000  5763.000000\n",
       "mean   1.464982e+07    29.600729     0.143699\n",
       "std    1.633738e+07    56.846118     0.459525\n",
       "min    3.860000e+02     1.000000     0.000000\n",
       "25%    6.712180e+05    14.000000     0.020000\n",
       "50%    3.880029e+06    22.000000     0.040000\n",
       "75%    2.643742e+07    32.000000     0.110000\n",
       "max    4.556488e+07   762.000000    10.720000"
      ]
     },
     "execution_count": 341,
     "metadata": {},
     "output_type": "execute_result"
    },
    {
     "name": "stdout",
     "output_type": "stream",
     "text": [
      "time: 11.9 ms (started: 2022-03-11 15:05:39 -05:00)\n"
     ]
    }
   ],
   "source": [
    "udp_completed.describe()"
   ]
  },
  {
   "cell_type": "markdown",
   "id": "3e662f65-ccf7-49d4-a2ed-b239ffd3ba07",
   "metadata": {},
   "source": [
    "# jitter"
   ]
  },
  {
   "cell_type": "markdown",
   "id": "8c34be5f-3b8d-4666-a526-08f0ff1e0685",
   "metadata": {},
   "source": [
    "*The Voice over IP (VoIP)* test operates over UDP and utilizes bidirectional traffic, as is typical for voice calls. The test measures jitter, delay, and loss. **Jitter is calculated using the Packet Delay Variation (PDV)**. The 99th percentile is recorded and used in all calculations when deriving the PDV.\n",
    "\n",
    "#### File: curr_udpjitter.csv , fields:\n",
    "- jitter_down\tDownstream Jitter measured (Units microseconds)\n",
    "- jitter_up\tUpstream Jitter measured (Units: microseconds)\n",
    "- latency\t99th percentile of round trip times for all packets\n",
    "- successes\tNumber of successes (always 1 or 0 for this test)\n",
    "- failures\tNumber of failures (always 1 or 0 for this test)\n",
    "\n",
    "#### CONDITIONS\n",
    "- where target like 'samknows%level3.net' or target like 'sp%-us.samknows.com'\n",
    "- where (successes > 0) and (jitter_up > 0) and (jitter_down > 0)"
   ]
  },
  {
   "cell_type": "code",
   "execution_count": 330,
   "id": "fa507750-55bd-4fa9-a81e-8e90b833e949",
   "metadata": {},
   "outputs": [
    {
     "name": "stdout",
     "output_type": "stream",
     "text": [
      "data/202011 curr_udpjitter (6541753, 16) 5701 (6541753, 16) (6327191, 16) (6273968, 16)\n",
      "data/202012 curr_udpjitter (6607214, 16) 5562 (6607214, 16) (6387793, 16) (6331518, 16)\n"
     ]
    },
    {
     "data": {
      "text/plain": [
       "(12605486, 5)"
      ]
     },
     "execution_count": 330,
     "metadata": {},
     "output_type": "execute_result"
    },
    {
     "name": "stdout",
     "output_type": "stream",
     "text": [
      "time: 33 s (started: 2022-03-11 14:58:18 -05:00)\n"
     ]
    }
   ],
   "source": [
    "jitter_csv_name = 'curr_udpjitter'\n",
    "jitter_combined = []\n",
    "\n",
    "for mo in ['11', '12']:\n",
    "\n",
    "    path = f\"data/2020{mo}\"\n",
    "\n",
    "    jitter = pd.read_csv(f'{path}/{jitter_csv_name}.csv')\n",
    "    jitter_suc = jitter.query('(successes >= 0) & (jitter_up > 0) & (jitter_down > 0)')\n",
    "    jitter_fil = jitter_suc.query(f\"((target.str.startswith('samknows')) & (target.str.endswith('level3.net'))) | ((target.str.startswith('sp')) & (target.str.endswith('us.samknows.com')))\")\n",
    "    print(path, jitter_csv_name, jitter.shape, len(set(jitter.unit_id)), jitter.query('(successes >= 0)').shape, jitter_suc.shape, jitter_fil.shape)\n",
    "    jitter_combined.append(jitter_fil[['unit_id', 'jitter_down', 'latency', 'successes', 'failures']])\n",
    "\n",
    "jitter_combined = pd.concat(jitter_combined)\n",
    "jitter_combined.shape"
   ]
  },
  {
   "cell_type": "code",
   "execution_count": null,
   "id": "0ed34a17-2225-43a7-b7e8-9bfb2d08ed11",
   "metadata": {},
   "outputs": [
    {
     "data": {
      "text/html": [
       "<div>\n",
       "<style scoped>\n",
       "    .dataframe tbody tr th:only-of-type {\n",
       "        vertical-align: middle;\n",
       "    }\n",
       "\n",
       "    .dataframe tbody tr th {\n",
       "        vertical-align: top;\n",
       "    }\n",
       "\n",
       "    .dataframe thead th {\n",
       "        text-align: right;\n",
       "    }\n",
       "</style>\n",
       "<table border=\"1\" class=\"dataframe\">\n",
       "  <thead>\n",
       "    <tr style=\"text-align: right;\">\n",
       "      <th></th>\n",
       "      <th>unit_id</th>\n",
       "      <th>jitter_down</th>\n",
       "      <th>latency</th>\n",
       "      <th>successes</th>\n",
       "      <th>failures</th>\n",
       "    </tr>\n",
       "  </thead>\n",
       "  <tbody>\n",
       "    <tr>\n",
       "      <th>0</th>\n",
       "      <td>386</td>\n",
       "      <td>761</td>\n",
       "      <td>9332</td>\n",
       "      <td>1</td>\n",
       "      <td>0</td>\n",
       "    </tr>\n",
       "    <tr>\n",
       "      <th>1</th>\n",
       "      <td>386</td>\n",
       "      <td>743</td>\n",
       "      <td>8482</td>\n",
       "      <td>1</td>\n",
       "      <td>0</td>\n",
       "    </tr>\n",
       "    <tr>\n",
       "      <th>2</th>\n",
       "      <td>386</td>\n",
       "      <td>756</td>\n",
       "      <td>8313</td>\n",
       "      <td>1</td>\n",
       "      <td>0</td>\n",
       "    </tr>\n",
       "    <tr>\n",
       "      <th>3</th>\n",
       "      <td>386</td>\n",
       "      <td>753</td>\n",
       "      <td>8241</td>\n",
       "      <td>1</td>\n",
       "      <td>0</td>\n",
       "    </tr>\n",
       "    <tr>\n",
       "      <th>4</th>\n",
       "      <td>386</td>\n",
       "      <td>762</td>\n",
       "      <td>9225</td>\n",
       "      <td>1</td>\n",
       "      <td>0</td>\n",
       "    </tr>\n",
       "    <tr>\n",
       "      <th>...</th>\n",
       "      <td>...</td>\n",
       "      <td>...</td>\n",
       "      <td>...</td>\n",
       "      <td>...</td>\n",
       "      <td>...</td>\n",
       "    </tr>\n",
       "    <tr>\n",
       "      <th>6607209</th>\n",
       "      <td>45128793</td>\n",
       "      <td>307</td>\n",
       "      <td>33706</td>\n",
       "      <td>1</td>\n",
       "      <td>0</td>\n",
       "    </tr>\n",
       "    <tr>\n",
       "      <th>6607210</th>\n",
       "      <td>45128793</td>\n",
       "      <td>243</td>\n",
       "      <td>17918</td>\n",
       "      <td>1</td>\n",
       "      <td>0</td>\n",
       "    </tr>\n",
       "    <tr>\n",
       "      <th>6607211</th>\n",
       "      <td>45128793</td>\n",
       "      <td>302</td>\n",
       "      <td>18261</td>\n",
       "      <td>1</td>\n",
       "      <td>0</td>\n",
       "    </tr>\n",
       "    <tr>\n",
       "      <th>6607212</th>\n",
       "      <td>45128793</td>\n",
       "      <td>342</td>\n",
       "      <td>20033</td>\n",
       "      <td>1</td>\n",
       "      <td>0</td>\n",
       "    </tr>\n",
       "    <tr>\n",
       "      <th>6607213</th>\n",
       "      <td>45128793</td>\n",
       "      <td>287</td>\n",
       "      <td>17660</td>\n",
       "      <td>1</td>\n",
       "      <td>0</td>\n",
       "    </tr>\n",
       "  </tbody>\n",
       "</table>\n",
       "<p>12605486 rows × 5 columns</p>\n",
       "</div>"
      ],
      "text/plain": [
       "          unit_id  jitter_down  latency  successes  failures\n",
       "0             386          761     9332          1         0\n",
       "1             386          743     8482          1         0\n",
       "2             386          756     8313          1         0\n",
       "3             386          753     8241          1         0\n",
       "4             386          762     9225          1         0\n",
       "...           ...          ...      ...        ...       ...\n",
       "6607209  45128793          307    33706          1         0\n",
       "6607210  45128793          243    17918          1         0\n",
       "6607211  45128793          302    18261          1         0\n",
       "6607212  45128793          342    20033          1         0\n",
       "6607213  45128793          287    17660          1         0\n",
       "\n",
       "[12605486 rows x 5 columns]"
      ]
     },
     "execution_count": 331,
     "metadata": {},
     "output_type": "execute_result"
    },
    {
     "name": "stdout",
     "output_type": "stream",
     "text": [
      "time: 5.67 ms (started: 2022-03-11 14:59:23 -05:00)\n"
     ]
    }
   ],
   "source": [
    "jitter_combined"
   ]
  },
  {
   "cell_type": "code",
   "execution_count": 342,
   "id": "36d3491d-f813-449c-9656-4ebddfe84104",
   "metadata": {},
   "outputs": [
    {
     "name": "stdout",
     "output_type": "stream",
     "text": [
      "time: 459 ms (started: 2022-03-11 15:07:35 -05:00)\n"
     ]
    }
   ],
   "source": [
    "agg_jitter = {'jitter_down' : 'mean', 'latency' : 'mean', 'successes': 'sum', 'failures': 'sum'}\n",
    "jitter_completed = jitter_combined.groupby('unit_id').agg(agg_jitter)\n",
    "# Convert microseconds to milliseconds\n",
    "jitter_completed['jitter_down'] = round(jitter_completed['jitter_down'] / 1000, 2)\n",
    "\n",
    "# jitter_completed['lossrate'] = round(jitter_completed.failures / jitter_completed.successes * 100, 2)\n",
    "# jitter_completed['latency'] = round(jitter_completed['latency'] / 1000, 0).astype(int)\n",
    "# jitter_completed = jitter_completed[['jitter_down', 'latency', 'lossrate']].reset_index()\n",
    "\n",
    "jitter_completed = jitter_completed[['jitter_down']].reset_index()"
   ]
  },
  {
   "cell_type": "code",
   "execution_count": 343,
   "id": "0abe2b2b-2c60-4b81-8bfd-b51574423aae",
   "metadata": {},
   "outputs": [
    {
     "data": {
      "text/html": [
       "<div>\n",
       "<style scoped>\n",
       "    .dataframe tbody tr th:only-of-type {\n",
       "        vertical-align: middle;\n",
       "    }\n",
       "\n",
       "    .dataframe tbody tr th {\n",
       "        vertical-align: top;\n",
       "    }\n",
       "\n",
       "    .dataframe thead th {\n",
       "        text-align: right;\n",
       "    }\n",
       "</style>\n",
       "<table border=\"1\" class=\"dataframe\">\n",
       "  <thead>\n",
       "    <tr style=\"text-align: right;\">\n",
       "      <th></th>\n",
       "      <th>unit_id</th>\n",
       "      <th>jitter_down</th>\n",
       "    </tr>\n",
       "  </thead>\n",
       "  <tbody>\n",
       "    <tr>\n",
       "      <th>0</th>\n",
       "      <td>386</td>\n",
       "      <td>0.88</td>\n",
       "    </tr>\n",
       "    <tr>\n",
       "      <th>1</th>\n",
       "      <td>390</td>\n",
       "      <td>1.04</td>\n",
       "    </tr>\n",
       "    <tr>\n",
       "      <th>2</th>\n",
       "      <td>422</td>\n",
       "      <td>0.77</td>\n",
       "    </tr>\n",
       "    <tr>\n",
       "      <th>3</th>\n",
       "      <td>431</td>\n",
       "      <td>1.76</td>\n",
       "    </tr>\n",
       "    <tr>\n",
       "      <th>4</th>\n",
       "      <td>447</td>\n",
       "      <td>1.15</td>\n",
       "    </tr>\n",
       "    <tr>\n",
       "      <th>...</th>\n",
       "      <td>...</td>\n",
       "      <td>...</td>\n",
       "    </tr>\n",
       "    <tr>\n",
       "      <th>5729</th>\n",
       "      <td>41408417</td>\n",
       "      <td>0.27</td>\n",
       "    </tr>\n",
       "    <tr>\n",
       "      <th>5730</th>\n",
       "      <td>41504393</td>\n",
       "      <td>0.57</td>\n",
       "    </tr>\n",
       "    <tr>\n",
       "      <th>5731</th>\n",
       "      <td>43088693</td>\n",
       "      <td>0.06</td>\n",
       "    </tr>\n",
       "    <tr>\n",
       "      <th>5732</th>\n",
       "      <td>45128793</td>\n",
       "      <td>0.37</td>\n",
       "    </tr>\n",
       "    <tr>\n",
       "      <th>5733</th>\n",
       "      <td>45564885</td>\n",
       "      <td>0.49</td>\n",
       "    </tr>\n",
       "  </tbody>\n",
       "</table>\n",
       "<p>5734 rows × 2 columns</p>\n",
       "</div>"
      ],
      "text/plain": [
       "       unit_id  jitter_down\n",
       "0          386         0.88\n",
       "1          390         1.04\n",
       "2          422         0.77\n",
       "3          431         1.76\n",
       "4          447         1.15\n",
       "...        ...          ...\n",
       "5729  41408417         0.27\n",
       "5730  41504393         0.57\n",
       "5731  43088693         0.06\n",
       "5732  45128793         0.37\n",
       "5733  45564885         0.49\n",
       "\n",
       "[5734 rows x 2 columns]"
      ]
     },
     "execution_count": 343,
     "metadata": {},
     "output_type": "execute_result"
    },
    {
     "name": "stdout",
     "output_type": "stream",
     "text": [
      "time: 5.56 ms (started: 2022-03-11 15:07:36 -05:00)\n"
     ]
    }
   ],
   "source": [
    "jitter_completed"
   ]
  },
  {
   "cell_type": "code",
   "execution_count": 344,
   "id": "0c8f4df9-10be-4123-9ee4-f956975db7cd",
   "metadata": {},
   "outputs": [
    {
     "data": {
      "text/html": [
       "<div>\n",
       "<style scoped>\n",
       "    .dataframe tbody tr th:only-of-type {\n",
       "        vertical-align: middle;\n",
       "    }\n",
       "\n",
       "    .dataframe tbody tr th {\n",
       "        vertical-align: top;\n",
       "    }\n",
       "\n",
       "    .dataframe thead th {\n",
       "        text-align: right;\n",
       "    }\n",
       "</style>\n",
       "<table border=\"1\" class=\"dataframe\">\n",
       "  <thead>\n",
       "    <tr style=\"text-align: right;\">\n",
       "      <th></th>\n",
       "      <th>unit_id</th>\n",
       "      <th>jitter_down</th>\n",
       "    </tr>\n",
       "  </thead>\n",
       "  <tbody>\n",
       "    <tr>\n",
       "      <th>count</th>\n",
       "      <td>5.734000e+03</td>\n",
       "      <td>5734.000000</td>\n",
       "    </tr>\n",
       "    <tr>\n",
       "      <th>mean</th>\n",
       "      <td>1.463248e+07</td>\n",
       "      <td>1.755457</td>\n",
       "    </tr>\n",
       "    <tr>\n",
       "      <th>std</th>\n",
       "      <td>1.634352e+07</td>\n",
       "      <td>11.834538</td>\n",
       "    </tr>\n",
       "    <tr>\n",
       "      <th>min</th>\n",
       "      <td>3.860000e+02</td>\n",
       "      <td>0.030000</td>\n",
       "    </tr>\n",
       "    <tr>\n",
       "      <th>25%</th>\n",
       "      <td>6.703775e+05</td>\n",
       "      <td>0.290000</td>\n",
       "    </tr>\n",
       "    <tr>\n",
       "      <th>50%</th>\n",
       "      <td>3.873183e+06</td>\n",
       "      <td>0.510000</td>\n",
       "    </tr>\n",
       "    <tr>\n",
       "      <th>75%</th>\n",
       "      <td>2.643742e+07</td>\n",
       "      <td>1.010000</td>\n",
       "    </tr>\n",
       "    <tr>\n",
       "      <th>max</th>\n",
       "      <td>4.556488e+07</td>\n",
       "      <td>796.500000</td>\n",
       "    </tr>\n",
       "  </tbody>\n",
       "</table>\n",
       "</div>"
      ],
      "text/plain": [
       "            unit_id  jitter_down\n",
       "count  5.734000e+03  5734.000000\n",
       "mean   1.463248e+07     1.755457\n",
       "std    1.634352e+07    11.834538\n",
       "min    3.860000e+02     0.030000\n",
       "25%    6.703775e+05     0.290000\n",
       "50%    3.873183e+06     0.510000\n",
       "75%    2.643742e+07     1.010000\n",
       "max    4.556488e+07   796.500000"
      ]
     },
     "execution_count": 344,
     "metadata": {},
     "output_type": "execute_result"
    },
    {
     "name": "stdout",
     "output_type": "stream",
     "text": [
      "time: 9.55 ms (started: 2022-03-11 15:07:44 -05:00)\n"
     ]
    }
   ],
   "source": [
    "jitter_completed.describe()"
   ]
  },
  {
   "cell_type": "markdown",
   "id": "18ebec77-bc4b-48d2-9d67-29b4f19dee1f",
   "metadata": {},
   "source": [
    "## main/merged/combined df"
   ]
  },
  {
   "cell_type": "code",
   "execution_count": 367,
   "id": "ee45fbab-d8df-4c79-8346-349cf5df1cbf",
   "metadata": {},
   "outputs": [
    {
     "data": {
      "text/plain": [
       "((3634, 9), (3423, 14), (3422, 19), (3421, 21), (3419, 22))"
      ]
     },
     "execution_count": 367,
     "metadata": {},
     "output_type": "execute_result"
    },
    {
     "name": "stdout",
     "output_type": "stream",
     "text": [
      "time: 66.1 ms (started: 2022-03-11 16:23:15 -05:00)\n"
     ]
    }
   ],
   "source": [
    "# geocoded and profiled\n",
    "main = geocoded.merge(profile, on='unit_id', how='inner')\n",
    "# with download speeds\n",
    "main1 = main.merge(down_completed, on='unit_id', how='inner')\n",
    "# with upload speeds\n",
    "main2 = main1.merge(speed_completed, on='unit_id', how='inner')\n",
    "# with latency & lossrate\n",
    "main3 = main2.merge(udp_completed, on='unit_id', how='inner')\n",
    "# with jitter\n",
    "main4 = main3.merge(jitter_completed, on='unit_id', how='inner')\n",
    "\n",
    "main.shape, main1.shape, main2.shape, main3.shape, main4.shape"
   ]
  },
  {
   "cell_type": "code",
   "execution_count": 368,
   "id": "ab67eb55-675d-4032-b9c9-5ee570367952",
   "metadata": {},
   "outputs": [
    {
     "data": {
      "text/html": [
       "<div>\n",
       "<style scoped>\n",
       "    .dataframe tbody tr th:only-of-type {\n",
       "        vertical-align: middle;\n",
       "    }\n",
       "\n",
       "    .dataframe tbody tr th {\n",
       "        vertical-align: top;\n",
       "    }\n",
       "\n",
       "    .dataframe thead th {\n",
       "        text-align: right;\n",
       "    }\n",
       "</style>\n",
       "<table border=\"1\" class=\"dataframe\">\n",
       "  <thead>\n",
       "    <tr style=\"text-align: right;\">\n",
       "      <th></th>\n",
       "      <th>unit_id</th>\n",
       "      <th>geog_id</th>\n",
       "      <th>geog_type</th>\n",
       "      <th>latitude</th>\n",
       "      <th>longitude</th>\n",
       "      <th>ISP</th>\n",
       "      <th>Technology</th>\n",
       "      <th>Download</th>\n",
       "      <th>Upload</th>\n",
       "      <th>down_count</th>\n",
       "      <th>...</th>\n",
       "      <th>down_min</th>\n",
       "      <th>down_max</th>\n",
       "      <th>up_count</th>\n",
       "      <th>up_mean</th>\n",
       "      <th>up_50%</th>\n",
       "      <th>up_min</th>\n",
       "      <th>up_max</th>\n",
       "      <th>latency</th>\n",
       "      <th>lossrate</th>\n",
       "      <th>jitter_down</th>\n",
       "    </tr>\n",
       "  </thead>\n",
       "  <tbody>\n",
       "    <tr>\n",
       "      <th>0</th>\n",
       "      <td>447</td>\n",
       "      <td>42003473100</td>\n",
       "      <td>tract</td>\n",
       "      <td>40.391591</td>\n",
       "      <td>-80.049656</td>\n",
       "      <td>Verizon</td>\n",
       "      <td>Fiber</td>\n",
       "      <td>75.0</td>\n",
       "      <td>75.000</td>\n",
       "      <td>355.0</td>\n",
       "      <td>...</td>\n",
       "      <td>4.23</td>\n",
       "      <td>86.37</td>\n",
       "      <td>348.0</td>\n",
       "      <td>88.59</td>\n",
       "      <td>88.76</td>\n",
       "      <td>81.54</td>\n",
       "      <td>89.14</td>\n",
       "      <td>11</td>\n",
       "      <td>0.02</td>\n",
       "      <td>1.15</td>\n",
       "    </tr>\n",
       "    <tr>\n",
       "      <th>1</th>\n",
       "      <td>477</td>\n",
       "      <td>340076033014</td>\n",
       "      <td>blockgroup</td>\n",
       "      <td>39.935827</td>\n",
       "      <td>-75.020504</td>\n",
       "      <td>Verizon</td>\n",
       "      <td>Fiber</td>\n",
       "      <td>50.0</td>\n",
       "      <td>50.000</td>\n",
       "      <td>349.0</td>\n",
       "      <td>...</td>\n",
       "      <td>47.67</td>\n",
       "      <td>57.23</td>\n",
       "      <td>347.0</td>\n",
       "      <td>62.68</td>\n",
       "      <td>62.72</td>\n",
       "      <td>55.32</td>\n",
       "      <td>63.29</td>\n",
       "      <td>13</td>\n",
       "      <td>0.01</td>\n",
       "      <td>0.94</td>\n",
       "    </tr>\n",
       "    <tr>\n",
       "      <th>2</th>\n",
       "      <td>522</td>\n",
       "      <td>511539014031</td>\n",
       "      <td>blockgroup</td>\n",
       "      <td>38.766116</td>\n",
       "      <td>-77.501589</td>\n",
       "      <td>Verizon</td>\n",
       "      <td>Fiber</td>\n",
       "      <td>50.0</td>\n",
       "      <td>50.000</td>\n",
       "      <td>334.0</td>\n",
       "      <td>...</td>\n",
       "      <td>48.72</td>\n",
       "      <td>57.22</td>\n",
       "      <td>333.0</td>\n",
       "      <td>62.69</td>\n",
       "      <td>62.73</td>\n",
       "      <td>53.55</td>\n",
       "      <td>63.11</td>\n",
       "      <td>13</td>\n",
       "      <td>0.01</td>\n",
       "      <td>0.89</td>\n",
       "    </tr>\n",
       "    <tr>\n",
       "      <th>3</th>\n",
       "      <td>562</td>\n",
       "      <td>4013108400</td>\n",
       "      <td>tract</td>\n",
       "      <td>33.501323</td>\n",
       "      <td>-112.022745</td>\n",
       "      <td>Cox</td>\n",
       "      <td>Cable</td>\n",
       "      <td>10.0</td>\n",
       "      <td>1.000</td>\n",
       "      <td>247.0</td>\n",
       "      <td>...</td>\n",
       "      <td>7.40</td>\n",
       "      <td>11.95</td>\n",
       "      <td>246.0</td>\n",
       "      <td>0.94</td>\n",
       "      <td>0.95</td>\n",
       "      <td>0.64</td>\n",
       "      <td>1.20</td>\n",
       "      <td>22</td>\n",
       "      <td>0.20</td>\n",
       "      <td>1.28</td>\n",
       "    </tr>\n",
       "    <tr>\n",
       "      <th>4</th>\n",
       "      <td>566</td>\n",
       "      <td>330110195021</td>\n",
       "      <td>blockgroup</td>\n",
       "      <td>42.897465</td>\n",
       "      <td>-71.679147</td>\n",
       "      <td>Comcast</td>\n",
       "      <td>Cable</td>\n",
       "      <td>100.0</td>\n",
       "      <td>5.000</td>\n",
       "      <td>317.0</td>\n",
       "      <td>...</td>\n",
       "      <td>22.57</td>\n",
       "      <td>118.79</td>\n",
       "      <td>309.0</td>\n",
       "      <td>5.53</td>\n",
       "      <td>6.00</td>\n",
       "      <td>3.30</td>\n",
       "      <td>6.26</td>\n",
       "      <td>20</td>\n",
       "      <td>0.04</td>\n",
       "      <td>0.85</td>\n",
       "    </tr>\n",
       "    <tr>\n",
       "      <th>...</th>\n",
       "      <td>...</td>\n",
       "      <td>...</td>\n",
       "      <td>...</td>\n",
       "      <td>...</td>\n",
       "      <td>...</td>\n",
       "      <td>...</td>\n",
       "      <td>...</td>\n",
       "      <td>...</td>\n",
       "      <td>...</td>\n",
       "      <td>...</td>\n",
       "      <td>...</td>\n",
       "      <td>...</td>\n",
       "      <td>...</td>\n",
       "      <td>...</td>\n",
       "      <td>...</td>\n",
       "      <td>...</td>\n",
       "      <td>...</td>\n",
       "      <td>...</td>\n",
       "      <td>...</td>\n",
       "      <td>...</td>\n",
       "      <td>...</td>\n",
       "    </tr>\n",
       "    <tr>\n",
       "      <th>3414</th>\n",
       "      <td>26226661</td>\n",
       "      <td>13</td>\n",
       "      <td>state</td>\n",
       "      <td>33.410677</td>\n",
       "      <td>-83.891248</td>\n",
       "      <td>Windstream</td>\n",
       "      <td>DSL</td>\n",
       "      <td>50.0</td>\n",
       "      <td>1.500</td>\n",
       "      <td>113.0</td>\n",
       "      <td>...</td>\n",
       "      <td>15.00</td>\n",
       "      <td>42.35</td>\n",
       "      <td>110.0</td>\n",
       "      <td>1.69</td>\n",
       "      <td>1.72</td>\n",
       "      <td>1.24</td>\n",
       "      <td>1.86</td>\n",
       "      <td>20</td>\n",
       "      <td>0.07</td>\n",
       "      <td>0.53</td>\n",
       "    </tr>\n",
       "    <tr>\n",
       "      <th>3415</th>\n",
       "      <td>996187</td>\n",
       "      <td>29</td>\n",
       "      <td>state</td>\n",
       "      <td>38.432921</td>\n",
       "      <td>-92.234929</td>\n",
       "      <td>Windstream</td>\n",
       "      <td>DSL</td>\n",
       "      <td>12.0</td>\n",
       "      <td>1.000</td>\n",
       "      <td>331.0</td>\n",
       "      <td>...</td>\n",
       "      <td>8.37</td>\n",
       "      <td>13.23</td>\n",
       "      <td>327.0</td>\n",
       "      <td>1.29</td>\n",
       "      <td>1.29</td>\n",
       "      <td>0.91</td>\n",
       "      <td>1.40</td>\n",
       "      <td>41</td>\n",
       "      <td>0.25</td>\n",
       "      <td>0.73</td>\n",
       "    </tr>\n",
       "    <tr>\n",
       "      <th>3416</th>\n",
       "      <td>3898121</td>\n",
       "      <td>19</td>\n",
       "      <td>state</td>\n",
       "      <td>41.936630</td>\n",
       "      <td>-93.037218</td>\n",
       "      <td>Windstream</td>\n",
       "      <td>DSL</td>\n",
       "      <td>10.0</td>\n",
       "      <td>1.000</td>\n",
       "      <td>357.0</td>\n",
       "      <td>...</td>\n",
       "      <td>6.96</td>\n",
       "      <td>11.11</td>\n",
       "      <td>359.0</td>\n",
       "      <td>1.07</td>\n",
       "      <td>1.07</td>\n",
       "      <td>0.96</td>\n",
       "      <td>1.15</td>\n",
       "      <td>31</td>\n",
       "      <td>0.08</td>\n",
       "      <td>0.92</td>\n",
       "    </tr>\n",
       "    <tr>\n",
       "      <th>3417</th>\n",
       "      <td>32833393</td>\n",
       "      <td>21</td>\n",
       "      <td>state</td>\n",
       "      <td>37.838308</td>\n",
       "      <td>-85.261296</td>\n",
       "      <td>Windstream</td>\n",
       "      <td>DSL</td>\n",
       "      <td>10.0</td>\n",
       "      <td>1.000</td>\n",
       "      <td>110.0</td>\n",
       "      <td>...</td>\n",
       "      <td>3.79</td>\n",
       "      <td>11.07</td>\n",
       "      <td>103.0</td>\n",
       "      <td>1.05</td>\n",
       "      <td>1.06</td>\n",
       "      <td>0.92</td>\n",
       "      <td>1.14</td>\n",
       "      <td>32</td>\n",
       "      <td>0.39</td>\n",
       "      <td>2.98</td>\n",
       "    </tr>\n",
       "    <tr>\n",
       "      <th>3418</th>\n",
       "      <td>26226677</td>\n",
       "      <td>40</td>\n",
       "      <td>state</td>\n",
       "      <td>35.606866</td>\n",
       "      <td>-96.854171</td>\n",
       "      <td>Windstream</td>\n",
       "      <td>DSL</td>\n",
       "      <td>3.0</td>\n",
       "      <td>0.768</td>\n",
       "      <td>301.0</td>\n",
       "      <td>...</td>\n",
       "      <td>0.90</td>\n",
       "      <td>2.94</td>\n",
       "      <td>300.0</td>\n",
       "      <td>0.61</td>\n",
       "      <td>0.61</td>\n",
       "      <td>0.43</td>\n",
       "      <td>0.66</td>\n",
       "      <td>33</td>\n",
       "      <td>0.41</td>\n",
       "      <td>2.51</td>\n",
       "    </tr>\n",
       "  </tbody>\n",
       "</table>\n",
       "<p>3419 rows × 22 columns</p>\n",
       "</div>"
      ],
      "text/plain": [
       "       unit_id       geog_id   geog_type   latitude   longitude         ISP  \\\n",
       "0          447   42003473100       tract  40.391591  -80.049656     Verizon   \n",
       "1          477  340076033014  blockgroup  39.935827  -75.020504     Verizon   \n",
       "2          522  511539014031  blockgroup  38.766116  -77.501589     Verizon   \n",
       "3          562    4013108400       tract  33.501323 -112.022745         Cox   \n",
       "4          566  330110195021  blockgroup  42.897465  -71.679147     Comcast   \n",
       "...        ...           ...         ...        ...         ...         ...   \n",
       "3414  26226661            13       state  33.410677  -83.891248  Windstream   \n",
       "3415    996187            29       state  38.432921  -92.234929  Windstream   \n",
       "3416   3898121            19       state  41.936630  -93.037218  Windstream   \n",
       "3417  32833393            21       state  37.838308  -85.261296  Windstream   \n",
       "3418  26226677            40       state  35.606866  -96.854171  Windstream   \n",
       "\n",
       "     Technology  Download  Upload  down_count  ...  down_min  down_max  \\\n",
       "0         Fiber      75.0  75.000       355.0  ...      4.23     86.37   \n",
       "1         Fiber      50.0  50.000       349.0  ...     47.67     57.23   \n",
       "2         Fiber      50.0  50.000       334.0  ...     48.72     57.22   \n",
       "3         Cable      10.0   1.000       247.0  ...      7.40     11.95   \n",
       "4         Cable     100.0   5.000       317.0  ...     22.57    118.79   \n",
       "...         ...       ...     ...         ...  ...       ...       ...   \n",
       "3414        DSL      50.0   1.500       113.0  ...     15.00     42.35   \n",
       "3415        DSL      12.0   1.000       331.0  ...      8.37     13.23   \n",
       "3416        DSL      10.0   1.000       357.0  ...      6.96     11.11   \n",
       "3417        DSL      10.0   1.000       110.0  ...      3.79     11.07   \n",
       "3418        DSL       3.0   0.768       301.0  ...      0.90      2.94   \n",
       "\n",
       "      up_count  up_mean  up_50%  up_min  up_max  latency  lossrate  \\\n",
       "0        348.0    88.59   88.76   81.54   89.14       11      0.02   \n",
       "1        347.0    62.68   62.72   55.32   63.29       13      0.01   \n",
       "2        333.0    62.69   62.73   53.55   63.11       13      0.01   \n",
       "3        246.0     0.94    0.95    0.64    1.20       22      0.20   \n",
       "4        309.0     5.53    6.00    3.30    6.26       20      0.04   \n",
       "...        ...      ...     ...     ...     ...      ...       ...   \n",
       "3414     110.0     1.69    1.72    1.24    1.86       20      0.07   \n",
       "3415     327.0     1.29    1.29    0.91    1.40       41      0.25   \n",
       "3416     359.0     1.07    1.07    0.96    1.15       31      0.08   \n",
       "3417     103.0     1.05    1.06    0.92    1.14       32      0.39   \n",
       "3418     300.0     0.61    0.61    0.43    0.66       33      0.41   \n",
       "\n",
       "      jitter_down  \n",
       "0            1.15  \n",
       "1            0.94  \n",
       "2            0.89  \n",
       "3            1.28  \n",
       "4            0.85  \n",
       "...           ...  \n",
       "3414         0.53  \n",
       "3415         0.73  \n",
       "3416         0.92  \n",
       "3417         2.98  \n",
       "3418         2.51  \n",
       "\n",
       "[3419 rows x 22 columns]"
      ]
     },
     "execution_count": 368,
     "metadata": {},
     "output_type": "execute_result"
    },
    {
     "name": "stdout",
     "output_type": "stream",
     "text": [
      "time: 20.8 ms (started: 2022-03-11 16:23:17 -05:00)\n"
     ]
    }
   ],
   "source": [
    "main4"
   ]
  },
  {
   "cell_type": "code",
   "execution_count": 369,
   "id": "a08ae5c6-1835-4667-b508-b4ae3ed02826",
   "metadata": {},
   "outputs": [
    {
     "name": "stdout",
     "output_type": "stream",
     "text": [
      "time: 5.03 ms (started: 2022-03-11 16:27:37 -05:00)\n"
     ]
    }
   ],
   "source": [
    "# def percentage_change(col1,col2):\n",
    "#     return ((col2 - col1) / col1) * 100\n",
    "# # numTest down and up are similar\n",
    "# percentage_change(main4['down_count'], main4['up_count']).describe()    \n",
    "# Thus, we can safely average(down_count, up_count) = proxy numTest\n",
    "main4['numTest'] = main4[['down_count', 'up_count']].mean(axis = 1).astype(int)\n",
    "main5 = main4.drop(columns = ['down_count', 'up_count'])\n",
    "# This should never happen, as down_count and up_count always >= 1 . \n",
    "# But just in case cheat: if astype coerce 0.5 to 0, round it up to 1, so numTestMBA don't show up = 0, which is weird!\n",
    "main5['numTest'] = main5['numTest'].replace(0, 1)"
   ]
  },
  {
   "cell_type": "code",
   "execution_count": 370,
   "id": "dc65ec21-3092-4c6d-9f05-3963a1f85e2e",
   "metadata": {},
   "outputs": [
    {
     "name": "stdout",
     "output_type": "stream",
     "text": [
      "time: 31.5 ms (started: 2022-03-11 16:27:40 -05:00)\n"
     ]
    }
   ],
   "source": [
    "main5.to_csv('completed2020Q4.csv', index= False)"
   ]
  },
  {
   "cell_type": "markdown",
   "id": "c9864eb1-ecb9-4869-a994-c3fe50c5fecd",
   "metadata": {},
   "source": [
    "# Technology >> ISP >> Service tier: Stats"
   ]
  },
  {
   "cell_type": "code",
   "execution_count": 372,
   "id": "fdbd2bb3-0a34-4a7a-ba46-f3ed69dcf9c3",
   "metadata": {},
   "outputs": [
    {
     "data": {
      "text/plain": [
       "array(['Fiber', 'Cable', 'DSL'], dtype=object)"
      ]
     },
     "execution_count": 372,
     "metadata": {},
     "output_type": "execute_result"
    },
    {
     "name": "stdout",
     "output_type": "stream",
     "text": [
      "time: 2.29 ms (started: 2022-03-11 16:27:47 -05:00)\n"
     ]
    }
   ],
   "source": [
    "# 'Fiber', 'Cable', 'DSL'\n",
    "main5.Technology.unique()"
   ]
  },
  {
   "cell_type": "code",
   "execution_count": null,
   "id": "9956f0da-bcd9-443a-ae1d-57b33ea9061e",
   "metadata": {},
   "outputs": [],
   "source": []
  },
  {
   "cell_type": "code",
   "execution_count": null,
   "id": "f296939b-bba4-4fdb-be65-fbe4779faba1",
   "metadata": {},
   "outputs": [],
   "source": []
  },
  {
   "cell_type": "code",
   "execution_count": null,
   "id": "8a99613e-28d8-4e91-b4b8-031daf055cb5",
   "metadata": {},
   "outputs": [],
   "source": []
  },
  {
   "cell_type": "code",
   "execution_count": null,
   "id": "3869b417-bb93-49a7-938f-28e65fcf56a2",
   "metadata": {},
   "outputs": [],
   "source": []
  }
 ],
 "metadata": {
  "kernelspec": {
   "display_name": "Python 3 (ipykernel)",
   "language": "python",
   "name": "python3"
  },
  "language_info": {
   "codemirror_mode": {
    "name": "ipython",
    "version": 3
   },
   "file_extension": ".py",
   "mimetype": "text/x-python",
   "name": "python",
   "nbconvert_exporter": "python",
   "pygments_lexer": "ipython3",
   "version": "3.9.7"
  }
 },
 "nbformat": 4,
 "nbformat_minor": 5
}
