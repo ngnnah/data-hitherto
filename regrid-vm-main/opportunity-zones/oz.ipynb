{
 "cells": [
  {
   "cell_type": "code",
   "execution_count": 3,
   "id": "0177d0aa-bfe8-47ba-8ff6-1f4e2a292973",
   "metadata": {
    "execution": {
     "iopub.execute_input": "2022-04-29T03:22:51.847525Z",
     "iopub.status.busy": "2022-04-29T03:22:51.847178Z",
     "iopub.status.idle": "2022-04-29T03:22:51.860832Z",
     "shell.execute_reply": "2022-04-29T03:22:51.860401Z",
     "shell.execute_reply.started": "2022-04-29T03:22:51.847498Z"
    },
    "tags": []
   },
   "outputs": [],
   "source": [
    "from keplergl import KeplerGl\n",
    "import geopandas as gp\n",
    "import pandas as pd\n",
    "import numpy as np\n",
    "from multiprocessing import Pool\n",
    "from elasticsearch import Elasticsearch, helpers\n",
    "\n",
    "STATE_LENGTH, COUNTY_LENGTH, CT_LENGTH, CBG_LENGTH, CB_LENGTH = 2, 5, 11, 12, 15\n",
    "# Port 9243 vs 443: https://stackoverflow.com/questions/53829218/why-does-elastic-cloud-provides-a-specialized-port-9243-instead-of-only-using\n",
    "ES_DEV = Elasticsearch(['https://3d6a9dd50c7c49c9ab5d23b6891bc03e.us-central1.gcp.cloud.es.io:443'], \n",
    "                    http_auth=('elastic', 'WMzYk5RXyzE7MRShwPVwHzPX'), timeout=30, max_retries=10, retry_on_timeout=True)\n",
    "### Should start with with SF57 (before, SF52 only) # 50 states + DC + 6 territories (PR, VI, AS, GU, MP, UM): the more data coverage the better\n",
    "SF57 = {'01': 'AL', '02': 'AK', '04': 'AZ', '05': 'AR', '06': 'CA', '08': 'CO', '09': 'CT', '10': 'DE', '11': 'DC', '12': 'FL', '13': 'GA', '15': 'HI', '16': 'ID', '17': 'IL', '18': 'IN', '19': 'IA', '20': 'KS', '21': 'KY', '22': 'LA', '23': 'ME', '24': 'MD', '25': 'MA', '26': 'MI', '27': 'MN', '28': 'MS', '29': 'MO', '30': 'MT', '31': 'NE', '32': 'NV', '33': 'NH', '34': 'NJ', '35': 'NM', '36': 'NY', '37': 'NC', '38': 'ND', '39': 'OH', '40': 'OK', '41': 'OR', '42': 'PA', '44': 'RI', '45': 'SC', '46': 'SD', '47': 'TN', '48': 'TX', '49': 'UT', '50': 'VT', '51': 'VA', '53': 'WA', '54': 'WV', '55': 'WI', '56': 'WY', '60': 'AS', '66': 'GU', '69': 'MP', '72': 'PR', '74': 'UM', '78': 'VI'}\n",
    "SF57R = {value : key for (key, value) in SF57.items()}\n",
    "# 50 states + DC + PR + VI\n",
    "SF53 = {'01': 'AL', '02': 'AK', '04': 'AZ', '05': 'AR', '06': 'CA', '08': 'CO', '09': 'CT', '10': 'DE', '11': 'DC', '12': 'FL', '13': 'GA', '15': 'HI', '16': 'ID', '17': 'IL', '18': 'IN', '19': 'IA', '20': 'KS', '21': 'KY', '22': 'LA', '23': 'ME', '24': 'MD', '25': 'MA', '26': 'MI', '27': 'MN', '28': 'MS', '29': 'MO', '30': 'MT', '31': 'NE', '32': 'NV', '33': 'NH', '34': 'NJ', '35': 'NM', '36': 'NY', '37': 'NC', '38': 'ND', '39': 'OH', '40': 'OK', '41': 'OR', '42': 'PA', '44': 'RI', '45': 'SC', '46': 'SD', '47': 'TN', '48': 'TX', '49': 'UT', '50': 'VT', '51': 'VA', '53': 'WA', '54': 'WV', '55': 'WI', '56': 'WY', '72': 'PR', '78': 'VI'}\n",
    "SF53R = {value : key for (key, value) in SF53.items()}\n",
    "# 50 states + DC + PR\n",
    "SF52 = {'01': 'AL', '02': 'AK', '04': 'AZ', '05': 'AR', '06': 'CA', '08': 'CO', '09': 'CT', '10': 'DE', '11': 'DC', '12': 'FL', '13': 'GA', '15': 'HI', '16': 'ID', '17': 'IL', '18': 'IN', '19': 'IA', '20': 'KS', '21': 'KY', '22': 'LA', '23': 'ME', '24': 'MD', '25': 'MA', '26': 'MI', '27': 'MN', '28': 'MS', '29': 'MO', '30': 'MT', '31': 'NE', '32': 'NV', '33': 'NH', '34': 'NJ', '35': 'NM', '36': 'NY', '37': 'NC', '38': 'ND', '39': 'OH', '40': 'OK', '41': 'OR', '42': 'PA', '44': 'RI', '45': 'SC', '46': 'SD', '47': 'TN', '48': 'TX', '49': 'UT', '50': 'VT', '51': 'VA', '53': 'WA', '54': 'WV', '55': 'WI', '56': 'WY', '72': 'PR'}\n",
    "SF52R = {value : key for (key, value) in SF52.items()}\n",
    "# 50 states + DC\n",
    "SF51 = {'01': 'AL', '02': 'AK', '04': 'AZ', '05': 'AR', '06': 'CA', '08': 'CO', '09': 'CT', '10': 'DE', '11': 'DC', '12': 'FL', '13': 'GA', '15': 'HI', '16': 'ID', '17': 'IL', '18': 'IN', '19': 'IA', '20': 'KS', '21': 'KY', '22': 'LA', '23': 'ME', '24': 'MD', '25': 'MA', '26': 'MI', '27': 'MN', '28': 'MS', '29': 'MO', '30': 'MT', '31': 'NE', '32': 'NV', '33': 'NH', '34': 'NJ', '35': 'NM', '36': 'NY', '37': 'NC', '38': 'ND', '39': 'OH', '40': 'OK', '41': 'OR', '42': 'PA', '44': 'RI', '45': 'SC', '46': 'SD', '47': 'TN', '48': 'TX', '49': 'UT', '50': 'VT', '51': 'VA', '53': 'WA', '54': 'WV', '55': 'WI', '56': 'WY'}\n",
    "SF51R = {value : key for (key, value) in SF51.items()}"
   ]
  },
  {
   "cell_type": "markdown",
   "id": "f0184ff3-47c0-4a13-a768-09f2e0aa52f2",
   "metadata": {},
   "source": [
    "# 8764 OZs total, as of Notice 2019-42, July 2019!\n",
    "- https://www.cdfifund.gov/sites/cdfi/files/documents/designated-qozs.12.14.18.xlsx : provide OZ Tract Type, either:\n",
    "    - Low-Income Community\n",
    "    - Non-LIC Contiguous\n",
    "- TIGER: provides shapefiles"
   ]
  },
  {
   "cell_type": "markdown",
   "id": "58cb779f-df92-4df3-87f5-f3290a99239f",
   "metadata": {},
   "source": [
    "# Overlay to confirm OZ tracts are subset of 2019 census tracts (same shapes)"
   ]
  },
  {
   "cell_type": "code",
   "execution_count": null,
   "id": "f3b1e282-8241-4902-91ed-36fad0027bf5",
   "metadata": {},
   "outputs": [
    {
     "data": {
      "text/plain": [
       "((8764, 4), geopandas.geodataframe.GeoDataFrame)"
      ]
     },
     "execution_count": 46,
     "metadata": {},
     "output_type": "execute_result"
    }
   ],
   "source": [
    "df_geom = gp.read_file(\"https://www.cdfifund.gov/sites/cdfi/files/documents/opportunity-zones=8764.-9-10-2019.zip\")\n",
    "df_geom = df_geom.sort_values(['STATENAME', 'COUNTYNAME'])\n",
    "df_geom.shape, type(df_geom)"
   ]
  },
  {
   "cell_type": "code",
   "execution_count": 315,
   "id": "1560b8a4-c4cd-4eae-a7b4-504a99067df4",
   "metadata": {
    "execution": {
     "iopub.execute_input": "2022-04-25T22:22:54.298190Z",
     "iopub.status.busy": "2022-04-25T22:22:54.297922Z",
     "iopub.status.idle": "2022-04-25T22:22:54.306904Z",
     "shell.execute_reply": "2022-04-25T22:22:54.306379Z",
     "shell.execute_reply.started": "2022-04-25T22:22:54.298168Z"
    },
    "tags": []
   },
   "outputs": [
    {
     "data": {
      "text/plain": [
       "(geopandas.geodataframe.GeoDataFrame, (20, 4))"
      ]
     },
     "execution_count": 315,
     "metadata": {},
     "output_type": "execute_result"
    }
   ],
   "source": [
    "# OZ: alabama tracts geom\n",
    "# al_oz = df_geom.query(\"STATENAME == 'Alabama'\").copy()\n",
    "oz_mp = df_geom.query(\"STATENAME == 'Northern Mariana Islands'\").copy()\n",
    "type(oz_mp), oz_mp.shape"
   ]
  },
  {
   "cell_type": "code",
   "execution_count": 317,
   "id": "81dc5216-128a-47b4-8b9f-d909da6c6c6d",
   "metadata": {
    "execution": {
     "iopub.execute_input": "2022-04-25T22:23:30.598817Z",
     "iopub.status.busy": "2022-04-25T22:23:30.598554Z",
     "iopub.status.idle": "2022-04-25T22:23:30.936733Z",
     "shell.execute_reply": "2022-04-25T22:23:30.936348Z",
     "shell.execute_reply.started": "2022-04-25T22:23:30.598791Z"
    },
    "tags": []
   },
   "outputs": [
    {
     "data": {
      "text/plain": [
       "(geopandas.geodataframe.GeoDataFrame, (25, 13))"
      ]
     },
     "execution_count": 317,
     "metadata": {},
     "output_type": "execute_result"
    }
   ],
   "source": [
    "# TIGER: all census tracts geom\n",
    "# al_tracts = gp.read_file('https://www2.census.gov/geo/tiger/TIGER2019/TRACT/tl_2019_01_tract.zip')\n",
    "tiger_mp = gp.read_file('https://www2.census.gov/geo/tiger/TIGER2019/TRACT/tl_2019_69_tract.zip')\n",
    "type(tiger_mp), tiger_mp.shape"
   ]
  },
  {
   "cell_type": "code",
   "execution_count": 318,
   "id": "f8464aa5-1102-4551-85d0-83be353acf29",
   "metadata": {
    "execution": {
     "iopub.execute_input": "2022-04-25T22:23:32.081414Z",
     "iopub.status.busy": "2022-04-25T22:23:32.081096Z",
     "iopub.status.idle": "2022-04-25T22:23:32.325540Z",
     "shell.execute_reply": "2022-04-25T22:23:32.325119Z",
     "shell.execute_reply.started": "2022-04-25T22:23:32.081388Z"
    },
    "tags": []
   },
   "outputs": [
    {
     "name": "stdout",
     "output_type": "stream",
     "text": [
      "User Guide: https://docs.kepler.gl/docs/keplergl-jupyter\n"
     ]
    },
    {
     "data": {
      "application/vnd.jupyter.widget-view+json": {
       "model_id": "44e3e38394754c15900c1980a50f9bc8",
       "version_major": 2,
       "version_minor": 0
      },
      "text/plain": [
       "KeplerGl(data={'oz': {'index': [2694, 2695, 2696, 2697, 2698, 2699, 2700, 2701, 2702, 2703, 2704, 2705, 2706, …"
      ]
     },
     "metadata": {},
     "output_type": "display_data"
    }
   ],
   "source": [
    "map1 = KeplerGl(height = 500)\n",
    "map1.add_data(data=oz_mp[['CENSUSTRAC', 'geometry']], name='oz')\n",
    "map1.add_data(data=tiger_mp[['GEOID', 'geometry']], name='all')\n",
    "map1"
   ]
  },
  {
   "cell_type": "markdown",
   "id": "668b8f7b-c753-4e73-9fa0-8acf27f1842f",
   "metadata": {},
   "source": [
    "### CONCLUSION: same tracts! "
   ]
  },
  {
   "cell_type": "markdown",
   "id": "66020ff1-edef-4511-a710-08f5cb4a07f0",
   "metadata": {},
   "source": [
    "## UPDATE bossdata mapping"
   ]
  },
  {
   "cell_type": "code",
   "execution_count": 477,
   "id": "886e1429-7954-487c-b5ad-53ddfd8dae28",
   "metadata": {
    "execution": {
     "iopub.execute_input": "2022-04-26T03:03:38.405364Z",
     "iopub.status.busy": "2022-04-26T03:03:38.404872Z",
     "iopub.status.idle": "2022-04-26T03:03:38.412375Z",
     "shell.execute_reply": "2022-04-26T03:03:38.411981Z",
     "shell.execute_reply.started": "2022-04-26T03:03:38.405342Z"
    },
    "tags": []
   },
   "outputs": [],
   "source": [
    "### DOWNLOAD ALL GEOID from BOSSDATA SF56\n",
    "def download_ES(sf):\n",
    "    index_name = f\"bossdata{sf}\"\n",
    "    match_query = {\n",
    "        \"query\": {\"match_all\": {}},\n",
    "        \"_source\": {\n",
    "            \"includes\": \"GEOID\"\n",
    "        },\n",
    "    }\n",
    "    res_gen = helpers.scan(ES_DEV, query= match_query, index= index_name) \n",
    "    print('Completed downloading ES index ', index_name)\n",
    "    data = [record['_source']['GEOID'] for record in res_gen]\n",
    "    np.savetxt(f'cb-ids/{sf}.txt', data, fmt=\"%s\")\n",
    "    print(f'Saved all geoids {index_name}, {len(data)=} to file')\n",
    "\n",
    "    \n",
    "def update_ES_mapping(sf):\n",
    "    index_name = f\"bossdata{sf}\"\n",
    "    update_request_body = {\n",
    "        \"properties\": {\n",
    "            ## Without reindex => RequestError(400, 'illegal_argument_exception', 'mapper [tractTypeOZ] cannot be changed from type [text] to [keyword]')\n",
    "            ## \"tractTypeOZ\" :           {  \"type\": \"keyword\",  \"null_value\": \"isNotOZ\" },\n",
    "            \n",
    "            ## null_value i.e. set 0 as default value for the field -> allow indexing and searching https://www.elastic.co/guide/en/elasticsearch/reference/current/null-value.html\n",
    "            \"tractTypeKeywordOZ\" :           {  \"type\": \"keyword\",  \"null_value\": \"isNotOZ\" },\n",
    "            \n",
    "        }\n",
    "    }\n",
    "    ES_DEV.indices.put_mapping(index = index_name, body = update_request_body)\n",
    "    print('updated index ', index_name)\n",
    "    \n",
    "## OPTIONAL: DELETE a field from all documents; then if no reindex is done, best to forget about that field\n",
    "## Doesn't remove the mapping. To do so, need to reindex! https://stackoverflow.com/a/38874129/12572612\n",
    "## https://stackoverflow.com/a/16156873/12572612\n",
    "# @ console @ https://32a112996b92429ca3c682984cdf5fc4.us-central1.gcp.cloud.es.io:9243/app/dev_tools#/console\n",
    "# POST /nhat_test/_update_by_query?conflicts=proceed&pretty\n",
    "# {\n",
    "#  \"script\" : \"ctx._source.remove('newField')\"\n",
    "# }\n",
    "# https://elasticsearch-py.readthedocs.io/en/master/api.html#elasticsearch.Elasticsearch.update_by_query\n",
    "def delete_field_ES(sf):\n",
    "    index_name = f\"bossdata{sf}\"\n",
    "    ES_DEV.update_by_query(index = index_name, conflicts = \"proceed\", body = {\n",
    "        \"script\" : \"ctx._source.remove('tractTypeOZ')\"\n",
    "    })\n",
    "    print(f\"Removed tractTypeOZ fields from {index_name}\")\n",
    "\n",
    "    \n",
    "# with Pool(60) as pool:\n",
    "    # pool.map(download_ES, SF56.keys())\n",
    "    \n",
    "    # # KEEP TIMING OUT! ERROR: ConnectionTimeout caused by - ReadTimeoutError(None: None)   \n",
    "    # pool.map(delete_field_ES, SF56.keys())\n",
    "    \n",
    "    ## RUN ONCE\n",
    "    # pool.map(update_ES_mapping, SF56.keys())\n",
    "\n"
   ]
  },
  {
   "cell_type": "markdown",
   "id": "dcc56819-22e7-4aa3-89ed-b0a6a8066ef2",
   "metadata": {},
   "source": [
    "# Add tractTypeKeywordOZ to df\n"
   ]
  },
  {
   "cell_type": "code",
   "execution_count": 479,
   "id": "04950588-ec40-43f7-9bbf-aa6a54ce22e3",
   "metadata": {
    "execution": {
     "iopub.execute_input": "2022-04-26T03:03:58.420713Z",
     "iopub.status.busy": "2022-04-26T03:03:58.420467Z",
     "iopub.status.idle": "2022-04-26T03:03:59.120582Z",
     "shell.execute_reply": "2022-04-26T03:03:59.120119Z",
     "shell.execute_reply.started": "2022-04-26T03:03:58.420692Z"
    },
    "tags": []
   },
   "outputs": [
    {
     "data": {
      "text/plain": [
       "(state                   56\n",
       " county                1424\n",
       " tractID               8764\n",
       " tractTypeKeywordOZ       2\n",
       " source                   2\n",
       " dtype: int64,\n",
       " {'Low-Income Community', 'Non-LIC Contiguous'},\n",
       " {'2011-2015', '2012-2016'},\n",
       " (8764, 5),\n",
       "      state   county      tractID    tractTypeKeywordOZ     source\n",
       " 0  Alabama  Autauga  01001020700  Low-Income Community  2011-2015\n",
       " 1  Alabama  Baldwin  01003010200  Low-Income Community  2011-2015\n",
       " 2  Alabama  Baldwin  01003010400    Non-LIC Contiguous  2011-2015)"
      ]
     },
     "execution_count": 481,
     "metadata": {},
     "output_type": "execute_result"
    }
   ],
   "source": [
    "# NOTE: use dtype=str to retain leading columns in tractNumber\n",
    "oz_df = pd.read_excel('https://www.cdfifund.gov/sites/cdfi/files/documents/designated-qozs.12.14.18.xlsx', \n",
    "                      header=4, dtype=str)\n",
    "oz_df.columns = ['state', 'county', 'tractID', 'tractTypeKeywordOZ', 'source']\n",
    "\n",
    "oz_df.sort_values('tractID', inplace=True)\n",
    "# oz_df['sf'] = oz_df.tractID.str[:2]\n",
    "# 8764 unique OZ, 2 different types of OZ, OZ source is irrelevant\n",
    "oz_df.nunique(), set(oz_df.tractTypeKeywordOZ), set(oz_df.source)"
   ]
  },
  {
   "cell_type": "code",
   "execution_count": 483,
   "id": "bab297ab-b2cb-412a-bf1f-0bd3d674911f",
   "metadata": {
    "execution": {
     "iopub.execute_input": "2022-04-26T03:05:19.048710Z",
     "iopub.status.busy": "2022-04-26T03:05:19.048402Z",
     "iopub.status.idle": "2022-04-26T03:05:19.061348Z",
     "shell.execute_reply": "2022-04-26T03:05:19.060863Z",
     "shell.execute_reply.started": "2022-04-26T03:05:19.048687Z"
    },
    "tags": []
   },
   "outputs": [
    {
     "data": {
      "text/plain": [
       "(tractID               object\n",
       " tractTypeKeywordOZ    object\n",
       " dtype: object,\n",
       " (8764, 2),\n",
       "           tractID    tractTypeKeywordOZ\n",
       " 2020  13021010400  Low-Income Community\n",
       " 3359  24033803508  Low-Income Community\n",
       " 6656  72069180202  Low-Income Community)"
      ]
     },
     "execution_count": 483,
     "metadata": {},
     "output_type": "execute_result"
    }
   ],
   "source": [
    "oz_df = oz_df[['tractID', 'tractTypeKeywordOZ']]\n",
    "oz_df.dtypes, oz_df.shape, oz_df.sample(3)"
   ]
  },
  {
   "cell_type": "code",
   "execution_count": 545,
   "id": "b64f2fce-f9a9-4181-a8cd-dece715ac565",
   "metadata": {
    "execution": {
     "iopub.execute_input": "2022-04-26T13:51:49.400427Z",
     "iopub.status.busy": "2022-04-26T13:51:49.400159Z",
     "iopub.status.idle": "2022-04-26T13:55:30.951751Z",
     "shell.execute_reply": "2022-04-26T13:55:30.951286Z",
     "shell.execute_reply.started": "2022-04-26T13:51:49.400405Z"
    },
    "tags": []
   },
   "outputs": [
    {
     "name": "stdout",
     "output_type": "stream",
     "text": [
      "Start uploading 45292 records to bossdata02\n",
      "Start uploading 204447 records to bossdata22\n",
      "Completed uploading 45292 records to bossdata02\n",
      "Completed uploading 204447 records to bossdata22\n"
     ]
    },
    {
     "data": {
      "text/html": [
       "<div>\n",
       "<style scoped>\n",
       "    .dataframe tbody tr th:only-of-type {\n",
       "        vertical-align: middle;\n",
       "    }\n",
       "\n",
       "    .dataframe tbody tr th {\n",
       "        vertical-align: top;\n",
       "    }\n",
       "\n",
       "    .dataframe thead th {\n",
       "        text-align: right;\n",
       "    }\n",
       "</style>\n",
       "<table border=\"1\" class=\"dataframe\">\n",
       "  <thead>\n",
       "    <tr style=\"text-align: right;\">\n",
       "      <th>tractTypeKeywordOZ</th>\n",
       "      <th>Low-Income Community</th>\n",
       "      <th>Non-LIC Contiguous</th>\n",
       "      <th>isNotOZ</th>\n",
       "    </tr>\n",
       "    <tr>\n",
       "      <th>sf</th>\n",
       "      <th></th>\n",
       "      <th></th>\n",
       "      <th></th>\n",
       "    </tr>\n",
       "  </thead>\n",
       "  <tbody>\n",
       "    <tr>\n",
       "      <th>02</th>\n",
       "      <td>11539</td>\n",
       "      <td>0</td>\n",
       "      <td>33753</td>\n",
       "    </tr>\n",
       "    <tr>\n",
       "      <th>22</th>\n",
       "      <td>25686</td>\n",
       "      <td>1567</td>\n",
       "      <td>177194</td>\n",
       "    </tr>\n",
       "  </tbody>\n",
       "</table>\n",
       "</div>"
      ],
      "text/plain": [
       "tractTypeKeywordOZ  Low-Income Community  Non-LIC Contiguous  isNotOZ\n",
       "sf                                                                   \n",
       "02                                 11539                   0    33753\n",
       "22                                 25686                1567   177194"
      ]
     },
     "execution_count": 545,
     "metadata": {},
     "output_type": "execute_result"
    }
   ],
   "source": [
    "def upload_ES_df(input_df, index_name, idCol = 'GEOID', es_instance = ES_DEV):\n",
    "    # actiondf: details all actions, contains 5 cols: _id, doc, _index, _op_type, doc_as_upsert\n",
    "    # use idCol as document _id\n",
    "    actiondf = input_df[[idCol]].copy().rename(columns={idCol:'_id'})\n",
    "    # a dict of all the data to be updated; does contain idCol which will be uploaded like a regular column\n",
    "    actiondf['doc'] = input_df.to_dict('records')  \n",
    "    del input_df\n",
    "    # Some constants\n",
    "    actiondf['_index'] = index_name\n",
    "    actiondf['_op_type'] = 'update'\n",
    "    actiondf['doc_as_upsert'] = True\n",
    "    \n",
    "    print(f\"Start uploading {len(actiondf)} records to {index_name}\")\n",
    "    helpers.bulk(es_instance, actiondf.to_dict('records'))\n",
    "    print(f\"Completed uploading {len(actiondf)} records to {index_name}\")\n",
    "\n",
    "# Upload tractTypeKeywordOZ to Elasticsearch    \n",
    "def upload_OZ(sf):\n",
    "    index_name = f\"bossdata{sf}\"\n",
    "    ## GEOID from bossdata* have missing values for bossdata66 and bossdata69\n",
    "    ## df = pd.read_csv(f'cb-ids/{sf}.txt', dtype=str, header=None, names=['GEOID'])\n",
    "    ## Use GEOID from tiger2019-tabblock10 instead \n",
    "    df = pd.read_csv(f'tiger-ids/{sf}.txt', dtype=str, header=None, names=['GEOID'])\n",
    "    df['tractID'] = df.GEOID.str[:CT_LENGTH]\n",
    "    \n",
    "    df = df.merge(oz_df, how='left', on='tractID').drop(columns='tractID').fillna('isNotOZ')\n",
    "\n",
    "    # ACTUAL UPLOAD\n",
    "    if list(df.dtypes) == [object, object] and set(df) == {\"GEOID\", \"tractTypeKeywordOZ\"}: # Upload iff correct columns\n",
    "        upload_ES_df(df, index_name)\n",
    "    else:\n",
    "        print(f\"ALERT: bad df, no upload done: {sf=}, {df.shape=} \\n\")\n",
    "        \n",
    "    df['sf'] = sf\n",
    "    return df    \n",
    "\n",
    "with Pool(60) as pool:\n",
    "    # res = pool.map(upload_OZ, SF56)   \n",
    "    res = pool.map(upload_OZ, [\"02\", \"22\"])   \n",
    "    oz_cbs = pd.concat(res, ignore_index=True)\n",
    "# (11166336, 3)\n",
    "# print(oz_cbs.shape, oz_cbs.dtypes)\n",
    "\n",
    "oz_cbs.groupby(['sf', 'tractTypeKeywordOZ']).size().unstack(fill_value=0)"
   ]
  },
  {
   "cell_type": "code",
   "execution_count": 382,
   "id": "9ef394e2-25ab-43a1-9ae0-8a2575e09a34",
   "metadata": {
    "execution": {
     "iopub.execute_input": "2022-04-26T01:51:12.528217Z",
     "iopub.status.busy": "2022-04-26T01:51:12.527851Z",
     "iopub.status.idle": "2022-04-26T01:51:12.531179Z",
     "shell.execute_reply": "2022-04-26T01:51:12.530788Z",
     "shell.execute_reply.started": "2022-04-26T01:51:12.528192Z"
    },
    "tags": []
   },
   "outputs": [],
   "source": [
    "# def num_blocks(sf):\n",
    "#     tiger19_10 = gp.read_file(f'https://www2.census.gov/geo/tiger/TIGER2019/TABBLOCK/tl_2019_{sf}_tabblock10.zip')['GEOID10']\n",
    "#     np.savetxt(f'tiger-ids/{sf}.txt', tiger19_10, fmt=\"%s\")\n",
    "#     tiger19_10 = len(tiger19_10)\n",
    "#     print(f\"Saved sf={sf}, len={tiger19_10} to file\")\n",
    "#     return \n",
    "#     # tiger20_10 = len(gp.read_file(f\"https://www2.census.gov/geo/tiger/TIGER2020/TABBLOCK/tl_2020_{sf}_tabblock10.zip\", ignore_geometry=True))\n",
    "    \n",
    "#     # #OFC, different from all others\n",
    "#     # # tiger20_20 = len(gp.read_file(f'https://www2.census.gov/geo/tiger/TIGER2020/TABBLOCK20/tl_2020_{sf}_tabblock20.zip', ignore_geometry=True))\n",
    "    \n",
    "#     # es = len(pd.read_csv(f'cb-ids/{sf}.txt', dtype=str, header=None, names=['GEOID']))\n",
    "    \n",
    "#     # return sf, tiger19_10, tiger20_10, es\n",
    "\n",
    "# with Pool(30) as pool:\n",
    "#     res = pool.map(num_blocks, SF56)\n"
   ]
  },
  {
   "cell_type": "code",
   "execution_count": null,
   "id": "e0ed8326-af74-4a1d-9c46-c1f245ab81d6",
   "metadata": {},
   "outputs": [],
   "source": []
  },
  {
   "cell_type": "markdown",
   "id": "5c7a4c6a-896f-4ad2-9905-a6d7b45b16f4",
   "metadata": {},
   "source": [
    "# TIGER2019-CB vs 2019-CBG vs 2019-tracts, and <> ES"
   ]
  },
  {
   "cell_type": "code",
   "execution_count": 419,
   "id": "12327cbe-0352-4fbd-b548-257044dcf4b8",
   "metadata": {
    "execution": {
     "iopub.execute_input": "2022-04-26T02:09:20.869779Z",
     "iopub.status.busy": "2022-04-26T02:09:20.869492Z",
     "iopub.status.idle": "2022-04-26T02:09:50.739865Z",
     "shell.execute_reply": "2022-04-26T02:09:50.739280Z",
     "shell.execute_reply.started": "2022-04-26T02:09:20.869755Z"
    },
    "tags": []
   },
   "outputs": [],
   "source": [
    "## DOWNLOAD\n",
    "def num_cbg(sf):\n",
    "    df = gp.read_file(f'https://www2.census.gov/geo/tiger/TIGER2019/BG/tl_2019_{sf}_bg.zip', ignore_geometry=True)['GEOID']\n",
    "    np.savetxt(f'tiger-cbg10/{sf}.txt', df, fmt=\"%s\")\n",
    "\n",
    "with Pool(60) as pool:\n",
    "    pool.map(num_cbg, SF56)\n",
    "\n",
    "def num_tracts(sf):\n",
    "    df = gp.read_file(f'https://www2.census.gov/geo/tiger/TIGER2019/TRACT/tl_2019_{sf}_tract.zip', ignore_geometry=True)['GEOID']\n",
    "    np.savetxt(f'tiger-tracts10/{sf}.txt', df, fmt=\"%s\")\n",
    "\n",
    "with Pool(60) as pool:\n",
    "    pool.map(num_tracts, SF56)    "
   ]
  },
  {
   "cell_type": "markdown",
   "id": "a2551485-ee78-4338-98f7-78796315dd12",
   "metadata": {},
   "source": [
    "# READ and find diff"
   ]
  },
  {
   "cell_type": "code",
   "execution_count": 4,
   "id": "82e642c1-57e2-41f0-84e4-10bd0c68b476",
   "metadata": {
    "execution": {
     "iopub.execute_input": "2022-04-29T03:23:43.992325Z",
     "iopub.status.busy": "2022-04-29T03:23:43.992012Z",
     "iopub.status.idle": "2022-04-29T03:23:59.321219Z",
     "shell.execute_reply": "2022-04-29T03:23:59.320781Z",
     "shell.execute_reply.started": "2022-04-29T03:23:43.992300Z"
    },
    "tags": []
   },
   "outputs": [
    {
     "data": {
      "text/plain": [
       "(11166336, 7)"
      ]
     },
     "execution_count": 4,
     "metadata": {},
     "output_type": "execute_result"
    }
   ],
   "source": [
    "def diff_GEOID(sf):\n",
    "    es = pd.read_csv(f'cb-ids/{sf}.txt', dtype=str, header=None, names=['ES'])\n",
    "    tiger = pd.read_csv(f'tiger-ids/{sf}.txt', dtype=str, header=None, names=['TIGER'])\n",
    "    df = es.merge(tiger, how='outer', left_on=\"ES\", right_on=\"TIGER\")\n",
    "    df['sf'] = sf\n",
    "    return df\n",
    "\n",
    "with Pool(60) as pool:\n",
    "    data = pool.map(diff_GEOID, SF56)\n",
    "    all_cbs = pd.concat(data, ignore_index=True)\n",
    "\n",
    "all_cbs['ESCBG'] = all_cbs.ES.str[:CBG_LENGTH]\n",
    "all_cbs['ESCT'] = all_cbs.ES.str[:CT_LENGTH]    \n",
    "all_cbs['TIGERCBG'] = all_cbs.TIGER.str[:CBG_LENGTH]\n",
    "all_cbs['TIGERCT'] = all_cbs.TIGER.str[:CT_LENGTH]   \n",
    "all_cbs.shape"
   ]
  },
  {
   "cell_type": "code",
   "execution_count": 563,
   "id": "d5277904-f6c9-44ac-8f3e-e06d7d47bf61",
   "metadata": {
    "collapsed": true,
    "execution": {
     "iopub.execute_input": "2022-04-26T16:09:25.832657Z",
     "iopub.status.busy": "2022-04-26T16:09:25.832373Z",
     "iopub.status.idle": "2022-04-26T16:09:26.615486Z",
     "shell.execute_reply": "2022-04-26T16:09:26.614750Z",
     "shell.execute_reply.started": "2022-04-26T16:09:25.832637Z"
    },
    "jupyter": {
     "outputs_hidden": true
    },
    "tags": []
   },
   "outputs": [
    {
     "data": {
      "text/plain": [
       "{'51019050100'}"
      ]
     },
     "execution_count": 563,
     "metadata": {},
     "output_type": "execute_result"
    },
    {
     "name": "stderr",
     "output_type": "stream",
     "text": [
      "2022-04-26 12:16:15,965 - distributed.diskutils - ERROR - Failed to remove '/home/nhat/opportunity-zones/dask-worker-space/worker-665zbcxg' (failed in <built-in function lstat>): [Errno 2] No such file or directory: '/home/nhat/opportunity-zones/dask-worker-space/worker-665zbcxg'\n",
      "2022-04-26 12:16:17,138 - distributed.diskutils - ERROR - Failed to remove '/home/nhat/opportunity-zones/dask-worker-space/worker-keshbfd9' (failed in <built-in function lstat>): [Errno 2] No such file or directory: '/home/nhat/opportunity-zones/dask-worker-space/worker-keshbfd9'\n",
      "2022-04-26 12:16:17,138 - distributed.diskutils - ERROR - Failed to remove '/home/nhat/opportunity-zones/dask-worker-space/worker-2wbx9r12' (failed in <built-in function lstat>): [Errno 2] No such file or directory: '/home/nhat/opportunity-zones/dask-worker-space/worker-2wbx9r12'\n",
      "2022-04-26 12:16:17,139 - distributed.diskutils - ERROR - Failed to remove '/home/nhat/opportunity-zones/dask-worker-space/worker-ryql4gw7' (failed in <built-in function lstat>): [Errno 2] No such file or directory: '/home/nhat/opportunity-zones/dask-worker-space/worker-ryql4gw7'\n",
      "2022-04-26 12:16:17,140 - distributed.diskutils - ERROR - Failed to remove '/home/nhat/opportunity-zones/dask-worker-space/worker-hhrsztee' (failed in <built-in function lstat>): [Errno 2] No such file or directory: '/home/nhat/opportunity-zones/dask-worker-space/worker-hhrsztee'\n",
      "2022-04-26 12:16:17,335 - tornado.application - ERROR - Exception in callback <bound method Client._heartbeat of <Client: 'tcp://127.0.0.1:41407' processes=1 threads=4, memory=62.91 GiB>>\n",
      "Traceback (most recent call last):\n",
      "  File \"/home/nhat/anaconda3/envs/py39/lib/python3.9/site-packages/tornado/ioloop.py\", line 905, in _run\n",
      "    return self.callback()\n",
      "  File \"/home/nhat/anaconda3/envs/py39/lib/python3.9/site-packages/distributed/client.py\", line 1344, in _heartbeat\n",
      "    self.scheduler_comm.send({\"op\": \"heartbeat-client\"})\n",
      "  File \"/home/nhat/anaconda3/envs/py39/lib/python3.9/site-packages/distributed/batched.py\", line 137, in send\n",
      "    raise CommClosedError(f\"Comm {self.comm!r} already closed.\")\n",
      "distributed.comm.core.CommClosedError: Comm <TCP (closed) Client->Scheduler local=tcp://127.0.0.1:42520 remote=tcp://127.0.0.1:41407> already closed.\n",
      "2022-04-26 12:16:17,337 - tornado.application - ERROR - Exception in callback functools.partial(<bound method IOLoop._discard_future_result of <zmq.eventloop.ioloop.ZMQIOLoop object at 0x7f81b0772df0>>, <Task finished name='Task-156022' coro=<Client._update_scheduler_info() done, defined at /home/nhat/anaconda3/envs/py39/lib/python3.9/site-packages/distributed/client.py:1304> exception=RuntimeError('cannot schedule new futures after shutdown')>)\n",
      "Traceback (most recent call last):\n",
      "  File \"/home/nhat/anaconda3/envs/py39/lib/python3.9/site-packages/tornado/ioloop.py\", line 741, in _run_callback\n",
      "    ret = callback()\n",
      "  File \"/home/nhat/anaconda3/envs/py39/lib/python3.9/site-packages/tornado/ioloop.py\", line 765, in _discard_future_result\n",
      "    future.result()\n",
      "  File \"/home/nhat/anaconda3/envs/py39/lib/python3.9/site-packages/distributed/client.py\", line 1308, in _update_scheduler_info\n",
      "    self._scheduler_identity = SchedulerInfo(await self.scheduler.identity())\n",
      "  File \"/home/nhat/anaconda3/envs/py39/lib/python3.9/site-packages/distributed/core.py\", line 937, in send_recv_from_rpc\n",
      "    comm = await self.pool.connect(self.addr)\n",
      "  File \"/home/nhat/anaconda3/envs/py39/lib/python3.9/site-packages/distributed/core.py\", line 1147, in connect\n",
      "    return await connect_attempt\n",
      "  File \"/home/nhat/anaconda3/envs/py39/lib/python3.9/site-packages/distributed/core.py\", line 1083, in _connect\n",
      "    comm = await connect(\n",
      "  File \"/home/nhat/anaconda3/envs/py39/lib/python3.9/site-packages/distributed/comm/core.py\", line 289, in connect\n",
      "    comm = await asyncio.wait_for(\n",
      "  File \"/home/nhat/anaconda3/envs/py39/lib/python3.9/asyncio/tasks.py\", line 481, in wait_for\n",
      "    return fut.result()\n",
      "  File \"/home/nhat/anaconda3/envs/py39/lib/python3.9/site-packages/distributed/comm/tcp.py\", line 439, in connect\n",
      "    stream = await self.client.connect(\n",
      "  File \"/home/nhat/anaconda3/envs/py39/lib/python3.9/site-packages/tornado/tcpclient.py\", line 265, in connect\n",
      "    addrinfo = await self.resolver.resolve(host, port, af)\n",
      "  File \"/home/nhat/anaconda3/envs/py39/lib/python3.9/site-packages/distributed/comm/tcp.py\", line 424, in resolve\n",
      "    for fam, _, _, _, address in await asyncio.get_running_loop().getaddrinfo(\n",
      "  File \"/home/nhat/anaconda3/envs/py39/lib/python3.9/asyncio/base_events.py\", line 856, in getaddrinfo\n",
      "    return await self.run_in_executor(\n",
      "  File \"/home/nhat/anaconda3/envs/py39/lib/python3.9/asyncio/base_events.py\", line 814, in run_in_executor\n",
      "    executor.submit(func, *args), loop=self)\n",
      "  File \"/home/nhat/anaconda3/envs/py39/lib/python3.9/concurrent/futures/thread.py\", line 161, in submit\n",
      "    raise RuntimeError('cannot schedule new futures after shutdown')\n",
      "RuntimeError: cannot schedule new futures after shutdown\n"
     ]
    }
   ],
   "source": [
    "## IF NOT, should we redo merge-upload above, using join='outer' instead? \n",
    "## No, because those OZ tracts don't have their contained CB info\n",
    "## i.e. cannot represent them on bossdata* with any GEOID!\n",
    "\n",
    "## @yuan: NOTE! OZ {'51019050100'} not found in TIGER GEOID (TIGER2019-tabblock10-truncated)\n",
    "set(oz_df.tractID) - set(all_cbs.TIGERCT)"
   ]
  },
  {
   "cell_type": "code",
   "execution_count": 10,
   "id": "ff7f5d5d-e4fc-44db-b51e-169e67722a9a",
   "metadata": {
    "execution": {
     "iopub.execute_input": "2022-04-29T03:27:35.852169Z",
     "iopub.status.busy": "2022-04-29T03:27:35.851877Z",
     "iopub.status.idle": "2022-04-29T03:27:39.117634Z",
     "shell.execute_reply": "2022-04-29T03:27:39.117038Z",
     "shell.execute_reply.started": "2022-04-29T03:27:35.852149Z"
    },
    "tags": []
   },
   "outputs": [
    {
     "data": {
      "text/plain": [
       "array(['66', '69'], dtype=object)"
      ]
     },
     "execution_count": 10,
     "metadata": {},
     "output_type": "execute_result"
    },
    {
     "name": "stdout",
     "output_type": "stream",
     "text": [
      "time: 3.26 s (started: 2022-04-28 23:27:35 -04:00)\n"
     ]
    }
   ],
   "source": [
    "# At sf= 66, and 69: bossdata* have missing TIGER-GEOIDs\n",
    "## I have added these to bossdata* as of Apr 25.\n",
    "all_cbs.query(\"ES != ES\").sf.unique()"
   ]
  },
  {
   "cell_type": "code",
   "execution_count": 13,
   "id": "aa23b0f1-317f-42e0-a765-0efb1fddd3a3",
   "metadata": {
    "execution": {
     "iopub.execute_input": "2022-04-29T03:29:00.598590Z",
     "iopub.status.busy": "2022-04-29T03:29:00.598285Z",
     "iopub.status.idle": "2022-04-29T03:29:01.793067Z",
     "shell.execute_reply": "2022-04-29T03:29:01.792558Z",
     "shell.execute_reply.started": "2022-04-29T03:29:00.598569Z"
    },
    "tags": []
   },
   "outputs": [
    {
     "name": "stdout",
     "output_type": "stream",
     "text": [
      "time: 1.19 s (started: 2022-04-28 23:29:00 -04:00)\n"
     ]
    }
   ],
   "source": [
    "## READ ids from TIGER2019-cbg and TIGER2019-ct\n",
    "def diff_GEOID(sf):\n",
    "    cbg = pd.read_csv(f'tiger-cbg/{sf}.txt', dtype=str, header=None, names=['CBG'])\n",
    "    ct = pd.read_csv(f'tiger-ct/{sf}.txt', dtype=str, header=None, names=['CT'])\n",
    "    return cbg, ct\n",
    "\n",
    "with Pool() as pool:\n",
    "    res = pool.map(diff_GEOID, SF56)\n",
    "    cbgs = pd.concat([cbg for cbg, _ in res], ignore_index=True)\n",
    "    cts = pd.concat([ct for _, ct in res], ignore_index=True)\n"
   ]
  },
  {
   "cell_type": "code",
   "execution_count": 14,
   "id": "b75e7937-52e5-4d37-9d68-fce7802a6685",
   "metadata": {
    "execution": {
     "iopub.execute_input": "2022-04-29T03:29:04.886047Z",
     "iopub.status.busy": "2022-04-29T03:29:04.885707Z",
     "iopub.status.idle": "2022-04-29T03:29:12.128680Z",
     "shell.execute_reply": "2022-04-29T03:29:12.128225Z",
     "shell.execute_reply.started": "2022-04-29T03:29:04.886023Z"
    },
    "tags": []
   },
   "outputs": [
    {
     "name": "stdout",
     "output_type": "stream",
     "text": [
      "time: 7.24 s (started: 2022-04-28 23:29:04 -04:00)\n"
     ]
    }
   ],
   "source": [
    "## Merge with TIGER2019-geoid\n",
    "all_cbs = all_cbs.merge(cbgs, how='outer', left_on=\"TIGERCBG\", right_on=\"CBG\")\n",
    "all_cbs = all_cbs.merge(cts, how='outer', left_on=\"TIGERCT\", right_on=\"CT\")\n"
   ]
  },
  {
   "cell_type": "code",
   "execution_count": null,
   "id": "81d57903-0097-458c-b729-11956834fc5d",
   "metadata": {},
   "outputs": [],
   "source": [
    "# TIGER-CB truncated to CBG and CT\n",
    "# diff <> TIGER-CBG, <> TIGER-CT!"
   ]
  },
  {
   "cell_type": "code",
   "execution_count": 15,
   "id": "e6e91a81-216e-4c53-a4e4-7cbb53faef26",
   "metadata": {
    "execution": {
     "iopub.execute_input": "2022-04-29T03:29:12.129854Z",
     "iopub.status.busy": "2022-04-29T03:29:12.129640Z",
     "iopub.status.idle": "2022-04-29T03:29:22.005070Z",
     "shell.execute_reply": "2022-04-29T03:29:22.004650Z",
     "shell.execute_reply.started": "2022-04-29T03:29:12.129835Z"
    },
    "tags": []
   },
   "outputs": [
    {
     "data": {
      "text/plain": [
       "ES          4095\n",
       "TIGER         97\n",
       "TIGERCBG      97\n",
       "TIGERCT       97\n",
       "CBG         6321\n",
       "CT          6337\n",
       "dtype: int64"
      ]
     },
     "execution_count": 15,
     "metadata": {},
     "output_type": "execute_result"
    },
    {
     "name": "stdout",
     "output_type": "stream",
     "text": [
      "time: 9.87 s (started: 2022-04-28 23:29:12 -04:00)\n"
     ]
    }
   ],
   "source": [
    "all_cbs1 = all_cbs.copy()"
   ]
  },
  {
   "cell_type": "code",
   "execution_count": 58,
   "id": "8ed766a9-2065-4a7f-958d-406db42787a0",
   "metadata": {
    "execution": {
     "iopub.execute_input": "2022-04-29T03:55:58.892917Z",
     "iopub.status.busy": "2022-04-29T03:55:58.892601Z",
     "iopub.status.idle": "2022-04-29T03:56:11.678651Z",
     "shell.execute_reply": "2022-04-29T03:56:11.678248Z",
     "shell.execute_reply.started": "2022-04-29T03:55:58.892895Z"
    }
   },
   "outputs": [
    {
     "data": {
      "text/plain": [
       "ES             4098\n",
       "TIGER           100\n",
       "sf              100\n",
       "ESCBG          4098\n",
       "ESCT           4098\n",
       "TIGERCBG        100\n",
       "TIGERCT         100\n",
       "CBG            6324\n",
       "CT             6340\n",
       "TIGERCOUNTY    4098\n",
       "GEOID          6872\n",
       "dtype: int64"
      ]
     },
     "execution_count": 58,
     "metadata": {},
     "output_type": "execute_result"
    },
    {
     "name": "stdout",
     "output_type": "stream",
     "text": [
      "time: 12.8 s (started: 2022-04-28 23:55:58 -04:00)\n"
     ]
    }
   ],
   "source": [
    "diff = all_cbs[all_cbs.isna().any(1)]\n",
    "all_cbs.isnull().sum()"
   ]
  },
  {
   "cell_type": "markdown",
   "id": "75b9665a-4ec5-4c7f-a6ef-60f33a92d9dd",
   "metadata": {},
   "source": [
    "# COUNTY diff"
   ]
  },
  {
   "cell_type": "code",
   "execution_count": 50,
   "id": "14712370-7669-4a70-ba29-c2de0541edc0",
   "metadata": {
    "execution": {
     "iopub.execute_input": "2022-04-29T03:49:55.016500Z",
     "iopub.status.busy": "2022-04-29T03:49:55.016181Z",
     "iopub.status.idle": "2022-04-29T03:49:56.940974Z",
     "shell.execute_reply": "2022-04-29T03:49:56.940527Z",
     "shell.execute_reply.started": "2022-04-29T03:49:55.016471Z"
    }
   },
   "outputs": [
    {
     "name": "stdout",
     "output_type": "stream",
     "text": [
      "time: 1.92 s (started: 2022-04-28 23:49:55 -04:00)\n"
     ]
    }
   ],
   "source": [
    "counties = gp.read_file(\"https://www2.census.gov/geo/tiger/TIGER2019/COUNTY/tl_2019_us_county.zip\", ignore_geometry=True)['GEOID']"
   ]
  },
  {
   "cell_type": "code",
   "execution_count": 52,
   "id": "e03446db-2673-4404-9907-2527ffa4f671",
   "metadata": {
    "execution": {
     "iopub.execute_input": "2022-04-29T03:53:09.444621Z",
     "iopub.status.busy": "2022-04-29T03:53:09.444303Z",
     "iopub.status.idle": "2022-04-29T03:53:12.856156Z",
     "shell.execute_reply": "2022-04-29T03:53:12.855711Z",
     "shell.execute_reply.started": "2022-04-29T03:53:09.444599Z"
    }
   },
   "outputs": [
    {
     "name": "stdout",
     "output_type": "stream",
     "text": [
      "time: 3.41 s (started: 2022-04-28 23:53:09 -04:00)\n"
     ]
    }
   ],
   "source": [
    "all_cbs['TIGERCOUNTY'] = all_cbs.ES.str[:COUNTY_LENGTH]\n",
    "## Merge with TIGER2019-COUNTY\n",
    "all_cbs = all_cbs.merge(counties, how='outer', left_on=\"TIGERCOUNTY\", right_on=\"GEOID\")"
   ]
  },
  {
   "cell_type": "code",
   "execution_count": 56,
   "id": "5719ad32-46a5-4112-b32d-c7675bcfb165",
   "metadata": {
    "execution": {
     "iopub.execute_input": "2022-04-29T03:54:20.147820Z",
     "iopub.status.busy": "2022-04-29T03:54:20.147505Z",
     "iopub.status.idle": "2022-04-29T03:54:20.160114Z",
     "shell.execute_reply": "2022-04-29T03:54:20.159721Z",
     "shell.execute_reply.started": "2022-04-29T03:54:20.147790Z"
    }
   },
   "outputs": [
    {
     "data": {
      "text/html": [
       "<div>\n",
       "<style scoped>\n",
       "    .dataframe tbody tr th:only-of-type {\n",
       "        vertical-align: middle;\n",
       "    }\n",
       "\n",
       "    .dataframe tbody tr th {\n",
       "        vertical-align: top;\n",
       "    }\n",
       "\n",
       "    .dataframe thead th {\n",
       "        text-align: right;\n",
       "    }\n",
       "</style>\n",
       "<table border=\"1\" class=\"dataframe\">\n",
       "  <thead>\n",
       "    <tr style=\"text-align: right;\">\n",
       "      <th></th>\n",
       "      <th>ES</th>\n",
       "      <th>TIGER</th>\n",
       "      <th>sf</th>\n",
       "      <th>ESCBG</th>\n",
       "      <th>ESCT</th>\n",
       "      <th>TIGERCBG</th>\n",
       "      <th>TIGERCT</th>\n",
       "      <th>CBG</th>\n",
       "      <th>CT</th>\n",
       "      <th>TIGERCOUNTY</th>\n",
       "      <th>GEOID</th>\n",
       "    </tr>\n",
       "  </thead>\n",
       "  <tbody>\n",
       "    <tr>\n",
       "      <th>0</th>\n",
       "      <td>011270215002009</td>\n",
       "      <td>011270215002009</td>\n",
       "      <td>01</td>\n",
       "      <td>011270215002</td>\n",
       "      <td>01127021500</td>\n",
       "      <td>011270215002</td>\n",
       "      <td>01127021500</td>\n",
       "      <td>011270215002</td>\n",
       "      <td>01127021500</td>\n",
       "      <td>01127</td>\n",
       "      <td>01127</td>\n",
       "    </tr>\n",
       "    <tr>\n",
       "      <th>1</th>\n",
       "      <td>011270215002012</td>\n",
       "      <td>011270215002012</td>\n",
       "      <td>01</td>\n",
       "      <td>011270215002</td>\n",
       "      <td>01127021500</td>\n",
       "      <td>011270215002</td>\n",
       "      <td>01127021500</td>\n",
       "      <td>011270215002</td>\n",
       "      <td>01127021500</td>\n",
       "      <td>01127</td>\n",
       "      <td>01127</td>\n",
       "    </tr>\n",
       "    <tr>\n",
       "      <th>2</th>\n",
       "      <td>011270215002030</td>\n",
       "      <td>011270215002030</td>\n",
       "      <td>01</td>\n",
       "      <td>011270215002</td>\n",
       "      <td>01127021500</td>\n",
       "      <td>011270215002</td>\n",
       "      <td>01127021500</td>\n",
       "      <td>011270215002</td>\n",
       "      <td>01127021500</td>\n",
       "      <td>01127</td>\n",
       "      <td>01127</td>\n",
       "    </tr>\n",
       "    <tr>\n",
       "      <th>3</th>\n",
       "      <td>011270215002031</td>\n",
       "      <td>011270215002031</td>\n",
       "      <td>01</td>\n",
       "      <td>011270215002</td>\n",
       "      <td>01127021500</td>\n",
       "      <td>011270215002</td>\n",
       "      <td>01127021500</td>\n",
       "      <td>011270215002</td>\n",
       "      <td>01127021500</td>\n",
       "      <td>01127</td>\n",
       "      <td>01127</td>\n",
       "    </tr>\n",
       "    <tr>\n",
       "      <th>4</th>\n",
       "      <td>011270215002036</td>\n",
       "      <td>011270215002036</td>\n",
       "      <td>01</td>\n",
       "      <td>011270215002</td>\n",
       "      <td>01127021500</td>\n",
       "      <td>011270215002</td>\n",
       "      <td>01127021500</td>\n",
       "      <td>011270215002</td>\n",
       "      <td>01127021500</td>\n",
       "      <td>01127</td>\n",
       "      <td>01127</td>\n",
       "    </tr>\n",
       "    <tr>\n",
       "      <th>...</th>\n",
       "      <td>...</td>\n",
       "      <td>...</td>\n",
       "      <td>...</td>\n",
       "      <td>...</td>\n",
       "      <td>...</td>\n",
       "      <td>...</td>\n",
       "      <td>...</td>\n",
       "      <td>...</td>\n",
       "      <td>...</td>\n",
       "      <td>...</td>\n",
       "      <td>...</td>\n",
       "    </tr>\n",
       "    <tr>\n",
       "      <th>11166431</th>\n",
       "      <td>780309900000009</td>\n",
       "      <td>780309900000009</td>\n",
       "      <td>78</td>\n",
       "      <td>780309900000</td>\n",
       "      <td>78030990000</td>\n",
       "      <td>780309900000</td>\n",
       "      <td>78030990000</td>\n",
       "      <td>780309900000</td>\n",
       "      <td>78030990000</td>\n",
       "      <td>78030</td>\n",
       "      <td>78030</td>\n",
       "    </tr>\n",
       "    <tr>\n",
       "      <th>11166432</th>\n",
       "      <td>780309900000013</td>\n",
       "      <td>780309900000013</td>\n",
       "      <td>78</td>\n",
       "      <td>780309900000</td>\n",
       "      <td>78030990000</td>\n",
       "      <td>780309900000</td>\n",
       "      <td>78030990000</td>\n",
       "      <td>780309900000</td>\n",
       "      <td>78030990000</td>\n",
       "      <td>78030</td>\n",
       "      <td>78030</td>\n",
       "    </tr>\n",
       "    <tr>\n",
       "      <th>11166433</th>\n",
       "      <td>NaN</td>\n",
       "      <td>NaN</td>\n",
       "      <td>NaN</td>\n",
       "      <td>NaN</td>\n",
       "      <td>NaN</td>\n",
       "      <td>NaN</td>\n",
       "      <td>NaN</td>\n",
       "      <td>NaN</td>\n",
       "      <td>NaN</td>\n",
       "      <td>NaN</td>\n",
       "      <td>69085</td>\n",
       "    </tr>\n",
       "    <tr>\n",
       "      <th>11166434</th>\n",
       "      <td>NaN</td>\n",
       "      <td>NaN</td>\n",
       "      <td>NaN</td>\n",
       "      <td>NaN</td>\n",
       "      <td>NaN</td>\n",
       "      <td>NaN</td>\n",
       "      <td>NaN</td>\n",
       "      <td>NaN</td>\n",
       "      <td>NaN</td>\n",
       "      <td>NaN</td>\n",
       "      <td>02158</td>\n",
       "    </tr>\n",
       "    <tr>\n",
       "      <th>11166435</th>\n",
       "      <td>NaN</td>\n",
       "      <td>NaN</td>\n",
       "      <td>NaN</td>\n",
       "      <td>NaN</td>\n",
       "      <td>NaN</td>\n",
       "      <td>NaN</td>\n",
       "      <td>NaN</td>\n",
       "      <td>NaN</td>\n",
       "      <td>NaN</td>\n",
       "      <td>NaN</td>\n",
       "      <td>46102</td>\n",
       "    </tr>\n",
       "  </tbody>\n",
       "</table>\n",
       "<p>11166436 rows × 11 columns</p>\n",
       "</div>"
      ],
      "text/plain": [
       "                       ES            TIGER   sf         ESCBG         ESCT  \\\n",
       "0         011270215002009  011270215002009   01  011270215002  01127021500   \n",
       "1         011270215002012  011270215002012   01  011270215002  01127021500   \n",
       "2         011270215002030  011270215002030   01  011270215002  01127021500   \n",
       "3         011270215002031  011270215002031   01  011270215002  01127021500   \n",
       "4         011270215002036  011270215002036   01  011270215002  01127021500   \n",
       "...                   ...              ...  ...           ...          ...   \n",
       "11166431  780309900000009  780309900000009   78  780309900000  78030990000   \n",
       "11166432  780309900000013  780309900000013   78  780309900000  78030990000   \n",
       "11166433              NaN              NaN  NaN           NaN          NaN   \n",
       "11166434              NaN              NaN  NaN           NaN          NaN   \n",
       "11166435              NaN              NaN  NaN           NaN          NaN   \n",
       "\n",
       "              TIGERCBG      TIGERCT           CBG           CT TIGERCOUNTY  \\\n",
       "0         011270215002  01127021500  011270215002  01127021500       01127   \n",
       "1         011270215002  01127021500  011270215002  01127021500       01127   \n",
       "2         011270215002  01127021500  011270215002  01127021500       01127   \n",
       "3         011270215002  01127021500  011270215002  01127021500       01127   \n",
       "4         011270215002  01127021500  011270215002  01127021500       01127   \n",
       "...                ...          ...           ...          ...         ...   \n",
       "11166431  780309900000  78030990000  780309900000  78030990000       78030   \n",
       "11166432  780309900000  78030990000  780309900000  78030990000       78030   \n",
       "11166433           NaN          NaN           NaN          NaN         NaN   \n",
       "11166434           NaN          NaN           NaN          NaN         NaN   \n",
       "11166435           NaN          NaN           NaN          NaN         NaN   \n",
       "\n",
       "          GEOID  \n",
       "0         01127  \n",
       "1         01127  \n",
       "2         01127  \n",
       "3         01127  \n",
       "4         01127  \n",
       "...         ...  \n",
       "11166431  78030  \n",
       "11166432  78030  \n",
       "11166433  69085  \n",
       "11166434  02158  \n",
       "11166435  46102  \n",
       "\n",
       "[11166436 rows x 11 columns]"
      ]
     },
     "execution_count": 56,
     "metadata": {},
     "output_type": "execute_result"
    },
    {
     "name": "stdout",
     "output_type": "stream",
     "text": [
      "time: 10.2 ms (started: 2022-04-28 23:54:20 -04:00)\n"
     ]
    }
   ],
   "source": [
    "all_cbs"
   ]
  },
  {
   "cell_type": "code",
   "execution_count": 78,
   "id": "5d94b42f-b6fb-4524-9d47-c2c1f29342be",
   "metadata": {
    "execution": {
     "iopub.execute_input": "2022-04-29T20:18:36.270982Z",
     "iopub.status.busy": "2022-04-29T20:18:36.270705Z",
     "iopub.status.idle": "2022-04-29T20:18:36.289219Z",
     "shell.execute_reply": "2022-04-29T20:18:36.288826Z",
     "shell.execute_reply.started": "2022-04-29T20:18:36.270963Z"
    },
    "tags": []
   },
   "outputs": [
    {
     "data": {
      "text/html": [
       "<div>\n",
       "<style scoped>\n",
       "    .dataframe tbody tr th:only-of-type {\n",
       "        vertical-align: middle;\n",
       "    }\n",
       "\n",
       "    .dataframe tbody tr th {\n",
       "        vertical-align: top;\n",
       "    }\n",
       "\n",
       "    .dataframe thead th {\n",
       "        text-align: right;\n",
       "    }\n",
       "</style>\n",
       "<table border=\"1\" class=\"dataframe\">\n",
       "  <thead>\n",
       "    <tr style=\"text-align: right;\">\n",
       "      <th></th>\n",
       "      <th>ES</th>\n",
       "      <th>TIGER</th>\n",
       "      <th>sf</th>\n",
       "      <th>ESCBG</th>\n",
       "      <th>ESCT</th>\n",
       "      <th>TIGERCBG</th>\n",
       "      <th>TIGERCT</th>\n",
       "      <th>CBG</th>\n",
       "      <th>CT</th>\n",
       "      <th>TIGERCOUNTY</th>\n",
       "      <th>GEOID</th>\n",
       "    </tr>\n",
       "  </thead>\n",
       "  <tbody>\n",
       "    <tr>\n",
       "      <th>1063143</th>\n",
       "      <td>060378002043013</td>\n",
       "      <td>060378002043013</td>\n",
       "      <td>06</td>\n",
       "      <td>060378002043</td>\n",
       "      <td>06037800204</td>\n",
       "      <td>060378002043</td>\n",
       "      <td>06037800204</td>\n",
       "      <td>NaN</td>\n",
       "      <td>06037800204</td>\n",
       "      <td>06037</td>\n",
       "      <td>06037</td>\n",
       "    </tr>\n",
       "    <tr>\n",
       "      <th>1063144</th>\n",
       "      <td>060378002043023</td>\n",
       "      <td>060378002043023</td>\n",
       "      <td>06</td>\n",
       "      <td>060378002043</td>\n",
       "      <td>06037800204</td>\n",
       "      <td>060378002043</td>\n",
       "      <td>06037800204</td>\n",
       "      <td>NaN</td>\n",
       "      <td>06037800204</td>\n",
       "      <td>06037</td>\n",
       "      <td>06037</td>\n",
       "    </tr>\n",
       "    <tr>\n",
       "      <th>1063145</th>\n",
       "      <td>060378002043011</td>\n",
       "      <td>060378002043011</td>\n",
       "      <td>06</td>\n",
       "      <td>060378002043</td>\n",
       "      <td>06037800204</td>\n",
       "      <td>060378002043</td>\n",
       "      <td>06037800204</td>\n",
       "      <td>NaN</td>\n",
       "      <td>06037800204</td>\n",
       "      <td>06037</td>\n",
       "      <td>06037</td>\n",
       "    </tr>\n",
       "    <tr>\n",
       "      <th>1063146</th>\n",
       "      <td>060378002043027</td>\n",
       "      <td>060378002043027</td>\n",
       "      <td>06</td>\n",
       "      <td>060378002043</td>\n",
       "      <td>06037800204</td>\n",
       "      <td>060378002043</td>\n",
       "      <td>06037800204</td>\n",
       "      <td>NaN</td>\n",
       "      <td>06037800204</td>\n",
       "      <td>06037</td>\n",
       "      <td>06037</td>\n",
       "    </tr>\n",
       "    <tr>\n",
       "      <th>1063147</th>\n",
       "      <td>060378002043007</td>\n",
       "      <td>060378002043007</td>\n",
       "      <td>06</td>\n",
       "      <td>060378002043</td>\n",
       "      <td>06037800204</td>\n",
       "      <td>060378002043</td>\n",
       "      <td>06037800204</td>\n",
       "      <td>NaN</td>\n",
       "      <td>06037800204</td>\n",
       "      <td>06037</td>\n",
       "      <td>06037</td>\n",
       "    </tr>\n",
       "    <tr>\n",
       "      <th>1063148</th>\n",
       "      <td>060378002043029</td>\n",
       "      <td>060378002043029</td>\n",
       "      <td>06</td>\n",
       "      <td>060378002043</td>\n",
       "      <td>06037800204</td>\n",
       "      <td>060378002043</td>\n",
       "      <td>06037800204</td>\n",
       "      <td>NaN</td>\n",
       "      <td>06037800204</td>\n",
       "      <td>06037</td>\n",
       "      <td>06037</td>\n",
       "    </tr>\n",
       "    <tr>\n",
       "      <th>1063149</th>\n",
       "      <td>060378002043025</td>\n",
       "      <td>060378002043025</td>\n",
       "      <td>06</td>\n",
       "      <td>060378002043</td>\n",
       "      <td>06037800204</td>\n",
       "      <td>060378002043</td>\n",
       "      <td>06037800204</td>\n",
       "      <td>NaN</td>\n",
       "      <td>06037800204</td>\n",
       "      <td>06037</td>\n",
       "      <td>06037</td>\n",
       "    </tr>\n",
       "    <tr>\n",
       "      <th>1063150</th>\n",
       "      <td>060378002043005</td>\n",
       "      <td>060378002043005</td>\n",
       "      <td>06</td>\n",
       "      <td>060378002043</td>\n",
       "      <td>06037800204</td>\n",
       "      <td>060378002043</td>\n",
       "      <td>06037800204</td>\n",
       "      <td>NaN</td>\n",
       "      <td>06037800204</td>\n",
       "      <td>06037</td>\n",
       "      <td>06037</td>\n",
       "    </tr>\n",
       "    <tr>\n",
       "      <th>1063151</th>\n",
       "      <td>060378002043017</td>\n",
       "      <td>060378002043017</td>\n",
       "      <td>06</td>\n",
       "      <td>060378002043</td>\n",
       "      <td>06037800204</td>\n",
       "      <td>060378002043</td>\n",
       "      <td>06037800204</td>\n",
       "      <td>NaN</td>\n",
       "      <td>06037800204</td>\n",
       "      <td>06037</td>\n",
       "      <td>06037</td>\n",
       "    </tr>\n",
       "    <tr>\n",
       "      <th>1063152</th>\n",
       "      <td>060378002043024</td>\n",
       "      <td>060378002043024</td>\n",
       "      <td>06</td>\n",
       "      <td>060378002043</td>\n",
       "      <td>06037800204</td>\n",
       "      <td>060378002043</td>\n",
       "      <td>06037800204</td>\n",
       "      <td>NaN</td>\n",
       "      <td>06037800204</td>\n",
       "      <td>06037</td>\n",
       "      <td>06037</td>\n",
       "    </tr>\n",
       "    <tr>\n",
       "      <th>1063153</th>\n",
       "      <td>060378002043006</td>\n",
       "      <td>060378002043006</td>\n",
       "      <td>06</td>\n",
       "      <td>060378002043</td>\n",
       "      <td>06037800204</td>\n",
       "      <td>060378002043</td>\n",
       "      <td>06037800204</td>\n",
       "      <td>NaN</td>\n",
       "      <td>06037800204</td>\n",
       "      <td>06037</td>\n",
       "      <td>06037</td>\n",
       "    </tr>\n",
       "    <tr>\n",
       "      <th>1063154</th>\n",
       "      <td>060378002043010</td>\n",
       "      <td>060378002043010</td>\n",
       "      <td>06</td>\n",
       "      <td>060378002043</td>\n",
       "      <td>06037800204</td>\n",
       "      <td>060378002043</td>\n",
       "      <td>06037800204</td>\n",
       "      <td>NaN</td>\n",
       "      <td>06037800204</td>\n",
       "      <td>06037</td>\n",
       "      <td>06037</td>\n",
       "    </tr>\n",
       "    <tr>\n",
       "      <th>1063155</th>\n",
       "      <td>060378002043022</td>\n",
       "      <td>060378002043022</td>\n",
       "      <td>06</td>\n",
       "      <td>060378002043</td>\n",
       "      <td>06037800204</td>\n",
       "      <td>060378002043</td>\n",
       "      <td>06037800204</td>\n",
       "      <td>NaN</td>\n",
       "      <td>06037800204</td>\n",
       "      <td>06037</td>\n",
       "      <td>06037</td>\n",
       "    </tr>\n",
       "    <tr>\n",
       "      <th>1063156</th>\n",
       "      <td>060378002043028</td>\n",
       "      <td>060378002043028</td>\n",
       "      <td>06</td>\n",
       "      <td>060378002043</td>\n",
       "      <td>06037800204</td>\n",
       "      <td>060378002043</td>\n",
       "      <td>06037800204</td>\n",
       "      <td>NaN</td>\n",
       "      <td>06037800204</td>\n",
       "      <td>06037</td>\n",
       "      <td>06037</td>\n",
       "    </tr>\n",
       "    <tr>\n",
       "      <th>1063157</th>\n",
       "      <td>060378002043009</td>\n",
       "      <td>060378002043009</td>\n",
       "      <td>06</td>\n",
       "      <td>060378002043</td>\n",
       "      <td>06037800204</td>\n",
       "      <td>060378002043</td>\n",
       "      <td>06037800204</td>\n",
       "      <td>NaN</td>\n",
       "      <td>06037800204</td>\n",
       "      <td>06037</td>\n",
       "      <td>06037</td>\n",
       "    </tr>\n",
       "    <tr>\n",
       "      <th>1063158</th>\n",
       "      <td>060378002043026</td>\n",
       "      <td>060378002043026</td>\n",
       "      <td>06</td>\n",
       "      <td>060378002043</td>\n",
       "      <td>06037800204</td>\n",
       "      <td>060378002043</td>\n",
       "      <td>06037800204</td>\n",
       "      <td>NaN</td>\n",
       "      <td>06037800204</td>\n",
       "      <td>06037</td>\n",
       "      <td>06037</td>\n",
       "    </tr>\n",
       "    <tr>\n",
       "      <th>1063159</th>\n",
       "      <td>060378002043003</td>\n",
       "      <td>060378002043003</td>\n",
       "      <td>06</td>\n",
       "      <td>060378002043</td>\n",
       "      <td>06037800204</td>\n",
       "      <td>060378002043</td>\n",
       "      <td>06037800204</td>\n",
       "      <td>NaN</td>\n",
       "      <td>06037800204</td>\n",
       "      <td>06037</td>\n",
       "      <td>06037</td>\n",
       "    </tr>\n",
       "    <tr>\n",
       "      <th>1063160</th>\n",
       "      <td>060378002043016</td>\n",
       "      <td>060378002043016</td>\n",
       "      <td>06</td>\n",
       "      <td>060378002043</td>\n",
       "      <td>06037800204</td>\n",
       "      <td>060378002043</td>\n",
       "      <td>06037800204</td>\n",
       "      <td>NaN</td>\n",
       "      <td>06037800204</td>\n",
       "      <td>06037</td>\n",
       "      <td>06037</td>\n",
       "    </tr>\n",
       "    <tr>\n",
       "      <th>1063161</th>\n",
       "      <td>060378002043008</td>\n",
       "      <td>060378002043008</td>\n",
       "      <td>06</td>\n",
       "      <td>060378002043</td>\n",
       "      <td>06037800204</td>\n",
       "      <td>060378002043</td>\n",
       "      <td>06037800204</td>\n",
       "      <td>NaN</td>\n",
       "      <td>06037800204</td>\n",
       "      <td>06037</td>\n",
       "      <td>06037</td>\n",
       "    </tr>\n",
       "    <tr>\n",
       "      <th>1063162</th>\n",
       "      <td>060378002043018</td>\n",
       "      <td>060378002043018</td>\n",
       "      <td>06</td>\n",
       "      <td>060378002043</td>\n",
       "      <td>06037800204</td>\n",
       "      <td>060378002043</td>\n",
       "      <td>06037800204</td>\n",
       "      <td>NaN</td>\n",
       "      <td>06037800204</td>\n",
       "      <td>06037</td>\n",
       "      <td>06037</td>\n",
       "    </tr>\n",
       "    <tr>\n",
       "      <th>1063163</th>\n",
       "      <td>060378002043015</td>\n",
       "      <td>060378002043015</td>\n",
       "      <td>06</td>\n",
       "      <td>060378002043</td>\n",
       "      <td>06037800204</td>\n",
       "      <td>060378002043</td>\n",
       "      <td>06037800204</td>\n",
       "      <td>NaN</td>\n",
       "      <td>06037800204</td>\n",
       "      <td>06037</td>\n",
       "      <td>06037</td>\n",
       "    </tr>\n",
       "    <tr>\n",
       "      <th>1063164</th>\n",
       "      <td>060378002043000</td>\n",
       "      <td>060378002043000</td>\n",
       "      <td>06</td>\n",
       "      <td>060378002043</td>\n",
       "      <td>06037800204</td>\n",
       "      <td>060378002043</td>\n",
       "      <td>06037800204</td>\n",
       "      <td>NaN</td>\n",
       "      <td>06037800204</td>\n",
       "      <td>06037</td>\n",
       "      <td>06037</td>\n",
       "    </tr>\n",
       "    <tr>\n",
       "      <th>1063165</th>\n",
       "      <td>060378002043021</td>\n",
       "      <td>060378002043021</td>\n",
       "      <td>06</td>\n",
       "      <td>060378002043</td>\n",
       "      <td>06037800204</td>\n",
       "      <td>060378002043</td>\n",
       "      <td>06037800204</td>\n",
       "      <td>NaN</td>\n",
       "      <td>06037800204</td>\n",
       "      <td>06037</td>\n",
       "      <td>06037</td>\n",
       "    </tr>\n",
       "    <tr>\n",
       "      <th>1063166</th>\n",
       "      <td>060378002043012</td>\n",
       "      <td>060378002043012</td>\n",
       "      <td>06</td>\n",
       "      <td>060378002043</td>\n",
       "      <td>06037800204</td>\n",
       "      <td>060378002043</td>\n",
       "      <td>06037800204</td>\n",
       "      <td>NaN</td>\n",
       "      <td>06037800204</td>\n",
       "      <td>06037</td>\n",
       "      <td>06037</td>\n",
       "    </tr>\n",
       "    <tr>\n",
       "      <th>1063167</th>\n",
       "      <td>060378002043020</td>\n",
       "      <td>060378002043020</td>\n",
       "      <td>06</td>\n",
       "      <td>060378002043</td>\n",
       "      <td>06037800204</td>\n",
       "      <td>060378002043</td>\n",
       "      <td>06037800204</td>\n",
       "      <td>NaN</td>\n",
       "      <td>06037800204</td>\n",
       "      <td>06037</td>\n",
       "      <td>06037</td>\n",
       "    </tr>\n",
       "    <tr>\n",
       "      <th>1063168</th>\n",
       "      <td>060378002043001</td>\n",
       "      <td>060378002043001</td>\n",
       "      <td>06</td>\n",
       "      <td>060378002043</td>\n",
       "      <td>06037800204</td>\n",
       "      <td>060378002043</td>\n",
       "      <td>06037800204</td>\n",
       "      <td>NaN</td>\n",
       "      <td>06037800204</td>\n",
       "      <td>06037</td>\n",
       "      <td>06037</td>\n",
       "    </tr>\n",
       "    <tr>\n",
       "      <th>1063169</th>\n",
       "      <td>060378002043002</td>\n",
       "      <td>060378002043002</td>\n",
       "      <td>06</td>\n",
       "      <td>060378002043</td>\n",
       "      <td>06037800204</td>\n",
       "      <td>060378002043</td>\n",
       "      <td>06037800204</td>\n",
       "      <td>NaN</td>\n",
       "      <td>06037800204</td>\n",
       "      <td>06037</td>\n",
       "      <td>06037</td>\n",
       "    </tr>\n",
       "    <tr>\n",
       "      <th>1063170</th>\n",
       "      <td>060378002043004</td>\n",
       "      <td>060378002043004</td>\n",
       "      <td>06</td>\n",
       "      <td>060378002043</td>\n",
       "      <td>06037800204</td>\n",
       "      <td>060378002043</td>\n",
       "      <td>06037800204</td>\n",
       "      <td>NaN</td>\n",
       "      <td>06037800204</td>\n",
       "      <td>06037</td>\n",
       "      <td>06037</td>\n",
       "    </tr>\n",
       "    <tr>\n",
       "      <th>1063171</th>\n",
       "      <td>060378002043014</td>\n",
       "      <td>060378002043014</td>\n",
       "      <td>06</td>\n",
       "      <td>060378002043</td>\n",
       "      <td>06037800204</td>\n",
       "      <td>060378002043</td>\n",
       "      <td>06037800204</td>\n",
       "      <td>NaN</td>\n",
       "      <td>06037800204</td>\n",
       "      <td>06037</td>\n",
       "      <td>06037</td>\n",
       "    </tr>\n",
       "    <tr>\n",
       "      <th>1063172</th>\n",
       "      <td>060378002043019</td>\n",
       "      <td>060378002043019</td>\n",
       "      <td>06</td>\n",
       "      <td>060378002043</td>\n",
       "      <td>06037800204</td>\n",
       "      <td>060378002043</td>\n",
       "      <td>06037800204</td>\n",
       "      <td>NaN</td>\n",
       "      <td>06037800204</td>\n",
       "      <td>06037</td>\n",
       "      <td>06037</td>\n",
       "    </tr>\n",
       "  </tbody>\n",
       "</table>\n",
       "</div>"
      ],
      "text/plain": [
       "                      ES            TIGER  sf         ESCBG         ESCT  \\\n",
       "1063143  060378002043013  060378002043013  06  060378002043  06037800204   \n",
       "1063144  060378002043023  060378002043023  06  060378002043  06037800204   \n",
       "1063145  060378002043011  060378002043011  06  060378002043  06037800204   \n",
       "1063146  060378002043027  060378002043027  06  060378002043  06037800204   \n",
       "1063147  060378002043007  060378002043007  06  060378002043  06037800204   \n",
       "1063148  060378002043029  060378002043029  06  060378002043  06037800204   \n",
       "1063149  060378002043025  060378002043025  06  060378002043  06037800204   \n",
       "1063150  060378002043005  060378002043005  06  060378002043  06037800204   \n",
       "1063151  060378002043017  060378002043017  06  060378002043  06037800204   \n",
       "1063152  060378002043024  060378002043024  06  060378002043  06037800204   \n",
       "1063153  060378002043006  060378002043006  06  060378002043  06037800204   \n",
       "1063154  060378002043010  060378002043010  06  060378002043  06037800204   \n",
       "1063155  060378002043022  060378002043022  06  060378002043  06037800204   \n",
       "1063156  060378002043028  060378002043028  06  060378002043  06037800204   \n",
       "1063157  060378002043009  060378002043009  06  060378002043  06037800204   \n",
       "1063158  060378002043026  060378002043026  06  060378002043  06037800204   \n",
       "1063159  060378002043003  060378002043003  06  060378002043  06037800204   \n",
       "1063160  060378002043016  060378002043016  06  060378002043  06037800204   \n",
       "1063161  060378002043008  060378002043008  06  060378002043  06037800204   \n",
       "1063162  060378002043018  060378002043018  06  060378002043  06037800204   \n",
       "1063163  060378002043015  060378002043015  06  060378002043  06037800204   \n",
       "1063164  060378002043000  060378002043000  06  060378002043  06037800204   \n",
       "1063165  060378002043021  060378002043021  06  060378002043  06037800204   \n",
       "1063166  060378002043012  060378002043012  06  060378002043  06037800204   \n",
       "1063167  060378002043020  060378002043020  06  060378002043  06037800204   \n",
       "1063168  060378002043001  060378002043001  06  060378002043  06037800204   \n",
       "1063169  060378002043002  060378002043002  06  060378002043  06037800204   \n",
       "1063170  060378002043004  060378002043004  06  060378002043  06037800204   \n",
       "1063171  060378002043014  060378002043014  06  060378002043  06037800204   \n",
       "1063172  060378002043019  060378002043019  06  060378002043  06037800204   \n",
       "\n",
       "             TIGERCBG      TIGERCT  CBG           CT TIGERCOUNTY  GEOID  \n",
       "1063143  060378002043  06037800204  NaN  06037800204       06037  06037  \n",
       "1063144  060378002043  06037800204  NaN  06037800204       06037  06037  \n",
       "1063145  060378002043  06037800204  NaN  06037800204       06037  06037  \n",
       "1063146  060378002043  06037800204  NaN  06037800204       06037  06037  \n",
       "1063147  060378002043  06037800204  NaN  06037800204       06037  06037  \n",
       "1063148  060378002043  06037800204  NaN  06037800204       06037  06037  \n",
       "1063149  060378002043  06037800204  NaN  06037800204       06037  06037  \n",
       "1063150  060378002043  06037800204  NaN  06037800204       06037  06037  \n",
       "1063151  060378002043  06037800204  NaN  06037800204       06037  06037  \n",
       "1063152  060378002043  06037800204  NaN  06037800204       06037  06037  \n",
       "1063153  060378002043  06037800204  NaN  06037800204       06037  06037  \n",
       "1063154  060378002043  06037800204  NaN  06037800204       06037  06037  \n",
       "1063155  060378002043  06037800204  NaN  06037800204       06037  06037  \n",
       "1063156  060378002043  06037800204  NaN  06037800204       06037  06037  \n",
       "1063157  060378002043  06037800204  NaN  06037800204       06037  06037  \n",
       "1063158  060378002043  06037800204  NaN  06037800204       06037  06037  \n",
       "1063159  060378002043  06037800204  NaN  06037800204       06037  06037  \n",
       "1063160  060378002043  06037800204  NaN  06037800204       06037  06037  \n",
       "1063161  060378002043  06037800204  NaN  06037800204       06037  06037  \n",
       "1063162  060378002043  06037800204  NaN  06037800204       06037  06037  \n",
       "1063163  060378002043  06037800204  NaN  06037800204       06037  06037  \n",
       "1063164  060378002043  06037800204  NaN  06037800204       06037  06037  \n",
       "1063165  060378002043  06037800204  NaN  06037800204       06037  06037  \n",
       "1063166  060378002043  06037800204  NaN  06037800204       06037  06037  \n",
       "1063167  060378002043  06037800204  NaN  06037800204       06037  06037  \n",
       "1063168  060378002043  06037800204  NaN  06037800204       06037  06037  \n",
       "1063169  060378002043  06037800204  NaN  06037800204       06037  06037  \n",
       "1063170  060378002043  06037800204  NaN  06037800204       06037  06037  \n",
       "1063171  060378002043  06037800204  NaN  06037800204       06037  06037  \n",
       "1063172  060378002043  06037800204  NaN  06037800204       06037  06037  "
      ]
     },
     "execution_count": 78,
     "metadata": {},
     "output_type": "execute_result"
    },
    {
     "name": "stdout",
     "output_type": "stream",
     "text": [
      "time: 16.2 ms (started: 2022-04-29 16:18:36 -04:00)\n"
     ]
    }
   ],
   "source": [
    "diff1 = diff.query(\"TIGER.notna() & CBG.isna() & GEOID.notna() & CT.notna()\", engine=\"python\")\n",
    "diff1"
   ]
  },
  {
   "cell_type": "code",
   "execution_count": 60,
   "id": "a3bad9d9-0772-411b-8ebf-0baae8f4445e",
   "metadata": {
    "execution": {
     "iopub.execute_input": "2022-04-29T03:56:40.503344Z",
     "iopub.status.busy": "2022-04-29T03:56:40.503016Z",
     "iopub.status.idle": "2022-04-29T03:56:40.512077Z",
     "shell.execute_reply": "2022-04-29T03:56:40.511687Z",
     "shell.execute_reply.started": "2022-04-29T03:56:40.503322Z"
    },
    "tags": []
   },
   "outputs": [
    {
     "data": {
      "text/plain": [
       "((3, 11), {'02158', '46102', '69085'})"
      ]
     },
     "execution_count": 60,
     "metadata": {},
     "output_type": "execute_result"
    },
    {
     "name": "stdout",
     "output_type": "stream",
     "text": [
      "time: 6.54 ms (started: 2022-04-28 23:56:40 -04:00)\n"
     ]
    }
   ],
   "source": [
    "diff1 = diff.query(\"TIGERCOUNTY.isna() & ~GEOID.isna()\", engine=\"python\")\n",
    " # (6295, 6)\n",
    "diff1.shape, set(diff1.GEOID)"
   ]
  },
  {
   "cell_type": "code",
   "execution_count": 74,
   "id": "c38f42f0-a139-40d3-bf21-801572db175f",
   "metadata": {
    "execution": {
     "iopub.execute_input": "2022-04-29T04:02:14.928986Z",
     "iopub.status.busy": "2022-04-29T04:02:14.928686Z",
     "iopub.status.idle": "2022-04-29T04:02:15.641943Z",
     "shell.execute_reply": "2022-04-29T04:02:15.641509Z",
     "shell.execute_reply.started": "2022-04-29T04:02:14.928964Z"
    },
    "tags": []
   },
   "outputs": [
    {
     "data": {
      "text/plain": [
       "(True, True)"
      ]
     },
     "execution_count": 74,
     "metadata": {},
     "output_type": "execute_result"
    },
    {
     "name": "stdout",
     "output_type": "stream",
     "text": [
      "time: 711 ms (started: 2022-04-29 00:02:14 -04:00)\n"
     ]
    }
   ],
   "source": [
    "\"36085\" in set(all_cbs.TIGERCOUNTY), \"36085\" in set(counties)"
   ]
  },
  {
   "cell_type": "code",
   "execution_count": null,
   "id": "7cb5ea90-5830-4315-9cbb-80dd1788b16e",
   "metadata": {},
   "outputs": [],
   "source": []
  },
  {
   "cell_type": "code",
   "execution_count": null,
   "id": "c7e038a1-45c0-49fe-b823-39eeebaaa965",
   "metadata": {},
   "outputs": [],
   "source": []
  },
  {
   "cell_type": "markdown",
   "id": "7f529650-3f11-4ec1-9c73-8b29dace3a9d",
   "metadata": {
    "tags": []
   },
   "source": [
    "## in GEOID, but not in CBG or CT"
   ]
  },
  {
   "cell_type": "code",
   "execution_count": 36,
   "id": "9403810d-2364-4c7f-adbf-6f97db219103",
   "metadata": {
    "execution": {
     "iopub.execute_input": "2022-04-29T03:33:45.075414Z",
     "iopub.status.busy": "2022-04-29T03:33:45.075109Z",
     "iopub.status.idle": "2022-04-29T03:33:45.086550Z",
     "shell.execute_reply": "2022-04-29T03:33:45.086135Z",
     "shell.execute_reply.started": "2022-04-29T03:33:45.075393Z"
    },
    "tags": []
   },
   "outputs": [
    {
     "name": "stdout",
     "output_type": "stream",
     "text": [
      "(6296, 6) {'69120', '04019', '06037', '02270', '36065', '36053', '46113', '51515', '36085'}\n",
      "time: 8.75 ms (started: 2022-04-28 23:33:45 -04:00)\n"
     ]
    }
   ],
   "source": [
    "diff1 = diff.query(\"~TIGER.isna() & CBG.isna()\", engine=\"python\")\n",
    " # (6296, 6)\n",
    "print(diff1.shape, set(diff1.TIGER.str[:5]))"
   ]
  },
  {
   "cell_type": "code",
   "execution_count": 39,
   "id": "5f68aa16-3627-45c5-a07a-8e8f66259fde",
   "metadata": {
    "execution": {
     "iopub.execute_input": "2022-04-29T03:35:25.629669Z",
     "iopub.status.busy": "2022-04-29T03:35:25.629364Z",
     "iopub.status.idle": "2022-04-29T03:35:25.642092Z",
     "shell.execute_reply": "2022-04-29T03:35:25.641680Z",
     "shell.execute_reply.started": "2022-04-29T03:35:25.629647Z"
    },
    "tags": []
   },
   "outputs": [
    {
     "data": {
      "text/plain": [
       "((6265, 6),\n",
       " {'02270', '04019', '06037', '36053', '36065', '36085', '46113', '51515'})"
      ]
     },
     "execution_count": 39,
     "metadata": {},
     "output_type": "execute_result"
    },
    {
     "name": "stdout",
     "output_type": "stream",
     "text": [
      "time: 10.1 ms (started: 2022-04-28 23:35:25 -04:00)\n"
     ]
    }
   ],
   "source": [
    "diff1 = diff.query(\"~TIGER.isna() & CT.isna()\", engine=\"python\")\n",
    " # (6295, 6)\n",
    "diff1.shape, set(diff1.TIGER.str[:5])"
   ]
  },
  {
   "cell_type": "markdown",
   "id": "c3d5e7e6-f9c6-45b3-8866-3556fe35b83c",
   "metadata": {},
   "source": [
    "## not in GEOID, but in CBG or CT"
   ]
  },
  {
   "cell_type": "code",
   "execution_count": 32,
   "id": "97be6d6d-973f-456c-b918-82889483c2ae",
   "metadata": {
    "execution": {
     "iopub.execute_input": "2022-04-29T03:32:55.218929Z",
     "iopub.status.busy": "2022-04-29T03:32:55.218628Z",
     "iopub.status.idle": "2022-04-29T03:32:55.227971Z",
     "shell.execute_reply": "2022-04-29T03:32:55.227573Z",
     "shell.execute_reply.started": "2022-04-29T03:32:55.218907Z"
    },
    "tags": []
   },
   "outputs": [
    {
     "data": {
      "text/plain": [
       "((72, 6), {'02158', '04019', '06037', '36053', '36065', '46102', '51019'})"
      ]
     },
     "execution_count": 32,
     "metadata": {},
     "output_type": "execute_result"
    },
    {
     "name": "stdout",
     "output_type": "stream",
     "text": [
      "time: 6.75 ms (started: 2022-04-28 23:32:55 -04:00)\n"
     ]
    }
   ],
   "source": [
    "diff1 = diff.query(\"TIGER.isna() & ~CBG.isna()\", engine=\"python\")\n",
    " # (6295, 6)\n",
    "diff1.shape, set(diff1.CBG.str[:5])"
   ]
  },
  {
   "cell_type": "code",
   "execution_count": 42,
   "id": "c0cf3adc-3574-44d7-a277-8867823f7726",
   "metadata": {
    "execution": {
     "iopub.execute_input": "2022-04-29T03:36:41.665054Z",
     "iopub.status.busy": "2022-04-29T03:36:41.664742Z",
     "iopub.status.idle": "2022-04-29T03:36:41.674075Z",
     "shell.execute_reply": "2022-04-29T03:36:41.673689Z",
     "shell.execute_reply.started": "2022-04-29T03:36:41.665033Z"
    },
    "tags": []
   },
   "outputs": [
    {
     "data": {
      "text/plain": [
       "((25, 6), {'02158', '04019', '06037', '36053', '36065', '46102', '51019'})"
      ]
     },
     "execution_count": 42,
     "metadata": {},
     "output_type": "execute_result"
    },
    {
     "name": "stdout",
     "output_type": "stream",
     "text": [
      "time: 6.75 ms (started: 2022-04-28 23:36:41 -04:00)\n"
     ]
    }
   ],
   "source": [
    "diff1 = diff.query(\"TIGER.isna() & ~CT.isna()\", engine=\"python\")\n",
    " # (6295, 6)\n",
    "diff1.shape, set(diff1.CT.str[:5])"
   ]
  },
  {
   "cell_type": "markdown",
   "id": "c14ceee5-dfee-4a34-b03a-02e858976336",
   "metadata": {},
   "source": [
    "\"Wade Hampton Census Area, Alaska\" (geo code AK270, FIPS code 02270) was renamed and recoded as \"Kusilvak Census Area\" (AK158, 02158) effective July 1, 2015.\n",
    "\"Shannon County, South Dakota\" (SD113, 46113) was renamed and recoded as \"Oglala Lakota County\" (SD102, 46102) effective May 1, 2015.\n",
    "The independent city of \"Bedford, Virginia\" (VA515, 51515) was merged into \"Bedford County\" (VA019, 51019) effective July 1, 2013, with an estimated net added population of 6,222.  This change deprecates the BEA combined area of \"Bedford and Bedford City\" (VA909).\n",
    "https://www.economy.com/support/blog/buffet.aspx?did=EBD51E7D-8822-42F2-BD0D-8937239911E9\n"
   ]
  },
  {
   "cell_type": "code",
   "execution_count": null,
   "id": "c45adbe5-25e2-4335-9bcc-906d2a9175db",
   "metadata": {},
   "outputs": [],
   "source": [
    "FROM (found in TIGER-GEOID)\n",
    "['02270', '36085', '46113', '51515', ]\n",
    "\n",
    "TO (found in TIGER-CBG, and TIGER-CT)\n",
    "['02158',          '46102', '51019', ]"
   ]
  },
  {
   "cell_type": "code",
   "execution_count": 45,
   "id": "cb177eb8-8a8b-41fc-83cb-c8e0787e85cd",
   "metadata": {
    "execution": {
     "iopub.execute_input": "2022-04-29T03:39:40.616704Z",
     "iopub.status.busy": "2022-04-29T03:39:40.616378Z",
     "iopub.status.idle": "2022-04-29T03:39:40.622973Z",
     "shell.execute_reply": "2022-04-29T03:39:40.622564Z",
     "shell.execute_reply.started": "2022-04-29T03:39:40.616674Z"
    },
    "tags": []
   },
   "outputs": [
    {
     "data": {
      "text/plain": [
       "(set(), {'69120'})"
      ]
     },
     "execution_count": 45,
     "metadata": {},
     "output_type": "execute_result"
    },
    {
     "name": "stdout",
     "output_type": "stream",
     "text": [
      "time: 3.02 ms (started: 2022-04-28 23:39:40 -04:00)\n"
     ]
    }
   ],
   "source": [
    "geoid_cbg = {'69120', '04019', '06037', '02270', '36065', '36053', '46113', '51515', '36085'}\n",
    "geoid_ct =  {'02270', '04019', '06037', '36053', '36065', '36085', '46113', '51515'}\n",
    "geoid_cbg - geoid_ct, geoid_ct - geoid_cbg # ({'69120'}, set())\n",
    "\n",
    "cbg_geoid = {'02158', '04019', '06037', '36053', '36065', '46102', '51019'}\n",
    "ct_geoid = {'02158', '04019', '06037', '36053', '36065', '46102', '51019'}\n",
    "cbg_geoid - ct_geoid, ct_geoid - cbg_geoid  # (set(), set())\n",
    "\n",
    "\n",
    "cbg_ct = {'02158', '04019', '06037', '36053', '36065', '46102', '51019'}\n",
    "ct_cbg = {'02158', '04019', '06037', '36053', '36065', '46102', '51019', '69120'}\n",
    "cbg_ct - ct_cbg, ct_cbg - cbg_ct # (set(), {'69120'})"
   ]
  },
  {
   "cell_type": "markdown",
   "id": "3b9de784-e066-4045-993a-faa68ad6b46b",
   "metadata": {},
   "source": [
    "## in/not in CBG vs CT"
   ]
  },
  {
   "cell_type": "code",
   "execution_count": 34,
   "id": "877db62e-11cf-4cc8-8fe8-a48a7a32d78d",
   "metadata": {
    "execution": {
     "iopub.execute_input": "2022-04-29T03:33:21.902491Z",
     "iopub.status.busy": "2022-04-29T03:33:21.902194Z",
     "iopub.status.idle": "2022-04-29T03:33:21.910992Z",
     "shell.execute_reply": "2022-04-29T03:33:21.910581Z",
     "shell.execute_reply.started": "2022-04-29T03:33:21.902469Z"
    },
    "tags": []
   },
   "outputs": [
    {
     "data": {
      "text/plain": [
       "((72, 6), {'02158', '04019', '06037', '36053', '36065', '46102', '51019'})"
      ]
     },
     "execution_count": 34,
     "metadata": {},
     "output_type": "execute_result"
    },
    {
     "name": "stdout",
     "output_type": "stream",
     "text": [
      "time: 6.22 ms (started: 2022-04-28 23:33:21 -04:00)\n"
     ]
    }
   ],
   "source": [
    "diff1 = diff.query(\"CT.isna() & ~CBG.isna()\", engine=\"python\")\n",
    " # (6295, 6)\n",
    "diff1.shape, set(diff1.CBG.str[:5])"
   ]
  },
  {
   "cell_type": "code",
   "execution_count": 35,
   "id": "fc95e29a-f9b8-47d5-8071-fc185aa43850",
   "metadata": {
    "execution": {
     "iopub.execute_input": "2022-04-29T03:33:32.424699Z",
     "iopub.status.busy": "2022-04-29T03:33:32.424401Z",
     "iopub.status.idle": "2022-04-29T03:33:32.433177Z",
     "shell.execute_reply": "2022-04-29T03:33:32.432794Z",
     "shell.execute_reply.started": "2022-04-29T03:33:32.424679Z"
    },
    "tags": []
   },
   "outputs": [
    {
     "data": {
      "text/plain": [
       "((56, 6),\n",
       " {'02158', '04019', '06037', '36053', '36065', '46102', '51019', '69120'})"
      ]
     },
     "execution_count": 35,
     "metadata": {},
     "output_type": "execute_result"
    },
    {
     "name": "stdout",
     "output_type": "stream",
     "text": [
      "time: 6.23 ms (started: 2022-04-28 23:33:32 -04:00)\n"
     ]
    }
   ],
   "source": [
    "diff1 = diff.query(\"CBG.isna() & ~CT.isna()\", engine=\"python\")\n",
    " # (6295, 6)\n",
    "diff1.shape, set(diff1.CT.str[:5])"
   ]
  },
  {
   "cell_type": "code",
   "execution_count": null,
   "id": "5062b867-7670-4476-a75d-85081112fa19",
   "metadata": {},
   "outputs": [],
   "source": []
  },
  {
   "cell_type": "code",
   "execution_count": null,
   "id": "5c62bb24-60ca-4218-b35d-2f0a2a8bcebb",
   "metadata": {},
   "outputs": [],
   "source": []
  },
  {
   "cell_type": "markdown",
   "id": "958d05a4-4f3e-4a19-b1e3-267ec95f8312",
   "metadata": {},
   "source": []
  },
  {
   "cell_type": "code",
   "execution_count": null,
   "id": "e8c79590-ffc5-4dcc-96c8-02b3ec0fc204",
   "metadata": {},
   "outputs": [],
   "source": []
  },
  {
   "cell_type": "code",
   "execution_count": null,
   "id": "e42b4cbc-ab94-47db-8dae-6c27fadb8686",
   "metadata": {},
   "outputs": [],
   "source": []
  },
  {
   "cell_type": "code",
   "execution_count": null,
   "id": "dc702f30-685a-4fac-b673-bd7c54400cb8",
   "metadata": {},
   "outputs": [],
   "source": []
  },
  {
   "cell_type": "markdown",
   "id": "99ceb667-a269-4d23-b73b-f38318f66bbf",
   "metadata": {},
   "source": [
    "# EXTRAS"
   ]
  },
  {
   "cell_type": "code",
   "execution_count": 42,
   "id": "b2d19ef7-3ecb-433f-9638-76d359a3758d",
   "metadata": {
    "execution": {
     "iopub.execute_input": "2022-04-25T18:16:35.087171Z",
     "iopub.status.busy": "2022-04-25T18:16:35.086869Z",
     "iopub.status.idle": "2022-04-25T18:16:35.091355Z",
     "shell.execute_reply": "2022-04-25T18:16:35.090974Z",
     "shell.execute_reply.started": "2022-04-25T18:16:35.087150Z"
    },
    "tags": []
   },
   "outputs": [
    {
     "data": {
      "text/plain": [
       "(set(), set())"
      ]
     },
     "execution_count": 42,
     "metadata": {},
     "output_type": "execute_result"
    }
   ],
   "source": [
    "# all current bossdata indices on ES\n",
    "indices = \"\"\"bossdata01 \n",
    "bossdata02 \n",
    "bossdata04 \n",
    "bossdata05 \n",
    "bossdata06 \n",
    "bossdata08 \n",
    "bossdata09 \n",
    "bossdata10 \n",
    "bossdata11 \n",
    "bossdata12 \n",
    "bossdata13 \n",
    "bossdata15 \n",
    "bossdata16 \n",
    "bossdata17 \n",
    "bossdata18 \n",
    "bossdata19 \n",
    "bossdata20 \n",
    "bossdata21 \n",
    "bossdata22 \n",
    "bossdata23 \n",
    "bossdata24 \n",
    "bossdata25 \n",
    "bossdata26 \n",
    "bossdata27 \n",
    "bossdata28 \n",
    "bossdata29 \n",
    "bossdata30 \n",
    "bossdata31 \n",
    "bossdata32 \n",
    "bossdata33 \n",
    "bossdata34 \n",
    "bossdata35 \n",
    "bossdata36 \n",
    "bossdata37 \n",
    "bossdata38 \n",
    "bossdata39 \n",
    "bossdata40 \n",
    "bossdata41 \n",
    "bossdata42 \n",
    "bossdata44 \n",
    "bossdata45 \n",
    "bossdata46 \n",
    "bossdata47 \n",
    "bossdata48 \n",
    "bossdata49 \n",
    "bossdata50 \n",
    "bossdata51 \n",
    "bossdata53 \n",
    "bossdata54 \n",
    "bossdata55 \n",
    "bossdata56 \n",
    "bossdata60 \n",
    "bossdata66 \n",
    "bossdata69 \n",
    "bossdata72 \n",
    "bossdata78\"\"\".split()\n",
    "indices = {x[-2:] for x in indices}\n",
    "set(SF56) - indices, indices - set(SF56)"
   ]
  },
  {
   "cell_type": "code",
   "execution_count": 44,
   "id": "d1e09d25-6e5d-48d1-a6ea-68c065924b4b",
   "metadata": {
    "execution": {
     "iopub.execute_input": "2022-04-25T18:20:10.998087Z",
     "iopub.status.busy": "2022-04-25T18:20:10.997782Z",
     "iopub.status.idle": "2022-04-25T18:20:11.003018Z",
     "shell.execute_reply": "2022-04-25T18:20:11.002649Z",
     "shell.execute_reply.started": "2022-04-25T18:20:10.998066Z"
    }
   },
   "outputs": [
    {
     "data": {
      "text/plain": [
       "(set(), set())"
      ]
     },
     "execution_count": 44,
     "metadata": {},
     "output_type": "execute_result"
    }
   ],
   "source": [
    "# https://www.census.gov/library/reference/code-lists/ansi/ansi-codes-for-states.html\n",
    "#  List of all National FIPS and GNIS Codes File SF57\n",
    "# sf_df = pd.read_csv('https://www2.census.gov/geo/docs/reference/state.txt', \n",
    "#                     dtype=str, sep='|')\n",
    "# sf_df.columns = ['statefips', 'code', 'name', 'ENS']\n",
    "# # THERE ARE 57 STATEFIPS IN TOTAL! PLUS MORE\n",
    "# FIPS States Codes for the Outlying Areas of the United States and the Freely Associated States\n",
    "# SF57 = sf_df.set_index('statefips').to_dict()['code']\n",
    "# sf_df.shape, len(SF57)\n",
    "# print(SF57)\n",
    "\n",
    "### all OZ are found in SF56\n",
    "oz_codes = set(oz_df.sf)\n",
    "# sf_df.query('statefips == \"74\"')\n",
    "# 74\tUM\tU.S. Minor Outlying Islands\n",
    "set(SF56) - oz_codes, oz_codes - set(SF56)\n",
    "\n"
   ]
  },
  {
   "cell_type": "code",
   "execution_count": null,
   "id": "ccf8f7d2-e44d-4f03-bed9-0175fb72dfaf",
   "metadata": {},
   "outputs": [],
   "source": []
  }
 ],
 "metadata": {
  "kernelspec": {
   "display_name": "Python 3 (ipykernel)",
   "language": "python",
   "name": "python3"
  },
  "language_info": {
   "codemirror_mode": {
    "name": "ipython",
    "version": 3
   },
   "file_extension": ".py",
   "mimetype": "text/x-python",
   "name": "python",
   "nbconvert_exporter": "python",
   "pygments_lexer": "ipython3",
   "version": "3.9.7"
  }
 },
 "nbformat": 4,
 "nbformat_minor": 5
}
