{
 "cells": [
  {
   "cell_type": "code",
   "execution_count": 37,
   "id": "5bba6713-f611-4ae7-a104-7592a95cac99",
   "metadata": {},
   "outputs": [
    {
     "name": "stdout",
     "output_type": "stream",
     "text": [
      "TOTAL SIZE:   18.3 KiB\n",
      "       _i1:    824.0 B\n",
      "       _i2:    824.0 B\n",
      "      _i17:    693.0 B\n",
      "       _i5:    579.0 B\n",
      "      _i10:    577.0 B\n",
      "       _i4:    575.0 B\n",
      "       _i7:    563.0 B\n",
      "       _i6:    555.0 B\n",
      "       _i8:    555.0 B\n",
      "      _i21:    547.0 B\n",
      "time: 1.3 ms (started: 2021-12-16 17:40:30 +00:00)\n"
     ]
    }
   ],
   "source": [
    "import sys\n",
    "def sizeof_fmt(size):\n",
    "    for unit in ['','Ki','Mi','Gi','Ti','Pi','Ei','Zi']:\n",
    "        if abs(size) < 1024.0:\n",
    "            return f\"{size:3.1f} {unit}B\"\n",
    "        size /= 1024.0\n",
    "    return f\"{size:.1f} YiB\"\n",
    "\n",
    "print(f'TOTAL SIZE: {sizeof_fmt(sum( (sys.getsizeof(value) for value in locals().values() ))):>10}')\n",
    "for name, size in sorted(((name, sys.getsizeof(value)) for name, value in locals().items()), key= lambda x: -x[1])[:10]:\n",
    "    print(f'{name:>10}: {sizeof_fmt(size):>10}')\n"
   ]
  },
  {
   "cell_type": "code",
   "execution_count": 3,
   "id": "63bcb6e9-b2bb-4ddc-a361-f4a2d6dc8c89",
   "metadata": {},
   "outputs": [
    {
     "name": "stdout",
     "output_type": "stream",
     "text": [
      "time: 381 ms (started: 2021-12-13 16:14:18 +00:00)\n"
     ]
    }
   ],
   "source": [
    "import geopandas as gp\n",
    "import pandas as pd\n",
    "import json\n",
    "import numpy as np"
   ]
  },
  {
   "cell_type": "code",
   "execution_count": 4,
   "id": "7e6b5c0e-3c5e-4211-8b78-31583a18e74c",
   "metadata": {
    "tags": []
   },
   "outputs": [
    {
     "name": "stdout",
     "output_type": "stream",
     "text": [
      "time: 52 ms (started: 2021-12-13 16:14:21 +00:00)\n"
     ]
    }
   ],
   "source": [
    "# !pip3 install elasticsearch-dsl\n",
    "# from elasticsearch_dsl import Search\n",
    "from elasticsearch import Elasticsearch, helpers\n",
    "es = Elasticsearch(['https://3d6a9dd50c7c49c9ab5d23b6891bc03e.us-central1.gcp.cloud.es.io:9243'], \n",
    "                    http_auth=('elastic', 'WMzYk5RXyzE7MRShwPVwHzPX'), timeout=30)\n"
   ]
  },
  {
   "cell_type": "code",
   "execution_count": 5,
   "id": "8cc45bdb-e11d-418c-947a-315ec31411e2",
   "metadata": {},
   "outputs": [
    {
     "name": "stdout",
     "output_type": "stream",
     "text": [
      "time: 284 µs (started: 2021-12-13 16:14:21 +00:00)\n"
     ]
    }
   ],
   "source": [
    "regridcols = ['cbg', 'lat', 'lon', 'func']"
   ]
  },
  {
   "cell_type": "code",
   "execution_count": 6,
   "id": "c14f4be9-8994-4e5b-9cee-c1240c337a6d",
   "metadata": {},
   "outputs": [
    {
     "name": "stdout",
     "output_type": "stream",
     "text": [
      "time: 360 µs (started: 2021-12-13 16:14:21 +00:00)\n"
     ]
    }
   ],
   "source": [
    "STATE_FIPS_LENGTH = 2\n",
    "COUNTY_FIPS_LENGTH = 5\n",
    "TRACT_FIPS_LENGTH = 11\n",
    "BLOCKGROUP_FIPS_LENGTH = 12\n",
    "CENSUSBLOCK_FIPS_LENGTH = 15"
   ]
  },
  {
   "cell_type": "code",
   "execution_count": 7,
   "id": "d1ce1988-164d-40b3-8206-024119ffb335",
   "metadata": {},
   "outputs": [
    {
     "name": "stdout",
     "output_type": "stream",
     "text": [
      "time: 785 µs (started: 2021-12-13 16:14:22 +00:00)\n"
     ]
    }
   ],
   "source": [
    "STATE_FIPS_DICT_52 = { '01': 'AL', '02': 'AK', '04': 'AZ', '05': 'AR', \n",
    "                      '06': 'CA', '08': 'CO', '09': 'CT', '10': 'DE', \n",
    "                      '11': 'DC', '12': 'FL', '13': 'GA', '15': 'HI', \n",
    "                      '16': 'ID', '17': 'IL', '18': 'IN', '19': 'IA', \n",
    "                      '20': 'KS', '21': 'KY', '22': 'LA', '23': 'ME', \n",
    "                      '24': 'MD', '25': 'MA', '26': 'MI', '27': 'MN', \n",
    "                      '28': 'MS', '29': 'MO', '30': 'MT', '31': 'NE', \n",
    "                      '32': 'NV', '33': 'NH', '34': 'NJ', '35': 'NM', \n",
    "                      '36': 'NY', '37': 'NC', '38': 'ND', '39': 'OH', \n",
    "                      '40': 'OK', '41': 'OR', '42': 'PA', '44': 'RI', \n",
    "                      '45': 'SC', '46': 'SD', '47': 'TN', '48': 'TX', \n",
    "                      '49': 'UT', '50': 'VT', '51': 'VA', '53': 'WA', \n",
    "                      '54': 'WV', '55': 'WI', '56': 'WY', '72': 'PR'}\n",
    "STATE_LIST_52 = list(sorted(STATE_FIPS_DICT_52.keys()))\n",
    "R_STATE_FIPS_DICT_52 = {value : key for (key, value) in STATE_FIPS_DICT_52.items()}"
   ]
  },
  {
   "cell_type": "markdown",
   "id": "35c4ee9d-eeca-4314-b393-abf05c2afcc9",
   "metadata": {
    "tags": []
   },
   "source": [
    "#### MEMORY ALLOCATION NOTE: READING all 52 state TIGER SHP will consume all RAM! Can only read and process state by state!"
   ]
  },
  {
   "cell_type": "markdown",
   "id": "11b29923-9630-46c5-9caa-20d00ebfe07c",
   "metadata": {},
   "source": [
    "#### A little jupyter test: running jupyter in background, then run a cell. Now can close the browser window. Once visit this ipynb again, the cell will still be running until completion;"
   ]
  },
  {
   "cell_type": "code",
   "execution_count": null,
   "id": "8dc3c8e4-f47a-48f7-90e3-6b9eb87fc591",
   "metadata": {},
   "outputs": [],
   "source": [
    "import time\n",
    "print('start')\n",
    "x=0\n",
    "time.sleep(5) # Cmd+S, and close the window. Next time visit the ipynb, x=5 as expected\n",
    "print('stop')\n",
    "x=5"
   ]
  },
  {
   "cell_type": "markdown",
   "id": "ead3d5d6-99d9-45f9-bd8d-1eaa8ece805e",
   "metadata": {
    "tags": []
   },
   "source": [
    "### lbcs_function = 0 iff Regrid null or N/A. Else is the thousand digit:\n",
    "\n",
    "https://support.regrid.com/articles/lbcs-keys/#function-classifications\n",
    "\n",
    "- 0 - N/A i.e. Null\n",
    "- 1[000] - Residence or accommodation functions\n",
    "- 2[000] - General sales or services\n",
    "- 3[000] - Manufacturing and wholesale trade\n",
    "- 4[000] - Transportation, communication, information, and utilities\n",
    "- 5[000] - Arts, entertainment, and recreation\n",
    "- 6[000] - Education, public admin., health care, and other inst.\n",
    "- 7[000] - Construction-related businesses\n",
    "- 8[000] - Mining and extraction establishments\n",
    "- 9[000] - Agriculture, forestry, fishing and hunting"
   ]
  },
  {
   "cell_type": "markdown",
   "id": "61bb4fb7-0382-4752-9e3b-c9bb75fd5ddd",
   "metadata": {
    "tags": []
   },
   "source": [
    "## Parsing speeds"
   ]
  },
  {
   "cell_type": "code",
   "execution_count": 131,
   "id": "369f8aa3-9654-4ee7-bffa-42b3cfa89c7a",
   "metadata": {
    "tags": []
   },
   "outputs": [
    {
     "name": "stdout",
     "output_type": "stream",
     "text": [
      "time: 240 µs (started: 2021-12-08 03:07:32 +00:00)\n"
     ]
    }
   ],
   "source": [
    "# la = pd.read_json('large_file') # 3 min = MemoryError: \n",
    "# la1 = gp.read_file(large_file) # TAKING FOREVER! 20min+ and still running"
   ]
  },
  {
   "cell_type": "code",
   "execution_count": 9,
   "id": "2ab0a818-b9aa-4466-aa2d-2388b3d34f62",
   "metadata": {
    "collapsed": true,
    "jupyter": {
     "outputs_hidden": true
    },
    "tags": []
   },
   "outputs": [
    {
     "name": "stdout",
     "output_type": "stream",
     "text": [
      "Collecting cysimdjson\n",
      "  Downloading cysimdjson-21.11b2-cp39-cp39-manylinux_2_17_x86_64.manylinux2014_x86_64.whl (1.3 MB)\n",
      "     |████████████████████████████████| 1.3 MB 3.3 MB/s            \n",
      "\u001b[?25hInstalling collected packages: cysimdjson\n",
      "Successfully installed cysimdjson-21.11b2\n",
      "time: 1.93 s (started: 2021-12-07 22:51:48 +00:00)\n"
     ]
    }
   ],
   "source": [
    "# !pip3 install cysimdjson\n",
    "# import cysimdjson as cjson\n",
    "# parser = cjson.JSONParser()\n",
    "# # laC = parser.parse_string(large_file)\n",
    "# # laC = parser.parse(large_file)\n",
    "# laC.json_parsed(['features'])[:3]\n"
   ]
  },
  {
   "cell_type": "markdown",
   "id": "d892f94c-2232-4b42-99fd-b577009b538e",
   "metadata": {},
   "source": [
    "### pandas read_json (processed jq) = 100x geopandas read_file (zip)"
   ]
  },
  {
   "cell_type": "code",
   "execution_count": 14,
   "id": "768f6fb2-dc2a-4ee5-8e17-42b24c6b974e",
   "metadata": {},
   "outputs": [
    {
     "name": "stdout",
     "output_type": "stream",
     "text": [
      "time: 94 ms (started: 2021-12-09 01:00:37 +00:00)\n"
     ]
    }
   ],
   "source": [
    "laP_test = pd.read_json('~/jsons/wy_laramie.json') # 180ms"
   ]
  },
  {
   "cell_type": "code",
   "execution_count": 15,
   "id": "1e2c9db3-907c-4db3-8e76-d7c4fbc3d389",
   "metadata": {},
   "outputs": [
    {
     "name": "stdout",
     "output_type": "stream",
     "text": [
      "time: 19.9 s (started: 2021-12-09 01:00:38 +00:00)\n"
     ]
    }
   ],
   "source": [
    "laG_test = gp.read_file('~/regrid-bucket/wy_laramie.json') # 18s"
   ]
  },
  {
   "cell_type": "code",
   "execution_count": 19,
   "id": "6c2519a2-b1a4-445b-9e18-e7d430edfb4e",
   "metadata": {},
   "outputs": [
    {
     "name": "stdout",
     "output_type": "stream",
     "text": [
      "time: 398 µs (started: 2021-12-09 01:03:23 +00:00)\n"
     ]
    }
   ],
   "source": [
    "zfile = 'regrid-bucket/ca_orange.geojson.zip'  \n",
    "jfile = 'regrid-bucket/ca_orange.json' # 2.2G\n",
    "jqfile = 'jsons/ca_orange.json' # processed into JSONL "
   ]
  },
  {
   "cell_type": "code",
   "execution_count": 21,
   "id": "716255b7-4544-4512-b9ce-d85fce229dcf",
   "metadata": {},
   "outputs": [
    {
     "data": {
      "text/plain": [
       "'/home/nhat/jsons/vt_addison.json'"
      ]
     },
     "execution_count": 21,
     "metadata": {},
     "output_type": "execute_result"
    },
    {
     "name": "stdout",
     "output_type": "stream",
     "text": [
      "time: 1.8 ms (started: 2021-12-13 16:30:35 +00:00)\n"
     ]
    }
   ],
   "source": [
    "jsonl\n"
   ]
  },
  {
   "cell_type": "code",
   "execution_count": null,
   "id": "92625eb4-8e4e-4ec8-953e-f017da31302e",
   "metadata": {},
   "outputs": [],
   "source": [
    "df = gp.read_file(zfile) # 5min\n",
    "# df = pd.read_json(jfile) # CANNOT PARSE the raw geojson\n",
    "df = pd.read_json(jqfile) # 5s\n"
   ]
  },
  {
   "cell_type": "markdown",
   "id": "cd46cbf4-6dce-4152-a4ca-05062276b83a",
   "metadata": {},
   "source": [
    "# Combine county JSONL files into state DataFrame"
   ]
  },
  {
   "cell_type": "markdown",
   "id": "278c5fe4-20f5-4fbe-9845-6301ba2d69ae",
   "metadata": {},
   "source": [
    "# MICHIGAN: BUG ALERT!"
   ]
  },
  {
   "cell_type": "code",
   "execution_count": 24,
   "id": "e3d9211e-99f2-4977-aece-530d3a1b49e9",
   "metadata": {
    "tags": []
   },
   "outputs": [
    {
     "data": {
      "text/plain": [
       "(3059, 1)"
      ]
     },
     "execution_count": 24,
     "metadata": {},
     "output_type": "execute_result"
    },
    {
     "name": "stdout",
     "output_type": "stream",
     "text": [
      "time: 9.5 ms (started: 2021-12-11 04:02:56 +00:00)\n"
     ]
    }
   ],
   "source": [
    "a = pd.read_json('extras/geoid_c.json', orient='index')\n",
    "a.shape # 3058\n",
    "b = pd.read_json('extras/geoid_c_r.json', orient='index')\n",
    "b.shape # 3059 {mi_wayne\": \"26163\", \"mi_wayne_detroit\": \"26163\"}\n",
    "a = a.reset_index()\n",
    "b = b.reset_index()\n",
    "set(b['index'].unique()) - set(a[0].unique())\n"
   ]
  },
  {
   "cell_type": "code",
   "execution_count": null,
   "id": "8889e238-d801-49c9-8c1f-9ff15ec76503",
   "metadata": {},
   "outputs": [],
   "source": []
  },
  {
   "cell_type": "code",
   "execution_count": null,
   "id": "5a9009bf-a28e-489a-8f31-46583bb0bd4f",
   "metadata": {},
   "outputs": [],
   "source": []
  },
  {
   "cell_type": "code",
   "execution_count": 10,
   "id": "3b173fd8-e6ee-467f-8102-c105744cd20d",
   "metadata": {},
   "outputs": [
    {
     "name": "stdout",
     "output_type": "stream",
     "text": [
      "time: 270 ms (started: 2021-12-11 02:37:03 +00:00)\n"
     ]
    }
   ],
   "source": [
    "from subprocess import getoutput\n",
    "\n",
    "# master dict: state- county jsons\n",
    "JSONL = {}\n",
    "for statefips, abbr in STATE_FIPS_DICT_52.items():\n",
    "    state_abbrv = abbr.lower()\n",
    "    jsons = getoutput(f'ls /home/nhat/jsons/{state_abbrv}_*.json').split()\n",
    "    JSONL[statefips] = jsons"
   ]
  },
  {
   "cell_type": "code",
   "execution_count": 157,
   "id": "664e9c14-c0f7-452a-87d0-328f59d0331c",
   "metadata": {
    "tags": []
   },
   "outputs": [
    {
     "name": "stdout",
     "output_type": "stream",
     "text": [
      "time: 11.1 s (started: 2021-12-13 08:44:34 +00:00)\n"
     ]
    }
   ],
   "source": [
    "statefips = '26' # MICHIGAN, with overlapping GEOID for {mi_wayne\": \"26163\", \"mi_wayne_detroit\": \"26163\"}\n",
    "# for NY: 20 seconds to assemble master frame\n",
    "# state = 'ny' \n",
    "\n",
    "frames = []\n",
    "for jsonl in JSONL[statefips]:\n",
    "    # TODO here: handle empty jsonl (no valid parcel address)\n",
    "    df = pd.read_json(jsonl)\n",
    "    if not df.empty:\n",
    "        df['cbg'] = df['cbg'].astype(str).str.zfill(BLOCKGROUP_FIPS_LENGTH)\n",
    "        df['func'] = (df['func'].fillna(0) // 1000).astype(int)\n",
    "        frames.append(df)\n",
    "\n",
    "state_df = pd.concat(frames)"
   ]
  },
  {
   "cell_type": "code",
   "execution_count": 109,
   "id": "d469feaa-894f-4a3f-bc22-005c10fbf68b",
   "metadata": {},
   "outputs": [
    {
     "data": {
      "text/plain": [
       "'/home/nhat/jsons/mi_wayne_detroit.json'"
      ]
     },
     "execution_count": 109,
     "metadata": {},
     "output_type": "execute_result"
    },
    {
     "name": "stdout",
     "output_type": "stream",
     "text": [
      "time: 1.38 ms (started: 2021-12-13 08:24:03 +00:00)\n"
     ]
    }
   ],
   "source": [
    "jsonl"
   ]
  },
  {
   "cell_type": "code",
   "execution_count": 158,
   "id": "f9a13e9a-730b-439f-8bb8-fea6bd903485",
   "metadata": {},
   "outputs": [
    {
     "data": {
      "text/plain": [
       "(3882807, 4)"
      ]
     },
     "execution_count": 158,
     "metadata": {},
     "output_type": "execute_result"
    },
    {
     "name": "stdout",
     "output_type": "stream",
     "text": [
      "time: 1.9 ms (started: 2021-12-13 08:44:53 +00:00)\n"
     ]
    }
   ],
   "source": [
    "state_df.shape # 5million NY, ~4mil MI"
   ]
  },
  {
   "cell_type": "code",
   "execution_count": 112,
   "id": "b16f59fc-0711-4b0d-84e1-a043d9259b13",
   "metadata": {},
   "outputs": [
    {
     "name": "stdout",
     "output_type": "stream",
     "text": [
      "time: 951 ms (started: 2021-12-13 08:26:14 +00:00)\n"
     ]
    }
   ],
   "source": [
    "state_df['geoidC'] = state_df['cbg'].str[:5]"
   ]
  },
  {
   "cell_type": "code",
   "execution_count": 113,
   "id": "7fdd1d01-16c2-4ef0-a234-18c89c0ada85",
   "metadata": {},
   "outputs": [
    {
     "data": {
      "text/html": [
       "<div>\n",
       "<style scoped>\n",
       "    .dataframe tbody tr th:only-of-type {\n",
       "        vertical-align: middle;\n",
       "    }\n",
       "\n",
       "    .dataframe tbody tr th {\n",
       "        vertical-align: top;\n",
       "    }\n",
       "\n",
       "    .dataframe thead th {\n",
       "        text-align: right;\n",
       "    }\n",
       "</style>\n",
       "<table border=\"1\" class=\"dataframe\">\n",
       "  <thead>\n",
       "    <tr style=\"text-align: right;\">\n",
       "      <th></th>\n",
       "      <th>cbg</th>\n",
       "      <th>lat</th>\n",
       "      <th>lon</th>\n",
       "      <th>func</th>\n",
       "      <th>geoidC</th>\n",
       "    </tr>\n",
       "  </thead>\n",
       "  <tbody>\n",
       "    <tr>\n",
       "      <th>0</th>\n",
       "      <td>260019704002</td>\n",
       "      <td>44.611378</td>\n",
       "      <td>-83.543687</td>\n",
       "      <td>0</td>\n",
       "      <td>26001</td>\n",
       "    </tr>\n",
       "    <tr>\n",
       "      <th>1</th>\n",
       "      <td>260019705003</td>\n",
       "      <td>44.532802</td>\n",
       "      <td>-83.773869</td>\n",
       "      <td>0</td>\n",
       "      <td>26001</td>\n",
       "    </tr>\n",
       "    <tr>\n",
       "      <th>2</th>\n",
       "      <td>260019705003</td>\n",
       "      <td>44.538033</td>\n",
       "      <td>-83.731777</td>\n",
       "      <td>0</td>\n",
       "      <td>26001</td>\n",
       "    </tr>\n",
       "    <tr>\n",
       "      <th>3</th>\n",
       "      <td>260019701001</td>\n",
       "      <td>44.819963</td>\n",
       "      <td>-83.330812</td>\n",
       "      <td>0</td>\n",
       "      <td>26001</td>\n",
       "    </tr>\n",
       "    <tr>\n",
       "      <th>4</th>\n",
       "      <td>260019701001</td>\n",
       "      <td>44.806737</td>\n",
       "      <td>-83.347441</td>\n",
       "      <td>0</td>\n",
       "      <td>26001</td>\n",
       "    </tr>\n",
       "  </tbody>\n",
       "</table>\n",
       "</div>"
      ],
      "text/plain": [
       "            cbg        lat        lon  func geoidC\n",
       "0  260019704002  44.611378 -83.543687     0  26001\n",
       "1  260019705003  44.532802 -83.773869     0  26001\n",
       "2  260019705003  44.538033 -83.731777     0  26001\n",
       "3  260019701001  44.819963 -83.330812     0  26001\n",
       "4  260019701001  44.806737 -83.347441     0  26001"
      ]
     },
     "execution_count": 113,
     "metadata": {},
     "output_type": "execute_result"
    },
    {
     "name": "stdout",
     "output_type": "stream",
     "text": [
      "time: 5.52 ms (started: 2021-12-13 08:26:22 +00:00)\n"
     ]
    }
   ],
   "source": [
    "state_df.head()"
   ]
  },
  {
   "cell_type": "code",
   "execution_count": 154,
   "id": "e3184dc6-ba17-4707-b05f-72aa94c4860e",
   "metadata": {},
   "outputs": [
    {
     "name": "stdout",
     "output_type": "stream",
     "text": [
      "time: 2.66 s (started: 2021-12-13 08:43:35 +00:00)\n"
     ]
    }
   ],
   "source": [
    "wayne = pd.read_json('/home/nhat/jsons/mi_wayne.json')\n",
    "wayne['cbg'] = wayne['cbg'].astype(str).str.zfill(BLOCKGROUP_FIPS_LENGTH)\n",
    "wayne['func'] = (wayne['func'].fillna(0) // 1000).astype(int)\n",
    "\n",
    "detroit = pd.read_json('/home/nhat/jsons/mi_wayne_detroit.json')\n",
    "detroit['cbg'] = detroit['cbg'].astype(str).str.zfill(BLOCKGROUP_FIPS_LENGTH)\n",
    "detroit['func'] = (detroit['func'].fillna(0) // 1000).astype(int)\n",
    "\n",
    "# find rows with overlapping (lat, lon) detroit vs wayne\n",
    "overlaps = pd.merge(detroit, wayne,  how='inner', left_on=['lat','lon'], right_on = ['lat','lon'])\n",
    "len(overlaps) # 0: good! no overlapping parcels\n",
    "\n",
    "\n",
    "# # test: finding overlaps using merge left_on right_on 2 columns lat/lon\n",
    "# t1 = detroit.head().copy()\n",
    "# t2 = wayne.head().copy()\n",
    "# t1.iloc[:2] = t2.iloc[:2]\n",
    "# toverlaps = pd.merge(t1, t2,  how='inner', left_on=['lat','lon'], right_on = ['lat','lon'])\n",
    "# toverlaps\n"
   ]
  },
  {
   "cell_type": "markdown",
   "id": "aea788a7-afc7-4969-a546-b1b6cd5a1324",
   "metadata": {
    "tags": []
   },
   "source": [
    "## ES geoshape query : SUPER SLOW\n",
    "https://www.elastic.co/guide/en/elasticsearch/reference/current/query-dsl-geo-shape-query.html#_pre_indexed_shape\n",
    "\n"
   ]
  },
  {
   "cell_type": "code",
   "execution_count": null,
   "id": "7d41dfdc-549c-4254-ba1b-da20126531cf",
   "metadata": {},
   "outputs": [],
   "source": [
    "# query_body = {\n",
    "#     \"size\": 1,\n",
    "#     \"bool\": {\n",
    "#       \"must\": {\n",
    "#         # \"match_all\": {} # [8ms]\n",
    "#         \"match\": { \"GEOID_cbg\": \"\"} # this is slower than above: Strange! TODO: test on large scale [10ms]\n",
    "#       },\n",
    "#       \"filter\": {\n",
    "#         \"geo_shape\": {\n",
    "#           \"location\": {\n",
    "#             \"shape\": {\n",
    "#               \"type\": \"point\",\n",
    "#               \"coordinates\": []\n",
    "#             },\n",
    "#             \"relation\": \"contains\"\n",
    "#           }\n",
    "#         }\n",
    "#       }\n",
    "#     }\n",
    "# }"
   ]
  },
  {
   "cell_type": "code",
   "execution_count": null,
   "id": "b6a8bfac-38d7-4de7-a0c2-3ee060861ee9",
   "metadata": {},
   "outputs": [],
   "source": [
    "# ^ SUPER SLOW! TAKING more than 1hr already !! FOREVER!!!!\n",
    "\n",
    "# res = es.get(index='bossdata29', id='290299502001023')\n",
    "# res['_source']\n",
    "\n",
    "# res = es.search(index='bossdata02', body=query_body)\n",
    "# print(\"Number of hits: \", res['hits']['total']['value'])\n",
    "# print(res['hits']['hits'][0][\"_source\"]['GEOID'])\n",
    "\n",
    "# ### Elasticsearch-DSL-py: https://github.com/elastic/elasticsearch-dsl-py\n",
    "# class Point():\n",
    "#     def __init__(self, x, y):\n",
    "#         self.x, self.y = x, y\n",
    "#     # x is lat, y is lon\n",
    "#     def to_dict(self):\n",
    "#         return {\"shape\": {\"type\": \"point\", \"coordinates\": [self.x, self.y]}}\n",
    "# s = Search().filter('geo_shape', location=Point(123, 456))\n",
    "# s.execute()"
   ]
  },
  {
   "cell_type": "markdown",
   "id": "f3f6b682-129c-4c7c-aea4-65a00a32528a",
   "metadata": {},
   "source": [
    "## Tiger shp"
   ]
  },
  {
   "cell_type": "code",
   "execution_count": 159,
   "id": "cb59fddf-5eeb-417d-b877-52f1faa2252e",
   "metadata": {
    "tags": []
   },
   "outputs": [
    {
     "name": "stdout",
     "output_type": "stream",
     "text": [
      "Reading Tiger shp for state 26 MI\n"
     ]
    },
    {
     "data": {
      "text/plain": [
       "(329885, 3)"
      ]
     },
     "execution_count": 159,
     "metadata": {},
     "output_type": "execute_result"
    },
    {
     "name": "stdout",
     "output_type": "stream",
     "text": [
      "time: 2min 6s (started: 2021-12-13 08:44:59 +00:00)\n"
     ]
    }
   ],
   "source": [
    "tiger_url = \"https://www2.census.gov/geo/tiger/TIGER2019/TABBLOCK/tl_2019_{}_tabblock10.zip\".format(statefips) \n",
    "print(f'Reading Tiger shp for state {statefips} {STATE_FIPS_DICT_52[statefips]}')\n",
    "state_cb = gp.read_file(tiger_url)\n",
    "state_cb = state_cb[['GEOID10', 'geometry']]\n",
    "state_cb = state_cb.rename({\"GEOID10\": \"GEOID\"}, axis = 1)\n",
    "state_cb['cbg'] = state_cb['GEOID'].str[:BLOCKGROUP_FIPS_LENGTH]\n",
    "state_cb.shape\n",
    "# NY: tiger download takes 25s, NY has about 15 parcels per census block\n",
    "# MI: tiger download takes: 2min, NY has about 12 parcels per census block"
   ]
  },
  {
   "cell_type": "code",
   "execution_count": 48,
   "id": "39c34242-cabd-43f0-9d38-a2679d3b7749",
   "metadata": {},
   "outputs": [
    {
     "data": {
      "text/html": [
       "<div>\n",
       "<style scoped>\n",
       "    .dataframe tbody tr th:only-of-type {\n",
       "        vertical-align: middle;\n",
       "    }\n",
       "\n",
       "    .dataframe tbody tr th {\n",
       "        vertical-align: top;\n",
       "    }\n",
       "\n",
       "    .dataframe thead th {\n",
       "        text-align: right;\n",
       "    }\n",
       "</style>\n",
       "<table border=\"1\" class=\"dataframe\">\n",
       "  <thead>\n",
       "    <tr style=\"text-align: right;\">\n",
       "      <th></th>\n",
       "      <th>GEOID</th>\n",
       "      <th>geometry</th>\n",
       "      <th>cbg</th>\n",
       "    </tr>\n",
       "  </thead>\n",
       "  <tbody>\n",
       "    <tr>\n",
       "      <th>0</th>\n",
       "      <td>110010098011001</td>\n",
       "      <td>POLYGON ((-76.99544 38.83723, -76.99517 38.837...</td>\n",
       "      <td>110010098011</td>\n",
       "    </tr>\n",
       "    <tr>\n",
       "      <th>1</th>\n",
       "      <td>110010098011008</td>\n",
       "      <td>POLYGON ((-77.00057 38.83397, -77.00031 38.834...</td>\n",
       "      <td>110010098011</td>\n",
       "    </tr>\n",
       "  </tbody>\n",
       "</table>\n",
       "</div>"
      ],
      "text/plain": [
       "             GEOID                                           geometry  \\\n",
       "0  110010098011001  POLYGON ((-76.99544 38.83723, -76.99517 38.837...   \n",
       "1  110010098011008  POLYGON ((-77.00057 38.83397, -77.00031 38.834...   \n",
       "\n",
       "            cbg  \n",
       "0  110010098011  \n",
       "1  110010098011  "
      ]
     },
     "execution_count": 48,
     "metadata": {},
     "output_type": "execute_result"
    },
    {
     "name": "stdout",
     "output_type": "stream",
     "text": [
      "time: 5.87 ms (started: 2021-12-11 04:39:20 +00:00)\n"
     ]
    }
   ],
   "source": [
    "state_cb.head(2)"
   ]
  },
  {
   "cell_type": "code",
   "execution_count": 164,
   "id": "f0d76825-9d88-4703-b11b-96bc804c912e",
   "metadata": {},
   "outputs": [
    {
     "data": {
      "text/plain": [
       "12"
      ]
     },
     "execution_count": 164,
     "metadata": {},
     "output_type": "execute_result"
    },
    {
     "name": "stdout",
     "output_type": "stream",
     "text": [
      "time: 1.43 ms (started: 2021-12-13 08:51:06 +00:00)\n"
     ]
    }
   ],
   "source": [
    "round(len(state_df) / len(state_cb))"
   ]
  },
  {
   "cell_type": "markdown",
   "id": "9046e869-d780-4e00-afd4-2ae1e6e900ce",
   "metadata": {},
   "source": [
    "# Standard geopandas sjoin"
   ]
  },
  {
   "cell_type": "code",
   "execution_count": 160,
   "id": "74266afe-c148-471f-b443-a5bf15bb1699",
   "metadata": {},
   "outputs": [
    {
     "name": "stdout",
     "output_type": "stream",
     "text": [
      "time: 1min 23s (started: 2021-12-13 08:47:06 +00:00)\n"
     ]
    }
   ],
   "source": [
    "# # https://geopandas.org/en/stable/docs/reference/api/geopandas.points_from_xy.html\n",
    "# # Creating a GeoDataFrame from a DataFrame with coordinates\n",
    "# NOTE: NY 2min: long time; MI 1.5min\n",
    "state_geodf =  gp.GeoDataFrame(state_df, geometry=gp.points_from_xy(state_df.lon, state_df.lat, crs=state_cb.crs)) "
   ]
  },
  {
   "cell_type": "code",
   "execution_count": 161,
   "id": "d7068208-8191-411d-93dd-d5e797210bae",
   "metadata": {},
   "outputs": [
    {
     "name": "stdout",
     "output_type": "stream",
     "text": [
      "time: 2min 36s (started: 2021-12-13 08:48:29 +00:00)\n"
     ]
    }
   ],
   "source": [
    "# NY 4min: also long time; MI 2.5min\n",
    "within_df = gp.sjoin(state_geodf, state_cb, how='left', predicate='within')"
   ]
  },
  {
   "cell_type": "markdown",
   "id": "9a17c2ff-37e3-4fdb-b02c-100ae98b15ce",
   "metadata": {},
   "source": [
    "### NOTE: Number of disowned parcels (not found within state's census block boundaries) i.e. parcels w/o GEOID. Should worry if this number is too high!"
   ]
  },
  {
   "cell_type": "code",
   "execution_count": 162,
   "id": "d5465641-1e66-4945-ae2a-cd05984ab4e4",
   "metadata": {},
   "outputs": [
    {
     "name": "stdout",
     "output_type": "stream",
     "text": [
      "Number of disowned parcels: #9, 0.00023%\n",
      "time: 157 ms (started: 2021-12-13 08:51:05 +00:00)\n"
     ]
    }
   ],
   "source": [
    "disowned_parcels = within_df['GEOID'].isnull().sum()\n",
    "print(f\"Number of disowned parcels: #{disowned_parcels}, {(disowned_parcels/within_df.shape[0] * 100) :.5f}%\")"
   ]
  },
  {
   "cell_type": "markdown",
   "id": "e05fce2a-4a7b-4dfe-8a91-9763e7e1ac69",
   "metadata": {},
   "source": [
    "### NOTE: diff_cbg\n",
    "1. Possible cause for diff_cbg: We are using lat, lon (On parcel centroid latitude decimal coordinate; On parcel centroid longitude decimal coordinate) to determine cb and cbg; Regrid might join a parcel to larger cbg (who now)\n",
    "2. Not a cause: We and Regrid are both using Census 2010 Blockgroup @ tiger_url = \"https://www2.census.gov/geo/tiger/TIGER2019/TABBLOCK/tl_2019_{}_tabblock10.zip\".format(statefips) "
   ]
  },
  {
   "cell_type": "code",
   "execution_count": 163,
   "id": "01b5508a-1f34-4775-a2e7-29cbf8dc57ed",
   "metadata": {},
   "outputs": [
    {
     "data": {
      "text/plain": [
       "'Percentage of diff_cbg: 0.04 %'"
      ]
     },
     "execution_count": 163,
     "metadata": {},
     "output_type": "execute_result"
    },
    {
     "name": "stdout",
     "output_type": "stream",
     "text": [
      "time: 250 ms (started: 2021-12-13 08:51:06 +00:00)\n"
     ]
    }
   ],
   "source": [
    "diff_cbg = within_df.loc[ within_df['cbg_left'] != within_df['cbg_right']]\n",
    "diff_cbg.shape # (61580, 8)\n",
    "f\"Percentage of diff_cbg: {(diff_cbg.shape[0] / state_geodf.shape[0] * 100):.2f} %\""
   ]
  },
  {
   "cell_type": "markdown",
   "id": "fa30ce31-78e9-4593-8d71-9159776c953d",
   "metadata": {},
   "source": [
    "## How about shapely and matplot PIP?"
   ]
  },
  {
   "cell_type": "markdown",
   "id": "0028b27c-dc3e-4f13-b6eb-c881ec0387b5",
   "metadata": {},
   "source": [
    "##### LATER, if need to increase speed\n",
    "##### https://stackoverflow.com/questions/36399381/whats-the-fastest-way-of-checking-if-a-point-is-inside-a-polygon-in-python\n"
   ]
  },
  {
   "cell_type": "code",
   "execution_count": null,
   "id": "5d1eb21d-a1fe-403b-baea-082a57a30573",
   "metadata": {},
   "outputs": [],
   "source": []
  },
  {
   "cell_type": "code",
   "execution_count": null,
   "id": "87d536ca-c4cb-478e-b6c4-8c585a583949",
   "metadata": {},
   "outputs": [],
   "source": []
  },
  {
   "cell_type": "markdown",
   "id": "f0cc1a8a-3c97-446f-853b-fed0a93678e5",
   "metadata": {},
   "source": [
    "## Looping through rows: SUPER SLOW!"
   ]
  },
  {
   "cell_type": "code",
   "execution_count": 77,
   "id": "ddc4a82a-c153-42e3-bdbd-fb2ebb7ded9b",
   "metadata": {
    "tags": []
   },
   "outputs": [
    {
     "name": "stdout",
     "output_type": "stream",
     "text": [
      "time: 612 µs (started: 2021-12-09 07:00:14 +00:00)\n"
     ]
    }
   ],
   "source": [
    "# def add_cb(df, cb_shps):\n",
    "#     def query_tiger(row):\n",
    "#         # filter by cbg\n",
    "#         cbs = cb_shps.loc[cb_shps['cbg'] == row['cbg']]\n",
    "#         # geopandas contains spatial query\n",
    "#         contain_parcel = cbs[cbs.geometry.contains(Point(row['lon'], row['lat']))]\n",
    "#         if contain_parcel.empty:\n",
    "#             # parcel's centroid is not found within state_cb\n",
    "#             return \"X\"\n",
    "        \n",
    "#         return contain_parcel.iloc[0].at['GEOID']\n",
    "\n",
    "#     df['cb'] = df.apply(query_tiger, axis = 1)\n",
    "\n",
    "# # FOR NY: 10 hours and still running\n",
    "# add_cb(state_df, state_cb) \n",
    "\n",
    "# state_df['cb'].value_counts()"
   ]
  },
  {
   "cell_type": "markdown",
   "id": "6195f200-195a-480e-8078-8fdb6c219a8a",
   "metadata": {},
   "source": [
    "## Combine to new df"
   ]
  },
  {
   "cell_type": "code",
   "execution_count": 165,
   "id": "e3a4072e-450a-4cd4-8b67-3d836f61f621",
   "metadata": {},
   "outputs": [
    {
     "data": {
      "text/plain": [
       "GEOID    object\n",
       "func      int64\n",
       "dtype: object"
      ]
     },
     "execution_count": 165,
     "metadata": {},
     "output_type": "execute_result"
    },
    {
     "name": "stdout",
     "output_type": "stream",
     "text": [
      "time: 43 ms (started: 2021-12-13 08:51:06 +00:00)\n"
     ]
    }
   ],
   "source": [
    "mapped_df = within_df[['GEOID', 'func']]\n",
    "mapped_df.dtypes"
   ]
  },
  {
   "cell_type": "code",
   "execution_count": 169,
   "id": "1d0673d4-e6e3-4154-a06f-da70fa4fe8f0",
   "metadata": {},
   "outputs": [
    {
     "data": {
      "text/plain": [
       "(329885, 3)"
      ]
     },
     "execution_count": 169,
     "metadata": {},
     "output_type": "execute_result"
    },
    {
     "name": "stdout",
     "output_type": "stream",
     "text": [
      "time: 1.84 ms (started: 2021-12-13 08:52:48 +00:00)\n"
     ]
    }
   ],
   "source": [
    "# 350,169 census block in NY (same number on ES)\n",
    "state_cb.shape"
   ]
  },
  {
   "cell_type": "code",
   "execution_count": 170,
   "id": "f0666953-6c18-4886-b4fb-764db19cfbde",
   "metadata": {},
   "outputs": [
    {
     "data": {
      "text/plain": [
       "GEOID    9\n",
       "func     0\n",
       "dtype: int64"
      ]
     },
     "execution_count": 170,
     "metadata": {},
     "output_type": "execute_result"
    },
    {
     "name": "stdout",
     "output_type": "stream",
     "text": [
      "time: 164 ms (started: 2021-12-13 08:52:50 +00:00)\n"
     ]
    }
   ],
   "source": [
    "# DC: GEOID 12 = 12 disowned parcels; MI has 9 disowned parcels\n",
    "mapped_df.isnull().sum()"
   ]
  },
  {
   "cell_type": "code",
   "execution_count": 171,
   "id": "416926eb-297d-45d7-8820-5efe059078e7",
   "metadata": {},
   "outputs": [
    {
     "data": {
      "text/plain": [
       "1    2466629\n",
       "0    1120560\n",
       "2     120781\n",
       "9     111387\n",
       "6      38312\n",
       "3      24317\n",
       "5        564\n",
       "4        257\n",
       "Name: func, dtype: int64"
      ]
     },
     "execution_count": 171,
     "metadata": {},
     "output_type": "execute_result"
    },
    {
     "name": "stdout",
     "output_type": "stream",
     "text": [
      "time: 16.4 ms (started: 2021-12-13 08:53:05 +00:00)\n"
     ]
    }
   ],
   "source": [
    "mapped_df['func'].value_counts() # MI: mostly func=1 or agricultural parcels"
   ]
  },
  {
   "cell_type": "markdown",
   "id": "fba9f186-e3b7-46b8-b880-c7f0bd7f756f",
   "metadata": {},
   "source": [
    "#### Calculate parcelNumAddr"
   ]
  },
  {
   "cell_type": "code",
   "execution_count": 172,
   "id": "5b1d9627-e59c-46a4-ba72-255c1d8188a9",
   "metadata": {},
   "outputs": [
    {
     "name": "stdout",
     "output_type": "stream",
     "text": [
      "time: 414 ms (started: 2021-12-13 08:53:31 +00:00)\n"
     ]
    }
   ],
   "source": [
    "state_cb['parcelNumAddr'] = state_cb['GEOID'].map(mapped_df['GEOID'].value_counts()).fillna(value=0).astype(int)"
   ]
  },
  {
   "cell_type": "code",
   "execution_count": 173,
   "id": "141dbd2c-fe6f-4600-bcaf-c42364c1b08e",
   "metadata": {},
   "outputs": [
    {
     "data": {
      "text/plain": [
       "count    329885.000000\n",
       "mean         11.770156\n",
       "std          23.773112\n",
       "min           0.000000\n",
       "25%           0.000000\n",
       "50%           2.000000\n",
       "75%          16.000000\n",
       "max         701.000000\n",
       "Name: parcelNumAddr, dtype: float64"
      ]
     },
     "execution_count": 173,
     "metadata": {},
     "output_type": "execute_result"
    },
    {
     "name": "stdout",
     "output_type": "stream",
     "text": [
      "time: 10.6 ms (started: 2021-12-13 08:53:34 +00:00)\n"
     ]
    }
   ],
   "source": [
    "state_cb['parcelNumAddr'].describe()"
   ]
  },
  {
   "cell_type": "markdown",
   "id": "f46b1b59-aafe-4fec-bae6-7e7ecd89dd4e",
   "metadata": {},
   "source": [
    "#### Func categorization & aggregation"
   ]
  },
  {
   "cell_type": "code",
   "execution_count": 174,
   "id": "6d9fb49c-85a7-4958-96a7-9d4660000373",
   "metadata": {},
   "outputs": [
    {
     "name": "stdout",
     "output_type": "stream",
     "text": [
      "time: 474 µs (started: 2021-12-13 08:53:39 +00:00)\n"
     ]
    }
   ],
   "source": [
    "def cat_func(func):\n",
    "    if func == 1:               return \"parcelNumResi\"\n",
    "    elif func == 9:             return \"parcelNumAgri\"\n",
    "    elif func in (2,3,5,7,8):   return \"parcelNumCommer\"\n",
    "    elif func in (4,6):         return \"parcelNumInfra\"\n",
    "    else:                       return \"parcelNumNull\""
   ]
  },
  {
   "cell_type": "code",
   "execution_count": 175,
   "id": "43978ce6-1390-43c3-a0be-59eaedc5de79",
   "metadata": {},
   "outputs": [
    {
     "name": "stdout",
     "output_type": "stream",
     "text": [
      "time: 454 ms (started: 2021-12-13 08:53:41 +00:00)\n"
     ]
    },
    {
     "name": "stderr",
     "output_type": "stream",
     "text": [
      "/tmp/ipykernel_17400/4218198644.py:1: SettingWithCopyWarning: \n",
      "A value is trying to be set on a copy of a slice from a DataFrame.\n",
      "Try using .loc[row_indexer,col_indexer] = value instead\n",
      "\n",
      "See the caveats in the documentation: https://pandas.pydata.org/pandas-docs/stable/user_guide/indexing.html#returning-a-view-versus-a-copy\n",
      "  mapped_df['func'] = mapped_df['func'].apply(cat_func)\n"
     ]
    }
   ],
   "source": [
    "mapped_df['func'] = mapped_df['func'].apply(cat_func)"
   ]
  },
  {
   "cell_type": "code",
   "execution_count": 176,
   "id": "abeb0a4f-06c9-4850-a997-bc1bfb7cb25f",
   "metadata": {},
   "outputs": [
    {
     "data": {
      "text/html": [
       "<div>\n",
       "<style scoped>\n",
       "    .dataframe tbody tr th:only-of-type {\n",
       "        vertical-align: middle;\n",
       "    }\n",
       "\n",
       "    .dataframe tbody tr th {\n",
       "        vertical-align: top;\n",
       "    }\n",
       "\n",
       "    .dataframe thead th {\n",
       "        text-align: right;\n",
       "    }\n",
       "</style>\n",
       "<table border=\"1\" class=\"dataframe\">\n",
       "  <thead>\n",
       "    <tr style=\"text-align: right;\">\n",
       "      <th></th>\n",
       "      <th>GEOID</th>\n",
       "      <th>func</th>\n",
       "    </tr>\n",
       "  </thead>\n",
       "  <tbody>\n",
       "    <tr>\n",
       "      <th>0</th>\n",
       "      <td>260019704002086</td>\n",
       "      <td>parcelNumNull</td>\n",
       "    </tr>\n",
       "    <tr>\n",
       "      <th>1</th>\n",
       "      <td>260019705003065</td>\n",
       "      <td>parcelNumNull</td>\n",
       "    </tr>\n",
       "    <tr>\n",
       "      <th>2</th>\n",
       "      <td>260019705003065</td>\n",
       "      <td>parcelNumNull</td>\n",
       "    </tr>\n",
       "    <tr>\n",
       "      <th>3</th>\n",
       "      <td>260019701001011</td>\n",
       "      <td>parcelNumNull</td>\n",
       "    </tr>\n",
       "    <tr>\n",
       "      <th>4</th>\n",
       "      <td>260019701001034</td>\n",
       "      <td>parcelNumNull</td>\n",
       "    </tr>\n",
       "    <tr>\n",
       "      <th>...</th>\n",
       "      <td>...</td>\n",
       "      <td>...</td>\n",
       "    </tr>\n",
       "    <tr>\n",
       "      <th>382093</th>\n",
       "      <td>261635139001008</td>\n",
       "      <td>parcelNumNull</td>\n",
       "    </tr>\n",
       "    <tr>\n",
       "      <th>382094</th>\n",
       "      <td>261635139001008</td>\n",
       "      <td>parcelNumNull</td>\n",
       "    </tr>\n",
       "    <tr>\n",
       "      <th>382095</th>\n",
       "      <td>261635139001007</td>\n",
       "      <td>parcelNumNull</td>\n",
       "    </tr>\n",
       "    <tr>\n",
       "      <th>382096</th>\n",
       "      <td>261635139001007</td>\n",
       "      <td>parcelNumNull</td>\n",
       "    </tr>\n",
       "    <tr>\n",
       "      <th>382097</th>\n",
       "      <td>261635168001008</td>\n",
       "      <td>parcelNumNull</td>\n",
       "    </tr>\n",
       "  </tbody>\n",
       "</table>\n",
       "<p>3882807 rows × 2 columns</p>\n",
       "</div>"
      ],
      "text/plain": [
       "                  GEOID           func\n",
       "0       260019704002086  parcelNumNull\n",
       "1       260019705003065  parcelNumNull\n",
       "2       260019705003065  parcelNumNull\n",
       "3       260019701001011  parcelNumNull\n",
       "4       260019701001034  parcelNumNull\n",
       "...                 ...            ...\n",
       "382093  261635139001008  parcelNumNull\n",
       "382094  261635139001008  parcelNumNull\n",
       "382095  261635139001007  parcelNumNull\n",
       "382096  261635139001007  parcelNumNull\n",
       "382097  261635168001008  parcelNumNull\n",
       "\n",
       "[3882807 rows x 2 columns]"
      ]
     },
     "execution_count": 176,
     "metadata": {},
     "output_type": "execute_result"
    },
    {
     "name": "stdout",
     "output_type": "stream",
     "text": [
      "time: 5.44 ms (started: 2021-12-13 08:53:50 +00:00)\n"
     ]
    }
   ],
   "source": [
    "mapped_df"
   ]
  },
  {
   "cell_type": "code",
   "execution_count": 177,
   "id": "67474d77-22bb-442f-b8a7-5ef1d5eb792e",
   "metadata": {},
   "outputs": [
    {
     "name": "stdout",
     "output_type": "stream",
     "text": [
      "time: 783 ms (started: 2021-12-13 08:53:51 +00:00)\n"
     ]
    }
   ],
   "source": [
    "funcAgg = mapped_df.groupby(['GEOID', 'func']).size().unstack(level=-1)"
   ]
  },
  {
   "cell_type": "code",
   "execution_count": 178,
   "id": "3e9f8712-f2bb-4c74-bc37-7206f0f77116",
   "metadata": {},
   "outputs": [
    {
     "name": "stdout",
     "output_type": "stream",
     "text": [
      "time: 467 µs (started: 2021-12-13 08:53:56 +00:00)\n"
     ]
    }
   ],
   "source": [
    "parcelNumCols = ['parcelNumAgri', 'parcelNumCommer',  'parcelNumInfra', 'parcelNumNull', 'parcelNumResi']\n",
    "for col in parcelNumCols:\n",
    "    if col not in funcAgg.columns:\n",
    "        funcAgg[col] = 0"
   ]
  },
  {
   "cell_type": "code",
   "execution_count": 179,
   "id": "f46b09dd-38fc-43aa-8dd4-d71caf8d4b7b",
   "metadata": {},
   "outputs": [
    {
     "name": "stdout",
     "output_type": "stream",
     "text": [
      "time: 270 ms (started: 2021-12-13 08:53:57 +00:00)\n"
     ]
    }
   ],
   "source": [
    "es_df = state_cb.merge(funcAgg, how='left', left_on=\"GEOID\", right_index=True)\n",
    "es_df = es_df[['GEOID', 'parcelNumAddr', 'parcelNumAgri', 'parcelNumCommer',  'parcelNumInfra', 'parcelNumNull', 'parcelNumResi']]\n",
    "es_df['parcelNumAgri'] = es_df['parcelNumAgri'].fillna(0).astype(int)\n",
    "es_df['parcelNumCommer'] = es_df['parcelNumCommer'].fillna(0).astype(int)\n",
    "es_df['parcelNumInfra'] = es_df['parcelNumInfra'].fillna(0).astype(int)\n",
    "es_df['parcelNumNull'] = es_df['parcelNumNull'].fillna(0).astype(int)\n",
    "es_df['parcelNumResi'] = es_df['parcelNumResi'].fillna(0).astype(int)\n"
   ]
  },
  {
   "cell_type": "code",
   "execution_count": 180,
   "id": "b4b0436e-9c2d-43f9-86c4-c3e4ba979cc1",
   "metadata": {},
   "outputs": [
    {
     "name": "stdout",
     "output_type": "stream",
     "text": [
      "Sum checked OK\n",
      "time: 13.5 ms (started: 2021-12-13 08:53:59 +00:00)\n"
     ]
    }
   ],
   "source": [
    "# NOTE: [another possibly simpler approach] can also just get the parcelNum individual fields first, then sum up to get parcelNumAddr\n",
    "sum_check = es_df[['parcelNumAddr', 'parcelNumAgri', 'parcelNumCommer', 'parcelNumInfra', 'parcelNumNull', 'parcelNumResi'   ]].sum()\n",
    "if sum_check[0] - sum(sum_check[1:]) != 0:\n",
    "    print(\"DOUBLE CHECK parcelNum fields: got wrong result for breaking down parcelNumAddr into smaller fields \")\n",
    "else:\n",
    "    print(\"Sum checked OK\")"
   ]
  },
  {
   "cell_type": "code",
   "execution_count": 181,
   "id": "10be1152-1538-4b20-ab77-9bb1ee7e41bc",
   "metadata": {},
   "outputs": [
    {
     "data": {
      "text/plain": [
       "(329885, 7)"
      ]
     },
     "execution_count": 181,
     "metadata": {},
     "output_type": "execute_result"
    },
    {
     "name": "stdout",
     "output_type": "stream",
     "text": [
      "time: 1.6 ms (started: 2021-12-13 08:54:02 +00:00)\n"
     ]
    }
   ],
   "source": [
    "es_df.shape"
   ]
  },
  {
   "cell_type": "code",
   "execution_count": 182,
   "id": "e8ce1345-2c55-40ca-8fb9-b6dfc6d27865",
   "metadata": {},
   "outputs": [
    {
     "data": {
      "text/plain": [
       "GEOID              object\n",
       "parcelNumAddr       int64\n",
       "parcelNumAgri       int64\n",
       "parcelNumCommer     int64\n",
       "parcelNumInfra      int64\n",
       "parcelNumNull       int64\n",
       "parcelNumResi       int64\n",
       "dtype: object"
      ]
     },
     "execution_count": 182,
     "metadata": {},
     "output_type": "execute_result"
    },
    {
     "name": "stdout",
     "output_type": "stream",
     "text": [
      "time: 2.44 ms (started: 2021-12-13 08:54:03 +00:00)\n"
     ]
    }
   ],
   "source": [
    "es_df.dtypes"
   ]
  },
  {
   "cell_type": "code",
   "execution_count": 185,
   "id": "33577559-91d4-4515-899b-2e81d2345a70",
   "metadata": {},
   "outputs": [
    {
     "data": {
      "text/html": [
       "<div>\n",
       "<style scoped>\n",
       "    .dataframe tbody tr th:only-of-type {\n",
       "        vertical-align: middle;\n",
       "    }\n",
       "\n",
       "    .dataframe tbody tr th {\n",
       "        vertical-align: top;\n",
       "    }\n",
       "\n",
       "    .dataframe thead th {\n",
       "        text-align: right;\n",
       "    }\n",
       "</style>\n",
       "<table border=\"1\" class=\"dataframe\">\n",
       "  <thead>\n",
       "    <tr style=\"text-align: right;\">\n",
       "      <th></th>\n",
       "      <th>GEOID</th>\n",
       "      <th>parcelNumAddr</th>\n",
       "      <th>parcelNumAgri</th>\n",
       "      <th>parcelNumCommer</th>\n",
       "      <th>parcelNumInfra</th>\n",
       "      <th>parcelNumNull</th>\n",
       "      <th>parcelNumResi</th>\n",
       "    </tr>\n",
       "  </thead>\n",
       "  <tbody>\n",
       "    <tr>\n",
       "      <th>0</th>\n",
       "      <td>261210033002060</td>\n",
       "      <td>17</td>\n",
       "      <td>1</td>\n",
       "      <td>0</td>\n",
       "      <td>0</td>\n",
       "      <td>0</td>\n",
       "      <td>16</td>\n",
       "    </tr>\n",
       "    <tr>\n",
       "      <th>1</th>\n",
       "      <td>261210029002039</td>\n",
       "      <td>15</td>\n",
       "      <td>6</td>\n",
       "      <td>1</td>\n",
       "      <td>0</td>\n",
       "      <td>0</td>\n",
       "      <td>8</td>\n",
       "    </tr>\n",
       "    <tr>\n",
       "      <th>2</th>\n",
       "      <td>261210036001005</td>\n",
       "      <td>0</td>\n",
       "      <td>0</td>\n",
       "      <td>0</td>\n",
       "      <td>0</td>\n",
       "      <td>0</td>\n",
       "      <td>0</td>\n",
       "    </tr>\n",
       "    <tr>\n",
       "      <th>3</th>\n",
       "      <td>261210036001006</td>\n",
       "      <td>2</td>\n",
       "      <td>0</td>\n",
       "      <td>0</td>\n",
       "      <td>0</td>\n",
       "      <td>0</td>\n",
       "      <td>2</td>\n",
       "    </tr>\n",
       "    <tr>\n",
       "      <th>4</th>\n",
       "      <td>261210034001012</td>\n",
       "      <td>20</td>\n",
       "      <td>0</td>\n",
       "      <td>1</td>\n",
       "      <td>0</td>\n",
       "      <td>0</td>\n",
       "      <td>19</td>\n",
       "    </tr>\n",
       "    <tr>\n",
       "      <th>...</th>\n",
       "      <td>...</td>\n",
       "      <td>...</td>\n",
       "      <td>...</td>\n",
       "      <td>...</td>\n",
       "      <td>...</td>\n",
       "      <td>...</td>\n",
       "      <td>...</td>\n",
       "    </tr>\n",
       "    <tr>\n",
       "      <th>329880</th>\n",
       "      <td>261653807002034</td>\n",
       "      <td>0</td>\n",
       "      <td>0</td>\n",
       "      <td>0</td>\n",
       "      <td>0</td>\n",
       "      <td>0</td>\n",
       "      <td>0</td>\n",
       "    </tr>\n",
       "    <tr>\n",
       "      <th>329881</th>\n",
       "      <td>261653802001130</td>\n",
       "      <td>0</td>\n",
       "      <td>0</td>\n",
       "      <td>0</td>\n",
       "      <td>0</td>\n",
       "      <td>0</td>\n",
       "      <td>0</td>\n",
       "    </tr>\n",
       "    <tr>\n",
       "      <th>329882</th>\n",
       "      <td>261653802001159</td>\n",
       "      <td>0</td>\n",
       "      <td>0</td>\n",
       "      <td>0</td>\n",
       "      <td>0</td>\n",
       "      <td>0</td>\n",
       "      <td>0</td>\n",
       "    </tr>\n",
       "    <tr>\n",
       "      <th>329883</th>\n",
       "      <td>261653801003043</td>\n",
       "      <td>0</td>\n",
       "      <td>0</td>\n",
       "      <td>0</td>\n",
       "      <td>0</td>\n",
       "      <td>0</td>\n",
       "      <td>0</td>\n",
       "    </tr>\n",
       "    <tr>\n",
       "      <th>329884</th>\n",
       "      <td>261653801001085</td>\n",
       "      <td>0</td>\n",
       "      <td>0</td>\n",
       "      <td>0</td>\n",
       "      <td>0</td>\n",
       "      <td>0</td>\n",
       "      <td>0</td>\n",
       "    </tr>\n",
       "  </tbody>\n",
       "</table>\n",
       "<p>329885 rows × 7 columns</p>\n",
       "</div>"
      ],
      "text/plain": [
       "                  GEOID  parcelNumAddr  parcelNumAgri  parcelNumCommer  \\\n",
       "0       261210033002060             17              1                0   \n",
       "1       261210029002039             15              6                1   \n",
       "2       261210036001005              0              0                0   \n",
       "3       261210036001006              2              0                0   \n",
       "4       261210034001012             20              0                1   \n",
       "...                 ...            ...            ...              ...   \n",
       "329880  261653807002034              0              0                0   \n",
       "329881  261653802001130              0              0                0   \n",
       "329882  261653802001159              0              0                0   \n",
       "329883  261653801003043              0              0                0   \n",
       "329884  261653801001085              0              0                0   \n",
       "\n",
       "        parcelNumInfra  parcelNumNull  parcelNumResi  \n",
       "0                    0              0             16  \n",
       "1                    0              0              8  \n",
       "2                    0              0              0  \n",
       "3                    0              0              2  \n",
       "4                    0              0             19  \n",
       "...                ...            ...            ...  \n",
       "329880               0              0              0  \n",
       "329881               0              0              0  \n",
       "329882               0              0              0  \n",
       "329883               0              0              0  \n",
       "329884               0              0              0  \n",
       "\n",
       "[329885 rows x 7 columns]"
      ]
     },
     "execution_count": 185,
     "metadata": {},
     "output_type": "execute_result"
    },
    {
     "name": "stdout",
     "output_type": "stream",
     "text": [
      "time: 6.49 ms (started: 2021-12-13 08:54:29 +00:00)\n"
     ]
    }
   ],
   "source": [
    "es_df"
   ]
  },
  {
   "cell_type": "code",
   "execution_count": 184,
   "id": "57cfb61d-ac6e-4636-8928-0dbfb9693114",
   "metadata": {},
   "outputs": [
    {
     "data": {
      "text/plain": [
       "GEOID              0\n",
       "parcelNumAddr      0\n",
       "parcelNumAgri      0\n",
       "parcelNumCommer    0\n",
       "parcelNumInfra     0\n",
       "parcelNumNull      0\n",
       "parcelNumResi      0\n",
       "dtype: int64"
      ]
     },
     "execution_count": 184,
     "metadata": {},
     "output_type": "execute_result"
    },
    {
     "name": "stdout",
     "output_type": "stream",
     "text": [
      "time: 41.4 ms (started: 2021-12-13 08:54:22 +00:00)\n"
     ]
    }
   ],
   "source": [
    "es_df.isnull().sum()"
   ]
  },
  {
   "cell_type": "code",
   "execution_count": 186,
   "id": "64fcd60c-cb15-4ca1-8434-cd6e99f15046",
   "metadata": {},
   "outputs": [
    {
     "data": {
      "text/plain": [
       "(329885, 4)"
      ]
     },
     "execution_count": 186,
     "metadata": {},
     "output_type": "execute_result"
    },
    {
     "name": "stdout",
     "output_type": "stream",
     "text": [
      "time: 1.92 ms (started: 2021-12-13 08:57:19 +00:00)\n"
     ]
    }
   ],
   "source": [
    "state_cb.shape"
   ]
  },
  {
   "cell_type": "markdown",
   "id": "335fe97a-cacd-4ec7-b233-24008096fef1",
   "metadata": {},
   "source": [
    "## Upload to ES"
   ]
  },
  {
   "cell_type": "code",
   "execution_count": 187,
   "id": "31b22b7b-8d62-4b50-b809-b010110cff16",
   "metadata": {},
   "outputs": [
    {
     "name": "stdout",
     "output_type": "stream",
     "text": [
      "time: 634 µs (started: 2021-12-13 08:57:32 +00:00)\n"
     ]
    }
   ],
   "source": [
    "def update_es_mapping(es, index_name):\n",
    "    # UPDATE ES maaping: add new field\n",
    "    # null_value i.e. set 0 as default value for the field -> allow indexing and searching https://www.elastic.co/guide/en/elasticsearch/reference/current/null-value.html\n",
    "    update_request_body = {\n",
    "        \"properties\":{\n",
    "                \"parcelNumAddr\" :           {  \"type\": \"integer\",  \"null_value\": 0 },\n",
    "                \"parcelNumNull\" :           {  \"type\": \"integer\",  \"null_value\": 0 },\n",
    "                \"parcelNumResi\" :           {  \"type\": \"integer\",  \"null_value\": 0 },\n",
    "                \"parcelNumCommer\" :         {  \"type\": \"integer\",  \"null_value\": 0 },\n",
    "                \"parcelNumInfra\" :          {  \"type\": \"integer\",  \"null_value\": 0 },\n",
    "                \"parcelNumAgri\" :           {  \"type\": \"integer\",  \"null_value\": 0 },\n",
    "        }\n",
    "    }\n",
    "    es.indices.put_mapping(index = index_name, body = update_request_body)\n",
    "    print('updated index ', index_name)"
   ]
  },
  {
   "cell_type": "code",
   "execution_count": 45,
   "id": "80a7e91a-ce15-466d-a871-759544f351b1",
   "metadata": {},
   "outputs": [
    {
     "name": "stdout",
     "output_type": "stream",
     "text": [
      "time: 714 µs (started: 2021-12-10 22:16:03 +00:00)\n"
     ]
    }
   ],
   "source": [
    "# # RETIRED\n",
    "# def upload_df(es, df, index_name, id_column, op_type):\n",
    "#     # \"\"\" This function upload plain json file, not geojson\"\"\"\n",
    "#     df = df.to_json(orient = 'records')\n",
    "#     json_records = json.loads(df)\n",
    "#     action_list = []\n",
    "#     for row in json_records:\n",
    "#         record = {\n",
    "#             '_op_type': op_type,\n",
    "#             '_index': index_name,\n",
    "#             \"_type\": '_doc', \n",
    "#             '_id':row[id_column],\n",
    "\n",
    "#         }\n",
    "#         if op_type == 'update':\n",
    "#             record['doc_as_upsert'] = True\n",
    "#             record['doc'] = row\n",
    "#             # \"doc\": {\"newkey\": 'newvalue'},\n",
    "#         elif op_type == 'index':\n",
    "#             # a comma-separated list of the fields you want to retrieve.'\n",
    "#             record['_source'] = row\n",
    "#         else:\n",
    "#             print('upload_df only accepts `update` or `index`')\n",
    "                   \n",
    "#         action_list.append(record)\n",
    "        \n",
    "#     # UPLOAD the records\n",
    "#     helpers.bulk(es, action_list)\n",
    "#     print(f\"finished uploading {len(json_records)} records to {index_name}\")"
   ]
  },
  {
   "cell_type": "code",
   "execution_count": 188,
   "id": "297b2cb4-5d38-4c8b-8615-55c4f29112a8",
   "metadata": {},
   "outputs": [
    {
     "name": "stdout",
     "output_type": "stream",
     "text": [
      "time: 691 µs (started: 2021-12-13 08:57:36 +00:00)\n"
     ]
    }
   ],
   "source": [
    "def faster_upload_df(df, index_name):\n",
    "    idCol = 'GEOID'\n",
    "    # updating_dict: a dict of all the data to be updated\n",
    "    updating_dict = df.to_json(orient = \"records\")\n",
    "    updating_dict = json.loads(updating_dict)\n",
    "    \n",
    "    # create an actiondf for all actions\n",
    "    actiondf = df[[idCol]].copy()\n",
    "    actiondf['_op_type'] = 'update'\n",
    "    actiondf['_index'] = index_name\n",
    "    actiondf['_id'] = actiondf[idCol]\n",
    "    actiondf['doc_as_upsert'] = True\n",
    "    actiondf['doc'] = updating_dict \n",
    "    actiondf.drop(idCol, axis = 1, inplace = True)\n",
    "    \n",
    "    udf = actiondf.to_json(orient = 'records')\n",
    "    # all actions\n",
    "    action_list = json.loads(udf) \n",
    "    print(f\"Start uploading {len(df)} records to {index_name}\")\n",
    "    helpers.bulk(es, action_list)\n",
    "    print(f\"Completed uploading {len(df)} records to {index_name}\")\n",
    "    "
   ]
  },
  {
   "cell_type": "code",
   "execution_count": 103,
   "id": "2479fd5f-1caf-4df1-ac8b-acb0719781de",
   "metadata": {
    "tags": []
   },
   "outputs": [
    {
     "name": "stdout",
     "output_type": "stream",
     "text": [
      "Start uploading 6507 records to nhat_test_1\n",
      "Completed uploading 6507 records to nhat_test_1\n",
      "time: 659 ms (started: 2021-12-13 07:12:08 +00:00)\n"
     ]
    }
   ],
   "source": [
    "# test upload \n",
    "test = es_df[['GEOID', 'parcelNumAddr']].copy()\n",
    "test['parcelNumAddr'] = 111\n",
    "index_name = 'nhat_test_1'\n",
    "# update_es_mapping(es, index_name)\n",
    "# upload_df: took 12 minute to upload to bossdata36; now faster_upload_df only takes 4min20 ; 2.5x faster!\n",
    "faster_upload_df(test, index_name) \n"
   ]
  },
  {
   "cell_type": "code",
   "execution_count": 190,
   "id": "94efdf9b-6ec1-46f2-9488-2affb6ae1a88",
   "metadata": {},
   "outputs": [
    {
     "data": {
      "text/plain": [
       "(329885, 7)"
      ]
     },
     "execution_count": 190,
     "metadata": {},
     "output_type": "execute_result"
    },
    {
     "name": "stdout",
     "output_type": "stream",
     "text": [
      "time: 1.91 ms (started: 2021-12-13 09:00:41 +00:00)\n"
     ]
    }
   ],
   "source": [
    "es_df.head()\n",
    "es_df.shape"
   ]
  },
  {
   "cell_type": "code",
   "execution_count": 191,
   "id": "c319f92b-7f17-4997-b84a-759c7acf7d09",
   "metadata": {},
   "outputs": [
    {
     "name": "stdout",
     "output_type": "stream",
     "text": [
      "updated index  bossdata26\n",
      "Start uploading 329885 records to bossdata26\n",
      "Completed uploading 329885 records to bossdata26\n",
      "time: 7min 11s (started: 2021-12-13 09:01:04 +00:00)\n"
     ]
    }
   ],
   "source": [
    "index_name = f'bossdata{statefips}'\n",
    "update_es_mapping(es, index_name)\n",
    "# # upload_df: took 12 minute to upload to bossdata36; now faster_upload_df only takes 4min20 ; 2.5x faster!\n",
    "# bossdata26: 7min\n",
    "faster_upload_df(es_df, index_name) \n"
   ]
  },
  {
   "cell_type": "code",
   "execution_count": 198,
   "id": "44d170d5-d6a4-423d-b18c-38bf9392a039",
   "metadata": {},
   "outputs": [
    {
     "name": "stdout",
     "output_type": "stream",
     "text": [
      "time: 335 ms (started: 2021-12-13 09:17:15 +00:00)\n"
     ]
    }
   ],
   "source": [
    "# save to file\n",
    "es_df.to_json(f'/home/nhat/temp/numAddr_{statefips}.json', orient='records')"
   ]
  },
  {
   "cell_type": "markdown",
   "id": "661f4ea4-af33-455b-97de-38da79d7bdb8",
   "metadata": {},
   "source": [
    "### f-string hidden gem"
   ]
  },
  {
   "cell_type": "code",
   "execution_count": 76,
   "id": "a36ee2fd-1032-4632-9529-bf64a3f806fd",
   "metadata": {},
   "outputs": [
    {
     "data": {
      "text/plain": [
       "\"Print both the variable and its value w/ '=' inside {}: x=10 and y=20\""
      ]
     },
     "execution_count": 76,
     "metadata": {},
     "output_type": "execute_result"
    },
    {
     "name": "stdout",
     "output_type": "stream",
     "text": [
      "time: 1.77 ms (started: 2021-12-11 01:54:06 +00:00)\n"
     ]
    }
   ],
   "source": [
    "x = 10\n",
    "y = 20\n",
    "f\"Print both the variable and its value w/ '=' inside {{}}: {x=} and {y=}\""
   ]
  },
  {
   "cell_type": "markdown",
   "id": "d16bd69b-33eb-44e9-8163-a4667707328f",
   "metadata": {},
   "source": [
    "### Examine the maximus cb"
   ]
  },
  {
   "cell_type": "code",
   "execution_count": 172,
   "id": "4ecd8bf1-1366-47f8-a4b7-d3b98fb85a22",
   "metadata": {},
   "outputs": [
    {
     "data": {
      "text/plain": [
       "<AxesSubplot:>"
      ]
     },
     "execution_count": 172,
     "metadata": {},
     "output_type": "execute_result"
    },
    {
     "data": {
      "image/png": "[encoded data removed]",
      "text/plain": [
       "<Figure size 432x288 with 1 Axes>"
      ]
     },
     "metadata": {
      "needs_background": "light"
     },
     "output_type": "display_data"
    },
    {
     "name": "stdout",
     "output_type": "stream",
     "text": [
      "time: 165 ms (started: 2021-12-09 20:51:15 +00:00)\n"
     ]
    }
   ],
   "source": [
    "# state_cb.iloc[state_cb['parcelNumAddr'].idxmax()] # GEOID = 361031583151007\n",
    "state_cb[state_cb['GEOID'] == '361031583151007'].plot()"
   ]
  },
  {
   "cell_type": "code",
   "execution_count": 171,
   "id": "96730beb-f44b-4b1e-a0ad-66afc373fef5",
   "metadata": {},
   "outputs": [
    {
     "data": {
      "text/plain": [
       "<AxesSubplot:>"
      ]
     },
     "execution_count": 171,
     "metadata": {},
     "output_type": "execute_result"
    },
    {
     "data": {
      "image/png": "[encoded data removed]",
      "text/plain": [
       "<Figure size 432x288 with 1 Axes>"
      ]
     },
     "metadata": {
      "needs_background": "light"
     },
     "output_type": "display_data"
    },
    {
     "name": "stdout",
     "output_type": "stream",
     "text": [
      "time: 518 ms (started: 2021-12-09 20:31:53 +00:00)\n"
     ]
    }
   ],
   "source": [
    "state_geodf[state_geodf['cbg'] == \"361031583151\"].plot()"
   ]
  },
  {
   "cell_type": "code",
   "execution_count": null,
   "id": "64a69c9a-334f-4388-8b14-b74a01dd271f",
   "metadata": {},
   "outputs": [],
   "source": []
  },
  {
   "cell_type": "code",
   "execution_count": null,
   "id": "cdd80bfb-10ef-492c-84a8-f1e14e9af98b",
   "metadata": {},
   "outputs": [],
   "source": []
  },
  {
   "cell_type": "markdown",
   "id": "df8e547b-70c7-499a-8b07-9e60e6d3616b",
   "metadata": {},
   "source": [
    "# Percentage of diff_cbg for 2 spatial joins: point (lat, lon) in polygon (census block geometry) -- e.g. VT diff_cbg = 14.54%, vs polygon (parcel geometry) in polygon (census block geometry)"
   ]
  },
  {
   "cell_type": "code",
   "execution_count": 279,
   "id": "a3526010-0ce0-48a6-a442-f803659c6d02",
   "metadata": {},
   "outputs": [
    {
     "data": {
      "text/plain": [
       "['/home/nhat/regrid-bucket/nh_belknap.geojson.zip',\n",
       " '/home/nhat/regrid-bucket/nh_carroll.geojson.zip',\n",
       " '/home/nhat/regrid-bucket/nh_cheshire.geojson.zip',\n",
       " '/home/nhat/regrid-bucket/nh_coos.geojson.zip',\n",
       " '/home/nhat/regrid-bucket/nh_grafton.geojson.zip',\n",
       " '/home/nhat/regrid-bucket/nh_hillsborough.geojson.zip',\n",
       " '/home/nhat/regrid-bucket/nh_merrimack.geojson.zip',\n",
       " '/home/nhat/regrid-bucket/nh_rockingham.geojson.zip',\n",
       " '/home/nhat/regrid-bucket/nh_strafford.geojson.zip',\n",
       " '/home/nhat/regrid-bucket/nh_sullivan.geojson.zip']"
      ]
     },
     "execution_count": 279,
     "metadata": {},
     "output_type": "execute_result"
    },
    {
     "name": "stdout",
     "output_type": "stream",
     "text": [
      "time: 524 ms (started: 2021-12-13 22:47:43 +00:00)\n"
     ]
    }
   ],
   "source": [
    "from subprocess import getoutput\n",
    "\n",
    "statefips = '33'\n",
    "state_jsons = None\n",
    "for statefips, abbr in [('33', 'nh')]:\n",
    "    state_abbrv = abbr.lower()\n",
    "    state_jsons = getoutput(f'ls /home/nhat/regrid-bucket/{state_abbrv}_*.zip').split()\n",
    "state_jsons"
   ]
  },
  {
   "cell_type": "code",
   "execution_count": 280,
   "id": "317dd243-b910-4516-afa5-ffa57edf82f3",
   "metadata": {},
   "outputs": [
    {
     "name": "stdout",
     "output_type": "stream",
     "text": [
      "state_df.shape=(764681, 6)\n",
      "time: 9min 17s (started: 2021-12-13 22:48:10 +00:00)\n"
     ]
    }
   ],
   "source": [
    "state_df = [] # 4 min read\n",
    "for jsonl in state_jsons:\n",
    "    df = gp.read_file(jsonl) \n",
    "    if not df.empty:\n",
    "        df = df[['census_blockgroup', 'lbcs_function', 'lat', 'lon', 'address', 'geometry']].copy()\n",
    "        df = df.rename(columns={'census_blockgroup': 'cbg', 'lbcs_function': 'func'})\n",
    "        df['cbg'] = df['cbg'].astype(str).str.zfill(BLOCKGROUP_FIPS_LENGTH)\n",
    "        df['func'] = (df['func'].fillna(0) // 1000).astype(int)\n",
    "        state_df.append(df)\n",
    "        \n",
    "state_df = pd.concat(state_df)\n",
    "print(f\"{state_df.shape=}\")"
   ]
  },
  {
   "cell_type": "code",
   "execution_count": 281,
   "id": "3f55eae6-88e5-4164-a43c-b68499293f1e",
   "metadata": {},
   "outputs": [
    {
     "name": "stdout",
     "output_type": "stream",
     "text": [
      "Reading Tiger shp statefips='33' STATE_FIPS_DICT_52[statefips]='NH'\n",
      "state_cb.shape=(48837, 3)\n",
      "time: 3.31 s (started: 2021-12-13 22:57:28 +00:00)\n"
     ]
    }
   ],
   "source": [
    "tiger_url = \"https://www2.census.gov/geo/tiger/TIGER2019/TABBLOCK/tl_2019_{}_tabblock10.zip\".format(statefips) \n",
    "print(f'Reading Tiger shp {statefips=} {STATE_FIPS_DICT_52[statefips]=}')\n",
    "state_cb = gp.read_file(tiger_url)\n",
    "state_cb = state_cb[['GEOID10', 'geometry']]\n",
    "state_cb = state_cb.rename({\"GEOID10\": \"GEOID\"}, axis = 1)\n",
    "state_cb['cbg'] = state_cb['GEOID'].str[:BLOCKGROUP_FIPS_LENGTH]\n",
    "print(f\"{state_cb.shape=}\")\n"
   ]
  },
  {
   "cell_type": "code",
   "execution_count": 283,
   "id": "98a69486-bffc-463d-aa30-46ed372386c2",
   "metadata": {},
   "outputs": [
    {
     "name": "stdout",
     "output_type": "stream",
     "text": [
      "Number of disowned parcels: disowned_parcels=42, 0.00549%\n",
      "Percentage of diff_cbg: 0.23 %\n",
      "time: 48.4 s (started: 2021-12-13 22:58:33 +00:00)\n"
     ]
    }
   ],
   "source": [
    "# point in polygon\n",
    "state_df_point = state_df[['cbg', 'lat', 'lon', 'func', 'address']].copy()\n",
    "state_df_point = gp.GeoDataFrame(state_df_point, geometry=gp.points_from_xy(state_df_point.lon, state_df_point.lat, crs=state_cb.crs)) \n",
    "state_df_point = gp.sjoin(state_df_point, state_cb, how='left', predicate='within')\n",
    "\n",
    "# DISOWNED PARCELS: parcels with (lat, lon) not found within state boundaries i.e. parcels w/o GEOID!\n",
    "disowned_parcels = state_df_point['GEOID'].isnull().sum() # 12\n",
    "print(f\"Number of disowned parcels: {disowned_parcels=}, {(disowned_parcels/state_df_point.shape[0] * 100) :.5f}%\")\n",
    "# DIFF_CBG\n",
    "diff_pointIP_cbg = state_df_point.loc[ state_df_point['cbg_left'] != state_df_point['cbg_right']]\n",
    "print(f\"Percentage of diff_cbg: {(diff_pointIP_cbg.shape[0] / len(state_df_point) * 100):.2f} %\")\n"
   ]
  },
  {
   "cell_type": "markdown",
   "id": "fbb5d5b7-a8c6-476c-b6f6-c4ae3b52dcd6",
   "metadata": {},
   "source": [
    "## Poly in poly"
   ]
  },
  {
   "cell_type": "code",
   "execution_count": 284,
   "id": "8e76de43-8d48-405e-82bc-65c7e921a65b",
   "metadata": {
    "tags": []
   },
   "outputs": [
    {
     "name": "stdout",
     "output_type": "stream",
     "text": [
      "time: 901 µs (started: 2021-12-13 22:59:22 +00:00)\n"
     ]
    }
   ],
   "source": [
    "def max_area_attr_join(left_df, right_df, id_col, attribute_col):\n",
    "    # IMPORTANT: for setting new id col to work!\n",
    "    # left_df as the original gdf\n",
    "    left_df = left_df.reset_index(drop=True)\n",
    "    left_df[id_col] = left_df.index\n",
    "\n",
    "    # attribute_col as the desired categorical output (from right_df) for each row (i.e. each ID) in left_df\n",
    "    # spatial overlay # https://geopandas.org/en/stable/docs/user_guide/set_operations.html#keep-geom-type-keyword\n",
    "    overlay = gp.overlay(left_df, right_df, how = 'intersection') \n",
    "    # to get area, overlay needs to have projected crs (vt_cb.crs = EPSG:4269 doesnt work)\n",
    "    overlay = overlay.to_crs(crs = \"EPSG:3857\") \n",
    "    overlay['area'] = overlay.area\n",
    "\n",
    "    # map id_col - max overlapping area\n",
    "    groupby = overlay.groupby(id_col)[['area']].max()\n",
    "    #add the column 'area' to the original gdf.\n",
    "    left_df = left_df.merge(groupby, left_on = id_col, right_index = True) \n",
    "\n",
    "    # drop extraneous columns from the joined gdf, keep the attribute_col\n",
    "    overlay = overlay[[id_col, attribute_col]].copy()\n",
    "\n",
    "    #merge the attribute column to the original gdf.\n",
    "    left_df = left_df.merge(overlay, on = id_col)\n",
    "    left_df['cbg_right'] = left_df['GEOID'].astype(str).str[:BLOCKGROUP_FIPS_LENGTH]\n",
    "    left_df = left_df.rename(columns={'cbg': 'cbg_left'})\n",
    "    \n",
    "    return left_df[['lat', 'lon', 'func', 'address' , 'GEOID', 'cbg_left', 'cbg_right']].copy()\n"
   ]
  },
  {
   "cell_type": "code",
   "execution_count": 285,
   "id": "77c18c29-e6a0-4079-878a-77fb172d5859",
   "metadata": {},
   "outputs": [
    {
     "name": "stdout",
     "output_type": "stream",
     "text": [
      "time: 6min 58s (started: 2021-12-13 22:59:22 +00:00)\n"
     ]
    }
   ],
   "source": [
    "# poly in polygon\n",
    "id_col = 'parcel_id'\n",
    "attribute_col = 'GEOID'\n",
    "state_df = state_df.set_crs(state_cb.crs, allow_override=True)\n",
    "state_df_polygon = max_area_attr_join(state_df, state_cb, id_col, attribute_col)"
   ]
  },
  {
   "cell_type": "code",
   "execution_count": 286,
   "id": "ee562103-40ed-40de-8c80-0a8bcb8b3510",
   "metadata": {},
   "outputs": [
    {
     "name": "stdout",
     "output_type": "stream",
     "text": [
      "Number of disowned parcels: disowned_parcels=0, 0.00000%\n",
      "Percentage of diff_cbg: 4.65 %\n",
      "time: 264 ms (started: 2021-12-13 23:06:20 +00:00)\n"
     ]
    }
   ],
   "source": [
    "# DISOWNED PARCELS: parcels with (lat, lon) not found within state boundaries i.e. parcels w/o GEOID!\n",
    "disowned_parcels = state_df_polygon['GEOID'].isnull().sum() # 12\n",
    "print(f\"Number of disowned parcels: {disowned_parcels=}, {(disowned_parcels/state_df_polygon.shape[0] * 100) :.5f}%\")\n",
    "# DIFF_CBG\n",
    "diff_polyIP_cbg = state_df_polygon.loc[ state_df_polygon['cbg_left'] != state_df_polygon['cbg_right']]\n",
    "print(f\"Percentage of diff_cbg: {(diff_polyIP_cbg.shape[0] / len(state_df_polygon) * 100):.2f} %\")"
   ]
  },
  {
   "cell_type": "code",
   "execution_count": null,
   "id": "d84acbe7-73bc-4e1d-81c4-d385025936c0",
   "metadata": {},
   "outputs": [],
   "source": [
    "## WHY IS THIS DIFFERENCE BETWEEN readfile(zip) and read_json(jq processed jsons)????? \n",
    "## ALSO: polygon in polygon: why diff_cbg != 0??\n",
    "##    maybe: REGRID does largest-overlapse joining between parcels and CENSUS BLOCK GROUP? (here I join largest-overlapse between parcels and CENSUS BLOCK)!\n",
    "\n",
    "# VERMONT\n",
    "# # geopandas.readfile(zip)\n",
    "# Number of disowned parcels: disowned_parcels=12, 0.00356%\n",
    "# Percentage of diff_cbg: 0.11 %\n",
    "# v.s. \n",
    "# # pandas.read_json(jq processed jsons)\n",
    "# Number of disowned parcels: disowned_parcels=6, 0.00188%\n",
    "# Percentage of diff_cbg: 14.54 %\n",
    "# # poly in poly\n",
    "# Number of disowned parcels: disowned_parcels=0, 0.00000%\n",
    "# Percentage of diff_cbg: 6.59 %\n",
    "\n",
    "## NEW HAMSHIRE\n",
    "# # geopandas.readfile(zip)\n",
    "# Number of disowned parcels: disowned_parcels=42, 0.00549%\n",
    "# Percentage of diff_cbg: 0.23 %\n",
    "# # pandas.read_json(jq processed jsons)\n",
    "# Number of disowned parcels: disowned_parcels=40, 0.00531%\n",
    "# Percentage of diff_cbg: 4.15 %\n",
    "# # polygon in polygon\n",
    "# Number of disowned parcels: disowned_parcels=0, 0.00000%\n",
    "# Percentage of diff_cbg: 4.65 %"
   ]
  },
  {
   "cell_type": "code",
   "execution_count": null,
   "id": "e7f61492-b255-42e7-bb39-549b3c185a62",
   "metadata": {},
   "outputs": [],
   "source": []
  },
  {
   "cell_type": "markdown",
   "id": "60cc9c87-e1ef-4c28-8797-f6b64bcbd956",
   "metadata": {},
   "source": [
    "### TESTING overlay"
   ]
  },
  {
   "cell_type": "code",
   "execution_count": null,
   "id": "1aedf80b-fd14-4a99-aea1-4893bbc90b0e",
   "metadata": {},
   "outputs": [],
   "source": [
    "from shapely import geometry"
   ]
  },
  {
   "cell_type": "code",
   "execution_count": 167,
   "id": "c369463b-effc-4774-b7a0-1f746aaf78ce",
   "metadata": {},
   "outputs": [
    {
     "data": {
      "text/html": [
       "<div>\n",
       "<style scoped>\n",
       "    .dataframe tbody tr th:only-of-type {\n",
       "        vertical-align: middle;\n",
       "    }\n",
       "\n",
       "    .dataframe tbody tr th {\n",
       "        vertical-align: top;\n",
       "    }\n",
       "\n",
       "    .dataframe thead th {\n",
       "        text-align: right;\n",
       "    }\n",
       "</style>\n",
       "<table border=\"1\" class=\"dataframe\">\n",
       "  <thead>\n",
       "    <tr style=\"text-align: right;\">\n",
       "      <th></th>\n",
       "      <th>block</th>\n",
       "      <th>building</th>\n",
       "      <th>geometry</th>\n",
       "    </tr>\n",
       "  </thead>\n",
       "  <tbody>\n",
       "    <tr>\n",
       "      <th>0</th>\n",
       "      <td>Block A</td>\n",
       "      <td>Building 1</td>\n",
       "      <td>POLYGON ((1.00000 1.00000, 2.00000 1.00000, 2....</td>\n",
       "    </tr>\n",
       "    <tr>\n",
       "      <th>1</th>\n",
       "      <td>Block A</td>\n",
       "      <td>Building 2</td>\n",
       "      <td>POLYGON ((4.00000 1.00000, 3.00000 1.00000, 3....</td>\n",
       "    </tr>\n",
       "    <tr>\n",
       "      <th>2</th>\n",
       "      <td>Block B</td>\n",
       "      <td>Building 2</td>\n",
       "      <td>POLYGON ((4.00000 3.00000, 6.00000 3.00000, 6....</td>\n",
       "    </tr>\n",
       "    <tr>\n",
       "      <th>3</th>\n",
       "      <td>Block A</td>\n",
       "      <td>Building 3</td>\n",
       "      <td>POLYGON ((1.00000 4.00000, 2.00000 4.00000, 2....</td>\n",
       "    </tr>\n",
       "  </tbody>\n",
       "</table>\n",
       "</div>"
      ],
      "text/plain": [
       "     block    building                                           geometry\n",
       "0  Block A  Building 1  POLYGON ((1.00000 1.00000, 2.00000 1.00000, 2....\n",
       "1  Block A  Building 2  POLYGON ((4.00000 1.00000, 3.00000 1.00000, 3....\n",
       "2  Block B  Building 2  POLYGON ((4.00000 3.00000, 6.00000 3.00000, 6....\n",
       "3  Block A  Building 3  POLYGON ((1.00000 4.00000, 2.00000 4.00000, 2...."
      ]
     },
     "execution_count": 167,
     "metadata": {},
     "output_type": "execute_result"
    },
    {
     "name": "stdout",
     "output_type": "stream",
     "text": [
      "time: 24.2 ms (started: 2021-12-13 20:30:32 +00:00)\n"
     ]
    }
   ],
   "source": [
    "fake_census = gp.GeoDataFrame([\n",
    "    {'block': 'Block A', 'geometry': geometry.box(1, 0, 4, 4)},\n",
    "    {'block': 'Block B', 'geometry': geometry.box(4, 0, 7, 4)}\n",
    "])\n",
    "\n",
    "fake_buildings = gp.GeoDataFrame([\n",
    "    {'building': 'Building 1', 'geometry': geometry.box(1, 0, 2, 1)},\n",
    "    {'building': 'Building 2', 'geometry': geometry.box(3, 1, 6, 3)},\n",
    "    {'building': 'Building 3', 'geometry': geometry.box(0, 3, 2, 5)},\n",
    "])\n",
    "\n",
    "overlaybd = gp.overlay(fake_census, fake_buildings)\n",
    "overlaybd"
   ]
  },
  {
   "cell_type": "code",
   "execution_count": 168,
   "id": "d9614ff5-168c-4454-80a0-7f2035682de6",
   "metadata": {},
   "outputs": [
    {
     "name": "stdout",
     "output_type": "stream",
     "text": [
      "time: 2.86 ms (started: 2021-12-13 20:30:56 +00:00)\n"
     ]
    }
   ],
   "source": [
    "overlaybd['area'] = overlaybd.area\n",
    "overlaybd = overlaybd.sort_values('area', ascending=False)"
   ]
  },
  {
   "cell_type": "code",
   "execution_count": 186,
   "id": "d736584f-1a31-4997-94c2-feef66e673bd",
   "metadata": {},
   "outputs": [
    {
     "data": {
      "text/plain": [
       "<AxesSubplot:>"
      ]
     },
     "execution_count": 186,
     "metadata": {},
     "output_type": "execute_result"
    },
    {
     "data": {
      "image/png": "[encoded data removed]",
      "text/plain": [
       "<Figure size 432x288 with 1 Axes>"
      ]
     },
     "metadata": {
      "needs_background": "light"
     },
     "output_type": "display_data"
    },
    {
     "name": "stdout",
     "output_type": "stream",
     "text": [
      "time: 95.6 ms (started: 2021-12-13 20:45:06 +00:00)\n"
     ]
    }
   ],
   "source": [
    "overlaybd.plot(alpha=0.5, edgecolor='k', cmap='tab10')"
   ]
  },
  {
   "cell_type": "code",
   "execution_count": 169,
   "id": "5ad98cfb-0b5d-49c2-81b7-c0ecf8fdb3f3",
   "metadata": {},
   "outputs": [
    {
     "data": {
      "text/html": [
       "<div>\n",
       "<style scoped>\n",
       "    .dataframe tbody tr th:only-of-type {\n",
       "        vertical-align: middle;\n",
       "    }\n",
       "\n",
       "    .dataframe tbody tr th {\n",
       "        vertical-align: top;\n",
       "    }\n",
       "\n",
       "    .dataframe thead th {\n",
       "        text-align: right;\n",
       "    }\n",
       "</style>\n",
       "<table border=\"1\" class=\"dataframe\">\n",
       "  <thead>\n",
       "    <tr style=\"text-align: right;\">\n",
       "      <th></th>\n",
       "      <th>block</th>\n",
       "      <th>geometry</th>\n",
       "      <th>area</th>\n",
       "    </tr>\n",
       "    <tr>\n",
       "      <th>building</th>\n",
       "      <th></th>\n",
       "      <th></th>\n",
       "      <th></th>\n",
       "    </tr>\n",
       "  </thead>\n",
       "  <tbody>\n",
       "    <tr>\n",
       "      <th>Building 1</th>\n",
       "      <td>Block A</td>\n",
       "      <td>POLYGON ((1.00000 1.00000, 2.00000 1.00000, 2....</td>\n",
       "      <td>1.0</td>\n",
       "    </tr>\n",
       "    <tr>\n",
       "      <th>Building 2</th>\n",
       "      <td>Block B</td>\n",
       "      <td>POLYGON ((4.00000 3.00000, 6.00000 3.00000, 6....</td>\n",
       "      <td>4.0</td>\n",
       "    </tr>\n",
       "    <tr>\n",
       "      <th>Building 3</th>\n",
       "      <td>Block A</td>\n",
       "      <td>POLYGON ((1.00000 4.00000, 2.00000 4.00000, 2....</td>\n",
       "      <td>1.0</td>\n",
       "    </tr>\n",
       "  </tbody>\n",
       "</table>\n",
       "</div>"
      ],
      "text/plain": [
       "              block                                           geometry  area\n",
       "building                                                                    \n",
       "Building 1  Block A  POLYGON ((1.00000 1.00000, 2.00000 1.00000, 2....   1.0\n",
       "Building 2  Block B  POLYGON ((4.00000 3.00000, 6.00000 3.00000, 6....   4.0\n",
       "Building 3  Block A  POLYGON ((1.00000 4.00000, 2.00000 4.00000, 2....   1.0"
      ]
     },
     "execution_count": 169,
     "metadata": {},
     "output_type": "execute_result"
    },
    {
     "name": "stdout",
     "output_type": "stream",
     "text": [
      "time: 9.88 ms (started: 2021-12-13 20:31:02 +00:00)\n"
     ]
    }
   ],
   "source": [
    "overlaybd.groupby('building').first()"
   ]
  },
  {
   "cell_type": "code",
   "execution_count": null,
   "id": "4eaea614-7437-4ed2-a5eb-59a864efe62d",
   "metadata": {},
   "outputs": [],
   "source": []
  }
 ],
 "metadata": {
  "kernelspec": {
   "display_name": "Python 3 (ipykernel)",
   "language": "python",
   "name": "python3"
  },
  "language_info": {
   "codemirror_mode": {
    "name": "ipython",
    "version": 3
   },
   "file_extension": ".py",
   "mimetype": "text/x-python",
   "name": "python",
   "nbconvert_exporter": "python",
   "pygments_lexer": "ipython3",
   "version": "3.9.7"
  }
 },
 "nbformat": 4,
 "nbformat_minor": 5
}
