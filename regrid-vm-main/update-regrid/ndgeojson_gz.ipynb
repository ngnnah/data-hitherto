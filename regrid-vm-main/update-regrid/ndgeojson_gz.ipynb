{
 "cells": [
  {
   "cell_type": "code",
   "execution_count": null,
   "id": "a6696d53-2666-46e7-be35-28ff63b42782",
   "metadata": {},
   "outputs": [],
   "source": [
    "# Regrid has PR, VI, GU, MP; and no AS, UM"
   ]
  },
  {
   "cell_type": "code",
   "execution_count": 12,
   "id": "a857c6b3-05c4-492a-b803-e1feccfd78f6",
   "metadata": {
    "execution": {
     "iopub.execute_input": "2022-05-19T20:52:00.938595Z",
     "iopub.status.busy": "2022-05-19T20:52:00.938287Z",
     "iopub.status.idle": "2022-05-19T20:52:02.294618Z",
     "shell.execute_reply": "2022-05-19T20:52:02.294167Z",
     "shell.execute_reply.started": "2022-05-19T20:52:00.938572Z"
    },
    "tags": []
   },
   "outputs": [],
   "source": [
    "# REGRID_PARCEL_COLS = ['pid', 'lat', 'lon', 'addr', 'cbg', 'activity', 'function', 'structure', 'dpv', 'dpv_type', 'rdi', 'building_count', 'footprint']\n",
    "# import ijson.backends.yajl2_c as ijson\n",
    "# import pandas as pd\n",
    "\n",
    "# import gzip\n",
    "# import geopandas as gp\n",
    "# with gzip.open(\"/home/nhat/dekent/denali.json.gz\", 'r') as fin:\n",
    "#     df = gp.read_file(fin)\n",
    "\n",
    "# input_file = f\"ak_{d['ak'][0]}.shp.zip\"\n",
    "# with open(input_file, 'rb') as file:\n",
    "#     properties = ijson.items(file, 'features.item.properties')"
   ]
  },
  {
   "cell_type": "code",
   "execution_count": 10,
   "id": "bb2146a3-f06f-42e8-b724-e723637cbf14",
   "metadata": {
    "execution": {
     "iopub.execute_input": "2022-05-26T16:20:04.630237Z",
     "iopub.status.busy": "2022-05-26T16:20:04.629950Z",
     "iopub.status.idle": "2022-05-26T16:20:16.716504Z",
     "shell.execute_reply": "2022-05-26T16:20:16.716099Z",
     "shell.execute_reply.started": "2022-05-26T16:20:04.630214Z"
    },
    "tags": []
   },
   "outputs": [],
   "source": [
    "from glob import glob\n",
    "\n",
    "SF57 = {'01': 'AL', '02': 'AK', '04': 'AZ', '05': 'AR', '06': 'CA', '08': 'CO', '09': 'CT', '10': 'DE', '11': 'DC', '12': 'FL', '13': 'GA', '15': 'HI', '16': 'ID', '17': 'IL', '18': 'IN', '19': 'IA', '20': 'KS', '21': 'KY', '22': 'LA', '23': 'ME', '24': 'MD', '25': 'MA', '26': 'MI', '27': 'MN', '28': 'MS', '29': 'MO', '30': 'MT', '31': 'NE', '32': 'NV', '33': 'NH', '34': 'NJ', '35': 'NM', '36': 'NY', '37': 'NC', '38': 'ND', '39': 'OH', '40': 'OK', '41': 'OR', '42': 'PA', '44': 'RI', '45': 'SC', '46': 'SD', '47': 'TN', '48': 'TX', '49': 'UT', '50': 'VT', '51': 'VA', '53': 'WA', '54': 'WV', '55': 'WI', '56': 'WY', '60': 'AS', '66': 'GU', '69': 'MP', '72': 'PR', '74': 'UM', '78': 'VI'}\n",
    "SF57R = {value : key for (key, value) in SF57.items()}\n",
    "\n",
    "# Create file for parallel tippecanoe tiling commands\n",
    "bucket = '/home/nhat/regrid-bucket/'\n",
    "d = {}\n",
    "tippecanoeCmds = []\n",
    "for sf in SF57R:\n",
    "    sf = sf.lower()\n",
    "    stems = glob(f\"{bucket}{sf}*.ndgeojson.gz\")\n",
    "    d[sf] = stems\n",
    "    \n",
    "    if len(stems) == 0:\n",
    "        print(\"NO PARCEL IN \", sf)\n",
    "    else:\n",
    "        # # just the stem, no path\n",
    "        # stems = [stem.split('/')[-1].split('.')[0][3:] for stem in stems]\n",
    "        mbtile_name = f\"parcels_{sf}\"\n",
    "        # assemble the command\n",
    "        # If your input is formatted as newline-delimited GeoJSON, use -P to make input parsing a lot faster.\n",
    "        tippecanoeCmd = \"/usr/local/bin/tippecanoe -zg -Z10 -P --extend-zooms-if-still-dropping --drop-densest-as-needed \"\n",
    "        tippecanoeCmd += f\"--force -o  /home/nhat/update-regrid/data/{mbtile_name}.mbtiles -l {mbtile_name} \"\n",
    "        tippecanoeCmd += \"-y ll_uuid -y county -y ll_bldg_count -y lbcs_function -y lbcs_activity -y lbcs_structure -y usedesc -y rdi -y dpv_type -y owner -y address -y address2 -y scity -y szip \"\n",
    "        tippecanoeCmd = tippecanoeCmd.split()\n",
    "        tippecanoeCmd += stems\n",
    "        tippecanoeCmds.append(\" \".join(tippecanoeCmd))\n",
    "        \n",
    "    with open('monthly_tippecanoe.txt', 'w') as f:\n",
    "        f.writelines('\\n'.join(tippecanoeCmds))\n"
   ]
  },
  {
   "cell_type": "code",
   "execution_count": null,
   "id": "54ba6ef1-379e-490f-b879-7e40bc871448",
   "metadata": {},
   "outputs": [],
   "source": [
    "# RUN: rm /home/nhat/update-regrid/mbtiles.log && bash /home/nhat/update-regrid/cron.bash\n",
    "# which runs mbtiles.bash (which run parallel commands inside monthly_tippecanoe.txt)"
   ]
  },
  {
   "cell_type": "code",
   "execution_count": 19,
   "id": "9a96446c-f79c-4cc7-ba52-f3fcb76de14c",
   "metadata": {
    "execution": {
     "iopub.execute_input": "2022-05-26T16:47:04.739223Z",
     "iopub.status.busy": "2022-05-26T16:47:04.738916Z",
     "iopub.status.idle": "2022-05-26T16:47:04.751546Z",
     "shell.execute_reply": "2022-05-26T16:47:04.750732Z",
     "shell.execute_reply.started": "2022-05-26T16:47:04.739189Z"
    },
    "tags": []
   },
   "outputs": [
    {
     "name": "stdout",
     "output_type": "stream",
     "text": [
      "\"parcels_al\" : { \"mbtiles\": \"parcels_al.mbtiles\" },\n",
      "\"parcels_ak\" : { \"mbtiles\": \"parcels_ak.mbtiles\" },\n",
      "\"parcels_az\" : { \"mbtiles\": \"parcels_az.mbtiles\" },\n",
      "\"parcels_ar\" : { \"mbtiles\": \"parcels_ar.mbtiles\" },\n",
      "\"parcels_ca\" : { \"mbtiles\": \"parcels_ca.mbtiles\" },\n",
      "\"parcels_co\" : { \"mbtiles\": \"parcels_co.mbtiles\" },\n",
      "\"parcels_ct\" : { \"mbtiles\": \"parcels_ct.mbtiles\" },\n",
      "\"parcels_de\" : { \"mbtiles\": \"parcels_de.mbtiles\" },\n",
      "\"parcels_dc\" : { \"mbtiles\": \"parcels_dc.mbtiles\" },\n",
      "\"parcels_fl\" : { \"mbtiles\": \"parcels_fl.mbtiles\" },\n",
      "\"parcels_ga\" : { \"mbtiles\": \"parcels_ga.mbtiles\" },\n",
      "\"parcels_hi\" : { \"mbtiles\": \"parcels_hi.mbtiles\" },\n",
      "\"parcels_id\" : { \"mbtiles\": \"parcels_id.mbtiles\" },\n",
      "\"parcels_il\" : { \"mbtiles\": \"parcels_il.mbtiles\" },\n",
      "\"parcels_in\" : { \"mbtiles\": \"parcels_in.mbtiles\" },\n",
      "\"parcels_ia\" : { \"mbtiles\": \"parcels_ia.mbtiles\" },\n",
      "\"parcels_ks\" : { \"mbtiles\": \"parcels_ks.mbtiles\" },\n",
      "\"parcels_ky\" : { \"mbtiles\": \"parcels_ky.mbtiles\" },\n",
      "\"parcels_la\" : { \"mbtiles\": \"parcels_la.mbtiles\" },\n",
      "\"parcels_me\" : { \"mbtiles\": \"parcels_me.mbtiles\" },\n",
      "\"parcels_md\" : { \"mbtiles\": \"parcels_md.mbtiles\" },\n",
      "\"parcels_ma\" : { \"mbtiles\": \"parcels_ma.mbtiles\" },\n",
      "\"parcels_mi\" : { \"mbtiles\": \"parcels_mi.mbtiles\" },\n",
      "\"parcels_mn\" : { \"mbtiles\": \"parcels_mn.mbtiles\" },\n",
      "\"parcels_ms\" : { \"mbtiles\": \"parcels_ms.mbtiles\" },\n",
      "\"parcels_mo\" : { \"mbtiles\": \"parcels_mo.mbtiles\" },\n",
      "\"parcels_mt\" : { \"mbtiles\": \"parcels_mt.mbtiles\" },\n",
      "\"parcels_ne\" : { \"mbtiles\": \"parcels_ne.mbtiles\" },\n",
      "\"parcels_nv\" : { \"mbtiles\": \"parcels_nv.mbtiles\" },\n",
      "\"parcels_nh\" : { \"mbtiles\": \"parcels_nh.mbtiles\" },\n",
      "\"parcels_nj\" : { \"mbtiles\": \"parcels_nj.mbtiles\" },\n",
      "\"parcels_nm\" : { \"mbtiles\": \"parcels_nm.mbtiles\" },\n",
      "\"parcels_ny\" : { \"mbtiles\": \"parcels_ny.mbtiles\" },\n",
      "\"parcels_nc\" : { \"mbtiles\": \"parcels_nc.mbtiles\" },\n",
      "\"parcels_nd\" : { \"mbtiles\": \"parcels_nd.mbtiles\" },\n",
      "\"parcels_oh\" : { \"mbtiles\": \"parcels_oh.mbtiles\" },\n",
      "\"parcels_ok\" : { \"mbtiles\": \"parcels_ok.mbtiles\" },\n",
      "\"parcels_or\" : { \"mbtiles\": \"parcels_or.mbtiles\" },\n",
      "\"parcels_pa\" : { \"mbtiles\": \"parcels_pa.mbtiles\" },\n",
      "\"parcels_ri\" : { \"mbtiles\": \"parcels_ri.mbtiles\" },\n",
      "\"parcels_sc\" : { \"mbtiles\": \"parcels_sc.mbtiles\" },\n",
      "\"parcels_sd\" : { \"mbtiles\": \"parcels_sd.mbtiles\" },\n",
      "\"parcels_tn\" : { \"mbtiles\": \"parcels_tn.mbtiles\" },\n",
      "\"parcels_tx\" : { \"mbtiles\": \"parcels_tx.mbtiles\" },\n",
      "\"parcels_ut\" : { \"mbtiles\": \"parcels_ut.mbtiles\" },\n",
      "\"parcels_vt\" : { \"mbtiles\": \"parcels_vt.mbtiles\" },\n",
      "\"parcels_va\" : { \"mbtiles\": \"parcels_va.mbtiles\" },\n",
      "\"parcels_wa\" : { \"mbtiles\": \"parcels_wa.mbtiles\" },\n",
      "\"parcels_wv\" : { \"mbtiles\": \"parcels_wv.mbtiles\" },\n",
      "\"parcels_wi\" : { \"mbtiles\": \"parcels_wi.mbtiles\" },\n",
      "\"parcels_wy\" : { \"mbtiles\": \"parcels_wy.mbtiles\" },\n",
      "\"parcels_as\" : { \"mbtiles\": \"parcels_as.mbtiles\" },\n",
      "\"parcels_gu\" : { \"mbtiles\": \"parcels_gu.mbtiles\" },\n",
      "\"parcels_mp\" : { \"mbtiles\": \"parcels_mp.mbtiles\" },\n",
      "\"parcels_pr\" : { \"mbtiles\": \"parcels_pr.mbtiles\" },\n",
      "\"parcels_um\" : { \"mbtiles\": \"parcels_um.mbtiles\" },\n",
      "\"parcels_vi\" : { \"mbtiles\": \"parcels_vi.mbtiles\" },\n"
     ]
    }
   ],
   "source": [
    "# NOTE: rm AS and UM rows (no regrid/mbtiles available)\n",
    "for sf in SF57R:\n",
    "    sf = sf.lower()\n",
    "    print(f'\"parcels_{sf}\" : {{ \"mbtiles\": \"parcels_{sf}.mbtiles\" }},')"
   ]
  },
  {
   "cell_type": "code",
   "execution_count": null,
   "id": "1fbf0640-898d-4bdf-8156-cab1b7277937",
   "metadata": {},
   "outputs": [],
   "source": []
  }
 ],
 "metadata": {
  "kernelspec": {
   "display_name": "Python 3 (ipykernel)",
   "language": "python",
   "name": "python3"
  },
  "language_info": {
   "codemirror_mode": {
    "name": "ipython",
    "version": 3
   },
   "file_extension": ".py",
   "mimetype": "text/x-python",
   "name": "python",
   "nbconvert_exporter": "python",
   "pygments_lexer": "ipython3",
   "version": "3.9.7"
  }
 },
 "nbformat": 4,
 "nbformat_minor": 5
}
