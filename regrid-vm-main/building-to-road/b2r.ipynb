{
 "cells": [
  {
   "cell_type": "markdown",
   "id": "515cf572-296a-4441-a239-679b6541ac1f",
   "metadata": {},
   "source": [
    "# NOTE: data is updated every day/week"
   ]
  },
  {
   "cell_type": "markdown",
   "id": "495c068c-841f-4fe0-9ebe-c87287ebc1f5",
   "metadata": {},
   "source": [
    "### Set up cron job to download and extract data daily"
   ]
  },
  {
   "cell_type": "code",
   "execution_count": null,
   "id": "4ebcd970-44b6-4275-b293-3695fe65b0e2",
   "metadata": {},
   "outputs": [],
   "source": [
    "https://download.geofabrik.de/north-america/us.html\n"
   ]
  },
  {
   "cell_type": "code",
   "execution_count": null,
   "id": "ca699828-1b0a-4096-bc1a-20cc83b9be67",
   "metadata": {},
   "outputs": [],
   "source": [
    "# OSRM\n",
    "# snap GPS coords to road\n",
    "\n",
    "# e.g. DC\n",
    "http://download.geofabrik.de/north-america/us/district-of-columbia-latest.osm.pbf\n"
   ]
  },
  {
   "cell_type": "code",
   "execution_count": null,
   "id": "e2e0212e-aa72-41a3-a812-492ff065e816",
   "metadata": {},
   "outputs": [],
   "source": [
    "docker run -t -v \"${PWD}:/data\" osrm/osrm-backend osrm-extract -p /opt/car.lua /data/district-of-columbia-latest.osm.pbf\n",
    "\n",
    "# NOTE FILE EXTENSION\n",
    "docker run -t -v \"${PWD}:/data\" osrm/osrm-backend osrm-partition /data/district-of-columbia-latest.osrm\n",
    "docker run -t -v \"${PWD}:/data\" osrm/osrm-backend osrm-customize /data/district-of-columbia-latest.osrm\n",
    "\n",
    "# Start routing engine HTTP server on port\n",
    "# publish the container port (5000) to the host port (7000) so the container can communicate with  the “outside world”. NOTE: remember to allow HTTP connection (add Firewall rule) at tcp:7000\n",
    "docker run -d --rm -p 7000:5000 --name osrm -v \"/home/nhat/allocation/building-to-road:/data\" osrm/osrm-backend osrm-routed --algorithm mld /data/district-of-columbia-latest.osrm\n",
    "# docker run -d --rm -p 7000:5000 --name osrm -v \"${PWD}:/data\" osrm/osrm-backend osrm-routed --algorithm mld /data/district-of-columbia-latest.osrm\n",
    "# docker run -d --rm -p 7001:5000 --name osrm1 -v \"/home/nhat/allocation/building-to-road:/data\" osrm/osrm-backend osrm-routed --algorithm mld /data/district-of-columbia-latest.osrm\n",
    "# docker run -t -i -p 7000:5000 -v \"${PWD}:/data\" osrm/osrm-backend osrm-routed --algorithm mld /data/district-of-columbia-latest.osrm\n",
    "\n"
   ]
  },
  {
   "cell_type": "code",
   "execution_count": null,
   "id": "e179ab34-604b-40cd-91d1-39a6164b3800",
   "metadata": {},
   "outputs": [],
   "source": [
    "# coordinates {long}{lat}\n",
    "-77.05019790313297,38.889425332914655 # lincoln memorial\n",
    "-77.03660359320139,38.89709174367345 # white house"
   ]
  },
  {
   "cell_type": "code",
   "execution_count": null,
   "id": "262a65bd-d406-4fe8-b0b1-c1b9d6e7e9b0",
   "metadata": {},
   "outputs": [],
   "source": [
    "# Make requests against the HTTP server\n",
    "curl \"http://35.223.14.85:7000/route/v1/driving/-77.05019790313297,38.889425332914655;-77.03660359320139,38.89709174367345?overview=false\"\n",
    "curl \"http://35.223.14.85:7000/route/v1/driving/-77.05019790313297,38.889425332914655;-77.03660359320139,38.89709174367345?steps=true\"\n"
   ]
  },
  {
   "cell_type": "code",
   "execution_count": 43,
   "id": "86f40980-41f2-4036-8a33-a679cd419121",
   "metadata": {},
   "outputs": [
    {
     "name": "stdout",
     "output_type": "stream",
     "text": [
      "[-77.050262, 38.890174] 83.332448\n"
     ]
    }
   ],
   "source": [
    "import requests\n",
    "# GCE's OSRM backend is accepting requests at VM external IP, port 7000\n",
    "# NEAREST request\n",
    "url = \"http://35.223.14.85:7000/nearest/v1/driving/-77.05019790313297,38.889425332914655\"\n",
    "r = requests.get(url)\n",
    "res = r.json()\n",
    "if res['code'] == 'Ok':\n",
    "    nearest_loc, dis = res['waypoints'][0]['location'], res['waypoints'][0]['distance']\n",
    "    # DISTANCES are in METER. Confirmed, using https://www.movable-type.co.uk/scripts/latlong.html\n",
    "    print(nearest_loc, dis)"
   ]
  },
  {
   "cell_type": "code",
   "execution_count": 13,
   "id": "d5d12afd-c047-4c7c-9938-8916740dfe6b",
   "metadata": {},
   "outputs": [],
   "source": [
    "\n",
    "# import polyline\n",
    "# polyline.decode('qvjlFb{guMB{CyIqGm@I?st@wq@E@gHrQ@')"
   ]
  },
  {
   "cell_type": "code",
   "execution_count": null,
   "id": "a043537c-e04f-46f1-9d6c-6f0e5986aa24",
   "metadata": {},
   "outputs": [],
   "source": []
  }
 ],
 "metadata": {
  "kernelspec": {
   "display_name": "Python 3 (ipykernel)",
   "language": "python",
   "name": "python3"
  },
  "language_info": {
   "codemirror_mode": {
    "name": "ipython",
    "version": 3
   },
   "file_extension": ".py",
   "mimetype": "text/x-python",
   "name": "python",
   "nbconvert_exporter": "python",
   "pygments_lexer": "ipython3",
   "version": "3.9.7"
  }
 },
 "nbformat": 4,
 "nbformat_minor": 5
}
